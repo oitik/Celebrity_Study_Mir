{
 "cells": [
  {
   "cell_type": "code",
   "execution_count": 1,
   "id": "b47c3c53",
   "metadata": {
    "_cell_guid": "b1076dfc-b9ad-4769-8c92-a6c4dae69d19",
    "_uuid": "8f2839f25d086af736a60e9eeb907d3b93b6e0e5",
    "execution": {
     "iopub.execute_input": "2024-06-12T18:31:45.545371Z",
     "iopub.status.busy": "2024-06-12T18:31:45.544993Z",
     "iopub.status.idle": "2024-06-12T18:31:48.276705Z",
     "shell.execute_reply": "2024-06-12T18:31:48.275605Z"
    },
    "papermill": {
     "duration": 2.771622,
     "end_time": "2024-06-12T18:31:48.279559",
     "exception": false,
     "start_time": "2024-06-12T18:31:45.507937",
     "status": "completed"
    },
    "tags": []
   },
   "outputs": [],
   "source": [
    "# Regular EDA(exploratory data analysis) and plotting libraries\n",
    "import numpy as np\n",
    "import pandas as pd\n",
    "import matplotlib.pyplot as plt\n",
    "\n",
    "from sklearn.model_selection import train_test_split\n",
    "%matplotlib inline\n",
    "\n",
    "from tqdm import tqdm\n",
    "import string\n",
    "import statistics\n",
    "import re\n",
    "import joblib\n",
    "import random\n",
    "import statistics\n",
    "from collections import Counter\n",
    "from scipy import stats\n",
    "import os\n",
    "\n",
    "# import seaborn as sns\n",
    "from mpl_toolkits.mplot3d import Axes3D\n",
    "from sklearn.metrics.pairwise import cosine_similarity\n",
    "import zipfile\n",
    "from wordcloud import WordCloud\n",
    "from matplotlib.lines import Line2D"
   ]
  },
  {
   "cell_type": "code",
   "execution_count": 2,
   "id": "e4f24130",
   "metadata": {
    "execution": {
     "iopub.execute_input": "2024-06-12T18:31:48.351532Z",
     "iopub.status.busy": "2024-06-12T18:31:48.350397Z",
     "iopub.status.idle": "2024-06-12T18:31:48.403908Z",
     "shell.execute_reply": "2024-06-12T18:31:48.402402Z"
    },
    "papermill": {
     "duration": 0.092979,
     "end_time": "2024-06-12T18:31:48.407100",
     "exception": false,
     "start_time": "2024-06-12T18:31:48.314121",
     "status": "completed"
    },
    "tags": []
   },
   "outputs": [
    {
     "name": "stdout",
     "output_type": "stream",
     "text": [
      "category\n",
      "mir soho     304\n",
      "mir chara    168\n",
      "mirerthek     62\n",
      "Name: count, dtype: int64\n",
      "62 304 168\n"
     ]
    }
   ],
   "source": [
    "# Import the Data\n",
    "mir_link_id = pd.read_csv('/kaggle/input/media-study/mir_afsar_ali_yt_links - Sheet1.csv')\n",
    "\n",
    "\n",
    "def extract_video_id(url):\n",
    "    # Regular expression pattern to match YouTube video IDs\n",
    "    pattern = r'(?:youtube\\.com\\/(?:[^\\/\\n\\s]+\\/\\S+\\/|(?:v|e(?:mbed)?)\\/|\\S*?[?&]v=)|youtu\\.be\\/)([a-zA-Z0-9_-]{11})'\n",
    "\n",
    "    # Search for the video ID in the URL\n",
    "    match = re.search(pattern, url)\n",
    "\n",
    "    if match:\n",
    "        return match.group(1)  # Return the matched video ID\n",
    "    else:\n",
    "        return None  # Return None if no match found\n",
    "\n",
    "# Example URLs\n",
    "urls = mir_link_id['yt_link']\n",
    "\n",
    "video_ids = [extract_video_id(url) for url in urls]\n",
    "mir_link_id['video_id'] = video_ids\n",
    "\n",
    "print(mir_link_id.category.value_counts())\n",
    "\n",
    "\n",
    "mirer_thek_vids = mir_link_id[mir_link_id['category'] == 'mirerthek']['video_id'].tolist()\n",
    "mir_soho_vids = mir_link_id[mir_link_id['category'] == 'mir soho']['video_id'].tolist()\n",
    "mir_chara_vids = mir_link_id[mir_link_id['category'] == 'mir chara']['video_id'].tolist()\n",
    "\n",
    "print(f'{len(mirer_thek_vids)} {len(mir_soho_vids)} {len(mir_chara_vids)}')"
   ]
  },
  {
   "cell_type": "code",
   "execution_count": 3,
   "id": "7462c1f9",
   "metadata": {
    "execution": {
     "iopub.execute_input": "2024-06-12T18:31:48.482454Z",
     "iopub.status.busy": "2024-06-12T18:31:48.481433Z",
     "iopub.status.idle": "2024-06-12T18:31:48.490010Z",
     "shell.execute_reply": "2024-06-12T18:31:48.488731Z"
    },
    "papermill": {
     "duration": 0.047371,
     "end_time": "2024-06-12T18:31:48.492855",
     "exception": false,
     "start_time": "2024-06-12T18:31:48.445484",
     "status": "completed"
    },
    "tags": []
   },
   "outputs": [
    {
     "name": "stdout",
     "output_type": "stream",
     "text": [
      "202\n"
     ]
    }
   ],
   "source": [
    "print(len(set(mir_soho_vids)))"
   ]
  },
  {
   "cell_type": "code",
   "execution_count": 4,
   "id": "5d0662d1",
   "metadata": {
    "execution": {
     "iopub.execute_input": "2024-06-12T18:31:48.570688Z",
     "iopub.status.busy": "2024-06-12T18:31:48.570234Z",
     "iopub.status.idle": "2024-06-12T18:31:48.613539Z",
     "shell.execute_reply": "2024-06-12T18:31:48.612287Z"
    },
    "papermill": {
     "duration": 0.084408,
     "end_time": "2024-06-12T18:31:48.615982",
     "exception": false,
     "start_time": "2024-06-12T18:31:48.531574",
     "status": "completed"
    },
    "tags": []
   },
   "outputs": [
    {
     "name": "stdout",
     "output_type": "stream",
     "text": [
      "(246, 9) (180, 9) (70, 9)\n"
     ]
    }
   ],
   "source": [
    "dfc = pd.read_csv('/kaggle/input/media-study2-0/final_video_info/mir_chara_vif.csv')\n",
    "dfs = pd.read_csv('/kaggle/input/media-study2-0/final_video_info/mir_soho_vif.csv')\n",
    "dft = pd.read_csv('/kaggle/input/media-study2-0/final_video_info/mirer_thek_vif.csv')\n",
    "\n",
    "print(f'{dfc.shape} {dfs.shape} {dft.shape}')"
   ]
  },
  {
   "cell_type": "markdown",
   "id": "f5070823",
   "metadata": {
    "papermill": {
     "duration": 0.034331,
     "end_time": "2024-06-12T18:31:48.685354",
     "exception": false,
     "start_time": "2024-06-12T18:31:48.651023",
     "status": "completed"
    },
    "tags": []
   },
   "source": [
    "## Mir Chara Sunday Suspense"
   ]
  },
  {
   "cell_type": "code",
   "execution_count": 5,
   "id": "a0810fa5",
   "metadata": {
    "execution": {
     "iopub.execute_input": "2024-06-12T18:31:48.756479Z",
     "iopub.status.busy": "2024-06-12T18:31:48.756012Z",
     "iopub.status.idle": "2024-06-12T18:31:57.136918Z",
     "shell.execute_reply": "2024-06-12T18:31:57.135685Z"
    },
    "papermill": {
     "duration": 8.419894,
     "end_time": "2024-06-12T18:31:57.139927",
     "exception": false,
     "start_time": "2024-06-12T18:31:48.720033",
     "status": "completed"
    },
    "tags": []
   },
   "outputs": [
    {
     "name": "stdout",
     "output_type": "stream",
     "text": [
      "Length of Mir Chara Comments is (201633, 6)\n",
      "Length of Mir Chara live chat is (343125, 4)\n",
      "Total Videos Scraped 245\n"
     ]
    },
    {
     "data": {
      "text/html": [
       "<div>\n",
       "<style scoped>\n",
       "    .dataframe tbody tr th:only-of-type {\n",
       "        vertical-align: middle;\n",
       "    }\n",
       "\n",
       "    .dataframe tbody tr th {\n",
       "        vertical-align: top;\n",
       "    }\n",
       "\n",
       "    .dataframe thead th {\n",
       "        text-align: right;\n",
       "    }\n",
       "</style>\n",
       "<table border=\"1\" class=\"dataframe\">\n",
       "  <thead>\n",
       "    <tr style=\"text-align: right;\">\n",
       "      <th></th>\n",
       "      <th>author</th>\n",
       "      <th>published_date</th>\n",
       "      <th>published_time</th>\n",
       "      <th>like_count</th>\n",
       "      <th>text</th>\n",
       "      <th>video_id</th>\n",
       "    </tr>\n",
       "  </thead>\n",
       "  <tbody>\n",
       "    <tr>\n",
       "      <th>0</th>\n",
       "      <td>@skmdimran852</td>\n",
       "      <td>2024-05-21</td>\n",
       "      <td>03:45:59Z</td>\n",
       "      <td>0</td>\n",
       "      <td>❤❤❤</td>\n",
       "      <td>SgqeN_FUprg</td>\n",
       "    </tr>\n",
       "    <tr>\n",
       "      <th>1</th>\n",
       "      <td>@tanvirhaquekhan6061</td>\n",
       "      <td>2024-05-20</td>\n",
       "      <td>14:25:10Z</td>\n",
       "      <td>0</td>\n",
       "      <td>সত্যজিত রায়ের মতো এমন দূরদর্শী মানুষ হাজার বছর...</td>\n",
       "      <td>SgqeN_FUprg</td>\n",
       "    </tr>\n",
       "    <tr>\n",
       "      <th>2</th>\n",
       "      <td>@MohammadArman-ob1id</td>\n",
       "      <td>2024-05-20</td>\n",
       "      <td>12:12:24Z</td>\n",
       "      <td>0</td>\n",
       "      <td>Mitryur porer abostha toh bollen na keno ami j...</td>\n",
       "      <td>SgqeN_FUprg</td>\n",
       "    </tr>\n",
       "  </tbody>\n",
       "</table>\n",
       "</div>"
      ],
      "text/plain": [
       "                 author published_date published_time  like_count  \\\n",
       "0         @skmdimran852     2024-05-21      03:45:59Z           0   \n",
       "1  @tanvirhaquekhan6061     2024-05-20      14:25:10Z           0   \n",
       "2  @MohammadArman-ob1id     2024-05-20      12:12:24Z           0   \n",
       "\n",
       "                                                text     video_id  \n",
       "0                                                ❤❤❤  SgqeN_FUprg  \n",
       "1  সত্যজিত রায়ের মতো এমন দূরদর্শী মানুষ হাজার বছর...  SgqeN_FUprg  \n",
       "2  Mitryur porer abostha toh bollen na keno ami j...  SgqeN_FUprg  "
      ]
     },
     "execution_count": 5,
     "metadata": {},
     "output_type": "execute_result"
    }
   ],
   "source": [
    "mc_com = pd.read_parquet('/kaggle/input/media-study2-0/final_comment_data/mir_chara_comment.parquet')\n",
    "mc_chat = pd.read_csv('/kaggle/input/media-study2-0/all_live_chat/mir_chara_live_chat.csv')\n",
    "\n",
    "ms_com = pd.read_parquet('/kaggle/input/media-study2-0/final_comment_data/mir_soho_comment.parquet')\n",
    "ms_chat = pd.read_csv('/kaggle/input/media-study2-0/all_live_chat/mir_shoho_live_chat.csv')\n",
    "\n",
    "mt_com = pd.read_csv('/kaggle/input/media-study2-0/final_comment_data/mirer_thek_comment.csv')\n",
    "mt_chat = pd.read_csv('/kaggle/input/media-study2-0/all_live_chat/mirer_thek_live_chat.csv')\n",
    "\n",
    "print(f'Length of Mir Chara Comments is {mc_com.shape}')\n",
    "print(f'Length of Mir Chara live chat is {mc_chat.shape}')\n",
    "\n",
    "print('Total Videos Scraped', mc_com['video_id'].nunique())\n",
    "\n",
    "mc_com.head(3)"
   ]
  },
  {
   "cell_type": "code",
   "execution_count": 6,
   "id": "f6ccd397",
   "metadata": {
    "execution": {
     "iopub.execute_input": "2024-06-12T18:31:57.211188Z",
     "iopub.status.busy": "2024-06-12T18:31:57.210491Z",
     "iopub.status.idle": "2024-06-12T18:31:57.224651Z",
     "shell.execute_reply": "2024-06-12T18:31:57.223239Z"
    },
    "papermill": {
     "duration": 0.051557,
     "end_time": "2024-06-12T18:31:57.227393",
     "exception": false,
     "start_time": "2024-06-12T18:31:57.175836",
     "status": "completed"
    },
    "tags": []
   },
   "outputs": [
    {
     "data": {
      "text/html": [
       "<div>\n",
       "<style scoped>\n",
       "    .dataframe tbody tr th:only-of-type {\n",
       "        vertical-align: middle;\n",
       "    }\n",
       "\n",
       "    .dataframe tbody tr th {\n",
       "        vertical-align: top;\n",
       "    }\n",
       "\n",
       "    .dataframe thead th {\n",
       "        text-align: right;\n",
       "    }\n",
       "</style>\n",
       "<table border=\"1\" class=\"dataframe\">\n",
       "  <thead>\n",
       "    <tr style=\"text-align: right;\">\n",
       "      <th></th>\n",
       "      <th>datetime</th>\n",
       "      <th>author</th>\n",
       "      <th>message</th>\n",
       "      <th>vid_id</th>\n",
       "    </tr>\n",
       "  </thead>\n",
       "  <tbody>\n",
       "    <tr>\n",
       "      <th>0</th>\n",
       "      <td>2024-05-05 07:28:34</td>\n",
       "      <td>Paglamo Sudupaglamo</td>\n",
       "      <td>joy east bengal :red_square::yellow_square::re...</td>\n",
       "      <td>SgqeN_FUprg</td>\n",
       "    </tr>\n",
       "    <tr>\n",
       "      <th>1</th>\n",
       "      <td>2024-05-05 07:28:34</td>\n",
       "      <td>Soumen banarjee🙂</td>\n",
       "      <td>hi</td>\n",
       "      <td>SgqeN_FUprg</td>\n",
       "    </tr>\n",
       "    <tr>\n",
       "      <th>2</th>\n",
       "      <td>2024-05-05 07:28:37</td>\n",
       "      <td>Paglamo Sudupaglamo</td>\n",
       "      <td>joy east bengal :red_square::yellow_square::re...</td>\n",
       "      <td>SgqeN_FUprg</td>\n",
       "    </tr>\n",
       "  </tbody>\n",
       "</table>\n",
       "</div>"
      ],
      "text/plain": [
       "              datetime               author  \\\n",
       "0  2024-05-05 07:28:34  Paglamo Sudupaglamo   \n",
       "1  2024-05-05 07:28:34     Soumen banarjee🙂   \n",
       "2  2024-05-05 07:28:37  Paglamo Sudupaglamo   \n",
       "\n",
       "                                             message       vid_id  \n",
       "0  joy east bengal :red_square::yellow_square::re...  SgqeN_FUprg  \n",
       "1                                                 hi  SgqeN_FUprg  \n",
       "2  joy east bengal :red_square::yellow_square::re...  SgqeN_FUprg  "
      ]
     },
     "execution_count": 6,
     "metadata": {},
     "output_type": "execute_result"
    }
   ],
   "source": [
    "mc_chat.head(3)"
   ]
  },
  {
   "cell_type": "code",
   "execution_count": 7,
   "id": "74af7898",
   "metadata": {
    "execution": {
     "iopub.execute_input": "2024-06-12T18:31:57.297530Z",
     "iopub.status.busy": "2024-06-12T18:31:57.297132Z",
     "iopub.status.idle": "2024-06-12T18:31:57.365799Z",
     "shell.execute_reply": "2024-06-12T18:31:57.364769Z"
    },
    "papermill": {
     "duration": 0.106498,
     "end_time": "2024-06-12T18:31:57.368094",
     "exception": false,
     "start_time": "2024-06-12T18:31:57.261596",
     "status": "completed"
    },
    "tags": []
   },
   "outputs": [
    {
     "data": {
      "text/html": [
       "<div>\n",
       "<style scoped>\n",
       "    .dataframe tbody tr th:only-of-type {\n",
       "        vertical-align: middle;\n",
       "    }\n",
       "\n",
       "    .dataframe tbody tr th {\n",
       "        vertical-align: top;\n",
       "    }\n",
       "\n",
       "    .dataframe thead th {\n",
       "        text-align: right;\n",
       "    }\n",
       "</style>\n",
       "<table border=\"1\" class=\"dataframe\">\n",
       "  <thead>\n",
       "    <tr style=\"text-align: right;\">\n",
       "      <th></th>\n",
       "      <th>author</th>\n",
       "      <th>published_date</th>\n",
       "      <th>like_count</th>\n",
       "      <th>text</th>\n",
       "    </tr>\n",
       "  </thead>\n",
       "  <tbody>\n",
       "    <tr>\n",
       "      <th>0</th>\n",
       "      <td>@skmdimran852</td>\n",
       "      <td>2024-05-21</td>\n",
       "      <td>0</td>\n",
       "      <td>❤❤❤</td>\n",
       "    </tr>\n",
       "    <tr>\n",
       "      <th>1</th>\n",
       "      <td>@tanvirhaquekhan6061</td>\n",
       "      <td>2024-05-20</td>\n",
       "      <td>0</td>\n",
       "      <td>সত্যজিত রায়ের মতো এমন দূরদর্শী মানুষ হাজার বছর...</td>\n",
       "    </tr>\n",
       "    <tr>\n",
       "      <th>2</th>\n",
       "      <td>@MohammadArman-ob1id</td>\n",
       "      <td>2024-05-20</td>\n",
       "      <td>0</td>\n",
       "      <td>Mitryur porer abostha toh bollen na keno ami j...</td>\n",
       "    </tr>\n",
       "  </tbody>\n",
       "</table>\n",
       "</div>"
      ],
      "text/plain": [
       "                 author published_date  like_count  \\\n",
       "0         @skmdimran852     2024-05-21           0   \n",
       "1  @tanvirhaquekhan6061     2024-05-20           0   \n",
       "2  @MohammadArman-ob1id     2024-05-20           0   \n",
       "\n",
       "                                                text  \n",
       "0                                                ❤❤❤  \n",
       "1  সত্যজিত রায়ের মতো এমন দূরদর্শী মানুষ হাজার বছর...  \n",
       "2  Mitryur porer abostha toh bollen na keno ami j...  "
      ]
     },
     "execution_count": 7,
     "metadata": {},
     "output_type": "execute_result"
    }
   ],
   "source": [
    "mc_com.drop(columns = ['published_time', 'video_id'], inplace=True)\n",
    "ms_com.drop(columns = ['published_time', 'video_id'], inplace=True)\n",
    "mt_com.drop(columns = ['published_time', 'video_id'], inplace=True)\n",
    "\n",
    "mc_com.head(3)"
   ]
  },
  {
   "cell_type": "code",
   "execution_count": 8,
   "id": "f30f4f90",
   "metadata": {
    "execution": {
     "iopub.execute_input": "2024-06-12T18:31:57.455057Z",
     "iopub.status.busy": "2024-06-12T18:31:57.454573Z",
     "iopub.status.idle": "2024-06-12T18:31:57.513009Z",
     "shell.execute_reply": "2024-06-12T18:31:57.512063Z"
    },
    "papermill": {
     "duration": 0.107411,
     "end_time": "2024-06-12T18:31:57.515705",
     "exception": false,
     "start_time": "2024-06-12T18:31:57.408294",
     "status": "completed"
    },
    "tags": []
   },
   "outputs": [],
   "source": [
    "# Assuming df is your DataFrame\n",
    "mc_com['text'] = mc_com['text'].astype(str)\n",
    "ms_com['text'] = ms_com['text'].astype(str)\n",
    "mt_com['text'] = mt_com['text'].astype(str)\n",
    "mc_chat['message'] = mc_chat['message'].astype(str)"
   ]
  },
  {
   "cell_type": "code",
   "execution_count": 9,
   "id": "8d018b4c",
   "metadata": {
    "execution": {
     "iopub.execute_input": "2024-06-12T18:31:57.635714Z",
     "iopub.status.busy": "2024-06-12T18:31:57.634810Z",
     "iopub.status.idle": "2024-06-12T18:31:57.731073Z",
     "shell.execute_reply": "2024-06-12T18:31:57.729385Z"
    },
    "papermill": {
     "duration": 0.135336,
     "end_time": "2024-06-12T18:31:57.733909",
     "exception": false,
     "start_time": "2024-06-12T18:31:57.598573",
     "status": "completed"
    },
    "tags": []
   },
   "outputs": [],
   "source": [
    "import langid\n",
    "\n",
    "def detect_language(text):\n",
    "    x = langid.classify(text)[0]\n",
    "    if  x == 'bn':\n",
    "        return 'bangla'\n",
    "    elif x == 'en':\n",
    "        return 'english'\n",
    "    else:\n",
    "        return 'banglish'\n"
   ]
  },
  {
   "cell_type": "code",
   "execution_count": 10,
   "id": "79212ad3",
   "metadata": {
    "execution": {
     "iopub.execute_input": "2024-06-12T18:31:57.803682Z",
     "iopub.status.busy": "2024-06-12T18:31:57.803280Z",
     "iopub.status.idle": "2024-06-12T18:32:00.318995Z",
     "shell.execute_reply": "2024-06-12T18:32:00.317519Z"
    },
    "papermill": {
     "duration": 2.558045,
     "end_time": "2024-06-12T18:32:00.326336",
     "exception": false,
     "start_time": "2024-06-12T18:31:57.768291",
     "status": "completed"
    },
    "tags": []
   },
   "outputs": [
    {
     "name": "stdout",
     "output_type": "stream",
     "text": [
      "Thanks Mr.mir\n"
     ]
    },
    {
     "data": {
      "text/plain": [
       "'english'"
      ]
     },
     "execution_count": 10,
     "metadata": {},
     "output_type": "execute_result"
    }
   ],
   "source": [
    "print(mt_com['text'][0])\n",
    "detect_language(mt_com['text'][0])"
   ]
  },
  {
   "cell_type": "code",
   "execution_count": 11,
   "id": "313a7f01",
   "metadata": {
    "execution": {
     "iopub.execute_input": "2024-06-12T18:32:00.465910Z",
     "iopub.status.busy": "2024-06-12T18:32:00.465521Z",
     "iopub.status.idle": "2024-06-12T18:32:08.129288Z",
     "shell.execute_reply": "2024-06-12T18:32:08.128200Z"
    },
    "papermill": {
     "duration": 7.724346,
     "end_time": "2024-06-12T18:32:08.131768",
     "exception": false,
     "start_time": "2024-06-12T18:32:00.407422",
     "status": "completed"
    },
    "tags": []
   },
   "outputs": [
    {
     "name": "stderr",
     "output_type": "stream",
     "text": [
      "100%|██████████| 445398/445398 [00:04<00:00, 101937.83it/s]\n",
      "100%|██████████| 201633/201633 [00:02<00:00, 92750.84it/s]\n",
      "100%|██████████| 99687/99687 [00:01<00:00, 92040.49it/s]\n"
     ]
    }
   ],
   "source": [
    "import langid\n",
    "def clean_emoji(text):\n",
    "    cleaned_text = re.sub('[^a-zA-z0-9\\u0980-\\u09FF,./!?$%&\"\\'\\\\-_;:।]',\" \",text)\n",
    "    return cleaned_text\n",
    "\n",
    "tqdm.pandas()\n",
    "ms_com['ctext'] = ms_com.text.progress_apply(clean_emoji)\n",
    "mc_com['ctext'] = mc_com.text.progress_apply(clean_emoji)\n",
    "mt_com['ctext'] = mt_com.text.progress_apply(clean_emoji)"
   ]
  },
  {
   "cell_type": "code",
   "execution_count": 12,
   "id": "82af0a91",
   "metadata": {
    "execution": {
     "iopub.execute_input": "2024-06-12T18:32:08.219113Z",
     "iopub.status.busy": "2024-06-12T18:32:08.218737Z",
     "iopub.status.idle": "2024-06-12T18:32:08.239479Z",
     "shell.execute_reply": "2024-06-12T18:32:08.238249Z"
    },
    "papermill": {
     "duration": 0.066847,
     "end_time": "2024-06-12T18:32:08.242060",
     "exception": false,
     "start_time": "2024-06-12T18:32:08.175213",
     "status": "completed"
    },
    "tags": []
   },
   "outputs": [
    {
     "data": {
      "text/html": [
       "<div>\n",
       "<style scoped>\n",
       "    .dataframe tbody tr th:only-of-type {\n",
       "        vertical-align: middle;\n",
       "    }\n",
       "\n",
       "    .dataframe tbody tr th {\n",
       "        vertical-align: top;\n",
       "    }\n",
       "\n",
       "    .dataframe thead th {\n",
       "        text-align: right;\n",
       "    }\n",
       "</style>\n",
       "<table border=\"1\" class=\"dataframe\">\n",
       "  <thead>\n",
       "    <tr style=\"text-align: right;\">\n",
       "      <th></th>\n",
       "      <th>author</th>\n",
       "      <th>published_date</th>\n",
       "      <th>like_count</th>\n",
       "      <th>text</th>\n",
       "      <th>public</th>\n",
       "      <th>ctext</th>\n",
       "      <th>language</th>\n",
       "    </tr>\n",
       "  </thead>\n",
       "  <tbody>\n",
       "    <tr>\n",
       "      <th>0</th>\n",
       "      <td>@anwarulkabir6319</td>\n",
       "      <td>2024-05-16</td>\n",
       "      <td>0</td>\n",
       "      <td>Thanks Mr.mir</td>\n",
       "      <td>True</td>\n",
       "      <td>Thanks Mr.mir</td>\n",
       "      <td></td>\n",
       "    </tr>\n",
       "    <tr>\n",
       "      <th>1</th>\n",
       "      <td>@JayitaKundu-fy3hp</td>\n",
       "      <td>2024-05-11</td>\n",
       "      <td>0</td>\n",
       "      <td>বিভূতিভূষণ বন্দ্যোপাধ্যায় এর আদৰ্শ হিন্দু হোটে...</td>\n",
       "      <td>True</td>\n",
       "      <td>বিভূতিভূষণ বন্দ্যোপাধ্যায় এর আদৰ্শ হিন্দু হোটে...</td>\n",
       "      <td></td>\n",
       "    </tr>\n",
       "    <tr>\n",
       "      <th>2</th>\n",
       "      <td>@subi4098</td>\n",
       "      <td>2024-05-04</td>\n",
       "      <td>0</td>\n",
       "      <td>.vison boro fan tomar ami..mirchi te tomar gol...</td>\n",
       "      <td>True</td>\n",
       "      <td>.vison boro fan tomar ami..mirchi te tomar gol...</td>\n",
       "      <td></td>\n",
       "    </tr>\n",
       "    <tr>\n",
       "      <th>3</th>\n",
       "      <td>@samhotibanerjee95</td>\n",
       "      <td>2024-05-03</td>\n",
       "      <td>0</td>\n",
       "      <td>এতো স্ট্রোরি টেলার আছে yt channel এ কিন্তু মীর...</td>\n",
       "      <td>True</td>\n",
       "      <td>এতো স্ট্রোরি টেলার আছে yt channel এ কিন্তু মীর...</td>\n",
       "      <td></td>\n",
       "    </tr>\n",
       "    <tr>\n",
       "      <th>4</th>\n",
       "      <td>@malabikasengupta9803</td>\n",
       "      <td>2024-04-29</td>\n",
       "      <td>0</td>\n",
       "      <td>Khub bhalo laglo Mir.\\nMone hochilo golper mod...</td>\n",
       "      <td>True</td>\n",
       "      <td>Khub bhalo laglo Mir. Mone hochilo golper modh...</td>\n",
       "      <td></td>\n",
       "    </tr>\n",
       "  </tbody>\n",
       "</table>\n",
       "</div>"
      ],
      "text/plain": [
       "                  author published_date  like_count  \\\n",
       "0      @anwarulkabir6319     2024-05-16           0   \n",
       "1     @JayitaKundu-fy3hp     2024-05-11           0   \n",
       "2              @subi4098     2024-05-04           0   \n",
       "3     @samhotibanerjee95     2024-05-03           0   \n",
       "4  @malabikasengupta9803     2024-04-29           0   \n",
       "\n",
       "                                                text  public  \\\n",
       "0                                      Thanks Mr.mir    True   \n",
       "1  বিভূতিভূষণ বন্দ্যোপাধ্যায় এর আদৰ্শ হিন্দু হোটে...    True   \n",
       "2  .vison boro fan tomar ami..mirchi te tomar gol...    True   \n",
       "3  এতো স্ট্রোরি টেলার আছে yt channel এ কিন্তু মীর...    True   \n",
       "4  Khub bhalo laglo Mir.\\nMone hochilo golper mod...    True   \n",
       "\n",
       "                                               ctext language  \n",
       "0                                      Thanks Mr.mir           \n",
       "1  বিভূতিভূষণ বন্দ্যোপাধ্যায় এর আদৰ্শ হিন্দু হোটে...           \n",
       "2  .vison boro fan tomar ami..mirchi te tomar gol...           \n",
       "3  এতো স্ট্রোরি টেলার আছে yt channel এ কিন্তু মীর...           \n",
       "4  Khub bhalo laglo Mir. Mone hochilo golper modh...           "
      ]
     },
     "execution_count": 12,
     "metadata": {},
     "output_type": "execute_result"
    }
   ],
   "source": [
    "def detect_whitespace(text):\n",
    "    return re.match(r'^\\s*$', text) is not None\n",
    "\n",
    "ms_com['language'] = ''\n",
    "mc_com['language'] = ''\n",
    "mt_com['language'] = ''\n",
    "\n",
    "\n",
    "mt_com.head()"
   ]
  },
  {
   "cell_type": "code",
   "execution_count": 13,
   "id": "82583318",
   "metadata": {
    "execution": {
     "iopub.execute_input": "2024-06-12T18:32:08.335401Z",
     "iopub.status.busy": "2024-06-12T18:32:08.334363Z",
     "iopub.status.idle": "2024-06-12T18:32:08.464186Z",
     "shell.execute_reply": "2024-06-12T18:32:08.463015Z"
    },
    "papermill": {
     "duration": 0.177139,
     "end_time": "2024-06-12T18:32:08.466723",
     "exception": false,
     "start_time": "2024-06-12T18:32:08.289584",
     "status": "completed"
    },
    "tags": []
   },
   "outputs": [
    {
     "data": {
      "text/plain": [
       "author            0\n",
       "published_date    0\n",
       "like_count        0\n",
       "text              0\n",
       "ctext             0\n",
       "language          0\n",
       "dtype: int64"
      ]
     },
     "execution_count": 13,
     "metadata": {},
     "output_type": "execute_result"
    }
   ],
   "source": [
    "mc_com.isna().sum()"
   ]
  },
  {
   "cell_type": "markdown",
   "id": "5fcb88a8",
   "metadata": {
    "papermill": {
     "duration": 0.04298,
     "end_time": "2024-06-12T18:32:08.553083",
     "exception": false,
     "start_time": "2024-06-12T18:32:08.510103",
     "status": "completed"
    },
    "tags": []
   },
   "source": [
    "### Adding Language in Mirer thek"
   ]
  },
  {
   "cell_type": "code",
   "execution_count": 14,
   "id": "52b080b7",
   "metadata": {
    "execution": {
     "iopub.execute_input": "2024-06-12T18:32:08.642106Z",
     "iopub.status.busy": "2024-06-12T18:32:08.641286Z",
     "iopub.status.idle": "2024-06-12T18:32:08.646402Z",
     "shell.execute_reply": "2024-06-12T18:32:08.645295Z"
    },
    "papermill": {
     "duration": 0.05244,
     "end_time": "2024-06-12T18:32:08.648936",
     "exception": false,
     "start_time": "2024-06-12T18:32:08.596496",
     "status": "completed"
    },
    "tags": []
   },
   "outputs": [],
   "source": [
    "# for ind in tqdm(mt_com.index):\n",
    "#     if detect_whitespace(mt_com['ctext'][ind]) == False:\n",
    "#         try:\n",
    "#             lang=langid.classify(mt_com['ctext'][ind])\n",
    "#         except:\n",
    "#             lang[0]='no'\n",
    "#         if lang[0] == \"en\":\n",
    "#             mt_com.loc[ind,'language'] = \"English\"\n",
    "#         elif lang[0] == \"bn\":\n",
    "#             mt_com.loc[ind,'language'] = \"Bengali\"\n",
    "#         elif lang[0] == \"no\":\n",
    "#             mt_com.loc[ind,'language'] = \"Unidentified\"\n",
    "#         else:\n",
    "#             mt_com.loc[ind,'language'] = \"Banglish\"\n",
    "#     elif detect_whitespace(mt_com['ctext'][ind]) == True:\n",
    "#         mt_com.loc[ind,'language'] = \"Emoji\""
   ]
  },
  {
   "cell_type": "code",
   "execution_count": 15,
   "id": "291673d1",
   "metadata": {
    "execution": {
     "iopub.execute_input": "2024-06-12T18:32:08.736449Z",
     "iopub.status.busy": "2024-06-12T18:32:08.735519Z",
     "iopub.status.idle": "2024-06-12T18:32:08.749081Z",
     "shell.execute_reply": "2024-06-12T18:32:08.748004Z"
    },
    "papermill": {
     "duration": 0.060327,
     "end_time": "2024-06-12T18:32:08.752125",
     "exception": false,
     "start_time": "2024-06-12T18:32:08.691798",
     "status": "completed"
    },
    "tags": []
   },
   "outputs": [
    {
     "data": {
      "text/html": [
       "<div>\n",
       "<style scoped>\n",
       "    .dataframe tbody tr th:only-of-type {\n",
       "        vertical-align: middle;\n",
       "    }\n",
       "\n",
       "    .dataframe tbody tr th {\n",
       "        vertical-align: top;\n",
       "    }\n",
       "\n",
       "    .dataframe thead th {\n",
       "        text-align: right;\n",
       "    }\n",
       "</style>\n",
       "<table border=\"1\" class=\"dataframe\">\n",
       "  <thead>\n",
       "    <tr style=\"text-align: right;\">\n",
       "      <th></th>\n",
       "      <th>author</th>\n",
       "      <th>published_date</th>\n",
       "      <th>like_count</th>\n",
       "      <th>text</th>\n",
       "      <th>public</th>\n",
       "      <th>ctext</th>\n",
       "      <th>language</th>\n",
       "    </tr>\n",
       "  </thead>\n",
       "  <tbody>\n",
       "    <tr>\n",
       "      <th>0</th>\n",
       "      <td>@anwarulkabir6319</td>\n",
       "      <td>2024-05-16</td>\n",
       "      <td>0</td>\n",
       "      <td>Thanks Mr.mir</td>\n",
       "      <td>True</td>\n",
       "      <td>Thanks Mr.mir</td>\n",
       "      <td></td>\n",
       "    </tr>\n",
       "    <tr>\n",
       "      <th>1</th>\n",
       "      <td>@JayitaKundu-fy3hp</td>\n",
       "      <td>2024-05-11</td>\n",
       "      <td>0</td>\n",
       "      <td>বিভূতিভূষণ বন্দ্যোপাধ্যায় এর আদৰ্শ হিন্দু হোটে...</td>\n",
       "      <td>True</td>\n",
       "      <td>বিভূতিভূষণ বন্দ্যোপাধ্যায় এর আদৰ্শ হিন্দু হোটে...</td>\n",
       "      <td></td>\n",
       "    </tr>\n",
       "    <tr>\n",
       "      <th>2</th>\n",
       "      <td>@subi4098</td>\n",
       "      <td>2024-05-04</td>\n",
       "      <td>0</td>\n",
       "      <td>.vison boro fan tomar ami..mirchi te tomar gol...</td>\n",
       "      <td>True</td>\n",
       "      <td>.vison boro fan tomar ami..mirchi te tomar gol...</td>\n",
       "      <td></td>\n",
       "    </tr>\n",
       "  </tbody>\n",
       "</table>\n",
       "</div>"
      ],
      "text/plain": [
       "               author published_date  like_count  \\\n",
       "0   @anwarulkabir6319     2024-05-16           0   \n",
       "1  @JayitaKundu-fy3hp     2024-05-11           0   \n",
       "2           @subi4098     2024-05-04           0   \n",
       "\n",
       "                                                text  public  \\\n",
       "0                                      Thanks Mr.mir    True   \n",
       "1  বিভূতিভূষণ বন্দ্যোপাধ্যায় এর আদৰ্শ হিন্দু হোটে...    True   \n",
       "2  .vison boro fan tomar ami..mirchi te tomar gol...    True   \n",
       "\n",
       "                                               ctext language  \n",
       "0                                      Thanks Mr.mir           \n",
       "1  বিভূতিভূষণ বন্দ্যোপাধ্যায় এর আদৰ্শ হিন্দু হোটে...           \n",
       "2  .vison boro fan tomar ami..mirchi te tomar gol...           "
      ]
     },
     "execution_count": 15,
     "metadata": {},
     "output_type": "execute_result"
    }
   ],
   "source": [
    "mt_com.head(3)"
   ]
  },
  {
   "cell_type": "code",
   "execution_count": 16,
   "id": "681f17a2",
   "metadata": {
    "execution": {
     "iopub.execute_input": "2024-06-12T18:32:08.842970Z",
     "iopub.status.busy": "2024-06-12T18:32:08.842573Z",
     "iopub.status.idle": "2024-06-12T18:32:08.847186Z",
     "shell.execute_reply": "2024-06-12T18:32:08.846264Z"
    },
    "papermill": {
     "duration": 0.050033,
     "end_time": "2024-06-12T18:32:08.849338",
     "exception": false,
     "start_time": "2024-06-12T18:32:08.799305",
     "status": "completed"
    },
    "tags": []
   },
   "outputs": [],
   "source": [
    "# mt_com.language.value_counts()"
   ]
  },
  {
   "cell_type": "code",
   "execution_count": 17,
   "id": "aba36287",
   "metadata": {
    "execution": {
     "iopub.execute_input": "2024-06-12T18:32:08.937619Z",
     "iopub.status.busy": "2024-06-12T18:32:08.936779Z",
     "iopub.status.idle": "2024-06-12T18:32:08.941176Z",
     "shell.execute_reply": "2024-06-12T18:32:08.940213Z"
    },
    "papermill": {
     "duration": 0.051277,
     "end_time": "2024-06-12T18:32:08.943411",
     "exception": false,
     "start_time": "2024-06-12T18:32:08.892134",
     "status": "completed"
    },
    "tags": []
   },
   "outputs": [],
   "source": [
    "# filt = mt_com[mt_com['language']=='Emoji']\n",
    "# filt"
   ]
  },
  {
   "cell_type": "code",
   "execution_count": 18,
   "id": "d3ad9cf2",
   "metadata": {
    "execution": {
     "iopub.execute_input": "2024-06-12T18:32:09.032443Z",
     "iopub.status.busy": "2024-06-12T18:32:09.031733Z",
     "iopub.status.idle": "2024-06-12T18:32:09.036374Z",
     "shell.execute_reply": "2024-06-12T18:32:09.035325Z"
    },
    "papermill": {
     "duration": 0.051532,
     "end_time": "2024-06-12T18:32:09.038709",
     "exception": false,
     "start_time": "2024-06-12T18:32:08.987177",
     "status": "completed"
    },
    "tags": []
   },
   "outputs": [],
   "source": [
    "# filt.isna().sum()"
   ]
  },
  {
   "cell_type": "code",
   "execution_count": 19,
   "id": "1487fa9f",
   "metadata": {
    "execution": {
     "iopub.execute_input": "2024-06-12T18:32:09.127137Z",
     "iopub.status.busy": "2024-06-12T18:32:09.126257Z",
     "iopub.status.idle": "2024-06-12T18:32:09.130886Z",
     "shell.execute_reply": "2024-06-12T18:32:09.129707Z"
    },
    "papermill": {
     "duration": 0.051534,
     "end_time": "2024-06-12T18:32:09.133266",
     "exception": false,
     "start_time": "2024-06-12T18:32:09.081732",
     "status": "completed"
    },
    "tags": []
   },
   "outputs": [],
   "source": [
    "# mt_com.dropna(inplace=True)\n",
    "# mt_com.isna().sum()"
   ]
  },
  {
   "cell_type": "code",
   "execution_count": 20,
   "id": "6b873708",
   "metadata": {
    "execution": {
     "iopub.execute_input": "2024-06-12T18:32:09.221370Z",
     "iopub.status.busy": "2024-06-12T18:32:09.220992Z",
     "iopub.status.idle": "2024-06-12T18:32:09.225963Z",
     "shell.execute_reply": "2024-06-12T18:32:09.224829Z"
    },
    "papermill": {
     "duration": 0.051427,
     "end_time": "2024-06-12T18:32:09.228199",
     "exception": false,
     "start_time": "2024-06-12T18:32:09.176772",
     "status": "completed"
    },
    "tags": []
   },
   "outputs": [],
   "source": [
    "# mt_com.to_parquet('/kaggle/working/mirer_thek_comment.parquet', index=False)"
   ]
  },
  {
   "cell_type": "markdown",
   "id": "926d4c59",
   "metadata": {
    "papermill": {
     "duration": 0.041646,
     "end_time": "2024-06-12T18:32:09.313383",
     "exception": false,
     "start_time": "2024-06-12T18:32:09.271737",
     "status": "completed"
    },
    "tags": []
   },
   "source": [
    "### Adding Language in Mir chara"
   ]
  },
  {
   "cell_type": "code",
   "execution_count": 21,
   "id": "5090ee48",
   "metadata": {
    "execution": {
     "iopub.execute_input": "2024-06-12T18:32:09.401060Z",
     "iopub.status.busy": "2024-06-12T18:32:09.400682Z",
     "iopub.status.idle": "2024-06-12T18:32:09.405564Z",
     "shell.execute_reply": "2024-06-12T18:32:09.404586Z"
    },
    "papermill": {
     "duration": 0.050087,
     "end_time": "2024-06-12T18:32:09.407741",
     "exception": false,
     "start_time": "2024-06-12T18:32:09.357654",
     "status": "completed"
    },
    "tags": []
   },
   "outputs": [],
   "source": [
    "# for ind in tqdm(mc_com.index):\n",
    "#     if detect_whitespace(mc_com['ctext'][ind]) == False:\n",
    "#         try:\n",
    "#             lang=langid.classify(mc_com['ctext'][ind])\n",
    "#         except:\n",
    "#             lang[0]='no'\n",
    "#         if lang[0] == \"en\":\n",
    "#             mc_com.loc[ind,'language'] = \"English\"\n",
    "#         elif lang[0] == \"bn\":\n",
    "#             mc_com.loc[ind,'language'] = \"Bengali\"\n",
    "#         elif lang[0] == \"no\":\n",
    "#             mc_com.loc[ind,'language'] = \"Unidentified\"\n",
    "#         else:\n",
    "#             mc_com.loc[ind,'language'] = \"Banglish\"\n",
    "#     elif detect_whitespace(mc_com['ctext'][ind]) == True:\n",
    "#         mc_com.loc[ind,'language'] = \"Emoji\""
   ]
  },
  {
   "cell_type": "code",
   "execution_count": 22,
   "id": "b2c20671",
   "metadata": {
    "execution": {
     "iopub.execute_input": "2024-06-12T18:32:09.493411Z",
     "iopub.status.busy": "2024-06-12T18:32:09.492461Z",
     "iopub.status.idle": "2024-06-12T18:32:09.505895Z",
     "shell.execute_reply": "2024-06-12T18:32:09.504789Z"
    },
    "papermill": {
     "duration": 0.058895,
     "end_time": "2024-06-12T18:32:09.508154",
     "exception": false,
     "start_time": "2024-06-12T18:32:09.449259",
     "status": "completed"
    },
    "tags": []
   },
   "outputs": [
    {
     "data": {
      "text/html": [
       "<div>\n",
       "<style scoped>\n",
       "    .dataframe tbody tr th:only-of-type {\n",
       "        vertical-align: middle;\n",
       "    }\n",
       "\n",
       "    .dataframe tbody tr th {\n",
       "        vertical-align: top;\n",
       "    }\n",
       "\n",
       "    .dataframe thead th {\n",
       "        text-align: right;\n",
       "    }\n",
       "</style>\n",
       "<table border=\"1\" class=\"dataframe\">\n",
       "  <thead>\n",
       "    <tr style=\"text-align: right;\">\n",
       "      <th></th>\n",
       "      <th>author</th>\n",
       "      <th>published_date</th>\n",
       "      <th>like_count</th>\n",
       "      <th>text</th>\n",
       "      <th>ctext</th>\n",
       "      <th>language</th>\n",
       "    </tr>\n",
       "  </thead>\n",
       "  <tbody>\n",
       "    <tr>\n",
       "      <th>0</th>\n",
       "      <td>@skmdimran852</td>\n",
       "      <td>2024-05-21</td>\n",
       "      <td>0</td>\n",
       "      <td>❤❤❤</td>\n",
       "      <td></td>\n",
       "      <td></td>\n",
       "    </tr>\n",
       "    <tr>\n",
       "      <th>1</th>\n",
       "      <td>@tanvirhaquekhan6061</td>\n",
       "      <td>2024-05-20</td>\n",
       "      <td>0</td>\n",
       "      <td>সত্যজিত রায়ের মতো এমন দূরদর্শী মানুষ হাজার বছর...</td>\n",
       "      <td>সত্যজিত রায়ের মতো এমন দূরদর্শী মানুষ হাজার বছর...</td>\n",
       "      <td></td>\n",
       "    </tr>\n",
       "    <tr>\n",
       "      <th>2</th>\n",
       "      <td>@MohammadArman-ob1id</td>\n",
       "      <td>2024-05-20</td>\n",
       "      <td>0</td>\n",
       "      <td>Mitryur porer abostha toh bollen na keno ami j...</td>\n",
       "      <td>Mitryur porer abostha toh bollen na keno ami j...</td>\n",
       "      <td></td>\n",
       "    </tr>\n",
       "  </tbody>\n",
       "</table>\n",
       "</div>"
      ],
      "text/plain": [
       "                 author published_date  like_count  \\\n",
       "0         @skmdimran852     2024-05-21           0   \n",
       "1  @tanvirhaquekhan6061     2024-05-20           0   \n",
       "2  @MohammadArman-ob1id     2024-05-20           0   \n",
       "\n",
       "                                                text  \\\n",
       "0                                                ❤❤❤   \n",
       "1  সত্যজিত রায়ের মতো এমন দূরদর্শী মানুষ হাজার বছর...   \n",
       "2  Mitryur porer abostha toh bollen na keno ami j...   \n",
       "\n",
       "                                               ctext language  \n",
       "0                                                              \n",
       "1  সত্যজিত রায়ের মতো এমন দূরদর্শী মানুষ হাজার বছর...           \n",
       "2  Mitryur porer abostha toh bollen na keno ami j...           "
      ]
     },
     "execution_count": 22,
     "metadata": {},
     "output_type": "execute_result"
    }
   ],
   "source": [
    "mc_com.head(3)"
   ]
  },
  {
   "cell_type": "code",
   "execution_count": 23,
   "id": "8c3b7558",
   "metadata": {
    "execution": {
     "iopub.execute_input": "2024-06-12T18:32:09.594245Z",
     "iopub.status.busy": "2024-06-12T18:32:09.593326Z",
     "iopub.status.idle": "2024-06-12T18:32:09.597981Z",
     "shell.execute_reply": "2024-06-12T18:32:09.596813Z"
    },
    "papermill": {
     "duration": 0.049226,
     "end_time": "2024-06-12T18:32:09.600246",
     "exception": false,
     "start_time": "2024-06-12T18:32:09.551020",
     "status": "completed"
    },
    "tags": []
   },
   "outputs": [],
   "source": [
    "# mc_com.language.value_counts()"
   ]
  },
  {
   "cell_type": "code",
   "execution_count": 24,
   "id": "de21b0e9",
   "metadata": {
    "execution": {
     "iopub.execute_input": "2024-06-12T18:32:09.689411Z",
     "iopub.status.busy": "2024-06-12T18:32:09.688958Z",
     "iopub.status.idle": "2024-06-12T18:32:09.693730Z",
     "shell.execute_reply": "2024-06-12T18:32:09.692598Z"
    },
    "papermill": {
     "duration": 0.052605,
     "end_time": "2024-06-12T18:32:09.696067",
     "exception": false,
     "start_time": "2024-06-12T18:32:09.643462",
     "status": "completed"
    },
    "tags": []
   },
   "outputs": [],
   "source": [
    "# mt_com.dropna(inplace=True)\n",
    "# mc_com.isna().sum()"
   ]
  },
  {
   "cell_type": "code",
   "execution_count": 25,
   "id": "347cc520",
   "metadata": {
    "execution": {
     "iopub.execute_input": "2024-06-12T18:32:09.785313Z",
     "iopub.status.busy": "2024-06-12T18:32:09.784920Z",
     "iopub.status.idle": "2024-06-12T18:32:09.789662Z",
     "shell.execute_reply": "2024-06-12T18:32:09.788571Z"
    },
    "papermill": {
     "duration": 0.052073,
     "end_time": "2024-06-12T18:32:09.792104",
     "exception": false,
     "start_time": "2024-06-12T18:32:09.740031",
     "status": "completed"
    },
    "tags": []
   },
   "outputs": [],
   "source": [
    "# mc_com.to_parquet('/kaggle/working/mir_chara_comment.parquet', index=False)"
   ]
  },
  {
   "cell_type": "markdown",
   "id": "3a020bd4",
   "metadata": {
    "papermill": {
     "duration": 0.042415,
     "end_time": "2024-06-12T18:32:09.879234",
     "exception": false,
     "start_time": "2024-06-12T18:32:09.836819",
     "status": "completed"
    },
    "tags": []
   },
   "source": [
    "### Adding Language in Mir Shoho"
   ]
  },
  {
   "cell_type": "code",
   "execution_count": 26,
   "id": "4dcd2860",
   "metadata": {
    "execution": {
     "iopub.execute_input": "2024-06-12T18:32:09.966191Z",
     "iopub.status.busy": "2024-06-12T18:32:09.965829Z",
     "iopub.status.idle": "2024-06-12T18:32:09.970883Z",
     "shell.execute_reply": "2024-06-12T18:32:09.969831Z"
    },
    "papermill": {
     "duration": 0.050647,
     "end_time": "2024-06-12T18:32:09.973274",
     "exception": false,
     "start_time": "2024-06-12T18:32:09.922627",
     "status": "completed"
    },
    "tags": []
   },
   "outputs": [],
   "source": [
    "# for ind in tqdm(ms_com.index):\n",
    "#     if detect_whitespace(ms_com['ctext'][ind]) == False:\n",
    "#         try:\n",
    "#             lang=langid.classify(ms_com['ctext'][ind])\n",
    "#         except:\n",
    "#             lang[0]='no'\n",
    "#         if lang[0] == \"en\":\n",
    "#             ms_com.loc[ind,'language'] = \"English\"\n",
    "#         elif lang[0] == \"bn\":\n",
    "#             ms_com.loc[ind,'language'] = \"Bengali\"\n",
    "#         elif lang[0] == \"no\":\n",
    "#             ms_com.loc[ind,'language'] = \"Unidentified\"\n",
    "#         else:\n",
    "#             ms_com.loc[ind,'language'] = \"Banglish\"\n",
    "#     elif detect_whitespace(ms_com['ctext'][ind]) == True:\n",
    "#         ms_com.loc[ind,'language'] = \"Emoji\""
   ]
  },
  {
   "cell_type": "code",
   "execution_count": 27,
   "id": "dea08863",
   "metadata": {
    "execution": {
     "iopub.execute_input": "2024-06-12T18:32:10.061283Z",
     "iopub.status.busy": "2024-06-12T18:32:10.060885Z",
     "iopub.status.idle": "2024-06-12T18:32:10.065614Z",
     "shell.execute_reply": "2024-06-12T18:32:10.064548Z"
    },
    "papermill": {
     "duration": 0.052012,
     "end_time": "2024-06-12T18:32:10.068051",
     "exception": false,
     "start_time": "2024-06-12T18:32:10.016039",
     "status": "completed"
    },
    "tags": []
   },
   "outputs": [],
   "source": [
    "# ms_com.head(3)"
   ]
  },
  {
   "cell_type": "code",
   "execution_count": 28,
   "id": "59d9d65e",
   "metadata": {
    "execution": {
     "iopub.execute_input": "2024-06-12T18:32:10.155683Z",
     "iopub.status.busy": "2024-06-12T18:32:10.155304Z",
     "iopub.status.idle": "2024-06-12T18:32:10.160053Z",
     "shell.execute_reply": "2024-06-12T18:32:10.158971Z"
    },
    "papermill": {
     "duration": 0.051187,
     "end_time": "2024-06-12T18:32:10.162256",
     "exception": false,
     "start_time": "2024-06-12T18:32:10.111069",
     "status": "completed"
    },
    "tags": []
   },
   "outputs": [],
   "source": [
    "# ms_com.isna().sum()"
   ]
  },
  {
   "cell_type": "code",
   "execution_count": 29,
   "id": "b8a67527",
   "metadata": {
    "execution": {
     "iopub.execute_input": "2024-06-12T18:32:10.249401Z",
     "iopub.status.busy": "2024-06-12T18:32:10.249029Z",
     "iopub.status.idle": "2024-06-12T18:32:10.253609Z",
     "shell.execute_reply": "2024-06-12T18:32:10.252626Z"
    },
    "papermill": {
     "duration": 0.050998,
     "end_time": "2024-06-12T18:32:10.255809",
     "exception": false,
     "start_time": "2024-06-12T18:32:10.204811",
     "status": "completed"
    },
    "tags": []
   },
   "outputs": [],
   "source": [
    "# ms_com.language.value_counts()"
   ]
  },
  {
   "cell_type": "code",
   "execution_count": 30,
   "id": "c387d030",
   "metadata": {
    "execution": {
     "iopub.execute_input": "2024-06-12T18:32:10.344088Z",
     "iopub.status.busy": "2024-06-12T18:32:10.343214Z",
     "iopub.status.idle": "2024-06-12T18:32:10.349181Z",
     "shell.execute_reply": "2024-06-12T18:32:10.348133Z"
    },
    "papermill": {
     "duration": 0.053228,
     "end_time": "2024-06-12T18:32:10.351644",
     "exception": false,
     "start_time": "2024-06-12T18:32:10.298416",
     "status": "completed"
    },
    "tags": []
   },
   "outputs": [],
   "source": [
    "# ms_com.to_parquet('/kaggle/working/mir_shoho_comment.parquet', index=False)"
   ]
  },
  {
   "cell_type": "code",
   "execution_count": 31,
   "id": "0b1152d8",
   "metadata": {
    "execution": {
     "iopub.execute_input": "2024-06-12T18:32:10.441080Z",
     "iopub.status.busy": "2024-06-12T18:32:10.440190Z",
     "iopub.status.idle": "2024-06-12T18:32:10.444825Z",
     "shell.execute_reply": "2024-06-12T18:32:10.443805Z"
    },
    "papermill": {
     "duration": 0.051975,
     "end_time": "2024-06-12T18:32:10.447129",
     "exception": false,
     "start_time": "2024-06-12T18:32:10.395154",
     "status": "completed"
    },
    "tags": []
   },
   "outputs": [],
   "source": [
    "# df = pd.read_parquet('/kaggle/working/mir_shoho_comment.parquet')\n",
    "# df.shape"
   ]
  },
  {
   "cell_type": "markdown",
   "id": "78590767",
   "metadata": {
    "papermill": {
     "duration": 0.043481,
     "end_time": "2024-06-12T18:32:10.534253",
     "exception": false,
     "start_time": "2024-06-12T18:32:10.490772",
     "status": "completed"
    },
    "tags": []
   },
   "source": [
    "## Start From Here\n",
    "## Reload them all"
   ]
  },
  {
   "cell_type": "code",
   "execution_count": 32,
   "id": "c1c47d73",
   "metadata": {
    "execution": {
     "iopub.execute_input": "2024-06-12T18:32:10.624387Z",
     "iopub.status.busy": "2024-06-12T18:32:10.624001Z",
     "iopub.status.idle": "2024-06-12T18:32:10.628653Z",
     "shell.execute_reply": "2024-06-12T18:32:10.627563Z"
    },
    "papermill": {
     "duration": 0.052193,
     "end_time": "2024-06-12T18:32:10.630870",
     "exception": false,
     "start_time": "2024-06-12T18:32:10.578677",
     "status": "completed"
    },
    "tags": []
   },
   "outputs": [],
   "source": [
    "# df1 = pd.read_parquet('/kaggle/working/mir_shoho_comment.parquet')\n",
    "# df2 = pd.read_parquet('/kaggle/working/mir_chara_comment.parquet')\n",
    "# df3 = pd.read_parquet('/kaggle/working/mirer_thek_comment.parquet')"
   ]
  },
  {
   "cell_type": "code",
   "execution_count": 33,
   "id": "f0705009",
   "metadata": {
    "execution": {
     "iopub.execute_input": "2024-06-12T18:32:10.721464Z",
     "iopub.status.busy": "2024-06-12T18:32:10.721066Z",
     "iopub.status.idle": "2024-06-12T18:32:14.599173Z",
     "shell.execute_reply": "2024-06-12T18:32:14.598005Z"
    },
    "papermill": {
     "duration": 3.926013,
     "end_time": "2024-06-12T18:32:14.602031",
     "exception": false,
     "start_time": "2024-06-12T18:32:10.676018",
     "status": "completed"
    },
    "tags": []
   },
   "outputs": [],
   "source": [
    "df1 = pd.read_parquet('/kaggle/input/media-study2-0/language/mir_shoho_comment.parquet')\n",
    "df2 = pd.read_parquet('/kaggle/input/media-study2-0/language/mir_chara_comment.parquet')\n",
    "df3 = pd.read_parquet('/kaggle/input/media-study2-0/language/mirer_thek_comment.parquet')"
   ]
  },
  {
   "cell_type": "code",
   "execution_count": 34,
   "id": "b4b94e34",
   "metadata": {
    "execution": {
     "iopub.execute_input": "2024-06-12T18:32:14.692660Z",
     "iopub.status.busy": "2024-06-12T18:32:14.692247Z",
     "iopub.status.idle": "2024-06-12T18:32:14.697774Z",
     "shell.execute_reply": "2024-06-12T18:32:14.696794Z"
    },
    "papermill": {
     "duration": 0.053916,
     "end_time": "2024-06-12T18:32:14.700538",
     "exception": false,
     "start_time": "2024-06-12T18:32:14.646622",
     "status": "completed"
    },
    "tags": []
   },
   "outputs": [
    {
     "name": "stdout",
     "output_type": "stream",
     "text": [
      "(445398, 6) (201633, 6) (99686, 7)\n"
     ]
    }
   ],
   "source": [
    "print(df1.shape, df2.shape, df3.shape)"
   ]
  },
  {
   "cell_type": "code",
   "execution_count": 35,
   "id": "66983081",
   "metadata": {
    "execution": {
     "iopub.execute_input": "2024-06-12T18:32:14.790106Z",
     "iopub.status.busy": "2024-06-12T18:32:14.789721Z",
     "iopub.status.idle": "2024-06-12T18:32:14.794192Z",
     "shell.execute_reply": "2024-06-12T18:32:14.793153Z"
    },
    "papermill": {
     "duration": 0.052106,
     "end_time": "2024-06-12T18:32:14.796455",
     "exception": false,
     "start_time": "2024-06-12T18:32:14.744349",
     "status": "completed"
    },
    "tags": []
   },
   "outputs": [],
   "source": [
    "# print(df1.shape, df2.shape, df3.shape)"
   ]
  },
  {
   "cell_type": "code",
   "execution_count": 36,
   "id": "6abc4f9b",
   "metadata": {
    "execution": {
     "iopub.execute_input": "2024-06-12T18:32:14.886453Z",
     "iopub.status.busy": "2024-06-12T18:32:14.886049Z",
     "iopub.status.idle": "2024-06-12T18:32:14.899200Z",
     "shell.execute_reply": "2024-06-12T18:32:14.898127Z"
    },
    "papermill": {
     "duration": 0.06061,
     "end_time": "2024-06-12T18:32:14.901361",
     "exception": false,
     "start_time": "2024-06-12T18:32:14.840751",
     "status": "completed"
    },
    "tags": []
   },
   "outputs": [
    {
     "data": {
      "text/html": [
       "<div>\n",
       "<style scoped>\n",
       "    .dataframe tbody tr th:only-of-type {\n",
       "        vertical-align: middle;\n",
       "    }\n",
       "\n",
       "    .dataframe tbody tr th {\n",
       "        vertical-align: top;\n",
       "    }\n",
       "\n",
       "    .dataframe thead th {\n",
       "        text-align: right;\n",
       "    }\n",
       "</style>\n",
       "<table border=\"1\" class=\"dataframe\">\n",
       "  <thead>\n",
       "    <tr style=\"text-align: right;\">\n",
       "      <th></th>\n",
       "      <th>author</th>\n",
       "      <th>published_date</th>\n",
       "      <th>like_count</th>\n",
       "      <th>text</th>\n",
       "      <th>ctext</th>\n",
       "      <th>language</th>\n",
       "    </tr>\n",
       "  </thead>\n",
       "  <tbody>\n",
       "    <tr>\n",
       "      <th>0</th>\n",
       "      <td>@Storysuspensecomedy123</td>\n",
       "      <td>2023-01-25</td>\n",
       "      <td>1</td>\n",
       "      <td>Mirda তুমি আমাকে তৈরি করে নাও। আমার জীবন ও ভবি...</td>\n",
       "      <td>Mirda তুমি আমাকে তৈরি করে নাও। আমার জীবন ও ভবি...</td>\n",
       "      <td>Bengali</td>\n",
       "    </tr>\n",
       "    <tr>\n",
       "      <th>1</th>\n",
       "      <td>@kumkumdas9131</td>\n",
       "      <td>2023-01-25</td>\n",
       "      <td>0</td>\n",
       "      <td>তারানাথ তান্ত্রিকের অপেক্ষায় থাকলাম মীর দা</td>\n",
       "      <td>তারানাথ তান্ত্রিকের অপেক্ষায় থাকলাম মীর দা</td>\n",
       "      <td>Bengali</td>\n",
       "    </tr>\n",
       "    <tr>\n",
       "      <th>2</th>\n",
       "      <td>@golamrabbani8765</td>\n",
       "      <td>2023-01-25</td>\n",
       "      <td>0</td>\n",
       "      <td>আপনার কন্ঠে শার্লক হোমস আবারও শুনতে চাই❤️❤️❤️</td>\n",
       "      <td>আপনার কন্ঠে শার্লক হোমস আবারও শুনতে চাই</td>\n",
       "      <td>Bengali</td>\n",
       "    </tr>\n",
       "  </tbody>\n",
       "</table>\n",
       "</div>"
      ],
      "text/plain": [
       "                    author published_date  like_count  \\\n",
       "0  @Storysuspensecomedy123     2023-01-25           1   \n",
       "1           @kumkumdas9131     2023-01-25           0   \n",
       "2        @golamrabbani8765     2023-01-25           0   \n",
       "\n",
       "                                                text  \\\n",
       "0  Mirda তুমি আমাকে তৈরি করে নাও। আমার জীবন ও ভবি...   \n",
       "1        তারানাথ তান্ত্রিকের অপেক্ষায় থাকলাম মীর দা   \n",
       "2      আপনার কন্ঠে শার্লক হোমস আবারও শুনতে চাই❤️❤️❤️   \n",
       "\n",
       "                                               ctext language  \n",
       "0  Mirda তুমি আমাকে তৈরি করে নাও। আমার জীবন ও ভবি...  Bengali  \n",
       "1        তারানাথ তান্ত্রিকের অপেক্ষায় থাকলাম মীর দা  Bengali  \n",
       "2      আপনার কন্ঠে শার্লক হোমস আবারও শুনতে চাই        Bengali  "
      ]
     },
     "execution_count": 36,
     "metadata": {},
     "output_type": "execute_result"
    }
   ],
   "source": [
    "df1.head(3)"
   ]
  },
  {
   "cell_type": "code",
   "execution_count": 37,
   "id": "834a623c",
   "metadata": {
    "execution": {
     "iopub.execute_input": "2024-06-12T18:32:14.991575Z",
     "iopub.status.busy": "2024-06-12T18:32:14.991147Z",
     "iopub.status.idle": "2024-06-12T18:32:15.092715Z",
     "shell.execute_reply": "2024-06-12T18:32:15.091576Z"
    },
    "papermill": {
     "duration": 0.149415,
     "end_time": "2024-06-12T18:32:15.095328",
     "exception": false,
     "start_time": "2024-06-12T18:32:14.945913",
     "status": "completed"
    },
    "tags": []
   },
   "outputs": [
    {
     "data": {
      "text/html": [
       "<div>\n",
       "<style scoped>\n",
       "    .dataframe tbody tr th:only-of-type {\n",
       "        vertical-align: middle;\n",
       "    }\n",
       "\n",
       "    .dataframe tbody tr th {\n",
       "        vertical-align: top;\n",
       "    }\n",
       "\n",
       "    .dataframe thead th {\n",
       "        text-align: right;\n",
       "    }\n",
       "</style>\n",
       "<table border=\"1\" class=\"dataframe\">\n",
       "  <thead>\n",
       "    <tr style=\"text-align: right;\">\n",
       "      <th></th>\n",
       "      <th>author</th>\n",
       "      <th>published_date</th>\n",
       "      <th>like_count</th>\n",
       "      <th>text</th>\n",
       "      <th>ctext</th>\n",
       "      <th>language</th>\n",
       "    </tr>\n",
       "  </thead>\n",
       "  <tbody>\n",
       "    <tr>\n",
       "      <th>9</th>\n",
       "      <td>@rajarshikoner3528</td>\n",
       "      <td>2023-01-25</td>\n",
       "      <td>0</td>\n",
       "      <td>❤❤❤❤</td>\n",
       "      <td></td>\n",
       "      <td>Emoji</td>\n",
       "    </tr>\n",
       "    <tr>\n",
       "      <th>34</th>\n",
       "      <td>@joymondal1013</td>\n",
       "      <td>2023-01-25</td>\n",
       "      <td>0</td>\n",
       "      <td>❤️❤️❤️❤️</td>\n",
       "      <td></td>\n",
       "      <td>Emoji</td>\n",
       "    </tr>\n",
       "    <tr>\n",
       "      <th>42</th>\n",
       "      <td>@souvikmodak7194</td>\n",
       "      <td>2023-01-25</td>\n",
       "      <td>0</td>\n",
       "      <td>❤️🌻</td>\n",
       "      <td></td>\n",
       "      <td>Emoji</td>\n",
       "    </tr>\n",
       "  </tbody>\n",
       "</table>\n",
       "</div>"
      ],
      "text/plain": [
       "                author published_date  like_count      text     ctext language\n",
       "9   @rajarshikoner3528     2023-01-25           0      ❤❤❤❤              Emoji\n",
       "34      @joymondal1013     2023-01-25           0  ❤️❤️❤️❤️              Emoji\n",
       "42    @souvikmodak7194     2023-01-25           0       ❤️🌻              Emoji"
      ]
     },
     "execution_count": 37,
     "metadata": {},
     "output_type": "execute_result"
    }
   ],
   "source": [
    "filt = df1[df1['language'] == 'Emoji']\n",
    "filt.head(3)"
   ]
  },
  {
   "cell_type": "code",
   "execution_count": 38,
   "id": "80c87a54",
   "metadata": {
    "execution": {
     "iopub.execute_input": "2024-06-12T18:32:15.190425Z",
     "iopub.status.busy": "2024-06-12T18:32:15.189601Z",
     "iopub.status.idle": "2024-06-12T18:32:15.288464Z",
     "shell.execute_reply": "2024-06-12T18:32:15.287561Z"
    },
    "papermill": {
     "duration": 0.147184,
     "end_time": "2024-06-12T18:32:15.290979",
     "exception": false,
     "start_time": "2024-06-12T18:32:15.143795",
     "status": "completed"
    },
    "tags": []
   },
   "outputs": [],
   "source": [
    "df1.loc[df1['language'] == 'Emoji', 'ctext'] = df1['text']"
   ]
  },
  {
   "cell_type": "code",
   "execution_count": 39,
   "id": "018325a2",
   "metadata": {
    "execution": {
     "iopub.execute_input": "2024-06-12T18:32:15.383183Z",
     "iopub.status.busy": "2024-06-12T18:32:15.382818Z",
     "iopub.status.idle": "2024-06-12T18:32:15.483366Z",
     "shell.execute_reply": "2024-06-12T18:32:15.482250Z"
    },
    "papermill": {
     "duration": 0.149655,
     "end_time": "2024-06-12T18:32:15.485755",
     "exception": false,
     "start_time": "2024-06-12T18:32:15.336100",
     "status": "completed"
    },
    "tags": []
   },
   "outputs": [
    {
     "data": {
      "text/html": [
       "<div>\n",
       "<style scoped>\n",
       "    .dataframe tbody tr th:only-of-type {\n",
       "        vertical-align: middle;\n",
       "    }\n",
       "\n",
       "    .dataframe tbody tr th {\n",
       "        vertical-align: top;\n",
       "    }\n",
       "\n",
       "    .dataframe thead th {\n",
       "        text-align: right;\n",
       "    }\n",
       "</style>\n",
       "<table border=\"1\" class=\"dataframe\">\n",
       "  <thead>\n",
       "    <tr style=\"text-align: right;\">\n",
       "      <th></th>\n",
       "      <th>author</th>\n",
       "      <th>published_date</th>\n",
       "      <th>like_count</th>\n",
       "      <th>text</th>\n",
       "      <th>ctext</th>\n",
       "      <th>language</th>\n",
       "    </tr>\n",
       "  </thead>\n",
       "  <tbody>\n",
       "    <tr>\n",
       "      <th>9</th>\n",
       "      <td>@rajarshikoner3528</td>\n",
       "      <td>2023-01-25</td>\n",
       "      <td>0</td>\n",
       "      <td>❤❤❤❤</td>\n",
       "      <td>❤❤❤❤</td>\n",
       "      <td>Emoji</td>\n",
       "    </tr>\n",
       "    <tr>\n",
       "      <th>34</th>\n",
       "      <td>@joymondal1013</td>\n",
       "      <td>2023-01-25</td>\n",
       "      <td>0</td>\n",
       "      <td>❤️❤️❤️❤️</td>\n",
       "      <td>❤️❤️❤️❤️</td>\n",
       "      <td>Emoji</td>\n",
       "    </tr>\n",
       "    <tr>\n",
       "      <th>42</th>\n",
       "      <td>@souvikmodak7194</td>\n",
       "      <td>2023-01-25</td>\n",
       "      <td>0</td>\n",
       "      <td>❤️🌻</td>\n",
       "      <td>❤️🌻</td>\n",
       "      <td>Emoji</td>\n",
       "    </tr>\n",
       "  </tbody>\n",
       "</table>\n",
       "</div>"
      ],
      "text/plain": [
       "                author published_date  like_count      text     ctext language\n",
       "9   @rajarshikoner3528     2023-01-25           0      ❤❤❤❤      ❤❤❤❤    Emoji\n",
       "34      @joymondal1013     2023-01-25           0  ❤️❤️❤️❤️  ❤️❤️❤️❤️    Emoji\n",
       "42    @souvikmodak7194     2023-01-25           0       ❤️🌻       ❤️🌻    Emoji"
      ]
     },
     "execution_count": 39,
     "metadata": {},
     "output_type": "execute_result"
    }
   ],
   "source": [
    "filt = df1[df1['language'] == 'Emoji']\n",
    "filt.head(3)"
   ]
  },
  {
   "cell_type": "code",
   "execution_count": 40,
   "id": "ecd160c6",
   "metadata": {
    "execution": {
     "iopub.execute_input": "2024-06-12T18:32:15.576314Z",
     "iopub.status.busy": "2024-06-12T18:32:15.575533Z",
     "iopub.status.idle": "2024-06-12T18:32:15.588230Z",
     "shell.execute_reply": "2024-06-12T18:32:15.587189Z"
    },
    "papermill": {
     "duration": 0.060149,
     "end_time": "2024-06-12T18:32:15.590378",
     "exception": false,
     "start_time": "2024-06-12T18:32:15.530229",
     "status": "completed"
    },
    "tags": []
   },
   "outputs": [
    {
     "data": {
      "text/html": [
       "<div>\n",
       "<style scoped>\n",
       "    .dataframe tbody tr th:only-of-type {\n",
       "        vertical-align: middle;\n",
       "    }\n",
       "\n",
       "    .dataframe tbody tr th {\n",
       "        vertical-align: top;\n",
       "    }\n",
       "\n",
       "    .dataframe thead th {\n",
       "        text-align: right;\n",
       "    }\n",
       "</style>\n",
       "<table border=\"1\" class=\"dataframe\">\n",
       "  <thead>\n",
       "    <tr style=\"text-align: right;\">\n",
       "      <th></th>\n",
       "      <th>author</th>\n",
       "      <th>published_date</th>\n",
       "      <th>like_count</th>\n",
       "      <th>text</th>\n",
       "      <th>ctext</th>\n",
       "      <th>language</th>\n",
       "    </tr>\n",
       "  </thead>\n",
       "  <tbody>\n",
       "    <tr>\n",
       "      <th>0</th>\n",
       "      <td>@Storysuspensecomedy123</td>\n",
       "      <td>2023-01-25</td>\n",
       "      <td>1</td>\n",
       "      <td>Mirda তুমি আমাকে তৈরি করে নাও। আমার জীবন ও ভবি...</td>\n",
       "      <td>Mirda তুমি আমাকে তৈরি করে নাও। আমার জীবন ও ভবি...</td>\n",
       "      <td>Bengali</td>\n",
       "    </tr>\n",
       "    <tr>\n",
       "      <th>1</th>\n",
       "      <td>@kumkumdas9131</td>\n",
       "      <td>2023-01-25</td>\n",
       "      <td>0</td>\n",
       "      <td>তারানাথ তান্ত্রিকের অপেক্ষায় থাকলাম মীর দা</td>\n",
       "      <td>তারানাথ তান্ত্রিকের অপেক্ষায় থাকলাম মীর দা</td>\n",
       "      <td>Bengali</td>\n",
       "    </tr>\n",
       "    <tr>\n",
       "      <th>2</th>\n",
       "      <td>@golamrabbani8765</td>\n",
       "      <td>2023-01-25</td>\n",
       "      <td>0</td>\n",
       "      <td>আপনার কন্ঠে শার্লক হোমস আবারও শুনতে চাই❤️❤️❤️</td>\n",
       "      <td>আপনার কন্ঠে শার্লক হোমস আবারও শুনতে চাই</td>\n",
       "      <td>Bengali</td>\n",
       "    </tr>\n",
       "  </tbody>\n",
       "</table>\n",
       "</div>"
      ],
      "text/plain": [
       "                    author published_date  like_count  \\\n",
       "0  @Storysuspensecomedy123     2023-01-25           1   \n",
       "1           @kumkumdas9131     2023-01-25           0   \n",
       "2        @golamrabbani8765     2023-01-25           0   \n",
       "\n",
       "                                                text  \\\n",
       "0  Mirda তুমি আমাকে তৈরি করে নাও। আমার জীবন ও ভবি...   \n",
       "1        তারানাথ তান্ত্রিকের অপেক্ষায় থাকলাম মীর দা   \n",
       "2      আপনার কন্ঠে শার্লক হোমস আবারও শুনতে চাই❤️❤️❤️   \n",
       "\n",
       "                                               ctext language  \n",
       "0  Mirda তুমি আমাকে তৈরি করে নাও। আমার জীবন ও ভবি...  Bengali  \n",
       "1        তারানাথ তান্ত্রিকের অপেক্ষায় থাকলাম মীর দা  Bengali  \n",
       "2      আপনার কন্ঠে শার্লক হোমস আবারও শুনতে চাই        Bengali  "
      ]
     },
     "execution_count": 40,
     "metadata": {},
     "output_type": "execute_result"
    }
   ],
   "source": [
    "df1.head(3)"
   ]
  },
  {
   "cell_type": "code",
   "execution_count": 41,
   "id": "f917c1fe",
   "metadata": {
    "execution": {
     "iopub.execute_input": "2024-06-12T18:32:15.682458Z",
     "iopub.status.busy": "2024-06-12T18:32:15.681788Z",
     "iopub.status.idle": "2024-06-12T18:32:15.756522Z",
     "shell.execute_reply": "2024-06-12T18:32:15.755451Z"
    },
    "papermill": {
     "duration": 0.124825,
     "end_time": "2024-06-12T18:32:15.759242",
     "exception": false,
     "start_time": "2024-06-12T18:32:15.634417",
     "status": "completed"
    },
    "tags": []
   },
   "outputs": [],
   "source": [
    "df2.loc[df2['language'] == 'Emoji', 'ctext'] = df2['text']\n",
    "df3.loc[df3['language'] == 'Emoji', 'ctext'] = df3['text']"
   ]
  },
  {
   "cell_type": "code",
   "execution_count": 42,
   "id": "09145080",
   "metadata": {
    "execution": {
     "iopub.execute_input": "2024-06-12T18:32:15.852694Z",
     "iopub.status.busy": "2024-06-12T18:32:15.852265Z",
     "iopub.status.idle": "2024-06-12T18:32:15.869867Z",
     "shell.execute_reply": "2024-06-12T18:32:15.868818Z"
    },
    "papermill": {
     "duration": 0.066716,
     "end_time": "2024-06-12T18:32:15.872261",
     "exception": false,
     "start_time": "2024-06-12T18:32:15.805545",
     "status": "completed"
    },
    "tags": []
   },
   "outputs": [
    {
     "data": {
      "text/plain": [
       "'Thanks Mr.mir'"
      ]
     },
     "execution_count": 42,
     "metadata": {},
     "output_type": "execute_result"
    }
   ],
   "source": [
    "df3.drop(['public'], inplace=True, axis=1)\n",
    "df3['text'][0]"
   ]
  },
  {
   "cell_type": "code",
   "execution_count": 43,
   "id": "caff4051",
   "metadata": {
    "execution": {
     "iopub.execute_input": "2024-06-12T18:32:15.963229Z",
     "iopub.status.busy": "2024-06-12T18:32:15.962846Z",
     "iopub.status.idle": "2024-06-12T18:32:16.007842Z",
     "shell.execute_reply": "2024-06-12T18:32:16.006636Z"
    },
    "papermill": {
     "duration": 0.093215,
     "end_time": "2024-06-12T18:32:16.010335",
     "exception": false,
     "start_time": "2024-06-12T18:32:15.917120",
     "status": "completed"
    },
    "tags": []
   },
   "outputs": [
    {
     "data": {
      "text/html": [
       "<div>\n",
       "<style scoped>\n",
       "    .dataframe tbody tr th:only-of-type {\n",
       "        vertical-align: middle;\n",
       "    }\n",
       "\n",
       "    .dataframe tbody tr th {\n",
       "        vertical-align: top;\n",
       "    }\n",
       "\n",
       "    .dataframe thead th {\n",
       "        text-align: right;\n",
       "    }\n",
       "</style>\n",
       "<table border=\"1\" class=\"dataframe\">\n",
       "  <thead>\n",
       "    <tr style=\"text-align: right;\">\n",
       "      <th></th>\n",
       "      <th>author</th>\n",
       "      <th>published_date</th>\n",
       "      <th>like_count</th>\n",
       "      <th>text</th>\n",
       "      <th>ctext</th>\n",
       "      <th>language</th>\n",
       "    </tr>\n",
       "  </thead>\n",
       "  <tbody>\n",
       "    <tr>\n",
       "      <th>0</th>\n",
       "      <td>@SubashishChakraborty</td>\n",
       "      <td>2023-03-04</td>\n",
       "      <td>4209</td>\n",
       "      <td>আজ \"ব্রহ্মপিশাচ\", কাল সানডে সাসপেন্সে\" জলপিশাচ...</td>\n",
       "      <td>আজ \"ব্রহ্মপিশাচ\", কাল সানডে সাসপেন্সে\" জলপিশাচ...</td>\n",
       "      <td>Bengali</td>\n",
       "    </tr>\n",
       "    <tr>\n",
       "      <th>1</th>\n",
       "      <td>@sakilahamed5070</td>\n",
       "      <td>2023-09-16</td>\n",
       "      <td>2828</td>\n",
       "      <td>সোমক দা❤ কে গপ্পো মীরের ঠেকে নিয়মিত শুনতে চায...</td>\n",
       "      <td>সোমক দা  কে গপ্পো মীরের ঠেকে নিয়মিত শুনতে চায...</td>\n",
       "      <td>Bengali</td>\n",
       "    </tr>\n",
       "    <tr>\n",
       "      <th>2</th>\n",
       "      <td>@gouravkayal4650</td>\n",
       "      <td>2023-08-26</td>\n",
       "      <td>2588</td>\n",
       "      <td>দাদার গলায় তারানাথ তান্ত্রিক চরিত্রটি শুনতে ক...</td>\n",
       "      <td>দাদার গলায় তারানাথ তান্ত্রিক চরিত্রটি শুনতে ক...</td>\n",
       "      <td>Bengali</td>\n",
       "    </tr>\n",
       "    <tr>\n",
       "      <th>3</th>\n",
       "      <td>@arunavakarmakar8147</td>\n",
       "      <td>2023-02-12</td>\n",
       "      <td>2453</td>\n",
       "      <td>কে কে চায় যে আবার মীরদার কন্ঠে তারানাথ তান্ত্র...</td>\n",
       "      <td>কে কে চায় যে আবার মীরদার কন্ঠে তারানাথ তান্ত্র...</td>\n",
       "      <td>Bengali</td>\n",
       "    </tr>\n",
       "    <tr>\n",
       "      <th>4</th>\n",
       "      <td>@gouravkayal4650</td>\n",
       "      <td>2023-08-12</td>\n",
       "      <td>1842</td>\n",
       "      <td>দাদার কণ্ঠে কে কে বিভূতিবাবুর লেখা 'আরণ্যক' উপ...</td>\n",
       "      <td>দাদার কণ্ঠে কে কে বিভূতিবাবুর লেখা 'আরণ্যক' উপ...</td>\n",
       "      <td>Bengali</td>\n",
       "    </tr>\n",
       "  </tbody>\n",
       "</table>\n",
       "</div>"
      ],
      "text/plain": [
       "                  author published_date  like_count  \\\n",
       "0  @SubashishChakraborty     2023-03-04        4209   \n",
       "1       @sakilahamed5070     2023-09-16        2828   \n",
       "2       @gouravkayal4650     2023-08-26        2588   \n",
       "3   @arunavakarmakar8147     2023-02-12        2453   \n",
       "4       @gouravkayal4650     2023-08-12        1842   \n",
       "\n",
       "                                                text  \\\n",
       "0  আজ \"ব্রহ্মপিশাচ\", কাল সানডে সাসপেন্সে\" জলপিশাচ...   \n",
       "1  সোমক দা❤ কে গপ্পো মীরের ঠেকে নিয়মিত শুনতে চায...   \n",
       "2  দাদার গলায় তারানাথ তান্ত্রিক চরিত্রটি শুনতে ক...   \n",
       "3  কে কে চায় যে আবার মীরদার কন্ঠে তারানাথ তান্ত্র...   \n",
       "4  দাদার কণ্ঠে কে কে বিভূতিবাবুর লেখা 'আরণ্যক' উপ...   \n",
       "\n",
       "                                               ctext language  \n",
       "0  আজ \"ব্রহ্মপিশাচ\", কাল সানডে সাসপেন্সে\" জলপিশাচ...  Bengali  \n",
       "1  সোমক দা  কে গপ্পো মীরের ঠেকে নিয়মিত শুনতে চায...  Bengali  \n",
       "2  দাদার গলায় তারানাথ তান্ত্রিক চরিত্রটি শুনতে ক...  Bengali  \n",
       "3  কে কে চায় যে আবার মীরদার কন্ঠে তারানাথ তান্ত্র...  Bengali  \n",
       "4  দাদার কণ্ঠে কে কে বিভূতিবাবুর লেখা 'আরণ্যক' উপ...  Bengali  "
      ]
     },
     "execution_count": 43,
     "metadata": {},
     "output_type": "execute_result"
    }
   ],
   "source": [
    "df3 = df3.sort_values(by='like_count', ascending=False).reset_index(drop=True)\n",
    "df3.head(5)"
   ]
  },
  {
   "cell_type": "code",
   "execution_count": 44,
   "id": "7c55b32d",
   "metadata": {
    "execution": {
     "iopub.execute_input": "2024-06-12T18:32:16.105386Z",
     "iopub.status.busy": "2024-06-12T18:32:16.104680Z",
     "iopub.status.idle": "2024-06-12T18:32:16.183256Z",
     "shell.execute_reply": "2024-06-12T18:32:16.182066Z"
    },
    "papermill": {
     "duration": 0.128519,
     "end_time": "2024-06-12T18:32:16.185752",
     "exception": false,
     "start_time": "2024-06-12T18:32:16.057233",
     "status": "completed"
    },
    "tags": []
   },
   "outputs": [
    {
     "data": {
      "text/html": [
       "<div>\n",
       "<style scoped>\n",
       "    .dataframe tbody tr th:only-of-type {\n",
       "        vertical-align: middle;\n",
       "    }\n",
       "\n",
       "    .dataframe tbody tr th {\n",
       "        vertical-align: top;\n",
       "    }\n",
       "\n",
       "    .dataframe thead th {\n",
       "        text-align: right;\n",
       "    }\n",
       "</style>\n",
       "<table border=\"1\" class=\"dataframe\">\n",
       "  <thead>\n",
       "    <tr style=\"text-align: right;\">\n",
       "      <th></th>\n",
       "      <th>author</th>\n",
       "      <th>published_date</th>\n",
       "      <th>like_count</th>\n",
       "      <th>text</th>\n",
       "      <th>ctext</th>\n",
       "      <th>language</th>\n",
       "    </tr>\n",
       "  </thead>\n",
       "  <tbody>\n",
       "    <tr>\n",
       "      <th>0</th>\n",
       "      <td>@koushikdas7808</td>\n",
       "      <td>2022-07-31</td>\n",
       "      <td>6850</td>\n",
       "      <td>মীর কে লক্ষ লক্ষ মানুষ শুনতে ভালোবাসে। তাই আমি...</td>\n",
       "      <td>মীর কে লক্ষ লক্ষ মানুষ শুনতে ভালোবাসে। তাই আমি...</td>\n",
       "      <td>Bengali</td>\n",
       "    </tr>\n",
       "    <tr>\n",
       "      <th>1</th>\n",
       "      <td>@adityapaul2361</td>\n",
       "      <td>2022-11-20</td>\n",
       "      <td>5144</td>\n",
       "      <td>আমার মতো মীর দা ও তারানাথ তান্ত্রিককে কে কে চা...</td>\n",
       "      <td>আমার মতো মীর দা ও তারানাথ তান্ত্রিককে কে কে চা...</td>\n",
       "      <td>Bengali</td>\n",
       "    </tr>\n",
       "    <tr>\n",
       "      <th>2</th>\n",
       "      <td>@Jeetbose15</td>\n",
       "      <td>2022-10-08</td>\n",
       "      <td>4880</td>\n",
       "      <td>এক পুরনো শ্রোতা এবং Sunday Suspense এর শুভাকাঙ...</td>\n",
       "      <td>এক পুরনো শ্রোতা এবং Sunday Suspense এর শুভাকাঙ...</td>\n",
       "      <td>Bengali</td>\n",
       "    </tr>\n",
       "    <tr>\n",
       "      <th>3</th>\n",
       "      <td>@SarthakJasu</td>\n",
       "      <td>2023-03-05</td>\n",
       "      <td>4130</td>\n",
       "      <td>Mir Da সেরা ছিল but Deep দা তুমি যে এইভাবে আমা...</td>\n",
       "      <td>Mir Da সেরা ছিল but Deep দা তুমি যে এইভাবে আমা...</td>\n",
       "      <td>Bengali</td>\n",
       "    </tr>\n",
       "    <tr>\n",
       "      <th>4</th>\n",
       "      <td>@surajitbarman8525</td>\n",
       "      <td>2023-01-07</td>\n",
       "      <td>3562</td>\n",
       "      <td>কয়েকদিন পর থেকে সেমিস্টার এর পরীক্ষা শুরু হবে...</td>\n",
       "      <td>কয়েকদিন পর থেকে সেমিস্টার এর পরীক্ষা শুরু হবে...</td>\n",
       "      <td>Bengali</td>\n",
       "    </tr>\n",
       "  </tbody>\n",
       "</table>\n",
       "</div>"
      ],
      "text/plain": [
       "               author published_date  like_count  \\\n",
       "0     @koushikdas7808     2022-07-31        6850   \n",
       "1     @adityapaul2361     2022-11-20        5144   \n",
       "2         @Jeetbose15     2022-10-08        4880   \n",
       "3        @SarthakJasu     2023-03-05        4130   \n",
       "4  @surajitbarman8525     2023-01-07        3562   \n",
       "\n",
       "                                                text  \\\n",
       "0  মীর কে লক্ষ লক্ষ মানুষ শুনতে ভালোবাসে। তাই আমি...   \n",
       "1  আমার মতো মীর দা ও তারানাথ তান্ত্রিককে কে কে চা...   \n",
       "2  এক পুরনো শ্রোতা এবং Sunday Suspense এর শুভাকাঙ...   \n",
       "3  Mir Da সেরা ছিল but Deep দা তুমি যে এইভাবে আমা...   \n",
       "4  কয়েকদিন পর থেকে সেমিস্টার এর পরীক্ষা শুরু হবে...   \n",
       "\n",
       "                                               ctext language  \n",
       "0  মীর কে লক্ষ লক্ষ মানুষ শুনতে ভালোবাসে। তাই আমি...  Bengali  \n",
       "1  আমার মতো মীর দা ও তারানাথ তান্ত্রিককে কে কে চা...  Bengali  \n",
       "2  এক পুরনো শ্রোতা এবং Sunday Suspense এর শুভাকাঙ...  Bengali  \n",
       "3  Mir Da সেরা ছিল but Deep দা তুমি যে এইভাবে আমা...  Bengali  \n",
       "4  কয়েকদিন পর থেকে সেমিস্টার এর পরীক্ষা শুরু হবে...  Bengali  "
      ]
     },
     "execution_count": 44,
     "metadata": {},
     "output_type": "execute_result"
    }
   ],
   "source": [
    "df2 = df2.sort_values(by='like_count', ascending=False).reset_index(drop=True)\n",
    "df2.head(5)"
   ]
  },
  {
   "cell_type": "code",
   "execution_count": 45,
   "id": "8787ee81",
   "metadata": {
    "execution": {
     "iopub.execute_input": "2024-06-12T18:32:16.279952Z",
     "iopub.status.busy": "2024-06-12T18:32:16.279574Z",
     "iopub.status.idle": "2024-06-12T18:32:16.447965Z",
     "shell.execute_reply": "2024-06-12T18:32:16.446897Z"
    },
    "papermill": {
     "duration": 0.218036,
     "end_time": "2024-06-12T18:32:16.450314",
     "exception": false,
     "start_time": "2024-06-12T18:32:16.232278",
     "status": "completed"
    },
    "tags": []
   },
   "outputs": [
    {
     "data": {
      "text/html": [
       "<div>\n",
       "<style scoped>\n",
       "    .dataframe tbody tr th:only-of-type {\n",
       "        vertical-align: middle;\n",
       "    }\n",
       "\n",
       "    .dataframe tbody tr th {\n",
       "        vertical-align: top;\n",
       "    }\n",
       "\n",
       "    .dataframe thead th {\n",
       "        text-align: right;\n",
       "    }\n",
       "</style>\n",
       "<table border=\"1\" class=\"dataframe\">\n",
       "  <thead>\n",
       "    <tr style=\"text-align: right;\">\n",
       "      <th></th>\n",
       "      <th>author</th>\n",
       "      <th>published_date</th>\n",
       "      <th>like_count</th>\n",
       "      <th>text</th>\n",
       "      <th>ctext</th>\n",
       "      <th>language</th>\n",
       "    </tr>\n",
       "  </thead>\n",
       "  <tbody>\n",
       "    <tr>\n",
       "      <th>0</th>\n",
       "      <td>@wolfhowling220</td>\n",
       "      <td>2021-12-19</td>\n",
       "      <td>5373</td>\n",
       "      <td>Sunday suspense er শ্রোতাদের মধ্যে কে কে \"The ...</td>\n",
       "      <td>Sunday suspense er শ্রোতাদের মধ্যে কে কে \"The ...</td>\n",
       "      <td>Bengali</td>\n",
       "    </tr>\n",
       "    <tr>\n",
       "      <th>1</th>\n",
       "      <td>@ksarkar1338</td>\n",
       "      <td>2021-12-03</td>\n",
       "      <td>4929</td>\n",
       "      <td>বেঁচে থাকতে হয়তো বিশ্ব সাহিত্যের যেসব গল্প কো...</td>\n",
       "      <td>বেঁচে থাকতে হয়তো বিশ্ব সাহিত্যের যেসব গল্প কো...</td>\n",
       "      <td>Bengali</td>\n",
       "    </tr>\n",
       "    <tr>\n",
       "      <th>2</th>\n",
       "      <td>@dcsalim4384</td>\n",
       "      <td>2021-12-12</td>\n",
       "      <td>4830</td>\n",
       "      <td>এ আমার পরম সৌভাগ্য যে একজন বাঙালি হয়ে জন্মেছি ...</td>\n",
       "      <td>এ আমার পরম সৌভাগ্য যে একজন বাঙালি হয়ে জন্মেছি ...</td>\n",
       "      <td>Bengali</td>\n",
       "    </tr>\n",
       "    <tr>\n",
       "      <th>3</th>\n",
       "      <td>@AmioPariGuru</td>\n",
       "      <td>2022-01-22</td>\n",
       "      <td>4551</td>\n",
       "      <td>কে কে মনে করেন 'The count of Monte Christo' এই...</td>\n",
       "      <td>কে কে মনে করেন 'The count of Monte Christo' এই...</td>\n",
       "      <td>Bengali</td>\n",
       "    </tr>\n",
       "    <tr>\n",
       "      <th>4</th>\n",
       "      <td>@rishiupadhyay3956</td>\n",
       "      <td>2022-05-22</td>\n",
       "      <td>3953</td>\n",
       "      <td>একটা ছোট্ট request, Alexender Dumas series যখন...</td>\n",
       "      <td>একটা ছোট্ট request, Alexender Dumas series যখন...</td>\n",
       "      <td>Bengali</td>\n",
       "    </tr>\n",
       "  </tbody>\n",
       "</table>\n",
       "</div>"
      ],
      "text/plain": [
       "               author published_date  like_count  \\\n",
       "0     @wolfhowling220     2021-12-19        5373   \n",
       "1        @ksarkar1338     2021-12-03        4929   \n",
       "2        @dcsalim4384     2021-12-12        4830   \n",
       "3       @AmioPariGuru     2022-01-22        4551   \n",
       "4  @rishiupadhyay3956     2022-05-22        3953   \n",
       "\n",
       "                                                text  \\\n",
       "0  Sunday suspense er শ্রোতাদের মধ্যে কে কে \"The ...   \n",
       "1  বেঁচে থাকতে হয়তো বিশ্ব সাহিত্যের যেসব গল্প কো...   \n",
       "2  এ আমার পরম সৌভাগ্য যে একজন বাঙালি হয়ে জন্মেছি ...   \n",
       "3  কে কে মনে করেন 'The count of Monte Christo' এই...   \n",
       "4  একটা ছোট্ট request, Alexender Dumas series যখন...   \n",
       "\n",
       "                                               ctext language  \n",
       "0  Sunday suspense er শ্রোতাদের মধ্যে কে কে \"The ...  Bengali  \n",
       "1  বেঁচে থাকতে হয়তো বিশ্ব সাহিত্যের যেসব গল্প কো...  Bengali  \n",
       "2  এ আমার পরম সৌভাগ্য যে একজন বাঙালি হয়ে জন্মেছি ...  Bengali  \n",
       "3  কে কে মনে করেন 'The count of Monte Christo' এই...  Bengali  \n",
       "4  একটা ছোট্ট request, Alexender Dumas series যখন...  Bengali  "
      ]
     },
     "execution_count": 45,
     "metadata": {},
     "output_type": "execute_result"
    }
   ],
   "source": [
    "df1 = df1.sort_values(by='like_count', ascending=False).reset_index(drop=True)\n",
    "df1.head(5)"
   ]
  },
  {
   "cell_type": "code",
   "execution_count": 46,
   "id": "087af1e4",
   "metadata": {
    "execution": {
     "iopub.execute_input": "2024-06-12T18:32:16.544808Z",
     "iopub.status.busy": "2024-06-12T18:32:16.543683Z",
     "iopub.status.idle": "2024-06-12T18:32:18.165539Z",
     "shell.execute_reply": "2024-06-12T18:32:18.164487Z"
    },
    "papermill": {
     "duration": 1.671648,
     "end_time": "2024-06-12T18:32:18.168213",
     "exception": false,
     "start_time": "2024-06-12T18:32:16.496565",
     "status": "completed"
    },
    "tags": []
   },
   "outputs": [],
   "source": [
    "def remove_extra_spaces(text):\n",
    "    # Split the text by whitespace and then join it back with a single space\n",
    "    cleaned_text = ' '.join(text.split())\n",
    "    return cleaned_text\n",
    "\n",
    "df1['ctext'] = df1['ctext'].apply(remove_extra_spaces)\n",
    "df2['ctext'] = df2['ctext'].apply(remove_extra_spaces)\n",
    "df3['ctext'] = df3['ctext'].apply(remove_extra_spaces)"
   ]
  },
  {
   "cell_type": "code",
   "execution_count": 47,
   "id": "4197c7bb",
   "metadata": {
    "execution": {
     "iopub.execute_input": "2024-06-12T18:32:18.262424Z",
     "iopub.status.busy": "2024-06-12T18:32:18.261570Z",
     "iopub.status.idle": "2024-06-12T18:32:18.271522Z",
     "shell.execute_reply": "2024-06-12T18:32:18.270450Z"
    },
    "papermill": {
     "duration": 0.060318,
     "end_time": "2024-06-12T18:32:18.274621",
     "exception": false,
     "start_time": "2024-06-12T18:32:18.214303",
     "status": "completed"
    },
    "tags": []
   },
   "outputs": [
    {
     "name": "stdout",
     "output_type": "stream",
     "text": [
      "['Sunday suspense er শ্রোতাদের মধ্যে কে কে \"The count of Monte Cristo\" শুনেছ ?']\n",
      "['Bengali']\n",
      "['মীর কে লক্ষ লক্ষ মানুষ শুনতে ভালোবাসে। তাই আমি মনে করি শ্রোতাদের কথা মাথায় রেখে Sunday suspense টা তার চালিয়ে যাওয়া উচিত ছিল। যেরকম দীপ এখনো করে। মীরকে ছারা ব্যোমকেশ, তারানাথ চরিত্র গুলো ভাবা যায়না। আপনাদের কি মতামত?']\n",
      "['Bengali']\n",
      "['আজ \"ব্রহ্মপিশাচ\", কাল সানডে সাসপেন্সে\" জলপিশাচ\"। জমে যাবে পুরো। কিন্তু যতই বলো, তারানাথের চরিত্রটি মীরের কন্ঠ ছাড়া মানায় না।']\n",
      "['Bengali']\n",
      "\n",
      "1000\n"
     ]
    }
   ],
   "source": [
    "# say threshold is 20k\n",
    "threshold = 10_00\n",
    "\n",
    "test_textms = df1[:threshold]['ctext'].tolist()\n",
    "lang_ms = df1[:threshold]['language'].tolist()\n",
    "\n",
    "print(test_textms[:1])\n",
    "print(lang_ms[:1])\n",
    "\n",
    "test_textmc = df2[:threshold]['ctext'].tolist()\n",
    "lang_mc = df2[:threshold]['language'].tolist()\n",
    "\n",
    "print(test_textmc[:1])\n",
    "print(lang_mc[:1])\n",
    "\n",
    "\n",
    "test_textmt = df3[:threshold]['ctext'].tolist()\n",
    "lang_mt = df3[:threshold]['language'].tolist()\n",
    "\n",
    "print(test_textmt[:1])\n",
    "print(lang_mt[:1])\n",
    "\n",
    "\n",
    "print(f'\\n{len(test_textmc)}')"
   ]
  },
  {
   "cell_type": "code",
   "execution_count": null,
   "id": "50968ae1",
   "metadata": {
    "papermill": {
     "duration": 0.04518,
     "end_time": "2024-06-12T18:32:18.365858",
     "exception": false,
     "start_time": "2024-06-12T18:32:18.320678",
     "status": "completed"
    },
    "tags": []
   },
   "outputs": [],
   "source": []
  },
  {
   "cell_type": "code",
   "execution_count": 48,
   "id": "76cbea95",
   "metadata": {
    "execution": {
     "iopub.execute_input": "2024-06-12T18:32:18.459413Z",
     "iopub.status.busy": "2024-06-12T18:32:18.458754Z",
     "iopub.status.idle": "2024-06-12T18:32:18.463736Z",
     "shell.execute_reply": "2024-06-12T18:32:18.462691Z"
    },
    "papermill": {
     "duration": 0.053518,
     "end_time": "2024-06-12T18:32:18.465832",
     "exception": false,
     "start_time": "2024-06-12T18:32:18.412314",
     "status": "completed"
    },
    "tags": []
   },
   "outputs": [],
   "source": [
    "# pip install git+https://github.com/csebuetnlp/normalizer"
   ]
  },
  {
   "cell_type": "code",
   "execution_count": 49,
   "id": "7a688077",
   "metadata": {
    "execution": {
     "iopub.execute_input": "2024-06-12T18:32:18.555759Z",
     "iopub.status.busy": "2024-06-12T18:32:18.555103Z",
     "iopub.status.idle": "2024-06-12T18:32:23.808247Z",
     "shell.execute_reply": "2024-06-12T18:32:23.807121Z"
    },
    "papermill": {
     "duration": 5.3009,
     "end_time": "2024-06-12T18:32:23.810663",
     "exception": false,
     "start_time": "2024-06-12T18:32:18.509763",
     "status": "completed"
    },
    "tags": []
   },
   "outputs": [
    {
     "name": "stdout",
     "output_type": "stream",
     "text": [
      "cuda:0\n"
     ]
    },
    {
     "data": {
      "text/plain": [
       "device(type='cuda', index=0)"
      ]
     },
     "execution_count": 49,
     "metadata": {},
     "output_type": "execute_result"
    }
   ],
   "source": [
    "import torch\n",
    "device = torch.device(\"cuda:0\" if torch.cuda.is_available() else \"cpu\")\n",
    "print(device)\n",
    "device"
   ]
  },
  {
   "cell_type": "code",
   "execution_count": 50,
   "id": "60d314e8",
   "metadata": {
    "execution": {
     "iopub.execute_input": "2024-06-12T18:32:23.905326Z",
     "iopub.status.busy": "2024-06-12T18:32:23.904239Z",
     "iopub.status.idle": "2024-06-12T18:32:47.643392Z",
     "shell.execute_reply": "2024-06-12T18:32:47.642085Z"
    },
    "papermill": {
     "duration": 23.78959,
     "end_time": "2024-06-12T18:32:47.645931",
     "exception": false,
     "start_time": "2024-06-12T18:32:23.856341",
     "status": "completed"
    },
    "tags": []
   },
   "outputs": [
    {
     "name": "stderr",
     "output_type": "stream",
     "text": [
      "2024-06-12 18:32:28.909698: E external/local_xla/xla/stream_executor/cuda/cuda_dnn.cc:9261] Unable to register cuDNN factory: Attempting to register factory for plugin cuDNN when one has already been registered\n",
      "2024-06-12 18:32:28.909815: E external/local_xla/xla/stream_executor/cuda/cuda_fft.cc:607] Unable to register cuFFT factory: Attempting to register factory for plugin cuFFT when one has already been registered\n",
      "2024-06-12 18:32:29.087433: E external/local_xla/xla/stream_executor/cuda/cuda_blas.cc:1515] Unable to register cuBLAS factory: Attempting to register factory for plugin cuBLAS when one has already been registered\n"
     ]
    },
    {
     "data": {
      "application/vnd.jupyter.widget-view+json": {
       "model_id": "0c19ba0f17dd47d29aeb846c784d4102",
       "version_major": 2,
       "version_minor": 0
      },
      "text/plain": [
       "config.json:   0%|          | 0.00/935 [00:00<?, ?B/s]"
      ]
     },
     "metadata": {},
     "output_type": "display_data"
    },
    {
     "data": {
      "application/vnd.jupyter.widget-view+json": {
       "model_id": "0c517659091e45639c664441f15f9aea",
       "version_major": 2,
       "version_minor": 0
      },
      "text/plain": [
       "model.safetensors:   0%|          | 0.00/438M [00:00<?, ?B/s]"
      ]
     },
     "metadata": {},
     "output_type": "display_data"
    },
    {
     "data": {
      "application/vnd.jupyter.widget-view+json": {
       "model_id": "e5a464087732402f9379d2314a7a98ca",
       "version_major": 2,
       "version_minor": 0
      },
      "text/plain": [
       "tokenizer_config.json:   0%|          | 0.00/285 [00:00<?, ?B/s]"
      ]
     },
     "metadata": {},
     "output_type": "display_data"
    },
    {
     "data": {
      "application/vnd.jupyter.widget-view+json": {
       "model_id": "efd87a94a8584a6894a65ce14b9bf726",
       "version_major": 2,
       "version_minor": 0
      },
      "text/plain": [
       "vocab.txt:   0%|          | 0.00/232k [00:00<?, ?B/s]"
      ]
     },
     "metadata": {},
     "output_type": "display_data"
    },
    {
     "data": {
      "application/vnd.jupyter.widget-view+json": {
       "model_id": "c3cdd29f46004728857db3404f811cf5",
       "version_major": 2,
       "version_minor": 0
      },
      "text/plain": [
       "tokenizer.json:   0%|          | 0.00/466k [00:00<?, ?B/s]"
      ]
     },
     "metadata": {},
     "output_type": "display_data"
    },
    {
     "data": {
      "application/vnd.jupyter.widget-view+json": {
       "model_id": "25441364900d41c296d796c62234d5c6",
       "version_major": 2,
       "version_minor": 0
      },
      "text/plain": [
       "special_tokens_map.json:   0%|          | 0.00/112 [00:00<?, ?B/s]"
      ]
     },
     "metadata": {},
     "output_type": "display_data"
    },
    {
     "name": "stderr",
     "output_type": "stream",
     "text": [
      "/opt/conda/lib/python3.10/site-packages/transformers/pipelines/text_classification.py:104: UserWarning: `return_all_scores` is now deprecated,  if want a similar functionality use `top_k=None` instead of `return_all_scores=True` or `top_k=1` instead of `return_all_scores=False`.\n",
      "  warnings.warn(\n"
     ]
    }
   ],
   "source": [
    "from transformers import pipeline\n",
    "classifier_en = pipeline(\"text-classification\",model='bhadresh-savani/bert-base-uncased-emotion',\n",
    "                         return_all_scores=False, truncation=True, device=device)"
   ]
  },
  {
   "cell_type": "code",
   "execution_count": 51,
   "id": "06c0166a",
   "metadata": {
    "execution": {
     "iopub.execute_input": "2024-06-12T18:32:47.744043Z",
     "iopub.status.busy": "2024-06-12T18:32:47.743317Z",
     "iopub.status.idle": "2024-06-12T18:33:00.778805Z",
     "shell.execute_reply": "2024-06-12T18:33:00.777587Z"
    },
    "papermill": {
     "duration": 13.088022,
     "end_time": "2024-06-12T18:33:00.781641",
     "exception": false,
     "start_time": "2024-06-12T18:32:47.693619",
     "status": "completed"
    },
    "tags": []
   },
   "outputs": [
    {
     "data": {
      "application/vnd.jupyter.widget-view+json": {
       "model_id": "304e792540e440e09d1500a918272853",
       "version_major": 2,
       "version_minor": 0
      },
      "text/plain": [
       "config.json:   0%|          | 0.00/1.15k [00:00<?, ?B/s]"
      ]
     },
     "metadata": {},
     "output_type": "display_data"
    },
    {
     "data": {
      "application/vnd.jupyter.widget-view+json": {
       "model_id": "6b376d6395cf441598b7aa2d4b4b254f",
       "version_major": 2,
       "version_minor": 0
      },
      "text/plain": [
       "model.safetensors:   0%|          | 0.00/1.63G [00:00<?, ?B/s]"
      ]
     },
     "metadata": {},
     "output_type": "display_data"
    },
    {
     "data": {
      "application/vnd.jupyter.widget-view+json": {
       "model_id": "4d8525c4760044e3b44c16d9891d0166",
       "version_major": 2,
       "version_minor": 0
      },
      "text/plain": [
       "tokenizer_config.json:   0%|          | 0.00/26.0 [00:00<?, ?B/s]"
      ]
     },
     "metadata": {},
     "output_type": "display_data"
    },
    {
     "data": {
      "application/vnd.jupyter.widget-view+json": {
       "model_id": "4a0735cad3204613bfad9926c9b90e7d",
       "version_major": 2,
       "version_minor": 0
      },
      "text/plain": [
       "vocab.json:   0%|          | 0.00/899k [00:00<?, ?B/s]"
      ]
     },
     "metadata": {},
     "output_type": "display_data"
    },
    {
     "data": {
      "application/vnd.jupyter.widget-view+json": {
       "model_id": "37465290af3b469382a793e2f34ad413",
       "version_major": 2,
       "version_minor": 0
      },
      "text/plain": [
       "merges.txt:   0%|          | 0.00/456k [00:00<?, ?B/s]"
      ]
     },
     "metadata": {},
     "output_type": "display_data"
    },
    {
     "data": {
      "application/vnd.jupyter.widget-view+json": {
       "model_id": "639a82094f064d8885411b2768e2685a",
       "version_major": 2,
       "version_minor": 0
      },
      "text/plain": [
       "tokenizer.json:   0%|          | 0.00/1.36M [00:00<?, ?B/s]"
      ]
     },
     "metadata": {},
     "output_type": "display_data"
    }
   ],
   "source": [
    "from transformers import pipeline\n",
    "classifier = pipeline(\"zero-shot-classification\",\n",
    "                      model=\"facebook/bart-large-mnli\", device=device)"
   ]
  },
  {
   "cell_type": "code",
   "execution_count": 52,
   "id": "ef25b7de",
   "metadata": {
    "execution": {
     "iopub.execute_input": "2024-06-12T18:33:00.882917Z",
     "iopub.status.busy": "2024-06-12T18:33:00.882497Z",
     "iopub.status.idle": "2024-06-12T18:33:02.549893Z",
     "shell.execute_reply": "2024-06-12T18:33:02.548659Z"
    },
    "papermill": {
     "duration": 1.721662,
     "end_time": "2024-06-12T18:33:02.552807",
     "exception": false,
     "start_time": "2024-06-12T18:33:00.831145",
     "status": "completed"
    },
    "tags": []
   },
   "outputs": [
    {
     "data": {
      "text/plain": [
       "{'sequence': 'I love using transformers. The best part is wide range of support and its easy to use',\n",
       " 'labels': ['good', 'neutral', 'bad'],\n",
       " 'scores': [0.9879899621009827, 0.009024858474731445, 0.002985224826261401]}"
      ]
     },
     "execution_count": 52,
     "metadata": {},
     "output_type": "execute_result"
    }
   ],
   "source": [
    "prediction = classifier(\"I love using transformers. The best part is wide range of support and its easy to use\", ['good', 'bad', 'neutral'])\n",
    "prediction"
   ]
  },
  {
   "cell_type": "code",
   "execution_count": null,
   "id": "e89919d8",
   "metadata": {
    "papermill": {
     "duration": 0.050228,
     "end_time": "2024-06-12T18:33:02.664027",
     "exception": false,
     "start_time": "2024-06-12T18:33:02.613799",
     "status": "completed"
    },
    "tags": []
   },
   "outputs": [],
   "source": []
  },
  {
   "cell_type": "code",
   "execution_count": 53,
   "id": "f0f06965",
   "metadata": {
    "execution": {
     "iopub.execute_input": "2024-06-12T18:33:02.765700Z",
     "iopub.status.busy": "2024-06-12T18:33:02.765284Z",
     "iopub.status.idle": "2024-06-12T18:33:06.952344Z",
     "shell.execute_reply": "2024-06-12T18:33:06.950952Z"
    },
    "papermill": {
     "duration": 4.241229,
     "end_time": "2024-06-12T18:33:06.955052",
     "exception": false,
     "start_time": "2024-06-12T18:33:02.713823",
     "status": "completed"
    },
    "tags": []
   },
   "outputs": [
    {
     "data": {
      "application/vnd.jupyter.widget-view+json": {
       "model_id": "302c5330f6cb4a14978e9a238efa0a26",
       "version_major": 2,
       "version_minor": 0
      },
      "text/plain": [
       "tokenizer_config.json:   0%|          | 0.00/119 [00:00<?, ?B/s]"
      ]
     },
     "metadata": {},
     "output_type": "display_data"
    },
    {
     "data": {
      "application/vnd.jupyter.widget-view+json": {
       "model_id": "3685170eb7ef4e66905625d34e2ce3bb",
       "version_major": 2,
       "version_minor": 0
      },
      "text/plain": [
       "config.json:   0%|          | 0.00/586 [00:00<?, ?B/s]"
      ]
     },
     "metadata": {},
     "output_type": "display_data"
    },
    {
     "data": {
      "application/vnd.jupyter.widget-view+json": {
       "model_id": "6065cd13f45d4917a3c8d36bb98b54cc",
       "version_major": 2,
       "version_minor": 0
      },
      "text/plain": [
       "vocab.txt:   0%|          | 0.00/528k [00:00<?, ?B/s]"
      ]
     },
     "metadata": {},
     "output_type": "display_data"
    },
    {
     "data": {
      "application/vnd.jupyter.widget-view+json": {
       "model_id": "b7176a9025544116967c02960fdb85ed",
       "version_major": 2,
       "version_minor": 0
      },
      "text/plain": [
       "special_tokens_map.json:   0%|          | 0.00/112 [00:00<?, ?B/s]"
      ]
     },
     "metadata": {},
     "output_type": "display_data"
    },
    {
     "name": "stdout",
     "output_type": "stream",
     "text": [
      "ElectraConfig {\n",
      "  \"_name_or_path\": \"/kaggle/input/trained-models/emo_model_dis\",\n",
      "  \"architectures\": [\n",
      "    \"ElectraForSequenceClassification\"\n",
      "  ],\n",
      "  \"attention_probs_dropout_prob\": 0.1,\n",
      "  \"classifier_dropout\": null,\n",
      "  \"embedding_size\": 768,\n",
      "  \"hidden_act\": \"gelu\",\n",
      "  \"hidden_dropout_prob\": 0.1,\n",
      "  \"hidden_size\": 768,\n",
      "  \"id2label\": {\n",
      "    \"0\": \"LABEL_0\",\n",
      "    \"1\": \"LABEL_1\",\n",
      "    \"2\": \"LABEL_2\",\n",
      "    \"3\": \"LABEL_3\"\n",
      "  },\n",
      "  \"initializer_range\": 0.02,\n",
      "  \"intermediate_size\": 3072,\n",
      "  \"label2id\": {\n",
      "    \"LABEL_0\": 0,\n",
      "    \"LABEL_1\": 1,\n",
      "    \"LABEL_2\": 2,\n",
      "    \"LABEL_3\": 3\n",
      "  },\n",
      "  \"layer_norm_eps\": 1e-12,\n",
      "  \"max_position_embeddings\": 512,\n",
      "  \"model_type\": \"electra\",\n",
      "  \"num_attention_heads\": 12,\n",
      "  \"num_hidden_layers\": 12,\n",
      "  \"pad_token_id\": 0,\n",
      "  \"position_embedding_type\": \"absolute\",\n",
      "  \"problem_type\": \"single_label_classification\",\n",
      "  \"summary_activation\": \"gelu\",\n",
      "  \"summary_last_dropout\": 0.1,\n",
      "  \"summary_type\": \"first\",\n",
      "  \"summary_use_proj\": true,\n",
      "  \"torch_dtype\": \"float32\",\n",
      "  \"transformers_version\": \"4.38.2\",\n",
      "  \"type_vocab_size\": 2,\n",
      "  \"use_cache\": true,\n",
      "  \"vocab_size\": 32000\n",
      "}\n",
      "\n"
     ]
    }
   ],
   "source": [
    "from transformers import AutoModelForSequenceClassification, AutoTokenizer\n",
    "from transformers import AutoModelForPreTraining, AutoTokenizer\n",
    "# from normalizer import normalize \n",
    "\n",
    "\n",
    "# MODEL BANGLA\n",
    "# check_point = \"csebuetnlp/banglishbert\"\n",
    "modelcp = '/kaggle/input/trained-models/emo_model_dis'\n",
    "checkpoint = \"csebuetnlp/banglabert\"\n",
    "tokenizer = AutoTokenizer.from_pretrained(checkpoint)\n",
    "model = AutoModelForSequenceClassification.from_pretrained(modelcp)\n",
    "\n",
    "print(model.config)"
   ]
  },
  {
   "cell_type": "code",
   "execution_count": 54,
   "id": "d10bdd20",
   "metadata": {
    "execution": {
     "iopub.execute_input": "2024-06-12T18:33:07.056572Z",
     "iopub.status.busy": "2024-06-12T18:33:07.056147Z",
     "iopub.status.idle": "2024-06-12T18:33:07.062225Z",
     "shell.execute_reply": "2024-06-12T18:33:07.061180Z"
    },
    "papermill": {
     "duration": 0.059747,
     "end_time": "2024-06-12T18:33:07.064645",
     "exception": false,
     "start_time": "2024-06-12T18:33:07.004898",
     "status": "completed"
    },
    "tags": []
   },
   "outputs": [],
   "source": [
    "new_label_mapping = {\n",
    "     0: \"love\",\n",
    "     1: \"sad\",\n",
    "     2: \"anger\",\n",
    "     3: \"fear\"\n",
    "}\n",
    "model.config.id2label = new_label_mapping\n",
    "model.config.label2id = {v: int(k) for k, v in new_label_mapping.items()}"
   ]
  },
  {
   "cell_type": "code",
   "execution_count": 55,
   "id": "090d3aa1",
   "metadata": {
    "execution": {
     "iopub.execute_input": "2024-06-12T18:33:07.166715Z",
     "iopub.status.busy": "2024-06-12T18:33:07.165849Z",
     "iopub.status.idle": "2024-06-12T18:33:07.171615Z",
     "shell.execute_reply": "2024-06-12T18:33:07.170586Z"
    },
    "papermill": {
     "duration": 0.059871,
     "end_time": "2024-06-12T18:33:07.174435",
     "exception": false,
     "start_time": "2024-06-12T18:33:07.114564",
     "status": "completed"
    },
    "tags": []
   },
   "outputs": [
    {
     "name": "stdout",
     "output_type": "stream",
     "text": [
      "['অনেক', 'ভালো', 'গল্প', '।']\n"
     ]
    }
   ],
   "source": [
    "input_text = 'অনেক ভালো গল্প।'\n",
    "# input_text = 'খুব বাজে গল্প। অনেক খারাপ লাগছে শুনতে।'\n",
    "# input_text = \"very bad story.\"\n",
    "print(tokenizer.tokenize(input_text))"
   ]
  },
  {
   "cell_type": "code",
   "execution_count": 56,
   "id": "86fd59a3",
   "metadata": {
    "execution": {
     "iopub.execute_input": "2024-06-12T18:33:07.277853Z",
     "iopub.status.busy": "2024-06-12T18:33:07.277438Z",
     "iopub.status.idle": "2024-06-12T18:33:07.747847Z",
     "shell.execute_reply": "2024-06-12T18:33:07.746520Z"
    },
    "papermill": {
     "duration": 0.524388,
     "end_time": "2024-06-12T18:33:07.750409",
     "exception": false,
     "start_time": "2024-06-12T18:33:07.226021",
     "status": "completed"
    },
    "tags": []
   },
   "outputs": [
    {
     "name": "stdout",
     "output_type": "stream",
     "text": [
      "['অনেক', 'ভালো', 'গল্প', '।']\n",
      "{'input_ids': tensor([[   2, 1011, 1055, 1705,  205,    3]], device='cuda:0'), 'attention_mask': tensor([[1, 1, 1, 1, 1, 1]], device='cuda:0')}\n",
      "tensor([[ 7.6101, -2.0278, -3.2038, -2.7896]], device='cuda:0',\n",
      "       grad_fn=<AddmmBackward0>)\n",
      "tensor([[9.9988e-01, 6.5197e-05, 2.0116e-05, 3.0438e-05]], device='cuda:0',\n",
      "       grad_fn=<SoftmaxBackward0>)\n",
      "Predicted sentiment: love with probability: 0.9998842477798462\n"
     ]
    }
   ],
   "source": [
    "input_text = 'অনেক ভালো গল্প।'\n",
    "# input_text = \"মীর ছাড়া sunday suspense শুনতে ভালো লাগে  না\"\n",
    "# input_text = \"very bad story.\"\n",
    "print(tokenizer.tokenize(input_text))\n",
    "\n",
    "\n",
    "inputs = tokenizer(input_text, return_tensors=\"pt\").to(device) # Tokenize and convert to tensors\n",
    "inputs.pop(\"token_type_ids\", None)\n",
    "print(inputs)\n",
    "model = model.to(device)\n",
    "outputs = model(**inputs)  \n",
    "logits = outputs.logits \n",
    "print(logits)\n",
    "probabilities = torch.nn.functional.softmax(logits, dim=-1)\n",
    "print(probabilities)\n",
    "\n",
    "predicted_class_index = logits.argmax(-1).item()\n",
    "predicted_class = model.config.id2label[predicted_class_index]\n",
    "predicted_probability = probabilities[0][predicted_class_index].item()\n",
    "print(\"Predicted sentiment:\", predicted_class, \"with probability:\", predicted_probability)"
   ]
  },
  {
   "cell_type": "code",
   "execution_count": 57,
   "id": "d5ea78c5",
   "metadata": {
    "execution": {
     "iopub.execute_input": "2024-06-12T18:33:07.855097Z",
     "iopub.status.busy": "2024-06-12T18:33:07.854676Z",
     "iopub.status.idle": "2024-06-12T18:33:07.862797Z",
     "shell.execute_reply": "2024-06-12T18:33:07.861533Z"
    },
    "papermill": {
     "duration": 0.062582,
     "end_time": "2024-06-12T18:33:07.865154",
     "exception": false,
     "start_time": "2024-06-12T18:33:07.802572",
     "status": "completed"
    },
    "tags": []
   },
   "outputs": [],
   "source": [
    "def predict(txt, model):\n",
    "    '''\n",
    "    Implements our awsome algorithm and gives final output\n",
    "    '''\n",
    "    inputs = tokenizer(txt, return_tensors=\"pt\").to(device)\n",
    "    model = model.to(device)\n",
    "    outputs = model(**inputs)\n",
    "    logits = outputs.logits\n",
    "    probabilities = torch.nn.functional.softmax(logits, dim=-1)\n",
    "    predicted_class_index = logits.argmax(-1).item()\n",
    "    predicted_class = model.config.id2label[predicted_class_index]\n",
    "    predicted_probability = probabilities[0][predicted_class_index].item()\n",
    "    return [predicted_class, predicted_probability]"
   ]
  },
  {
   "cell_type": "code",
   "execution_count": 58,
   "id": "68d00b2f",
   "metadata": {
    "execution": {
     "iopub.execute_input": "2024-06-12T18:33:07.968969Z",
     "iopub.status.busy": "2024-06-12T18:33:07.967928Z",
     "iopub.status.idle": "2024-06-12T18:33:08.144565Z",
     "shell.execute_reply": "2024-06-12T18:33:08.143425Z"
    },
    "papermill": {
     "duration": 0.231447,
     "end_time": "2024-06-12T18:33:08.146984",
     "exception": false,
     "start_time": "2024-06-12T18:33:07.915537",
     "status": "completed"
    },
    "tags": []
   },
   "outputs": [
    {
     "name": "stdout",
     "output_type": "stream",
     "text": [
      "45926\n",
      "[{'label': 'joy', 'score': 0.6825027465820312}]\n",
      "\n",
      "Bangla Bert ['love', 0.9995712637901306]\n",
      "\n"
     ]
    },
    {
     "data": {
      "text/plain": [
       "{'sequence': 'Mir da voice is apt for Taranath tantrik voice',\n",
       " 'labels': ['surprise', 'love', 'anger', 'fear', 'sad'],\n",
       " 'scores': [0.5422600507736206,\n",
       "  0.18894736468791962,\n",
       "  0.13678686320781708,\n",
       "  0.08958166837692261,\n",
       "  0.042424023151397705]}"
      ]
     },
     "execution_count": 58,
     "metadata": {},
     "output_type": "execute_result"
    }
   ],
   "source": [
    "ri = np.random.randint(0, len(df3))\n",
    "text = df3['ctext'][ri]\n",
    "# text = 'ও মাই ঘট, টাইগার'\n",
    "\n",
    "print(ri)\n",
    "print(classifier_en(text))\n",
    "\n",
    "print(f'\\nBangla Bert {predict(text, model)}\\n')\n",
    "\n",
    "candidate_labels = ['love', 'sad', 'fear', 'anger', 'surprise']\n",
    "# candidate_labels = ['আনন্দ', 'দুঃখ', 'অবাক হওয়া', 'ভয়', 'রাগ']\n",
    "# print(classifier(text, candidate_labels, multi_label=True)['labels'])\n",
    "classifier(text, candidate_labels, multi_label=False)"
   ]
  },
  {
   "cell_type": "code",
   "execution_count": 59,
   "id": "48e3d4f7",
   "metadata": {
    "execution": {
     "iopub.execute_input": "2024-06-12T18:33:08.250354Z",
     "iopub.status.busy": "2024-06-12T18:33:08.249234Z",
     "iopub.status.idle": "2024-06-12T18:33:08.259492Z",
     "shell.execute_reply": "2024-06-12T18:33:08.258433Z"
    },
    "papermill": {
     "duration": 0.064096,
     "end_time": "2024-06-12T18:33:08.261818",
     "exception": false,
     "start_time": "2024-06-12T18:33:08.197722",
     "status": "completed"
    },
    "tags": []
   },
   "outputs": [],
   "source": [
    "def final(text, lang, modelx):\n",
    "    '''\n",
    "    Implements our awsome algorithm and gives final output\n",
    "    '''\n",
    "    \n",
    "#     print(x)\n",
    "    if lang == 'Bengali':\n",
    "        tokenized_text = tokenizer(text,\n",
    "                                    return_tensors=\"pt\").to(device)\n",
    "\n",
    "        with torch.no_grad():\n",
    "            modelx = modelx.to(device)\n",
    "            pred = modelx(**tokenized_text)\n",
    "            logits = pred.logits\n",
    "            probas = torch.nn.functional.softmax(logits, dim=1).to('cpu')\n",
    "            predicted_class = torch.argmax(probas, dim=1).item()\n",
    "    #         print(predicted_class)\n",
    "    #         x.append(probas.numpy().flatten())\n",
    "        return model.config.id2label[predicted_class]\n",
    "    \n",
    "    elif lang == 'English':\n",
    "        try:\n",
    "            return classifier_en(text)[0]['label']\n",
    "        except:\n",
    "            candidate_labels = ['love', 'sadness', 'fear', 'anger']\n",
    "            return classifier(text, candidate_labels, multi_label=True)['labels'][0]\n",
    "    else:\n",
    "        candidate_labels = ['love', 'sadness', 'fear', 'anger']\n",
    "        return classifier(text, candidate_labels, multi_label=True)['labels'][0]"
   ]
  },
  {
   "cell_type": "code",
   "execution_count": 60,
   "id": "f27fd1b6",
   "metadata": {
    "execution": {
     "iopub.execute_input": "2024-06-12T18:33:08.365577Z",
     "iopub.status.busy": "2024-06-12T18:33:08.364338Z",
     "iopub.status.idle": "2024-06-12T18:33:08.371521Z",
     "shell.execute_reply": "2024-06-12T18:33:08.370582Z"
    },
    "papermill": {
     "duration": 0.061743,
     "end_time": "2024-06-12T18:33:08.373804",
     "exception": false,
     "start_time": "2024-06-12T18:33:08.312061",
     "status": "completed"
    },
    "tags": []
   },
   "outputs": [],
   "source": [
    "def finalv2(text,lang, modelx):\n",
    "    '''\n",
    "    Implements our awsome algorithm and gives final output\n",
    "    '''\n",
    "    \n",
    "#     print(x)\n",
    "    if lang == 'Bengali':\n",
    "        candidate_labels = ['ভালো', 'খারাপ' , 'নিরপেক্ষ']\n",
    "        return classifier(text, candidate_labels, multi_label=False)['labels'][0]\n",
    "    \n",
    "    else:\n",
    "        candidate_labels = ['good', 'bad', 'neutral']\n",
    "        return classifier(text, candidate_labels, multi_label=False)['labels'][0]"
   ]
  },
  {
   "cell_type": "code",
   "execution_count": 61,
   "id": "3cb47400",
   "metadata": {
    "execution": {
     "iopub.execute_input": "2024-06-12T18:33:08.476726Z",
     "iopub.status.busy": "2024-06-12T18:33:08.476322Z",
     "iopub.status.idle": "2024-06-12T18:33:08.483219Z",
     "shell.execute_reply": "2024-06-12T18:33:08.482163Z"
    },
    "papermill": {
     "duration": 0.06157,
     "end_time": "2024-06-12T18:33:08.485619",
     "exception": false,
     "start_time": "2024-06-12T18:33:08.424049",
     "status": "completed"
    },
    "tags": []
   },
   "outputs": [],
   "source": [
    "def finalv3(row):\n",
    "    '''\n",
    "    Implements our awsome algorithm and gives final output\n",
    "    '''\n",
    "    text = row['ctext']\n",
    "    lang = row['language']\n",
    "#     print(x)\n",
    "    if lang == 'Bengali':\n",
    "        candidate_labels = ['ভালো', 'খারাপ' , 'নিরপেক্ষ']\n",
    "        return classifier(text, candidate_labels, multi_label=False)['labels'][0]\n",
    "    \n",
    "    else:\n",
    "        candidate_labels = ['good', 'bad', 'neutral']\n",
    "        return classifier(text, candidate_labels, multi_label=False)['labels'][0]"
   ]
  },
  {
   "cell_type": "code",
   "execution_count": null,
   "id": "6f32c115",
   "metadata": {
    "papermill": {
     "duration": 0.05184,
     "end_time": "2024-06-12T18:33:08.587916",
     "exception": false,
     "start_time": "2024-06-12T18:33:08.536076",
     "status": "completed"
    },
    "tags": []
   },
   "outputs": [],
   "source": []
  },
  {
   "cell_type": "code",
   "execution_count": 62,
   "id": "9d9dcf8a",
   "metadata": {
    "execution": {
     "iopub.execute_input": "2024-06-12T18:33:08.691489Z",
     "iopub.status.busy": "2024-06-12T18:33:08.690620Z",
     "iopub.status.idle": "2024-06-12T18:33:08.954533Z",
     "shell.execute_reply": "2024-06-12T18:33:08.953125Z"
    },
    "papermill": {
     "duration": 0.320538,
     "end_time": "2024-06-12T18:33:08.957249",
     "exception": false,
     "start_time": "2024-06-12T18:33:08.636711",
     "status": "completed"
    },
    "tags": []
   },
   "outputs": [
    {
     "name": "stdout",
     "output_type": "stream",
     "text": [
      "একটা ডিটেকটিভ হয়ে যাক Bengali\n",
      "love\n",
      "\n",
      "এত সুন্দর গপ্পো অনেক ভিউ হওয়ার কথা, কিন্তু এত কম কেন। মানুষ ভালো গপ্প শুনে না ক্যান। Bengali\n",
      "love\n",
      "\n",
      "Captain er ei golpo ta kemon jeno Sunday Suspense vibes diche Banglish\n",
      "fear\n",
      "\n",
      "Hole khuuub khuuuub bhalo hoy.... Banglish\n",
      "anger\n",
      "\n",
      "অসাধারণ। ধন্যবাদ এটার জন্য।। টেক লাভ।। Bengali\n",
      "love\n",
      "\n"
     ]
    }
   ],
   "source": [
    "for i in range(5):    \n",
    "    ri = np.random.randint(0, len(df3))\n",
    "    input_text = df3['ctext'][ri]\n",
    "    lang = df3['language'][ri]\n",
    "    print(input_text, lang)\n",
    "\n",
    "    predicted_class = final(input_text, lang, model)\n",
    "    print(predicted_class)\n",
    "    print()"
   ]
  },
  {
   "cell_type": "code",
   "execution_count": 63,
   "id": "08a170f3",
   "metadata": {
    "execution": {
     "iopub.execute_input": "2024-06-12T18:33:09.059373Z",
     "iopub.status.busy": "2024-06-12T18:33:09.058671Z",
     "iopub.status.idle": "2024-06-12T18:33:09.068763Z",
     "shell.execute_reply": "2024-06-12T18:33:09.067805Z"
    },
    "papermill": {
     "duration": 0.06421,
     "end_time": "2024-06-12T18:33:09.071954",
     "exception": false,
     "start_time": "2024-06-12T18:33:09.007744",
     "status": "completed"
    },
    "tags": []
   },
   "outputs": [
    {
     "name": "stdout",
     "output_type": "stream",
     "text": [
      "['Sunday suspense er শ্রোতাদের মধ্যে কে কে \"The count of Monte Cristo\" শুনেছ ?']\n",
      "['Bengali']\n",
      "['মীর কে লক্ষ লক্ষ মানুষ শুনতে ভালোবাসে। তাই আমি মনে করি শ্রোতাদের কথা মাথায় রেখে Sunday suspense টা তার চালিয়ে যাওয়া উচিত ছিল। যেরকম দীপ এখনো করে। মীরকে ছারা ব্যোমকেশ, তারানাথ চরিত্র গুলো ভাবা যায়না। আপনাদের কি মতামত?']\n",
      "['Bengali']\n",
      "['আজ \"ব্রহ্মপিশাচ\", কাল সানডে সাসপেন্সে\" জলপিশাচ\"। জমে যাবে পুরো। কিন্তু যতই বলো, তারানাথের চরিত্রটি মীরের কন্ঠ ছাড়া মানায় না।']\n",
      "['Bengali']\n",
      "\n",
      "100\n"
     ]
    }
   ],
   "source": [
    "# say threshold is 20k\n",
    "threshold = 10_0\n",
    "\n",
    "test_textms = df1[:threshold]['ctext'].tolist()\n",
    "lang_ms = df1[:threshold]['language'].tolist()\n",
    "\n",
    "print(test_textms[:1])\n",
    "print(lang_ms[:1])\n",
    "\n",
    "test_textmc = df2[:threshold]['ctext'].tolist()\n",
    "lang_mc = df2[:threshold]['language'].tolist()\n",
    "\n",
    "print(test_textmc[:1])\n",
    "print(lang_mc[:1])\n",
    "\n",
    "\n",
    "test_textmt = df3[:threshold]['ctext'].tolist()\n",
    "lang_mt = df3[:threshold]['language'].tolist()\n",
    "\n",
    "print(test_textmt[:1])\n",
    "print(lang_mt[:1])\n",
    "\n",
    "\n",
    "print(f'\\n{len(test_textmc)}')"
   ]
  },
  {
   "cell_type": "code",
   "execution_count": 64,
   "id": "58b26d2a",
   "metadata": {
    "execution": {
     "iopub.execute_input": "2024-06-12T18:33:09.174872Z",
     "iopub.status.busy": "2024-06-12T18:33:09.174455Z",
     "iopub.status.idle": "2024-06-12T18:33:09.179144Z",
     "shell.execute_reply": "2024-06-12T18:33:09.178083Z"
    },
    "papermill": {
     "duration": 0.059096,
     "end_time": "2024-06-12T18:33:09.181546",
     "exception": false,
     "start_time": "2024-06-12T18:33:09.122450",
     "status": "completed"
    },
    "tags": []
   },
   "outputs": [],
   "source": [
    "# preds = []\n",
    "# for i in tqdm(range(len(test_textms))):\n",
    "#     x = final(test_textms[i], lang_ms[i], model)\n",
    "#     preds.append(x)"
   ]
  },
  {
   "cell_type": "code",
   "execution_count": 65,
   "id": "11a7daad",
   "metadata": {
    "execution": {
     "iopub.execute_input": "2024-06-12T18:33:09.285413Z",
     "iopub.status.busy": "2024-06-12T18:33:09.284433Z",
     "iopub.status.idle": "2024-06-12T18:33:09.291147Z",
     "shell.execute_reply": "2024-06-12T18:33:09.290073Z"
    },
    "papermill": {
     "duration": 0.060808,
     "end_time": "2024-06-12T18:33:09.293298",
     "exception": false,
     "start_time": "2024-06-12T18:33:09.232490",
     "status": "completed"
    },
    "tags": []
   },
   "outputs": [
    {
     "data": {
      "text/plain": [
       "'বাপরে বাপ । ভুতের সিনেমাতেও এত ভয় লাগেনা । সানডে সাসপেন্স টিম জিন্দাবাদ'"
      ]
     },
     "execution_count": 65,
     "metadata": {},
     "output_type": "execute_result"
    }
   ],
   "source": [
    "test_textms[42]"
   ]
  },
  {
   "cell_type": "code",
   "execution_count": 66,
   "id": "47fd0b81",
   "metadata": {
    "execution": {
     "iopub.execute_input": "2024-06-12T18:33:09.396249Z",
     "iopub.status.busy": "2024-06-12T18:33:09.395858Z",
     "iopub.status.idle": "2024-06-12T18:33:09.419746Z",
     "shell.execute_reply": "2024-06-12T18:33:09.418677Z"
    },
    "papermill": {
     "duration": 0.077122,
     "end_time": "2024-06-12T18:33:09.422061",
     "exception": false,
     "start_time": "2024-06-12T18:33:09.344939",
     "status": "completed"
    },
    "tags": []
   },
   "outputs": [
    {
     "data": {
      "text/plain": [
       "'love'"
      ]
     },
     "execution_count": 66,
     "metadata": {},
     "output_type": "execute_result"
    }
   ],
   "source": [
    "final(test_textms[42], lang_ms[42], model)"
   ]
  },
  {
   "cell_type": "code",
   "execution_count": 67,
   "id": "9cde4b14",
   "metadata": {
    "execution": {
     "iopub.execute_input": "2024-06-12T18:33:09.524287Z",
     "iopub.status.busy": "2024-06-12T18:33:09.523902Z",
     "iopub.status.idle": "2024-06-12T18:33:11.282620Z",
     "shell.execute_reply": "2024-06-12T18:33:11.281589Z"
    },
    "papermill": {
     "duration": 1.813629,
     "end_time": "2024-06-12T18:33:11.285691",
     "exception": false,
     "start_time": "2024-06-12T18:33:09.472062",
     "status": "completed"
    },
    "tags": []
   },
   "outputs": [
    {
     "data": {
      "application/vnd.jupyter.widget-view+json": {
       "model_id": "f4f7b6d70a3144689fbf1540dda7f817",
       "version_major": 2,
       "version_minor": 0
      },
      "text/plain": [
       "  0%|          | 0/100 [00:00<?, ?it/s]"
      ]
     },
     "metadata": {},
     "output_type": "display_data"
    }
   ],
   "source": [
    "from tqdm.notebook import tqdm\n",
    "\n",
    "# Using a list comprehension with tqdm for progress tracking in a Jupyter notebook\n",
    "preds1 = [final(test_textms[i], lang_ms[i], model) for i in tqdm(range(len(test_textms)))]"
   ]
  },
  {
   "cell_type": "code",
   "execution_count": 68,
   "id": "1f93c48e",
   "metadata": {
    "execution": {
     "iopub.execute_input": "2024-06-12T18:33:11.388840Z",
     "iopub.status.busy": "2024-06-12T18:33:11.388021Z",
     "iopub.status.idle": "2024-06-12T18:33:11.392564Z",
     "shell.execute_reply": "2024-06-12T18:33:11.391482Z"
    },
    "papermill": {
     "duration": 0.057971,
     "end_time": "2024-06-12T18:33:11.394766",
     "exception": false,
     "start_time": "2024-06-12T18:33:11.336795",
     "status": "completed"
    },
    "tags": []
   },
   "outputs": [],
   "source": [
    "# classifier_f = pipeline(\"text-classification\",model='bhadresh-savani/bert-base-uncased-emotion',\n",
    "#                          return_all_scores=False, device=device, truncation=True)"
   ]
  },
  {
   "cell_type": "code",
   "execution_count": 69,
   "id": "06878bbc",
   "metadata": {
    "execution": {
     "iopub.execute_input": "2024-06-12T18:33:11.496466Z",
     "iopub.status.busy": "2024-06-12T18:33:11.496104Z",
     "iopub.status.idle": "2024-06-12T18:33:11.781813Z",
     "shell.execute_reply": "2024-06-12T18:33:11.780588Z"
    },
    "papermill": {
     "duration": 0.33955,
     "end_time": "2024-06-12T18:33:11.784476",
     "exception": false,
     "start_time": "2024-06-12T18:33:11.444926",
     "status": "completed"
    },
    "tags": []
   },
   "outputs": [
    {
     "name": "stdout",
     "output_type": "stream",
     "text": [
      "'বিভূতিভূষণ বন্দ্যোপাধ্যায়' রচিত 'আরণ্যক' উপন্যাস চলিত ভাষায় শুনতে চাই আমরা সবাই .! সামনেই সেপ্টেম্বর মাস মানে 'বিভূতিভূষণ বন্দ্যোপাধ্যায়' মাস !.একটাই অনুরোধ সামনের মাসে যদি বিভূতিভূষণ মাস হয় তবে খুব খুশি হবে mirchi fan রা । Bengali\n",
      "['anger', 'happy', 'sad']\n"
     ]
    }
   ],
   "source": [
    "x = 6\n",
    "print(test_textmc[x], lang_mc[x])\n",
    "print(classifier(test_textmc[x], ['happy', 'sad', 'anger'])['labels'])\n",
    "# classifier_f(test_textmc[x])"
   ]
  },
  {
   "cell_type": "code",
   "execution_count": 70,
   "id": "cf24f067",
   "metadata": {
    "execution": {
     "iopub.execute_input": "2024-06-12T18:33:11.894700Z",
     "iopub.status.busy": "2024-06-12T18:33:11.894228Z",
     "iopub.status.idle": "2024-06-12T18:33:11.899458Z",
     "shell.execute_reply": "2024-06-12T18:33:11.898293Z"
    },
    "papermill": {
     "duration": 0.061395,
     "end_time": "2024-06-12T18:33:11.901791",
     "exception": false,
     "start_time": "2024-06-12T18:33:11.840396",
     "status": "completed"
    },
    "tags": []
   },
   "outputs": [],
   "source": [
    "# lang_mc[590:600]"
   ]
  },
  {
   "cell_type": "code",
   "execution_count": 71,
   "id": "a45227ae",
   "metadata": {
    "execution": {
     "iopub.execute_input": "2024-06-12T18:33:12.008652Z",
     "iopub.status.busy": "2024-06-12T18:33:12.008209Z",
     "iopub.status.idle": "2024-06-12T18:33:13.778005Z",
     "shell.execute_reply": "2024-06-12T18:33:13.776975Z"
    },
    "papermill": {
     "duration": 1.827508,
     "end_time": "2024-06-12T18:33:13.781144",
     "exception": false,
     "start_time": "2024-06-12T18:33:11.953636",
     "status": "completed"
    },
    "tags": []
   },
   "outputs": [
    {
     "data": {
      "application/vnd.jupyter.widget-view+json": {
       "model_id": "0f3d5461d33d46ee90450c5fea0b33e8",
       "version_major": 2,
       "version_minor": 0
      },
      "text/plain": [
       "  0%|          | 0/100 [00:00<?, ?it/s]"
      ]
     },
     "metadata": {},
     "output_type": "display_data"
    }
   ],
   "source": [
    "preds2 = [final(test_textmc[i], lang_mc[i], model) for i in tqdm(range(len(test_textmc)))]"
   ]
  },
  {
   "cell_type": "code",
   "execution_count": 72,
   "id": "8b6d4051",
   "metadata": {
    "execution": {
     "iopub.execute_input": "2024-06-12T18:33:13.882257Z",
     "iopub.status.busy": "2024-06-12T18:33:13.881864Z",
     "iopub.status.idle": "2024-06-12T18:33:15.564849Z",
     "shell.execute_reply": "2024-06-12T18:33:15.563772Z"
    },
    "papermill": {
     "duration": 1.737777,
     "end_time": "2024-06-12T18:33:15.568351",
     "exception": false,
     "start_time": "2024-06-12T18:33:13.830574",
     "status": "completed"
    },
    "tags": []
   },
   "outputs": [
    {
     "data": {
      "application/vnd.jupyter.widget-view+json": {
       "model_id": "723c3a3203c54afcaec808d68ff906e3",
       "version_major": 2,
       "version_minor": 0
      },
      "text/plain": [
       "  0%|          | 0/100 [00:00<?, ?it/s]"
      ]
     },
     "metadata": {},
     "output_type": "display_data"
    }
   ],
   "source": [
    "preds3 = [final(test_textmt[i], lang_mt[i], model) for i in tqdm(range(len(test_textmt)))]"
   ]
  },
  {
   "cell_type": "code",
   "execution_count": 73,
   "id": "30a8bd42",
   "metadata": {
    "execution": {
     "iopub.execute_input": "2024-06-12T18:33:15.676604Z",
     "iopub.status.busy": "2024-06-12T18:33:15.675859Z",
     "iopub.status.idle": "2024-06-12T18:33:15.691966Z",
     "shell.execute_reply": "2024-06-12T18:33:15.690855Z"
    },
    "papermill": {
     "duration": 0.070501,
     "end_time": "2024-06-12T18:33:15.694491",
     "exception": false,
     "start_time": "2024-06-12T18:33:15.623990",
     "status": "completed"
    },
    "tags": []
   },
   "outputs": [
    {
     "data": {
      "text/html": [
       "<div>\n",
       "<style scoped>\n",
       "    .dataframe tbody tr th:only-of-type {\n",
       "        vertical-align: middle;\n",
       "    }\n",
       "\n",
       "    .dataframe tbody tr th {\n",
       "        vertical-align: top;\n",
       "    }\n",
       "\n",
       "    .dataframe thead th {\n",
       "        text-align: right;\n",
       "    }\n",
       "</style>\n",
       "<table border=\"1\" class=\"dataframe\">\n",
       "  <thead>\n",
       "    <tr style=\"text-align: right;\">\n",
       "      <th></th>\n",
       "      <th>comment</th>\n",
       "      <th>lang</th>\n",
       "      <th>sentiment</th>\n",
       "    </tr>\n",
       "  </thead>\n",
       "  <tbody>\n",
       "    <tr>\n",
       "      <th>0</th>\n",
       "      <td>Sunday suspense er শ্রোতাদের মধ্যে কে কে \"The ...</td>\n",
       "      <td>Bengali</td>\n",
       "      <td>love</td>\n",
       "    </tr>\n",
       "    <tr>\n",
       "      <th>1</th>\n",
       "      <td>বেঁচে থাকতে হয়তো বিশ্ব সাহিত্যের যেসব গল্প কো...</td>\n",
       "      <td>Bengali</td>\n",
       "      <td>love</td>\n",
       "    </tr>\n",
       "    <tr>\n",
       "      <th>2</th>\n",
       "      <td>এ আমার পরম সৌভাগ্য যে একজন বাঙালি হয়ে জন্মেছি ...</td>\n",
       "      <td>Bengali</td>\n",
       "      <td>love</td>\n",
       "    </tr>\n",
       "    <tr>\n",
       "      <th>3</th>\n",
       "      <td>কে কে মনে করেন 'The count of Monte Christo' এই...</td>\n",
       "      <td>Bengali</td>\n",
       "      <td>love</td>\n",
       "    </tr>\n",
       "    <tr>\n",
       "      <th>4</th>\n",
       "      <td>একটা ছোট্ট request, Alexender Dumas series যখন...</td>\n",
       "      <td>Bengali</td>\n",
       "      <td>love</td>\n",
       "    </tr>\n",
       "    <tr>\n",
       "      <th>...</th>\n",
       "      <td>...</td>\n",
       "      <td>...</td>\n",
       "      <td>...</td>\n",
       "    </tr>\n",
       "    <tr>\n",
       "      <th>95</th>\n",
       "      <td>রবিবার পুরো জমে ক্ষীর,,, ছক্কার পর ছক্কা,,,,আগ...</td>\n",
       "      <td>Bengali</td>\n",
       "      <td>love</td>\n",
       "    </tr>\n",
       "    <tr>\n",
       "      <th>96</th>\n",
       "      <td>মির্চি বাংলা ক্ষমতা রাখে যেকোনো সময় যেকোনো সি...</td>\n",
       "      <td>Bengali</td>\n",
       "      <td>love</td>\n",
       "    </tr>\n",
       "    <tr>\n",
       "      <th>97</th>\n",
       "      <td>কে বলেছে আমার বন্ধু নেই, আমার ১২ বছরের বন্ধু ত...</td>\n",
       "      <td>Bengali</td>\n",
       "      <td>love</td>\n",
       "    </tr>\n",
       "    <tr>\n",
       "      <th>98</th>\n",
       "      <td>রক্তপিপাসু পিশাচ জানিনা কতদিন এই ৬ ঘন্টার গল্প...</td>\n",
       "      <td>Bengali</td>\n",
       "      <td>love</td>\n",
       "    </tr>\n",
       "    <tr>\n",
       "      <th>99</th>\n",
       "      <td>মিউজিক থিম টা পুরানোটাই ভালো ছিল, মিউজিক টা শু...</td>\n",
       "      <td>Bengali</td>\n",
       "      <td>love</td>\n",
       "    </tr>\n",
       "  </tbody>\n",
       "</table>\n",
       "<p>100 rows × 3 columns</p>\n",
       "</div>"
      ],
      "text/plain": [
       "                                              comment     lang sentiment\n",
       "0   Sunday suspense er শ্রোতাদের মধ্যে কে কে \"The ...  Bengali      love\n",
       "1   বেঁচে থাকতে হয়তো বিশ্ব সাহিত্যের যেসব গল্প কো...  Bengali      love\n",
       "2   এ আমার পরম সৌভাগ্য যে একজন বাঙালি হয়ে জন্মেছি ...  Bengali      love\n",
       "3   কে কে মনে করেন 'The count of Monte Christo' এই...  Bengali      love\n",
       "4   একটা ছোট্ট request, Alexender Dumas series যখন...  Bengali      love\n",
       "..                                                ...      ...       ...\n",
       "95  রবিবার পুরো জমে ক্ষীর,,, ছক্কার পর ছক্কা,,,,আগ...  Bengali      love\n",
       "96  মির্চি বাংলা ক্ষমতা রাখে যেকোনো সময় যেকোনো সি...  Bengali      love\n",
       "97  কে বলেছে আমার বন্ধু নেই, আমার ১২ বছরের বন্ধু ত...  Bengali      love\n",
       "98  রক্তপিপাসু পিশাচ জানিনা কতদিন এই ৬ ঘন্টার গল্প...  Bengali      love\n",
       "99  মিউজিক থিম টা পুরানোটাই ভালো ছিল, মিউজিক টা শু...  Bengali      love\n",
       "\n",
       "[100 rows x 3 columns]"
      ]
     },
     "execution_count": 73,
     "metadata": {},
     "output_type": "execute_result"
    }
   ],
   "source": [
    "result1 = pd.DataFrame({'comment':test_textms,'lang':lang_ms, 'sentiment':preds1})\n",
    "result2 = pd.DataFrame({'comment':test_textmc,'lang':lang_mc, 'sentiment':preds2})\n",
    "result3 = pd.DataFrame({'comment':test_textmt,'lang':lang_mt, 'sentiment':preds3})\n",
    "result1"
   ]
  },
  {
   "cell_type": "code",
   "execution_count": 74,
   "id": "b5e318fe",
   "metadata": {
    "execution": {
     "iopub.execute_input": "2024-06-12T18:33:15.803650Z",
     "iopub.status.busy": "2024-06-12T18:33:15.803192Z",
     "iopub.status.idle": "2024-06-12T18:33:15.813413Z",
     "shell.execute_reply": "2024-06-12T18:33:15.812355Z"
    },
    "papermill": {
     "duration": 0.06535,
     "end_time": "2024-06-12T18:33:15.815748",
     "exception": false,
     "start_time": "2024-06-12T18:33:15.750398",
     "status": "completed"
    },
    "tags": []
   },
   "outputs": [
    {
     "data": {
      "text/plain": [
       "(lang\n",
       " Bengali     95\n",
       " English      3\n",
       " Banglish     2\n",
       " Name: count, dtype: int64,\n",
       " lang\n",
       " Bengali     98\n",
       " Banglish     2\n",
       " Name: count, dtype: int64)"
      ]
     },
     "execution_count": 74,
     "metadata": {},
     "output_type": "execute_result"
    }
   ],
   "source": [
    "result1.lang.value_counts(), result2.lang.value_counts()"
   ]
  },
  {
   "cell_type": "code",
   "execution_count": 75,
   "id": "bbec396c",
   "metadata": {
    "execution": {
     "iopub.execute_input": "2024-06-12T18:33:15.920952Z",
     "iopub.status.busy": "2024-06-12T18:33:15.919937Z",
     "iopub.status.idle": "2024-06-12T18:33:15.928219Z",
     "shell.execute_reply": "2024-06-12T18:33:15.926833Z"
    },
    "papermill": {
     "duration": 0.063468,
     "end_time": "2024-06-12T18:33:15.930445",
     "exception": false,
     "start_time": "2024-06-12T18:33:15.866977",
     "status": "completed"
    },
    "tags": []
   },
   "outputs": [
    {
     "name": "stdout",
     "output_type": "stream",
     "text": [
      "love Bengali লন্ডনে ফেলুদা টা আনা হোক, সমর্থন করলে লাইক ঠোক সবাই, please ! ইতি এক একনিষ্ঠ শ্রোতা।\n",
      "\n",
      "sad Bengali কমেন্ট টা ডিলিট করলাম। রিপ্লাই দেখে লাভ নেই!\n",
      "\n",
      "love Bengali রাত্রে Sunday suspense শুনতে শুনতে ঘুম পড়ে জাওয়া শ্রোতারা কই?? লাইক দিয়ে যান!!\n",
      "\n",
      "love Bengali এক সাধারণ বাঙালী জমিদার ছেলের সমুদ্রে পাড়ি দেওয়ার গল্প ...ভারত মহাসাগরের করাগারে রক্ষিত এক বিপুল ধন-সম্পদ রহস্য আবিষ্কারের গল্প ... বিভূতিভূষণ বন্দ্যোপাধ্যায় এর এক অসাধারণ সাহিত্যের কৃর্তি ...হীরে মানিক জ্বলে\n",
      "\n",
      "anger Banglish Ke ke 4-5 bochor dhore Sunday সাসপেন্স শুনছেন\n",
      "\n",
      "anger English How many students are here\n",
      "\n",
      "love Bengali \"গল্প পাঠে মীর\" ----- এই লাইনটা শুনলেই আমার মন আনন্দে ভরে যায়\n",
      "\n",
      "love Bengali মীর দা তুমি অনন্য, তোমার গলার আওয়াজে কখনো অনুপ্রাণিত হয়েছে, কখনো মন খুলে হেসেছি আবার কখনো বালিশ চোখের জলে ভিজিয়েছি। অপ্রিয় হল এটাই সত্য তোমাকে আর মনে হয় না কখনো mirchi 98.3 টে বলতে শুনতে পাবো my dear Watson.... আশা করি তোমার এই অনুপস্থিতি টিম মিরচি কখনোই আমাদের বুঝতে দিবে না\n",
      "\n",
      "love Bengali ব্যোমকেশের গল্পের ভক্ত এখানে কারা আছো ?\n",
      "\n",
      "love Bengali বাপরে বাপ । ভুতের সিনেমাতেও এত ভয় লাগেনা । সানডে সাসপেন্স টিম জিন্দাবাদ\n",
      "\n"
     ]
    }
   ],
   "source": [
    "x = 33\n",
    "for i, r in result1[x:x+10].iterrows():\n",
    "    print(r['sentiment'], r['lang'] ,r['comment'])\n",
    "    print()"
   ]
  },
  {
   "cell_type": "code",
   "execution_count": 76,
   "id": "67a4eb47",
   "metadata": {
    "execution": {
     "iopub.execute_input": "2024-06-12T18:33:16.035055Z",
     "iopub.status.busy": "2024-06-12T18:33:16.034557Z",
     "iopub.status.idle": "2024-06-12T18:33:16.048221Z",
     "shell.execute_reply": "2024-06-12T18:33:16.047157Z"
    },
    "papermill": {
     "duration": 0.068893,
     "end_time": "2024-06-12T18:33:16.050899",
     "exception": false,
     "start_time": "2024-06-12T18:33:15.982006",
     "status": "completed"
    },
    "tags": []
   },
   "outputs": [
    {
     "name": "stdout",
     "output_type": "stream",
     "text": [
      "sentiment\n",
      "anger     2\n",
      "joy       1\n",
      "love     93\n",
      "sad       4\n",
      "Name: count, dtype: int64\n",
      "sentiment\n",
      "anger     1\n",
      "love     96\n",
      "sad       3\n",
      "Name: count, dtype: int64\n",
      "sentiment\n",
      "anger       1\n",
      "joy         2\n",
      "love       94\n",
      "sad         2\n",
      "sadness     1\n",
      "Name: count, dtype: int64\n"
     ]
    }
   ],
   "source": [
    "print(result1.sentiment.value_counts().sort_index(),end='\\n')\n",
    "print(result2.sentiment.value_counts().sort_index(),end='\\n')\n",
    "print(result3.sentiment.value_counts().sort_index())"
   ]
  },
  {
   "cell_type": "code",
   "execution_count": 77,
   "id": "94e52c29",
   "metadata": {
    "execution": {
     "iopub.execute_input": "2024-06-12T18:33:16.154180Z",
     "iopub.status.busy": "2024-06-12T18:33:16.153773Z",
     "iopub.status.idle": "2024-06-12T18:33:16.163200Z",
     "shell.execute_reply": "2024-06-12T18:33:16.162082Z"
    },
    "papermill": {
     "duration": 0.064149,
     "end_time": "2024-06-12T18:33:16.165646",
     "exception": false,
     "start_time": "2024-06-12T18:33:16.101497",
     "status": "completed"
    },
    "tags": []
   },
   "outputs": [
    {
     "data": {
      "text/plain": [
       "sentiment\n",
       "anger     1\n",
       "love     96\n",
       "sad       3\n",
       "Name: count, dtype: int64"
      ]
     },
     "execution_count": 77,
     "metadata": {},
     "output_type": "execute_result"
    }
   ],
   "source": [
    "result2.sentiment.value_counts().sort_index()"
   ]
  },
  {
   "cell_type": "code",
   "execution_count": 78,
   "id": "01fa4e16",
   "metadata": {
    "execution": {
     "iopub.execute_input": "2024-06-12T18:33:16.272306Z",
     "iopub.status.busy": "2024-06-12T18:33:16.271906Z",
     "iopub.status.idle": "2024-06-12T18:33:16.282681Z",
     "shell.execute_reply": "2024-06-12T18:33:16.281573Z"
    },
    "papermill": {
     "duration": 0.067012,
     "end_time": "2024-06-12T18:33:16.285119",
     "exception": false,
     "start_time": "2024-06-12T18:33:16.218107",
     "status": "completed"
    },
    "tags": []
   },
   "outputs": [
    {
     "data": {
      "text/html": [
       "<div>\n",
       "<style scoped>\n",
       "    .dataframe tbody tr th:only-of-type {\n",
       "        vertical-align: middle;\n",
       "    }\n",
       "\n",
       "    .dataframe tbody tr th {\n",
       "        vertical-align: top;\n",
       "    }\n",
       "\n",
       "    .dataframe thead th {\n",
       "        text-align: right;\n",
       "    }\n",
       "</style>\n",
       "<table border=\"1\" class=\"dataframe\">\n",
       "  <thead>\n",
       "    <tr style=\"text-align: right;\">\n",
       "      <th></th>\n",
       "      <th>comment</th>\n",
       "      <th>lang</th>\n",
       "      <th>sentiment</th>\n",
       "    </tr>\n",
       "  </thead>\n",
       "  <tbody>\n",
       "    <tr>\n",
       "      <th>0</th>\n",
       "      <td>মীর কে লক্ষ লক্ষ মানুষ শুনতে ভালোবাসে। তাই আমি...</td>\n",
       "      <td>Bengali</td>\n",
       "      <td>love</td>\n",
       "    </tr>\n",
       "    <tr>\n",
       "      <th>1</th>\n",
       "      <td>আমার মতো মীর দা ও তারানাথ তান্ত্রিককে কে কে চায়</td>\n",
       "      <td>Bengali</td>\n",
       "      <td>love</td>\n",
       "    </tr>\n",
       "  </tbody>\n",
       "</table>\n",
       "</div>"
      ],
      "text/plain": [
       "                                             comment     lang sentiment\n",
       "0  মীর কে লক্ষ লক্ষ মানুষ শুনতে ভালোবাসে। তাই আমি...  Bengali      love\n",
       "1   আমার মতো মীর দা ও তারানাথ তান্ত্রিককে কে কে চায়  Bengali      love"
      ]
     },
     "execution_count": 78,
     "metadata": {},
     "output_type": "execute_result"
    }
   ],
   "source": [
    "result2.head(2)"
   ]
  },
  {
   "cell_type": "code",
   "execution_count": 79,
   "id": "829056c3",
   "metadata": {
    "execution": {
     "iopub.execute_input": "2024-06-12T18:33:16.397477Z",
     "iopub.status.busy": "2024-06-12T18:33:16.396547Z",
     "iopub.status.idle": "2024-06-12T18:33:16.408641Z",
     "shell.execute_reply": "2024-06-12T18:33:16.407596Z"
    },
    "papermill": {
     "duration": 0.067482,
     "end_time": "2024-06-12T18:33:16.411194",
     "exception": false,
     "start_time": "2024-06-12T18:33:16.343712",
     "status": "completed"
    },
    "tags": []
   },
   "outputs": [
    {
     "data": {
      "text/plain": [
       "[[2, 1, 93, 4], [1, 96, 3], [1, 2, 94, 2, 1]]"
      ]
     },
     "execution_count": 79,
     "metadata": {},
     "output_type": "execute_result"
    }
   ],
   "source": [
    "spm = []\n",
    "spm.append(result1.sentiment.value_counts().sort_index().tolist())\n",
    "spm.append(result2.sentiment.value_counts().sort_index().tolist())\n",
    "spm.append(result3.sentiment.value_counts().sort_index().tolist())\n",
    "# spm = np.array(spm)\n",
    "spm"
   ]
  },
  {
   "cell_type": "code",
   "execution_count": 80,
   "id": "afd9fa17",
   "metadata": {
    "execution": {
     "iopub.execute_input": "2024-06-12T18:33:16.574328Z",
     "iopub.status.busy": "2024-06-12T18:33:16.573606Z",
     "iopub.status.idle": "2024-06-12T18:33:16.578277Z",
     "shell.execute_reply": "2024-06-12T18:33:16.577335Z"
    },
    "papermill": {
     "duration": 0.112716,
     "end_time": "2024-06-12T18:33:16.580623",
     "exception": false,
     "start_time": "2024-06-12T18:33:16.467907",
     "status": "completed"
    },
    "tags": []
   },
   "outputs": [],
   "source": [
    "# sums = np.sum(spm, axis=1)\n",
    "# # Normalize each inner array to percentages\n",
    "# spm2 = (spm.T / sums).T * 100\n",
    "# print(spm2)"
   ]
  },
  {
   "cell_type": "code",
   "execution_count": 81,
   "id": "9f531e6c",
   "metadata": {
    "execution": {
     "iopub.execute_input": "2024-06-12T18:33:16.688577Z",
     "iopub.status.busy": "2024-06-12T18:33:16.688108Z",
     "iopub.status.idle": "2024-06-12T18:33:16.694442Z",
     "shell.execute_reply": "2024-06-12T18:33:16.693290Z"
    },
    "papermill": {
     "duration": 0.062726,
     "end_time": "2024-06-12T18:33:16.696726",
     "exception": false,
     "start_time": "2024-06-12T18:33:16.634000",
     "status": "completed"
    },
    "tags": []
   },
   "outputs": [],
   "source": [
    "# import matplotlib.pyplot as plt\n",
    "# import numpy as np\n",
    "\n",
    "# # Define custom colors for each sentiment type\n",
    "# colors = ['#2E9BFF', '#987BE9', '#FF7C7C', '#58D68D', 'red', 'green', 'blue']\n",
    "\n",
    "# species = (\n",
    "#     \"Mir Soho\",  \n",
    "#     \"Mir Chara\", \n",
    "#     \"Mir Er Thek\",  \n",
    "# )\n",
    "# weight_counts = {\n",
    "#     \"Anger\": spm2.T[0],\n",
    "#     \"Fear\": spm2.T[1],\n",
    "#     'Joy':spm2.T[2],\n",
    "#     \"Love\": spm2.T[3],\n",
    "#     \"Sad\": spm2.T[4],\n",
    "#     \"Sadness\": spm2.T[5],\n",
    "#     \"Surprise\":spm2.T[6]\n",
    "# }\n",
    "\n",
    "# # Calculate the number of sentiment types\n",
    "# num_sentiments = len(weight_counts)\n",
    "\n",
    "# # Adjust width based on the number of sentiment types\n",
    "# width = 0.4\n",
    "\n",
    "# fig, ax = plt.subplots(figsize=(8, 6))\n",
    "\n",
    "# # Initialize bottom values with zeros for stacking\n",
    "# bottom = np.zeros(len(species))\n",
    "\n",
    "# # Stack the bars for each sentiment type with custom colors\n",
    "# for i, (sentiment, count) in enumerate(weight_counts.items()):\n",
    "#     plt.bar(species, count, width, label=sentiment, bottom=bottom, color=colors[i])\n",
    "#     bottom += count  # Update bottom for stacking\n",
    "\n",
    "# # Add labels and title\n",
    "# plt.xlabel(\"Species\")\n",
    "# plt.ylabel(\"Number of Occurrences\")\n",
    "# plt.title(\"Distribution of Sentiment\")\n",
    "\n",
    "# # Adjust legend location\n",
    "# plt.legend(loc=\"best\")\n",
    "\n",
    "# plt.xticks(rotation=45)\n",
    "# plt.tight_layout()\n",
    "# plt.show()\n"
   ]
  },
  {
   "cell_type": "markdown",
   "id": "a84ab254",
   "metadata": {
    "papermill": {
     "duration": 0.051448,
     "end_time": "2024-06-12T18:33:16.801143",
     "exception": false,
     "start_time": "2024-06-12T18:33:16.749695",
     "status": "completed"
    },
    "tags": []
   },
   "source": [
    "## Directly Apply on the DF"
   ]
  },
  {
   "cell_type": "code",
   "execution_count": 82,
   "id": "3db1e34b",
   "metadata": {
    "execution": {
     "iopub.execute_input": "2024-06-12T18:33:16.909174Z",
     "iopub.status.busy": "2024-06-12T18:33:16.908767Z",
     "iopub.status.idle": "2024-06-12T18:33:16.919029Z",
     "shell.execute_reply": "2024-06-12T18:33:16.917983Z"
    },
    "papermill": {
     "duration": 0.067617,
     "end_time": "2024-06-12T18:33:16.921458",
     "exception": false,
     "start_time": "2024-06-12T18:33:16.853841",
     "status": "completed"
    },
    "tags": []
   },
   "outputs": [],
   "source": [
    "def finalv4(row, modelx):\n",
    "    '''\n",
    "    Implements our awsome algorithm and gives final output\n",
    "    '''\n",
    "    text = row['ctext']\n",
    "    lang = row['language']\n",
    "    \n",
    "#     print(x)\n",
    "    if lang == 'Bengali':\n",
    "        tokenized_text = tokenizer(text,\n",
    "                                    return_tensors=\"pt\",  truncation=True, max_length=512).to(device)\n",
    "\n",
    "        with torch.no_grad():\n",
    "            modelx = modelx.to(device)\n",
    "            pred = modelx(**tokenized_text)\n",
    "            logits = pred.logits\n",
    "            probas = torch.nn.functional.softmax(logits, dim=1).to('cpu')\n",
    "            predicted_class = torch.argmax(probas, dim=1).item()\n",
    "    #         print(predicted_class)\n",
    "    #         x.append(probas.numpy().flatten())\n",
    "        return model.config.id2label[predicted_class]\n",
    "    \n",
    "    elif lang == 'English':\n",
    "        try:\n",
    "            return classifier_en(text)[0]['label']\n",
    "        except:\n",
    "            candidate_labels = ['happy', 'sadness', 'fear', 'anger']\n",
    "            return classifier(text, candidate_labels, multi_label=True)['labels'][0]\n",
    "    else:\n",
    "        candidate_labels = ['happy', 'sadness', 'fear', 'anger']\n",
    "        return classifier(text, candidate_labels, multi_label=True)['labels'][0]"
   ]
  },
  {
   "cell_type": "code",
   "execution_count": 83,
   "id": "dda9d292",
   "metadata": {
    "execution": {
     "iopub.execute_input": "2024-06-12T18:33:17.029480Z",
     "iopub.status.busy": "2024-06-12T18:33:17.028395Z",
     "iopub.status.idle": "2024-06-12T18:33:17.035201Z",
     "shell.execute_reply": "2024-06-12T18:33:17.034081Z"
    },
    "papermill": {
     "duration": 0.063016,
     "end_time": "2024-06-12T18:33:17.037590",
     "exception": false,
     "start_time": "2024-06-12T18:33:16.974574",
     "status": "completed"
    },
    "tags": []
   },
   "outputs": [],
   "source": [
    "def finalv5(row, modelx):\n",
    "    '''\n",
    "    Implements our awsome algorithm and gives final output\n",
    "    '''\n",
    "    text = row['ctext']\n",
    "#     lang = row['language']\n",
    "    \n",
    "#     print(x)\n",
    "#     if lang == 'English':\n",
    "#         try:\n",
    "#             return classifier_en(text)[0]['label']\n",
    "#         except:\n",
    "#             candidate_labels = ['happy', 'sadness', 'fear', 'anger']\n",
    "#             return classifier(text, candidate_labels, multi_label=True)['labels'][0]\n",
    "#     else:\n",
    "    candidate_labels = ['happy', 'sadness', 'fear', 'anger']\n",
    "    return classifier(text, candidate_labels, multi_label=False)['labels'][0]"
   ]
  },
  {
   "cell_type": "code",
   "execution_count": 84,
   "id": "b0885dd7",
   "metadata": {
    "execution": {
     "iopub.execute_input": "2024-06-12T18:33:17.145609Z",
     "iopub.status.busy": "2024-06-12T18:33:17.144795Z",
     "iopub.status.idle": "2024-06-12T18:33:17.368703Z",
     "shell.execute_reply": "2024-06-12T18:33:17.367434Z"
    },
    "papermill": {
     "duration": 0.2808,
     "end_time": "2024-06-12T18:33:17.371451",
     "exception": false,
     "start_time": "2024-06-12T18:33:17.090651",
     "status": "completed"
    },
    "tags": []
   },
   "outputs": [
    {
     "data": {
      "text/html": [
       "<div>\n",
       "<style scoped>\n",
       "    .dataframe tbody tr th:only-of-type {\n",
       "        vertical-align: middle;\n",
       "    }\n",
       "\n",
       "    .dataframe tbody tr th {\n",
       "        vertical-align: top;\n",
       "    }\n",
       "\n",
       "    .dataframe thead th {\n",
       "        text-align: right;\n",
       "    }\n",
       "</style>\n",
       "<table border=\"1\" class=\"dataframe\">\n",
       "  <thead>\n",
       "    <tr style=\"text-align: right;\">\n",
       "      <th></th>\n",
       "      <th>author</th>\n",
       "      <th>published_date</th>\n",
       "      <th>like_count</th>\n",
       "      <th>text</th>\n",
       "      <th>ctext</th>\n",
       "      <th>language</th>\n",
       "    </tr>\n",
       "  </thead>\n",
       "  <tbody>\n",
       "    <tr>\n",
       "      <th>0</th>\n",
       "      <td>@wolfhowling220</td>\n",
       "      <td>2021-12-19</td>\n",
       "      <td>5373</td>\n",
       "      <td>Sunday suspense er শ্রোতাদের মধ্যে কে কে \"The ...</td>\n",
       "      <td>Sunday suspense er শ্রোতাদের মধ্যে কে কে \"The ...</td>\n",
       "      <td>Bengali</td>\n",
       "    </tr>\n",
       "    <tr>\n",
       "      <th>1</th>\n",
       "      <td>@ksarkar1338</td>\n",
       "      <td>2021-12-03</td>\n",
       "      <td>4929</td>\n",
       "      <td>বেঁচে থাকতে হয়তো বিশ্ব সাহিত্যের যেসব গল্প কো...</td>\n",
       "      <td>বেঁচে থাকতে হয়তো বিশ্ব সাহিত্যের যেসব গল্প কো...</td>\n",
       "      <td>Bengali</td>\n",
       "    </tr>\n",
       "    <tr>\n",
       "      <th>2</th>\n",
       "      <td>@dcsalim4384</td>\n",
       "      <td>2021-12-12</td>\n",
       "      <td>4830</td>\n",
       "      <td>এ আমার পরম সৌভাগ্য যে একজন বাঙালি হয়ে জন্মেছি ...</td>\n",
       "      <td>এ আমার পরম সৌভাগ্য যে একজন বাঙালি হয়ে জন্মেছি ...</td>\n",
       "      <td>Bengali</td>\n",
       "    </tr>\n",
       "  </tbody>\n",
       "</table>\n",
       "</div>"
      ],
      "text/plain": [
       "            author published_date  like_count  \\\n",
       "0  @wolfhowling220     2021-12-19        5373   \n",
       "1     @ksarkar1338     2021-12-03        4929   \n",
       "2     @dcsalim4384     2021-12-12        4830   \n",
       "\n",
       "                                                text  \\\n",
       "0  Sunday suspense er শ্রোতাদের মধ্যে কে কে \"The ...   \n",
       "1  বেঁচে থাকতে হয়তো বিশ্ব সাহিত্যের যেসব গল্প কো...   \n",
       "2  এ আমার পরম সৌভাগ্য যে একজন বাঙালি হয়ে জন্মেছি ...   \n",
       "\n",
       "                                               ctext language  \n",
       "0  Sunday suspense er শ্রোতাদের মধ্যে কে কে \"The ...  Bengali  \n",
       "1  বেঁচে থাকতে হয়তো বিশ্ব সাহিত্যের যেসব গল্প কো...  Bengali  \n",
       "2  এ আমার পরম সৌভাগ্য যে একজন বাঙালি হয়ে জন্মেছি ...  Bengali  "
      ]
     },
     "execution_count": 84,
     "metadata": {},
     "output_type": "execute_result"
    }
   ],
   "source": [
    "c = 0\n",
    "k = 20000\n",
    "demo1 = df1[df1['language'] == 'Bengali'][c:c+k].copy()\n",
    "demo2 = df2[df2['language'] == 'Bengali'][c:c+k].copy()\n",
    "demo3 = df3[df3['language'] == 'Bengali'][c:c+k].copy()\n",
    "\n",
    "# demo1 = df1[df1['language'] == 'English'].copy()\n",
    "# demo2 = df2[df2['language'] == 'English'].copy()\n",
    "# demo3 = df3[df3['language'] == 'English'].copy()\n",
    "\n",
    "demo1.head(3)"
   ]
  },
  {
   "cell_type": "code",
   "execution_count": 85,
   "id": "4851e8c8",
   "metadata": {
    "execution": {
     "iopub.execute_input": "2024-06-12T18:33:17.503468Z",
     "iopub.status.busy": "2024-06-12T18:33:17.503064Z",
     "iopub.status.idle": "2024-06-12T18:33:17.508808Z",
     "shell.execute_reply": "2024-06-12T18:33:17.507690Z"
    },
    "papermill": {
     "duration": 0.065378,
     "end_time": "2024-06-12T18:33:17.511044",
     "exception": false,
     "start_time": "2024-06-12T18:33:17.445666",
     "status": "completed"
    },
    "tags": []
   },
   "outputs": [
    {
     "name": "stdout",
     "output_type": "stream",
     "text": [
      "(20000, 6)\n",
      "(20000, 6) (20000, 6)\n"
     ]
    }
   ],
   "source": [
    "print(demo1.shape)\n",
    "print(demo2.shape, demo3.shape)"
   ]
  },
  {
   "cell_type": "code",
   "execution_count": 86,
   "id": "019d64e2",
   "metadata": {
    "execution": {
     "iopub.execute_input": "2024-06-12T18:33:17.618226Z",
     "iopub.status.busy": "2024-06-12T18:33:17.617837Z",
     "iopub.status.idle": "2024-06-12T18:33:17.632158Z",
     "shell.execute_reply": "2024-06-12T18:33:17.630868Z"
    },
    "papermill": {
     "duration": 0.071313,
     "end_time": "2024-06-12T18:33:17.634448",
     "exception": false,
     "start_time": "2024-06-12T18:33:17.563135",
     "status": "completed"
    },
    "tags": []
   },
   "outputs": [
    {
     "data": {
      "text/html": [
       "<div>\n",
       "<style scoped>\n",
       "    .dataframe tbody tr th:only-of-type {\n",
       "        vertical-align: middle;\n",
       "    }\n",
       "\n",
       "    .dataframe tbody tr th {\n",
       "        vertical-align: top;\n",
       "    }\n",
       "\n",
       "    .dataframe thead th {\n",
       "        text-align: right;\n",
       "    }\n",
       "</style>\n",
       "<table border=\"1\" class=\"dataframe\">\n",
       "  <thead>\n",
       "    <tr style=\"text-align: right;\">\n",
       "      <th></th>\n",
       "      <th>author</th>\n",
       "      <th>published_date</th>\n",
       "      <th>like_count</th>\n",
       "      <th>text</th>\n",
       "      <th>ctext</th>\n",
       "      <th>language</th>\n",
       "    </tr>\n",
       "  </thead>\n",
       "  <tbody>\n",
       "    <tr>\n",
       "      <th>40419</th>\n",
       "      <td>@supritidas1706</td>\n",
       "      <td>2021-09-19</td>\n",
       "      <td>4</td>\n",
       "      <td>রবিবার Sunday suspense  ছারা অসম্পূর্ণ, সারা স...</td>\n",
       "      <td>রবিবার Sunday suspense ছারা অসম্পূর্ণ, সারা সপ...</td>\n",
       "      <td>Bengali</td>\n",
       "    </tr>\n",
       "    <tr>\n",
       "      <th>40421</th>\n",
       "      <td>@nehantara</td>\n",
       "      <td>2021-04-11</td>\n",
       "      <td>4</td>\n",
       "      <td>সম্পূর্ণ গল্পটা আধুনিক চালচিত্রে ধরা পড়লেও গল...</td>\n",
       "      <td>সম্পূর্ণ গল্পটা আধুনিক চালচিত্রে ধরা পড়লেও গল...</td>\n",
       "      <td>Bengali</td>\n",
       "    </tr>\n",
       "    <tr>\n",
       "      <th>40424</th>\n",
       "      <td>@sgmusicoriginal7706</td>\n",
       "      <td>2022-02-20</td>\n",
       "      <td>4</td>\n",
       "      <td>জীবন ধন্য হয়ে গেলো ..... live sunchi ❤️😎</td>\n",
       "      <td>জীবন ধন্য হয়ে গেলো ..... live sunchi</td>\n",
       "      <td>Bengali</td>\n",
       "    </tr>\n",
       "    <tr>\n",
       "      <th>40428</th>\n",
       "      <td>@sumanhazra4856</td>\n",
       "      <td>2020-01-13</td>\n",
       "      <td>4</td>\n",
       "      <td>গল্পটা শেষের দিকে বুঝলাম না কি হল?🙁😕</td>\n",
       "      <td>গল্পটা শেষের দিকে বুঝলাম না কি হল?</td>\n",
       "      <td>Bengali</td>\n",
       "    </tr>\n",
       "    <tr>\n",
       "      <th>40431</th>\n",
       "      <td>@bimanmandal708</td>\n",
       "      <td>2021-10-24</td>\n",
       "      <td>4</td>\n",
       "      <td>এর আগের রবিবারের গল্প টা মোটেও ভাল লাগেনি ।কিন...</td>\n",
       "      <td>এর আগের রবিবারের গল্প টা মোটেও ভাল লাগেনি ।কিন...</td>\n",
       "      <td>Bengali</td>\n",
       "    </tr>\n",
       "  </tbody>\n",
       "</table>\n",
       "</div>"
      ],
      "text/plain": [
       "                     author published_date  like_count  \\\n",
       "40419       @supritidas1706     2021-09-19           4   \n",
       "40421            @nehantara     2021-04-11           4   \n",
       "40424  @sgmusicoriginal7706     2022-02-20           4   \n",
       "40428       @sumanhazra4856     2020-01-13           4   \n",
       "40431       @bimanmandal708     2021-10-24           4   \n",
       "\n",
       "                                                    text  \\\n",
       "40419  রবিবার Sunday suspense  ছারা অসম্পূর্ণ, সারা স...   \n",
       "40421  সম্পূর্ণ গল্পটা আধুনিক চালচিত্রে ধরা পড়লেও গল...   \n",
       "40424          জীবন ধন্য হয়ে গেলো ..... live sunchi ❤️😎   \n",
       "40428               গল্পটা শেষের দিকে বুঝলাম না কি হল?🙁😕   \n",
       "40431  এর আগের রবিবারের গল্প টা মোটেও ভাল লাগেনি ।কিন...   \n",
       "\n",
       "                                                   ctext language  \n",
       "40419  রবিবার Sunday suspense ছারা অসম্পূর্ণ, সারা সপ...  Bengali  \n",
       "40421  সম্পূর্ণ গল্পটা আধুনিক চালচিত্রে ধরা পড়লেও গল...  Bengali  \n",
       "40424              জীবন ধন্য হয়ে গেলো ..... live sunchi  Bengali  \n",
       "40428                 গল্পটা শেষের দিকে বুঝলাম না কি হল?  Bengali  \n",
       "40431  এর আগের রবিবারের গল্প টা মোটেও ভাল লাগেনি ।কিন...  Bengali  "
      ]
     },
     "execution_count": 86,
     "metadata": {},
     "output_type": "execute_result"
    }
   ],
   "source": [
    "demo1.tail()"
   ]
  },
  {
   "cell_type": "code",
   "execution_count": 87,
   "id": "873e7a5b",
   "metadata": {
    "execution": {
     "iopub.execute_input": "2024-06-12T18:33:17.741784Z",
     "iopub.status.busy": "2024-06-12T18:33:17.741355Z",
     "iopub.status.idle": "2024-06-12T18:33:17.746102Z",
     "shell.execute_reply": "2024-06-12T18:33:17.744938Z"
    },
    "papermill": {
     "duration": 0.061263,
     "end_time": "2024-06-12T18:33:17.748407",
     "exception": false,
     "start_time": "2024-06-12T18:33:17.687144",
     "status": "completed"
    },
    "tags": []
   },
   "outputs": [],
   "source": [
    "# final(demo3['ctext'], demo3['language'], model)"
   ]
  },
  {
   "cell_type": "code",
   "execution_count": 88,
   "id": "3e35e029",
   "metadata": {
    "execution": {
     "iopub.execute_input": "2024-06-12T18:33:17.856033Z",
     "iopub.status.busy": "2024-06-12T18:33:17.855644Z",
     "iopub.status.idle": "2024-06-12T18:33:17.878233Z",
     "shell.execute_reply": "2024-06-12T18:33:17.877245Z"
    },
    "papermill": {
     "duration": 0.079746,
     "end_time": "2024-06-12T18:33:17.880663",
     "exception": false,
     "start_time": "2024-06-12T18:33:17.800917",
     "status": "completed"
    },
    "tags": []
   },
   "outputs": [],
   "source": [
    "demo2 = demo2[demo2['text'].str.len() != 0]"
   ]
  },
  {
   "cell_type": "code",
   "execution_count": 89,
   "id": "6506862f",
   "metadata": {
    "execution": {
     "iopub.execute_input": "2024-06-12T18:33:17.988579Z",
     "iopub.status.busy": "2024-06-12T18:33:17.988159Z",
     "iopub.status.idle": "2024-06-12T18:33:18.011796Z",
     "shell.execute_reply": "2024-06-12T18:33:18.010796Z"
    },
    "papermill": {
     "duration": 0.080054,
     "end_time": "2024-06-12T18:33:18.014162",
     "exception": false,
     "start_time": "2024-06-12T18:33:17.934108",
     "status": "completed"
    },
    "tags": []
   },
   "outputs": [],
   "source": [
    "demo1 = demo1[demo1['text'].str.len() != 0]"
   ]
  },
  {
   "cell_type": "code",
   "execution_count": 90,
   "id": "48d2e4e1",
   "metadata": {
    "execution": {
     "iopub.execute_input": "2024-06-12T18:33:18.121290Z",
     "iopub.status.busy": "2024-06-12T18:33:18.120897Z",
     "iopub.status.idle": "2024-06-12T18:33:18.145128Z",
     "shell.execute_reply": "2024-06-12T18:33:18.144005Z"
    },
    "papermill": {
     "duration": 0.080767,
     "end_time": "2024-06-12T18:33:18.147456",
     "exception": false,
     "start_time": "2024-06-12T18:33:18.066689",
     "status": "completed"
    },
    "tags": []
   },
   "outputs": [
    {
     "name": "stdout",
     "output_type": "stream",
     "text": [
      "(20000, 6)\n",
      "(20000, 6) (20000, 6)\n"
     ]
    }
   ],
   "source": [
    "demo3 = demo3[demo3['text'].str.len() != 0]\n",
    "print(demo1.shape)\n",
    "print(demo2.shape, demo3.shape)"
   ]
  },
  {
   "cell_type": "code",
   "execution_count": 91,
   "id": "38e8a9b0",
   "metadata": {
    "execution": {
     "iopub.execute_input": "2024-06-12T18:33:18.254462Z",
     "iopub.status.busy": "2024-06-12T18:33:18.254063Z",
     "iopub.status.idle": "2024-06-12T18:33:18.259634Z",
     "shell.execute_reply": "2024-06-12T18:33:18.258569Z"
    },
    "papermill": {
     "duration": 0.060896,
     "end_time": "2024-06-12T18:33:18.261846",
     "exception": false,
     "start_time": "2024-06-12T18:33:18.200950",
     "status": "completed"
    },
    "tags": []
   },
   "outputs": [],
   "source": [
    "demo3.reset_index(drop=True, inplace=True)\n",
    "demo1.reset_index(drop=True, inplace=True)\n",
    "demo2.reset_index(drop=True, inplace=True)"
   ]
  },
  {
   "cell_type": "code",
   "execution_count": null,
   "id": "819337bf",
   "metadata": {
    "papermill": {
     "duration": 0.05229,
     "end_time": "2024-06-12T18:33:18.367418",
     "exception": false,
     "start_time": "2024-06-12T18:33:18.315128",
     "status": "completed"
    },
    "tags": []
   },
   "outputs": [],
   "source": []
  },
  {
   "cell_type": "code",
   "execution_count": 92,
   "id": "47d79ec8",
   "metadata": {
    "execution": {
     "iopub.execute_input": "2024-06-12T18:33:18.475149Z",
     "iopub.status.busy": "2024-06-12T18:33:18.474205Z",
     "iopub.status.idle": "2024-06-12T18:33:18.480917Z",
     "shell.execute_reply": "2024-06-12T18:33:18.479952Z"
    },
    "papermill": {
     "duration": 0.063653,
     "end_time": "2024-06-12T18:33:18.483414",
     "exception": false,
     "start_time": "2024-06-12T18:33:18.419761",
     "status": "completed"
    },
    "tags": []
   },
   "outputs": [
    {
     "data": {
      "text/plain": [
       "'আমার মনে হয় যারা মীর দাকে চেনে সবাই মীর দাকে ভালোবাসে'"
      ]
     },
     "execution_count": 92,
     "metadata": {},
     "output_type": "execute_result"
    }
   ],
   "source": [
    "demo3['ctext'][1131]"
   ]
  },
  {
   "cell_type": "code",
   "execution_count": 93,
   "id": "45cba6a2",
   "metadata": {
    "execution": {
     "iopub.execute_input": "2024-06-12T18:33:18.590134Z",
     "iopub.status.busy": "2024-06-12T18:33:18.589448Z",
     "iopub.status.idle": "2024-06-12T18:33:18.596045Z",
     "shell.execute_reply": "2024-06-12T18:33:18.595109Z"
    },
    "papermill": {
     "duration": 0.062601,
     "end_time": "2024-06-12T18:33:18.598487",
     "exception": false,
     "start_time": "2024-06-12T18:33:18.535886",
     "status": "completed"
    },
    "tags": []
   },
   "outputs": [
    {
     "data": {
      "text/plain": [
       "218"
      ]
     },
     "execution_count": 93,
     "metadata": {},
     "output_type": "execute_result"
    }
   ],
   "source": [
    "len(demo2['ctext'][269])"
   ]
  },
  {
   "cell_type": "code",
   "execution_count": 94,
   "id": "dd50bf8c",
   "metadata": {
    "execution": {
     "iopub.execute_input": "2024-06-12T18:33:18.708038Z",
     "iopub.status.busy": "2024-06-12T18:33:18.707326Z",
     "iopub.status.idle": "2024-06-12T18:38:32.945007Z",
     "shell.execute_reply": "2024-06-12T18:38:32.943926Z"
    },
    "papermill": {
     "duration": 314.294652,
     "end_time": "2024-06-12T18:38:32.947585",
     "exception": false,
     "start_time": "2024-06-12T18:33:18.652933",
     "status": "completed"
    },
    "tags": []
   },
   "outputs": [
    {
     "data": {
      "application/vnd.jupyter.widget-view+json": {
       "model_id": "d029d38222794d25bca64462695cd9c7",
       "version_major": 2,
       "version_minor": 0
      },
      "text/plain": [
       "  0%|          | 0/20000 [00:00<?, ?it/s]"
      ]
     },
     "metadata": {},
     "output_type": "display_data"
    }
   ],
   "source": [
    "tqdm.pandas()\n",
    "demo3['sentiment'] = demo3.progress_apply(finalv4, args=(model,), axis=1)"
   ]
  },
  {
   "cell_type": "code",
   "execution_count": 95,
   "id": "e381fb16",
   "metadata": {
    "execution": {
     "iopub.execute_input": "2024-06-12T18:38:33.056591Z",
     "iopub.status.busy": "2024-06-12T18:38:33.056121Z",
     "iopub.status.idle": "2024-06-12T18:43:48.934946Z",
     "shell.execute_reply": "2024-06-12T18:43:48.933874Z"
    },
    "papermill": {
     "duration": 315.93614,
     "end_time": "2024-06-12T18:43:48.937808",
     "exception": false,
     "start_time": "2024-06-12T18:38:33.001668",
     "status": "completed"
    },
    "tags": []
   },
   "outputs": [
    {
     "data": {
      "application/vnd.jupyter.widget-view+json": {
       "model_id": "a9f407f734ee4945b6c3b22c870834a2",
       "version_major": 2,
       "version_minor": 0
      },
      "text/plain": [
       "  0%|          | 0/20000 [00:00<?, ?it/s]"
      ]
     },
     "metadata": {},
     "output_type": "display_data"
    }
   ],
   "source": [
    "demo2['sentiment'] = demo2.progress_apply(finalv4, args=(model,), axis=1)"
   ]
  },
  {
   "cell_type": "code",
   "execution_count": 96,
   "id": "0935d5bc",
   "metadata": {
    "execution": {
     "iopub.execute_input": "2024-06-12T18:43:49.045461Z",
     "iopub.status.busy": "2024-06-12T18:43:49.045103Z",
     "iopub.status.idle": "2024-06-12T18:49:03.700297Z",
     "shell.execute_reply": "2024-06-12T18:49:03.699389Z"
    },
    "papermill": {
     "duration": 314.711277,
     "end_time": "2024-06-12T18:49:03.702569",
     "exception": false,
     "start_time": "2024-06-12T18:43:48.991292",
     "status": "completed"
    },
    "tags": []
   },
   "outputs": [
    {
     "data": {
      "application/vnd.jupyter.widget-view+json": {
       "model_id": "f07d1cfba8514854a312333131d086bf",
       "version_major": 2,
       "version_minor": 0
      },
      "text/plain": [
       "  0%|          | 0/20000 [00:00<?, ?it/s]"
      ]
     },
     "metadata": {},
     "output_type": "display_data"
    }
   ],
   "source": [
    "demo1['sentiment'] = demo1.progress_apply(finalv4, args=(model,), axis=1)"
   ]
  },
  {
   "cell_type": "code",
   "execution_count": 97,
   "id": "f290e80e",
   "metadata": {
    "execution": {
     "iopub.execute_input": "2024-06-12T18:49:03.834715Z",
     "iopub.status.busy": "2024-06-12T18:49:03.833760Z",
     "iopub.status.idle": "2024-06-12T18:49:03.852949Z",
     "shell.execute_reply": "2024-06-12T18:49:03.851707Z"
    },
    "papermill": {
     "duration": 0.082621,
     "end_time": "2024-06-12T18:49:03.855591",
     "exception": false,
     "start_time": "2024-06-12T18:49:03.772970",
     "status": "completed"
    },
    "tags": []
   },
   "outputs": [
    {
     "data": {
      "text/html": [
       "<div>\n",
       "<style scoped>\n",
       "    .dataframe tbody tr th:only-of-type {\n",
       "        vertical-align: middle;\n",
       "    }\n",
       "\n",
       "    .dataframe tbody tr th {\n",
       "        vertical-align: top;\n",
       "    }\n",
       "\n",
       "    .dataframe thead th {\n",
       "        text-align: right;\n",
       "    }\n",
       "</style>\n",
       "<table border=\"1\" class=\"dataframe\">\n",
       "  <thead>\n",
       "    <tr style=\"text-align: right;\">\n",
       "      <th></th>\n",
       "      <th>author</th>\n",
       "      <th>published_date</th>\n",
       "      <th>like_count</th>\n",
       "      <th>text</th>\n",
       "      <th>ctext</th>\n",
       "      <th>language</th>\n",
       "      <th>sentiment</th>\n",
       "    </tr>\n",
       "  </thead>\n",
       "  <tbody>\n",
       "  </tbody>\n",
       "</table>\n",
       "</div>"
      ],
      "text/plain": [
       "Empty DataFrame\n",
       "Columns: [author, published_date, like_count, text, ctext, language, sentiment]\n",
       "Index: []"
      ]
     },
     "execution_count": 97,
     "metadata": {},
     "output_type": "execute_result"
    }
   ],
   "source": [
    "filt = demo3[demo3['sentiment']=='sadness']\n",
    "filt[40:40+10]"
   ]
  },
  {
   "cell_type": "code",
   "execution_count": 98,
   "id": "ba1756db",
   "metadata": {
    "execution": {
     "iopub.execute_input": "2024-06-12T18:49:03.967873Z",
     "iopub.status.busy": "2024-06-12T18:49:03.967447Z",
     "iopub.status.idle": "2024-06-12T18:49:03.979843Z",
     "shell.execute_reply": "2024-06-12T18:49:03.978650Z"
    },
    "papermill": {
     "duration": 0.07674,
     "end_time": "2024-06-12T18:49:03.988862",
     "exception": false,
     "start_time": "2024-06-12T18:49:03.912122",
     "status": "completed"
    },
    "tags": []
   },
   "outputs": [
    {
     "data": {
      "text/plain": [
       "sentiment\n",
       "love     17202\n",
       "sad       2074\n",
       "anger      657\n",
       "fear        67\n",
       "Name: count, dtype: int64"
      ]
     },
     "execution_count": 98,
     "metadata": {},
     "output_type": "execute_result"
    }
   ],
   "source": [
    "demo2.sentiment.value_counts()"
   ]
  },
  {
   "cell_type": "code",
   "execution_count": 99,
   "id": "923783c9",
   "metadata": {
    "execution": {
     "iopub.execute_input": "2024-06-12T18:49:04.127788Z",
     "iopub.status.busy": "2024-06-12T18:49:04.127005Z",
     "iopub.status.idle": "2024-06-12T18:49:04.132567Z",
     "shell.execute_reply": "2024-06-12T18:49:04.131348Z"
    },
    "papermill": {
     "duration": 0.070064,
     "end_time": "2024-06-12T18:49:04.134840",
     "exception": false,
     "start_time": "2024-06-12T18:49:04.064776",
     "status": "completed"
    },
    "tags": []
   },
   "outputs": [],
   "source": [
    "sentiment_mapping = {\n",
    "    'sadness': 'sad',\n",
    "    'happy': 'happy',\n",
    "    'joy': 'happy',\n",
    "    'love': 'happy'\n",
    "}"
   ]
  },
  {
   "cell_type": "code",
   "execution_count": 100,
   "id": "cc299698",
   "metadata": {
    "execution": {
     "iopub.execute_input": "2024-06-12T18:49:04.265168Z",
     "iopub.status.busy": "2024-06-12T18:49:04.264046Z",
     "iopub.status.idle": "2024-06-12T18:49:04.304716Z",
     "shell.execute_reply": "2024-06-12T18:49:04.303582Z"
    },
    "papermill": {
     "duration": 0.110245,
     "end_time": "2024-06-12T18:49:04.307786",
     "exception": false,
     "start_time": "2024-06-12T18:49:04.197541",
     "status": "completed"
    },
    "tags": []
   },
   "outputs": [],
   "source": [
    "demo1['sentimentx'] = demo1['sentiment'].replace(sentiment_mapping)\n",
    "demo2['sentimentx'] = demo2['sentiment'].replace(sentiment_mapping)\n",
    "demo3['sentimentx'] = demo3['sentiment'].replace(sentiment_mapping)"
   ]
  },
  {
   "cell_type": "code",
   "execution_count": 101,
   "id": "e1e49310",
   "metadata": {
    "execution": {
     "iopub.execute_input": "2024-06-12T18:49:04.426502Z",
     "iopub.status.busy": "2024-06-12T18:49:04.425625Z",
     "iopub.status.idle": "2024-06-12T18:49:04.439796Z",
     "shell.execute_reply": "2024-06-12T18:49:04.438683Z"
    },
    "papermill": {
     "duration": 0.073878,
     "end_time": "2024-06-12T18:49:04.442218",
     "exception": false,
     "start_time": "2024-06-12T18:49:04.368340",
     "status": "completed"
    },
    "tags": []
   },
   "outputs": [
    {
     "data": {
      "text/plain": [
       "sentimentx\n",
       "happy    18232\n",
       "sad       1359\n",
       "anger      376\n",
       "fear        33\n",
       "Name: count, dtype: int64"
      ]
     },
     "execution_count": 101,
     "metadata": {},
     "output_type": "execute_result"
    }
   ],
   "source": [
    "demo3.sentimentx.value_counts()"
   ]
  },
  {
   "cell_type": "code",
   "execution_count": 102,
   "id": "e7039590",
   "metadata": {
    "execution": {
     "iopub.execute_input": "2024-06-12T18:49:04.554826Z",
     "iopub.status.busy": "2024-06-12T18:49:04.553604Z",
     "iopub.status.idle": "2024-06-12T18:49:05.371427Z",
     "shell.execute_reply": "2024-06-12T18:49:05.370358Z"
    },
    "papermill": {
     "duration": 0.876187,
     "end_time": "2024-06-12T18:49:05.373820",
     "exception": false,
     "start_time": "2024-06-12T18:49:04.497633",
     "status": "completed"
    },
    "tags": []
   },
   "outputs": [
    {
     "data": {
      "image/png": "[encoded data removed]",
      "text/plain": [
       "<Figure size 1500x500 with 3 Axes>"
      ]
     },
     "metadata": {},
     "output_type": "display_data"
    }
   ],
   "source": [
    "# Define colors for the bar chart\n",
    "highest_value_color = (153/255, 255/255, 187/255)  # Light green color\n",
    "other_values_color = 'gray'\n",
    "\n",
    "\n",
    "def plot_sentiment_bar_chart(ax, df):\n",
    "    value_counts = df.sentiment.value_counts()\n",
    "    colors = [highest_value_color if count == value_counts.max() else other_values_color for count in value_counts]\n",
    "    ax = value_counts.plot(kind='bar', color=colors, ax=ax)\n",
    "    ax.set_ylim(0, max_y+50)\n",
    "\n",
    "    return ax\n",
    "\n",
    "# Determine the maximum y limit\n",
    "max_y = max(demo1['sentiment'].value_counts().max(),\n",
    "            demo2['sentiment'].value_counts().max(),\n",
    "            demo3['sentiment'].value_counts().max())\n",
    "\n",
    "\n",
    "# Create subplots\n",
    "fig, axs = plt.subplots(1, 3, figsize=(15, 5))\n",
    "\n",
    "# Plot sentiment bar chart for each demo DataFrame\n",
    "plot_sentiment_bar_chart(axs[0], demo1)\n",
    "plot_sentiment_bar_chart(axs[1], demo2)\n",
    "plot_sentiment_bar_chart(axs[2], demo3)\n",
    "\n",
    "# Show the plot\n",
    "plt.tight_layout()\n",
    "plt.show()"
   ]
  },
  {
   "cell_type": "code",
   "execution_count": 103,
   "id": "382b510e",
   "metadata": {
    "execution": {
     "iopub.execute_input": "2024-06-12T18:49:05.485651Z",
     "iopub.status.busy": "2024-06-12T18:49:05.485201Z",
     "iopub.status.idle": "2024-06-12T18:49:05.497716Z",
     "shell.execute_reply": "2024-06-12T18:49:05.496567Z"
    },
    "papermill": {
     "duration": 0.071377,
     "end_time": "2024-06-12T18:49:05.500058",
     "exception": false,
     "start_time": "2024-06-12T18:49:05.428681",
     "status": "completed"
    },
    "tags": []
   },
   "outputs": [
    {
     "data": {
      "text/plain": [
       "sentimentx\n",
       "anger      896\n",
       "fear        77\n",
       "happy    17190\n",
       "sad       1837\n",
       "Name: count, dtype: int64"
      ]
     },
     "execution_count": 103,
     "metadata": {},
     "output_type": "execute_result"
    }
   ],
   "source": [
    "demo1.sentimentx.value_counts().sort_index()"
   ]
  },
  {
   "cell_type": "code",
   "execution_count": 104,
   "id": "177d1dff",
   "metadata": {
    "execution": {
     "iopub.execute_input": "2024-06-12T18:49:05.618279Z",
     "iopub.status.busy": "2024-06-12T18:49:05.617205Z",
     "iopub.status.idle": "2024-06-12T18:49:05.639243Z",
     "shell.execute_reply": "2024-06-12T18:49:05.638098Z"
    },
    "papermill": {
     "duration": 0.080972,
     "end_time": "2024-06-12T18:49:05.641676",
     "exception": false,
     "start_time": "2024-06-12T18:49:05.560704",
     "status": "completed"
    },
    "tags": []
   },
   "outputs": [
    {
     "data": {
      "text/plain": [
       "array([[  896,    77, 17190,  1837],\n",
       "       [  657,    67, 17202,  2074],\n",
       "       [  376,    33, 18232,  1359]])"
      ]
     },
     "execution_count": 104,
     "metadata": {},
     "output_type": "execute_result"
    }
   ],
   "source": [
    "spm = []\n",
    "spm.append(demo1.sentimentx.value_counts().sort_index().tolist())\n",
    "spm.append(demo2.sentimentx.value_counts().sort_index().tolist())\n",
    "spm.append(demo3.sentimentx.value_counts().sort_index().tolist())\n",
    "spm = np.array(spm)\n",
    "spm"
   ]
  },
  {
   "cell_type": "code",
   "execution_count": 105,
   "id": "cb61de31",
   "metadata": {
    "execution": {
     "iopub.execute_input": "2024-06-12T18:49:05.754873Z",
     "iopub.status.busy": "2024-06-12T18:49:05.754431Z",
     "iopub.status.idle": "2024-06-12T18:49:05.759755Z",
     "shell.execute_reply": "2024-06-12T18:49:05.758733Z"
    },
    "papermill": {
     "duration": 0.064429,
     "end_time": "2024-06-12T18:49:05.761866",
     "exception": false,
     "start_time": "2024-06-12T18:49:05.697437",
     "status": "completed"
    },
    "tags": []
   },
   "outputs": [],
   "source": [
    "sums = np.sum(spm, axis=1)\n",
    "# Normalize each inner array to percentages\n",
    "spm2 = (spm.T / sums).T * 100\n",
    "# print(spm2)"
   ]
  },
  {
   "cell_type": "code",
   "execution_count": 106,
   "id": "c6f0a317",
   "metadata": {
    "execution": {
     "iopub.execute_input": "2024-06-12T18:49:05.873975Z",
     "iopub.status.busy": "2024-06-12T18:49:05.873594Z",
     "iopub.status.idle": "2024-06-12T18:49:06.266025Z",
     "shell.execute_reply": "2024-06-12T18:49:06.264964Z"
    },
    "papermill": {
     "duration": 0.450416,
     "end_time": "2024-06-12T18:49:06.268270",
     "exception": false,
     "start_time": "2024-06-12T18:49:05.817854",
     "status": "completed"
    },
    "tags": []
   },
   "outputs": [
    {
     "data": {
      "image/png": "[encoded data removed]",
      "text/plain": [
       "<Figure size 800x600 with 1 Axes>"
      ]
     },
     "metadata": {},
     "output_type": "display_data"
    }
   ],
   "source": [
    "# Define custom colors for each sentiment type\n",
    "colors = ['#2E9BFF', '#987BE9', '#FF7C7C', '#58D68D', 'red', 'green', 'blue']\n",
    "\n",
    "species = (\n",
    "    \"Mir Soho\",  \n",
    "    \"Mir Chara\", \n",
    "    \"Mir Er Thek\",  \n",
    ")\n",
    "weight_counts = {\n",
    "    \"Anger\": spm2.T[0],\n",
    "    \"Fear\": spm2.T[1],\n",
    "    'Happy':spm2.T[2],\n",
    "    \"Sad\": spm2.T[3],\n",
    "#     \"Surprise\":spm2.T[4]\n",
    "}\n",
    "\n",
    "# Calculate the number of sentiment types\n",
    "num_sentiments = len(weight_counts)\n",
    "\n",
    "# Adjust width based on the number of sentiment types\n",
    "width = 0.4\n",
    "\n",
    "fig, ax = plt.subplots(figsize=(8, 6))\n",
    "\n",
    "# Initialize bottom values with zeros for stacking\n",
    "bottom = np.zeros(len(species))\n",
    "\n",
    "# Stack the bars for each sentiment type with custom colors\n",
    "for i, (sentiment, count) in enumerate(weight_counts.items()):\n",
    "    plt.bar(species, count, width, label=sentiment, bottom=bottom, color=colors[i])\n",
    "    bottom += count  # Update bottom for stacking\n",
    "\n",
    "# Add labels and title\n",
    "plt.xlabel(\"Species\")\n",
    "plt.ylabel(\"Number of Occurrences\")\n",
    "plt.title(\"Distribution of Emotion\")\n",
    "\n",
    "# Adjust legend location\n",
    "plt.legend(loc=\"center\")\n",
    "\n",
    "plt.xticks(rotation=0)\n",
    "plt.tight_layout()\n",
    "plt.show()\n"
   ]
  },
  {
   "cell_type": "code",
   "execution_count": null,
   "id": "74f15863",
   "metadata": {
    "papermill": {
     "duration": 0.055346,
     "end_time": "2024-06-12T18:49:06.377644",
     "exception": false,
     "start_time": "2024-06-12T18:49:06.322298",
     "status": "completed"
    },
    "tags": []
   },
   "outputs": [],
   "source": []
  },
  {
   "cell_type": "code",
   "execution_count": null,
   "id": "d3c4d7d5",
   "metadata": {
    "papermill": {
     "duration": 0.052121,
     "end_time": "2024-06-12T18:49:06.481685",
     "exception": false,
     "start_time": "2024-06-12T18:49:06.429564",
     "status": "completed"
    },
    "tags": []
   },
   "outputs": [],
   "source": []
  },
  {
   "cell_type": "markdown",
   "id": "3c43a488",
   "metadata": {
    "papermill": {
     "duration": 0.056166,
     "end_time": "2024-06-12T18:49:06.591853",
     "exception": false,
     "start_time": "2024-06-12T18:49:06.535687",
     "status": "completed"
    },
    "tags": []
   },
   "source": [
    "## Ack\n",
    "https://colab.research.google.com/drive/15h32YuSQ5YwVji8OynC9BvMaWGpsWyD2?usp=sharing#scrollTo=XGj0RdguKrDb\n",
    "https://github.com/sagorbrur/bnlp/blob/main/docs/README.md#bengali-corpus-class"
   ]
  }
 ],
 "metadata": {
  "kaggle": {
   "accelerator": "nvidiaTeslaT4",
   "dataSources": [
    {
     "datasetId": 4819765,
     "sourceId": 8229402,
     "sourceType": "datasetVersion"
    },
    {
     "datasetId": 4713783,
     "sourceId": 8665204,
     "sourceType": "datasetVersion"
    },
    {
     "datasetId": 5014895,
     "sourceId": 8667285,
     "sourceType": "datasetVersion"
    }
   ],
   "dockerImageVersionId": 30673,
   "isGpuEnabled": true,
   "isInternetEnabled": true,
   "language": "python",
   "sourceType": "notebook"
  },
  "kernelspec": {
   "display_name": "Python 3",
   "language": "python",
   "name": "python3"
  },
  "language_info": {
   "codemirror_mode": {
    "name": "ipython",
    "version": 3
   },
   "file_extension": ".py",
   "mimetype": "text/x-python",
   "name": "python",
   "nbconvert_exporter": "python",
   "pygments_lexer": "ipython3",
   "version": "3.10.13"
  },
  "papermill": {
   "default_parameters": {},
   "duration": 1048.249592,
   "end_time": "2024-06-12T18:49:10.236771",
   "environment_variables": {},
   "exception": null,
   "input_path": "__notebook__.ipynb",
   "output_path": "__notebook__.ipynb",
   "parameters": {},
   "start_time": "2024-06-12T18:31:41.987179",
   "version": "2.5.0"
  },
  "widgets": {
   "application/vnd.jupyter.widget-state+json": {
    "state": {
     "0283fd6d4e784c608ee6ef95ae0297db": {
      "model_module": "@jupyter-widgets/controls",
      "model_module_version": "1.5.0",
      "model_name": "FloatProgressModel",
      "state": {
       "_dom_classes": [],
       "_model_module": "@jupyter-widgets/controls",
       "_model_module_version": "1.5.0",
       "_model_name": "FloatProgressModel",
       "_view_count": null,
       "_view_module": "@jupyter-widgets/controls",
       "_view_module_version": "1.5.0",
       "_view_name": "ProgressView",
       "bar_style": "success",
       "description": "",
       "description_tooltip": null,
       "layout": "IPY_MODEL_41245f5c033444e596092f6bb75ed03e",
       "max": 466248.0,
       "min": 0.0,
       "orientation": "horizontal",
       "style": "IPY_MODEL_ed96b90bfe13444db13b0c35516631fe",
       "value": 466248.0
      }
     },
     "053969c84055466ebeb0fcb33a4fdcb9": {
      "model_module": "@jupyter-widgets/base",
      "model_module_version": "1.2.0",
      "model_name": "LayoutModel",
      "state": {
       "_model_module": "@jupyter-widgets/base",
       "_model_module_version": "1.2.0",
       "_model_name": "LayoutModel",
       "_view_count": null,
       "_view_module": "@jupyter-widgets/base",
       "_view_module_version": "1.2.0",
       "_view_name": "LayoutView",
       "align_content": null,
       "align_items": null,
       "align_self": null,
       "border": null,
       "bottom": null,
       "display": null,
       "flex": null,
       "flex_flow": null,
       "grid_area": null,
       "grid_auto_columns": null,
       "grid_auto_flow": null,
       "grid_auto_rows": null,
       "grid_column": null,
       "grid_gap": null,
       "grid_row": null,
       "grid_template_areas": null,
       "grid_template_columns": null,
       "grid_template_rows": null,
       "height": null,
       "justify_content": null,
       "justify_items": null,
       "left": null,
       "margin": null,
       "max_height": null,
       "max_width": null,
       "min_height": null,
       "min_width": null,
       "object_fit": null,
       "object_position": null,
       "order": null,
       "overflow": null,
       "overflow_x": null,
       "overflow_y": null,
       "padding": null,
       "right": null,
       "top": null,
       "visibility": null,
       "width": null
      }
     },
     "06cdf18414d7497db37a9bd599a3c214": {
      "model_module": "@jupyter-widgets/base",
      "model_module_version": "1.2.0",
      "model_name": "LayoutModel",
      "state": {
       "_model_module": "@jupyter-widgets/base",
       "_model_module_version": "1.2.0",
       "_model_name": "LayoutModel",
       "_view_count": null,
       "_view_module": "@jupyter-widgets/base",
       "_view_module_version": "1.2.0",
       "_view_name": "LayoutView",
       "align_content": null,
       "align_items": null,
       "align_self": null,
       "border": null,
       "bottom": null,
       "display": null,
       "flex": null,
       "flex_flow": null,
       "grid_area": null,
       "grid_auto_columns": null,
       "grid_auto_flow": null,
       "grid_auto_rows": null,
       "grid_column": null,
       "grid_gap": null,
       "grid_row": null,
       "grid_template_areas": null,
       "grid_template_columns": null,
       "grid_template_rows": null,
       "height": null,
       "justify_content": null,
       "justify_items": null,
       "left": null,
       "margin": null,
       "max_height": null,
       "max_width": null,
       "min_height": null,
       "min_width": null,
       "object_fit": null,
       "object_position": null,
       "order": null,
       "overflow": null,
       "overflow_x": null,
       "overflow_y": null,
       "padding": null,
       "right": null,
       "top": null,
       "visibility": null,
       "width": null
      }
     },
     "07c7fdac05b2485b8a98379e96fc6fea": {
      "model_module": "@jupyter-widgets/controls",
      "model_module_version": "1.5.0",
      "model_name": "FloatProgressModel",
      "state": {
       "_dom_classes": [],
       "_model_module": "@jupyter-widgets/controls",
       "_model_module_version": "1.5.0",
       "_model_name": "FloatProgressModel",
       "_view_count": null,
       "_view_module": "@jupyter-widgets/controls",
       "_view_module_version": "1.5.0",
       "_view_name": "ProgressView",
       "bar_style": "success",
       "description": "",
       "description_tooltip": null,
       "layout": "IPY_MODEL_e45307a88ebc41e88fb27f2b002d31f6",
       "max": 112.0,
       "min": 0.0,
       "orientation": "horizontal",
       "style": "IPY_MODEL_a3490581068d46df8e099fda0c510df1",
       "value": 112.0
      }
     },
     "08154566a9f4403990cf11c9691809e5": {
      "model_module": "@jupyter-widgets/controls",
      "model_module_version": "1.5.0",
      "model_name": "HTMLModel",
      "state": {
       "_dom_classes": [],
       "_model_module": "@jupyter-widgets/controls",
       "_model_module_version": "1.5.0",
       "_model_name": "HTMLModel",
       "_view_count": null,
       "_view_module": "@jupyter-widgets/controls",
       "_view_module_version": "1.5.0",
       "_view_name": "HTMLView",
       "description": "",
       "description_tooltip": null,
       "layout": "IPY_MODEL_707c4a70c30e47159a201149302bc319",
       "placeholder": "​",
       "style": "IPY_MODEL_2b391b713eea4cec92928b5e6381bd18",
       "value": " 899k/899k [00:00&lt;00:00, 14.4MB/s]"
      }
     },
     "0851c12fc07640c9ba2f73d1debdad76": {
      "model_module": "@jupyter-widgets/base",
      "model_module_version": "1.2.0",
      "model_name": "LayoutModel",
      "state": {
       "_model_module": "@jupyter-widgets/base",
       "_model_module_version": "1.2.0",
       "_model_name": "LayoutModel",
       "_view_count": null,
       "_view_module": "@jupyter-widgets/base",
       "_view_module_version": "1.2.0",
       "_view_name": "LayoutView",
       "align_content": null,
       "align_items": null,
       "align_self": null,
       "border": null,
       "bottom": null,
       "display": null,
       "flex": null,
       "flex_flow": null,
       "grid_area": null,
       "grid_auto_columns": null,
       "grid_auto_flow": null,
       "grid_auto_rows": null,
       "grid_column": null,
       "grid_gap": null,
       "grid_row": null,
       "grid_template_areas": null,
       "grid_template_columns": null,
       "grid_template_rows": null,
       "height": null,
       "justify_content": null,
       "justify_items": null,
       "left": null,
       "margin": null,
       "max_height": null,
       "max_width": null,
       "min_height": null,
       "min_width": null,
       "object_fit": null,
       "object_position": null,
       "order": null,
       "overflow": null,
       "overflow_x": null,
       "overflow_y": null,
       "padding": null,
       "right": null,
       "top": null,
       "visibility": null,
       "width": null
      }
     },
     "09e3e60c95e94132bbf5b7b9ea288546": {
      "model_module": "@jupyter-widgets/controls",
      "model_module_version": "1.5.0",
      "model_name": "HTMLModel",
      "state": {
       "_dom_classes": [],
       "_model_module": "@jupyter-widgets/controls",
       "_model_module_version": "1.5.0",
       "_model_name": "HTMLModel",
       "_view_count": null,
       "_view_module": "@jupyter-widgets/controls",
       "_view_module_version": "1.5.0",
       "_view_name": "HTMLView",
       "description": "",
       "description_tooltip": null,
       "layout": "IPY_MODEL_9125b94b16764be6835ae310def8eb22",
       "placeholder": "​",
       "style": "IPY_MODEL_9c7c9a177f24496eb7601ec60775e8f7",
       "value": "100%"
      }
     },
     "0a9f2ffe6fb64e0ba30b3156924e7c98": {
      "model_module": "@jupyter-widgets/base",
      "model_module_version": "1.2.0",
      "model_name": "LayoutModel",
      "state": {
       "_model_module": "@jupyter-widgets/base",
       "_model_module_version": "1.2.0",
       "_model_name": "LayoutModel",
       "_view_count": null,
       "_view_module": "@jupyter-widgets/base",
       "_view_module_version": "1.2.0",
       "_view_name": "LayoutView",
       "align_content": null,
       "align_items": null,
       "align_self": null,
       "border": null,
       "bottom": null,
       "display": null,
       "flex": null,
       "flex_flow": null,
       "grid_area": null,
       "grid_auto_columns": null,
       "grid_auto_flow": null,
       "grid_auto_rows": null,
       "grid_column": null,
       "grid_gap": null,
       "grid_row": null,
       "grid_template_areas": null,
       "grid_template_columns": null,
       "grid_template_rows": null,
       "height": null,
       "justify_content": null,
       "justify_items": null,
       "left": null,
       "margin": null,
       "max_height": null,
       "max_width": null,
       "min_height": null,
       "min_width": null,
       "object_fit": null,
       "object_position": null,
       "order": null,
       "overflow": null,
       "overflow_x": null,
       "overflow_y": null,
       "padding": null,
       "right": null,
       "top": null,
       "visibility": null,
       "width": null
      }
     },
     "0b3b3e9377e64ecbbfde705f2191f23f": {
      "model_module": "@jupyter-widgets/controls",
      "model_module_version": "1.5.0",
      "model_name": "FloatProgressModel",
      "state": {
       "_dom_classes": [],
       "_model_module": "@jupyter-widgets/controls",
       "_model_module_version": "1.5.0",
       "_model_name": "FloatProgressModel",
       "_view_count": null,
       "_view_module": "@jupyter-widgets/controls",
       "_view_module_version": "1.5.0",
       "_view_name": "ProgressView",
       "bar_style": "success",
       "description": "",
       "description_tooltip": null,
       "layout": "IPY_MODEL_47b871f4c8a343dfa42228d34409c3b8",
       "max": 437975140.0,
       "min": 0.0,
       "orientation": "horizontal",
       "style": "IPY_MODEL_8d7f0a53cfc0487e8b7c4b34e387ddd8",
       "value": 437975140.0
      }
     },
     "0ba929fe44404bb1963fcb3fa292e820": {
      "model_module": "@jupyter-widgets/controls",
      "model_module_version": "1.5.0",
      "model_name": "HTMLModel",
      "state": {
       "_dom_classes": [],
       "_model_module": "@jupyter-widgets/controls",
       "_model_module_version": "1.5.0",
       "_model_name": "HTMLModel",
       "_view_count": null,
       "_view_module": "@jupyter-widgets/controls",
       "_view_module_version": "1.5.0",
       "_view_name": "HTMLView",
       "description": "",
       "description_tooltip": null,
       "layout": "IPY_MODEL_558950fb9f5e487ea6cc0fb7aa4dba3c",
       "placeholder": "​",
       "style": "IPY_MODEL_e4df7a84f69945dba6883e8dde209077",
       "value": " 1.15k/1.15k [00:00&lt;00:00, 88.0kB/s]"
      }
     },
     "0c19ba0f17dd47d29aeb846c784d4102": {
      "model_module": "@jupyter-widgets/controls",
      "model_module_version": "1.5.0",
      "model_name": "HBoxModel",
      "state": {
       "_dom_classes": [],
       "_model_module": "@jupyter-widgets/controls",
       "_model_module_version": "1.5.0",
       "_model_name": "HBoxModel",
       "_view_count": null,
       "_view_module": "@jupyter-widgets/controls",
       "_view_module_version": "1.5.0",
       "_view_name": "HBoxView",
       "box_style": "",
       "children": [
        "IPY_MODEL_faeff95c9a0249a8aabfc960dcf7e961",
        "IPY_MODEL_def9cfad3d5c451d8845040e5fe3b927",
        "IPY_MODEL_1bbe9cf61828449b993a9b783f15243f"
       ],
       "layout": "IPY_MODEL_98dee9060bfc4a49973ac0b46a3681fd"
      }
     },
     "0c517659091e45639c664441f15f9aea": {
      "model_module": "@jupyter-widgets/controls",
      "model_module_version": "1.5.0",
      "model_name": "HBoxModel",
      "state": {
       "_dom_classes": [],
       "_model_module": "@jupyter-widgets/controls",
       "_model_module_version": "1.5.0",
       "_model_name": "HBoxModel",
       "_view_count": null,
       "_view_module": "@jupyter-widgets/controls",
       "_view_module_version": "1.5.0",
       "_view_name": "HBoxView",
       "box_style": "",
       "children": [
        "IPY_MODEL_c31a8fca2f5f40e18d902e95a7a783e8",
        "IPY_MODEL_0b3b3e9377e64ecbbfde705f2191f23f",
        "IPY_MODEL_865aed659b6d44d49c6bfa4028200fc8"
       ],
       "layout": "IPY_MODEL_acbda2b918164a18a8e6dd6b962a8093"
      }
     },
     "0ce520c08ce248cdba133da49e098483": {
      "model_module": "@jupyter-widgets/base",
      "model_module_version": "1.2.0",
      "model_name": "LayoutModel",
      "state": {
       "_model_module": "@jupyter-widgets/base",
       "_model_module_version": "1.2.0",
       "_model_name": "LayoutModel",
       "_view_count": null,
       "_view_module": "@jupyter-widgets/base",
       "_view_module_version": "1.2.0",
       "_view_name": "LayoutView",
       "align_content": null,
       "align_items": null,
       "align_self": null,
       "border": null,
       "bottom": null,
       "display": null,
       "flex": null,
       "flex_flow": null,
       "grid_area": null,
       "grid_auto_columns": null,
       "grid_auto_flow": null,
       "grid_auto_rows": null,
       "grid_column": null,
       "grid_gap": null,
       "grid_row": null,
       "grid_template_areas": null,
       "grid_template_columns": null,
       "grid_template_rows": null,
       "height": null,
       "justify_content": null,
       "justify_items": null,
       "left": null,
       "margin": null,
       "max_height": null,
       "max_width": null,
       "min_height": null,
       "min_width": null,
       "object_fit": null,
       "object_position": null,
       "order": null,
       "overflow": null,
       "overflow_x": null,
       "overflow_y": null,
       "padding": null,
       "right": null,
       "top": null,
       "visibility": null,
       "width": null
      }
     },
     "0e81fed537f3405a947cd77ab4f93ad2": {
      "model_module": "@jupyter-widgets/controls",
      "model_module_version": "1.5.0",
      "model_name": "DescriptionStyleModel",
      "state": {
       "_model_module": "@jupyter-widgets/controls",
       "_model_module_version": "1.5.0",
       "_model_name": "DescriptionStyleModel",
       "_view_count": null,
       "_view_module": "@jupyter-widgets/base",
       "_view_module_version": "1.2.0",
       "_view_name": "StyleView",
       "description_width": ""
      }
     },
     "0ee68fd1a5a548a5a08136d45247ab64": {
      "model_module": "@jupyter-widgets/controls",
      "model_module_version": "1.5.0",
      "model_name": "DescriptionStyleModel",
      "state": {
       "_model_module": "@jupyter-widgets/controls",
       "_model_module_version": "1.5.0",
       "_model_name": "DescriptionStyleModel",
       "_view_count": null,
       "_view_module": "@jupyter-widgets/base",
       "_view_module_version": "1.2.0",
       "_view_name": "StyleView",
       "description_width": ""
      }
     },
     "0f3d5461d33d46ee90450c5fea0b33e8": {
      "model_module": "@jupyter-widgets/controls",
      "model_module_version": "1.5.0",
      "model_name": "HBoxModel",
      "state": {
       "_dom_classes": [],
       "_model_module": "@jupyter-widgets/controls",
       "_model_module_version": "1.5.0",
       "_model_name": "HBoxModel",
       "_view_count": null,
       "_view_module": "@jupyter-widgets/controls",
       "_view_module_version": "1.5.0",
       "_view_name": "HBoxView",
       "box_style": "",
       "children": [
        "IPY_MODEL_daed6cfa48fb4841817fc2ef83ece0f6",
        "IPY_MODEL_a569580c248e466c979c84e64f92a38b",
        "IPY_MODEL_225442544f194ce39c7a16b60db751a3"
       ],
       "layout": "IPY_MODEL_560da35827c14833a57bc4851ca0837c"
      }
     },
     "10dd32b971fc4b7494ecd7e10078b29d": {
      "model_module": "@jupyter-widgets/controls",
      "model_module_version": "1.5.0",
      "model_name": "FloatProgressModel",
      "state": {
       "_dom_classes": [],
       "_model_module": "@jupyter-widgets/controls",
       "_model_module_version": "1.5.0",
       "_model_name": "FloatProgressModel",
       "_view_count": null,
       "_view_module": "@jupyter-widgets/controls",
       "_view_module_version": "1.5.0",
       "_view_name": "ProgressView",
       "bar_style": "success",
       "description": "",
       "description_tooltip": null,
       "layout": "IPY_MODEL_957cdad9df0a49f9b844c63288b3c636",
       "max": 100.0,
       "min": 0.0,
       "orientation": "horizontal",
       "style": "IPY_MODEL_868323aa537746fc8d3217b4a6eebe2b",
       "value": 100.0
      }
     },
     "11766c0955774f09a264b163259dc034": {
      "model_module": "@jupyter-widgets/base",
      "model_module_version": "1.2.0",
      "model_name": "LayoutModel",
      "state": {
       "_model_module": "@jupyter-widgets/base",
       "_model_module_version": "1.2.0",
       "_model_name": "LayoutModel",
       "_view_count": null,
       "_view_module": "@jupyter-widgets/base",
       "_view_module_version": "1.2.0",
       "_view_name": "LayoutView",
       "align_content": null,
       "align_items": null,
       "align_self": null,
       "border": null,
       "bottom": null,
       "display": null,
       "flex": null,
       "flex_flow": null,
       "grid_area": null,
       "grid_auto_columns": null,
       "grid_auto_flow": null,
       "grid_auto_rows": null,
       "grid_column": null,
       "grid_gap": null,
       "grid_row": null,
       "grid_template_areas": null,
       "grid_template_columns": null,
       "grid_template_rows": null,
       "height": null,
       "justify_content": null,
       "justify_items": null,
       "left": null,
       "margin": null,
       "max_height": null,
       "max_width": null,
       "min_height": null,
       "min_width": null,
       "object_fit": null,
       "object_position": null,
       "order": null,
       "overflow": null,
       "overflow_x": null,
       "overflow_y": null,
       "padding": null,
       "right": null,
       "top": null,
       "visibility": null,
       "width": null
      }
     },
     "12ba592980e6419a9880b51fbe0b96b6": {
      "model_module": "@jupyter-widgets/base",
      "model_module_version": "1.2.0",
      "model_name": "LayoutModel",
      "state": {
       "_model_module": "@jupyter-widgets/base",
       "_model_module_version": "1.2.0",
       "_model_name": "LayoutModel",
       "_view_count": null,
       "_view_module": "@jupyter-widgets/base",
       "_view_module_version": "1.2.0",
       "_view_name": "LayoutView",
       "align_content": null,
       "align_items": null,
       "align_self": null,
       "border": null,
       "bottom": null,
       "display": null,
       "flex": null,
       "flex_flow": null,
       "grid_area": null,
       "grid_auto_columns": null,
       "grid_auto_flow": null,
       "grid_auto_rows": null,
       "grid_column": null,
       "grid_gap": null,
       "grid_row": null,
       "grid_template_areas": null,
       "grid_template_columns": null,
       "grid_template_rows": null,
       "height": null,
       "justify_content": null,
       "justify_items": null,
       "left": null,
       "margin": null,
       "max_height": null,
       "max_width": null,
       "min_height": null,
       "min_width": null,
       "object_fit": null,
       "object_position": null,
       "order": null,
       "overflow": null,
       "overflow_x": null,
       "overflow_y": null,
       "padding": null,
       "right": null,
       "top": null,
       "visibility": null,
       "width": null
      }
     },
     "16e1d455cced4196a92f85feb80a386e": {
      "model_module": "@jupyter-widgets/base",
      "model_module_version": "1.2.0",
      "model_name": "LayoutModel",
      "state": {
       "_model_module": "@jupyter-widgets/base",
       "_model_module_version": "1.2.0",
       "_model_name": "LayoutModel",
       "_view_count": null,
       "_view_module": "@jupyter-widgets/base",
       "_view_module_version": "1.2.0",
       "_view_name": "LayoutView",
       "align_content": null,
       "align_items": null,
       "align_self": null,
       "border": null,
       "bottom": null,
       "display": null,
       "flex": null,
       "flex_flow": null,
       "grid_area": null,
       "grid_auto_columns": null,
       "grid_auto_flow": null,
       "grid_auto_rows": null,
       "grid_column": null,
       "grid_gap": null,
       "grid_row": null,
       "grid_template_areas": null,
       "grid_template_columns": null,
       "grid_template_rows": null,
       "height": null,
       "justify_content": null,
       "justify_items": null,
       "left": null,
       "margin": null,
       "max_height": null,
       "max_width": null,
       "min_height": null,
       "min_width": null,
       "object_fit": null,
       "object_position": null,
       "order": null,
       "overflow": null,
       "overflow_x": null,
       "overflow_y": null,
       "padding": null,
       "right": null,
       "top": null,
       "visibility": null,
       "width": null
      }
     },
     "1755e31abb104220906f38bfbd5764a5": {
      "model_module": "@jupyter-widgets/controls",
      "model_module_version": "1.5.0",
      "model_name": "DescriptionStyleModel",
      "state": {
       "_model_module": "@jupyter-widgets/controls",
       "_model_module_version": "1.5.0",
       "_model_name": "DescriptionStyleModel",
       "_view_count": null,
       "_view_module": "@jupyter-widgets/base",
       "_view_module_version": "1.2.0",
       "_view_name": "StyleView",
       "description_width": ""
      }
     },
     "18ade06c3d9645d3aaf45141e8df6955": {
      "model_module": "@jupyter-widgets/controls",
      "model_module_version": "1.5.0",
      "model_name": "FloatProgressModel",
      "state": {
       "_dom_classes": [],
       "_model_module": "@jupyter-widgets/controls",
       "_model_module_version": "1.5.0",
       "_model_name": "FloatProgressModel",
       "_view_count": null,
       "_view_module": "@jupyter-widgets/controls",
       "_view_module_version": "1.5.0",
       "_view_name": "ProgressView",
       "bar_style": "success",
       "description": "",
       "description_tooltip": null,
       "layout": "IPY_MODEL_58e98218159547e1af68d79cdd7f4904",
       "max": 100.0,
       "min": 0.0,
       "orientation": "horizontal",
       "style": "IPY_MODEL_6b3cb8156b5e4279a08d900d777012ec",
       "value": 100.0
      }
     },
     "18ea315659464b1aa224c66d751b5c71": {
      "model_module": "@jupyter-widgets/controls",
      "model_module_version": "1.5.0",
      "model_name": "DescriptionStyleModel",
      "state": {
       "_model_module": "@jupyter-widgets/controls",
       "_model_module_version": "1.5.0",
       "_model_name": "DescriptionStyleModel",
       "_view_count": null,
       "_view_module": "@jupyter-widgets/base",
       "_view_module_version": "1.2.0",
       "_view_name": "StyleView",
       "description_width": ""
      }
     },
     "1bbe9cf61828449b993a9b783f15243f": {
      "model_module": "@jupyter-widgets/controls",
      "model_module_version": "1.5.0",
      "model_name": "HTMLModel",
      "state": {
       "_dom_classes": [],
       "_model_module": "@jupyter-widgets/controls",
       "_model_module_version": "1.5.0",
       "_model_name": "HTMLModel",
       "_view_count": null,
       "_view_module": "@jupyter-widgets/controls",
       "_view_module_version": "1.5.0",
       "_view_name": "HTMLView",
       "description": "",
       "description_tooltip": null,
       "layout": "IPY_MODEL_276e88a022f1407f8a5a1d01f38e36b9",
       "placeholder": "​",
       "style": "IPY_MODEL_34c4d1e863624d2090e99d84a7b014e3",
       "value": " 935/935 [00:00&lt;00:00, 67.0kB/s]"
      }
     },
     "1cf3861c98c54a47bbd0352dfe3d7728": {
      "model_module": "@jupyter-widgets/base",
      "model_module_version": "1.2.0",
      "model_name": "LayoutModel",
      "state": {
       "_model_module": "@jupyter-widgets/base",
       "_model_module_version": "1.2.0",
       "_model_name": "LayoutModel",
       "_view_count": null,
       "_view_module": "@jupyter-widgets/base",
       "_view_module_version": "1.2.0",
       "_view_name": "LayoutView",
       "align_content": null,
       "align_items": null,
       "align_self": null,
       "border": null,
       "bottom": null,
       "display": null,
       "flex": null,
       "flex_flow": null,
       "grid_area": null,
       "grid_auto_columns": null,
       "grid_auto_flow": null,
       "grid_auto_rows": null,
       "grid_column": null,
       "grid_gap": null,
       "grid_row": null,
       "grid_template_areas": null,
       "grid_template_columns": null,
       "grid_template_rows": null,
       "height": null,
       "justify_content": null,
       "justify_items": null,
       "left": null,
       "margin": null,
       "max_height": null,
       "max_width": null,
       "min_height": null,
       "min_width": null,
       "object_fit": null,
       "object_position": null,
       "order": null,
       "overflow": null,
       "overflow_x": null,
       "overflow_y": null,
       "padding": null,
       "right": null,
       "top": null,
       "visibility": null,
       "width": null
      }
     },
     "1ff55650bc22472f96aa75092aa620c8": {
      "model_module": "@jupyter-widgets/base",
      "model_module_version": "1.2.0",
      "model_name": "LayoutModel",
      "state": {
       "_model_module": "@jupyter-widgets/base",
       "_model_module_version": "1.2.0",
       "_model_name": "LayoutModel",
       "_view_count": null,
       "_view_module": "@jupyter-widgets/base",
       "_view_module_version": "1.2.0",
       "_view_name": "LayoutView",
       "align_content": null,
       "align_items": null,
       "align_self": null,
       "border": null,
       "bottom": null,
       "display": null,
       "flex": null,
       "flex_flow": null,
       "grid_area": null,
       "grid_auto_columns": null,
       "grid_auto_flow": null,
       "grid_auto_rows": null,
       "grid_column": null,
       "grid_gap": null,
       "grid_row": null,
       "grid_template_areas": null,
       "grid_template_columns": null,
       "grid_template_rows": null,
       "height": null,
       "justify_content": null,
       "justify_items": null,
       "left": null,
       "margin": null,
       "max_height": null,
       "max_width": null,
       "min_height": null,
       "min_width": null,
       "object_fit": null,
       "object_position": null,
       "order": null,
       "overflow": null,
       "overflow_x": null,
       "overflow_y": null,
       "padding": null,
       "right": null,
       "top": null,
       "visibility": null,
       "width": null
      }
     },
     "20e6544016de4eb2b586a967dbfd5a44": {
      "model_module": "@jupyter-widgets/controls",
      "model_module_version": "1.5.0",
      "model_name": "DescriptionStyleModel",
      "state": {
       "_model_module": "@jupyter-widgets/controls",
       "_model_module_version": "1.5.0",
       "_model_name": "DescriptionStyleModel",
       "_view_count": null,
       "_view_module": "@jupyter-widgets/base",
       "_view_module_version": "1.2.0",
       "_view_name": "StyleView",
       "description_width": ""
      }
     },
     "20ede58bd14b4360a9d7eda124d4b56a": {
      "model_module": "@jupyter-widgets/base",
      "model_module_version": "1.2.0",
      "model_name": "LayoutModel",
      "state": {
       "_model_module": "@jupyter-widgets/base",
       "_model_module_version": "1.2.0",
       "_model_name": "LayoutModel",
       "_view_count": null,
       "_view_module": "@jupyter-widgets/base",
       "_view_module_version": "1.2.0",
       "_view_name": "LayoutView",
       "align_content": null,
       "align_items": null,
       "align_self": null,
       "border": null,
       "bottom": null,
       "display": null,
       "flex": null,
       "flex_flow": null,
       "grid_area": null,
       "grid_auto_columns": null,
       "grid_auto_flow": null,
       "grid_auto_rows": null,
       "grid_column": null,
       "grid_gap": null,
       "grid_row": null,
       "grid_template_areas": null,
       "grid_template_columns": null,
       "grid_template_rows": null,
       "height": null,
       "justify_content": null,
       "justify_items": null,
       "left": null,
       "margin": null,
       "max_height": null,
       "max_width": null,
       "min_height": null,
       "min_width": null,
       "object_fit": null,
       "object_position": null,
       "order": null,
       "overflow": null,
       "overflow_x": null,
       "overflow_y": null,
       "padding": null,
       "right": null,
       "top": null,
       "visibility": null,
       "width": null
      }
     },
     "2136a43891c34e93b7a520e7c21241ba": {
      "model_module": "@jupyter-widgets/base",
      "model_module_version": "1.2.0",
      "model_name": "LayoutModel",
      "state": {
       "_model_module": "@jupyter-widgets/base",
       "_model_module_version": "1.2.0",
       "_model_name": "LayoutModel",
       "_view_count": null,
       "_view_module": "@jupyter-widgets/base",
       "_view_module_version": "1.2.0",
       "_view_name": "LayoutView",
       "align_content": null,
       "align_items": null,
       "align_self": null,
       "border": null,
       "bottom": null,
       "display": null,
       "flex": null,
       "flex_flow": null,
       "grid_area": null,
       "grid_auto_columns": null,
       "grid_auto_flow": null,
       "grid_auto_rows": null,
       "grid_column": null,
       "grid_gap": null,
       "grid_row": null,
       "grid_template_areas": null,
       "grid_template_columns": null,
       "grid_template_rows": null,
       "height": null,
       "justify_content": null,
       "justify_items": null,
       "left": null,
       "margin": null,
       "max_height": null,
       "max_width": null,
       "min_height": null,
       "min_width": null,
       "object_fit": null,
       "object_position": null,
       "order": null,
       "overflow": null,
       "overflow_x": null,
       "overflow_y": null,
       "padding": null,
       "right": null,
       "top": null,
       "visibility": null,
       "width": null
      }
     },
     "21b1c701dc0f451da72f06ca51d36611": {
      "model_module": "@jupyter-widgets/base",
      "model_module_version": "1.2.0",
      "model_name": "LayoutModel",
      "state": {
       "_model_module": "@jupyter-widgets/base",
       "_model_module_version": "1.2.0",
       "_model_name": "LayoutModel",
       "_view_count": null,
       "_view_module": "@jupyter-widgets/base",
       "_view_module_version": "1.2.0",
       "_view_name": "LayoutView",
       "align_content": null,
       "align_items": null,
       "align_self": null,
       "border": null,
       "bottom": null,
       "display": null,
       "flex": null,
       "flex_flow": null,
       "grid_area": null,
       "grid_auto_columns": null,
       "grid_auto_flow": null,
       "grid_auto_rows": null,
       "grid_column": null,
       "grid_gap": null,
       "grid_row": null,
       "grid_template_areas": null,
       "grid_template_columns": null,
       "grid_template_rows": null,
       "height": null,
       "justify_content": null,
       "justify_items": null,
       "left": null,
       "margin": null,
       "max_height": null,
       "max_width": null,
       "min_height": null,
       "min_width": null,
       "object_fit": null,
       "object_position": null,
       "order": null,
       "overflow": null,
       "overflow_x": null,
       "overflow_y": null,
       "padding": null,
       "right": null,
       "top": null,
       "visibility": null,
       "width": null
      }
     },
     "220dfa68358246448277d26612e3c7e9": {
      "model_module": "@jupyter-widgets/controls",
      "model_module_version": "1.5.0",
      "model_name": "HTMLModel",
      "state": {
       "_dom_classes": [],
       "_model_module": "@jupyter-widgets/controls",
       "_model_module_version": "1.5.0",
       "_model_name": "HTMLModel",
       "_view_count": null,
       "_view_module": "@jupyter-widgets/controls",
       "_view_module_version": "1.5.0",
       "_view_name": "HTMLView",
       "description": "",
       "description_tooltip": null,
       "layout": "IPY_MODEL_87e8447f9cc9489d91f2216211f9ce8f",
       "placeholder": "​",
       "style": "IPY_MODEL_72202c138b8b439397a4106dc0dd0095",
       "value": " 26.0/26.0 [00:00&lt;00:00, 1.62kB/s]"
      }
     },
     "225442544f194ce39c7a16b60db751a3": {
      "model_module": "@jupyter-widgets/controls",
      "model_module_version": "1.5.0",
      "model_name": "HTMLModel",
      "state": {
       "_dom_classes": [],
       "_model_module": "@jupyter-widgets/controls",
       "_model_module_version": "1.5.0",
       "_model_name": "HTMLModel",
       "_view_count": null,
       "_view_module": "@jupyter-widgets/controls",
       "_view_module_version": "1.5.0",
       "_view_name": "HTMLView",
       "description": "",
       "description_tooltip": null,
       "layout": "IPY_MODEL_0851c12fc07640c9ba2f73d1debdad76",
       "placeholder": "​",
       "style": "IPY_MODEL_306c3a9ce3ef4020ab1ad09533c286d7",
       "value": " 100/100 [00:01&lt;00:00, 64.74it/s]"
      }
     },
     "22f878092aec49a99b6b0fae823dd852": {
      "model_module": "@jupyter-widgets/controls",
      "model_module_version": "1.5.0",
      "model_name": "DescriptionStyleModel",
      "state": {
       "_model_module": "@jupyter-widgets/controls",
       "_model_module_version": "1.5.0",
       "_model_name": "DescriptionStyleModel",
       "_view_count": null,
       "_view_module": "@jupyter-widgets/base",
       "_view_module_version": "1.2.0",
       "_view_name": "StyleView",
       "description_width": ""
      }
     },
     "2473591337044444adb19f7afe61c26e": {
      "model_module": "@jupyter-widgets/controls",
      "model_module_version": "1.5.0",
      "model_name": "DescriptionStyleModel",
      "state": {
       "_model_module": "@jupyter-widgets/controls",
       "_model_module_version": "1.5.0",
       "_model_name": "DescriptionStyleModel",
       "_view_count": null,
       "_view_module": "@jupyter-widgets/base",
       "_view_module_version": "1.2.0",
       "_view_name": "StyleView",
       "description_width": ""
      }
     },
     "25164798271a46c99070e164543831e7": {
      "model_module": "@jupyter-widgets/controls",
      "model_module_version": "1.5.0",
      "model_name": "FloatProgressModel",
      "state": {
       "_dom_classes": [],
       "_model_module": "@jupyter-widgets/controls",
       "_model_module_version": "1.5.0",
       "_model_name": "FloatProgressModel",
       "_view_count": null,
       "_view_module": "@jupyter-widgets/controls",
       "_view_module_version": "1.5.0",
       "_view_name": "ProgressView",
       "bar_style": "success",
       "description": "",
       "description_tooltip": null,
       "layout": "IPY_MODEL_5c5b1f1010564ed8b3b049636ed491a7",
       "max": 285.0,
       "min": 0.0,
       "orientation": "horizontal",
       "style": "IPY_MODEL_e159713a9b564de49dbe79feddabeb2f",
       "value": 285.0
      }
     },
     "25441364900d41c296d796c62234d5c6": {
      "model_module": "@jupyter-widgets/controls",
      "model_module_version": "1.5.0",
      "model_name": "HBoxModel",
      "state": {
       "_dom_classes": [],
       "_model_module": "@jupyter-widgets/controls",
       "_model_module_version": "1.5.0",
       "_model_name": "HBoxModel",
       "_view_count": null,
       "_view_module": "@jupyter-widgets/controls",
       "_view_module_version": "1.5.0",
       "_view_name": "HBoxView",
       "box_style": "",
       "children": [
        "IPY_MODEL_987be672585e44d3bdf8dab0ffa0438c",
        "IPY_MODEL_07c7fdac05b2485b8a98379e96fc6fea",
        "IPY_MODEL_c0fa7444b3e34532913c2245d6b9d297"
       ],
       "layout": "IPY_MODEL_21b1c701dc0f451da72f06ca51d36611"
      }
     },
     "272a8fe0ec53416a8c69f033c5c4067a": {
      "model_module": "@jupyter-widgets/controls",
      "model_module_version": "1.5.0",
      "model_name": "ProgressStyleModel",
      "state": {
       "_model_module": "@jupyter-widgets/controls",
       "_model_module_version": "1.5.0",
       "_model_name": "ProgressStyleModel",
       "_view_count": null,
       "_view_module": "@jupyter-widgets/base",
       "_view_module_version": "1.2.0",
       "_view_name": "StyleView",
       "bar_color": null,
       "description_width": ""
      }
     },
     "276e88a022f1407f8a5a1d01f38e36b9": {
      "model_module": "@jupyter-widgets/base",
      "model_module_version": "1.2.0",
      "model_name": "LayoutModel",
      "state": {
       "_model_module": "@jupyter-widgets/base",
       "_model_module_version": "1.2.0",
       "_model_name": "LayoutModel",
       "_view_count": null,
       "_view_module": "@jupyter-widgets/base",
       "_view_module_version": "1.2.0",
       "_view_name": "LayoutView",
       "align_content": null,
       "align_items": null,
       "align_self": null,
       "border": null,
       "bottom": null,
       "display": null,
       "flex": null,
       "flex_flow": null,
       "grid_area": null,
       "grid_auto_columns": null,
       "grid_auto_flow": null,
       "grid_auto_rows": null,
       "grid_column": null,
       "grid_gap": null,
       "grid_row": null,
       "grid_template_areas": null,
       "grid_template_columns": null,
       "grid_template_rows": null,
       "height": null,
       "justify_content": null,
       "justify_items": null,
       "left": null,
       "margin": null,
       "max_height": null,
       "max_width": null,
       "min_height": null,
       "min_width": null,
       "object_fit": null,
       "object_position": null,
       "order": null,
       "overflow": null,
       "overflow_x": null,
       "overflow_y": null,
       "padding": null,
       "right": null,
       "top": null,
       "visibility": null,
       "width": null
      }
     },
     "2981e9a344b640fea5b4c8ebf2a4fdbd": {
      "model_module": "@jupyter-widgets/base",
      "model_module_version": "1.2.0",
      "model_name": "LayoutModel",
      "state": {
       "_model_module": "@jupyter-widgets/base",
       "_model_module_version": "1.2.0",
       "_model_name": "LayoutModel",
       "_view_count": null,
       "_view_module": "@jupyter-widgets/base",
       "_view_module_version": "1.2.0",
       "_view_name": "LayoutView",
       "align_content": null,
       "align_items": null,
       "align_self": null,
       "border": null,
       "bottom": null,
       "display": null,
       "flex": null,
       "flex_flow": null,
       "grid_area": null,
       "grid_auto_columns": null,
       "grid_auto_flow": null,
       "grid_auto_rows": null,
       "grid_column": null,
       "grid_gap": null,
       "grid_row": null,
       "grid_template_areas": null,
       "grid_template_columns": null,
       "grid_template_rows": null,
       "height": null,
       "justify_content": null,
       "justify_items": null,
       "left": null,
       "margin": null,
       "max_height": null,
       "max_width": null,
       "min_height": null,
       "min_width": null,
       "object_fit": null,
       "object_position": null,
       "order": null,
       "overflow": null,
       "overflow_x": null,
       "overflow_y": null,
       "padding": null,
       "right": null,
       "top": null,
       "visibility": null,
       "width": null
      }
     },
     "2b391b713eea4cec92928b5e6381bd18": {
      "model_module": "@jupyter-widgets/controls",
      "model_module_version": "1.5.0",
      "model_name": "DescriptionStyleModel",
      "state": {
       "_model_module": "@jupyter-widgets/controls",
       "_model_module_version": "1.5.0",
       "_model_name": "DescriptionStyleModel",
       "_view_count": null,
       "_view_module": "@jupyter-widgets/base",
       "_view_module_version": "1.2.0",
       "_view_name": "StyleView",
       "description_width": ""
      }
     },
     "2e21805a8ce64c19bb0e6a2937e088c2": {
      "model_module": "@jupyter-widgets/base",
      "model_module_version": "1.2.0",
      "model_name": "LayoutModel",
      "state": {
       "_model_module": "@jupyter-widgets/base",
       "_model_module_version": "1.2.0",
       "_model_name": "LayoutModel",
       "_view_count": null,
       "_view_module": "@jupyter-widgets/base",
       "_view_module_version": "1.2.0",
       "_view_name": "LayoutView",
       "align_content": null,
       "align_items": null,
       "align_self": null,
       "border": null,
       "bottom": null,
       "display": null,
       "flex": null,
       "flex_flow": null,
       "grid_area": null,
       "grid_auto_columns": null,
       "grid_auto_flow": null,
       "grid_auto_rows": null,
       "grid_column": null,
       "grid_gap": null,
       "grid_row": null,
       "grid_template_areas": null,
       "grid_template_columns": null,
       "grid_template_rows": null,
       "height": null,
       "justify_content": null,
       "justify_items": null,
       "left": null,
       "margin": null,
       "max_height": null,
       "max_width": null,
       "min_height": null,
       "min_width": null,
       "object_fit": null,
       "object_position": null,
       "order": null,
       "overflow": null,
       "overflow_x": null,
       "overflow_y": null,
       "padding": null,
       "right": null,
       "top": null,
       "visibility": null,
       "width": null
      }
     },
     "2eae738928644af9b7ebda2888c1ac1c": {
      "model_module": "@jupyter-widgets/controls",
      "model_module_version": "1.5.0",
      "model_name": "DescriptionStyleModel",
      "state": {
       "_model_module": "@jupyter-widgets/controls",
       "_model_module_version": "1.5.0",
       "_model_name": "DescriptionStyleModel",
       "_view_count": null,
       "_view_module": "@jupyter-widgets/base",
       "_view_module_version": "1.2.0",
       "_view_name": "StyleView",
       "description_width": ""
      }
     },
     "302c5330f6cb4a14978e9a238efa0a26": {
      "model_module": "@jupyter-widgets/controls",
      "model_module_version": "1.5.0",
      "model_name": "HBoxModel",
      "state": {
       "_dom_classes": [],
       "_model_module": "@jupyter-widgets/controls",
       "_model_module_version": "1.5.0",
       "_model_name": "HBoxModel",
       "_view_count": null,
       "_view_module": "@jupyter-widgets/controls",
       "_view_module_version": "1.5.0",
       "_view_name": "HBoxView",
       "box_style": "",
       "children": [
        "IPY_MODEL_4f47e39812b8460381dde3f60e6e440c",
        "IPY_MODEL_a6fd294e43cb461490db4bf79d8a519e",
        "IPY_MODEL_87ba5210dcc44f03a91f8dc627ce20ac"
       ],
       "layout": "IPY_MODEL_e3331481eb38487d8293877f969f802f"
      }
     },
     "304e792540e440e09d1500a918272853": {
      "model_module": "@jupyter-widgets/controls",
      "model_module_version": "1.5.0",
      "model_name": "HBoxModel",
      "state": {
       "_dom_classes": [],
       "_model_module": "@jupyter-widgets/controls",
       "_model_module_version": "1.5.0",
       "_model_name": "HBoxModel",
       "_view_count": null,
       "_view_module": "@jupyter-widgets/controls",
       "_view_module_version": "1.5.0",
       "_view_name": "HBoxView",
       "box_style": "",
       "children": [
        "IPY_MODEL_a7ff7c7ff4024fa091d7fdb53086beb1",
        "IPY_MODEL_765fbc4741934456878d289f2a0d1d35",
        "IPY_MODEL_0ba929fe44404bb1963fcb3fa292e820"
       ],
       "layout": "IPY_MODEL_7e6ecee50c14410fa795fd75eb17355c"
      }
     },
     "306c3a9ce3ef4020ab1ad09533c286d7": {
      "model_module": "@jupyter-widgets/controls",
      "model_module_version": "1.5.0",
      "model_name": "DescriptionStyleModel",
      "state": {
       "_model_module": "@jupyter-widgets/controls",
       "_model_module_version": "1.5.0",
       "_model_name": "DescriptionStyleModel",
       "_view_count": null,
       "_view_module": "@jupyter-widgets/base",
       "_view_module_version": "1.2.0",
       "_view_name": "StyleView",
       "description_width": ""
      }
     },
     "33892d49c0b34f7cbe53f04b5286b9c0": {
      "model_module": "@jupyter-widgets/controls",
      "model_module_version": "1.5.0",
      "model_name": "HTMLModel",
      "state": {
       "_dom_classes": [],
       "_model_module": "@jupyter-widgets/controls",
       "_model_module_version": "1.5.0",
       "_model_name": "HTMLModel",
       "_view_count": null,
       "_view_module": "@jupyter-widgets/controls",
       "_view_module_version": "1.5.0",
       "_view_name": "HTMLView",
       "description": "",
       "description_tooltip": null,
       "layout": "IPY_MODEL_47c30fde4f6141f28887b4e55b94b172",
       "placeholder": "​",
       "style": "IPY_MODEL_cff5c56ccf004b15b4035807a02c5f28",
       "value": "vocab.txt: 100%"
      }
     },
     "34c4d1e863624d2090e99d84a7b014e3": {
      "model_module": "@jupyter-widgets/controls",
      "model_module_version": "1.5.0",
      "model_name": "DescriptionStyleModel",
      "state": {
       "_model_module": "@jupyter-widgets/controls",
       "_model_module_version": "1.5.0",
       "_model_name": "DescriptionStyleModel",
       "_view_count": null,
       "_view_module": "@jupyter-widgets/base",
       "_view_module_version": "1.2.0",
       "_view_name": "StyleView",
       "description_width": ""
      }
     },
     "35d0acf9f4594537a9e2ebf66866a71f": {
      "model_module": "@jupyter-widgets/controls",
      "model_module_version": "1.5.0",
      "model_name": "FloatProgressModel",
      "state": {
       "_dom_classes": [],
       "_model_module": "@jupyter-widgets/controls",
       "_model_module_version": "1.5.0",
       "_model_name": "FloatProgressModel",
       "_view_count": null,
       "_view_module": "@jupyter-widgets/controls",
       "_view_module_version": "1.5.0",
       "_view_name": "ProgressView",
       "bar_style": "success",
       "description": "",
       "description_tooltip": null,
       "layout": "IPY_MODEL_20ede58bd14b4360a9d7eda124d4b56a",
       "max": 20000.0,
       "min": 0.0,
       "orientation": "horizontal",
       "style": "IPY_MODEL_66c144d5ce084f49b05867e8bf0617ec",
       "value": 20000.0
      }
     },
     "367033d468884e818ed13cd270bcac1b": {
      "model_module": "@jupyter-widgets/base",
      "model_module_version": "1.2.0",
      "model_name": "LayoutModel",
      "state": {
       "_model_module": "@jupyter-widgets/base",
       "_model_module_version": "1.2.0",
       "_model_name": "LayoutModel",
       "_view_count": null,
       "_view_module": "@jupyter-widgets/base",
       "_view_module_version": "1.2.0",
       "_view_name": "LayoutView",
       "align_content": null,
       "align_items": null,
       "align_self": null,
       "border": null,
       "bottom": null,
       "display": null,
       "flex": null,
       "flex_flow": null,
       "grid_area": null,
       "grid_auto_columns": null,
       "grid_auto_flow": null,
       "grid_auto_rows": null,
       "grid_column": null,
       "grid_gap": null,
       "grid_row": null,
       "grid_template_areas": null,
       "grid_template_columns": null,
       "grid_template_rows": null,
       "height": null,
       "justify_content": null,
       "justify_items": null,
       "left": null,
       "margin": null,
       "max_height": null,
       "max_width": null,
       "min_height": null,
       "min_width": null,
       "object_fit": null,
       "object_position": null,
       "order": null,
       "overflow": null,
       "overflow_x": null,
       "overflow_y": null,
       "padding": null,
       "right": null,
       "top": null,
       "visibility": null,
       "width": null
      }
     },
     "3685170eb7ef4e66905625d34e2ce3bb": {
      "model_module": "@jupyter-widgets/controls",
      "model_module_version": "1.5.0",
      "model_name": "HBoxModel",
      "state": {
       "_dom_classes": [],
       "_model_module": "@jupyter-widgets/controls",
       "_model_module_version": "1.5.0",
       "_model_name": "HBoxModel",
       "_view_count": null,
       "_view_module": "@jupyter-widgets/controls",
       "_view_module_version": "1.5.0",
       "_view_name": "HBoxView",
       "box_style": "",
       "children": [
        "IPY_MODEL_aa1a3b82140e4d2fa494b214dbbadb5c",
        "IPY_MODEL_5b5e683337544431a50b2b9c82eb3030",
        "IPY_MODEL_f14352bd97634ec1b34ec5222e5a9ba7"
       ],
       "layout": "IPY_MODEL_f11dea22149b423f97dfd127dcd2d68b"
      }
     },
     "37465290af3b469382a793e2f34ad413": {
      "model_module": "@jupyter-widgets/controls",
      "model_module_version": "1.5.0",
      "model_name": "HBoxModel",
      "state": {
       "_dom_classes": [],
       "_model_module": "@jupyter-widgets/controls",
       "_model_module_version": "1.5.0",
       "_model_name": "HBoxModel",
       "_view_count": null,
       "_view_module": "@jupyter-widgets/controls",
       "_view_module_version": "1.5.0",
       "_view_name": "HBoxView",
       "box_style": "",
       "children": [
        "IPY_MODEL_89ac8aad79f246bb967eb011ad5d699e",
        "IPY_MODEL_dab239c750e44fdbbf001e04e7b3dee9",
        "IPY_MODEL_bf30db6d858f4fd0b3ec64a4b4222e98"
       ],
       "layout": "IPY_MODEL_fbaa3140563e4dc68a5937adc24cfd91"
      }
     },
     "3830258522524a07813bce20c89d3c8f": {
      "model_module": "@jupyter-widgets/base",
      "model_module_version": "1.2.0",
      "model_name": "LayoutModel",
      "state": {
       "_model_module": "@jupyter-widgets/base",
       "_model_module_version": "1.2.0",
       "_model_name": "LayoutModel",
       "_view_count": null,
       "_view_module": "@jupyter-widgets/base",
       "_view_module_version": "1.2.0",
       "_view_name": "LayoutView",
       "align_content": null,
       "align_items": null,
       "align_self": null,
       "border": null,
       "bottom": null,
       "display": null,
       "flex": null,
       "flex_flow": null,
       "grid_area": null,
       "grid_auto_columns": null,
       "grid_auto_flow": null,
       "grid_auto_rows": null,
       "grid_column": null,
       "grid_gap": null,
       "grid_row": null,
       "grid_template_areas": null,
       "grid_template_columns": null,
       "grid_template_rows": null,
       "height": null,
       "justify_content": null,
       "justify_items": null,
       "left": null,
       "margin": null,
       "max_height": null,
       "max_width": null,
       "min_height": null,
       "min_width": null,
       "object_fit": null,
       "object_position": null,
       "order": null,
       "overflow": null,
       "overflow_x": null,
       "overflow_y": null,
       "padding": null,
       "right": null,
       "top": null,
       "visibility": null,
       "width": null
      }
     },
     "385ab779833c47739a1e26295a281963": {
      "model_module": "@jupyter-widgets/controls",
      "model_module_version": "1.5.0",
      "model_name": "DescriptionStyleModel",
      "state": {
       "_model_module": "@jupyter-widgets/controls",
       "_model_module_version": "1.5.0",
       "_model_name": "DescriptionStyleModel",
       "_view_count": null,
       "_view_module": "@jupyter-widgets/base",
       "_view_module_version": "1.2.0",
       "_view_name": "StyleView",
       "description_width": ""
      }
     },
     "3999fc0813c84ad8ba05da0b14b2f7e3": {
      "model_module": "@jupyter-widgets/controls",
      "model_module_version": "1.5.0",
      "model_name": "DescriptionStyleModel",
      "state": {
       "_model_module": "@jupyter-widgets/controls",
       "_model_module_version": "1.5.0",
       "_model_name": "DescriptionStyleModel",
       "_view_count": null,
       "_view_module": "@jupyter-widgets/base",
       "_view_module_version": "1.2.0",
       "_view_name": "StyleView",
       "description_width": ""
      }
     },
     "3a3b677a8dbf45808e8d4eef6045394f": {
      "model_module": "@jupyter-widgets/base",
      "model_module_version": "1.2.0",
      "model_name": "LayoutModel",
      "state": {
       "_model_module": "@jupyter-widgets/base",
       "_model_module_version": "1.2.0",
       "_model_name": "LayoutModel",
       "_view_count": null,
       "_view_module": "@jupyter-widgets/base",
       "_view_module_version": "1.2.0",
       "_view_name": "LayoutView",
       "align_content": null,
       "align_items": null,
       "align_self": null,
       "border": null,
       "bottom": null,
       "display": null,
       "flex": null,
       "flex_flow": null,
       "grid_area": null,
       "grid_auto_columns": null,
       "grid_auto_flow": null,
       "grid_auto_rows": null,
       "grid_column": null,
       "grid_gap": null,
       "grid_row": null,
       "grid_template_areas": null,
       "grid_template_columns": null,
       "grid_template_rows": null,
       "height": null,
       "justify_content": null,
       "justify_items": null,
       "left": null,
       "margin": null,
       "max_height": null,
       "max_width": null,
       "min_height": null,
       "min_width": null,
       "object_fit": null,
       "object_position": null,
       "order": null,
       "overflow": null,
       "overflow_x": null,
       "overflow_y": null,
       "padding": null,
       "right": null,
       "top": null,
       "visibility": null,
       "width": null
      }
     },
     "3abdfed4ad0e41c5b38a24fec1611bc5": {
      "model_module": "@jupyter-widgets/controls",
      "model_module_version": "1.5.0",
      "model_name": "FloatProgressModel",
      "state": {
       "_dom_classes": [],
       "_model_module": "@jupyter-widgets/controls",
       "_model_module_version": "1.5.0",
       "_model_name": "FloatProgressModel",
       "_view_count": null,
       "_view_module": "@jupyter-widgets/controls",
       "_view_module_version": "1.5.0",
       "_view_name": "ProgressView",
       "bar_style": "success",
       "description": "",
       "description_tooltip": null,
       "layout": "IPY_MODEL_4bfb16601b0d494e8e453ddb214dc87e",
       "max": 112.0,
       "min": 0.0,
       "orientation": "horizontal",
       "style": "IPY_MODEL_acae5138d80f4bf68e1cfa6e0bd6b6c6",
       "value": 112.0
      }
     },
     "3e344a2ace104de7abb73780a25918ee": {
      "model_module": "@jupyter-widgets/controls",
      "model_module_version": "1.5.0",
      "model_name": "ProgressStyleModel",
      "state": {
       "_model_module": "@jupyter-widgets/controls",
       "_model_module_version": "1.5.0",
       "_model_name": "ProgressStyleModel",
       "_view_count": null,
       "_view_module": "@jupyter-widgets/base",
       "_view_module_version": "1.2.0",
       "_view_name": "StyleView",
       "bar_color": null,
       "description_width": ""
      }
     },
     "41245f5c033444e596092f6bb75ed03e": {
      "model_module": "@jupyter-widgets/base",
      "model_module_version": "1.2.0",
      "model_name": "LayoutModel",
      "state": {
       "_model_module": "@jupyter-widgets/base",
       "_model_module_version": "1.2.0",
       "_model_name": "LayoutModel",
       "_view_count": null,
       "_view_module": "@jupyter-widgets/base",
       "_view_module_version": "1.2.0",
       "_view_name": "LayoutView",
       "align_content": null,
       "align_items": null,
       "align_self": null,
       "border": null,
       "bottom": null,
       "display": null,
       "flex": null,
       "flex_flow": null,
       "grid_area": null,
       "grid_auto_columns": null,
       "grid_auto_flow": null,
       "grid_auto_rows": null,
       "grid_column": null,
       "grid_gap": null,
       "grid_row": null,
       "grid_template_areas": null,
       "grid_template_columns": null,
       "grid_template_rows": null,
       "height": null,
       "justify_content": null,
       "justify_items": null,
       "left": null,
       "margin": null,
       "max_height": null,
       "max_width": null,
       "min_height": null,
       "min_width": null,
       "object_fit": null,
       "object_position": null,
       "order": null,
       "overflow": null,
       "overflow_x": null,
       "overflow_y": null,
       "padding": null,
       "right": null,
       "top": null,
       "visibility": null,
       "width": null
      }
     },
     "43bade390ccc412db6faca09b446aefd": {
      "model_module": "@jupyter-widgets/controls",
      "model_module_version": "1.5.0",
      "model_name": "HTMLModel",
      "state": {
       "_dom_classes": [],
       "_model_module": "@jupyter-widgets/controls",
       "_model_module_version": "1.5.0",
       "_model_name": "HTMLModel",
       "_view_count": null,
       "_view_module": "@jupyter-widgets/controls",
       "_view_module_version": "1.5.0",
       "_view_name": "HTMLView",
       "description": "",
       "description_tooltip": null,
       "layout": "IPY_MODEL_e06d262436344df185b97a24bd2704f6",
       "placeholder": "​",
       "style": "IPY_MODEL_20e6544016de4eb2b586a967dbfd5a44",
       "value": " 466k/466k [00:00&lt;00:00, 19.3MB/s]"
      }
     },
     "442d9436e5ca4ef5a6f025022bb3d618": {
      "model_module": "@jupyter-widgets/controls",
      "model_module_version": "1.5.0",
      "model_name": "ProgressStyleModel",
      "state": {
       "_model_module": "@jupyter-widgets/controls",
       "_model_module_version": "1.5.0",
       "_model_name": "ProgressStyleModel",
       "_view_count": null,
       "_view_module": "@jupyter-widgets/base",
       "_view_module_version": "1.2.0",
       "_view_name": "StyleView",
       "bar_color": null,
       "description_width": ""
      }
     },
     "4631ea280e334e4c8a2cfe866e435e63": {
      "model_module": "@jupyter-widgets/base",
      "model_module_version": "1.2.0",
      "model_name": "LayoutModel",
      "state": {
       "_model_module": "@jupyter-widgets/base",
       "_model_module_version": "1.2.0",
       "_model_name": "LayoutModel",
       "_view_count": null,
       "_view_module": "@jupyter-widgets/base",
       "_view_module_version": "1.2.0",
       "_view_name": "LayoutView",
       "align_content": null,
       "align_items": null,
       "align_self": null,
       "border": null,
       "bottom": null,
       "display": null,
       "flex": null,
       "flex_flow": null,
       "grid_area": null,
       "grid_auto_columns": null,
       "grid_auto_flow": null,
       "grid_auto_rows": null,
       "grid_column": null,
       "grid_gap": null,
       "grid_row": null,
       "grid_template_areas": null,
       "grid_template_columns": null,
       "grid_template_rows": null,
       "height": null,
       "justify_content": null,
       "justify_items": null,
       "left": null,
       "margin": null,
       "max_height": null,
       "max_width": null,
       "min_height": null,
       "min_width": null,
       "object_fit": null,
       "object_position": null,
       "order": null,
       "overflow": null,
       "overflow_x": null,
       "overflow_y": null,
       "padding": null,
       "right": null,
       "top": null,
       "visibility": null,
       "width": null
      }
     },
     "464f572d18a94de08bd38368edce2b37": {
      "model_module": "@jupyter-widgets/base",
      "model_module_version": "1.2.0",
      "model_name": "LayoutModel",
      "state": {
       "_model_module": "@jupyter-widgets/base",
       "_model_module_version": "1.2.0",
       "_model_name": "LayoutModel",
       "_view_count": null,
       "_view_module": "@jupyter-widgets/base",
       "_view_module_version": "1.2.0",
       "_view_name": "LayoutView",
       "align_content": null,
       "align_items": null,
       "align_self": null,
       "border": null,
       "bottom": null,
       "display": null,
       "flex": null,
       "flex_flow": null,
       "grid_area": null,
       "grid_auto_columns": null,
       "grid_auto_flow": null,
       "grid_auto_rows": null,
       "grid_column": null,
       "grid_gap": null,
       "grid_row": null,
       "grid_template_areas": null,
       "grid_template_columns": null,
       "grid_template_rows": null,
       "height": null,
       "justify_content": null,
       "justify_items": null,
       "left": null,
       "margin": null,
       "max_height": null,
       "max_width": null,
       "min_height": null,
       "min_width": null,
       "object_fit": null,
       "object_position": null,
       "order": null,
       "overflow": null,
       "overflow_x": null,
       "overflow_y": null,
       "padding": null,
       "right": null,
       "top": null,
       "visibility": null,
       "width": null
      }
     },
     "47b871f4c8a343dfa42228d34409c3b8": {
      "model_module": "@jupyter-widgets/base",
      "model_module_version": "1.2.0",
      "model_name": "LayoutModel",
      "state": {
       "_model_module": "@jupyter-widgets/base",
       "_model_module_version": "1.2.0",
       "_model_name": "LayoutModel",
       "_view_count": null,
       "_view_module": "@jupyter-widgets/base",
       "_view_module_version": "1.2.0",
       "_view_name": "LayoutView",
       "align_content": null,
       "align_items": null,
       "align_self": null,
       "border": null,
       "bottom": null,
       "display": null,
       "flex": null,
       "flex_flow": null,
       "grid_area": null,
       "grid_auto_columns": null,
       "grid_auto_flow": null,
       "grid_auto_rows": null,
       "grid_column": null,
       "grid_gap": null,
       "grid_row": null,
       "grid_template_areas": null,
       "grid_template_columns": null,
       "grid_template_rows": null,
       "height": null,
       "justify_content": null,
       "justify_items": null,
       "left": null,
       "margin": null,
       "max_height": null,
       "max_width": null,
       "min_height": null,
       "min_width": null,
       "object_fit": null,
       "object_position": null,
       "order": null,
       "overflow": null,
       "overflow_x": null,
       "overflow_y": null,
       "padding": null,
       "right": null,
       "top": null,
       "visibility": null,
       "width": null
      }
     },
     "47c30fde4f6141f28887b4e55b94b172": {
      "model_module": "@jupyter-widgets/base",
      "model_module_version": "1.2.0",
      "model_name": "LayoutModel",
      "state": {
       "_model_module": "@jupyter-widgets/base",
       "_model_module_version": "1.2.0",
       "_model_name": "LayoutModel",
       "_view_count": null,
       "_view_module": "@jupyter-widgets/base",
       "_view_module_version": "1.2.0",
       "_view_name": "LayoutView",
       "align_content": null,
       "align_items": null,
       "align_self": null,
       "border": null,
       "bottom": null,
       "display": null,
       "flex": null,
       "flex_flow": null,
       "grid_area": null,
       "grid_auto_columns": null,
       "grid_auto_flow": null,
       "grid_auto_rows": null,
       "grid_column": null,
       "grid_gap": null,
       "grid_row": null,
       "grid_template_areas": null,
       "grid_template_columns": null,
       "grid_template_rows": null,
       "height": null,
       "justify_content": null,
       "justify_items": null,
       "left": null,
       "margin": null,
       "max_height": null,
       "max_width": null,
       "min_height": null,
       "min_width": null,
       "object_fit": null,
       "object_position": null,
       "order": null,
       "overflow": null,
       "overflow_x": null,
       "overflow_y": null,
       "padding": null,
       "right": null,
       "top": null,
       "visibility": null,
       "width": null
      }
     },
     "4927791392164ae2ac203a8ec70a062c": {
      "model_module": "@jupyter-widgets/controls",
      "model_module_version": "1.5.0",
      "model_name": "DescriptionStyleModel",
      "state": {
       "_model_module": "@jupyter-widgets/controls",
       "_model_module_version": "1.5.0",
       "_model_name": "DescriptionStyleModel",
       "_view_count": null,
       "_view_module": "@jupyter-widgets/base",
       "_view_module_version": "1.2.0",
       "_view_name": "StyleView",
       "description_width": ""
      }
     },
     "49e9c8de3e3f4608ae9f4788fc4daef0": {
      "model_module": "@jupyter-widgets/controls",
      "model_module_version": "1.5.0",
      "model_name": "DescriptionStyleModel",
      "state": {
       "_model_module": "@jupyter-widgets/controls",
       "_model_module_version": "1.5.0",
       "_model_name": "DescriptionStyleModel",
       "_view_count": null,
       "_view_module": "@jupyter-widgets/base",
       "_view_module_version": "1.2.0",
       "_view_name": "StyleView",
       "description_width": ""
      }
     },
     "4a0735cad3204613bfad9926c9b90e7d": {
      "model_module": "@jupyter-widgets/controls",
      "model_module_version": "1.5.0",
      "model_name": "HBoxModel",
      "state": {
       "_dom_classes": [],
       "_model_module": "@jupyter-widgets/controls",
       "_model_module_version": "1.5.0",
       "_model_name": "HBoxModel",
       "_view_count": null,
       "_view_module": "@jupyter-widgets/controls",
       "_view_module_version": "1.5.0",
       "_view_name": "HBoxView",
       "box_style": "",
       "children": [
        "IPY_MODEL_e867cd392e784b45ba2beb3063335553",
        "IPY_MODEL_bb2d23c458d040ffb0af09d85b2aef1d",
        "IPY_MODEL_08154566a9f4403990cf11c9691809e5"
       ],
       "layout": "IPY_MODEL_d827df50d09c45e0b8012652c2e09904"
      }
     },
     "4bfb16601b0d494e8e453ddb214dc87e": {
      "model_module": "@jupyter-widgets/base",
      "model_module_version": "1.2.0",
      "model_name": "LayoutModel",
      "state": {
       "_model_module": "@jupyter-widgets/base",
       "_model_module_version": "1.2.0",
       "_model_name": "LayoutModel",
       "_view_count": null,
       "_view_module": "@jupyter-widgets/base",
       "_view_module_version": "1.2.0",
       "_view_name": "LayoutView",
       "align_content": null,
       "align_items": null,
       "align_self": null,
       "border": null,
       "bottom": null,
       "display": null,
       "flex": null,
       "flex_flow": null,
       "grid_area": null,
       "grid_auto_columns": null,
       "grid_auto_flow": null,
       "grid_auto_rows": null,
       "grid_column": null,
       "grid_gap": null,
       "grid_row": null,
       "grid_template_areas": null,
       "grid_template_columns": null,
       "grid_template_rows": null,
       "height": null,
       "justify_content": null,
       "justify_items": null,
       "left": null,
       "margin": null,
       "max_height": null,
       "max_width": null,
       "min_height": null,
       "min_width": null,
       "object_fit": null,
       "object_position": null,
       "order": null,
       "overflow": null,
       "overflow_x": null,
       "overflow_y": null,
       "padding": null,
       "right": null,
       "top": null,
       "visibility": null,
       "width": null
      }
     },
     "4c307524e7c14d4188249f45e6212d20": {
      "model_module": "@jupyter-widgets/base",
      "model_module_version": "1.2.0",
      "model_name": "LayoutModel",
      "state": {
       "_model_module": "@jupyter-widgets/base",
       "_model_module_version": "1.2.0",
       "_model_name": "LayoutModel",
       "_view_count": null,
       "_view_module": "@jupyter-widgets/base",
       "_view_module_version": "1.2.0",
       "_view_name": "LayoutView",
       "align_content": null,
       "align_items": null,
       "align_self": null,
       "border": null,
       "bottom": null,
       "display": null,
       "flex": null,
       "flex_flow": null,
       "grid_area": null,
       "grid_auto_columns": null,
       "grid_auto_flow": null,
       "grid_auto_rows": null,
       "grid_column": null,
       "grid_gap": null,
       "grid_row": null,
       "grid_template_areas": null,
       "grid_template_columns": null,
       "grid_template_rows": null,
       "height": null,
       "justify_content": null,
       "justify_items": null,
       "left": null,
       "margin": null,
       "max_height": null,
       "max_width": null,
       "min_height": null,
       "min_width": null,
       "object_fit": null,
       "object_position": null,
       "order": null,
       "overflow": null,
       "overflow_x": null,
       "overflow_y": null,
       "padding": null,
       "right": null,
       "top": null,
       "visibility": null,
       "width": null
      }
     },
     "4d8525c4760044e3b44c16d9891d0166": {
      "model_module": "@jupyter-widgets/controls",
      "model_module_version": "1.5.0",
      "model_name": "HBoxModel",
      "state": {
       "_dom_classes": [],
       "_model_module": "@jupyter-widgets/controls",
       "_model_module_version": "1.5.0",
       "_model_name": "HBoxModel",
       "_view_count": null,
       "_view_module": "@jupyter-widgets/controls",
       "_view_module_version": "1.5.0",
       "_view_name": "HBoxView",
       "box_style": "",
       "children": [
        "IPY_MODEL_628c270c8f3c479a8dd0cb793cf5990c",
        "IPY_MODEL_e709848c8b064898b4bc4469bf3044af",
        "IPY_MODEL_220dfa68358246448277d26612e3c7e9"
       ],
       "layout": "IPY_MODEL_fdefe8733aaf4dfa9dde947c8f7d9097"
      }
     },
     "4d96e11d6ea848ed82ada74a86ed1734": {
      "model_module": "@jupyter-widgets/base",
      "model_module_version": "1.2.0",
      "model_name": "LayoutModel",
      "state": {
       "_model_module": "@jupyter-widgets/base",
       "_model_module_version": "1.2.0",
       "_model_name": "LayoutModel",
       "_view_count": null,
       "_view_module": "@jupyter-widgets/base",
       "_view_module_version": "1.2.0",
       "_view_name": "LayoutView",
       "align_content": null,
       "align_items": null,
       "align_self": null,
       "border": null,
       "bottom": null,
       "display": null,
       "flex": null,
       "flex_flow": null,
       "grid_area": null,
       "grid_auto_columns": null,
       "grid_auto_flow": null,
       "grid_auto_rows": null,
       "grid_column": null,
       "grid_gap": null,
       "grid_row": null,
       "grid_template_areas": null,
       "grid_template_columns": null,
       "grid_template_rows": null,
       "height": null,
       "justify_content": null,
       "justify_items": null,
       "left": null,
       "margin": null,
       "max_height": null,
       "max_width": null,
       "min_height": null,
       "min_width": null,
       "object_fit": null,
       "object_position": null,
       "order": null,
       "overflow": null,
       "overflow_x": null,
       "overflow_y": null,
       "padding": null,
       "right": null,
       "top": null,
       "visibility": null,
       "width": null
      }
     },
     "4ea7e3623f8949ddb993c5eaabd66556": {
      "model_module": "@jupyter-widgets/base",
      "model_module_version": "1.2.0",
      "model_name": "LayoutModel",
      "state": {
       "_model_module": "@jupyter-widgets/base",
       "_model_module_version": "1.2.0",
       "_model_name": "LayoutModel",
       "_view_count": null,
       "_view_module": "@jupyter-widgets/base",
       "_view_module_version": "1.2.0",
       "_view_name": "LayoutView",
       "align_content": null,
       "align_items": null,
       "align_self": null,
       "border": null,
       "bottom": null,
       "display": null,
       "flex": null,
       "flex_flow": null,
       "grid_area": null,
       "grid_auto_columns": null,
       "grid_auto_flow": null,
       "grid_auto_rows": null,
       "grid_column": null,
       "grid_gap": null,
       "grid_row": null,
       "grid_template_areas": null,
       "grid_template_columns": null,
       "grid_template_rows": null,
       "height": null,
       "justify_content": null,
       "justify_items": null,
       "left": null,
       "margin": null,
       "max_height": null,
       "max_width": null,
       "min_height": null,
       "min_width": null,
       "object_fit": null,
       "object_position": null,
       "order": null,
       "overflow": null,
       "overflow_x": null,
       "overflow_y": null,
       "padding": null,
       "right": null,
       "top": null,
       "visibility": null,
       "width": null
      }
     },
     "4f47e39812b8460381dde3f60e6e440c": {
      "model_module": "@jupyter-widgets/controls",
      "model_module_version": "1.5.0",
      "model_name": "HTMLModel",
      "state": {
       "_dom_classes": [],
       "_model_module": "@jupyter-widgets/controls",
       "_model_module_version": "1.5.0",
       "_model_name": "HTMLModel",
       "_view_count": null,
       "_view_module": "@jupyter-widgets/controls",
       "_view_module_version": "1.5.0",
       "_view_name": "HTMLView",
       "description": "",
       "description_tooltip": null,
       "layout": "IPY_MODEL_cea6550221e84c59b54dedb29655ea20",
       "placeholder": "​",
       "style": "IPY_MODEL_e992a131a230427c821c128db40402fd",
       "value": "tokenizer_config.json: 100%"
      }
     },
     "51abc9f654204e76b7ea4b87c84341b5": {
      "model_module": "@jupyter-widgets/controls",
      "model_module_version": "1.5.0",
      "model_name": "HTMLModel",
      "state": {
       "_dom_classes": [],
       "_model_module": "@jupyter-widgets/controls",
       "_model_module_version": "1.5.0",
       "_model_name": "HTMLModel",
       "_view_count": null,
       "_view_module": "@jupyter-widgets/controls",
       "_view_module_version": "1.5.0",
       "_view_name": "HTMLView",
       "description": "",
       "description_tooltip": null,
       "layout": "IPY_MODEL_dca0a6b644ad4bed929be50c317c7599",
       "placeholder": "​",
       "style": "IPY_MODEL_e2d3d27110164ffda0db8223c8027393",
       "value": " 100/100 [00:01&lt;00:00, 61.27it/s]"
      }
     },
     "52594a435a5045bf8b6ade22c0a3179c": {
      "model_module": "@jupyter-widgets/base",
      "model_module_version": "1.2.0",
      "model_name": "LayoutModel",
      "state": {
       "_model_module": "@jupyter-widgets/base",
       "_model_module_version": "1.2.0",
       "_model_name": "LayoutModel",
       "_view_count": null,
       "_view_module": "@jupyter-widgets/base",
       "_view_module_version": "1.2.0",
       "_view_name": "LayoutView",
       "align_content": null,
       "align_items": null,
       "align_self": null,
       "border": null,
       "bottom": null,
       "display": null,
       "flex": null,
       "flex_flow": null,
       "grid_area": null,
       "grid_auto_columns": null,
       "grid_auto_flow": null,
       "grid_auto_rows": null,
       "grid_column": null,
       "grid_gap": null,
       "grid_row": null,
       "grid_template_areas": null,
       "grid_template_columns": null,
       "grid_template_rows": null,
       "height": null,
       "justify_content": null,
       "justify_items": null,
       "left": null,
       "margin": null,
       "max_height": null,
       "max_width": null,
       "min_height": null,
       "min_width": null,
       "object_fit": null,
       "object_position": null,
       "order": null,
       "overflow": null,
       "overflow_x": null,
       "overflow_y": null,
       "padding": null,
       "right": null,
       "top": null,
       "visibility": null,
       "width": null
      }
     },
     "533df210067140b9960c8f27bcd9f34b": {
      "model_module": "@jupyter-widgets/controls",
      "model_module_version": "1.5.0",
      "model_name": "HTMLModel",
      "state": {
       "_dom_classes": [],
       "_model_module": "@jupyter-widgets/controls",
       "_model_module_version": "1.5.0",
       "_model_name": "HTMLModel",
       "_view_count": null,
       "_view_module": "@jupyter-widgets/controls",
       "_view_module_version": "1.5.0",
       "_view_name": "HTMLView",
       "description": "",
       "description_tooltip": null,
       "layout": "IPY_MODEL_d8c88b8324974d74bd83db6c5233279a",
       "placeholder": "​",
       "style": "IPY_MODEL_22f878092aec49a99b6b0fae823dd852",
       "value": "100%"
      }
     },
     "558950fb9f5e487ea6cc0fb7aa4dba3c": {
      "model_module": "@jupyter-widgets/base",
      "model_module_version": "1.2.0",
      "model_name": "LayoutModel",
      "state": {
       "_model_module": "@jupyter-widgets/base",
       "_model_module_version": "1.2.0",
       "_model_name": "LayoutModel",
       "_view_count": null,
       "_view_module": "@jupyter-widgets/base",
       "_view_module_version": "1.2.0",
       "_view_name": "LayoutView",
       "align_content": null,
       "align_items": null,
       "align_self": null,
       "border": null,
       "bottom": null,
       "display": null,
       "flex": null,
       "flex_flow": null,
       "grid_area": null,
       "grid_auto_columns": null,
       "grid_auto_flow": null,
       "grid_auto_rows": null,
       "grid_column": null,
       "grid_gap": null,
       "grid_row": null,
       "grid_template_areas": null,
       "grid_template_columns": null,
       "grid_template_rows": null,
       "height": null,
       "justify_content": null,
       "justify_items": null,
       "left": null,
       "margin": null,
       "max_height": null,
       "max_width": null,
       "min_height": null,
       "min_width": null,
       "object_fit": null,
       "object_position": null,
       "order": null,
       "overflow": null,
       "overflow_x": null,
       "overflow_y": null,
       "padding": null,
       "right": null,
       "top": null,
       "visibility": null,
       "width": null
      }
     },
     "560da35827c14833a57bc4851ca0837c": {
      "model_module": "@jupyter-widgets/base",
      "model_module_version": "1.2.0",
      "model_name": "LayoutModel",
      "state": {
       "_model_module": "@jupyter-widgets/base",
       "_model_module_version": "1.2.0",
       "_model_name": "LayoutModel",
       "_view_count": null,
       "_view_module": "@jupyter-widgets/base",
       "_view_module_version": "1.2.0",
       "_view_name": "LayoutView",
       "align_content": null,
       "align_items": null,
       "align_self": null,
       "border": null,
       "bottom": null,
       "display": null,
       "flex": null,
       "flex_flow": null,
       "grid_area": null,
       "grid_auto_columns": null,
       "grid_auto_flow": null,
       "grid_auto_rows": null,
       "grid_column": null,
       "grid_gap": null,
       "grid_row": null,
       "grid_template_areas": null,
       "grid_template_columns": null,
       "grid_template_rows": null,
       "height": null,
       "justify_content": null,
       "justify_items": null,
       "left": null,
       "margin": null,
       "max_height": null,
       "max_width": null,
       "min_height": null,
       "min_width": null,
       "object_fit": null,
       "object_position": null,
       "order": null,
       "overflow": null,
       "overflow_x": null,
       "overflow_y": null,
       "padding": null,
       "right": null,
       "top": null,
       "visibility": null,
       "width": null
      }
     },
     "58e98218159547e1af68d79cdd7f4904": {
      "model_module": "@jupyter-widgets/base",
      "model_module_version": "1.2.0",
      "model_name": "LayoutModel",
      "state": {
       "_model_module": "@jupyter-widgets/base",
       "_model_module_version": "1.2.0",
       "_model_name": "LayoutModel",
       "_view_count": null,
       "_view_module": "@jupyter-widgets/base",
       "_view_module_version": "1.2.0",
       "_view_name": "LayoutView",
       "align_content": null,
       "align_items": null,
       "align_self": null,
       "border": null,
       "bottom": null,
       "display": null,
       "flex": null,
       "flex_flow": null,
       "grid_area": null,
       "grid_auto_columns": null,
       "grid_auto_flow": null,
       "grid_auto_rows": null,
       "grid_column": null,
       "grid_gap": null,
       "grid_row": null,
       "grid_template_areas": null,
       "grid_template_columns": null,
       "grid_template_rows": null,
       "height": null,
       "justify_content": null,
       "justify_items": null,
       "left": null,
       "margin": null,
       "max_height": null,
       "max_width": null,
       "min_height": null,
       "min_width": null,
       "object_fit": null,
       "object_position": null,
       "order": null,
       "overflow": null,
       "overflow_x": null,
       "overflow_y": null,
       "padding": null,
       "right": null,
       "top": null,
       "visibility": null,
       "width": null
      }
     },
     "59f5dc1610044de7b98ec04826b2b065": {
      "model_module": "@jupyter-widgets/controls",
      "model_module_version": "1.5.0",
      "model_name": "ProgressStyleModel",
      "state": {
       "_model_module": "@jupyter-widgets/controls",
       "_model_module_version": "1.5.0",
       "_model_name": "ProgressStyleModel",
       "_view_count": null,
       "_view_module": "@jupyter-widgets/base",
       "_view_module_version": "1.2.0",
       "_view_name": "StyleView",
       "bar_color": null,
       "description_width": ""
      }
     },
     "5b5e683337544431a50b2b9c82eb3030": {
      "model_module": "@jupyter-widgets/controls",
      "model_module_version": "1.5.0",
      "model_name": "FloatProgressModel",
      "state": {
       "_dom_classes": [],
       "_model_module": "@jupyter-widgets/controls",
       "_model_module_version": "1.5.0",
       "_model_name": "FloatProgressModel",
       "_view_count": null,
       "_view_module": "@jupyter-widgets/controls",
       "_view_module_version": "1.5.0",
       "_view_name": "ProgressView",
       "bar_style": "success",
       "description": "",
       "description_tooltip": null,
       "layout": "IPY_MODEL_8e9cc63f706f46b09ff7d29d8de20047",
       "max": 586.0,
       "min": 0.0,
       "orientation": "horizontal",
       "style": "IPY_MODEL_442d9436e5ca4ef5a6f025022bb3d618",
       "value": 586.0
      }
     },
     "5c5b1f1010564ed8b3b049636ed491a7": {
      "model_module": "@jupyter-widgets/base",
      "model_module_version": "1.2.0",
      "model_name": "LayoutModel",
      "state": {
       "_model_module": "@jupyter-widgets/base",
       "_model_module_version": "1.2.0",
       "_model_name": "LayoutModel",
       "_view_count": null,
       "_view_module": "@jupyter-widgets/base",
       "_view_module_version": "1.2.0",
       "_view_name": "LayoutView",
       "align_content": null,
       "align_items": null,
       "align_self": null,
       "border": null,
       "bottom": null,
       "display": null,
       "flex": null,
       "flex_flow": null,
       "grid_area": null,
       "grid_auto_columns": null,
       "grid_auto_flow": null,
       "grid_auto_rows": null,
       "grid_column": null,
       "grid_gap": null,
       "grid_row": null,
       "grid_template_areas": null,
       "grid_template_columns": null,
       "grid_template_rows": null,
       "height": null,
       "justify_content": null,
       "justify_items": null,
       "left": null,
       "margin": null,
       "max_height": null,
       "max_width": null,
       "min_height": null,
       "min_width": null,
       "object_fit": null,
       "object_position": null,
       "order": null,
       "overflow": null,
       "overflow_x": null,
       "overflow_y": null,
       "padding": null,
       "right": null,
       "top": null,
       "visibility": null,
       "width": null
      }
     },
     "5c7788d78c104324a8cc776450cd7fd0": {
      "model_module": "@jupyter-widgets/controls",
      "model_module_version": "1.5.0",
      "model_name": "DescriptionStyleModel",
      "state": {
       "_model_module": "@jupyter-widgets/controls",
       "_model_module_version": "1.5.0",
       "_model_name": "DescriptionStyleModel",
       "_view_count": null,
       "_view_module": "@jupyter-widgets/base",
       "_view_module_version": "1.2.0",
       "_view_name": "StyleView",
       "description_width": ""
      }
     },
     "5dc0c6f5a1c545ca993d80951d570e2f": {
      "model_module": "@jupyter-widgets/controls",
      "model_module_version": "1.5.0",
      "model_name": "DescriptionStyleModel",
      "state": {
       "_model_module": "@jupyter-widgets/controls",
       "_model_module_version": "1.5.0",
       "_model_name": "DescriptionStyleModel",
       "_view_count": null,
       "_view_module": "@jupyter-widgets/base",
       "_view_module_version": "1.2.0",
       "_view_name": "StyleView",
       "description_width": ""
      }
     },
     "5e6a0b14f1584032aad5f41a18ec2ee7": {
      "model_module": "@jupyter-widgets/controls",
      "model_module_version": "1.5.0",
      "model_name": "HTMLModel",
      "state": {
       "_dom_classes": [],
       "_model_module": "@jupyter-widgets/controls",
       "_model_module_version": "1.5.0",
       "_model_name": "HTMLModel",
       "_view_count": null,
       "_view_module": "@jupyter-widgets/controls",
       "_view_module_version": "1.5.0",
       "_view_name": "HTMLView",
       "description": "",
       "description_tooltip": null,
       "layout": "IPY_MODEL_12ba592980e6419a9880b51fbe0b96b6",
       "placeholder": "​",
       "style": "IPY_MODEL_786520d7f65b432caaab5fa372203646",
       "value": " 20000/20000 [05:14&lt;00:00, 64.83it/s]"
      }
     },
     "6065cd13f45d4917a3c8d36bb98b54cc": {
      "model_module": "@jupyter-widgets/controls",
      "model_module_version": "1.5.0",
      "model_name": "HBoxModel",
      "state": {
       "_dom_classes": [],
       "_model_module": "@jupyter-widgets/controls",
       "_model_module_version": "1.5.0",
       "_model_name": "HBoxModel",
       "_view_count": null,
       "_view_module": "@jupyter-widgets/controls",
       "_view_module_version": "1.5.0",
       "_view_name": "HBoxView",
       "box_style": "",
       "children": [
        "IPY_MODEL_82a8bdd4a0e44242a38b207c4c936854",
        "IPY_MODEL_a74f138446c54b14bfb20f03edc41bd4",
        "IPY_MODEL_7f13330bbc9e41d4aabf1d11f919d8b5"
       ],
       "layout": "IPY_MODEL_cb9f7c7888a14039b48003031ce62b7d"
      }
     },
     "628c270c8f3c479a8dd0cb793cf5990c": {
      "model_module": "@jupyter-widgets/controls",
      "model_module_version": "1.5.0",
      "model_name": "HTMLModel",
      "state": {
       "_dom_classes": [],
       "_model_module": "@jupyter-widgets/controls",
       "_model_module_version": "1.5.0",
       "_model_name": "HTMLModel",
       "_view_count": null,
       "_view_module": "@jupyter-widgets/controls",
       "_view_module_version": "1.5.0",
       "_view_name": "HTMLView",
       "description": "",
       "description_tooltip": null,
       "layout": "IPY_MODEL_d31ebc67a6ac4c6e9c8d0a35ea062282",
       "placeholder": "​",
       "style": "IPY_MODEL_a718f9e080fc440090786d781927b508",
       "value": "tokenizer_config.json: 100%"
      }
     },
     "630eb4ad0e27428aa71a87d84e1b6d3f": {
      "model_module": "@jupyter-widgets/controls",
      "model_module_version": "1.5.0",
      "model_name": "DescriptionStyleModel",
      "state": {
       "_model_module": "@jupyter-widgets/controls",
       "_model_module_version": "1.5.0",
       "_model_name": "DescriptionStyleModel",
       "_view_count": null,
       "_view_module": "@jupyter-widgets/base",
       "_view_module_version": "1.2.0",
       "_view_name": "StyleView",
       "description_width": ""
      }
     },
     "63699c079b984755b2086c12273bb808": {
      "model_module": "@jupyter-widgets/controls",
      "model_module_version": "1.5.0",
      "model_name": "HTMLModel",
      "state": {
       "_dom_classes": [],
       "_model_module": "@jupyter-widgets/controls",
       "_model_module_version": "1.5.0",
       "_model_name": "HTMLModel",
       "_view_count": null,
       "_view_module": "@jupyter-widgets/controls",
       "_view_module_version": "1.5.0",
       "_view_name": "HTMLView",
       "description": "",
       "description_tooltip": null,
       "layout": "IPY_MODEL_970d755fa8b84862838fa8e29a06d095",
       "placeholder": "​",
       "style": "IPY_MODEL_a2589112063d4f69ad3f2d6c5e02784b",
       "value": " 100/100 [00:01&lt;00:00, 60.75it/s]"
      }
     },
     "639a82094f064d8885411b2768e2685a": {
      "model_module": "@jupyter-widgets/controls",
      "model_module_version": "1.5.0",
      "model_name": "HBoxModel",
      "state": {
       "_dom_classes": [],
       "_model_module": "@jupyter-widgets/controls",
       "_model_module_version": "1.5.0",
       "_model_name": "HBoxModel",
       "_view_count": null,
       "_view_module": "@jupyter-widgets/controls",
       "_view_module_version": "1.5.0",
       "_view_name": "HBoxView",
       "box_style": "",
       "children": [
        "IPY_MODEL_65f88d4d31984c5587911369e782a1dc",
        "IPY_MODEL_f613b5a367784384a78d977dfa631ff4",
        "IPY_MODEL_f0f41df784a74932a74df423860dab13"
       ],
       "layout": "IPY_MODEL_923fdec6b0ba4bd8b0961cbcb7392817"
      }
     },
     "63b8d937a3fe4db3bb66db7bb129981d": {
      "model_module": "@jupyter-widgets/controls",
      "model_module_version": "1.5.0",
      "model_name": "HTMLModel",
      "state": {
       "_dom_classes": [],
       "_model_module": "@jupyter-widgets/controls",
       "_model_module_version": "1.5.0",
       "_model_name": "HTMLModel",
       "_view_count": null,
       "_view_module": "@jupyter-widgets/controls",
       "_view_module_version": "1.5.0",
       "_view_name": "HTMLView",
       "description": "",
       "description_tooltip": null,
       "layout": "IPY_MODEL_bc55592bc9f544318a7822934fea4747",
       "placeholder": "​",
       "style": "IPY_MODEL_ec636246ddee4e62b34967a3d7bbfce8",
       "value": " 232k/232k [00:00&lt;00:00, 4.29MB/s]"
      }
     },
     "64741ee022dd4528b32af66fbd1da02f": {
      "model_module": "@jupyter-widgets/base",
      "model_module_version": "1.2.0",
      "model_name": "LayoutModel",
      "state": {
       "_model_module": "@jupyter-widgets/base",
       "_model_module_version": "1.2.0",
       "_model_name": "LayoutModel",
       "_view_count": null,
       "_view_module": "@jupyter-widgets/base",
       "_view_module_version": "1.2.0",
       "_view_name": "LayoutView",
       "align_content": null,
       "align_items": null,
       "align_self": null,
       "border": null,
       "bottom": null,
       "display": null,
       "flex": null,
       "flex_flow": null,
       "grid_area": null,
       "grid_auto_columns": null,
       "grid_auto_flow": null,
       "grid_auto_rows": null,
       "grid_column": null,
       "grid_gap": null,
       "grid_row": null,
       "grid_template_areas": null,
       "grid_template_columns": null,
       "grid_template_rows": null,
       "height": null,
       "justify_content": null,
       "justify_items": null,
       "left": null,
       "margin": null,
       "max_height": null,
       "max_width": null,
       "min_height": null,
       "min_width": null,
       "object_fit": null,
       "object_position": null,
       "order": null,
       "overflow": null,
       "overflow_x": null,
       "overflow_y": null,
       "padding": null,
       "right": null,
       "top": null,
       "visibility": null,
       "width": null
      }
     },
     "6499c1f34f0043068f103ebdb1ee7eda": {
      "model_module": "@jupyter-widgets/controls",
      "model_module_version": "1.5.0",
      "model_name": "ProgressStyleModel",
      "state": {
       "_model_module": "@jupyter-widgets/controls",
       "_model_module_version": "1.5.0",
       "_model_name": "ProgressStyleModel",
       "_view_count": null,
       "_view_module": "@jupyter-widgets/base",
       "_view_module_version": "1.2.0",
       "_view_name": "StyleView",
       "bar_color": null,
       "description_width": ""
      }
     },
     "65f88d4d31984c5587911369e782a1dc": {
      "model_module": "@jupyter-widgets/controls",
      "model_module_version": "1.5.0",
      "model_name": "HTMLModel",
      "state": {
       "_dom_classes": [],
       "_model_module": "@jupyter-widgets/controls",
       "_model_module_version": "1.5.0",
       "_model_name": "HTMLModel",
       "_view_count": null,
       "_view_module": "@jupyter-widgets/controls",
       "_view_module_version": "1.5.0",
       "_view_name": "HTMLView",
       "description": "",
       "description_tooltip": null,
       "layout": "IPY_MODEL_ff34f810186b4162a9712e605ddbcf00",
       "placeholder": "​",
       "style": "IPY_MODEL_6ed4ce875a1f4831a893804ab3357ce2",
       "value": "tokenizer.json: 100%"
      }
     },
     "66c144d5ce084f49b05867e8bf0617ec": {
      "model_module": "@jupyter-widgets/controls",
      "model_module_version": "1.5.0",
      "model_name": "ProgressStyleModel",
      "state": {
       "_model_module": "@jupyter-widgets/controls",
       "_model_module_version": "1.5.0",
       "_model_name": "ProgressStyleModel",
       "_view_count": null,
       "_view_module": "@jupyter-widgets/base",
       "_view_module_version": "1.2.0",
       "_view_name": "StyleView",
       "bar_color": null,
       "description_width": ""
      }
     },
     "69ecc38f698340c0bd0526fe78364eee": {
      "model_module": "@jupyter-widgets/controls",
      "model_module_version": "1.5.0",
      "model_name": "ProgressStyleModel",
      "state": {
       "_model_module": "@jupyter-widgets/controls",
       "_model_module_version": "1.5.0",
       "_model_name": "ProgressStyleModel",
       "_view_count": null,
       "_view_module": "@jupyter-widgets/base",
       "_view_module_version": "1.2.0",
       "_view_name": "StyleView",
       "bar_color": null,
       "description_width": ""
      }
     },
     "6aa68f41f1e64673b9af816f92fef22e": {
      "model_module": "@jupyter-widgets/controls",
      "model_module_version": "1.5.0",
      "model_name": "DescriptionStyleModel",
      "state": {
       "_model_module": "@jupyter-widgets/controls",
       "_model_module_version": "1.5.0",
       "_model_name": "DescriptionStyleModel",
       "_view_count": null,
       "_view_module": "@jupyter-widgets/base",
       "_view_module_version": "1.2.0",
       "_view_name": "StyleView",
       "description_width": ""
      }
     },
     "6b376d6395cf441598b7aa2d4b4b254f": {
      "model_module": "@jupyter-widgets/controls",
      "model_module_version": "1.5.0",
      "model_name": "HBoxModel",
      "state": {
       "_dom_classes": [],
       "_model_module": "@jupyter-widgets/controls",
       "_model_module_version": "1.5.0",
       "_model_name": "HBoxModel",
       "_view_count": null,
       "_view_module": "@jupyter-widgets/controls",
       "_view_module_version": "1.5.0",
       "_view_name": "HBoxView",
       "box_style": "",
       "children": [
        "IPY_MODEL_769e9e1b3e8a4974af168732890f3ee7",
        "IPY_MODEL_b1390eafbd904fe98d329e1382730122",
        "IPY_MODEL_d713ad6d8ae748da9e79d3b55ff4365d"
       ],
       "layout": "IPY_MODEL_11766c0955774f09a264b163259dc034"
      }
     },
     "6b3cb8156b5e4279a08d900d777012ec": {
      "model_module": "@jupyter-widgets/controls",
      "model_module_version": "1.5.0",
      "model_name": "ProgressStyleModel",
      "state": {
       "_model_module": "@jupyter-widgets/controls",
       "_model_module_version": "1.5.0",
       "_model_name": "ProgressStyleModel",
       "_view_count": null,
       "_view_module": "@jupyter-widgets/base",
       "_view_module_version": "1.2.0",
       "_view_name": "StyleView",
       "bar_color": null,
       "description_width": ""
      }
     },
     "6ed4ce875a1f4831a893804ab3357ce2": {
      "model_module": "@jupyter-widgets/controls",
      "model_module_version": "1.5.0",
      "model_name": "DescriptionStyleModel",
      "state": {
       "_model_module": "@jupyter-widgets/controls",
       "_model_module_version": "1.5.0",
       "_model_name": "DescriptionStyleModel",
       "_view_count": null,
       "_view_module": "@jupyter-widgets/base",
       "_view_module_version": "1.2.0",
       "_view_name": "StyleView",
       "description_width": ""
      }
     },
     "6ef8f9dc9e6f4e34b1a21bbbbd9b6a5c": {
      "model_module": "@jupyter-widgets/base",
      "model_module_version": "1.2.0",
      "model_name": "LayoutModel",
      "state": {
       "_model_module": "@jupyter-widgets/base",
       "_model_module_version": "1.2.0",
       "_model_name": "LayoutModel",
       "_view_count": null,
       "_view_module": "@jupyter-widgets/base",
       "_view_module_version": "1.2.0",
       "_view_name": "LayoutView",
       "align_content": null,
       "align_items": null,
       "align_self": null,
       "border": null,
       "bottom": null,
       "display": null,
       "flex": null,
       "flex_flow": null,
       "grid_area": null,
       "grid_auto_columns": null,
       "grid_auto_flow": null,
       "grid_auto_rows": null,
       "grid_column": null,
       "grid_gap": null,
       "grid_row": null,
       "grid_template_areas": null,
       "grid_template_columns": null,
       "grid_template_rows": null,
       "height": null,
       "justify_content": null,
       "justify_items": null,
       "left": null,
       "margin": null,
       "max_height": null,
       "max_width": null,
       "min_height": null,
       "min_width": null,
       "object_fit": null,
       "object_position": null,
       "order": null,
       "overflow": null,
       "overflow_x": null,
       "overflow_y": null,
       "padding": null,
       "right": null,
       "top": null,
       "visibility": null,
       "width": null
      }
     },
     "7068bd9b344a4d9399cfa304d97e7fbf": {
      "model_module": "@jupyter-widgets/base",
      "model_module_version": "1.2.0",
      "model_name": "LayoutModel",
      "state": {
       "_model_module": "@jupyter-widgets/base",
       "_model_module_version": "1.2.0",
       "_model_name": "LayoutModel",
       "_view_count": null,
       "_view_module": "@jupyter-widgets/base",
       "_view_module_version": "1.2.0",
       "_view_name": "LayoutView",
       "align_content": null,
       "align_items": null,
       "align_self": null,
       "border": null,
       "bottom": null,
       "display": null,
       "flex": null,
       "flex_flow": null,
       "grid_area": null,
       "grid_auto_columns": null,
       "grid_auto_flow": null,
       "grid_auto_rows": null,
       "grid_column": null,
       "grid_gap": null,
       "grid_row": null,
       "grid_template_areas": null,
       "grid_template_columns": null,
       "grid_template_rows": null,
       "height": null,
       "justify_content": null,
       "justify_items": null,
       "left": null,
       "margin": null,
       "max_height": null,
       "max_width": null,
       "min_height": null,
       "min_width": null,
       "object_fit": null,
       "object_position": null,
       "order": null,
       "overflow": null,
       "overflow_x": null,
       "overflow_y": null,
       "padding": null,
       "right": null,
       "top": null,
       "visibility": null,
       "width": null
      }
     },
     "707c4a70c30e47159a201149302bc319": {
      "model_module": "@jupyter-widgets/base",
      "model_module_version": "1.2.0",
      "model_name": "LayoutModel",
      "state": {
       "_model_module": "@jupyter-widgets/base",
       "_model_module_version": "1.2.0",
       "_model_name": "LayoutModel",
       "_view_count": null,
       "_view_module": "@jupyter-widgets/base",
       "_view_module_version": "1.2.0",
       "_view_name": "LayoutView",
       "align_content": null,
       "align_items": null,
       "align_self": null,
       "border": null,
       "bottom": null,
       "display": null,
       "flex": null,
       "flex_flow": null,
       "grid_area": null,
       "grid_auto_columns": null,
       "grid_auto_flow": null,
       "grid_auto_rows": null,
       "grid_column": null,
       "grid_gap": null,
       "grid_row": null,
       "grid_template_areas": null,
       "grid_template_columns": null,
       "grid_template_rows": null,
       "height": null,
       "justify_content": null,
       "justify_items": null,
       "left": null,
       "margin": null,
       "max_height": null,
       "max_width": null,
       "min_height": null,
       "min_width": null,
       "object_fit": null,
       "object_position": null,
       "order": null,
       "overflow": null,
       "overflow_x": null,
       "overflow_y": null,
       "padding": null,
       "right": null,
       "top": null,
       "visibility": null,
       "width": null
      }
     },
     "70cd5a9ab09b4a8aba6efc640a70428a": {
      "model_module": "@jupyter-widgets/base",
      "model_module_version": "1.2.0",
      "model_name": "LayoutModel",
      "state": {
       "_model_module": "@jupyter-widgets/base",
       "_model_module_version": "1.2.0",
       "_model_name": "LayoutModel",
       "_view_count": null,
       "_view_module": "@jupyter-widgets/base",
       "_view_module_version": "1.2.0",
       "_view_name": "LayoutView",
       "align_content": null,
       "align_items": null,
       "align_self": null,
       "border": null,
       "bottom": null,
       "display": null,
       "flex": null,
       "flex_flow": null,
       "grid_area": null,
       "grid_auto_columns": null,
       "grid_auto_flow": null,
       "grid_auto_rows": null,
       "grid_column": null,
       "grid_gap": null,
       "grid_row": null,
       "grid_template_areas": null,
       "grid_template_columns": null,
       "grid_template_rows": null,
       "height": null,
       "justify_content": null,
       "justify_items": null,
       "left": null,
       "margin": null,
       "max_height": null,
       "max_width": null,
       "min_height": null,
       "min_width": null,
       "object_fit": null,
       "object_position": null,
       "order": null,
       "overflow": null,
       "overflow_x": null,
       "overflow_y": null,
       "padding": null,
       "right": null,
       "top": null,
       "visibility": null,
       "width": null
      }
     },
     "712cea6cbe6747b383ba444f09fbb462": {
      "model_module": "@jupyter-widgets/base",
      "model_module_version": "1.2.0",
      "model_name": "LayoutModel",
      "state": {
       "_model_module": "@jupyter-widgets/base",
       "_model_module_version": "1.2.0",
       "_model_name": "LayoutModel",
       "_view_count": null,
       "_view_module": "@jupyter-widgets/base",
       "_view_module_version": "1.2.0",
       "_view_name": "LayoutView",
       "align_content": null,
       "align_items": null,
       "align_self": null,
       "border": null,
       "bottom": null,
       "display": null,
       "flex": null,
       "flex_flow": null,
       "grid_area": null,
       "grid_auto_columns": null,
       "grid_auto_flow": null,
       "grid_auto_rows": null,
       "grid_column": null,
       "grid_gap": null,
       "grid_row": null,
       "grid_template_areas": null,
       "grid_template_columns": null,
       "grid_template_rows": null,
       "height": null,
       "justify_content": null,
       "justify_items": null,
       "left": null,
       "margin": null,
       "max_height": null,
       "max_width": null,
       "min_height": null,
       "min_width": null,
       "object_fit": null,
       "object_position": null,
       "order": null,
       "overflow": null,
       "overflow_x": null,
       "overflow_y": null,
       "padding": null,
       "right": null,
       "top": null,
       "visibility": null,
       "width": null
      }
     },
     "72202c138b8b439397a4106dc0dd0095": {
      "model_module": "@jupyter-widgets/controls",
      "model_module_version": "1.5.0",
      "model_name": "DescriptionStyleModel",
      "state": {
       "_model_module": "@jupyter-widgets/controls",
       "_model_module_version": "1.5.0",
       "_model_name": "DescriptionStyleModel",
       "_view_count": null,
       "_view_module": "@jupyter-widgets/base",
       "_view_module_version": "1.2.0",
       "_view_name": "StyleView",
       "description_width": ""
      }
     },
     "723c3a3203c54afcaec808d68ff906e3": {
      "model_module": "@jupyter-widgets/controls",
      "model_module_version": "1.5.0",
      "model_name": "HBoxModel",
      "state": {
       "_dom_classes": [],
       "_model_module": "@jupyter-widgets/controls",
       "_model_module_version": "1.5.0",
       "_model_name": "HBoxModel",
       "_view_count": null,
       "_view_module": "@jupyter-widgets/controls",
       "_view_module_version": "1.5.0",
       "_view_name": "HBoxView",
       "box_style": "",
       "children": [
        "IPY_MODEL_934d9ab0a50b448a9fb298f09711adf8",
        "IPY_MODEL_18ade06c3d9645d3aaf45141e8df6955",
        "IPY_MODEL_51abc9f654204e76b7ea4b87c84341b5"
       ],
       "layout": "IPY_MODEL_0a9f2ffe6fb64e0ba30b3156924e7c98"
      }
     },
     "74fe6dad09c84e2f8b23da4701ceb468": {
      "model_module": "@jupyter-widgets/base",
      "model_module_version": "1.2.0",
      "model_name": "LayoutModel",
      "state": {
       "_model_module": "@jupyter-widgets/base",
       "_model_module_version": "1.2.0",
       "_model_name": "LayoutModel",
       "_view_count": null,
       "_view_module": "@jupyter-widgets/base",
       "_view_module_version": "1.2.0",
       "_view_name": "LayoutView",
       "align_content": null,
       "align_items": null,
       "align_self": null,
       "border": null,
       "bottom": null,
       "display": null,
       "flex": null,
       "flex_flow": null,
       "grid_area": null,
       "grid_auto_columns": null,
       "grid_auto_flow": null,
       "grid_auto_rows": null,
       "grid_column": null,
       "grid_gap": null,
       "grid_row": null,
       "grid_template_areas": null,
       "grid_template_columns": null,
       "grid_template_rows": null,
       "height": null,
       "justify_content": null,
       "justify_items": null,
       "left": null,
       "margin": null,
       "max_height": null,
       "max_width": null,
       "min_height": null,
       "min_width": null,
       "object_fit": null,
       "object_position": null,
       "order": null,
       "overflow": null,
       "overflow_x": null,
       "overflow_y": null,
       "padding": null,
       "right": null,
       "top": null,
       "visibility": null,
       "width": null
      }
     },
     "75cb1cbb81234d24ad2c4d648291516f": {
      "model_module": "@jupyter-widgets/controls",
      "model_module_version": "1.5.0",
      "model_name": "HTMLModel",
      "state": {
       "_dom_classes": [],
       "_model_module": "@jupyter-widgets/controls",
       "_model_module_version": "1.5.0",
       "_model_name": "HTMLModel",
       "_view_count": null,
       "_view_module": "@jupyter-widgets/controls",
       "_view_module_version": "1.5.0",
       "_view_name": "HTMLView",
       "description": "",
       "description_tooltip": null,
       "layout": "IPY_MODEL_d0cd5e4c58b641259d6a9fb84f6d0210",
       "placeholder": "​",
       "style": "IPY_MODEL_cef76dd4b7de46b488fb36503886ee3f",
       "value": " 20000/20000 [05:15&lt;00:00, 65.34it/s]"
      }
     },
     "765fbc4741934456878d289f2a0d1d35": {
      "model_module": "@jupyter-widgets/controls",
      "model_module_version": "1.5.0",
      "model_name": "FloatProgressModel",
      "state": {
       "_dom_classes": [],
       "_model_module": "@jupyter-widgets/controls",
       "_model_module_version": "1.5.0",
       "_model_name": "FloatProgressModel",
       "_view_count": null,
       "_view_module": "@jupyter-widgets/controls",
       "_view_module_version": "1.5.0",
       "_view_name": "ProgressView",
       "bar_style": "success",
       "description": "",
       "description_tooltip": null,
       "layout": "IPY_MODEL_52594a435a5045bf8b6ade22c0a3179c",
       "max": 1154.0,
       "min": 0.0,
       "orientation": "horizontal",
       "style": "IPY_MODEL_c8e716a22a1e4893990f4e7006035790",
       "value": 1154.0
      }
     },
     "769e9e1b3e8a4974af168732890f3ee7": {
      "model_module": "@jupyter-widgets/controls",
      "model_module_version": "1.5.0",
      "model_name": "HTMLModel",
      "state": {
       "_dom_classes": [],
       "_model_module": "@jupyter-widgets/controls",
       "_model_module_version": "1.5.0",
       "_model_name": "HTMLModel",
       "_view_count": null,
       "_view_module": "@jupyter-widgets/controls",
       "_view_module_version": "1.5.0",
       "_view_name": "HTMLView",
       "description": "",
       "description_tooltip": null,
       "layout": "IPY_MODEL_90291a285c40416ea659e3a1bfea5272",
       "placeholder": "​",
       "style": "IPY_MODEL_5dc0c6f5a1c545ca993d80951d570e2f",
       "value": "model.safetensors: 100%"
      }
     },
     "786520d7f65b432caaab5fa372203646": {
      "model_module": "@jupyter-widgets/controls",
      "model_module_version": "1.5.0",
      "model_name": "DescriptionStyleModel",
      "state": {
       "_model_module": "@jupyter-widgets/controls",
       "_model_module_version": "1.5.0",
       "_model_name": "DescriptionStyleModel",
       "_view_count": null,
       "_view_module": "@jupyter-widgets/base",
       "_view_module_version": "1.2.0",
       "_view_name": "StyleView",
       "description_width": ""
      }
     },
     "7bd365f5c54c4e5d84eb389ec526dbb6": {
      "model_module": "@jupyter-widgets/base",
      "model_module_version": "1.2.0",
      "model_name": "LayoutModel",
      "state": {
       "_model_module": "@jupyter-widgets/base",
       "_model_module_version": "1.2.0",
       "_model_name": "LayoutModel",
       "_view_count": null,
       "_view_module": "@jupyter-widgets/base",
       "_view_module_version": "1.2.0",
       "_view_name": "LayoutView",
       "align_content": null,
       "align_items": null,
       "align_self": null,
       "border": null,
       "bottom": null,
       "display": null,
       "flex": null,
       "flex_flow": null,
       "grid_area": null,
       "grid_auto_columns": null,
       "grid_auto_flow": null,
       "grid_auto_rows": null,
       "grid_column": null,
       "grid_gap": null,
       "grid_row": null,
       "grid_template_areas": null,
       "grid_template_columns": null,
       "grid_template_rows": null,
       "height": null,
       "justify_content": null,
       "justify_items": null,
       "left": null,
       "margin": null,
       "max_height": null,
       "max_width": null,
       "min_height": null,
       "min_width": null,
       "object_fit": null,
       "object_position": null,
       "order": null,
       "overflow": null,
       "overflow_x": null,
       "overflow_y": null,
       "padding": null,
       "right": null,
       "top": null,
       "visibility": null,
       "width": null
      }
     },
     "7e6ecee50c14410fa795fd75eb17355c": {
      "model_module": "@jupyter-widgets/base",
      "model_module_version": "1.2.0",
      "model_name": "LayoutModel",
      "state": {
       "_model_module": "@jupyter-widgets/base",
       "_model_module_version": "1.2.0",
       "_model_name": "LayoutModel",
       "_view_count": null,
       "_view_module": "@jupyter-widgets/base",
       "_view_module_version": "1.2.0",
       "_view_name": "LayoutView",
       "align_content": null,
       "align_items": null,
       "align_self": null,
       "border": null,
       "bottom": null,
       "display": null,
       "flex": null,
       "flex_flow": null,
       "grid_area": null,
       "grid_auto_columns": null,
       "grid_auto_flow": null,
       "grid_auto_rows": null,
       "grid_column": null,
       "grid_gap": null,
       "grid_row": null,
       "grid_template_areas": null,
       "grid_template_columns": null,
       "grid_template_rows": null,
       "height": null,
       "justify_content": null,
       "justify_items": null,
       "left": null,
       "margin": null,
       "max_height": null,
       "max_width": null,
       "min_height": null,
       "min_width": null,
       "object_fit": null,
       "object_position": null,
       "order": null,
       "overflow": null,
       "overflow_x": null,
       "overflow_y": null,
       "padding": null,
       "right": null,
       "top": null,
       "visibility": null,
       "width": null
      }
     },
     "7f13330bbc9e41d4aabf1d11f919d8b5": {
      "model_module": "@jupyter-widgets/controls",
      "model_module_version": "1.5.0",
      "model_name": "HTMLModel",
      "state": {
       "_dom_classes": [],
       "_model_module": "@jupyter-widgets/controls",
       "_model_module_version": "1.5.0",
       "_model_name": "HTMLModel",
       "_view_count": null,
       "_view_module": "@jupyter-widgets/controls",
       "_view_module_version": "1.5.0",
       "_view_name": "HTMLView",
       "description": "",
       "description_tooltip": null,
       "layout": "IPY_MODEL_7068bd9b344a4d9399cfa304d97e7fbf",
       "placeholder": "​",
       "style": "IPY_MODEL_0e81fed537f3405a947cd77ab4f93ad2",
       "value": " 528k/528k [00:00&lt;00:00, 17.9MB/s]"
      }
     },
     "81f9159a1a9a47ad8c50ebbe1d3f4ee7": {
      "model_module": "@jupyter-widgets/base",
      "model_module_version": "1.2.0",
      "model_name": "LayoutModel",
      "state": {
       "_model_module": "@jupyter-widgets/base",
       "_model_module_version": "1.2.0",
       "_model_name": "LayoutModel",
       "_view_count": null,
       "_view_module": "@jupyter-widgets/base",
       "_view_module_version": "1.2.0",
       "_view_name": "LayoutView",
       "align_content": null,
       "align_items": null,
       "align_self": null,
       "border": null,
       "bottom": null,
       "display": null,
       "flex": null,
       "flex_flow": null,
       "grid_area": null,
       "grid_auto_columns": null,
       "grid_auto_flow": null,
       "grid_auto_rows": null,
       "grid_column": null,
       "grid_gap": null,
       "grid_row": null,
       "grid_template_areas": null,
       "grid_template_columns": null,
       "grid_template_rows": null,
       "height": null,
       "justify_content": null,
       "justify_items": null,
       "left": null,
       "margin": null,
       "max_height": null,
       "max_width": null,
       "min_height": null,
       "min_width": null,
       "object_fit": null,
       "object_position": null,
       "order": null,
       "overflow": null,
       "overflow_x": null,
       "overflow_y": null,
       "padding": null,
       "right": null,
       "top": null,
       "visibility": null,
       "width": null
      }
     },
     "82a8bdd4a0e44242a38b207c4c936854": {
      "model_module": "@jupyter-widgets/controls",
      "model_module_version": "1.5.0",
      "model_name": "HTMLModel",
      "state": {
       "_dom_classes": [],
       "_model_module": "@jupyter-widgets/controls",
       "_model_module_version": "1.5.0",
       "_model_name": "HTMLModel",
       "_view_count": null,
       "_view_module": "@jupyter-widgets/controls",
       "_view_module_version": "1.5.0",
       "_view_name": "HTMLView",
       "description": "",
       "description_tooltip": null,
       "layout": "IPY_MODEL_c459fc3b4661444db93c72f3b6e1f709",
       "placeholder": "​",
       "style": "IPY_MODEL_a1b540e2acd44465be7ea0098ec64944",
       "value": "vocab.txt: 100%"
      }
     },
     "84b13e70546e442095a71038070c4c9b": {
      "model_module": "@jupyter-widgets/controls",
      "model_module_version": "1.5.0",
      "model_name": "FloatProgressModel",
      "state": {
       "_dom_classes": [],
       "_model_module": "@jupyter-widgets/controls",
       "_model_module_version": "1.5.0",
       "_model_name": "FloatProgressModel",
       "_view_count": null,
       "_view_module": "@jupyter-widgets/controls",
       "_view_module_version": "1.5.0",
       "_view_name": "ProgressView",
       "bar_style": "success",
       "description": "",
       "description_tooltip": null,
       "layout": "IPY_MODEL_2136a43891c34e93b7a520e7c21241ba",
       "max": 20000.0,
       "min": 0.0,
       "orientation": "horizontal",
       "style": "IPY_MODEL_ceba3185315640be9eb55ff2d7a346d4",
       "value": 20000.0
      }
     },
     "865aed659b6d44d49c6bfa4028200fc8": {
      "model_module": "@jupyter-widgets/controls",
      "model_module_version": "1.5.0",
      "model_name": "HTMLModel",
      "state": {
       "_dom_classes": [],
       "_model_module": "@jupyter-widgets/controls",
       "_model_module_version": "1.5.0",
       "_model_name": "HTMLModel",
       "_view_count": null,
       "_view_module": "@jupyter-widgets/controls",
       "_view_module_version": "1.5.0",
       "_view_name": "HTMLView",
       "description": "",
       "description_tooltip": null,
       "layout": "IPY_MODEL_464f572d18a94de08bd38368edce2b37",
       "placeholder": "​",
       "style": "IPY_MODEL_0ee68fd1a5a548a5a08136d45247ab64",
       "value": " 438M/438M [00:02&lt;00:00, 185MB/s]"
      }
     },
     "868323aa537746fc8d3217b4a6eebe2b": {
      "model_module": "@jupyter-widgets/controls",
      "model_module_version": "1.5.0",
      "model_name": "ProgressStyleModel",
      "state": {
       "_model_module": "@jupyter-widgets/controls",
       "_model_module_version": "1.5.0",
       "_model_name": "ProgressStyleModel",
       "_view_count": null,
       "_view_module": "@jupyter-widgets/base",
       "_view_module_version": "1.2.0",
       "_view_name": "StyleView",
       "bar_color": null,
       "description_width": ""
      }
     },
     "87ba5210dcc44f03a91f8dc627ce20ac": {
      "model_module": "@jupyter-widgets/controls",
      "model_module_version": "1.5.0",
      "model_name": "HTMLModel",
      "state": {
       "_dom_classes": [],
       "_model_module": "@jupyter-widgets/controls",
       "_model_module_version": "1.5.0",
       "_model_name": "HTMLModel",
       "_view_count": null,
       "_view_module": "@jupyter-widgets/controls",
       "_view_module_version": "1.5.0",
       "_view_name": "HTMLView",
       "description": "",
       "description_tooltip": null,
       "layout": "IPY_MODEL_712cea6cbe6747b383ba444f09fbb462",
       "placeholder": "​",
       "style": "IPY_MODEL_2473591337044444adb19f7afe61c26e",
       "value": " 119/119 [00:00&lt;00:00, 7.18kB/s]"
      }
     },
     "87e8447f9cc9489d91f2216211f9ce8f": {
      "model_module": "@jupyter-widgets/base",
      "model_module_version": "1.2.0",
      "model_name": "LayoutModel",
      "state": {
       "_model_module": "@jupyter-widgets/base",
       "_model_module_version": "1.2.0",
       "_model_name": "LayoutModel",
       "_view_count": null,
       "_view_module": "@jupyter-widgets/base",
       "_view_module_version": "1.2.0",
       "_view_name": "LayoutView",
       "align_content": null,
       "align_items": null,
       "align_self": null,
       "border": null,
       "bottom": null,
       "display": null,
       "flex": null,
       "flex_flow": null,
       "grid_area": null,
       "grid_auto_columns": null,
       "grid_auto_flow": null,
       "grid_auto_rows": null,
       "grid_column": null,
       "grid_gap": null,
       "grid_row": null,
       "grid_template_areas": null,
       "grid_template_columns": null,
       "grid_template_rows": null,
       "height": null,
       "justify_content": null,
       "justify_items": null,
       "left": null,
       "margin": null,
       "max_height": null,
       "max_width": null,
       "min_height": null,
       "min_width": null,
       "object_fit": null,
       "object_position": null,
       "order": null,
       "overflow": null,
       "overflow_x": null,
       "overflow_y": null,
       "padding": null,
       "right": null,
       "top": null,
       "visibility": null,
       "width": null
      }
     },
     "87f4680cc9134b0b9e49a43f7998d4da": {
      "model_module": "@jupyter-widgets/controls",
      "model_module_version": "1.5.0",
      "model_name": "HTMLModel",
      "state": {
       "_dom_classes": [],
       "_model_module": "@jupyter-widgets/controls",
       "_model_module_version": "1.5.0",
       "_model_name": "HTMLModel",
       "_view_count": null,
       "_view_module": "@jupyter-widgets/controls",
       "_view_module_version": "1.5.0",
       "_view_name": "HTMLView",
       "description": "",
       "description_tooltip": null,
       "layout": "IPY_MODEL_7bd365f5c54c4e5d84eb389ec526dbb6",
       "placeholder": "​",
       "style": "IPY_MODEL_954f90e414d048f4ba1690bec052b0f0",
       "value": "100%"
      }
     },
     "89ac8aad79f246bb967eb011ad5d699e": {
      "model_module": "@jupyter-widgets/controls",
      "model_module_version": "1.5.0",
      "model_name": "HTMLModel",
      "state": {
       "_dom_classes": [],
       "_model_module": "@jupyter-widgets/controls",
       "_model_module_version": "1.5.0",
       "_model_name": "HTMLModel",
       "_view_count": null,
       "_view_module": "@jupyter-widgets/controls",
       "_view_module_version": "1.5.0",
       "_view_name": "HTMLView",
       "description": "",
       "description_tooltip": null,
       "layout": "IPY_MODEL_0ce520c08ce248cdba133da49e098483",
       "placeholder": "​",
       "style": "IPY_MODEL_6aa68f41f1e64673b9af816f92fef22e",
       "value": "merges.txt: 100%"
      }
     },
     "8d7f0a53cfc0487e8b7c4b34e387ddd8": {
      "model_module": "@jupyter-widgets/controls",
      "model_module_version": "1.5.0",
      "model_name": "ProgressStyleModel",
      "state": {
       "_model_module": "@jupyter-widgets/controls",
       "_model_module_version": "1.5.0",
       "_model_name": "ProgressStyleModel",
       "_view_count": null,
       "_view_module": "@jupyter-widgets/base",
       "_view_module_version": "1.2.0",
       "_view_name": "StyleView",
       "bar_color": null,
       "description_width": ""
      }
     },
     "8e9cc63f706f46b09ff7d29d8de20047": {
      "model_module": "@jupyter-widgets/base",
      "model_module_version": "1.2.0",
      "model_name": "LayoutModel",
      "state": {
       "_model_module": "@jupyter-widgets/base",
       "_model_module_version": "1.2.0",
       "_model_name": "LayoutModel",
       "_view_count": null,
       "_view_module": "@jupyter-widgets/base",
       "_view_module_version": "1.2.0",
       "_view_name": "LayoutView",
       "align_content": null,
       "align_items": null,
       "align_self": null,
       "border": null,
       "bottom": null,
       "display": null,
       "flex": null,
       "flex_flow": null,
       "grid_area": null,
       "grid_auto_columns": null,
       "grid_auto_flow": null,
       "grid_auto_rows": null,
       "grid_column": null,
       "grid_gap": null,
       "grid_row": null,
       "grid_template_areas": null,
       "grid_template_columns": null,
       "grid_template_rows": null,
       "height": null,
       "justify_content": null,
       "justify_items": null,
       "left": null,
       "margin": null,
       "max_height": null,
       "max_width": null,
       "min_height": null,
       "min_width": null,
       "object_fit": null,
       "object_position": null,
       "order": null,
       "overflow": null,
       "overflow_x": null,
       "overflow_y": null,
       "padding": null,
       "right": null,
       "top": null,
       "visibility": null,
       "width": null
      }
     },
     "90291a285c40416ea659e3a1bfea5272": {
      "model_module": "@jupyter-widgets/base",
      "model_module_version": "1.2.0",
      "model_name": "LayoutModel",
      "state": {
       "_model_module": "@jupyter-widgets/base",
       "_model_module_version": "1.2.0",
       "_model_name": "LayoutModel",
       "_view_count": null,
       "_view_module": "@jupyter-widgets/base",
       "_view_module_version": "1.2.0",
       "_view_name": "LayoutView",
       "align_content": null,
       "align_items": null,
       "align_self": null,
       "border": null,
       "bottom": null,
       "display": null,
       "flex": null,
       "flex_flow": null,
       "grid_area": null,
       "grid_auto_columns": null,
       "grid_auto_flow": null,
       "grid_auto_rows": null,
       "grid_column": null,
       "grid_gap": null,
       "grid_row": null,
       "grid_template_areas": null,
       "grid_template_columns": null,
       "grid_template_rows": null,
       "height": null,
       "justify_content": null,
       "justify_items": null,
       "left": null,
       "margin": null,
       "max_height": null,
       "max_width": null,
       "min_height": null,
       "min_width": null,
       "object_fit": null,
       "object_position": null,
       "order": null,
       "overflow": null,
       "overflow_x": null,
       "overflow_y": null,
       "padding": null,
       "right": null,
       "top": null,
       "visibility": null,
       "width": null
      }
     },
     "90b024babae54513bfb6231a40f86f77": {
      "model_module": "@jupyter-widgets/controls",
      "model_module_version": "1.5.0",
      "model_name": "ProgressStyleModel",
      "state": {
       "_model_module": "@jupyter-widgets/controls",
       "_model_module_version": "1.5.0",
       "_model_name": "ProgressStyleModel",
       "_view_count": null,
       "_view_module": "@jupyter-widgets/base",
       "_view_module_version": "1.2.0",
       "_view_name": "StyleView",
       "bar_color": null,
       "description_width": ""
      }
     },
     "9125b94b16764be6835ae310def8eb22": {
      "model_module": "@jupyter-widgets/base",
      "model_module_version": "1.2.0",
      "model_name": "LayoutModel",
      "state": {
       "_model_module": "@jupyter-widgets/base",
       "_model_module_version": "1.2.0",
       "_model_name": "LayoutModel",
       "_view_count": null,
       "_view_module": "@jupyter-widgets/base",
       "_view_module_version": "1.2.0",
       "_view_name": "LayoutView",
       "align_content": null,
       "align_items": null,
       "align_self": null,
       "border": null,
       "bottom": null,
       "display": null,
       "flex": null,
       "flex_flow": null,
       "grid_area": null,
       "grid_auto_columns": null,
       "grid_auto_flow": null,
       "grid_auto_rows": null,
       "grid_column": null,
       "grid_gap": null,
       "grid_row": null,
       "grid_template_areas": null,
       "grid_template_columns": null,
       "grid_template_rows": null,
       "height": null,
       "justify_content": null,
       "justify_items": null,
       "left": null,
       "margin": null,
       "max_height": null,
       "max_width": null,
       "min_height": null,
       "min_width": null,
       "object_fit": null,
       "object_position": null,
       "order": null,
       "overflow": null,
       "overflow_x": null,
       "overflow_y": null,
       "padding": null,
       "right": null,
       "top": null,
       "visibility": null,
       "width": null
      }
     },
     "923fdec6b0ba4bd8b0961cbcb7392817": {
      "model_module": "@jupyter-widgets/base",
      "model_module_version": "1.2.0",
      "model_name": "LayoutModel",
      "state": {
       "_model_module": "@jupyter-widgets/base",
       "_model_module_version": "1.2.0",
       "_model_name": "LayoutModel",
       "_view_count": null,
       "_view_module": "@jupyter-widgets/base",
       "_view_module_version": "1.2.0",
       "_view_name": "LayoutView",
       "align_content": null,
       "align_items": null,
       "align_self": null,
       "border": null,
       "bottom": null,
       "display": null,
       "flex": null,
       "flex_flow": null,
       "grid_area": null,
       "grid_auto_columns": null,
       "grid_auto_flow": null,
       "grid_auto_rows": null,
       "grid_column": null,
       "grid_gap": null,
       "grid_row": null,
       "grid_template_areas": null,
       "grid_template_columns": null,
       "grid_template_rows": null,
       "height": null,
       "justify_content": null,
       "justify_items": null,
       "left": null,
       "margin": null,
       "max_height": null,
       "max_width": null,
       "min_height": null,
       "min_width": null,
       "object_fit": null,
       "object_position": null,
       "order": null,
       "overflow": null,
       "overflow_x": null,
       "overflow_y": null,
       "padding": null,
       "right": null,
       "top": null,
       "visibility": null,
       "width": null
      }
     },
     "934d9ab0a50b448a9fb298f09711adf8": {
      "model_module": "@jupyter-widgets/controls",
      "model_module_version": "1.5.0",
      "model_name": "HTMLModel",
      "state": {
       "_dom_classes": [],
       "_model_module": "@jupyter-widgets/controls",
       "_model_module_version": "1.5.0",
       "_model_name": "HTMLModel",
       "_view_count": null,
       "_view_module": "@jupyter-widgets/controls",
       "_view_module_version": "1.5.0",
       "_view_name": "HTMLView",
       "description": "",
       "description_tooltip": null,
       "layout": "IPY_MODEL_b69282096d1b4aaca563fadcc65bdb53",
       "placeholder": "​",
       "style": "IPY_MODEL_1755e31abb104220906f38bfbd5764a5",
       "value": "100%"
      }
     },
     "954f90e414d048f4ba1690bec052b0f0": {
      "model_module": "@jupyter-widgets/controls",
      "model_module_version": "1.5.0",
      "model_name": "DescriptionStyleModel",
      "state": {
       "_model_module": "@jupyter-widgets/controls",
       "_model_module_version": "1.5.0",
       "_model_name": "DescriptionStyleModel",
       "_view_count": null,
       "_view_module": "@jupyter-widgets/base",
       "_view_module_version": "1.2.0",
       "_view_name": "StyleView",
       "description_width": ""
      }
     },
     "957cdad9df0a49f9b844c63288b3c636": {
      "model_module": "@jupyter-widgets/base",
      "model_module_version": "1.2.0",
      "model_name": "LayoutModel",
      "state": {
       "_model_module": "@jupyter-widgets/base",
       "_model_module_version": "1.2.0",
       "_model_name": "LayoutModel",
       "_view_count": null,
       "_view_module": "@jupyter-widgets/base",
       "_view_module_version": "1.2.0",
       "_view_name": "LayoutView",
       "align_content": null,
       "align_items": null,
       "align_self": null,
       "border": null,
       "bottom": null,
       "display": null,
       "flex": null,
       "flex_flow": null,
       "grid_area": null,
       "grid_auto_columns": null,
       "grid_auto_flow": null,
       "grid_auto_rows": null,
       "grid_column": null,
       "grid_gap": null,
       "grid_row": null,
       "grid_template_areas": null,
       "grid_template_columns": null,
       "grid_template_rows": null,
       "height": null,
       "justify_content": null,
       "justify_items": null,
       "left": null,
       "margin": null,
       "max_height": null,
       "max_width": null,
       "min_height": null,
       "min_width": null,
       "object_fit": null,
       "object_position": null,
       "order": null,
       "overflow": null,
       "overflow_x": null,
       "overflow_y": null,
       "padding": null,
       "right": null,
       "top": null,
       "visibility": null,
       "width": null
      }
     },
     "97015fecf57b43cc90668f177f776ea3": {
      "model_module": "@jupyter-widgets/base",
      "model_module_version": "1.2.0",
      "model_name": "LayoutModel",
      "state": {
       "_model_module": "@jupyter-widgets/base",
       "_model_module_version": "1.2.0",
       "_model_name": "LayoutModel",
       "_view_count": null,
       "_view_module": "@jupyter-widgets/base",
       "_view_module_version": "1.2.0",
       "_view_name": "LayoutView",
       "align_content": null,
       "align_items": null,
       "align_self": null,
       "border": null,
       "bottom": null,
       "display": null,
       "flex": null,
       "flex_flow": null,
       "grid_area": null,
       "grid_auto_columns": null,
       "grid_auto_flow": null,
       "grid_auto_rows": null,
       "grid_column": null,
       "grid_gap": null,
       "grid_row": null,
       "grid_template_areas": null,
       "grid_template_columns": null,
       "grid_template_rows": null,
       "height": null,
       "justify_content": null,
       "justify_items": null,
       "left": null,
       "margin": null,
       "max_height": null,
       "max_width": null,
       "min_height": null,
       "min_width": null,
       "object_fit": null,
       "object_position": null,
       "order": null,
       "overflow": null,
       "overflow_x": null,
       "overflow_y": null,
       "padding": null,
       "right": null,
       "top": null,
       "visibility": null,
       "width": null
      }
     },
     "970d755fa8b84862838fa8e29a06d095": {
      "model_module": "@jupyter-widgets/base",
      "model_module_version": "1.2.0",
      "model_name": "LayoutModel",
      "state": {
       "_model_module": "@jupyter-widgets/base",
       "_model_module_version": "1.2.0",
       "_model_name": "LayoutModel",
       "_view_count": null,
       "_view_module": "@jupyter-widgets/base",
       "_view_module_version": "1.2.0",
       "_view_name": "LayoutView",
       "align_content": null,
       "align_items": null,
       "align_self": null,
       "border": null,
       "bottom": null,
       "display": null,
       "flex": null,
       "flex_flow": null,
       "grid_area": null,
       "grid_auto_columns": null,
       "grid_auto_flow": null,
       "grid_auto_rows": null,
       "grid_column": null,
       "grid_gap": null,
       "grid_row": null,
       "grid_template_areas": null,
       "grid_template_columns": null,
       "grid_template_rows": null,
       "height": null,
       "justify_content": null,
       "justify_items": null,
       "left": null,
       "margin": null,
       "max_height": null,
       "max_width": null,
       "min_height": null,
       "min_width": null,
       "object_fit": null,
       "object_position": null,
       "order": null,
       "overflow": null,
       "overflow_x": null,
       "overflow_y": null,
       "padding": null,
       "right": null,
       "top": null,
       "visibility": null,
       "width": null
      }
     },
     "97741615b16848f4ae2ff98f42ab7b0d": {
      "model_module": "@jupyter-widgets/controls",
      "model_module_version": "1.5.0",
      "model_name": "ProgressStyleModel",
      "state": {
       "_model_module": "@jupyter-widgets/controls",
       "_model_module_version": "1.5.0",
       "_model_name": "ProgressStyleModel",
       "_view_count": null,
       "_view_module": "@jupyter-widgets/base",
       "_view_module_version": "1.2.0",
       "_view_name": "StyleView",
       "bar_color": null,
       "description_width": ""
      }
     },
     "977d410475ca441a96b900ccf95cf2b0": {
      "model_module": "@jupyter-widgets/controls",
      "model_module_version": "1.5.0",
      "model_name": "DescriptionStyleModel",
      "state": {
       "_model_module": "@jupyter-widgets/controls",
       "_model_module_version": "1.5.0",
       "_model_name": "DescriptionStyleModel",
       "_view_count": null,
       "_view_module": "@jupyter-widgets/base",
       "_view_module_version": "1.2.0",
       "_view_name": "StyleView",
       "description_width": ""
      }
     },
     "9878fd642e5340acb6ebe1b721eb37b0": {
      "model_module": "@jupyter-widgets/base",
      "model_module_version": "1.2.0",
      "model_name": "LayoutModel",
      "state": {
       "_model_module": "@jupyter-widgets/base",
       "_model_module_version": "1.2.0",
       "_model_name": "LayoutModel",
       "_view_count": null,
       "_view_module": "@jupyter-widgets/base",
       "_view_module_version": "1.2.0",
       "_view_name": "LayoutView",
       "align_content": null,
       "align_items": null,
       "align_self": null,
       "border": null,
       "bottom": null,
       "display": null,
       "flex": null,
       "flex_flow": null,
       "grid_area": null,
       "grid_auto_columns": null,
       "grid_auto_flow": null,
       "grid_auto_rows": null,
       "grid_column": null,
       "grid_gap": null,
       "grid_row": null,
       "grid_template_areas": null,
       "grid_template_columns": null,
       "grid_template_rows": null,
       "height": null,
       "justify_content": null,
       "justify_items": null,
       "left": null,
       "margin": null,
       "max_height": null,
       "max_width": null,
       "min_height": null,
       "min_width": null,
       "object_fit": null,
       "object_position": null,
       "order": null,
       "overflow": null,
       "overflow_x": null,
       "overflow_y": null,
       "padding": null,
       "right": null,
       "top": null,
       "visibility": null,
       "width": null
      }
     },
     "987be672585e44d3bdf8dab0ffa0438c": {
      "model_module": "@jupyter-widgets/controls",
      "model_module_version": "1.5.0",
      "model_name": "HTMLModel",
      "state": {
       "_dom_classes": [],
       "_model_module": "@jupyter-widgets/controls",
       "_model_module_version": "1.5.0",
       "_model_name": "HTMLModel",
       "_view_count": null,
       "_view_module": "@jupyter-widgets/controls",
       "_view_module_version": "1.5.0",
       "_view_name": "HTMLView",
       "description": "",
       "description_tooltip": null,
       "layout": "IPY_MODEL_2981e9a344b640fea5b4c8ebf2a4fdbd",
       "placeholder": "​",
       "style": "IPY_MODEL_49e9c8de3e3f4608ae9f4788fc4daef0",
       "value": "special_tokens_map.json: 100%"
      }
     },
     "98dee9060bfc4a49973ac0b46a3681fd": {
      "model_module": "@jupyter-widgets/base",
      "model_module_version": "1.2.0",
      "model_name": "LayoutModel",
      "state": {
       "_model_module": "@jupyter-widgets/base",
       "_model_module_version": "1.2.0",
       "_model_name": "LayoutModel",
       "_view_count": null,
       "_view_module": "@jupyter-widgets/base",
       "_view_module_version": "1.2.0",
       "_view_name": "LayoutView",
       "align_content": null,
       "align_items": null,
       "align_self": null,
       "border": null,
       "bottom": null,
       "display": null,
       "flex": null,
       "flex_flow": null,
       "grid_area": null,
       "grid_auto_columns": null,
       "grid_auto_flow": null,
       "grid_auto_rows": null,
       "grid_column": null,
       "grid_gap": null,
       "grid_row": null,
       "grid_template_areas": null,
       "grid_template_columns": null,
       "grid_template_rows": null,
       "height": null,
       "justify_content": null,
       "justify_items": null,
       "left": null,
       "margin": null,
       "max_height": null,
       "max_width": null,
       "min_height": null,
       "min_width": null,
       "object_fit": null,
       "object_position": null,
       "order": null,
       "overflow": null,
       "overflow_x": null,
       "overflow_y": null,
       "padding": null,
       "right": null,
       "top": null,
       "visibility": null,
       "width": null
      }
     },
     "9c7c9a177f24496eb7601ec60775e8f7": {
      "model_module": "@jupyter-widgets/controls",
      "model_module_version": "1.5.0",
      "model_name": "DescriptionStyleModel",
      "state": {
       "_model_module": "@jupyter-widgets/controls",
       "_model_module_version": "1.5.0",
       "_model_name": "DescriptionStyleModel",
       "_view_count": null,
       "_view_module": "@jupyter-widgets/base",
       "_view_module_version": "1.2.0",
       "_view_name": "StyleView",
       "description_width": ""
      }
     },
     "9f1d9979f7ce4ec48e1fbf2118ca1a69": {
      "model_module": "@jupyter-widgets/controls",
      "model_module_version": "1.5.0",
      "model_name": "HTMLModel",
      "state": {
       "_dom_classes": [],
       "_model_module": "@jupyter-widgets/controls",
       "_model_module_version": "1.5.0",
       "_model_name": "HTMLModel",
       "_view_count": null,
       "_view_module": "@jupyter-widgets/controls",
       "_view_module_version": "1.5.0",
       "_view_name": "HTMLView",
       "description": "",
       "description_tooltip": null,
       "layout": "IPY_MODEL_3830258522524a07813bce20c89d3c8f",
       "placeholder": "​",
       "style": "IPY_MODEL_d544baea3b1d4e81a951e3071c9a509c",
       "value": "100%"
      }
     },
     "9f95db775c904a3b8ce7c1da44d0ba88": {
      "model_module": "@jupyter-widgets/controls",
      "model_module_version": "1.5.0",
      "model_name": "DescriptionStyleModel",
      "state": {
       "_model_module": "@jupyter-widgets/controls",
       "_model_module_version": "1.5.0",
       "_model_name": "DescriptionStyleModel",
       "_view_count": null,
       "_view_module": "@jupyter-widgets/base",
       "_view_module_version": "1.2.0",
       "_view_name": "StyleView",
       "description_width": ""
      }
     },
     "9ff67da8fa464608bb8a231cfec59cc9": {
      "model_module": "@jupyter-widgets/controls",
      "model_module_version": "1.5.0",
      "model_name": "DescriptionStyleModel",
      "state": {
       "_model_module": "@jupyter-widgets/controls",
       "_model_module_version": "1.5.0",
       "_model_name": "DescriptionStyleModel",
       "_view_count": null,
       "_view_module": "@jupyter-widgets/base",
       "_view_module_version": "1.2.0",
       "_view_name": "StyleView",
       "description_width": ""
      }
     },
     "a03ce5ee39af4aaaa50495f01c232830": {
      "model_module": "@jupyter-widgets/base",
      "model_module_version": "1.2.0",
      "model_name": "LayoutModel",
      "state": {
       "_model_module": "@jupyter-widgets/base",
       "_model_module_version": "1.2.0",
       "_model_name": "LayoutModel",
       "_view_count": null,
       "_view_module": "@jupyter-widgets/base",
       "_view_module_version": "1.2.0",
       "_view_name": "LayoutView",
       "align_content": null,
       "align_items": null,
       "align_self": null,
       "border": null,
       "bottom": null,
       "display": null,
       "flex": null,
       "flex_flow": null,
       "grid_area": null,
       "grid_auto_columns": null,
       "grid_auto_flow": null,
       "grid_auto_rows": null,
       "grid_column": null,
       "grid_gap": null,
       "grid_row": null,
       "grid_template_areas": null,
       "grid_template_columns": null,
       "grid_template_rows": null,
       "height": null,
       "justify_content": null,
       "justify_items": null,
       "left": null,
       "margin": null,
       "max_height": null,
       "max_width": null,
       "min_height": null,
       "min_width": null,
       "object_fit": null,
       "object_position": null,
       "order": null,
       "overflow": null,
       "overflow_x": null,
       "overflow_y": null,
       "padding": null,
       "right": null,
       "top": null,
       "visibility": null,
       "width": null
      }
     },
     "a1b540e2acd44465be7ea0098ec64944": {
      "model_module": "@jupyter-widgets/controls",
      "model_module_version": "1.5.0",
      "model_name": "DescriptionStyleModel",
      "state": {
       "_model_module": "@jupyter-widgets/controls",
       "_model_module_version": "1.5.0",
       "_model_name": "DescriptionStyleModel",
       "_view_count": null,
       "_view_module": "@jupyter-widgets/base",
       "_view_module_version": "1.2.0",
       "_view_name": "StyleView",
       "description_width": ""
      }
     },
     "a2589112063d4f69ad3f2d6c5e02784b": {
      "model_module": "@jupyter-widgets/controls",
      "model_module_version": "1.5.0",
      "model_name": "DescriptionStyleModel",
      "state": {
       "_model_module": "@jupyter-widgets/controls",
       "_model_module_version": "1.5.0",
       "_model_name": "DescriptionStyleModel",
       "_view_count": null,
       "_view_module": "@jupyter-widgets/base",
       "_view_module_version": "1.2.0",
       "_view_name": "StyleView",
       "description_width": ""
      }
     },
     "a29b685e38104efbabf305be9ecae290": {
      "model_module": "@jupyter-widgets/controls",
      "model_module_version": "1.5.0",
      "model_name": "DescriptionStyleModel",
      "state": {
       "_model_module": "@jupyter-widgets/controls",
       "_model_module_version": "1.5.0",
       "_model_name": "DescriptionStyleModel",
       "_view_count": null,
       "_view_module": "@jupyter-widgets/base",
       "_view_module_version": "1.2.0",
       "_view_name": "StyleView",
       "description_width": ""
      }
     },
     "a3490581068d46df8e099fda0c510df1": {
      "model_module": "@jupyter-widgets/controls",
      "model_module_version": "1.5.0",
      "model_name": "ProgressStyleModel",
      "state": {
       "_model_module": "@jupyter-widgets/controls",
       "_model_module_version": "1.5.0",
       "_model_name": "ProgressStyleModel",
       "_view_count": null,
       "_view_module": "@jupyter-widgets/base",
       "_view_module_version": "1.2.0",
       "_view_name": "StyleView",
       "bar_color": null,
       "description_width": ""
      }
     },
     "a34bfaddb92749e2be485ff5517c6885": {
      "model_module": "@jupyter-widgets/controls",
      "model_module_version": "1.5.0",
      "model_name": "FloatProgressModel",
      "state": {
       "_dom_classes": [],
       "_model_module": "@jupyter-widgets/controls",
       "_model_module_version": "1.5.0",
       "_model_name": "FloatProgressModel",
       "_view_count": null,
       "_view_module": "@jupyter-widgets/controls",
       "_view_module_version": "1.5.0",
       "_view_name": "ProgressView",
       "bar_style": "success",
       "description": "",
       "description_tooltip": null,
       "layout": "IPY_MODEL_cfe4e9cf52c841b0b2bd6e432b31b364",
       "max": 20000.0,
       "min": 0.0,
       "orientation": "horizontal",
       "style": "IPY_MODEL_59f5dc1610044de7b98ec04826b2b065",
       "value": 20000.0
      }
     },
     "a569580c248e466c979c84e64f92a38b": {
      "model_module": "@jupyter-widgets/controls",
      "model_module_version": "1.5.0",
      "model_name": "FloatProgressModel",
      "state": {
       "_dom_classes": [],
       "_model_module": "@jupyter-widgets/controls",
       "_model_module_version": "1.5.0",
       "_model_name": "FloatProgressModel",
       "_view_count": null,
       "_view_module": "@jupyter-widgets/controls",
       "_view_module_version": "1.5.0",
       "_view_name": "ProgressView",
       "bar_style": "success",
       "description": "",
       "description_tooltip": null,
       "layout": "IPY_MODEL_70cd5a9ab09b4a8aba6efc640a70428a",
       "max": 100.0,
       "min": 0.0,
       "orientation": "horizontal",
       "style": "IPY_MODEL_90b024babae54513bfb6231a40f86f77",
       "value": 100.0
      }
     },
     "a6fd294e43cb461490db4bf79d8a519e": {
      "model_module": "@jupyter-widgets/controls",
      "model_module_version": "1.5.0",
      "model_name": "FloatProgressModel",
      "state": {
       "_dom_classes": [],
       "_model_module": "@jupyter-widgets/controls",
       "_model_module_version": "1.5.0",
       "_model_name": "FloatProgressModel",
       "_view_count": null,
       "_view_module": "@jupyter-widgets/controls",
       "_view_module_version": "1.5.0",
       "_view_name": "ProgressView",
       "bar_style": "success",
       "description": "",
       "description_tooltip": null,
       "layout": "IPY_MODEL_d91bb4763e7d49ef84938bebcdb7809a",
       "max": 119.0,
       "min": 0.0,
       "orientation": "horizontal",
       "style": "IPY_MODEL_69ecc38f698340c0bd0526fe78364eee",
       "value": 119.0
      }
     },
     "a718f9e080fc440090786d781927b508": {
      "model_module": "@jupyter-widgets/controls",
      "model_module_version": "1.5.0",
      "model_name": "DescriptionStyleModel",
      "state": {
       "_model_module": "@jupyter-widgets/controls",
       "_model_module_version": "1.5.0",
       "_model_name": "DescriptionStyleModel",
       "_view_count": null,
       "_view_module": "@jupyter-widgets/base",
       "_view_module_version": "1.2.0",
       "_view_name": "StyleView",
       "description_width": ""
      }
     },
     "a74f138446c54b14bfb20f03edc41bd4": {
      "model_module": "@jupyter-widgets/controls",
      "model_module_version": "1.5.0",
      "model_name": "FloatProgressModel",
      "state": {
       "_dom_classes": [],
       "_model_module": "@jupyter-widgets/controls",
       "_model_module_version": "1.5.0",
       "_model_name": "FloatProgressModel",
       "_view_count": null,
       "_view_module": "@jupyter-widgets/controls",
       "_view_module_version": "1.5.0",
       "_view_name": "ProgressView",
       "bar_style": "success",
       "description": "",
       "description_tooltip": null,
       "layout": "IPY_MODEL_d45b31daa83844b3ae4a7af5c470b1a8",
       "max": 528316.0,
       "min": 0.0,
       "orientation": "horizontal",
       "style": "IPY_MODEL_e16202bfe85f485499d27ab6874fe806",
       "value": 528316.0
      }
     },
     "a7ff7c7ff4024fa091d7fdb53086beb1": {
      "model_module": "@jupyter-widgets/controls",
      "model_module_version": "1.5.0",
      "model_name": "HTMLModel",
      "state": {
       "_dom_classes": [],
       "_model_module": "@jupyter-widgets/controls",
       "_model_module_version": "1.5.0",
       "_model_name": "HTMLModel",
       "_view_count": null,
       "_view_module": "@jupyter-widgets/controls",
       "_view_module_version": "1.5.0",
       "_view_name": "HTMLView",
       "description": "",
       "description_tooltip": null,
       "layout": "IPY_MODEL_c061984965eb41319b65642271906839",
       "placeholder": "​",
       "style": "IPY_MODEL_a97df8d117f24967aefadbb1942f9613",
       "value": "config.json: 100%"
      }
     },
     "a97df8d117f24967aefadbb1942f9613": {
      "model_module": "@jupyter-widgets/controls",
      "model_module_version": "1.5.0",
      "model_name": "DescriptionStyleModel",
      "state": {
       "_model_module": "@jupyter-widgets/controls",
       "_model_module_version": "1.5.0",
       "_model_name": "DescriptionStyleModel",
       "_view_count": null,
       "_view_module": "@jupyter-widgets/base",
       "_view_module_version": "1.2.0",
       "_view_name": "StyleView",
       "description_width": ""
      }
     },
     "a9f407f734ee4945b6c3b22c870834a2": {
      "model_module": "@jupyter-widgets/controls",
      "model_module_version": "1.5.0",
      "model_name": "HBoxModel",
      "state": {
       "_dom_classes": [],
       "_model_module": "@jupyter-widgets/controls",
       "_model_module_version": "1.5.0",
       "_model_name": "HBoxModel",
       "_view_count": null,
       "_view_module": "@jupyter-widgets/controls",
       "_view_module_version": "1.5.0",
       "_view_name": "HBoxView",
       "box_style": "",
       "children": [
        "IPY_MODEL_9f1d9979f7ce4ec48e1fbf2118ca1a69",
        "IPY_MODEL_a34bfaddb92749e2be485ff5517c6885",
        "IPY_MODEL_75cb1cbb81234d24ad2c4d648291516f"
       ],
       "layout": "IPY_MODEL_367033d468884e818ed13cd270bcac1b"
      }
     },
     "aa1a3b82140e4d2fa494b214dbbadb5c": {
      "model_module": "@jupyter-widgets/controls",
      "model_module_version": "1.5.0",
      "model_name": "HTMLModel",
      "state": {
       "_dom_classes": [],
       "_model_module": "@jupyter-widgets/controls",
       "_model_module_version": "1.5.0",
       "_model_name": "HTMLModel",
       "_view_count": null,
       "_view_module": "@jupyter-widgets/controls",
       "_view_module_version": "1.5.0",
       "_view_name": "HTMLView",
       "description": "",
       "description_tooltip": null,
       "layout": "IPY_MODEL_e9617b3c135e46119d9b4f027519e43e",
       "placeholder": "​",
       "style": "IPY_MODEL_385ab779833c47739a1e26295a281963",
       "value": "config.json: 100%"
      }
     },
     "acae5138d80f4bf68e1cfa6e0bd6b6c6": {
      "model_module": "@jupyter-widgets/controls",
      "model_module_version": "1.5.0",
      "model_name": "ProgressStyleModel",
      "state": {
       "_model_module": "@jupyter-widgets/controls",
       "_model_module_version": "1.5.0",
       "_model_name": "ProgressStyleModel",
       "_view_count": null,
       "_view_module": "@jupyter-widgets/base",
       "_view_module_version": "1.2.0",
       "_view_name": "StyleView",
       "bar_color": null,
       "description_width": ""
      }
     },
     "acbda2b918164a18a8e6dd6b962a8093": {
      "model_module": "@jupyter-widgets/base",
      "model_module_version": "1.2.0",
      "model_name": "LayoutModel",
      "state": {
       "_model_module": "@jupyter-widgets/base",
       "_model_module_version": "1.2.0",
       "_model_name": "LayoutModel",
       "_view_count": null,
       "_view_module": "@jupyter-widgets/base",
       "_view_module_version": "1.2.0",
       "_view_name": "LayoutView",
       "align_content": null,
       "align_items": null,
       "align_self": null,
       "border": null,
       "bottom": null,
       "display": null,
       "flex": null,
       "flex_flow": null,
       "grid_area": null,
       "grid_auto_columns": null,
       "grid_auto_flow": null,
       "grid_auto_rows": null,
       "grid_column": null,
       "grid_gap": null,
       "grid_row": null,
       "grid_template_areas": null,
       "grid_template_columns": null,
       "grid_template_rows": null,
       "height": null,
       "justify_content": null,
       "justify_items": null,
       "left": null,
       "margin": null,
       "max_height": null,
       "max_width": null,
       "min_height": null,
       "min_width": null,
       "object_fit": null,
       "object_position": null,
       "order": null,
       "overflow": null,
       "overflow_x": null,
       "overflow_y": null,
       "padding": null,
       "right": null,
       "top": null,
       "visibility": null,
       "width": null
      }
     },
     "ae1bdef95ba2418db07e3130b368c04e": {
      "model_module": "@jupyter-widgets/controls",
      "model_module_version": "1.5.0",
      "model_name": "DescriptionStyleModel",
      "state": {
       "_model_module": "@jupyter-widgets/controls",
       "_model_module_version": "1.5.0",
       "_model_name": "DescriptionStyleModel",
       "_view_count": null,
       "_view_module": "@jupyter-widgets/base",
       "_view_module_version": "1.2.0",
       "_view_name": "StyleView",
       "description_width": ""
      }
     },
     "afb32ff13e0c464d99d2c1cde86ba1df": {
      "model_module": "@jupyter-widgets/controls",
      "model_module_version": "1.5.0",
      "model_name": "HTMLModel",
      "state": {
       "_dom_classes": [],
       "_model_module": "@jupyter-widgets/controls",
       "_model_module_version": "1.5.0",
       "_model_name": "HTMLModel",
       "_view_count": null,
       "_view_module": "@jupyter-widgets/controls",
       "_view_module_version": "1.5.0",
       "_view_name": "HTMLView",
       "description": "",
       "description_tooltip": null,
       "layout": "IPY_MODEL_9878fd642e5340acb6ebe1b721eb37b0",
       "placeholder": "​",
       "style": "IPY_MODEL_977d410475ca441a96b900ccf95cf2b0",
       "value": "special_tokens_map.json: 100%"
      }
     },
     "b1390eafbd904fe98d329e1382730122": {
      "model_module": "@jupyter-widgets/controls",
      "model_module_version": "1.5.0",
      "model_name": "FloatProgressModel",
      "state": {
       "_dom_classes": [],
       "_model_module": "@jupyter-widgets/controls",
       "_model_module_version": "1.5.0",
       "_model_name": "FloatProgressModel",
       "_view_count": null,
       "_view_module": "@jupyter-widgets/controls",
       "_view_module_version": "1.5.0",
       "_view_name": "ProgressView",
       "bar_style": "success",
       "description": "",
       "description_tooltip": null,
       "layout": "IPY_MODEL_c94b7a2e91664f9bbc774fbd954bd023",
       "max": 1629437147.0,
       "min": 0.0,
       "orientation": "horizontal",
       "style": "IPY_MODEL_272a8fe0ec53416a8c69f033c5c4067a",
       "value": 1629437147.0
      }
     },
     "b466eb5425c041a7b00a58c20140b02b": {
      "model_module": "@jupyter-widgets/controls",
      "model_module_version": "1.5.0",
      "model_name": "DescriptionStyleModel",
      "state": {
       "_model_module": "@jupyter-widgets/controls",
       "_model_module_version": "1.5.0",
       "_model_name": "DescriptionStyleModel",
       "_view_count": null,
       "_view_module": "@jupyter-widgets/base",
       "_view_module_version": "1.2.0",
       "_view_name": "StyleView",
       "description_width": ""
      }
     },
     "b69282096d1b4aaca563fadcc65bdb53": {
      "model_module": "@jupyter-widgets/base",
      "model_module_version": "1.2.0",
      "model_name": "LayoutModel",
      "state": {
       "_model_module": "@jupyter-widgets/base",
       "_model_module_version": "1.2.0",
       "_model_name": "LayoutModel",
       "_view_count": null,
       "_view_module": "@jupyter-widgets/base",
       "_view_module_version": "1.2.0",
       "_view_name": "LayoutView",
       "align_content": null,
       "align_items": null,
       "align_self": null,
       "border": null,
       "bottom": null,
       "display": null,
       "flex": null,
       "flex_flow": null,
       "grid_area": null,
       "grid_auto_columns": null,
       "grid_auto_flow": null,
       "grid_auto_rows": null,
       "grid_column": null,
       "grid_gap": null,
       "grid_row": null,
       "grid_template_areas": null,
       "grid_template_columns": null,
       "grid_template_rows": null,
       "height": null,
       "justify_content": null,
       "justify_items": null,
       "left": null,
       "margin": null,
       "max_height": null,
       "max_width": null,
       "min_height": null,
       "min_width": null,
       "object_fit": null,
       "object_position": null,
       "order": null,
       "overflow": null,
       "overflow_x": null,
       "overflow_y": null,
       "padding": null,
       "right": null,
       "top": null,
       "visibility": null,
       "width": null
      }
     },
     "b7176a9025544116967c02960fdb85ed": {
      "model_module": "@jupyter-widgets/controls",
      "model_module_version": "1.5.0",
      "model_name": "HBoxModel",
      "state": {
       "_dom_classes": [],
       "_model_module": "@jupyter-widgets/controls",
       "_model_module_version": "1.5.0",
       "_model_name": "HBoxModel",
       "_view_count": null,
       "_view_module": "@jupyter-widgets/controls",
       "_view_module_version": "1.5.0",
       "_view_name": "HBoxView",
       "box_style": "",
       "children": [
        "IPY_MODEL_afb32ff13e0c464d99d2c1cde86ba1df",
        "IPY_MODEL_3abdfed4ad0e41c5b38a24fec1611bc5",
        "IPY_MODEL_f557d10e422444328b3b85e641ca38e3"
       ],
       "layout": "IPY_MODEL_2e21805a8ce64c19bb0e6a2937e088c2"
      }
     },
     "bb2d23c458d040ffb0af09d85b2aef1d": {
      "model_module": "@jupyter-widgets/controls",
      "model_module_version": "1.5.0",
      "model_name": "FloatProgressModel",
      "state": {
       "_dom_classes": [],
       "_model_module": "@jupyter-widgets/controls",
       "_model_module_version": "1.5.0",
       "_model_name": "FloatProgressModel",
       "_view_count": null,
       "_view_module": "@jupyter-widgets/controls",
       "_view_module_version": "1.5.0",
       "_view_name": "ProgressView",
       "bar_style": "success",
       "description": "",
       "description_tooltip": null,
       "layout": "IPY_MODEL_c362142040fb427f8f7244c93e213bb5",
       "max": 898822.0,
       "min": 0.0,
       "orientation": "horizontal",
       "style": "IPY_MODEL_cbedf81d1ab84d77b87a3be213318024",
       "value": 898822.0
      }
     },
     "bbd6c7e97ba24f27876629098f3d6601": {
      "model_module": "@jupyter-widgets/controls",
      "model_module_version": "1.5.0",
      "model_name": "HTMLModel",
      "state": {
       "_dom_classes": [],
       "_model_module": "@jupyter-widgets/controls",
       "_model_module_version": "1.5.0",
       "_model_name": "HTMLModel",
       "_view_count": null,
       "_view_module": "@jupyter-widgets/controls",
       "_view_module_version": "1.5.0",
       "_view_name": "HTMLView",
       "description": "",
       "description_tooltip": null,
       "layout": "IPY_MODEL_4ea7e3623f8949ddb993c5eaabd66556",
       "placeholder": "​",
       "style": "IPY_MODEL_2eae738928644af9b7ebda2888c1ac1c",
       "value": " 285/285 [00:00&lt;00:00, 20.8kB/s]"
      }
     },
     "bc55592bc9f544318a7822934fea4747": {
      "model_module": "@jupyter-widgets/base",
      "model_module_version": "1.2.0",
      "model_name": "LayoutModel",
      "state": {
       "_model_module": "@jupyter-widgets/base",
       "_model_module_version": "1.2.0",
       "_model_name": "LayoutModel",
       "_view_count": null,
       "_view_module": "@jupyter-widgets/base",
       "_view_module_version": "1.2.0",
       "_view_name": "LayoutView",
       "align_content": null,
       "align_items": null,
       "align_self": null,
       "border": null,
       "bottom": null,
       "display": null,
       "flex": null,
       "flex_flow": null,
       "grid_area": null,
       "grid_auto_columns": null,
       "grid_auto_flow": null,
       "grid_auto_rows": null,
       "grid_column": null,
       "grid_gap": null,
       "grid_row": null,
       "grid_template_areas": null,
       "grid_template_columns": null,
       "grid_template_rows": null,
       "height": null,
       "justify_content": null,
       "justify_items": null,
       "left": null,
       "margin": null,
       "max_height": null,
       "max_width": null,
       "min_height": null,
       "min_width": null,
       "object_fit": null,
       "object_position": null,
       "order": null,
       "overflow": null,
       "overflow_x": null,
       "overflow_y": null,
       "padding": null,
       "right": null,
       "top": null,
       "visibility": null,
       "width": null
      }
     },
     "bddcd20430a345efbc0b5bde649095f6": {
      "model_module": "@jupyter-widgets/base",
      "model_module_version": "1.2.0",
      "model_name": "LayoutModel",
      "state": {
       "_model_module": "@jupyter-widgets/base",
       "_model_module_version": "1.2.0",
       "_model_name": "LayoutModel",
       "_view_count": null,
       "_view_module": "@jupyter-widgets/base",
       "_view_module_version": "1.2.0",
       "_view_name": "LayoutView",
       "align_content": null,
       "align_items": null,
       "align_self": null,
       "border": null,
       "bottom": null,
       "display": null,
       "flex": null,
       "flex_flow": null,
       "grid_area": null,
       "grid_auto_columns": null,
       "grid_auto_flow": null,
       "grid_auto_rows": null,
       "grid_column": null,
       "grid_gap": null,
       "grid_row": null,
       "grid_template_areas": null,
       "grid_template_columns": null,
       "grid_template_rows": null,
       "height": null,
       "justify_content": null,
       "justify_items": null,
       "left": null,
       "margin": null,
       "max_height": null,
       "max_width": null,
       "min_height": null,
       "min_width": null,
       "object_fit": null,
       "object_position": null,
       "order": null,
       "overflow": null,
       "overflow_x": null,
       "overflow_y": null,
       "padding": null,
       "right": null,
       "top": null,
       "visibility": null,
       "width": null
      }
     },
     "bf30db6d858f4fd0b3ec64a4b4222e98": {
      "model_module": "@jupyter-widgets/controls",
      "model_module_version": "1.5.0",
      "model_name": "HTMLModel",
      "state": {
       "_dom_classes": [],
       "_model_module": "@jupyter-widgets/controls",
       "_model_module_version": "1.5.0",
       "_model_name": "HTMLModel",
       "_view_count": null,
       "_view_module": "@jupyter-widgets/controls",
       "_view_module_version": "1.5.0",
       "_view_name": "HTMLView",
       "description": "",
       "description_tooltip": null,
       "layout": "IPY_MODEL_fb7101fd88ef441ebb68d4560056da1e",
       "placeholder": "​",
       "style": "IPY_MODEL_630eb4ad0e27428aa71a87d84e1b6d3f",
       "value": " 456k/456k [00:00&lt;00:00, 18.4MB/s]"
      }
     },
     "c061984965eb41319b65642271906839": {
      "model_module": "@jupyter-widgets/base",
      "model_module_version": "1.2.0",
      "model_name": "LayoutModel",
      "state": {
       "_model_module": "@jupyter-widgets/base",
       "_model_module_version": "1.2.0",
       "_model_name": "LayoutModel",
       "_view_count": null,
       "_view_module": "@jupyter-widgets/base",
       "_view_module_version": "1.2.0",
       "_view_name": "LayoutView",
       "align_content": null,
       "align_items": null,
       "align_self": null,
       "border": null,
       "bottom": null,
       "display": null,
       "flex": null,
       "flex_flow": null,
       "grid_area": null,
       "grid_auto_columns": null,
       "grid_auto_flow": null,
       "grid_auto_rows": null,
       "grid_column": null,
       "grid_gap": null,
       "grid_row": null,
       "grid_template_areas": null,
       "grid_template_columns": null,
       "grid_template_rows": null,
       "height": null,
       "justify_content": null,
       "justify_items": null,
       "left": null,
       "margin": null,
       "max_height": null,
       "max_width": null,
       "min_height": null,
       "min_width": null,
       "object_fit": null,
       "object_position": null,
       "order": null,
       "overflow": null,
       "overflow_x": null,
       "overflow_y": null,
       "padding": null,
       "right": null,
       "top": null,
       "visibility": null,
       "width": null
      }
     },
     "c0fa7444b3e34532913c2245d6b9d297": {
      "model_module": "@jupyter-widgets/controls",
      "model_module_version": "1.5.0",
      "model_name": "HTMLModel",
      "state": {
       "_dom_classes": [],
       "_model_module": "@jupyter-widgets/controls",
       "_model_module_version": "1.5.0",
       "_model_name": "HTMLModel",
       "_view_count": null,
       "_view_module": "@jupyter-widgets/controls",
       "_view_module_version": "1.5.0",
       "_view_name": "HTMLView",
       "description": "",
       "description_tooltip": null,
       "layout": "IPY_MODEL_6ef8f9dc9e6f4e34b1a21bbbbd9b6a5c",
       "placeholder": "​",
       "style": "IPY_MODEL_9ff67da8fa464608bb8a231cfec59cc9",
       "value": " 112/112 [00:00&lt;00:00, 7.18kB/s]"
      }
     },
     "c31a8fca2f5f40e18d902e95a7a783e8": {
      "model_module": "@jupyter-widgets/controls",
      "model_module_version": "1.5.0",
      "model_name": "HTMLModel",
      "state": {
       "_dom_classes": [],
       "_model_module": "@jupyter-widgets/controls",
       "_model_module_version": "1.5.0",
       "_model_name": "HTMLModel",
       "_view_count": null,
       "_view_module": "@jupyter-widgets/controls",
       "_view_module_version": "1.5.0",
       "_view_name": "HTMLView",
       "description": "",
       "description_tooltip": null,
       "layout": "IPY_MODEL_053969c84055466ebeb0fcb33a4fdcb9",
       "placeholder": "​",
       "style": "IPY_MODEL_ff928593fd7f4e0f8b8900a40192d3c2",
       "value": "model.safetensors: 100%"
      }
     },
     "c362142040fb427f8f7244c93e213bb5": {
      "model_module": "@jupyter-widgets/base",
      "model_module_version": "1.2.0",
      "model_name": "LayoutModel",
      "state": {
       "_model_module": "@jupyter-widgets/base",
       "_model_module_version": "1.2.0",
       "_model_name": "LayoutModel",
       "_view_count": null,
       "_view_module": "@jupyter-widgets/base",
       "_view_module_version": "1.2.0",
       "_view_name": "LayoutView",
       "align_content": null,
       "align_items": null,
       "align_self": null,
       "border": null,
       "bottom": null,
       "display": null,
       "flex": null,
       "flex_flow": null,
       "grid_area": null,
       "grid_auto_columns": null,
       "grid_auto_flow": null,
       "grid_auto_rows": null,
       "grid_column": null,
       "grid_gap": null,
       "grid_row": null,
       "grid_template_areas": null,
       "grid_template_columns": null,
       "grid_template_rows": null,
       "height": null,
       "justify_content": null,
       "justify_items": null,
       "left": null,
       "margin": null,
       "max_height": null,
       "max_width": null,
       "min_height": null,
       "min_width": null,
       "object_fit": null,
       "object_position": null,
       "order": null,
       "overflow": null,
       "overflow_x": null,
       "overflow_y": null,
       "padding": null,
       "right": null,
       "top": null,
       "visibility": null,
       "width": null
      }
     },
     "c3cdd29f46004728857db3404f811cf5": {
      "model_module": "@jupyter-widgets/controls",
      "model_module_version": "1.5.0",
      "model_name": "HBoxModel",
      "state": {
       "_dom_classes": [],
       "_model_module": "@jupyter-widgets/controls",
       "_model_module_version": "1.5.0",
       "_model_name": "HBoxModel",
       "_view_count": null,
       "_view_module": "@jupyter-widgets/controls",
       "_view_module_version": "1.5.0",
       "_view_name": "HBoxView",
       "box_style": "",
       "children": [
        "IPY_MODEL_ffab5f82d7ad40f1bca97ba4a128b68a",
        "IPY_MODEL_0283fd6d4e784c608ee6ef95ae0297db",
        "IPY_MODEL_43bade390ccc412db6faca09b446aefd"
       ],
       "layout": "IPY_MODEL_06cdf18414d7497db37a9bd599a3c214"
      }
     },
     "c459fc3b4661444db93c72f3b6e1f709": {
      "model_module": "@jupyter-widgets/base",
      "model_module_version": "1.2.0",
      "model_name": "LayoutModel",
      "state": {
       "_model_module": "@jupyter-widgets/base",
       "_model_module_version": "1.2.0",
       "_model_name": "LayoutModel",
       "_view_count": null,
       "_view_module": "@jupyter-widgets/base",
       "_view_module_version": "1.2.0",
       "_view_name": "LayoutView",
       "align_content": null,
       "align_items": null,
       "align_self": null,
       "border": null,
       "bottom": null,
       "display": null,
       "flex": null,
       "flex_flow": null,
       "grid_area": null,
       "grid_auto_columns": null,
       "grid_auto_flow": null,
       "grid_auto_rows": null,
       "grid_column": null,
       "grid_gap": null,
       "grid_row": null,
       "grid_template_areas": null,
       "grid_template_columns": null,
       "grid_template_rows": null,
       "height": null,
       "justify_content": null,
       "justify_items": null,
       "left": null,
       "margin": null,
       "max_height": null,
       "max_width": null,
       "min_height": null,
       "min_width": null,
       "object_fit": null,
       "object_position": null,
       "order": null,
       "overflow": null,
       "overflow_x": null,
       "overflow_y": null,
       "padding": null,
       "right": null,
       "top": null,
       "visibility": null,
       "width": null
      }
     },
     "c7716fe900d141a98bab00dcd248c9e7": {
      "model_module": "@jupyter-widgets/controls",
      "model_module_version": "1.5.0",
      "model_name": "ProgressStyleModel",
      "state": {
       "_model_module": "@jupyter-widgets/controls",
       "_model_module_version": "1.5.0",
       "_model_name": "ProgressStyleModel",
       "_view_count": null,
       "_view_module": "@jupyter-widgets/base",
       "_view_module_version": "1.2.0",
       "_view_name": "StyleView",
       "bar_color": null,
       "description_width": ""
      }
     },
     "c89561fa785b4a2db3fa103da251804f": {
      "model_module": "@jupyter-widgets/controls",
      "model_module_version": "1.5.0",
      "model_name": "DescriptionStyleModel",
      "state": {
       "_model_module": "@jupyter-widgets/controls",
       "_model_module_version": "1.5.0",
       "_model_name": "DescriptionStyleModel",
       "_view_count": null,
       "_view_module": "@jupyter-widgets/base",
       "_view_module_version": "1.2.0",
       "_view_name": "StyleView",
       "description_width": ""
      }
     },
     "c8e716a22a1e4893990f4e7006035790": {
      "model_module": "@jupyter-widgets/controls",
      "model_module_version": "1.5.0",
      "model_name": "ProgressStyleModel",
      "state": {
       "_model_module": "@jupyter-widgets/controls",
       "_model_module_version": "1.5.0",
       "_model_name": "ProgressStyleModel",
       "_view_count": null,
       "_view_module": "@jupyter-widgets/base",
       "_view_module_version": "1.2.0",
       "_view_name": "StyleView",
       "bar_color": null,
       "description_width": ""
      }
     },
     "c94b7a2e91664f9bbc774fbd954bd023": {
      "model_module": "@jupyter-widgets/base",
      "model_module_version": "1.2.0",
      "model_name": "LayoutModel",
      "state": {
       "_model_module": "@jupyter-widgets/base",
       "_model_module_version": "1.2.0",
       "_model_name": "LayoutModel",
       "_view_count": null,
       "_view_module": "@jupyter-widgets/base",
       "_view_module_version": "1.2.0",
       "_view_name": "LayoutView",
       "align_content": null,
       "align_items": null,
       "align_self": null,
       "border": null,
       "bottom": null,
       "display": null,
       "flex": null,
       "flex_flow": null,
       "grid_area": null,
       "grid_auto_columns": null,
       "grid_auto_flow": null,
       "grid_auto_rows": null,
       "grid_column": null,
       "grid_gap": null,
       "grid_row": null,
       "grid_template_areas": null,
       "grid_template_columns": null,
       "grid_template_rows": null,
       "height": null,
       "justify_content": null,
       "justify_items": null,
       "left": null,
       "margin": null,
       "max_height": null,
       "max_width": null,
       "min_height": null,
       "min_width": null,
       "object_fit": null,
       "object_position": null,
       "order": null,
       "overflow": null,
       "overflow_x": null,
       "overflow_y": null,
       "padding": null,
       "right": null,
       "top": null,
       "visibility": null,
       "width": null
      }
     },
     "cb9f7c7888a14039b48003031ce62b7d": {
      "model_module": "@jupyter-widgets/base",
      "model_module_version": "1.2.0",
      "model_name": "LayoutModel",
      "state": {
       "_model_module": "@jupyter-widgets/base",
       "_model_module_version": "1.2.0",
       "_model_name": "LayoutModel",
       "_view_count": null,
       "_view_module": "@jupyter-widgets/base",
       "_view_module_version": "1.2.0",
       "_view_name": "LayoutView",
       "align_content": null,
       "align_items": null,
       "align_self": null,
       "border": null,
       "bottom": null,
       "display": null,
       "flex": null,
       "flex_flow": null,
       "grid_area": null,
       "grid_auto_columns": null,
       "grid_auto_flow": null,
       "grid_auto_rows": null,
       "grid_column": null,
       "grid_gap": null,
       "grid_row": null,
       "grid_template_areas": null,
       "grid_template_columns": null,
       "grid_template_rows": null,
       "height": null,
       "justify_content": null,
       "justify_items": null,
       "left": null,
       "margin": null,
       "max_height": null,
       "max_width": null,
       "min_height": null,
       "min_width": null,
       "object_fit": null,
       "object_position": null,
       "order": null,
       "overflow": null,
       "overflow_x": null,
       "overflow_y": null,
       "padding": null,
       "right": null,
       "top": null,
       "visibility": null,
       "width": null
      }
     },
     "cbedf81d1ab84d77b87a3be213318024": {
      "model_module": "@jupyter-widgets/controls",
      "model_module_version": "1.5.0",
      "model_name": "ProgressStyleModel",
      "state": {
       "_model_module": "@jupyter-widgets/controls",
       "_model_module_version": "1.5.0",
       "_model_name": "ProgressStyleModel",
       "_view_count": null,
       "_view_module": "@jupyter-widgets/base",
       "_view_module_version": "1.2.0",
       "_view_name": "StyleView",
       "bar_color": null,
       "description_width": ""
      }
     },
     "cea6550221e84c59b54dedb29655ea20": {
      "model_module": "@jupyter-widgets/base",
      "model_module_version": "1.2.0",
      "model_name": "LayoutModel",
      "state": {
       "_model_module": "@jupyter-widgets/base",
       "_model_module_version": "1.2.0",
       "_model_name": "LayoutModel",
       "_view_count": null,
       "_view_module": "@jupyter-widgets/base",
       "_view_module_version": "1.2.0",
       "_view_name": "LayoutView",
       "align_content": null,
       "align_items": null,
       "align_self": null,
       "border": null,
       "bottom": null,
       "display": null,
       "flex": null,
       "flex_flow": null,
       "grid_area": null,
       "grid_auto_columns": null,
       "grid_auto_flow": null,
       "grid_auto_rows": null,
       "grid_column": null,
       "grid_gap": null,
       "grid_row": null,
       "grid_template_areas": null,
       "grid_template_columns": null,
       "grid_template_rows": null,
       "height": null,
       "justify_content": null,
       "justify_items": null,
       "left": null,
       "margin": null,
       "max_height": null,
       "max_width": null,
       "min_height": null,
       "min_width": null,
       "object_fit": null,
       "object_position": null,
       "order": null,
       "overflow": null,
       "overflow_x": null,
       "overflow_y": null,
       "padding": null,
       "right": null,
       "top": null,
       "visibility": null,
       "width": null
      }
     },
     "ceba3185315640be9eb55ff2d7a346d4": {
      "model_module": "@jupyter-widgets/controls",
      "model_module_version": "1.5.0",
      "model_name": "ProgressStyleModel",
      "state": {
       "_model_module": "@jupyter-widgets/controls",
       "_model_module_version": "1.5.0",
       "_model_name": "ProgressStyleModel",
       "_view_count": null,
       "_view_module": "@jupyter-widgets/base",
       "_view_module_version": "1.2.0",
       "_view_name": "StyleView",
       "bar_color": null,
       "description_width": ""
      }
     },
     "ced1e216edef48a58d7f1fad8ec3d99d": {
      "model_module": "@jupyter-widgets/controls",
      "model_module_version": "1.5.0",
      "model_name": "HTMLModel",
      "state": {
       "_dom_classes": [],
       "_model_module": "@jupyter-widgets/controls",
       "_model_module_version": "1.5.0",
       "_model_name": "HTMLModel",
       "_view_count": null,
       "_view_module": "@jupyter-widgets/controls",
       "_view_module_version": "1.5.0",
       "_view_name": "HTMLView",
       "description": "",
       "description_tooltip": null,
       "layout": "IPY_MODEL_e9add142b58242108d21539a7dcba20f",
       "placeholder": "​",
       "style": "IPY_MODEL_4927791392164ae2ac203a8ec70a062c",
       "value": " 20000/20000 [05:14&lt;00:00, 64.41it/s]"
      }
     },
     "cef76dd4b7de46b488fb36503886ee3f": {
      "model_module": "@jupyter-widgets/controls",
      "model_module_version": "1.5.0",
      "model_name": "DescriptionStyleModel",
      "state": {
       "_model_module": "@jupyter-widgets/controls",
       "_model_module_version": "1.5.0",
       "_model_name": "DescriptionStyleModel",
       "_view_count": null,
       "_view_module": "@jupyter-widgets/base",
       "_view_module_version": "1.2.0",
       "_view_name": "StyleView",
       "description_width": ""
      }
     },
     "cfe4e9cf52c841b0b2bd6e432b31b364": {
      "model_module": "@jupyter-widgets/base",
      "model_module_version": "1.2.0",
      "model_name": "LayoutModel",
      "state": {
       "_model_module": "@jupyter-widgets/base",
       "_model_module_version": "1.2.0",
       "_model_name": "LayoutModel",
       "_view_count": null,
       "_view_module": "@jupyter-widgets/base",
       "_view_module_version": "1.2.0",
       "_view_name": "LayoutView",
       "align_content": null,
       "align_items": null,
       "align_self": null,
       "border": null,
       "bottom": null,
       "display": null,
       "flex": null,
       "flex_flow": null,
       "grid_area": null,
       "grid_auto_columns": null,
       "grid_auto_flow": null,
       "grid_auto_rows": null,
       "grid_column": null,
       "grid_gap": null,
       "grid_row": null,
       "grid_template_areas": null,
       "grid_template_columns": null,
       "grid_template_rows": null,
       "height": null,
       "justify_content": null,
       "justify_items": null,
       "left": null,
       "margin": null,
       "max_height": null,
       "max_width": null,
       "min_height": null,
       "min_width": null,
       "object_fit": null,
       "object_position": null,
       "order": null,
       "overflow": null,
       "overflow_x": null,
       "overflow_y": null,
       "padding": null,
       "right": null,
       "top": null,
       "visibility": null,
       "width": null
      }
     },
     "cff5c56ccf004b15b4035807a02c5f28": {
      "model_module": "@jupyter-widgets/controls",
      "model_module_version": "1.5.0",
      "model_name": "DescriptionStyleModel",
      "state": {
       "_model_module": "@jupyter-widgets/controls",
       "_model_module_version": "1.5.0",
       "_model_name": "DescriptionStyleModel",
       "_view_count": null,
       "_view_module": "@jupyter-widgets/base",
       "_view_module_version": "1.2.0",
       "_view_name": "StyleView",
       "description_width": ""
      }
     },
     "d029d38222794d25bca64462695cd9c7": {
      "model_module": "@jupyter-widgets/controls",
      "model_module_version": "1.5.0",
      "model_name": "HBoxModel",
      "state": {
       "_dom_classes": [],
       "_model_module": "@jupyter-widgets/controls",
       "_model_module_version": "1.5.0",
       "_model_name": "HBoxModel",
       "_view_count": null,
       "_view_module": "@jupyter-widgets/controls",
       "_view_module_version": "1.5.0",
       "_view_name": "HBoxView",
       "box_style": "",
       "children": [
        "IPY_MODEL_09e3e60c95e94132bbf5b7b9ea288546",
        "IPY_MODEL_35d0acf9f4594537a9e2ebf66866a71f",
        "IPY_MODEL_ced1e216edef48a58d7f1fad8ec3d99d"
       ],
       "layout": "IPY_MODEL_3a3b677a8dbf45808e8d4eef6045394f"
      }
     },
     "d0cd5e4c58b641259d6a9fb84f6d0210": {
      "model_module": "@jupyter-widgets/base",
      "model_module_version": "1.2.0",
      "model_name": "LayoutModel",
      "state": {
       "_model_module": "@jupyter-widgets/base",
       "_model_module_version": "1.2.0",
       "_model_name": "LayoutModel",
       "_view_count": null,
       "_view_module": "@jupyter-widgets/base",
       "_view_module_version": "1.2.0",
       "_view_name": "LayoutView",
       "align_content": null,
       "align_items": null,
       "align_self": null,
       "border": null,
       "bottom": null,
       "display": null,
       "flex": null,
       "flex_flow": null,
       "grid_area": null,
       "grid_auto_columns": null,
       "grid_auto_flow": null,
       "grid_auto_rows": null,
       "grid_column": null,
       "grid_gap": null,
       "grid_row": null,
       "grid_template_areas": null,
       "grid_template_columns": null,
       "grid_template_rows": null,
       "height": null,
       "justify_content": null,
       "justify_items": null,
       "left": null,
       "margin": null,
       "max_height": null,
       "max_width": null,
       "min_height": null,
       "min_width": null,
       "object_fit": null,
       "object_position": null,
       "order": null,
       "overflow": null,
       "overflow_x": null,
       "overflow_y": null,
       "padding": null,
       "right": null,
       "top": null,
       "visibility": null,
       "width": null
      }
     },
     "d31ebc67a6ac4c6e9c8d0a35ea062282": {
      "model_module": "@jupyter-widgets/base",
      "model_module_version": "1.2.0",
      "model_name": "LayoutModel",
      "state": {
       "_model_module": "@jupyter-widgets/base",
       "_model_module_version": "1.2.0",
       "_model_name": "LayoutModel",
       "_view_count": null,
       "_view_module": "@jupyter-widgets/base",
       "_view_module_version": "1.2.0",
       "_view_name": "LayoutView",
       "align_content": null,
       "align_items": null,
       "align_self": null,
       "border": null,
       "bottom": null,
       "display": null,
       "flex": null,
       "flex_flow": null,
       "grid_area": null,
       "grid_auto_columns": null,
       "grid_auto_flow": null,
       "grid_auto_rows": null,
       "grid_column": null,
       "grid_gap": null,
       "grid_row": null,
       "grid_template_areas": null,
       "grid_template_columns": null,
       "grid_template_rows": null,
       "height": null,
       "justify_content": null,
       "justify_items": null,
       "left": null,
       "margin": null,
       "max_height": null,
       "max_width": null,
       "min_height": null,
       "min_width": null,
       "object_fit": null,
       "object_position": null,
       "order": null,
       "overflow": null,
       "overflow_x": null,
       "overflow_y": null,
       "padding": null,
       "right": null,
       "top": null,
       "visibility": null,
       "width": null
      }
     },
     "d45b31daa83844b3ae4a7af5c470b1a8": {
      "model_module": "@jupyter-widgets/base",
      "model_module_version": "1.2.0",
      "model_name": "LayoutModel",
      "state": {
       "_model_module": "@jupyter-widgets/base",
       "_model_module_version": "1.2.0",
       "_model_name": "LayoutModel",
       "_view_count": null,
       "_view_module": "@jupyter-widgets/base",
       "_view_module_version": "1.2.0",
       "_view_name": "LayoutView",
       "align_content": null,
       "align_items": null,
       "align_self": null,
       "border": null,
       "bottom": null,
       "display": null,
       "flex": null,
       "flex_flow": null,
       "grid_area": null,
       "grid_auto_columns": null,
       "grid_auto_flow": null,
       "grid_auto_rows": null,
       "grid_column": null,
       "grid_gap": null,
       "grid_row": null,
       "grid_template_areas": null,
       "grid_template_columns": null,
       "grid_template_rows": null,
       "height": null,
       "justify_content": null,
       "justify_items": null,
       "left": null,
       "margin": null,
       "max_height": null,
       "max_width": null,
       "min_height": null,
       "min_width": null,
       "object_fit": null,
       "object_position": null,
       "order": null,
       "overflow": null,
       "overflow_x": null,
       "overflow_y": null,
       "padding": null,
       "right": null,
       "top": null,
       "visibility": null,
       "width": null
      }
     },
     "d544baea3b1d4e81a951e3071c9a509c": {
      "model_module": "@jupyter-widgets/controls",
      "model_module_version": "1.5.0",
      "model_name": "DescriptionStyleModel",
      "state": {
       "_model_module": "@jupyter-widgets/controls",
       "_model_module_version": "1.5.0",
       "_model_name": "DescriptionStyleModel",
       "_view_count": null,
       "_view_module": "@jupyter-widgets/base",
       "_view_module_version": "1.2.0",
       "_view_name": "StyleView",
       "description_width": ""
      }
     },
     "d713ad6d8ae748da9e79d3b55ff4365d": {
      "model_module": "@jupyter-widgets/controls",
      "model_module_version": "1.5.0",
      "model_name": "HTMLModel",
      "state": {
       "_dom_classes": [],
       "_model_module": "@jupyter-widgets/controls",
       "_model_module_version": "1.5.0",
       "_model_name": "HTMLModel",
       "_view_count": null,
       "_view_module": "@jupyter-widgets/controls",
       "_view_module_version": "1.5.0",
       "_view_name": "HTMLView",
       "description": "",
       "description_tooltip": null,
       "layout": "IPY_MODEL_f651ddc9d3ff489abcb393819b1ee0c7",
       "placeholder": "​",
       "style": "IPY_MODEL_18ea315659464b1aa224c66d751b5c71",
       "value": " 1.63G/1.63G [00:08&lt;00:00, 195MB/s]"
      }
     },
     "d827df50d09c45e0b8012652c2e09904": {
      "model_module": "@jupyter-widgets/base",
      "model_module_version": "1.2.0",
      "model_name": "LayoutModel",
      "state": {
       "_model_module": "@jupyter-widgets/base",
       "_model_module_version": "1.2.0",
       "_model_name": "LayoutModel",
       "_view_count": null,
       "_view_module": "@jupyter-widgets/base",
       "_view_module_version": "1.2.0",
       "_view_name": "LayoutView",
       "align_content": null,
       "align_items": null,
       "align_self": null,
       "border": null,
       "bottom": null,
       "display": null,
       "flex": null,
       "flex_flow": null,
       "grid_area": null,
       "grid_auto_columns": null,
       "grid_auto_flow": null,
       "grid_auto_rows": null,
       "grid_column": null,
       "grid_gap": null,
       "grid_row": null,
       "grid_template_areas": null,
       "grid_template_columns": null,
       "grid_template_rows": null,
       "height": null,
       "justify_content": null,
       "justify_items": null,
       "left": null,
       "margin": null,
       "max_height": null,
       "max_width": null,
       "min_height": null,
       "min_width": null,
       "object_fit": null,
       "object_position": null,
       "order": null,
       "overflow": null,
       "overflow_x": null,
       "overflow_y": null,
       "padding": null,
       "right": null,
       "top": null,
       "visibility": null,
       "width": null
      }
     },
     "d8556f89a77d4dc98a198ac9ba77fa51": {
      "model_module": "@jupyter-widgets/controls",
      "model_module_version": "1.5.0",
      "model_name": "HTMLModel",
      "state": {
       "_dom_classes": [],
       "_model_module": "@jupyter-widgets/controls",
       "_model_module_version": "1.5.0",
       "_model_name": "HTMLModel",
       "_view_count": null,
       "_view_module": "@jupyter-widgets/controls",
       "_view_module_version": "1.5.0",
       "_view_name": "HTMLView",
       "description": "",
       "description_tooltip": null,
       "layout": "IPY_MODEL_1cf3861c98c54a47bbd0352dfe3d7728",
       "placeholder": "​",
       "style": "IPY_MODEL_c89561fa785b4a2db3fa103da251804f",
       "value": "tokenizer_config.json: 100%"
      }
     },
     "d8c88b8324974d74bd83db6c5233279a": {
      "model_module": "@jupyter-widgets/base",
      "model_module_version": "1.2.0",
      "model_name": "LayoutModel",
      "state": {
       "_model_module": "@jupyter-widgets/base",
       "_model_module_version": "1.2.0",
       "_model_name": "LayoutModel",
       "_view_count": null,
       "_view_module": "@jupyter-widgets/base",
       "_view_module_version": "1.2.0",
       "_view_name": "LayoutView",
       "align_content": null,
       "align_items": null,
       "align_self": null,
       "border": null,
       "bottom": null,
       "display": null,
       "flex": null,
       "flex_flow": null,
       "grid_area": null,
       "grid_auto_columns": null,
       "grid_auto_flow": null,
       "grid_auto_rows": null,
       "grid_column": null,
       "grid_gap": null,
       "grid_row": null,
       "grid_template_areas": null,
       "grid_template_columns": null,
       "grid_template_rows": null,
       "height": null,
       "justify_content": null,
       "justify_items": null,
       "left": null,
       "margin": null,
       "max_height": null,
       "max_width": null,
       "min_height": null,
       "min_width": null,
       "object_fit": null,
       "object_position": null,
       "order": null,
       "overflow": null,
       "overflow_x": null,
       "overflow_y": null,
       "padding": null,
       "right": null,
       "top": null,
       "visibility": null,
       "width": null
      }
     },
     "d91bb4763e7d49ef84938bebcdb7809a": {
      "model_module": "@jupyter-widgets/base",
      "model_module_version": "1.2.0",
      "model_name": "LayoutModel",
      "state": {
       "_model_module": "@jupyter-widgets/base",
       "_model_module_version": "1.2.0",
       "_model_name": "LayoutModel",
       "_view_count": null,
       "_view_module": "@jupyter-widgets/base",
       "_view_module_version": "1.2.0",
       "_view_name": "LayoutView",
       "align_content": null,
       "align_items": null,
       "align_self": null,
       "border": null,
       "bottom": null,
       "display": null,
       "flex": null,
       "flex_flow": null,
       "grid_area": null,
       "grid_auto_columns": null,
       "grid_auto_flow": null,
       "grid_auto_rows": null,
       "grid_column": null,
       "grid_gap": null,
       "grid_row": null,
       "grid_template_areas": null,
       "grid_template_columns": null,
       "grid_template_rows": null,
       "height": null,
       "justify_content": null,
       "justify_items": null,
       "left": null,
       "margin": null,
       "max_height": null,
       "max_width": null,
       "min_height": null,
       "min_width": null,
       "object_fit": null,
       "object_position": null,
       "order": null,
       "overflow": null,
       "overflow_x": null,
       "overflow_y": null,
       "padding": null,
       "right": null,
       "top": null,
       "visibility": null,
       "width": null
      }
     },
     "dab239c750e44fdbbf001e04e7b3dee9": {
      "model_module": "@jupyter-widgets/controls",
      "model_module_version": "1.5.0",
      "model_name": "FloatProgressModel",
      "state": {
       "_dom_classes": [],
       "_model_module": "@jupyter-widgets/controls",
       "_model_module_version": "1.5.0",
       "_model_name": "FloatProgressModel",
       "_view_count": null,
       "_view_module": "@jupyter-widgets/controls",
       "_view_module_version": "1.5.0",
       "_view_name": "ProgressView",
       "bar_style": "success",
       "description": "",
       "description_tooltip": null,
       "layout": "IPY_MODEL_4631ea280e334e4c8a2cfe866e435e63",
       "max": 456318.0,
       "min": 0.0,
       "orientation": "horizontal",
       "style": "IPY_MODEL_3e344a2ace104de7abb73780a25918ee",
       "value": 456318.0
      }
     },
     "daeafc99356048f69fab20fdba14dd01": {
      "model_module": "@jupyter-widgets/base",
      "model_module_version": "1.2.0",
      "model_name": "LayoutModel",
      "state": {
       "_model_module": "@jupyter-widgets/base",
       "_model_module_version": "1.2.0",
       "_model_name": "LayoutModel",
       "_view_count": null,
       "_view_module": "@jupyter-widgets/base",
       "_view_module_version": "1.2.0",
       "_view_name": "LayoutView",
       "align_content": null,
       "align_items": null,
       "align_self": null,
       "border": null,
       "bottom": null,
       "display": null,
       "flex": null,
       "flex_flow": null,
       "grid_area": null,
       "grid_auto_columns": null,
       "grid_auto_flow": null,
       "grid_auto_rows": null,
       "grid_column": null,
       "grid_gap": null,
       "grid_row": null,
       "grid_template_areas": null,
       "grid_template_columns": null,
       "grid_template_rows": null,
       "height": null,
       "justify_content": null,
       "justify_items": null,
       "left": null,
       "margin": null,
       "max_height": null,
       "max_width": null,
       "min_height": null,
       "min_width": null,
       "object_fit": null,
       "object_position": null,
       "order": null,
       "overflow": null,
       "overflow_x": null,
       "overflow_y": null,
       "padding": null,
       "right": null,
       "top": null,
       "visibility": null,
       "width": null
      }
     },
     "daed6cfa48fb4841817fc2ef83ece0f6": {
      "model_module": "@jupyter-widgets/controls",
      "model_module_version": "1.5.0",
      "model_name": "HTMLModel",
      "state": {
       "_dom_classes": [],
       "_model_module": "@jupyter-widgets/controls",
       "_model_module_version": "1.5.0",
       "_model_name": "HTMLModel",
       "_view_count": null,
       "_view_module": "@jupyter-widgets/controls",
       "_view_module_version": "1.5.0",
       "_view_name": "HTMLView",
       "description": "",
       "description_tooltip": null,
       "layout": "IPY_MODEL_16e1d455cced4196a92f85feb80a386e",
       "placeholder": "​",
       "style": "IPY_MODEL_ae1bdef95ba2418db07e3130b368c04e",
       "value": "100%"
      }
     },
     "dca0a6b644ad4bed929be50c317c7599": {
      "model_module": "@jupyter-widgets/base",
      "model_module_version": "1.2.0",
      "model_name": "LayoutModel",
      "state": {
       "_model_module": "@jupyter-widgets/base",
       "_model_module_version": "1.2.0",
       "_model_name": "LayoutModel",
       "_view_count": null,
       "_view_module": "@jupyter-widgets/base",
       "_view_module_version": "1.2.0",
       "_view_name": "LayoutView",
       "align_content": null,
       "align_items": null,
       "align_self": null,
       "border": null,
       "bottom": null,
       "display": null,
       "flex": null,
       "flex_flow": null,
       "grid_area": null,
       "grid_auto_columns": null,
       "grid_auto_flow": null,
       "grid_auto_rows": null,
       "grid_column": null,
       "grid_gap": null,
       "grid_row": null,
       "grid_template_areas": null,
       "grid_template_columns": null,
       "grid_template_rows": null,
       "height": null,
       "justify_content": null,
       "justify_items": null,
       "left": null,
       "margin": null,
       "max_height": null,
       "max_width": null,
       "min_height": null,
       "min_width": null,
       "object_fit": null,
       "object_position": null,
       "order": null,
       "overflow": null,
       "overflow_x": null,
       "overflow_y": null,
       "padding": null,
       "right": null,
       "top": null,
       "visibility": null,
       "width": null
      }
     },
     "dda2f487ee7c409e890d1dbb39a28083": {
      "model_module": "@jupyter-widgets/controls",
      "model_module_version": "1.5.0",
      "model_name": "FloatProgressModel",
      "state": {
       "_dom_classes": [],
       "_model_module": "@jupyter-widgets/controls",
       "_model_module_version": "1.5.0",
       "_model_name": "FloatProgressModel",
       "_view_count": null,
       "_view_module": "@jupyter-widgets/controls",
       "_view_module_version": "1.5.0",
       "_view_name": "ProgressView",
       "bar_style": "success",
       "description": "",
       "description_tooltip": null,
       "layout": "IPY_MODEL_daeafc99356048f69fab20fdba14dd01",
       "max": 231508.0,
       "min": 0.0,
       "orientation": "horizontal",
       "style": "IPY_MODEL_97741615b16848f4ae2ff98f42ab7b0d",
       "value": 231508.0
      }
     },
     "ddbfb990f9ae4a3da3bd2925ce2729c2": {
      "model_module": "@jupyter-widgets/base",
      "model_module_version": "1.2.0",
      "model_name": "LayoutModel",
      "state": {
       "_model_module": "@jupyter-widgets/base",
       "_model_module_version": "1.2.0",
       "_model_name": "LayoutModel",
       "_view_count": null,
       "_view_module": "@jupyter-widgets/base",
       "_view_module_version": "1.2.0",
       "_view_name": "LayoutView",
       "align_content": null,
       "align_items": null,
       "align_self": null,
       "border": null,
       "bottom": null,
       "display": null,
       "flex": null,
       "flex_flow": null,
       "grid_area": null,
       "grid_auto_columns": null,
       "grid_auto_flow": null,
       "grid_auto_rows": null,
       "grid_column": null,
       "grid_gap": null,
       "grid_row": null,
       "grid_template_areas": null,
       "grid_template_columns": null,
       "grid_template_rows": null,
       "height": null,
       "justify_content": null,
       "justify_items": null,
       "left": null,
       "margin": null,
       "max_height": null,
       "max_width": null,
       "min_height": null,
       "min_width": null,
       "object_fit": null,
       "object_position": null,
       "order": null,
       "overflow": null,
       "overflow_x": null,
       "overflow_y": null,
       "padding": null,
       "right": null,
       "top": null,
       "visibility": null,
       "width": null
      }
     },
     "def9cfad3d5c451d8845040e5fe3b927": {
      "model_module": "@jupyter-widgets/controls",
      "model_module_version": "1.5.0",
      "model_name": "FloatProgressModel",
      "state": {
       "_dom_classes": [],
       "_model_module": "@jupyter-widgets/controls",
       "_model_module_version": "1.5.0",
       "_model_name": "FloatProgressModel",
       "_view_count": null,
       "_view_module": "@jupyter-widgets/controls",
       "_view_module_version": "1.5.0",
       "_view_name": "ProgressView",
       "bar_style": "success",
       "description": "",
       "description_tooltip": null,
       "layout": "IPY_MODEL_f19d81cea0ac4bc7ba520d8430e35091",
       "max": 935.0,
       "min": 0.0,
       "orientation": "horizontal",
       "style": "IPY_MODEL_6499c1f34f0043068f103ebdb1ee7eda",
       "value": 935.0
      }
     },
     "e06d262436344df185b97a24bd2704f6": {
      "model_module": "@jupyter-widgets/base",
      "model_module_version": "1.2.0",
      "model_name": "LayoutModel",
      "state": {
       "_model_module": "@jupyter-widgets/base",
       "_model_module_version": "1.2.0",
       "_model_name": "LayoutModel",
       "_view_count": null,
       "_view_module": "@jupyter-widgets/base",
       "_view_module_version": "1.2.0",
       "_view_name": "LayoutView",
       "align_content": null,
       "align_items": null,
       "align_self": null,
       "border": null,
       "bottom": null,
       "display": null,
       "flex": null,
       "flex_flow": null,
       "grid_area": null,
       "grid_auto_columns": null,
       "grid_auto_flow": null,
       "grid_auto_rows": null,
       "grid_column": null,
       "grid_gap": null,
       "grid_row": null,
       "grid_template_areas": null,
       "grid_template_columns": null,
       "grid_template_rows": null,
       "height": null,
       "justify_content": null,
       "justify_items": null,
       "left": null,
       "margin": null,
       "max_height": null,
       "max_width": null,
       "min_height": null,
       "min_width": null,
       "object_fit": null,
       "object_position": null,
       "order": null,
       "overflow": null,
       "overflow_x": null,
       "overflow_y": null,
       "padding": null,
       "right": null,
       "top": null,
       "visibility": null,
       "width": null
      }
     },
     "e159713a9b564de49dbe79feddabeb2f": {
      "model_module": "@jupyter-widgets/controls",
      "model_module_version": "1.5.0",
      "model_name": "ProgressStyleModel",
      "state": {
       "_model_module": "@jupyter-widgets/controls",
       "_model_module_version": "1.5.0",
       "_model_name": "ProgressStyleModel",
       "_view_count": null,
       "_view_module": "@jupyter-widgets/base",
       "_view_module_version": "1.2.0",
       "_view_name": "StyleView",
       "bar_color": null,
       "description_width": ""
      }
     },
     "e16202bfe85f485499d27ab6874fe806": {
      "model_module": "@jupyter-widgets/controls",
      "model_module_version": "1.5.0",
      "model_name": "ProgressStyleModel",
      "state": {
       "_model_module": "@jupyter-widgets/controls",
       "_model_module_version": "1.5.0",
       "_model_name": "ProgressStyleModel",
       "_view_count": null,
       "_view_module": "@jupyter-widgets/base",
       "_view_module_version": "1.2.0",
       "_view_name": "StyleView",
       "bar_color": null,
       "description_width": ""
      }
     },
     "e2d3d27110164ffda0db8223c8027393": {
      "model_module": "@jupyter-widgets/controls",
      "model_module_version": "1.5.0",
      "model_name": "DescriptionStyleModel",
      "state": {
       "_model_module": "@jupyter-widgets/controls",
       "_model_module_version": "1.5.0",
       "_model_name": "DescriptionStyleModel",
       "_view_count": null,
       "_view_module": "@jupyter-widgets/base",
       "_view_module_version": "1.2.0",
       "_view_name": "StyleView",
       "description_width": ""
      }
     },
     "e3331481eb38487d8293877f969f802f": {
      "model_module": "@jupyter-widgets/base",
      "model_module_version": "1.2.0",
      "model_name": "LayoutModel",
      "state": {
       "_model_module": "@jupyter-widgets/base",
       "_model_module_version": "1.2.0",
       "_model_name": "LayoutModel",
       "_view_count": null,
       "_view_module": "@jupyter-widgets/base",
       "_view_module_version": "1.2.0",
       "_view_name": "LayoutView",
       "align_content": null,
       "align_items": null,
       "align_self": null,
       "border": null,
       "bottom": null,
       "display": null,
       "flex": null,
       "flex_flow": null,
       "grid_area": null,
       "grid_auto_columns": null,
       "grid_auto_flow": null,
       "grid_auto_rows": null,
       "grid_column": null,
       "grid_gap": null,
       "grid_row": null,
       "grid_template_areas": null,
       "grid_template_columns": null,
       "grid_template_rows": null,
       "height": null,
       "justify_content": null,
       "justify_items": null,
       "left": null,
       "margin": null,
       "max_height": null,
       "max_width": null,
       "min_height": null,
       "min_width": null,
       "object_fit": null,
       "object_position": null,
       "order": null,
       "overflow": null,
       "overflow_x": null,
       "overflow_y": null,
       "padding": null,
       "right": null,
       "top": null,
       "visibility": null,
       "width": null
      }
     },
     "e45307a88ebc41e88fb27f2b002d31f6": {
      "model_module": "@jupyter-widgets/base",
      "model_module_version": "1.2.0",
      "model_name": "LayoutModel",
      "state": {
       "_model_module": "@jupyter-widgets/base",
       "_model_module_version": "1.2.0",
       "_model_name": "LayoutModel",
       "_view_count": null,
       "_view_module": "@jupyter-widgets/base",
       "_view_module_version": "1.2.0",
       "_view_name": "LayoutView",
       "align_content": null,
       "align_items": null,
       "align_self": null,
       "border": null,
       "bottom": null,
       "display": null,
       "flex": null,
       "flex_flow": null,
       "grid_area": null,
       "grid_auto_columns": null,
       "grid_auto_flow": null,
       "grid_auto_rows": null,
       "grid_column": null,
       "grid_gap": null,
       "grid_row": null,
       "grid_template_areas": null,
       "grid_template_columns": null,
       "grid_template_rows": null,
       "height": null,
       "justify_content": null,
       "justify_items": null,
       "left": null,
       "margin": null,
       "max_height": null,
       "max_width": null,
       "min_height": null,
       "min_width": null,
       "object_fit": null,
       "object_position": null,
       "order": null,
       "overflow": null,
       "overflow_x": null,
       "overflow_y": null,
       "padding": null,
       "right": null,
       "top": null,
       "visibility": null,
       "width": null
      }
     },
     "e4df7a84f69945dba6883e8dde209077": {
      "model_module": "@jupyter-widgets/controls",
      "model_module_version": "1.5.0",
      "model_name": "DescriptionStyleModel",
      "state": {
       "_model_module": "@jupyter-widgets/controls",
       "_model_module_version": "1.5.0",
       "_model_name": "DescriptionStyleModel",
       "_view_count": null,
       "_view_module": "@jupyter-widgets/base",
       "_view_module_version": "1.2.0",
       "_view_name": "StyleView",
       "description_width": ""
      }
     },
     "e5a464087732402f9379d2314a7a98ca": {
      "model_module": "@jupyter-widgets/controls",
      "model_module_version": "1.5.0",
      "model_name": "HBoxModel",
      "state": {
       "_dom_classes": [],
       "_model_module": "@jupyter-widgets/controls",
       "_model_module_version": "1.5.0",
       "_model_name": "HBoxModel",
       "_view_count": null,
       "_view_module": "@jupyter-widgets/controls",
       "_view_module_version": "1.5.0",
       "_view_name": "HBoxView",
       "box_style": "",
       "children": [
        "IPY_MODEL_d8556f89a77d4dc98a198ac9ba77fa51",
        "IPY_MODEL_25164798271a46c99070e164543831e7",
        "IPY_MODEL_bbd6c7e97ba24f27876629098f3d6601"
       ],
       "layout": "IPY_MODEL_ed8b6fe56d1347ebac3cb42e856284a8"
      }
     },
     "e709848c8b064898b4bc4469bf3044af": {
      "model_module": "@jupyter-widgets/controls",
      "model_module_version": "1.5.0",
      "model_name": "FloatProgressModel",
      "state": {
       "_dom_classes": [],
       "_model_module": "@jupyter-widgets/controls",
       "_model_module_version": "1.5.0",
       "_model_name": "FloatProgressModel",
       "_view_count": null,
       "_view_module": "@jupyter-widgets/controls",
       "_view_module_version": "1.5.0",
       "_view_name": "ProgressView",
       "bar_style": "success",
       "description": "",
       "description_tooltip": null,
       "layout": "IPY_MODEL_1ff55650bc22472f96aa75092aa620c8",
       "max": 26.0,
       "min": 0.0,
       "orientation": "horizontal",
       "style": "IPY_MODEL_eefe389ff8fb4907afd072e323adeb2b",
       "value": 26.0
      }
     },
     "e867cd392e784b45ba2beb3063335553": {
      "model_module": "@jupyter-widgets/controls",
      "model_module_version": "1.5.0",
      "model_name": "HTMLModel",
      "state": {
       "_dom_classes": [],
       "_model_module": "@jupyter-widgets/controls",
       "_model_module_version": "1.5.0",
       "_model_name": "HTMLModel",
       "_view_count": null,
       "_view_module": "@jupyter-widgets/controls",
       "_view_module_version": "1.5.0",
       "_view_name": "HTMLView",
       "description": "",
       "description_tooltip": null,
       "layout": "IPY_MODEL_4d96e11d6ea848ed82ada74a86ed1734",
       "placeholder": "​",
       "style": "IPY_MODEL_ecd3360f33a549c1a1d573be94e68cf0",
       "value": "vocab.json: 100%"
      }
     },
     "e9617b3c135e46119d9b4f027519e43e": {
      "model_module": "@jupyter-widgets/base",
      "model_module_version": "1.2.0",
      "model_name": "LayoutModel",
      "state": {
       "_model_module": "@jupyter-widgets/base",
       "_model_module_version": "1.2.0",
       "_model_name": "LayoutModel",
       "_view_count": null,
       "_view_module": "@jupyter-widgets/base",
       "_view_module_version": "1.2.0",
       "_view_name": "LayoutView",
       "align_content": null,
       "align_items": null,
       "align_self": null,
       "border": null,
       "bottom": null,
       "display": null,
       "flex": null,
       "flex_flow": null,
       "grid_area": null,
       "grid_auto_columns": null,
       "grid_auto_flow": null,
       "grid_auto_rows": null,
       "grid_column": null,
       "grid_gap": null,
       "grid_row": null,
       "grid_template_areas": null,
       "grid_template_columns": null,
       "grid_template_rows": null,
       "height": null,
       "justify_content": null,
       "justify_items": null,
       "left": null,
       "margin": null,
       "max_height": null,
       "max_width": null,
       "min_height": null,
       "min_width": null,
       "object_fit": null,
       "object_position": null,
       "order": null,
       "overflow": null,
       "overflow_x": null,
       "overflow_y": null,
       "padding": null,
       "right": null,
       "top": null,
       "visibility": null,
       "width": null
      }
     },
     "e992a131a230427c821c128db40402fd": {
      "model_module": "@jupyter-widgets/controls",
      "model_module_version": "1.5.0",
      "model_name": "DescriptionStyleModel",
      "state": {
       "_model_module": "@jupyter-widgets/controls",
       "_model_module_version": "1.5.0",
       "_model_name": "DescriptionStyleModel",
       "_view_count": null,
       "_view_module": "@jupyter-widgets/base",
       "_view_module_version": "1.2.0",
       "_view_name": "StyleView",
       "description_width": ""
      }
     },
     "e9add142b58242108d21539a7dcba20f": {
      "model_module": "@jupyter-widgets/base",
      "model_module_version": "1.2.0",
      "model_name": "LayoutModel",
      "state": {
       "_model_module": "@jupyter-widgets/base",
       "_model_module_version": "1.2.0",
       "_model_name": "LayoutModel",
       "_view_count": null,
       "_view_module": "@jupyter-widgets/base",
       "_view_module_version": "1.2.0",
       "_view_name": "LayoutView",
       "align_content": null,
       "align_items": null,
       "align_self": null,
       "border": null,
       "bottom": null,
       "display": null,
       "flex": null,
       "flex_flow": null,
       "grid_area": null,
       "grid_auto_columns": null,
       "grid_auto_flow": null,
       "grid_auto_rows": null,
       "grid_column": null,
       "grid_gap": null,
       "grid_row": null,
       "grid_template_areas": null,
       "grid_template_columns": null,
       "grid_template_rows": null,
       "height": null,
       "justify_content": null,
       "justify_items": null,
       "left": null,
       "margin": null,
       "max_height": null,
       "max_width": null,
       "min_height": null,
       "min_width": null,
       "object_fit": null,
       "object_position": null,
       "order": null,
       "overflow": null,
       "overflow_x": null,
       "overflow_y": null,
       "padding": null,
       "right": null,
       "top": null,
       "visibility": null,
       "width": null
      }
     },
     "ec636246ddee4e62b34967a3d7bbfce8": {
      "model_module": "@jupyter-widgets/controls",
      "model_module_version": "1.5.0",
      "model_name": "DescriptionStyleModel",
      "state": {
       "_model_module": "@jupyter-widgets/controls",
       "_model_module_version": "1.5.0",
       "_model_name": "DescriptionStyleModel",
       "_view_count": null,
       "_view_module": "@jupyter-widgets/base",
       "_view_module_version": "1.2.0",
       "_view_name": "StyleView",
       "description_width": ""
      }
     },
     "ecd3360f33a549c1a1d573be94e68cf0": {
      "model_module": "@jupyter-widgets/controls",
      "model_module_version": "1.5.0",
      "model_name": "DescriptionStyleModel",
      "state": {
       "_model_module": "@jupyter-widgets/controls",
       "_model_module_version": "1.5.0",
       "_model_name": "DescriptionStyleModel",
       "_view_count": null,
       "_view_module": "@jupyter-widgets/base",
       "_view_module_version": "1.2.0",
       "_view_name": "StyleView",
       "description_width": ""
      }
     },
     "ed8b6fe56d1347ebac3cb42e856284a8": {
      "model_module": "@jupyter-widgets/base",
      "model_module_version": "1.2.0",
      "model_name": "LayoutModel",
      "state": {
       "_model_module": "@jupyter-widgets/base",
       "_model_module_version": "1.2.0",
       "_model_name": "LayoutModel",
       "_view_count": null,
       "_view_module": "@jupyter-widgets/base",
       "_view_module_version": "1.2.0",
       "_view_name": "LayoutView",
       "align_content": null,
       "align_items": null,
       "align_self": null,
       "border": null,
       "bottom": null,
       "display": null,
       "flex": null,
       "flex_flow": null,
       "grid_area": null,
       "grid_auto_columns": null,
       "grid_auto_flow": null,
       "grid_auto_rows": null,
       "grid_column": null,
       "grid_gap": null,
       "grid_row": null,
       "grid_template_areas": null,
       "grid_template_columns": null,
       "grid_template_rows": null,
       "height": null,
       "justify_content": null,
       "justify_items": null,
       "left": null,
       "margin": null,
       "max_height": null,
       "max_width": null,
       "min_height": null,
       "min_width": null,
       "object_fit": null,
       "object_position": null,
       "order": null,
       "overflow": null,
       "overflow_x": null,
       "overflow_y": null,
       "padding": null,
       "right": null,
       "top": null,
       "visibility": null,
       "width": null
      }
     },
     "ed96b90bfe13444db13b0c35516631fe": {
      "model_module": "@jupyter-widgets/controls",
      "model_module_version": "1.5.0",
      "model_name": "ProgressStyleModel",
      "state": {
       "_model_module": "@jupyter-widgets/controls",
       "_model_module_version": "1.5.0",
       "_model_name": "ProgressStyleModel",
       "_view_count": null,
       "_view_module": "@jupyter-widgets/base",
       "_view_module_version": "1.2.0",
       "_view_name": "StyleView",
       "bar_color": null,
       "description_width": ""
      }
     },
     "eefe389ff8fb4907afd072e323adeb2b": {
      "model_module": "@jupyter-widgets/controls",
      "model_module_version": "1.5.0",
      "model_name": "ProgressStyleModel",
      "state": {
       "_model_module": "@jupyter-widgets/controls",
       "_model_module_version": "1.5.0",
       "_model_name": "ProgressStyleModel",
       "_view_count": null,
       "_view_module": "@jupyter-widgets/base",
       "_view_module_version": "1.2.0",
       "_view_name": "StyleView",
       "bar_color": null,
       "description_width": ""
      }
     },
     "efd87a94a8584a6894a65ce14b9bf726": {
      "model_module": "@jupyter-widgets/controls",
      "model_module_version": "1.5.0",
      "model_name": "HBoxModel",
      "state": {
       "_dom_classes": [],
       "_model_module": "@jupyter-widgets/controls",
       "_model_module_version": "1.5.0",
       "_model_name": "HBoxModel",
       "_view_count": null,
       "_view_module": "@jupyter-widgets/controls",
       "_view_module_version": "1.5.0",
       "_view_name": "HBoxView",
       "box_style": "",
       "children": [
        "IPY_MODEL_33892d49c0b34f7cbe53f04b5286b9c0",
        "IPY_MODEL_dda2f487ee7c409e890d1dbb39a28083",
        "IPY_MODEL_63b8d937a3fe4db3bb66db7bb129981d"
       ],
       "layout": "IPY_MODEL_64741ee022dd4528b32af66fbd1da02f"
      }
     },
     "f07d1cfba8514854a312333131d086bf": {
      "model_module": "@jupyter-widgets/controls",
      "model_module_version": "1.5.0",
      "model_name": "HBoxModel",
      "state": {
       "_dom_classes": [],
       "_model_module": "@jupyter-widgets/controls",
       "_model_module_version": "1.5.0",
       "_model_name": "HBoxModel",
       "_view_count": null,
       "_view_module": "@jupyter-widgets/controls",
       "_view_module_version": "1.5.0",
       "_view_name": "HBoxView",
       "box_style": "",
       "children": [
        "IPY_MODEL_87f4680cc9134b0b9e49a43f7998d4da",
        "IPY_MODEL_84b13e70546e442095a71038070c4c9b",
        "IPY_MODEL_5e6a0b14f1584032aad5f41a18ec2ee7"
       ],
       "layout": "IPY_MODEL_a03ce5ee39af4aaaa50495f01c232830"
      }
     },
     "f0f41df784a74932a74df423860dab13": {
      "model_module": "@jupyter-widgets/controls",
      "model_module_version": "1.5.0",
      "model_name": "HTMLModel",
      "state": {
       "_dom_classes": [],
       "_model_module": "@jupyter-widgets/controls",
       "_model_module_version": "1.5.0",
       "_model_name": "HTMLModel",
       "_view_count": null,
       "_view_module": "@jupyter-widgets/controls",
       "_view_module_version": "1.5.0",
       "_view_name": "HTMLView",
       "description": "",
       "description_tooltip": null,
       "layout": "IPY_MODEL_81f9159a1a9a47ad8c50ebbe1d3f4ee7",
       "placeholder": "​",
       "style": "IPY_MODEL_a29b685e38104efbabf305be9ecae290",
       "value": " 1.36M/1.36M [00:00&lt;00:00, 37.9MB/s]"
      }
     },
     "f11dea22149b423f97dfd127dcd2d68b": {
      "model_module": "@jupyter-widgets/base",
      "model_module_version": "1.2.0",
      "model_name": "LayoutModel",
      "state": {
       "_model_module": "@jupyter-widgets/base",
       "_model_module_version": "1.2.0",
       "_model_name": "LayoutModel",
       "_view_count": null,
       "_view_module": "@jupyter-widgets/base",
       "_view_module_version": "1.2.0",
       "_view_name": "LayoutView",
       "align_content": null,
       "align_items": null,
       "align_self": null,
       "border": null,
       "bottom": null,
       "display": null,
       "flex": null,
       "flex_flow": null,
       "grid_area": null,
       "grid_auto_columns": null,
       "grid_auto_flow": null,
       "grid_auto_rows": null,
       "grid_column": null,
       "grid_gap": null,
       "grid_row": null,
       "grid_template_areas": null,
       "grid_template_columns": null,
       "grid_template_rows": null,
       "height": null,
       "justify_content": null,
       "justify_items": null,
       "left": null,
       "margin": null,
       "max_height": null,
       "max_width": null,
       "min_height": null,
       "min_width": null,
       "object_fit": null,
       "object_position": null,
       "order": null,
       "overflow": null,
       "overflow_x": null,
       "overflow_y": null,
       "padding": null,
       "right": null,
       "top": null,
       "visibility": null,
       "width": null
      }
     },
     "f14352bd97634ec1b34ec5222e5a9ba7": {
      "model_module": "@jupyter-widgets/controls",
      "model_module_version": "1.5.0",
      "model_name": "HTMLModel",
      "state": {
       "_dom_classes": [],
       "_model_module": "@jupyter-widgets/controls",
       "_model_module_version": "1.5.0",
       "_model_name": "HTMLModel",
       "_view_count": null,
       "_view_module": "@jupyter-widgets/controls",
       "_view_module_version": "1.5.0",
       "_view_name": "HTMLView",
       "description": "",
       "description_tooltip": null,
       "layout": "IPY_MODEL_4c307524e7c14d4188249f45e6212d20",
       "placeholder": "​",
       "style": "IPY_MODEL_b466eb5425c041a7b00a58c20140b02b",
       "value": " 586/586 [00:00&lt;00:00, 43.0kB/s]"
      }
     },
     "f19d81cea0ac4bc7ba520d8430e35091": {
      "model_module": "@jupyter-widgets/base",
      "model_module_version": "1.2.0",
      "model_name": "LayoutModel",
      "state": {
       "_model_module": "@jupyter-widgets/base",
       "_model_module_version": "1.2.0",
       "_model_name": "LayoutModel",
       "_view_count": null,
       "_view_module": "@jupyter-widgets/base",
       "_view_module_version": "1.2.0",
       "_view_name": "LayoutView",
       "align_content": null,
       "align_items": null,
       "align_self": null,
       "border": null,
       "bottom": null,
       "display": null,
       "flex": null,
       "flex_flow": null,
       "grid_area": null,
       "grid_auto_columns": null,
       "grid_auto_flow": null,
       "grid_auto_rows": null,
       "grid_column": null,
       "grid_gap": null,
       "grid_row": null,
       "grid_template_areas": null,
       "grid_template_columns": null,
       "grid_template_rows": null,
       "height": null,
       "justify_content": null,
       "justify_items": null,
       "left": null,
       "margin": null,
       "max_height": null,
       "max_width": null,
       "min_height": null,
       "min_width": null,
       "object_fit": null,
       "object_position": null,
       "order": null,
       "overflow": null,
       "overflow_x": null,
       "overflow_y": null,
       "padding": null,
       "right": null,
       "top": null,
       "visibility": null,
       "width": null
      }
     },
     "f4f7b6d70a3144689fbf1540dda7f817": {
      "model_module": "@jupyter-widgets/controls",
      "model_module_version": "1.5.0",
      "model_name": "HBoxModel",
      "state": {
       "_dom_classes": [],
       "_model_module": "@jupyter-widgets/controls",
       "_model_module_version": "1.5.0",
       "_model_name": "HBoxModel",
       "_view_count": null,
       "_view_module": "@jupyter-widgets/controls",
       "_view_module_version": "1.5.0",
       "_view_name": "HBoxView",
       "box_style": "",
       "children": [
        "IPY_MODEL_533df210067140b9960c8f27bcd9f34b",
        "IPY_MODEL_10dd32b971fc4b7494ecd7e10078b29d",
        "IPY_MODEL_63699c079b984755b2086c12273bb808"
       ],
       "layout": "IPY_MODEL_97015fecf57b43cc90668f177f776ea3"
      }
     },
     "f557d10e422444328b3b85e641ca38e3": {
      "model_module": "@jupyter-widgets/controls",
      "model_module_version": "1.5.0",
      "model_name": "HTMLModel",
      "state": {
       "_dom_classes": [],
       "_model_module": "@jupyter-widgets/controls",
       "_model_module_version": "1.5.0",
       "_model_name": "HTMLModel",
       "_view_count": null,
       "_view_module": "@jupyter-widgets/controls",
       "_view_module_version": "1.5.0",
       "_view_name": "HTMLView",
       "description": "",
       "description_tooltip": null,
       "layout": "IPY_MODEL_fee43c9a8cfe45f9bf9646c420e3c2d5",
       "placeholder": "​",
       "style": "IPY_MODEL_3999fc0813c84ad8ba05da0b14b2f7e3",
       "value": " 112/112 [00:00&lt;00:00, 7.98kB/s]"
      }
     },
     "f613b5a367784384a78d977dfa631ff4": {
      "model_module": "@jupyter-widgets/controls",
      "model_module_version": "1.5.0",
      "model_name": "FloatProgressModel",
      "state": {
       "_dom_classes": [],
       "_model_module": "@jupyter-widgets/controls",
       "_model_module_version": "1.5.0",
       "_model_name": "FloatProgressModel",
       "_view_count": null,
       "_view_module": "@jupyter-widgets/controls",
       "_view_module_version": "1.5.0",
       "_view_name": "ProgressView",
       "bar_style": "success",
       "description": "",
       "description_tooltip": null,
       "layout": "IPY_MODEL_ddbfb990f9ae4a3da3bd2925ce2729c2",
       "max": 1355863.0,
       "min": 0.0,
       "orientation": "horizontal",
       "style": "IPY_MODEL_c7716fe900d141a98bab00dcd248c9e7",
       "value": 1355863.0
      }
     },
     "f651ddc9d3ff489abcb393819b1ee0c7": {
      "model_module": "@jupyter-widgets/base",
      "model_module_version": "1.2.0",
      "model_name": "LayoutModel",
      "state": {
       "_model_module": "@jupyter-widgets/base",
       "_model_module_version": "1.2.0",
       "_model_name": "LayoutModel",
       "_view_count": null,
       "_view_module": "@jupyter-widgets/base",
       "_view_module_version": "1.2.0",
       "_view_name": "LayoutView",
       "align_content": null,
       "align_items": null,
       "align_self": null,
       "border": null,
       "bottom": null,
       "display": null,
       "flex": null,
       "flex_flow": null,
       "grid_area": null,
       "grid_auto_columns": null,
       "grid_auto_flow": null,
       "grid_auto_rows": null,
       "grid_column": null,
       "grid_gap": null,
       "grid_row": null,
       "grid_template_areas": null,
       "grid_template_columns": null,
       "grid_template_rows": null,
       "height": null,
       "justify_content": null,
       "justify_items": null,
       "left": null,
       "margin": null,
       "max_height": null,
       "max_width": null,
       "min_height": null,
       "min_width": null,
       "object_fit": null,
       "object_position": null,
       "order": null,
       "overflow": null,
       "overflow_x": null,
       "overflow_y": null,
       "padding": null,
       "right": null,
       "top": null,
       "visibility": null,
       "width": null
      }
     },
     "faeff95c9a0249a8aabfc960dcf7e961": {
      "model_module": "@jupyter-widgets/controls",
      "model_module_version": "1.5.0",
      "model_name": "HTMLModel",
      "state": {
       "_dom_classes": [],
       "_model_module": "@jupyter-widgets/controls",
       "_model_module_version": "1.5.0",
       "_model_name": "HTMLModel",
       "_view_count": null,
       "_view_module": "@jupyter-widgets/controls",
       "_view_module_version": "1.5.0",
       "_view_name": "HTMLView",
       "description": "",
       "description_tooltip": null,
       "layout": "IPY_MODEL_74fe6dad09c84e2f8b23da4701ceb468",
       "placeholder": "​",
       "style": "IPY_MODEL_9f95db775c904a3b8ce7c1da44d0ba88",
       "value": "config.json: 100%"
      }
     },
     "fb7101fd88ef441ebb68d4560056da1e": {
      "model_module": "@jupyter-widgets/base",
      "model_module_version": "1.2.0",
      "model_name": "LayoutModel",
      "state": {
       "_model_module": "@jupyter-widgets/base",
       "_model_module_version": "1.2.0",
       "_model_name": "LayoutModel",
       "_view_count": null,
       "_view_module": "@jupyter-widgets/base",
       "_view_module_version": "1.2.0",
       "_view_name": "LayoutView",
       "align_content": null,
       "align_items": null,
       "align_self": null,
       "border": null,
       "bottom": null,
       "display": null,
       "flex": null,
       "flex_flow": null,
       "grid_area": null,
       "grid_auto_columns": null,
       "grid_auto_flow": null,
       "grid_auto_rows": null,
       "grid_column": null,
       "grid_gap": null,
       "grid_row": null,
       "grid_template_areas": null,
       "grid_template_columns": null,
       "grid_template_rows": null,
       "height": null,
       "justify_content": null,
       "justify_items": null,
       "left": null,
       "margin": null,
       "max_height": null,
       "max_width": null,
       "min_height": null,
       "min_width": null,
       "object_fit": null,
       "object_position": null,
       "order": null,
       "overflow": null,
       "overflow_x": null,
       "overflow_y": null,
       "padding": null,
       "right": null,
       "top": null,
       "visibility": null,
       "width": null
      }
     },
     "fbaa3140563e4dc68a5937adc24cfd91": {
      "model_module": "@jupyter-widgets/base",
      "model_module_version": "1.2.0",
      "model_name": "LayoutModel",
      "state": {
       "_model_module": "@jupyter-widgets/base",
       "_model_module_version": "1.2.0",
       "_model_name": "LayoutModel",
       "_view_count": null,
       "_view_module": "@jupyter-widgets/base",
       "_view_module_version": "1.2.0",
       "_view_name": "LayoutView",
       "align_content": null,
       "align_items": null,
       "align_self": null,
       "border": null,
       "bottom": null,
       "display": null,
       "flex": null,
       "flex_flow": null,
       "grid_area": null,
       "grid_auto_columns": null,
       "grid_auto_flow": null,
       "grid_auto_rows": null,
       "grid_column": null,
       "grid_gap": null,
       "grid_row": null,
       "grid_template_areas": null,
       "grid_template_columns": null,
       "grid_template_rows": null,
       "height": null,
       "justify_content": null,
       "justify_items": null,
       "left": null,
       "margin": null,
       "max_height": null,
       "max_width": null,
       "min_height": null,
       "min_width": null,
       "object_fit": null,
       "object_position": null,
       "order": null,
       "overflow": null,
       "overflow_x": null,
       "overflow_y": null,
       "padding": null,
       "right": null,
       "top": null,
       "visibility": null,
       "width": null
      }
     },
     "fdefe8733aaf4dfa9dde947c8f7d9097": {
      "model_module": "@jupyter-widgets/base",
      "model_module_version": "1.2.0",
      "model_name": "LayoutModel",
      "state": {
       "_model_module": "@jupyter-widgets/base",
       "_model_module_version": "1.2.0",
       "_model_name": "LayoutModel",
       "_view_count": null,
       "_view_module": "@jupyter-widgets/base",
       "_view_module_version": "1.2.0",
       "_view_name": "LayoutView",
       "align_content": null,
       "align_items": null,
       "align_self": null,
       "border": null,
       "bottom": null,
       "display": null,
       "flex": null,
       "flex_flow": null,
       "grid_area": null,
       "grid_auto_columns": null,
       "grid_auto_flow": null,
       "grid_auto_rows": null,
       "grid_column": null,
       "grid_gap": null,
       "grid_row": null,
       "grid_template_areas": null,
       "grid_template_columns": null,
       "grid_template_rows": null,
       "height": null,
       "justify_content": null,
       "justify_items": null,
       "left": null,
       "margin": null,
       "max_height": null,
       "max_width": null,
       "min_height": null,
       "min_width": null,
       "object_fit": null,
       "object_position": null,
       "order": null,
       "overflow": null,
       "overflow_x": null,
       "overflow_y": null,
       "padding": null,
       "right": null,
       "top": null,
       "visibility": null,
       "width": null
      }
     },
     "fee43c9a8cfe45f9bf9646c420e3c2d5": {
      "model_module": "@jupyter-widgets/base",
      "model_module_version": "1.2.0",
      "model_name": "LayoutModel",
      "state": {
       "_model_module": "@jupyter-widgets/base",
       "_model_module_version": "1.2.0",
       "_model_name": "LayoutModel",
       "_view_count": null,
       "_view_module": "@jupyter-widgets/base",
       "_view_module_version": "1.2.0",
       "_view_name": "LayoutView",
       "align_content": null,
       "align_items": null,
       "align_self": null,
       "border": null,
       "bottom": null,
       "display": null,
       "flex": null,
       "flex_flow": null,
       "grid_area": null,
       "grid_auto_columns": null,
       "grid_auto_flow": null,
       "grid_auto_rows": null,
       "grid_column": null,
       "grid_gap": null,
       "grid_row": null,
       "grid_template_areas": null,
       "grid_template_columns": null,
       "grid_template_rows": null,
       "height": null,
       "justify_content": null,
       "justify_items": null,
       "left": null,
       "margin": null,
       "max_height": null,
       "max_width": null,
       "min_height": null,
       "min_width": null,
       "object_fit": null,
       "object_position": null,
       "order": null,
       "overflow": null,
       "overflow_x": null,
       "overflow_y": null,
       "padding": null,
       "right": null,
       "top": null,
       "visibility": null,
       "width": null
      }
     },
     "ff34f810186b4162a9712e605ddbcf00": {
      "model_module": "@jupyter-widgets/base",
      "model_module_version": "1.2.0",
      "model_name": "LayoutModel",
      "state": {
       "_model_module": "@jupyter-widgets/base",
       "_model_module_version": "1.2.0",
       "_model_name": "LayoutModel",
       "_view_count": null,
       "_view_module": "@jupyter-widgets/base",
       "_view_module_version": "1.2.0",
       "_view_name": "LayoutView",
       "align_content": null,
       "align_items": null,
       "align_self": null,
       "border": null,
       "bottom": null,
       "display": null,
       "flex": null,
       "flex_flow": null,
       "grid_area": null,
       "grid_auto_columns": null,
       "grid_auto_flow": null,
       "grid_auto_rows": null,
       "grid_column": null,
       "grid_gap": null,
       "grid_row": null,
       "grid_template_areas": null,
       "grid_template_columns": null,
       "grid_template_rows": null,
       "height": null,
       "justify_content": null,
       "justify_items": null,
       "left": null,
       "margin": null,
       "max_height": null,
       "max_width": null,
       "min_height": null,
       "min_width": null,
       "object_fit": null,
       "object_position": null,
       "order": null,
       "overflow": null,
       "overflow_x": null,
       "overflow_y": null,
       "padding": null,
       "right": null,
       "top": null,
       "visibility": null,
       "width": null
      }
     },
     "ff928593fd7f4e0f8b8900a40192d3c2": {
      "model_module": "@jupyter-widgets/controls",
      "model_module_version": "1.5.0",
      "model_name": "DescriptionStyleModel",
      "state": {
       "_model_module": "@jupyter-widgets/controls",
       "_model_module_version": "1.5.0",
       "_model_name": "DescriptionStyleModel",
       "_view_count": null,
       "_view_module": "@jupyter-widgets/base",
       "_view_module_version": "1.2.0",
       "_view_name": "StyleView",
       "description_width": ""
      }
     },
     "ffab5f82d7ad40f1bca97ba4a128b68a": {
      "model_module": "@jupyter-widgets/controls",
      "model_module_version": "1.5.0",
      "model_name": "HTMLModel",
      "state": {
       "_dom_classes": [],
       "_model_module": "@jupyter-widgets/controls",
       "_model_module_version": "1.5.0",
       "_model_name": "HTMLModel",
       "_view_count": null,
       "_view_module": "@jupyter-widgets/controls",
       "_view_module_version": "1.5.0",
       "_view_name": "HTMLView",
       "description": "",
       "description_tooltip": null,
       "layout": "IPY_MODEL_bddcd20430a345efbc0b5bde649095f6",
       "placeholder": "​",
       "style": "IPY_MODEL_5c7788d78c104324a8cc776450cd7fd0",
       "value": "tokenizer.json: 100%"
      }
     }
    },
    "version_major": 2,
    "version_minor": 0
   }
  }
 },
 "nbformat": 4,
 "nbformat_minor": 5
}
