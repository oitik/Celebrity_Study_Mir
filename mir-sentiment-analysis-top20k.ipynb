{
 "cells": [
  {
   "cell_type": "code",
   "execution_count": 1,
   "id": "9acd60e1",
   "metadata": {
    "_cell_guid": "b1076dfc-b9ad-4769-8c92-a6c4dae69d19",
    "_uuid": "8f2839f25d086af736a60e9eeb907d3b93b6e0e5",
    "execution": {
     "iopub.execute_input": "2024-06-12T18:33:12.231445Z",
     "iopub.status.busy": "2024-06-12T18:33:12.230785Z",
     "iopub.status.idle": "2024-06-12T18:33:14.135538Z",
     "shell.execute_reply": "2024-06-12T18:33:14.134515Z"
    },
    "papermill": {
     "duration": 1.946368,
     "end_time": "2024-06-12T18:33:14.137938",
     "exception": false,
     "start_time": "2024-06-12T18:33:12.191570",
     "status": "completed"
    },
    "tags": []
   },
   "outputs": [],
   "source": [
    "# Regular EDA(exploratory data analysis) and plotting libraries\n",
    "import numpy as np\n",
    "import pandas as pd\n",
    "import matplotlib.pyplot as plt\n",
    "\n",
    "from sklearn.model_selection import train_test_split\n",
    "%matplotlib inline\n",
    "\n",
    "from tqdm import tqdm\n",
    "import string\n",
    "import statistics\n",
    "import re\n",
    "import joblib\n",
    "import random\n",
    "import statistics\n",
    "from collections import Counter\n",
    "from scipy import stats\n",
    "import os\n",
    "\n",
    "# import seaborn as sns\n",
    "from mpl_toolkits.mplot3d import Axes3D\n",
    "from sklearn.metrics.pairwise import cosine_similarity\n",
    "import zipfile\n",
    "from wordcloud import WordCloud\n",
    "from matplotlib.lines import Line2D"
   ]
  },
  {
   "cell_type": "code",
   "execution_count": 2,
   "id": "723a70ee",
   "metadata": {
    "execution": {
     "iopub.execute_input": "2024-06-12T18:33:14.200303Z",
     "iopub.status.busy": "2024-06-12T18:33:14.199337Z",
     "iopub.status.idle": "2024-06-12T18:33:14.245005Z",
     "shell.execute_reply": "2024-06-12T18:33:14.243883Z"
    },
    "papermill": {
     "duration": 0.078664,
     "end_time": "2024-06-12T18:33:14.247077",
     "exception": false,
     "start_time": "2024-06-12T18:33:14.168413",
     "status": "completed"
    },
    "tags": []
   },
   "outputs": [
    {
     "name": "stdout",
     "output_type": "stream",
     "text": [
      "category\n",
      "mir soho     304\n",
      "mir chara    168\n",
      "mirerthek     62\n",
      "Name: count, dtype: int64\n",
      "62 304 168\n"
     ]
    }
   ],
   "source": [
    "# Import the Data\n",
    "mir_link_id = pd.read_csv('/kaggle/input/media-study/mir_afsar_ali_yt_links - Sheet1.csv')\n",
    "\n",
    "\n",
    "def extract_video_id(url):\n",
    "    # Regular expression pattern to match YouTube video IDs\n",
    "    pattern = r'(?:youtube\\.com\\/(?:[^\\/\\n\\s]+\\/\\S+\\/|(?:v|e(?:mbed)?)\\/|\\S*?[?&]v=)|youtu\\.be\\/)([a-zA-Z0-9_-]{11})'\n",
    "\n",
    "    # Search for the video ID in the URL\n",
    "    match = re.search(pattern, url)\n",
    "\n",
    "    if match:\n",
    "        return match.group(1)  # Return the matched video ID\n",
    "    else:\n",
    "        return None  # Return None if no match found\n",
    "\n",
    "# Example URLs\n",
    "urls = mir_link_id['yt_link']\n",
    "\n",
    "video_ids = [extract_video_id(url) for url in urls]\n",
    "mir_link_id['video_id'] = video_ids\n",
    "\n",
    "print(mir_link_id.category.value_counts())\n",
    "\n",
    "\n",
    "mirer_thek_vids = mir_link_id[mir_link_id['category'] == 'mirerthek']['video_id'].tolist()\n",
    "mir_soho_vids = mir_link_id[mir_link_id['category'] == 'mir soho']['video_id'].tolist()\n",
    "mir_chara_vids = mir_link_id[mir_link_id['category'] == 'mir chara']['video_id'].tolist()\n",
    "\n",
    "print(f'{len(mirer_thek_vids)} {len(mir_soho_vids)} {len(mir_chara_vids)}')"
   ]
  },
  {
   "cell_type": "code",
   "execution_count": 3,
   "id": "2e1f41f0",
   "metadata": {
    "execution": {
     "iopub.execute_input": "2024-06-12T18:33:14.305632Z",
     "iopub.status.busy": "2024-06-12T18:33:14.305328Z",
     "iopub.status.idle": "2024-06-12T18:33:14.309797Z",
     "shell.execute_reply": "2024-06-12T18:33:14.308956Z"
    },
    "papermill": {
     "duration": 0.036545,
     "end_time": "2024-06-12T18:33:14.311914",
     "exception": false,
     "start_time": "2024-06-12T18:33:14.275369",
     "status": "completed"
    },
    "tags": []
   },
   "outputs": [
    {
     "name": "stdout",
     "output_type": "stream",
     "text": [
      "202\n"
     ]
    }
   ],
   "source": [
    "print(len(set(mir_soho_vids)))"
   ]
  },
  {
   "cell_type": "code",
   "execution_count": 4,
   "id": "8be7d010",
   "metadata": {
    "execution": {
     "iopub.execute_input": "2024-06-12T18:33:14.369179Z",
     "iopub.status.busy": "2024-06-12T18:33:14.368904Z",
     "iopub.status.idle": "2024-06-12T18:33:14.394089Z",
     "shell.execute_reply": "2024-06-12T18:33:14.393027Z"
    },
    "papermill": {
     "duration": 0.056283,
     "end_time": "2024-06-12T18:33:14.396162",
     "exception": false,
     "start_time": "2024-06-12T18:33:14.339879",
     "status": "completed"
    },
    "tags": []
   },
   "outputs": [
    {
     "name": "stdout",
     "output_type": "stream",
     "text": [
      "(246, 9) (180, 9) (70, 9)\n"
     ]
    }
   ],
   "source": [
    "dfc = pd.read_csv('/kaggle/input/media-study2-0/final_video_info/mir_chara_vif.csv')\n",
    "dfs = pd.read_csv('/kaggle/input/media-study2-0/final_video_info/mir_soho_vif.csv')\n",
    "dft = pd.read_csv('/kaggle/input/media-study2-0/final_video_info/mirer_thek_vif.csv')\n",
    "\n",
    "print(f'{dfc.shape} {dfs.shape} {dft.shape}')"
   ]
  },
  {
   "cell_type": "markdown",
   "id": "d8e9c938",
   "metadata": {
    "papermill": {
     "duration": 0.029058,
     "end_time": "2024-06-12T18:33:14.456102",
     "exception": false,
     "start_time": "2024-06-12T18:33:14.427044",
     "status": "completed"
    },
    "tags": []
   },
   "source": [
    "## Mir Chara Sunday Suspense"
   ]
  },
  {
   "cell_type": "code",
   "execution_count": 5,
   "id": "6846de7e",
   "metadata": {
    "execution": {
     "iopub.execute_input": "2024-06-12T18:33:14.515110Z",
     "iopub.status.busy": "2024-06-12T18:33:14.514554Z",
     "iopub.status.idle": "2024-06-12T18:33:19.507890Z",
     "shell.execute_reply": "2024-06-12T18:33:19.506929Z"
    },
    "papermill": {
     "duration": 5.025874,
     "end_time": "2024-06-12T18:33:19.509924",
     "exception": false,
     "start_time": "2024-06-12T18:33:14.484050",
     "status": "completed"
    },
    "tags": []
   },
   "outputs": [
    {
     "name": "stdout",
     "output_type": "stream",
     "text": [
      "Length of Mir Chara Comments is (201633, 6)\n",
      "Length of Mir Chara live chat is (343125, 4)\n",
      "Total Videos Scraped 245\n"
     ]
    },
    {
     "data": {
      "text/html": [
       "<div>\n",
       "<style scoped>\n",
       "    .dataframe tbody tr th:only-of-type {\n",
       "        vertical-align: middle;\n",
       "    }\n",
       "\n",
       "    .dataframe tbody tr th {\n",
       "        vertical-align: top;\n",
       "    }\n",
       "\n",
       "    .dataframe thead th {\n",
       "        text-align: right;\n",
       "    }\n",
       "</style>\n",
       "<table border=\"1\" class=\"dataframe\">\n",
       "  <thead>\n",
       "    <tr style=\"text-align: right;\">\n",
       "      <th></th>\n",
       "      <th>author</th>\n",
       "      <th>published_date</th>\n",
       "      <th>published_time</th>\n",
       "      <th>like_count</th>\n",
       "      <th>text</th>\n",
       "      <th>video_id</th>\n",
       "    </tr>\n",
       "  </thead>\n",
       "  <tbody>\n",
       "    <tr>\n",
       "      <th>0</th>\n",
       "      <td>@skmdimran852</td>\n",
       "      <td>2024-05-21</td>\n",
       "      <td>03:45:59Z</td>\n",
       "      <td>0</td>\n",
       "      <td>❤❤❤</td>\n",
       "      <td>SgqeN_FUprg</td>\n",
       "    </tr>\n",
       "    <tr>\n",
       "      <th>1</th>\n",
       "      <td>@tanvirhaquekhan6061</td>\n",
       "      <td>2024-05-20</td>\n",
       "      <td>14:25:10Z</td>\n",
       "      <td>0</td>\n",
       "      <td>সত্যজিত রায়ের মতো এমন দূরদর্শী মানুষ হাজার বছর...</td>\n",
       "      <td>SgqeN_FUprg</td>\n",
       "    </tr>\n",
       "    <tr>\n",
       "      <th>2</th>\n",
       "      <td>@MohammadArman-ob1id</td>\n",
       "      <td>2024-05-20</td>\n",
       "      <td>12:12:24Z</td>\n",
       "      <td>0</td>\n",
       "      <td>Mitryur porer abostha toh bollen na keno ami j...</td>\n",
       "      <td>SgqeN_FUprg</td>\n",
       "    </tr>\n",
       "  </tbody>\n",
       "</table>\n",
       "</div>"
      ],
      "text/plain": [
       "                 author published_date published_time  like_count  \\\n",
       "0         @skmdimran852     2024-05-21      03:45:59Z           0   \n",
       "1  @tanvirhaquekhan6061     2024-05-20      14:25:10Z           0   \n",
       "2  @MohammadArman-ob1id     2024-05-20      12:12:24Z           0   \n",
       "\n",
       "                                                text     video_id  \n",
       "0                                                ❤❤❤  SgqeN_FUprg  \n",
       "1  সত্যজিত রায়ের মতো এমন দূরদর্শী মানুষ হাজার বছর...  SgqeN_FUprg  \n",
       "2  Mitryur porer abostha toh bollen na keno ami j...  SgqeN_FUprg  "
      ]
     },
     "execution_count": 5,
     "metadata": {},
     "output_type": "execute_result"
    }
   ],
   "source": [
    "mc_com = pd.read_parquet('/kaggle/input/media-study2-0/final_comment_data/mir_chara_comment.parquet')\n",
    "mc_chat = pd.read_csv('/kaggle/input/media-study2-0/all_live_chat/mir_chara_live_chat.csv')\n",
    "\n",
    "ms_com = pd.read_parquet('/kaggle/input/media-study2-0/final_comment_data/mir_soho_comment.parquet')\n",
    "ms_chat = pd.read_csv('/kaggle/input/media-study2-0/all_live_chat/mir_shoho_live_chat.csv')\n",
    "\n",
    "mt_com = pd.read_csv('/kaggle/input/media-study2-0/final_comment_data/mirer_thek_comment.csv')\n",
    "mt_chat = pd.read_csv('/kaggle/input/media-study2-0/all_live_chat/mirer_thek_live_chat.csv')\n",
    "\n",
    "print(f'Length of Mir Chara Comments is {mc_com.shape}')\n",
    "print(f'Length of Mir Chara live chat is {mc_chat.shape}')\n",
    "\n",
    "print('Total Videos Scraped', mc_com['video_id'].nunique())\n",
    "\n",
    "mc_com.head(3)"
   ]
  },
  {
   "cell_type": "code",
   "execution_count": 6,
   "id": "b0e8a3d1",
   "metadata": {
    "execution": {
     "iopub.execute_input": "2024-06-12T18:33:19.568154Z",
     "iopub.status.busy": "2024-06-12T18:33:19.567855Z",
     "iopub.status.idle": "2024-06-12T18:33:19.577484Z",
     "shell.execute_reply": "2024-06-12T18:33:19.576604Z"
    },
    "papermill": {
     "duration": 0.040598,
     "end_time": "2024-06-12T18:33:19.579278",
     "exception": false,
     "start_time": "2024-06-12T18:33:19.538680",
     "status": "completed"
    },
    "tags": []
   },
   "outputs": [
    {
     "data": {
      "text/html": [
       "<div>\n",
       "<style scoped>\n",
       "    .dataframe tbody tr th:only-of-type {\n",
       "        vertical-align: middle;\n",
       "    }\n",
       "\n",
       "    .dataframe tbody tr th {\n",
       "        vertical-align: top;\n",
       "    }\n",
       "\n",
       "    .dataframe thead th {\n",
       "        text-align: right;\n",
       "    }\n",
       "</style>\n",
       "<table border=\"1\" class=\"dataframe\">\n",
       "  <thead>\n",
       "    <tr style=\"text-align: right;\">\n",
       "      <th></th>\n",
       "      <th>datetime</th>\n",
       "      <th>author</th>\n",
       "      <th>message</th>\n",
       "      <th>vid_id</th>\n",
       "    </tr>\n",
       "  </thead>\n",
       "  <tbody>\n",
       "    <tr>\n",
       "      <th>0</th>\n",
       "      <td>2024-05-05 07:28:34</td>\n",
       "      <td>Paglamo Sudupaglamo</td>\n",
       "      <td>joy east bengal :red_square::yellow_square::re...</td>\n",
       "      <td>SgqeN_FUprg</td>\n",
       "    </tr>\n",
       "    <tr>\n",
       "      <th>1</th>\n",
       "      <td>2024-05-05 07:28:34</td>\n",
       "      <td>Soumen banarjee🙂</td>\n",
       "      <td>hi</td>\n",
       "      <td>SgqeN_FUprg</td>\n",
       "    </tr>\n",
       "    <tr>\n",
       "      <th>2</th>\n",
       "      <td>2024-05-05 07:28:37</td>\n",
       "      <td>Paglamo Sudupaglamo</td>\n",
       "      <td>joy east bengal :red_square::yellow_square::re...</td>\n",
       "      <td>SgqeN_FUprg</td>\n",
       "    </tr>\n",
       "  </tbody>\n",
       "</table>\n",
       "</div>"
      ],
      "text/plain": [
       "              datetime               author  \\\n",
       "0  2024-05-05 07:28:34  Paglamo Sudupaglamo   \n",
       "1  2024-05-05 07:28:34     Soumen banarjee🙂   \n",
       "2  2024-05-05 07:28:37  Paglamo Sudupaglamo   \n",
       "\n",
       "                                             message       vid_id  \n",
       "0  joy east bengal :red_square::yellow_square::re...  SgqeN_FUprg  \n",
       "1                                                 hi  SgqeN_FUprg  \n",
       "2  joy east bengal :red_square::yellow_square::re...  SgqeN_FUprg  "
      ]
     },
     "execution_count": 6,
     "metadata": {},
     "output_type": "execute_result"
    }
   ],
   "source": [
    "mc_chat.head(3)"
   ]
  },
  {
   "cell_type": "code",
   "execution_count": 7,
   "id": "6effef52",
   "metadata": {
    "execution": {
     "iopub.execute_input": "2024-06-12T18:33:19.637792Z",
     "iopub.status.busy": "2024-06-12T18:33:19.637500Z",
     "iopub.status.idle": "2024-06-12T18:33:19.700589Z",
     "shell.execute_reply": "2024-06-12T18:33:19.699515Z"
    },
    "papermill": {
     "duration": 0.095145,
     "end_time": "2024-06-12T18:33:19.702840",
     "exception": false,
     "start_time": "2024-06-12T18:33:19.607695",
     "status": "completed"
    },
    "tags": []
   },
   "outputs": [
    {
     "data": {
      "text/html": [
       "<div>\n",
       "<style scoped>\n",
       "    .dataframe tbody tr th:only-of-type {\n",
       "        vertical-align: middle;\n",
       "    }\n",
       "\n",
       "    .dataframe tbody tr th {\n",
       "        vertical-align: top;\n",
       "    }\n",
       "\n",
       "    .dataframe thead th {\n",
       "        text-align: right;\n",
       "    }\n",
       "</style>\n",
       "<table border=\"1\" class=\"dataframe\">\n",
       "  <thead>\n",
       "    <tr style=\"text-align: right;\">\n",
       "      <th></th>\n",
       "      <th>author</th>\n",
       "      <th>published_date</th>\n",
       "      <th>like_count</th>\n",
       "      <th>text</th>\n",
       "    </tr>\n",
       "  </thead>\n",
       "  <tbody>\n",
       "    <tr>\n",
       "      <th>0</th>\n",
       "      <td>@skmdimran852</td>\n",
       "      <td>2024-05-21</td>\n",
       "      <td>0</td>\n",
       "      <td>❤❤❤</td>\n",
       "    </tr>\n",
       "    <tr>\n",
       "      <th>1</th>\n",
       "      <td>@tanvirhaquekhan6061</td>\n",
       "      <td>2024-05-20</td>\n",
       "      <td>0</td>\n",
       "      <td>সত্যজিত রায়ের মতো এমন দূরদর্শী মানুষ হাজার বছর...</td>\n",
       "    </tr>\n",
       "    <tr>\n",
       "      <th>2</th>\n",
       "      <td>@MohammadArman-ob1id</td>\n",
       "      <td>2024-05-20</td>\n",
       "      <td>0</td>\n",
       "      <td>Mitryur porer abostha toh bollen na keno ami j...</td>\n",
       "    </tr>\n",
       "  </tbody>\n",
       "</table>\n",
       "</div>"
      ],
      "text/plain": [
       "                 author published_date  like_count  \\\n",
       "0         @skmdimran852     2024-05-21           0   \n",
       "1  @tanvirhaquekhan6061     2024-05-20           0   \n",
       "2  @MohammadArman-ob1id     2024-05-20           0   \n",
       "\n",
       "                                                text  \n",
       "0                                                ❤❤❤  \n",
       "1  সত্যজিত রায়ের মতো এমন দূরদর্শী মানুষ হাজার বছর...  \n",
       "2  Mitryur porer abostha toh bollen na keno ami j...  "
      ]
     },
     "execution_count": 7,
     "metadata": {},
     "output_type": "execute_result"
    }
   ],
   "source": [
    "mc_com.drop(columns = ['published_time', 'video_id'], inplace=True)\n",
    "ms_com.drop(columns = ['published_time', 'video_id'], inplace=True)\n",
    "mt_com.drop(columns = ['published_time', 'video_id'], inplace=True)\n",
    "\n",
    "mc_com.head(3)"
   ]
  },
  {
   "cell_type": "code",
   "execution_count": 8,
   "id": "d5e68551",
   "metadata": {
    "execution": {
     "iopub.execute_input": "2024-06-12T18:33:19.763156Z",
     "iopub.status.busy": "2024-06-12T18:33:19.762823Z",
     "iopub.status.idle": "2024-06-12T18:33:19.818007Z",
     "shell.execute_reply": "2024-06-12T18:33:19.817276Z"
    },
    "papermill": {
     "duration": 0.087996,
     "end_time": "2024-06-12T18:33:19.820363",
     "exception": false,
     "start_time": "2024-06-12T18:33:19.732367",
     "status": "completed"
    },
    "tags": []
   },
   "outputs": [],
   "source": [
    "# Assuming df is your DataFrame\n",
    "mc_com['text'] = mc_com['text'].astype(str)\n",
    "ms_com['text'] = ms_com['text'].astype(str)\n",
    "mt_com['text'] = mt_com['text'].astype(str)\n",
    "mc_chat['message'] = mc_chat['message'].astype(str)"
   ]
  },
  {
   "cell_type": "code",
   "execution_count": 9,
   "id": "d9530d4a",
   "metadata": {
    "execution": {
     "iopub.execute_input": "2024-06-12T18:33:19.920331Z",
     "iopub.status.busy": "2024-06-12T18:33:19.919531Z",
     "iopub.status.idle": "2024-06-12T18:33:19.999869Z",
     "shell.execute_reply": "2024-06-12T18:33:19.999139Z"
    },
    "papermill": {
     "duration": 0.112892,
     "end_time": "2024-06-12T18:33:20.002215",
     "exception": false,
     "start_time": "2024-06-12T18:33:19.889323",
     "status": "completed"
    },
    "tags": []
   },
   "outputs": [],
   "source": [
    "import langid\n",
    "\n",
    "def detect_language(text):\n",
    "    x = langid.classify(text)[0]\n",
    "    if  x == 'bn':\n",
    "        return 'bangla'\n",
    "    elif x == 'en':\n",
    "        return 'english'\n",
    "    else:\n",
    "        return 'banglish'\n"
   ]
  },
  {
   "cell_type": "code",
   "execution_count": 10,
   "id": "267f7e3b",
   "metadata": {
    "execution": {
     "iopub.execute_input": "2024-06-12T18:33:20.063099Z",
     "iopub.status.busy": "2024-06-12T18:33:20.062287Z",
     "iopub.status.idle": "2024-06-12T18:33:22.273720Z",
     "shell.execute_reply": "2024-06-12T18:33:22.272474Z"
    },
    "papermill": {
     "duration": 2.24496,
     "end_time": "2024-06-12T18:33:22.277138",
     "exception": false,
     "start_time": "2024-06-12T18:33:20.032178",
     "status": "completed"
    },
    "tags": []
   },
   "outputs": [
    {
     "name": "stdout",
     "output_type": "stream",
     "text": [
      "Thanks Mr.mir\n"
     ]
    },
    {
     "data": {
      "text/plain": [
       "'english'"
      ]
     },
     "execution_count": 10,
     "metadata": {},
     "output_type": "execute_result"
    }
   ],
   "source": [
    "print(mt_com['text'][0])\n",
    "detect_language(mt_com['text'][0])"
   ]
  },
  {
   "cell_type": "code",
   "execution_count": 11,
   "id": "60d55e2f",
   "metadata": {
    "execution": {
     "iopub.execute_input": "2024-06-12T18:33:22.401194Z",
     "iopub.status.busy": "2024-06-12T18:33:22.400896Z",
     "iopub.status.idle": "2024-06-12T18:33:28.981366Z",
     "shell.execute_reply": "2024-06-12T18:33:28.980342Z"
    },
    "papermill": {
     "duration": 6.643131,
     "end_time": "2024-06-12T18:33:28.983370",
     "exception": false,
     "start_time": "2024-06-12T18:33:22.340239",
     "status": "completed"
    },
    "tags": []
   },
   "outputs": [
    {
     "name": "stderr",
     "output_type": "stream",
     "text": [
      "100%|██████████| 445398/445398 [00:03<00:00, 117690.88it/s]\n",
      "100%|██████████| 201633/201633 [00:01<00:00, 108475.72it/s]\n",
      "100%|██████████| 99687/99687 [00:00<00:00, 110425.31it/s]\n"
     ]
    }
   ],
   "source": [
    "import langid\n",
    "def clean_emoji(text):\n",
    "    cleaned_text = re.sub('[^a-zA-z0-9\\u0980-\\u09FF,./!?$%&\"\\'\\\\-_;:।]',\" \",text)\n",
    "    return cleaned_text\n",
    "\n",
    "tqdm.pandas()\n",
    "ms_com['ctext'] = ms_com.text.progress_apply(clean_emoji)\n",
    "mc_com['ctext'] = mc_com.text.progress_apply(clean_emoji)\n",
    "mt_com['ctext'] = mt_com.text.progress_apply(clean_emoji)"
   ]
  },
  {
   "cell_type": "code",
   "execution_count": 12,
   "id": "fb7e90dd",
   "metadata": {
    "execution": {
     "iopub.execute_input": "2024-06-12T18:33:29.054502Z",
     "iopub.status.busy": "2024-06-12T18:33:29.054168Z",
     "iopub.status.idle": "2024-06-12T18:33:29.070799Z",
     "shell.execute_reply": "2024-06-12T18:33:29.069920Z"
    },
    "papermill": {
     "duration": 0.054209,
     "end_time": "2024-06-12T18:33:29.072702",
     "exception": false,
     "start_time": "2024-06-12T18:33:29.018493",
     "status": "completed"
    },
    "tags": []
   },
   "outputs": [
    {
     "data": {
      "text/html": [
       "<div>\n",
       "<style scoped>\n",
       "    .dataframe tbody tr th:only-of-type {\n",
       "        vertical-align: middle;\n",
       "    }\n",
       "\n",
       "    .dataframe tbody tr th {\n",
       "        vertical-align: top;\n",
       "    }\n",
       "\n",
       "    .dataframe thead th {\n",
       "        text-align: right;\n",
       "    }\n",
       "</style>\n",
       "<table border=\"1\" class=\"dataframe\">\n",
       "  <thead>\n",
       "    <tr style=\"text-align: right;\">\n",
       "      <th></th>\n",
       "      <th>author</th>\n",
       "      <th>published_date</th>\n",
       "      <th>like_count</th>\n",
       "      <th>text</th>\n",
       "      <th>public</th>\n",
       "      <th>ctext</th>\n",
       "      <th>language</th>\n",
       "    </tr>\n",
       "  </thead>\n",
       "  <tbody>\n",
       "    <tr>\n",
       "      <th>0</th>\n",
       "      <td>@anwarulkabir6319</td>\n",
       "      <td>2024-05-16</td>\n",
       "      <td>0</td>\n",
       "      <td>Thanks Mr.mir</td>\n",
       "      <td>True</td>\n",
       "      <td>Thanks Mr.mir</td>\n",
       "      <td></td>\n",
       "    </tr>\n",
       "    <tr>\n",
       "      <th>1</th>\n",
       "      <td>@JayitaKundu-fy3hp</td>\n",
       "      <td>2024-05-11</td>\n",
       "      <td>0</td>\n",
       "      <td>বিভূতিভূষণ বন্দ্যোপাধ্যায় এর আদৰ্শ হিন্দু হোটে...</td>\n",
       "      <td>True</td>\n",
       "      <td>বিভূতিভূষণ বন্দ্যোপাধ্যায় এর আদৰ্শ হিন্দু হোটে...</td>\n",
       "      <td></td>\n",
       "    </tr>\n",
       "    <tr>\n",
       "      <th>2</th>\n",
       "      <td>@subi4098</td>\n",
       "      <td>2024-05-04</td>\n",
       "      <td>0</td>\n",
       "      <td>.vison boro fan tomar ami..mirchi te tomar gol...</td>\n",
       "      <td>True</td>\n",
       "      <td>.vison boro fan tomar ami..mirchi te tomar gol...</td>\n",
       "      <td></td>\n",
       "    </tr>\n",
       "    <tr>\n",
       "      <th>3</th>\n",
       "      <td>@samhotibanerjee95</td>\n",
       "      <td>2024-05-03</td>\n",
       "      <td>0</td>\n",
       "      <td>এতো স্ট্রোরি টেলার আছে yt channel এ কিন্তু মীর...</td>\n",
       "      <td>True</td>\n",
       "      <td>এতো স্ট্রোরি টেলার আছে yt channel এ কিন্তু মীর...</td>\n",
       "      <td></td>\n",
       "    </tr>\n",
       "    <tr>\n",
       "      <th>4</th>\n",
       "      <td>@malabikasengupta9803</td>\n",
       "      <td>2024-04-29</td>\n",
       "      <td>0</td>\n",
       "      <td>Khub bhalo laglo Mir.\\nMone hochilo golper mod...</td>\n",
       "      <td>True</td>\n",
       "      <td>Khub bhalo laglo Mir. Mone hochilo golper modh...</td>\n",
       "      <td></td>\n",
       "    </tr>\n",
       "  </tbody>\n",
       "</table>\n",
       "</div>"
      ],
      "text/plain": [
       "                  author published_date  like_count  \\\n",
       "0      @anwarulkabir6319     2024-05-16           0   \n",
       "1     @JayitaKundu-fy3hp     2024-05-11           0   \n",
       "2              @subi4098     2024-05-04           0   \n",
       "3     @samhotibanerjee95     2024-05-03           0   \n",
       "4  @malabikasengupta9803     2024-04-29           0   \n",
       "\n",
       "                                                text  public  \\\n",
       "0                                      Thanks Mr.mir    True   \n",
       "1  বিভূতিভূষণ বন্দ্যোপাধ্যায় এর আদৰ্শ হিন্দু হোটে...    True   \n",
       "2  .vison boro fan tomar ami..mirchi te tomar gol...    True   \n",
       "3  এতো স্ট্রোরি টেলার আছে yt channel এ কিন্তু মীর...    True   \n",
       "4  Khub bhalo laglo Mir.\\nMone hochilo golper mod...    True   \n",
       "\n",
       "                                               ctext language  \n",
       "0                                      Thanks Mr.mir           \n",
       "1  বিভূতিভূষণ বন্দ্যোপাধ্যায় এর আদৰ্শ হিন্দু হোটে...           \n",
       "2  .vison boro fan tomar ami..mirchi te tomar gol...           \n",
       "3  এতো স্ট্রোরি টেলার আছে yt channel এ কিন্তু মীর...           \n",
       "4  Khub bhalo laglo Mir. Mone hochilo golper modh...           "
      ]
     },
     "execution_count": 12,
     "metadata": {},
     "output_type": "execute_result"
    }
   ],
   "source": [
    "def detect_whitespace(text):\n",
    "    return re.match(r'^\\s*$', text) is not None\n",
    "\n",
    "ms_com['language'] = ''\n",
    "mc_com['language'] = ''\n",
    "mt_com['language'] = ''\n",
    "\n",
    "\n",
    "mt_com.head()"
   ]
  },
  {
   "cell_type": "code",
   "execution_count": 13,
   "id": "3f701804",
   "metadata": {
    "execution": {
     "iopub.execute_input": "2024-06-12T18:33:29.144815Z",
     "iopub.status.busy": "2024-06-12T18:33:29.144211Z",
     "iopub.status.idle": "2024-06-12T18:33:29.254253Z",
     "shell.execute_reply": "2024-06-12T18:33:29.253369Z"
    },
    "papermill": {
     "duration": 0.147691,
     "end_time": "2024-06-12T18:33:29.256124",
     "exception": false,
     "start_time": "2024-06-12T18:33:29.108433",
     "status": "completed"
    },
    "tags": []
   },
   "outputs": [
    {
     "data": {
      "text/plain": [
       "author            0\n",
       "published_date    0\n",
       "like_count        0\n",
       "text              0\n",
       "ctext             0\n",
       "language          0\n",
       "dtype: int64"
      ]
     },
     "execution_count": 13,
     "metadata": {},
     "output_type": "execute_result"
    }
   ],
   "source": [
    "mc_com.isna().sum()"
   ]
  },
  {
   "cell_type": "markdown",
   "id": "5e9645ec",
   "metadata": {
    "papermill": {
     "duration": 0.035446,
     "end_time": "2024-06-12T18:33:29.326796",
     "exception": false,
     "start_time": "2024-06-12T18:33:29.291350",
     "status": "completed"
    },
    "tags": []
   },
   "source": [
    "### Adding Language in Mirer thek"
   ]
  },
  {
   "cell_type": "code",
   "execution_count": 14,
   "id": "878aa827",
   "metadata": {
    "execution": {
     "iopub.execute_input": "2024-06-12T18:33:29.399784Z",
     "iopub.status.busy": "2024-06-12T18:33:29.399447Z",
     "iopub.status.idle": "2024-06-12T18:33:29.403894Z",
     "shell.execute_reply": "2024-06-12T18:33:29.403055Z"
    },
    "papermill": {
     "duration": 0.043223,
     "end_time": "2024-06-12T18:33:29.405714",
     "exception": false,
     "start_time": "2024-06-12T18:33:29.362491",
     "status": "completed"
    },
    "tags": []
   },
   "outputs": [],
   "source": [
    "# for ind in tqdm(mt_com.index):\n",
    "#     if detect_whitespace(mt_com['ctext'][ind]) == False:\n",
    "#         try:\n",
    "#             lang=langid.classify(mt_com['ctext'][ind])\n",
    "#         except:\n",
    "#             lang[0]='no'\n",
    "#         if lang[0] == \"en\":\n",
    "#             mt_com.loc[ind,'language'] = \"English\"\n",
    "#         elif lang[0] == \"bn\":\n",
    "#             mt_com.loc[ind,'language'] = \"Bengali\"\n",
    "#         elif lang[0] == \"no\":\n",
    "#             mt_com.loc[ind,'language'] = \"Unidentified\"\n",
    "#         else:\n",
    "#             mt_com.loc[ind,'language'] = \"Banglish\"\n",
    "#     elif detect_whitespace(mt_com['ctext'][ind]) == True:\n",
    "#         mt_com.loc[ind,'language'] = \"Emoji\""
   ]
  },
  {
   "cell_type": "code",
   "execution_count": 15,
   "id": "e35efbca",
   "metadata": {
    "execution": {
     "iopub.execute_input": "2024-06-12T18:33:29.478297Z",
     "iopub.status.busy": "2024-06-12T18:33:29.477966Z",
     "iopub.status.idle": "2024-06-12T18:33:29.490641Z",
     "shell.execute_reply": "2024-06-12T18:33:29.489593Z"
    },
    "papermill": {
     "duration": 0.051292,
     "end_time": "2024-06-12T18:33:29.492815",
     "exception": false,
     "start_time": "2024-06-12T18:33:29.441523",
     "status": "completed"
    },
    "tags": []
   },
   "outputs": [
    {
     "data": {
      "text/html": [
       "<div>\n",
       "<style scoped>\n",
       "    .dataframe tbody tr th:only-of-type {\n",
       "        vertical-align: middle;\n",
       "    }\n",
       "\n",
       "    .dataframe tbody tr th {\n",
       "        vertical-align: top;\n",
       "    }\n",
       "\n",
       "    .dataframe thead th {\n",
       "        text-align: right;\n",
       "    }\n",
       "</style>\n",
       "<table border=\"1\" class=\"dataframe\">\n",
       "  <thead>\n",
       "    <tr style=\"text-align: right;\">\n",
       "      <th></th>\n",
       "      <th>author</th>\n",
       "      <th>published_date</th>\n",
       "      <th>like_count</th>\n",
       "      <th>text</th>\n",
       "      <th>public</th>\n",
       "      <th>ctext</th>\n",
       "      <th>language</th>\n",
       "    </tr>\n",
       "  </thead>\n",
       "  <tbody>\n",
       "    <tr>\n",
       "      <th>0</th>\n",
       "      <td>@anwarulkabir6319</td>\n",
       "      <td>2024-05-16</td>\n",
       "      <td>0</td>\n",
       "      <td>Thanks Mr.mir</td>\n",
       "      <td>True</td>\n",
       "      <td>Thanks Mr.mir</td>\n",
       "      <td></td>\n",
       "    </tr>\n",
       "    <tr>\n",
       "      <th>1</th>\n",
       "      <td>@JayitaKundu-fy3hp</td>\n",
       "      <td>2024-05-11</td>\n",
       "      <td>0</td>\n",
       "      <td>বিভূতিভূষণ বন্দ্যোপাধ্যায় এর আদৰ্শ হিন্দু হোটে...</td>\n",
       "      <td>True</td>\n",
       "      <td>বিভূতিভূষণ বন্দ্যোপাধ্যায় এর আদৰ্শ হিন্দু হোটে...</td>\n",
       "      <td></td>\n",
       "    </tr>\n",
       "    <tr>\n",
       "      <th>2</th>\n",
       "      <td>@subi4098</td>\n",
       "      <td>2024-05-04</td>\n",
       "      <td>0</td>\n",
       "      <td>.vison boro fan tomar ami..mirchi te tomar gol...</td>\n",
       "      <td>True</td>\n",
       "      <td>.vison boro fan tomar ami..mirchi te tomar gol...</td>\n",
       "      <td></td>\n",
       "    </tr>\n",
       "  </tbody>\n",
       "</table>\n",
       "</div>"
      ],
      "text/plain": [
       "               author published_date  like_count  \\\n",
       "0   @anwarulkabir6319     2024-05-16           0   \n",
       "1  @JayitaKundu-fy3hp     2024-05-11           0   \n",
       "2           @subi4098     2024-05-04           0   \n",
       "\n",
       "                                                text  public  \\\n",
       "0                                      Thanks Mr.mir    True   \n",
       "1  বিভূতিভূষণ বন্দ্যোপাধ্যায় এর আদৰ্শ হিন্দু হোটে...    True   \n",
       "2  .vison boro fan tomar ami..mirchi te tomar gol...    True   \n",
       "\n",
       "                                               ctext language  \n",
       "0                                      Thanks Mr.mir           \n",
       "1  বিভূতিভূষণ বন্দ্যোপাধ্যায় এর আদৰ্শ হিন্দু হোটে...           \n",
       "2  .vison boro fan tomar ami..mirchi te tomar gol...           "
      ]
     },
     "execution_count": 15,
     "metadata": {},
     "output_type": "execute_result"
    }
   ],
   "source": [
    "mt_com.head(3)"
   ]
  },
  {
   "cell_type": "code",
   "execution_count": 16,
   "id": "5aebebf3",
   "metadata": {
    "execution": {
     "iopub.execute_input": "2024-06-12T18:33:29.568746Z",
     "iopub.status.busy": "2024-06-12T18:33:29.568428Z",
     "iopub.status.idle": "2024-06-12T18:33:29.572289Z",
     "shell.execute_reply": "2024-06-12T18:33:29.571432Z"
    },
    "papermill": {
     "duration": 0.043042,
     "end_time": "2024-06-12T18:33:29.574349",
     "exception": false,
     "start_time": "2024-06-12T18:33:29.531307",
     "status": "completed"
    },
    "tags": []
   },
   "outputs": [],
   "source": [
    "# mt_com.language.value_counts()"
   ]
  },
  {
   "cell_type": "code",
   "execution_count": 17,
   "id": "4fe797d3",
   "metadata": {
    "execution": {
     "iopub.execute_input": "2024-06-12T18:33:29.647836Z",
     "iopub.status.busy": "2024-06-12T18:33:29.647148Z",
     "iopub.status.idle": "2024-06-12T18:33:29.650803Z",
     "shell.execute_reply": "2024-06-12T18:33:29.650003Z"
    },
    "papermill": {
     "duration": 0.042653,
     "end_time": "2024-06-12T18:33:29.652541",
     "exception": false,
     "start_time": "2024-06-12T18:33:29.609888",
     "status": "completed"
    },
    "tags": []
   },
   "outputs": [],
   "source": [
    "# filt = mt_com[mt_com['language']=='Emoji']\n",
    "# filt"
   ]
  },
  {
   "cell_type": "code",
   "execution_count": 18,
   "id": "3b6aecda",
   "metadata": {
    "execution": {
     "iopub.execute_input": "2024-06-12T18:33:29.725750Z",
     "iopub.status.busy": "2024-06-12T18:33:29.725473Z",
     "iopub.status.idle": "2024-06-12T18:33:29.729151Z",
     "shell.execute_reply": "2024-06-12T18:33:29.728298Z"
    },
    "papermill": {
     "duration": 0.043039,
     "end_time": "2024-06-12T18:33:29.731100",
     "exception": false,
     "start_time": "2024-06-12T18:33:29.688061",
     "status": "completed"
    },
    "tags": []
   },
   "outputs": [],
   "source": [
    "# filt.isna().sum()"
   ]
  },
  {
   "cell_type": "code",
   "execution_count": 19,
   "id": "77ab3cc7",
   "metadata": {
    "execution": {
     "iopub.execute_input": "2024-06-12T18:33:29.805210Z",
     "iopub.status.busy": "2024-06-12T18:33:29.804938Z",
     "iopub.status.idle": "2024-06-12T18:33:29.808517Z",
     "shell.execute_reply": "2024-06-12T18:33:29.807696Z"
    },
    "papermill": {
     "duration": 0.042625,
     "end_time": "2024-06-12T18:33:29.810328",
     "exception": false,
     "start_time": "2024-06-12T18:33:29.767703",
     "status": "completed"
    },
    "tags": []
   },
   "outputs": [],
   "source": [
    "# mt_com.dropna(inplace=True)\n",
    "# mt_com.isna().sum()"
   ]
  },
  {
   "cell_type": "code",
   "execution_count": 20,
   "id": "b021ed3e",
   "metadata": {
    "execution": {
     "iopub.execute_input": "2024-06-12T18:33:29.882104Z",
     "iopub.status.busy": "2024-06-12T18:33:29.881816Z",
     "iopub.status.idle": "2024-06-12T18:33:29.885451Z",
     "shell.execute_reply": "2024-06-12T18:33:29.884662Z"
    },
    "papermill": {
     "duration": 0.041413,
     "end_time": "2024-06-12T18:33:29.887200",
     "exception": false,
     "start_time": "2024-06-12T18:33:29.845787",
     "status": "completed"
    },
    "tags": []
   },
   "outputs": [],
   "source": [
    "# mt_com.to_parquet('/kaggle/working/mirer_thek_comment.parquet', index=False)"
   ]
  },
  {
   "cell_type": "markdown",
   "id": "1af19d1e",
   "metadata": {
    "papermill": {
     "duration": 0.034959,
     "end_time": "2024-06-12T18:33:29.957971",
     "exception": false,
     "start_time": "2024-06-12T18:33:29.923012",
     "status": "completed"
    },
    "tags": []
   },
   "source": [
    "### Adding Language in Mir chara"
   ]
  },
  {
   "cell_type": "code",
   "execution_count": 21,
   "id": "3e85c2ca",
   "metadata": {
    "execution": {
     "iopub.execute_input": "2024-06-12T18:33:30.029363Z",
     "iopub.status.busy": "2024-06-12T18:33:30.029024Z",
     "iopub.status.idle": "2024-06-12T18:33:30.033397Z",
     "shell.execute_reply": "2024-06-12T18:33:30.032608Z"
    },
    "papermill": {
     "duration": 0.042351,
     "end_time": "2024-06-12T18:33:30.035273",
     "exception": false,
     "start_time": "2024-06-12T18:33:29.992922",
     "status": "completed"
    },
    "tags": []
   },
   "outputs": [],
   "source": [
    "# for ind in tqdm(mc_com.index):\n",
    "#     if detect_whitespace(mc_com['ctext'][ind]) == False:\n",
    "#         try:\n",
    "#             lang=langid.classify(mc_com['ctext'][ind])\n",
    "#         except:\n",
    "#             lang[0]='no'\n",
    "#         if lang[0] == \"en\":\n",
    "#             mc_com.loc[ind,'language'] = \"English\"\n",
    "#         elif lang[0] == \"bn\":\n",
    "#             mc_com.loc[ind,'language'] = \"Bengali\"\n",
    "#         elif lang[0] == \"no\":\n",
    "#             mc_com.loc[ind,'language'] = \"Unidentified\"\n",
    "#         else:\n",
    "#             mc_com.loc[ind,'language'] = \"Banglish\"\n",
    "#     elif detect_whitespace(mc_com['ctext'][ind]) == True:\n",
    "#         mc_com.loc[ind,'language'] = \"Emoji\""
   ]
  },
  {
   "cell_type": "code",
   "execution_count": 22,
   "id": "aa4eb426",
   "metadata": {
    "execution": {
     "iopub.execute_input": "2024-06-12T18:33:30.106997Z",
     "iopub.status.busy": "2024-06-12T18:33:30.106710Z",
     "iopub.status.idle": "2024-06-12T18:33:30.116778Z",
     "shell.execute_reply": "2024-06-12T18:33:30.116098Z"
    },
    "papermill": {
     "duration": 0.048288,
     "end_time": "2024-06-12T18:33:30.118692",
     "exception": false,
     "start_time": "2024-06-12T18:33:30.070404",
     "status": "completed"
    },
    "tags": []
   },
   "outputs": [
    {
     "data": {
      "text/html": [
       "<div>\n",
       "<style scoped>\n",
       "    .dataframe tbody tr th:only-of-type {\n",
       "        vertical-align: middle;\n",
       "    }\n",
       "\n",
       "    .dataframe tbody tr th {\n",
       "        vertical-align: top;\n",
       "    }\n",
       "\n",
       "    .dataframe thead th {\n",
       "        text-align: right;\n",
       "    }\n",
       "</style>\n",
       "<table border=\"1\" class=\"dataframe\">\n",
       "  <thead>\n",
       "    <tr style=\"text-align: right;\">\n",
       "      <th></th>\n",
       "      <th>author</th>\n",
       "      <th>published_date</th>\n",
       "      <th>like_count</th>\n",
       "      <th>text</th>\n",
       "      <th>ctext</th>\n",
       "      <th>language</th>\n",
       "    </tr>\n",
       "  </thead>\n",
       "  <tbody>\n",
       "    <tr>\n",
       "      <th>0</th>\n",
       "      <td>@skmdimran852</td>\n",
       "      <td>2024-05-21</td>\n",
       "      <td>0</td>\n",
       "      <td>❤❤❤</td>\n",
       "      <td></td>\n",
       "      <td></td>\n",
       "    </tr>\n",
       "    <tr>\n",
       "      <th>1</th>\n",
       "      <td>@tanvirhaquekhan6061</td>\n",
       "      <td>2024-05-20</td>\n",
       "      <td>0</td>\n",
       "      <td>সত্যজিত রায়ের মতো এমন দূরদর্শী মানুষ হাজার বছর...</td>\n",
       "      <td>সত্যজিত রায়ের মতো এমন দূরদর্শী মানুষ হাজার বছর...</td>\n",
       "      <td></td>\n",
       "    </tr>\n",
       "    <tr>\n",
       "      <th>2</th>\n",
       "      <td>@MohammadArman-ob1id</td>\n",
       "      <td>2024-05-20</td>\n",
       "      <td>0</td>\n",
       "      <td>Mitryur porer abostha toh bollen na keno ami j...</td>\n",
       "      <td>Mitryur porer abostha toh bollen na keno ami j...</td>\n",
       "      <td></td>\n",
       "    </tr>\n",
       "  </tbody>\n",
       "</table>\n",
       "</div>"
      ],
      "text/plain": [
       "                 author published_date  like_count  \\\n",
       "0         @skmdimran852     2024-05-21           0   \n",
       "1  @tanvirhaquekhan6061     2024-05-20           0   \n",
       "2  @MohammadArman-ob1id     2024-05-20           0   \n",
       "\n",
       "                                                text  \\\n",
       "0                                                ❤❤❤   \n",
       "1  সত্যজিত রায়ের মতো এমন দূরদর্শী মানুষ হাজার বছর...   \n",
       "2  Mitryur porer abostha toh bollen na keno ami j...   \n",
       "\n",
       "                                               ctext language  \n",
       "0                                                              \n",
       "1  সত্যজিত রায়ের মতো এমন দূরদর্শী মানুষ হাজার বছর...           \n",
       "2  Mitryur porer abostha toh bollen na keno ami j...           "
      ]
     },
     "execution_count": 22,
     "metadata": {},
     "output_type": "execute_result"
    }
   ],
   "source": [
    "mc_com.head(3)"
   ]
  },
  {
   "cell_type": "code",
   "execution_count": 23,
   "id": "6f06e92a",
   "metadata": {
    "execution": {
     "iopub.execute_input": "2024-06-12T18:33:30.191546Z",
     "iopub.status.busy": "2024-06-12T18:33:30.190947Z",
     "iopub.status.idle": "2024-06-12T18:33:30.194718Z",
     "shell.execute_reply": "2024-06-12T18:33:30.193867Z"
    },
    "papermill": {
     "duration": 0.042291,
     "end_time": "2024-06-12T18:33:30.196565",
     "exception": false,
     "start_time": "2024-06-12T18:33:30.154274",
     "status": "completed"
    },
    "tags": []
   },
   "outputs": [],
   "source": [
    "# mc_com.language.value_counts()"
   ]
  },
  {
   "cell_type": "code",
   "execution_count": 24,
   "id": "b4ad2479",
   "metadata": {
    "execution": {
     "iopub.execute_input": "2024-06-12T18:33:30.268931Z",
     "iopub.status.busy": "2024-06-12T18:33:30.268248Z",
     "iopub.status.idle": "2024-06-12T18:33:30.271873Z",
     "shell.execute_reply": "2024-06-12T18:33:30.271066Z"
    },
    "papermill": {
     "duration": 0.041756,
     "end_time": "2024-06-12T18:33:30.273758",
     "exception": false,
     "start_time": "2024-06-12T18:33:30.232002",
     "status": "completed"
    },
    "tags": []
   },
   "outputs": [],
   "source": [
    "# mt_com.dropna(inplace=True)\n",
    "# mc_com.isna().sum()"
   ]
  },
  {
   "cell_type": "code",
   "execution_count": 25,
   "id": "c8c6f46e",
   "metadata": {
    "execution": {
     "iopub.execute_input": "2024-06-12T18:33:30.346028Z",
     "iopub.status.busy": "2024-06-12T18:33:30.345743Z",
     "iopub.status.idle": "2024-06-12T18:33:30.349320Z",
     "shell.execute_reply": "2024-06-12T18:33:30.348488Z"
    },
    "papermill": {
     "duration": 0.041821,
     "end_time": "2024-06-12T18:33:30.351145",
     "exception": false,
     "start_time": "2024-06-12T18:33:30.309324",
     "status": "completed"
    },
    "tags": []
   },
   "outputs": [],
   "source": [
    "# mc_com.to_parquet('/kaggle/working/mir_chara_comment.parquet', index=False)"
   ]
  },
  {
   "cell_type": "markdown",
   "id": "fc9e0ece",
   "metadata": {
    "papermill": {
     "duration": 0.03535,
     "end_time": "2024-06-12T18:33:30.421776",
     "exception": false,
     "start_time": "2024-06-12T18:33:30.386426",
     "status": "completed"
    },
    "tags": []
   },
   "source": [
    "### Adding Language in Mir Shoho"
   ]
  },
  {
   "cell_type": "code",
   "execution_count": 26,
   "id": "e2b3178b",
   "metadata": {
    "execution": {
     "iopub.execute_input": "2024-06-12T18:33:30.494931Z",
     "iopub.status.busy": "2024-06-12T18:33:30.494620Z",
     "iopub.status.idle": "2024-06-12T18:33:30.498903Z",
     "shell.execute_reply": "2024-06-12T18:33:30.498076Z"
    },
    "papermill": {
     "duration": 0.043655,
     "end_time": "2024-06-12T18:33:30.500802",
     "exception": false,
     "start_time": "2024-06-12T18:33:30.457147",
     "status": "completed"
    },
    "tags": []
   },
   "outputs": [],
   "source": [
    "# for ind in tqdm(ms_com.index):\n",
    "#     if detect_whitespace(ms_com['ctext'][ind]) == False:\n",
    "#         try:\n",
    "#             lang=langid.classify(ms_com['ctext'][ind])\n",
    "#         except:\n",
    "#             lang[0]='no'\n",
    "#         if lang[0] == \"en\":\n",
    "#             ms_com.loc[ind,'language'] = \"English\"\n",
    "#         elif lang[0] == \"bn\":\n",
    "#             ms_com.loc[ind,'language'] = \"Bengali\"\n",
    "#         elif lang[0] == \"no\":\n",
    "#             ms_com.loc[ind,'language'] = \"Unidentified\"\n",
    "#         else:\n",
    "#             ms_com.loc[ind,'language'] = \"Banglish\"\n",
    "#     elif detect_whitespace(ms_com['ctext'][ind]) == True:\n",
    "#         ms_com.loc[ind,'language'] = \"Emoji\""
   ]
  },
  {
   "cell_type": "code",
   "execution_count": 27,
   "id": "858c1143",
   "metadata": {
    "execution": {
     "iopub.execute_input": "2024-06-12T18:33:30.573945Z",
     "iopub.status.busy": "2024-06-12T18:33:30.573201Z",
     "iopub.status.idle": "2024-06-12T18:33:30.576948Z",
     "shell.execute_reply": "2024-06-12T18:33:30.576112Z"
    },
    "papermill": {
     "duration": 0.04261,
     "end_time": "2024-06-12T18:33:30.578923",
     "exception": false,
     "start_time": "2024-06-12T18:33:30.536313",
     "status": "completed"
    },
    "tags": []
   },
   "outputs": [],
   "source": [
    "# ms_com.head(3)"
   ]
  },
  {
   "cell_type": "code",
   "execution_count": 28,
   "id": "d868dbdf",
   "metadata": {
    "execution": {
     "iopub.execute_input": "2024-06-12T18:33:30.651103Z",
     "iopub.status.busy": "2024-06-12T18:33:30.650840Z",
     "iopub.status.idle": "2024-06-12T18:33:30.654150Z",
     "shell.execute_reply": "2024-06-12T18:33:30.653294Z"
    },
    "papermill": {
     "duration": 0.041703,
     "end_time": "2024-06-12T18:33:30.655995",
     "exception": false,
     "start_time": "2024-06-12T18:33:30.614292",
     "status": "completed"
    },
    "tags": []
   },
   "outputs": [],
   "source": [
    "# ms_com.isna().sum()"
   ]
  },
  {
   "cell_type": "code",
   "execution_count": 29,
   "id": "916d3f1f",
   "metadata": {
    "execution": {
     "iopub.execute_input": "2024-06-12T18:33:30.728295Z",
     "iopub.status.busy": "2024-06-12T18:33:30.727991Z",
     "iopub.status.idle": "2024-06-12T18:33:30.731646Z",
     "shell.execute_reply": "2024-06-12T18:33:30.730834Z"
    },
    "papermill": {
     "duration": 0.0422,
     "end_time": "2024-06-12T18:33:30.733557",
     "exception": false,
     "start_time": "2024-06-12T18:33:30.691357",
     "status": "completed"
    },
    "tags": []
   },
   "outputs": [],
   "source": [
    "# ms_com.language.value_counts()"
   ]
  },
  {
   "cell_type": "code",
   "execution_count": 30,
   "id": "556e5051",
   "metadata": {
    "execution": {
     "iopub.execute_input": "2024-06-12T18:33:30.807592Z",
     "iopub.status.busy": "2024-06-12T18:33:30.807263Z",
     "iopub.status.idle": "2024-06-12T18:33:30.811126Z",
     "shell.execute_reply": "2024-06-12T18:33:30.810275Z"
    },
    "papermill": {
     "duration": 0.043181,
     "end_time": "2024-06-12T18:33:30.813205",
     "exception": false,
     "start_time": "2024-06-12T18:33:30.770024",
     "status": "completed"
    },
    "tags": []
   },
   "outputs": [],
   "source": [
    "# ms_com.to_parquet('/kaggle/working/mir_shoho_comment.parquet', index=False)"
   ]
  },
  {
   "cell_type": "code",
   "execution_count": 31,
   "id": "3333397b",
   "metadata": {
    "execution": {
     "iopub.execute_input": "2024-06-12T18:33:30.885833Z",
     "iopub.status.busy": "2024-06-12T18:33:30.885276Z",
     "iopub.status.idle": "2024-06-12T18:33:30.888797Z",
     "shell.execute_reply": "2024-06-12T18:33:30.887981Z"
    },
    "papermill": {
     "duration": 0.041605,
     "end_time": "2024-06-12T18:33:30.890656",
     "exception": false,
     "start_time": "2024-06-12T18:33:30.849051",
     "status": "completed"
    },
    "tags": []
   },
   "outputs": [],
   "source": [
    "# df = pd.read_parquet('/kaggle/working/mir_shoho_comment.parquet')\n",
    "# df.shape"
   ]
  },
  {
   "cell_type": "markdown",
   "id": "c3898e4b",
   "metadata": {
    "papermill": {
     "duration": 0.035009,
     "end_time": "2024-06-12T18:33:30.960913",
     "exception": false,
     "start_time": "2024-06-12T18:33:30.925904",
     "status": "completed"
    },
    "tags": []
   },
   "source": [
    "## Start From Here\n",
    "## Reload them all"
   ]
  },
  {
   "cell_type": "code",
   "execution_count": 32,
   "id": "3867096b",
   "metadata": {
    "execution": {
     "iopub.execute_input": "2024-06-12T18:33:31.032491Z",
     "iopub.status.busy": "2024-06-12T18:33:31.032156Z",
     "iopub.status.idle": "2024-06-12T18:33:31.036032Z",
     "shell.execute_reply": "2024-06-12T18:33:31.035177Z"
    },
    "papermill": {
     "duration": 0.041702,
     "end_time": "2024-06-12T18:33:31.038010",
     "exception": false,
     "start_time": "2024-06-12T18:33:30.996308",
     "status": "completed"
    },
    "tags": []
   },
   "outputs": [],
   "source": [
    "# df1 = pd.read_parquet('/kaggle/working/mir_shoho_comment.parquet')\n",
    "# df2 = pd.read_parquet('/kaggle/working/mir_chara_comment.parquet')\n",
    "# df3 = pd.read_parquet('/kaggle/working/mirer_thek_comment.parquet')"
   ]
  },
  {
   "cell_type": "code",
   "execution_count": 33,
   "id": "7efde5fe",
   "metadata": {
    "execution": {
     "iopub.execute_input": "2024-06-12T18:33:31.109796Z",
     "iopub.status.busy": "2024-06-12T18:33:31.109275Z",
     "iopub.status.idle": "2024-06-12T18:33:33.367542Z",
     "shell.execute_reply": "2024-06-12T18:33:33.366717Z"
    },
    "papermill": {
     "duration": 2.296477,
     "end_time": "2024-06-12T18:33:33.369767",
     "exception": false,
     "start_time": "2024-06-12T18:33:31.073290",
     "status": "completed"
    },
    "tags": []
   },
   "outputs": [],
   "source": [
    "df1 = pd.read_parquet('/kaggle/input/media-study2-0/language/mir_shoho_comment.parquet')\n",
    "df2 = pd.read_parquet('/kaggle/input/media-study2-0/language/mir_chara_comment.parquet')\n",
    "df3 = pd.read_parquet('/kaggle/input/media-study2-0/language/mirer_thek_comment.parquet')"
   ]
  },
  {
   "cell_type": "code",
   "execution_count": 34,
   "id": "25d480cc",
   "metadata": {
    "execution": {
     "iopub.execute_input": "2024-06-12T18:33:33.443671Z",
     "iopub.status.busy": "2024-06-12T18:33:33.443328Z",
     "iopub.status.idle": "2024-06-12T18:33:33.447918Z",
     "shell.execute_reply": "2024-06-12T18:33:33.447050Z"
    },
    "papermill": {
     "duration": 0.04341,
     "end_time": "2024-06-12T18:33:33.450170",
     "exception": false,
     "start_time": "2024-06-12T18:33:33.406760",
     "status": "completed"
    },
    "tags": []
   },
   "outputs": [
    {
     "name": "stdout",
     "output_type": "stream",
     "text": [
      "(445398, 6) (201633, 6) (99686, 7)\n"
     ]
    }
   ],
   "source": [
    "print(df1.shape, df2.shape, df3.shape)"
   ]
  },
  {
   "cell_type": "code",
   "execution_count": 35,
   "id": "4361db10",
   "metadata": {
    "execution": {
     "iopub.execute_input": "2024-06-12T18:33:33.524415Z",
     "iopub.status.busy": "2024-06-12T18:33:33.523405Z",
     "iopub.status.idle": "2024-06-12T18:33:33.527795Z",
     "shell.execute_reply": "2024-06-12T18:33:33.526943Z"
    },
    "papermill": {
     "duration": 0.044014,
     "end_time": "2024-06-12T18:33:33.529679",
     "exception": false,
     "start_time": "2024-06-12T18:33:33.485665",
     "status": "completed"
    },
    "tags": []
   },
   "outputs": [],
   "source": [
    "# print(df1.shape, df2.shape, df3.shape)"
   ]
  },
  {
   "cell_type": "code",
   "execution_count": 36,
   "id": "69f38955",
   "metadata": {
    "execution": {
     "iopub.execute_input": "2024-06-12T18:33:33.601877Z",
     "iopub.status.busy": "2024-06-12T18:33:33.601578Z",
     "iopub.status.idle": "2024-06-12T18:33:33.612792Z",
     "shell.execute_reply": "2024-06-12T18:33:33.611914Z"
    },
    "papermill": {
     "duration": 0.049629,
     "end_time": "2024-06-12T18:33:33.614726",
     "exception": false,
     "start_time": "2024-06-12T18:33:33.565097",
     "status": "completed"
    },
    "tags": []
   },
   "outputs": [
    {
     "data": {
      "text/html": [
       "<div>\n",
       "<style scoped>\n",
       "    .dataframe tbody tr th:only-of-type {\n",
       "        vertical-align: middle;\n",
       "    }\n",
       "\n",
       "    .dataframe tbody tr th {\n",
       "        vertical-align: top;\n",
       "    }\n",
       "\n",
       "    .dataframe thead th {\n",
       "        text-align: right;\n",
       "    }\n",
       "</style>\n",
       "<table border=\"1\" class=\"dataframe\">\n",
       "  <thead>\n",
       "    <tr style=\"text-align: right;\">\n",
       "      <th></th>\n",
       "      <th>author</th>\n",
       "      <th>published_date</th>\n",
       "      <th>like_count</th>\n",
       "      <th>text</th>\n",
       "      <th>ctext</th>\n",
       "      <th>language</th>\n",
       "    </tr>\n",
       "  </thead>\n",
       "  <tbody>\n",
       "    <tr>\n",
       "      <th>0</th>\n",
       "      <td>@Storysuspensecomedy123</td>\n",
       "      <td>2023-01-25</td>\n",
       "      <td>1</td>\n",
       "      <td>Mirda তুমি আমাকে তৈরি করে নাও। আমার জীবন ও ভবি...</td>\n",
       "      <td>Mirda তুমি আমাকে তৈরি করে নাও। আমার জীবন ও ভবি...</td>\n",
       "      <td>Bengali</td>\n",
       "    </tr>\n",
       "    <tr>\n",
       "      <th>1</th>\n",
       "      <td>@kumkumdas9131</td>\n",
       "      <td>2023-01-25</td>\n",
       "      <td>0</td>\n",
       "      <td>তারানাথ তান্ত্রিকের অপেক্ষায় থাকলাম মীর দা</td>\n",
       "      <td>তারানাথ তান্ত্রিকের অপেক্ষায় থাকলাম মীর দা</td>\n",
       "      <td>Bengali</td>\n",
       "    </tr>\n",
       "    <tr>\n",
       "      <th>2</th>\n",
       "      <td>@golamrabbani8765</td>\n",
       "      <td>2023-01-25</td>\n",
       "      <td>0</td>\n",
       "      <td>আপনার কন্ঠে শার্লক হোমস আবারও শুনতে চাই❤️❤️❤️</td>\n",
       "      <td>আপনার কন্ঠে শার্লক হোমস আবারও শুনতে চাই</td>\n",
       "      <td>Bengali</td>\n",
       "    </tr>\n",
       "  </tbody>\n",
       "</table>\n",
       "</div>"
      ],
      "text/plain": [
       "                    author published_date  like_count  \\\n",
       "0  @Storysuspensecomedy123     2023-01-25           1   \n",
       "1           @kumkumdas9131     2023-01-25           0   \n",
       "2        @golamrabbani8765     2023-01-25           0   \n",
       "\n",
       "                                                text  \\\n",
       "0  Mirda তুমি আমাকে তৈরি করে নাও। আমার জীবন ও ভবি...   \n",
       "1        তারানাথ তান্ত্রিকের অপেক্ষায় থাকলাম মীর দা   \n",
       "2      আপনার কন্ঠে শার্লক হোমস আবারও শুনতে চাই❤️❤️❤️   \n",
       "\n",
       "                                               ctext language  \n",
       "0  Mirda তুমি আমাকে তৈরি করে নাও। আমার জীবন ও ভবি...  Bengali  \n",
       "1        তারানাথ তান্ত্রিকের অপেক্ষায় থাকলাম মীর দা  Bengali  \n",
       "2      আপনার কন্ঠে শার্লক হোমস আবারও শুনতে চাই        Bengali  "
      ]
     },
     "execution_count": 36,
     "metadata": {},
     "output_type": "execute_result"
    }
   ],
   "source": [
    "df1.head(3)"
   ]
  },
  {
   "cell_type": "code",
   "execution_count": 37,
   "id": "784315ab",
   "metadata": {
    "execution": {
     "iopub.execute_input": "2024-06-12T18:33:33.688993Z",
     "iopub.status.busy": "2024-06-12T18:33:33.688727Z",
     "iopub.status.idle": "2024-06-12T18:33:33.774438Z",
     "shell.execute_reply": "2024-06-12T18:33:33.773556Z"
    },
    "papermill": {
     "duration": 0.124458,
     "end_time": "2024-06-12T18:33:33.776558",
     "exception": false,
     "start_time": "2024-06-12T18:33:33.652100",
     "status": "completed"
    },
    "tags": []
   },
   "outputs": [
    {
     "data": {
      "text/html": [
       "<div>\n",
       "<style scoped>\n",
       "    .dataframe tbody tr th:only-of-type {\n",
       "        vertical-align: middle;\n",
       "    }\n",
       "\n",
       "    .dataframe tbody tr th {\n",
       "        vertical-align: top;\n",
       "    }\n",
       "\n",
       "    .dataframe thead th {\n",
       "        text-align: right;\n",
       "    }\n",
       "</style>\n",
       "<table border=\"1\" class=\"dataframe\">\n",
       "  <thead>\n",
       "    <tr style=\"text-align: right;\">\n",
       "      <th></th>\n",
       "      <th>author</th>\n",
       "      <th>published_date</th>\n",
       "      <th>like_count</th>\n",
       "      <th>text</th>\n",
       "      <th>ctext</th>\n",
       "      <th>language</th>\n",
       "    </tr>\n",
       "  </thead>\n",
       "  <tbody>\n",
       "    <tr>\n",
       "      <th>9</th>\n",
       "      <td>@rajarshikoner3528</td>\n",
       "      <td>2023-01-25</td>\n",
       "      <td>0</td>\n",
       "      <td>❤❤❤❤</td>\n",
       "      <td></td>\n",
       "      <td>Emoji</td>\n",
       "    </tr>\n",
       "    <tr>\n",
       "      <th>34</th>\n",
       "      <td>@joymondal1013</td>\n",
       "      <td>2023-01-25</td>\n",
       "      <td>0</td>\n",
       "      <td>❤️❤️❤️❤️</td>\n",
       "      <td></td>\n",
       "      <td>Emoji</td>\n",
       "    </tr>\n",
       "    <tr>\n",
       "      <th>42</th>\n",
       "      <td>@souvikmodak7194</td>\n",
       "      <td>2023-01-25</td>\n",
       "      <td>0</td>\n",
       "      <td>❤️🌻</td>\n",
       "      <td></td>\n",
       "      <td>Emoji</td>\n",
       "    </tr>\n",
       "  </tbody>\n",
       "</table>\n",
       "</div>"
      ],
      "text/plain": [
       "                author published_date  like_count      text     ctext language\n",
       "9   @rajarshikoner3528     2023-01-25           0      ❤❤❤❤              Emoji\n",
       "34      @joymondal1013     2023-01-25           0  ❤️❤️❤️❤️              Emoji\n",
       "42    @souvikmodak7194     2023-01-25           0       ❤️🌻              Emoji"
      ]
     },
     "execution_count": 37,
     "metadata": {},
     "output_type": "execute_result"
    }
   ],
   "source": [
    "filt = df1[df1['language'] == 'Emoji']\n",
    "filt.head(3)"
   ]
  },
  {
   "cell_type": "code",
   "execution_count": 38,
   "id": "0744eb4f",
   "metadata": {
    "execution": {
     "iopub.execute_input": "2024-06-12T18:33:33.851649Z",
     "iopub.status.busy": "2024-06-12T18:33:33.851376Z",
     "iopub.status.idle": "2024-06-12T18:33:33.934769Z",
     "shell.execute_reply": "2024-06-12T18:33:33.934067Z"
    },
    "papermill": {
     "duration": 0.121821,
     "end_time": "2024-06-12T18:33:33.936646",
     "exception": false,
     "start_time": "2024-06-12T18:33:33.814825",
     "status": "completed"
    },
    "tags": []
   },
   "outputs": [],
   "source": [
    "df1.loc[df1['language'] == 'Emoji', 'ctext'] = df1['text']"
   ]
  },
  {
   "cell_type": "code",
   "execution_count": 39,
   "id": "12685010",
   "metadata": {
    "execution": {
     "iopub.execute_input": "2024-06-12T18:33:34.010863Z",
     "iopub.status.busy": "2024-06-12T18:33:34.010545Z",
     "iopub.status.idle": "2024-06-12T18:33:34.094205Z",
     "shell.execute_reply": "2024-06-12T18:33:34.093361Z"
    },
    "papermill": {
     "duration": 0.122658,
     "end_time": "2024-06-12T18:33:34.096121",
     "exception": false,
     "start_time": "2024-06-12T18:33:33.973463",
     "status": "completed"
    },
    "tags": []
   },
   "outputs": [
    {
     "data": {
      "text/html": [
       "<div>\n",
       "<style scoped>\n",
       "    .dataframe tbody tr th:only-of-type {\n",
       "        vertical-align: middle;\n",
       "    }\n",
       "\n",
       "    .dataframe tbody tr th {\n",
       "        vertical-align: top;\n",
       "    }\n",
       "\n",
       "    .dataframe thead th {\n",
       "        text-align: right;\n",
       "    }\n",
       "</style>\n",
       "<table border=\"1\" class=\"dataframe\">\n",
       "  <thead>\n",
       "    <tr style=\"text-align: right;\">\n",
       "      <th></th>\n",
       "      <th>author</th>\n",
       "      <th>published_date</th>\n",
       "      <th>like_count</th>\n",
       "      <th>text</th>\n",
       "      <th>ctext</th>\n",
       "      <th>language</th>\n",
       "    </tr>\n",
       "  </thead>\n",
       "  <tbody>\n",
       "    <tr>\n",
       "      <th>9</th>\n",
       "      <td>@rajarshikoner3528</td>\n",
       "      <td>2023-01-25</td>\n",
       "      <td>0</td>\n",
       "      <td>❤❤❤❤</td>\n",
       "      <td>❤❤❤❤</td>\n",
       "      <td>Emoji</td>\n",
       "    </tr>\n",
       "    <tr>\n",
       "      <th>34</th>\n",
       "      <td>@joymondal1013</td>\n",
       "      <td>2023-01-25</td>\n",
       "      <td>0</td>\n",
       "      <td>❤️❤️❤️❤️</td>\n",
       "      <td>❤️❤️❤️❤️</td>\n",
       "      <td>Emoji</td>\n",
       "    </tr>\n",
       "    <tr>\n",
       "      <th>42</th>\n",
       "      <td>@souvikmodak7194</td>\n",
       "      <td>2023-01-25</td>\n",
       "      <td>0</td>\n",
       "      <td>❤️🌻</td>\n",
       "      <td>❤️🌻</td>\n",
       "      <td>Emoji</td>\n",
       "    </tr>\n",
       "  </tbody>\n",
       "</table>\n",
       "</div>"
      ],
      "text/plain": [
       "                author published_date  like_count      text     ctext language\n",
       "9   @rajarshikoner3528     2023-01-25           0      ❤❤❤❤      ❤❤❤❤    Emoji\n",
       "34      @joymondal1013     2023-01-25           0  ❤️❤️❤️❤️  ❤️❤️❤️❤️    Emoji\n",
       "42    @souvikmodak7194     2023-01-25           0       ❤️🌻       ❤️🌻    Emoji"
      ]
     },
     "execution_count": 39,
     "metadata": {},
     "output_type": "execute_result"
    }
   ],
   "source": [
    "filt = df1[df1['language'] == 'Emoji']\n",
    "filt.head(3)"
   ]
  },
  {
   "cell_type": "code",
   "execution_count": 40,
   "id": "e861f919",
   "metadata": {
    "execution": {
     "iopub.execute_input": "2024-06-12T18:33:34.171783Z",
     "iopub.status.busy": "2024-06-12T18:33:34.171495Z",
     "iopub.status.idle": "2024-06-12T18:33:34.181794Z",
     "shell.execute_reply": "2024-06-12T18:33:34.180963Z"
    },
    "papermill": {
     "duration": 0.050408,
     "end_time": "2024-06-12T18:33:34.183749",
     "exception": false,
     "start_time": "2024-06-12T18:33:34.133341",
     "status": "completed"
    },
    "tags": []
   },
   "outputs": [
    {
     "data": {
      "text/html": [
       "<div>\n",
       "<style scoped>\n",
       "    .dataframe tbody tr th:only-of-type {\n",
       "        vertical-align: middle;\n",
       "    }\n",
       "\n",
       "    .dataframe tbody tr th {\n",
       "        vertical-align: top;\n",
       "    }\n",
       "\n",
       "    .dataframe thead th {\n",
       "        text-align: right;\n",
       "    }\n",
       "</style>\n",
       "<table border=\"1\" class=\"dataframe\">\n",
       "  <thead>\n",
       "    <tr style=\"text-align: right;\">\n",
       "      <th></th>\n",
       "      <th>author</th>\n",
       "      <th>published_date</th>\n",
       "      <th>like_count</th>\n",
       "      <th>text</th>\n",
       "      <th>ctext</th>\n",
       "      <th>language</th>\n",
       "    </tr>\n",
       "  </thead>\n",
       "  <tbody>\n",
       "    <tr>\n",
       "      <th>0</th>\n",
       "      <td>@Storysuspensecomedy123</td>\n",
       "      <td>2023-01-25</td>\n",
       "      <td>1</td>\n",
       "      <td>Mirda তুমি আমাকে তৈরি করে নাও। আমার জীবন ও ভবি...</td>\n",
       "      <td>Mirda তুমি আমাকে তৈরি করে নাও। আমার জীবন ও ভবি...</td>\n",
       "      <td>Bengali</td>\n",
       "    </tr>\n",
       "    <tr>\n",
       "      <th>1</th>\n",
       "      <td>@kumkumdas9131</td>\n",
       "      <td>2023-01-25</td>\n",
       "      <td>0</td>\n",
       "      <td>তারানাথ তান্ত্রিকের অপেক্ষায় থাকলাম মীর দা</td>\n",
       "      <td>তারানাথ তান্ত্রিকের অপেক্ষায় থাকলাম মীর দা</td>\n",
       "      <td>Bengali</td>\n",
       "    </tr>\n",
       "    <tr>\n",
       "      <th>2</th>\n",
       "      <td>@golamrabbani8765</td>\n",
       "      <td>2023-01-25</td>\n",
       "      <td>0</td>\n",
       "      <td>আপনার কন্ঠে শার্লক হোমস আবারও শুনতে চাই❤️❤️❤️</td>\n",
       "      <td>আপনার কন্ঠে শার্লক হোমস আবারও শুনতে চাই</td>\n",
       "      <td>Bengali</td>\n",
       "    </tr>\n",
       "  </tbody>\n",
       "</table>\n",
       "</div>"
      ],
      "text/plain": [
       "                    author published_date  like_count  \\\n",
       "0  @Storysuspensecomedy123     2023-01-25           1   \n",
       "1           @kumkumdas9131     2023-01-25           0   \n",
       "2        @golamrabbani8765     2023-01-25           0   \n",
       "\n",
       "                                                text  \\\n",
       "0  Mirda তুমি আমাকে তৈরি করে নাও। আমার জীবন ও ভবি...   \n",
       "1        তারানাথ তান্ত্রিকের অপেক্ষায় থাকলাম মীর দা   \n",
       "2      আপনার কন্ঠে শার্লক হোমস আবারও শুনতে চাই❤️❤️❤️   \n",
       "\n",
       "                                               ctext language  \n",
       "0  Mirda তুমি আমাকে তৈরি করে নাও। আমার জীবন ও ভবি...  Bengali  \n",
       "1        তারানাথ তান্ত্রিকের অপেক্ষায় থাকলাম মীর দা  Bengali  \n",
       "2      আপনার কন্ঠে শার্লক হোমস আবারও শুনতে চাই        Bengali  "
      ]
     },
     "execution_count": 40,
     "metadata": {},
     "output_type": "execute_result"
    }
   ],
   "source": [
    "df1.head(3)"
   ]
  },
  {
   "cell_type": "code",
   "execution_count": 41,
   "id": "8429aa02",
   "metadata": {
    "execution": {
     "iopub.execute_input": "2024-06-12T18:33:34.258427Z",
     "iopub.status.busy": "2024-06-12T18:33:34.257929Z",
     "iopub.status.idle": "2024-06-12T18:33:34.317645Z",
     "shell.execute_reply": "2024-06-12T18:33:34.316888Z"
    },
    "papermill": {
     "duration": 0.098682,
     "end_time": "2024-06-12T18:33:34.319623",
     "exception": false,
     "start_time": "2024-06-12T18:33:34.220941",
     "status": "completed"
    },
    "tags": []
   },
   "outputs": [],
   "source": [
    "df2.loc[df2['language'] == 'Emoji', 'ctext'] = df2['text']\n",
    "df3.loc[df3['language'] == 'Emoji', 'ctext'] = df3['text']"
   ]
  },
  {
   "cell_type": "code",
   "execution_count": 42,
   "id": "30dfdd2d",
   "metadata": {
    "execution": {
     "iopub.execute_input": "2024-06-12T18:33:34.393341Z",
     "iopub.status.busy": "2024-06-12T18:33:34.393014Z",
     "iopub.status.idle": "2024-06-12T18:33:34.408631Z",
     "shell.execute_reply": "2024-06-12T18:33:34.407777Z"
    },
    "papermill": {
     "duration": 0.054483,
     "end_time": "2024-06-12T18:33:34.410503",
     "exception": false,
     "start_time": "2024-06-12T18:33:34.356020",
     "status": "completed"
    },
    "tags": []
   },
   "outputs": [
    {
     "data": {
      "text/plain": [
       "'Thanks Mr.mir'"
      ]
     },
     "execution_count": 42,
     "metadata": {},
     "output_type": "execute_result"
    }
   ],
   "source": [
    "df3.drop(['public'], inplace=True, axis=1)\n",
    "df3['text'][0]"
   ]
  },
  {
   "cell_type": "code",
   "execution_count": 43,
   "id": "7a1ec93e",
   "metadata": {
    "execution": {
     "iopub.execute_input": "2024-06-12T18:33:34.484460Z",
     "iopub.status.busy": "2024-06-12T18:33:34.484133Z",
     "iopub.status.idle": "2024-06-12T18:33:34.524473Z",
     "shell.execute_reply": "2024-06-12T18:33:34.523523Z"
    },
    "papermill": {
     "duration": 0.079674,
     "end_time": "2024-06-12T18:33:34.526775",
     "exception": false,
     "start_time": "2024-06-12T18:33:34.447101",
     "status": "completed"
    },
    "tags": []
   },
   "outputs": [
    {
     "data": {
      "text/html": [
       "<div>\n",
       "<style scoped>\n",
       "    .dataframe tbody tr th:only-of-type {\n",
       "        vertical-align: middle;\n",
       "    }\n",
       "\n",
       "    .dataframe tbody tr th {\n",
       "        vertical-align: top;\n",
       "    }\n",
       "\n",
       "    .dataframe thead th {\n",
       "        text-align: right;\n",
       "    }\n",
       "</style>\n",
       "<table border=\"1\" class=\"dataframe\">\n",
       "  <thead>\n",
       "    <tr style=\"text-align: right;\">\n",
       "      <th></th>\n",
       "      <th>author</th>\n",
       "      <th>published_date</th>\n",
       "      <th>like_count</th>\n",
       "      <th>text</th>\n",
       "      <th>ctext</th>\n",
       "      <th>language</th>\n",
       "    </tr>\n",
       "  </thead>\n",
       "  <tbody>\n",
       "    <tr>\n",
       "      <th>0</th>\n",
       "      <td>@SubashishChakraborty</td>\n",
       "      <td>2023-03-04</td>\n",
       "      <td>4209</td>\n",
       "      <td>আজ \"ব্রহ্মপিশাচ\", কাল সানডে সাসপেন্সে\" জলপিশাচ...</td>\n",
       "      <td>আজ \"ব্রহ্মপিশাচ\", কাল সানডে সাসপেন্সে\" জলপিশাচ...</td>\n",
       "      <td>Bengali</td>\n",
       "    </tr>\n",
       "    <tr>\n",
       "      <th>1</th>\n",
       "      <td>@sakilahamed5070</td>\n",
       "      <td>2023-09-16</td>\n",
       "      <td>2828</td>\n",
       "      <td>সোমক দা❤ কে গপ্পো মীরের ঠেকে নিয়মিত শুনতে চায...</td>\n",
       "      <td>সোমক দা  কে গপ্পো মীরের ঠেকে নিয়মিত শুনতে চায...</td>\n",
       "      <td>Bengali</td>\n",
       "    </tr>\n",
       "    <tr>\n",
       "      <th>2</th>\n",
       "      <td>@gouravkayal4650</td>\n",
       "      <td>2023-08-26</td>\n",
       "      <td>2588</td>\n",
       "      <td>দাদার গলায় তারানাথ তান্ত্রিক চরিত্রটি শুনতে ক...</td>\n",
       "      <td>দাদার গলায় তারানাথ তান্ত্রিক চরিত্রটি শুনতে ক...</td>\n",
       "      <td>Bengali</td>\n",
       "    </tr>\n",
       "    <tr>\n",
       "      <th>3</th>\n",
       "      <td>@arunavakarmakar8147</td>\n",
       "      <td>2023-02-12</td>\n",
       "      <td>2453</td>\n",
       "      <td>কে কে চায় যে আবার মীরদার কন্ঠে তারানাথ তান্ত্র...</td>\n",
       "      <td>কে কে চায় যে আবার মীরদার কন্ঠে তারানাথ তান্ত্র...</td>\n",
       "      <td>Bengali</td>\n",
       "    </tr>\n",
       "    <tr>\n",
       "      <th>4</th>\n",
       "      <td>@gouravkayal4650</td>\n",
       "      <td>2023-08-12</td>\n",
       "      <td>1842</td>\n",
       "      <td>দাদার কণ্ঠে কে কে বিভূতিবাবুর লেখা 'আরণ্যক' উপ...</td>\n",
       "      <td>দাদার কণ্ঠে কে কে বিভূতিবাবুর লেখা 'আরণ্যক' উপ...</td>\n",
       "      <td>Bengali</td>\n",
       "    </tr>\n",
       "  </tbody>\n",
       "</table>\n",
       "</div>"
      ],
      "text/plain": [
       "                  author published_date  like_count  \\\n",
       "0  @SubashishChakraborty     2023-03-04        4209   \n",
       "1       @sakilahamed5070     2023-09-16        2828   \n",
       "2       @gouravkayal4650     2023-08-26        2588   \n",
       "3   @arunavakarmakar8147     2023-02-12        2453   \n",
       "4       @gouravkayal4650     2023-08-12        1842   \n",
       "\n",
       "                                                text  \\\n",
       "0  আজ \"ব্রহ্মপিশাচ\", কাল সানডে সাসপেন্সে\" জলপিশাচ...   \n",
       "1  সোমক দা❤ কে গপ্পো মীরের ঠেকে নিয়মিত শুনতে চায...   \n",
       "2  দাদার গলায় তারানাথ তান্ত্রিক চরিত্রটি শুনতে ক...   \n",
       "3  কে কে চায় যে আবার মীরদার কন্ঠে তারানাথ তান্ত্র...   \n",
       "4  দাদার কণ্ঠে কে কে বিভূতিবাবুর লেখা 'আরণ্যক' উপ...   \n",
       "\n",
       "                                               ctext language  \n",
       "0  আজ \"ব্রহ্মপিশাচ\", কাল সানডে সাসপেন্সে\" জলপিশাচ...  Bengali  \n",
       "1  সোমক দা  কে গপ্পো মীরের ঠেকে নিয়মিত শুনতে চায...  Bengali  \n",
       "2  দাদার গলায় তারানাথ তান্ত্রিক চরিত্রটি শুনতে ক...  Bengali  \n",
       "3  কে কে চায় যে আবার মীরদার কন্ঠে তারানাথ তান্ত্র...  Bengali  \n",
       "4  দাদার কণ্ঠে কে কে বিভূতিবাবুর লেখা 'আরণ্যক' উপ...  Bengali  "
      ]
     },
     "execution_count": 43,
     "metadata": {},
     "output_type": "execute_result"
    }
   ],
   "source": [
    "df3 = df3.sort_values(by='like_count', ascending=False).reset_index(drop=True)\n",
    "df3.head(5)"
   ]
  },
  {
   "cell_type": "code",
   "execution_count": 44,
   "id": "bb110316",
   "metadata": {
    "execution": {
     "iopub.execute_input": "2024-06-12T18:33:34.603014Z",
     "iopub.status.busy": "2024-06-12T18:33:34.602273Z",
     "iopub.status.idle": "2024-06-12T18:33:34.672109Z",
     "shell.execute_reply": "2024-06-12T18:33:34.671158Z"
    },
    "papermill": {
     "duration": 0.109705,
     "end_time": "2024-06-12T18:33:34.674315",
     "exception": false,
     "start_time": "2024-06-12T18:33:34.564610",
     "status": "completed"
    },
    "tags": []
   },
   "outputs": [
    {
     "data": {
      "text/html": [
       "<div>\n",
       "<style scoped>\n",
       "    .dataframe tbody tr th:only-of-type {\n",
       "        vertical-align: middle;\n",
       "    }\n",
       "\n",
       "    .dataframe tbody tr th {\n",
       "        vertical-align: top;\n",
       "    }\n",
       "\n",
       "    .dataframe thead th {\n",
       "        text-align: right;\n",
       "    }\n",
       "</style>\n",
       "<table border=\"1\" class=\"dataframe\">\n",
       "  <thead>\n",
       "    <tr style=\"text-align: right;\">\n",
       "      <th></th>\n",
       "      <th>author</th>\n",
       "      <th>published_date</th>\n",
       "      <th>like_count</th>\n",
       "      <th>text</th>\n",
       "      <th>ctext</th>\n",
       "      <th>language</th>\n",
       "    </tr>\n",
       "  </thead>\n",
       "  <tbody>\n",
       "    <tr>\n",
       "      <th>0</th>\n",
       "      <td>@koushikdas7808</td>\n",
       "      <td>2022-07-31</td>\n",
       "      <td>6850</td>\n",
       "      <td>মীর কে লক্ষ লক্ষ মানুষ শুনতে ভালোবাসে। তাই আমি...</td>\n",
       "      <td>মীর কে লক্ষ লক্ষ মানুষ শুনতে ভালোবাসে। তাই আমি...</td>\n",
       "      <td>Bengali</td>\n",
       "    </tr>\n",
       "    <tr>\n",
       "      <th>1</th>\n",
       "      <td>@adityapaul2361</td>\n",
       "      <td>2022-11-20</td>\n",
       "      <td>5144</td>\n",
       "      <td>আমার মতো মীর দা ও তারানাথ তান্ত্রিককে কে কে চা...</td>\n",
       "      <td>আমার মতো মীর দা ও তারানাথ তান্ত্রিককে কে কে চা...</td>\n",
       "      <td>Bengali</td>\n",
       "    </tr>\n",
       "    <tr>\n",
       "      <th>2</th>\n",
       "      <td>@Jeetbose15</td>\n",
       "      <td>2022-10-08</td>\n",
       "      <td>4880</td>\n",
       "      <td>এক পুরনো শ্রোতা এবং Sunday Suspense এর শুভাকাঙ...</td>\n",
       "      <td>এক পুরনো শ্রোতা এবং Sunday Suspense এর শুভাকাঙ...</td>\n",
       "      <td>Bengali</td>\n",
       "    </tr>\n",
       "    <tr>\n",
       "      <th>3</th>\n",
       "      <td>@SarthakJasu</td>\n",
       "      <td>2023-03-05</td>\n",
       "      <td>4130</td>\n",
       "      <td>Mir Da সেরা ছিল but Deep দা তুমি যে এইভাবে আমা...</td>\n",
       "      <td>Mir Da সেরা ছিল but Deep দা তুমি যে এইভাবে আমা...</td>\n",
       "      <td>Bengali</td>\n",
       "    </tr>\n",
       "    <tr>\n",
       "      <th>4</th>\n",
       "      <td>@surajitbarman8525</td>\n",
       "      <td>2023-01-07</td>\n",
       "      <td>3562</td>\n",
       "      <td>কয়েকদিন পর থেকে সেমিস্টার এর পরীক্ষা শুরু হবে...</td>\n",
       "      <td>কয়েকদিন পর থেকে সেমিস্টার এর পরীক্ষা শুরু হবে...</td>\n",
       "      <td>Bengali</td>\n",
       "    </tr>\n",
       "  </tbody>\n",
       "</table>\n",
       "</div>"
      ],
      "text/plain": [
       "               author published_date  like_count  \\\n",
       "0     @koushikdas7808     2022-07-31        6850   \n",
       "1     @adityapaul2361     2022-11-20        5144   \n",
       "2         @Jeetbose15     2022-10-08        4880   \n",
       "3        @SarthakJasu     2023-03-05        4130   \n",
       "4  @surajitbarman8525     2023-01-07        3562   \n",
       "\n",
       "                                                text  \\\n",
       "0  মীর কে লক্ষ লক্ষ মানুষ শুনতে ভালোবাসে। তাই আমি...   \n",
       "1  আমার মতো মীর দা ও তারানাথ তান্ত্রিককে কে কে চা...   \n",
       "2  এক পুরনো শ্রোতা এবং Sunday Suspense এর শুভাকাঙ...   \n",
       "3  Mir Da সেরা ছিল but Deep দা তুমি যে এইভাবে আমা...   \n",
       "4  কয়েকদিন পর থেকে সেমিস্টার এর পরীক্ষা শুরু হবে...   \n",
       "\n",
       "                                               ctext language  \n",
       "0  মীর কে লক্ষ লক্ষ মানুষ শুনতে ভালোবাসে। তাই আমি...  Bengali  \n",
       "1  আমার মতো মীর দা ও তারানাথ তান্ত্রিককে কে কে চা...  Bengali  \n",
       "2  এক পুরনো শ্রোতা এবং Sunday Suspense এর শুভাকাঙ...  Bengali  \n",
       "3  Mir Da সেরা ছিল but Deep দা তুমি যে এইভাবে আমা...  Bengali  \n",
       "4  কয়েকদিন পর থেকে সেমিস্টার এর পরীক্ষা শুরু হবে...  Bengali  "
      ]
     },
     "execution_count": 44,
     "metadata": {},
     "output_type": "execute_result"
    }
   ],
   "source": [
    "df2 = df2.sort_values(by='like_count', ascending=False).reset_index(drop=True)\n",
    "df2.head(5)"
   ]
  },
  {
   "cell_type": "code",
   "execution_count": 45,
   "id": "4bff5fa2",
   "metadata": {
    "execution": {
     "iopub.execute_input": "2024-06-12T18:33:34.750937Z",
     "iopub.status.busy": "2024-06-12T18:33:34.750615Z",
     "iopub.status.idle": "2024-06-12T18:33:34.901247Z",
     "shell.execute_reply": "2024-06-12T18:33:34.900280Z"
    },
    "papermill": {
     "duration": 0.191753,
     "end_time": "2024-06-12T18:33:34.903885",
     "exception": false,
     "start_time": "2024-06-12T18:33:34.712132",
     "status": "completed"
    },
    "tags": []
   },
   "outputs": [
    {
     "data": {
      "text/html": [
       "<div>\n",
       "<style scoped>\n",
       "    .dataframe tbody tr th:only-of-type {\n",
       "        vertical-align: middle;\n",
       "    }\n",
       "\n",
       "    .dataframe tbody tr th {\n",
       "        vertical-align: top;\n",
       "    }\n",
       "\n",
       "    .dataframe thead th {\n",
       "        text-align: right;\n",
       "    }\n",
       "</style>\n",
       "<table border=\"1\" class=\"dataframe\">\n",
       "  <thead>\n",
       "    <tr style=\"text-align: right;\">\n",
       "      <th></th>\n",
       "      <th>author</th>\n",
       "      <th>published_date</th>\n",
       "      <th>like_count</th>\n",
       "      <th>text</th>\n",
       "      <th>ctext</th>\n",
       "      <th>language</th>\n",
       "    </tr>\n",
       "  </thead>\n",
       "  <tbody>\n",
       "    <tr>\n",
       "      <th>0</th>\n",
       "      <td>@wolfhowling220</td>\n",
       "      <td>2021-12-19</td>\n",
       "      <td>5373</td>\n",
       "      <td>Sunday suspense er শ্রোতাদের মধ্যে কে কে \"The ...</td>\n",
       "      <td>Sunday suspense er শ্রোতাদের মধ্যে কে কে \"The ...</td>\n",
       "      <td>Bengali</td>\n",
       "    </tr>\n",
       "    <tr>\n",
       "      <th>1</th>\n",
       "      <td>@ksarkar1338</td>\n",
       "      <td>2021-12-03</td>\n",
       "      <td>4929</td>\n",
       "      <td>বেঁচে থাকতে হয়তো বিশ্ব সাহিত্যের যেসব গল্প কো...</td>\n",
       "      <td>বেঁচে থাকতে হয়তো বিশ্ব সাহিত্যের যেসব গল্প কো...</td>\n",
       "      <td>Bengali</td>\n",
       "    </tr>\n",
       "    <tr>\n",
       "      <th>2</th>\n",
       "      <td>@dcsalim4384</td>\n",
       "      <td>2021-12-12</td>\n",
       "      <td>4830</td>\n",
       "      <td>এ আমার পরম সৌভাগ্য যে একজন বাঙালি হয়ে জন্মেছি ...</td>\n",
       "      <td>এ আমার পরম সৌভাগ্য যে একজন বাঙালি হয়ে জন্মেছি ...</td>\n",
       "      <td>Bengali</td>\n",
       "    </tr>\n",
       "    <tr>\n",
       "      <th>3</th>\n",
       "      <td>@AmioPariGuru</td>\n",
       "      <td>2022-01-22</td>\n",
       "      <td>4551</td>\n",
       "      <td>কে কে মনে করেন 'The count of Monte Christo' এই...</td>\n",
       "      <td>কে কে মনে করেন 'The count of Monte Christo' এই...</td>\n",
       "      <td>Bengali</td>\n",
       "    </tr>\n",
       "    <tr>\n",
       "      <th>4</th>\n",
       "      <td>@rishiupadhyay3956</td>\n",
       "      <td>2022-05-22</td>\n",
       "      <td>3953</td>\n",
       "      <td>একটা ছোট্ট request, Alexender Dumas series যখন...</td>\n",
       "      <td>একটা ছোট্ট request, Alexender Dumas series যখন...</td>\n",
       "      <td>Bengali</td>\n",
       "    </tr>\n",
       "  </tbody>\n",
       "</table>\n",
       "</div>"
      ],
      "text/plain": [
       "               author published_date  like_count  \\\n",
       "0     @wolfhowling220     2021-12-19        5373   \n",
       "1        @ksarkar1338     2021-12-03        4929   \n",
       "2        @dcsalim4384     2021-12-12        4830   \n",
       "3       @AmioPariGuru     2022-01-22        4551   \n",
       "4  @rishiupadhyay3956     2022-05-22        3953   \n",
       "\n",
       "                                                text  \\\n",
       "0  Sunday suspense er শ্রোতাদের মধ্যে কে কে \"The ...   \n",
       "1  বেঁচে থাকতে হয়তো বিশ্ব সাহিত্যের যেসব গল্প কো...   \n",
       "2  এ আমার পরম সৌভাগ্য যে একজন বাঙালি হয়ে জন্মেছি ...   \n",
       "3  কে কে মনে করেন 'The count of Monte Christo' এই...   \n",
       "4  একটা ছোট্ট request, Alexender Dumas series যখন...   \n",
       "\n",
       "                                               ctext language  \n",
       "0  Sunday suspense er শ্রোতাদের মধ্যে কে কে \"The ...  Bengali  \n",
       "1  বেঁচে থাকতে হয়তো বিশ্ব সাহিত্যের যেসব গল্প কো...  Bengali  \n",
       "2  এ আমার পরম সৌভাগ্য যে একজন বাঙালি হয়ে জন্মেছি ...  Bengali  \n",
       "3  কে কে মনে করেন 'The count of Monte Christo' এই...  Bengali  \n",
       "4  একটা ছোট্ট request, Alexender Dumas series যখন...  Bengali  "
      ]
     },
     "execution_count": 45,
     "metadata": {},
     "output_type": "execute_result"
    }
   ],
   "source": [
    "df1 = df1.sort_values(by='like_count', ascending=False).reset_index(drop=True)\n",
    "df1.head(5)"
   ]
  },
  {
   "cell_type": "code",
   "execution_count": 46,
   "id": "af63a2e9",
   "metadata": {
    "execution": {
     "iopub.execute_input": "2024-06-12T18:33:34.983615Z",
     "iopub.status.busy": "2024-06-12T18:33:34.982991Z",
     "iopub.status.idle": "2024-06-12T18:33:36.355045Z",
     "shell.execute_reply": "2024-06-12T18:33:36.354041Z"
    },
    "papermill": {
     "duration": 1.412503,
     "end_time": "2024-06-12T18:33:36.357444",
     "exception": false,
     "start_time": "2024-06-12T18:33:34.944941",
     "status": "completed"
    },
    "tags": []
   },
   "outputs": [],
   "source": [
    "def remove_extra_spaces(text):\n",
    "    # Split the text by whitespace and then join it back with a single space\n",
    "    cleaned_text = ' '.join(text.split())\n",
    "    return cleaned_text\n",
    "\n",
    "df1['ctext'] = df1['ctext'].apply(remove_extra_spaces)\n",
    "df2['ctext'] = df2['ctext'].apply(remove_extra_spaces)\n",
    "df3['ctext'] = df3['ctext'].apply(remove_extra_spaces)"
   ]
  },
  {
   "cell_type": "code",
   "execution_count": 47,
   "id": "24a342ed",
   "metadata": {
    "execution": {
     "iopub.execute_input": "2024-06-12T18:33:36.433915Z",
     "iopub.status.busy": "2024-06-12T18:33:36.433580Z",
     "iopub.status.idle": "2024-06-12T18:33:36.442390Z",
     "shell.execute_reply": "2024-06-12T18:33:36.441497Z"
    },
    "papermill": {
     "duration": 0.04882,
     "end_time": "2024-06-12T18:33:36.444367",
     "exception": false,
     "start_time": "2024-06-12T18:33:36.395547",
     "status": "completed"
    },
    "tags": []
   },
   "outputs": [
    {
     "name": "stdout",
     "output_type": "stream",
     "text": [
      "['Sunday suspense er শ্রোতাদের মধ্যে কে কে \"The count of Monte Cristo\" শুনেছ ?']\n",
      "['Bengali']\n",
      "['মীর কে লক্ষ লক্ষ মানুষ শুনতে ভালোবাসে। তাই আমি মনে করি শ্রোতাদের কথা মাথায় রেখে Sunday suspense টা তার চালিয়ে যাওয়া উচিত ছিল। যেরকম দীপ এখনো করে। মীরকে ছারা ব্যোমকেশ, তারানাথ চরিত্র গুলো ভাবা যায়না। আপনাদের কি মতামত?']\n",
      "['Bengali']\n",
      "['আজ \"ব্রহ্মপিশাচ\", কাল সানডে সাসপেন্সে\" জলপিশাচ\"। জমে যাবে পুরো। কিন্তু যতই বলো, তারানাথের চরিত্রটি মীরের কন্ঠ ছাড়া মানায় না।']\n",
      "['Bengali']\n",
      "\n",
      "1000\n"
     ]
    }
   ],
   "source": [
    "# say threshold is 20k\n",
    "threshold = 10_00\n",
    "\n",
    "test_textms = df1[:threshold]['ctext'].tolist()\n",
    "lang_ms = df1[:threshold]['language'].tolist()\n",
    "\n",
    "print(test_textms[:1])\n",
    "print(lang_ms[:1])\n",
    "\n",
    "test_textmc = df2[:threshold]['ctext'].tolist()\n",
    "lang_mc = df2[:threshold]['language'].tolist()\n",
    "\n",
    "print(test_textmc[:1])\n",
    "print(lang_mc[:1])\n",
    "\n",
    "\n",
    "test_textmt = df3[:threshold]['ctext'].tolist()\n",
    "lang_mt = df3[:threshold]['language'].tolist()\n",
    "\n",
    "print(test_textmt[:1])\n",
    "print(lang_mt[:1])\n",
    "\n",
    "\n",
    "print(f'\\n{len(test_textmc)}')"
   ]
  },
  {
   "cell_type": "code",
   "execution_count": null,
   "id": "a92ab96f",
   "metadata": {
    "papermill": {
     "duration": 0.038488,
     "end_time": "2024-06-12T18:33:36.519966",
     "exception": false,
     "start_time": "2024-06-12T18:33:36.481478",
     "status": "completed"
    },
    "tags": []
   },
   "outputs": [],
   "source": []
  },
  {
   "cell_type": "code",
   "execution_count": 48,
   "id": "6ecf6635",
   "metadata": {
    "execution": {
     "iopub.execute_input": "2024-06-12T18:33:36.596609Z",
     "iopub.status.busy": "2024-06-12T18:33:36.596265Z",
     "iopub.status.idle": "2024-06-12T18:33:36.600071Z",
     "shell.execute_reply": "2024-06-12T18:33:36.599246Z"
    },
    "papermill": {
     "duration": 0.044232,
     "end_time": "2024-06-12T18:33:36.602082",
     "exception": false,
     "start_time": "2024-06-12T18:33:36.557850",
     "status": "completed"
    },
    "tags": []
   },
   "outputs": [],
   "source": [
    "# pip install git+https://github.com/csebuetnlp/normalizer"
   ]
  },
  {
   "cell_type": "code",
   "execution_count": 49,
   "id": "98523a6f",
   "metadata": {
    "execution": {
     "iopub.execute_input": "2024-06-12T18:33:36.680058Z",
     "iopub.status.busy": "2024-06-12T18:33:36.679783Z",
     "iopub.status.idle": "2024-06-12T18:33:40.407397Z",
     "shell.execute_reply": "2024-06-12T18:33:40.406492Z"
    },
    "papermill": {
     "duration": 3.768594,
     "end_time": "2024-06-12T18:33:40.409285",
     "exception": false,
     "start_time": "2024-06-12T18:33:36.640691",
     "status": "completed"
    },
    "tags": []
   },
   "outputs": [
    {
     "name": "stdout",
     "output_type": "stream",
     "text": [
      "cuda:0\n"
     ]
    },
    {
     "data": {
      "text/plain": [
       "device(type='cuda', index=0)"
      ]
     },
     "execution_count": 49,
     "metadata": {},
     "output_type": "execute_result"
    }
   ],
   "source": [
    "import torch\n",
    "device = torch.device(\"cuda:0\" if torch.cuda.is_available() else \"cpu\")\n",
    "print(device)\n",
    "device"
   ]
  },
  {
   "cell_type": "code",
   "execution_count": 50,
   "id": "4831c9e4",
   "metadata": {
    "execution": {
     "iopub.execute_input": "2024-06-12T18:33:40.486081Z",
     "iopub.status.busy": "2024-06-12T18:33:40.485633Z",
     "iopub.status.idle": "2024-06-12T18:33:59.185244Z",
     "shell.execute_reply": "2024-06-12T18:33:59.184284Z"
    },
    "papermill": {
     "duration": 18.740057,
     "end_time": "2024-06-12T18:33:59.187509",
     "exception": false,
     "start_time": "2024-06-12T18:33:40.447452",
     "status": "completed"
    },
    "tags": []
   },
   "outputs": [
    {
     "name": "stderr",
     "output_type": "stream",
     "text": [
      "2024-06-12 18:33:43.952772: E external/local_xla/xla/stream_executor/cuda/cuda_dnn.cc:9261] Unable to register cuDNN factory: Attempting to register factory for plugin cuDNN when one has already been registered\n",
      "2024-06-12 18:33:43.952873: E external/local_xla/xla/stream_executor/cuda/cuda_fft.cc:607] Unable to register cuFFT factory: Attempting to register factory for plugin cuFFT when one has already been registered\n",
      "2024-06-12 18:33:44.078204: E external/local_xla/xla/stream_executor/cuda/cuda_blas.cc:1515] Unable to register cuBLAS factory: Attempting to register factory for plugin cuBLAS when one has already been registered\n"
     ]
    },
    {
     "data": {
      "application/vnd.jupyter.widget-view+json": {
       "model_id": "d9ceaf39024b438fadd2240d44702594",
       "version_major": 2,
       "version_minor": 0
      },
      "text/plain": [
       "config.json:   0%|          | 0.00/935 [00:00<?, ?B/s]"
      ]
     },
     "metadata": {},
     "output_type": "display_data"
    },
    {
     "data": {
      "application/vnd.jupyter.widget-view+json": {
       "model_id": "8bdb91abcb6c4599bd75afc4ea029e07",
       "version_major": 2,
       "version_minor": 0
      },
      "text/plain": [
       "model.safetensors:   0%|          | 0.00/438M [00:00<?, ?B/s]"
      ]
     },
     "metadata": {},
     "output_type": "display_data"
    },
    {
     "data": {
      "application/vnd.jupyter.widget-view+json": {
       "model_id": "c660236eecf34fc9aa770e34cabcb7e4",
       "version_major": 2,
       "version_minor": 0
      },
      "text/plain": [
       "tokenizer_config.json:   0%|          | 0.00/285 [00:00<?, ?B/s]"
      ]
     },
     "metadata": {},
     "output_type": "display_data"
    },
    {
     "data": {
      "application/vnd.jupyter.widget-view+json": {
       "model_id": "35d0617a8c8c410a8bd163ad59c9f64f",
       "version_major": 2,
       "version_minor": 0
      },
      "text/plain": [
       "vocab.txt:   0%|          | 0.00/232k [00:00<?, ?B/s]"
      ]
     },
     "metadata": {},
     "output_type": "display_data"
    },
    {
     "data": {
      "application/vnd.jupyter.widget-view+json": {
       "model_id": "4d252e805ded4d21a4adaafd18850978",
       "version_major": 2,
       "version_minor": 0
      },
      "text/plain": [
       "tokenizer.json:   0%|          | 0.00/466k [00:00<?, ?B/s]"
      ]
     },
     "metadata": {},
     "output_type": "display_data"
    },
    {
     "data": {
      "application/vnd.jupyter.widget-view+json": {
       "model_id": "5d05f284e0ce440ca996af0bb796efc2",
       "version_major": 2,
       "version_minor": 0
      },
      "text/plain": [
       "special_tokens_map.json:   0%|          | 0.00/112 [00:00<?, ?B/s]"
      ]
     },
     "metadata": {},
     "output_type": "display_data"
    },
    {
     "name": "stderr",
     "output_type": "stream",
     "text": [
      "/opt/conda/lib/python3.10/site-packages/transformers/pipelines/text_classification.py:104: UserWarning: `return_all_scores` is now deprecated,  if want a similar functionality use `top_k=None` instead of `return_all_scores=True` or `top_k=1` instead of `return_all_scores=False`.\n",
      "  warnings.warn(\n"
     ]
    }
   ],
   "source": [
    "from transformers import pipeline\n",
    "classifier_en = pipeline(\"text-classification\",model='bhadresh-savani/bert-base-uncased-emotion',\n",
    "                         return_all_scores=False, truncation=True, device=device)"
   ]
  },
  {
   "cell_type": "code",
   "execution_count": 51,
   "id": "95cc3d0d",
   "metadata": {
    "execution": {
     "iopub.execute_input": "2024-06-12T18:33:59.268816Z",
     "iopub.status.busy": "2024-06-12T18:33:59.268176Z",
     "iopub.status.idle": "2024-06-12T18:34:08.940915Z",
     "shell.execute_reply": "2024-06-12T18:34:08.939933Z"
    },
    "papermill": {
     "duration": 9.715343,
     "end_time": "2024-06-12T18:34:08.943336",
     "exception": false,
     "start_time": "2024-06-12T18:33:59.227993",
     "status": "completed"
    },
    "tags": []
   },
   "outputs": [
    {
     "data": {
      "application/vnd.jupyter.widget-view+json": {
       "model_id": "4389403386be46008d612f29a0a706a1",
       "version_major": 2,
       "version_minor": 0
      },
      "text/plain": [
       "config.json:   0%|          | 0.00/1.15k [00:00<?, ?B/s]"
      ]
     },
     "metadata": {},
     "output_type": "display_data"
    },
    {
     "data": {
      "application/vnd.jupyter.widget-view+json": {
       "model_id": "0ced4fe06ae94b449e4cf9e2fc948458",
       "version_major": 2,
       "version_minor": 0
      },
      "text/plain": [
       "model.safetensors:   0%|          | 0.00/1.63G [00:00<?, ?B/s]"
      ]
     },
     "metadata": {},
     "output_type": "display_data"
    },
    {
     "data": {
      "application/vnd.jupyter.widget-view+json": {
       "model_id": "d376b9c7b4ed4de6a798b01ce0661240",
       "version_major": 2,
       "version_minor": 0
      },
      "text/plain": [
       "tokenizer_config.json:   0%|          | 0.00/26.0 [00:00<?, ?B/s]"
      ]
     },
     "metadata": {},
     "output_type": "display_data"
    },
    {
     "data": {
      "application/vnd.jupyter.widget-view+json": {
       "model_id": "5e55c99e1ad34b69afab3ae66ff97a24",
       "version_major": 2,
       "version_minor": 0
      },
      "text/plain": [
       "vocab.json:   0%|          | 0.00/899k [00:00<?, ?B/s]"
      ]
     },
     "metadata": {},
     "output_type": "display_data"
    },
    {
     "data": {
      "application/vnd.jupyter.widget-view+json": {
       "model_id": "8fa051f7c4524f9891cd162101eb4b06",
       "version_major": 2,
       "version_minor": 0
      },
      "text/plain": [
       "merges.txt:   0%|          | 0.00/456k [00:00<?, ?B/s]"
      ]
     },
     "metadata": {},
     "output_type": "display_data"
    },
    {
     "data": {
      "application/vnd.jupyter.widget-view+json": {
       "model_id": "fff49c14338c4f51adec1d3bc0089a95",
       "version_major": 2,
       "version_minor": 0
      },
      "text/plain": [
       "tokenizer.json:   0%|          | 0.00/1.36M [00:00<?, ?B/s]"
      ]
     },
     "metadata": {},
     "output_type": "display_data"
    }
   ],
   "source": [
    "from transformers import pipeline\n",
    "classifier = pipeline(\"zero-shot-classification\",\n",
    "                      model=\"facebook/bart-large-mnli\", device=device)"
   ]
  },
  {
   "cell_type": "code",
   "execution_count": 52,
   "id": "ae2244a0",
   "metadata": {
    "execution": {
     "iopub.execute_input": "2024-06-12T18:34:09.028025Z",
     "iopub.status.busy": "2024-06-12T18:34:09.027206Z",
     "iopub.status.idle": "2024-06-12T18:34:10.080933Z",
     "shell.execute_reply": "2024-06-12T18:34:10.080051Z"
    },
    "papermill": {
     "duration": 1.098244,
     "end_time": "2024-06-12T18:34:10.082973",
     "exception": false,
     "start_time": "2024-06-12T18:34:08.984729",
     "status": "completed"
    },
    "tags": []
   },
   "outputs": [
    {
     "data": {
      "text/plain": [
       "{'sequence': 'I love using transformers. The best part is wide range of support and its easy to use',\n",
       " 'labels': ['good', 'neutral', 'bad'],\n",
       " 'scores': [0.9879899621009827, 0.009024858474731445, 0.002985224826261401]}"
      ]
     },
     "execution_count": 52,
     "metadata": {},
     "output_type": "execute_result"
    }
   ],
   "source": [
    "prediction = classifier(\"I love using transformers. The best part is wide range of support and its easy to use\", ['good', 'bad', 'neutral'])\n",
    "prediction"
   ]
  },
  {
   "cell_type": "code",
   "execution_count": null,
   "id": "4a7c5631",
   "metadata": {
    "papermill": {
     "duration": 0.039575,
     "end_time": "2024-06-12T18:34:10.163257",
     "exception": false,
     "start_time": "2024-06-12T18:34:10.123682",
     "status": "completed"
    },
    "tags": []
   },
   "outputs": [],
   "source": []
  },
  {
   "cell_type": "code",
   "execution_count": 53,
   "id": "8fccf47c",
   "metadata": {
    "execution": {
     "iopub.execute_input": "2024-06-12T18:34:10.244325Z",
     "iopub.status.busy": "2024-06-12T18:34:10.243971Z",
     "iopub.status.idle": "2024-06-12T18:34:15.606172Z",
     "shell.execute_reply": "2024-06-12T18:34:15.605130Z"
    },
    "papermill": {
     "duration": 5.405819,
     "end_time": "2024-06-12T18:34:15.608726",
     "exception": false,
     "start_time": "2024-06-12T18:34:10.202907",
     "status": "completed"
    },
    "tags": []
   },
   "outputs": [
    {
     "data": {
      "application/vnd.jupyter.widget-view+json": {
       "model_id": "7c02e415516749c887a8666f32eefda9",
       "version_major": 2,
       "version_minor": 0
      },
      "text/plain": [
       "tokenizer_config.json:   0%|          | 0.00/119 [00:00<?, ?B/s]"
      ]
     },
     "metadata": {},
     "output_type": "display_data"
    },
    {
     "data": {
      "application/vnd.jupyter.widget-view+json": {
       "model_id": "cf0412337793411e8f8308b610784840",
       "version_major": 2,
       "version_minor": 0
      },
      "text/plain": [
       "config.json:   0%|          | 0.00/586 [00:00<?, ?B/s]"
      ]
     },
     "metadata": {},
     "output_type": "display_data"
    },
    {
     "data": {
      "application/vnd.jupyter.widget-view+json": {
       "model_id": "79129d79f9cf4fa2b719c503f8879ab4",
       "version_major": 2,
       "version_minor": 0
      },
      "text/plain": [
       "vocab.txt:   0%|          | 0.00/528k [00:00<?, ?B/s]"
      ]
     },
     "metadata": {},
     "output_type": "display_data"
    },
    {
     "data": {
      "application/vnd.jupyter.widget-view+json": {
       "model_id": "5e6f3206b5ed4a0aa5616893eb59f2ee",
       "version_major": 2,
       "version_minor": 0
      },
      "text/plain": [
       "special_tokens_map.json:   0%|          | 0.00/112 [00:00<?, ?B/s]"
      ]
     },
     "metadata": {},
     "output_type": "display_data"
    },
    {
     "name": "stdout",
     "output_type": "stream",
     "text": [
      "ElectraConfig {\n",
      "  \"_name_or_path\": \"/kaggle/input/trained-models/emo_model_dis\",\n",
      "  \"architectures\": [\n",
      "    \"ElectraForSequenceClassification\"\n",
      "  ],\n",
      "  \"attention_probs_dropout_prob\": 0.1,\n",
      "  \"classifier_dropout\": null,\n",
      "  \"embedding_size\": 768,\n",
      "  \"hidden_act\": \"gelu\",\n",
      "  \"hidden_dropout_prob\": 0.1,\n",
      "  \"hidden_size\": 768,\n",
      "  \"id2label\": {\n",
      "    \"0\": \"LABEL_0\",\n",
      "    \"1\": \"LABEL_1\",\n",
      "    \"2\": \"LABEL_2\",\n",
      "    \"3\": \"LABEL_3\"\n",
      "  },\n",
      "  \"initializer_range\": 0.02,\n",
      "  \"intermediate_size\": 3072,\n",
      "  \"label2id\": {\n",
      "    \"LABEL_0\": 0,\n",
      "    \"LABEL_1\": 1,\n",
      "    \"LABEL_2\": 2,\n",
      "    \"LABEL_3\": 3\n",
      "  },\n",
      "  \"layer_norm_eps\": 1e-12,\n",
      "  \"max_position_embeddings\": 512,\n",
      "  \"model_type\": \"electra\",\n",
      "  \"num_attention_heads\": 12,\n",
      "  \"num_hidden_layers\": 12,\n",
      "  \"pad_token_id\": 0,\n",
      "  \"position_embedding_type\": \"absolute\",\n",
      "  \"problem_type\": \"single_label_classification\",\n",
      "  \"summary_activation\": \"gelu\",\n",
      "  \"summary_last_dropout\": 0.1,\n",
      "  \"summary_type\": \"first\",\n",
      "  \"summary_use_proj\": true,\n",
      "  \"torch_dtype\": \"float32\",\n",
      "  \"transformers_version\": \"4.38.2\",\n",
      "  \"type_vocab_size\": 2,\n",
      "  \"use_cache\": true,\n",
      "  \"vocab_size\": 32000\n",
      "}\n",
      "\n"
     ]
    }
   ],
   "source": [
    "from transformers import AutoModelForSequenceClassification, AutoTokenizer\n",
    "from transformers import AutoModelForPreTraining, AutoTokenizer\n",
    "# from normalizer import normalize \n",
    "\n",
    "\n",
    "# MODEL BANGLA\n",
    "# check_point = \"csebuetnlp/banglishbert\"\n",
    "modelcp = '/kaggle/input/trained-models/emo_model_dis'\n",
    "checkpoint = \"csebuetnlp/banglabert\"\n",
    "tokenizer = AutoTokenizer.from_pretrained(checkpoint)\n",
    "model = AutoModelForSequenceClassification.from_pretrained(modelcp)\n",
    "\n",
    "print(model.config)"
   ]
  },
  {
   "cell_type": "code",
   "execution_count": 54,
   "id": "a5ab1326",
   "metadata": {
    "execution": {
     "iopub.execute_input": "2024-06-12T18:34:15.698016Z",
     "iopub.status.busy": "2024-06-12T18:34:15.697697Z",
     "iopub.status.idle": "2024-06-12T18:34:15.702963Z",
     "shell.execute_reply": "2024-06-12T18:34:15.702033Z"
    },
    "papermill": {
     "duration": 0.049847,
     "end_time": "2024-06-12T18:34:15.704887",
     "exception": false,
     "start_time": "2024-06-12T18:34:15.655040",
     "status": "completed"
    },
    "tags": []
   },
   "outputs": [],
   "source": [
    "new_label_mapping = {\n",
    "     0: \"love\",\n",
    "     1: \"sad\",\n",
    "     2: \"anger\",\n",
    "     3: \"fear\"\n",
    "}\n",
    "model.config.id2label = new_label_mapping\n",
    "model.config.label2id = {v: int(k) for k, v in new_label_mapping.items()}"
   ]
  },
  {
   "cell_type": "code",
   "execution_count": 55,
   "id": "60e02f4f",
   "metadata": {
    "execution": {
     "iopub.execute_input": "2024-06-12T18:34:15.791837Z",
     "iopub.status.busy": "2024-06-12T18:34:15.791514Z",
     "iopub.status.idle": "2024-06-12T18:34:15.796959Z",
     "shell.execute_reply": "2024-06-12T18:34:15.795971Z"
    },
    "papermill": {
     "duration": 0.050787,
     "end_time": "2024-06-12T18:34:15.798836",
     "exception": false,
     "start_time": "2024-06-12T18:34:15.748049",
     "status": "completed"
    },
    "tags": []
   },
   "outputs": [
    {
     "name": "stdout",
     "output_type": "stream",
     "text": [
      "['অনেক', 'ভালো', 'গল্প', '।']\n"
     ]
    }
   ],
   "source": [
    "input_text = 'অনেক ভালো গল্প।'\n",
    "# input_text = 'খুব বাজে গল্প। অনেক খারাপ লাগছে শুনতে।'\n",
    "# input_text = \"very bad story.\"\n",
    "print(tokenizer.tokenize(input_text))"
   ]
  },
  {
   "cell_type": "code",
   "execution_count": 56,
   "id": "f65ba2c0",
   "metadata": {
    "execution": {
     "iopub.execute_input": "2024-06-12T18:34:15.886535Z",
     "iopub.status.busy": "2024-06-12T18:34:15.885946Z",
     "iopub.status.idle": "2024-06-12T18:34:16.360331Z",
     "shell.execute_reply": "2024-06-12T18:34:16.359271Z"
    },
    "papermill": {
     "duration": 0.518586,
     "end_time": "2024-06-12T18:34:16.362299",
     "exception": false,
     "start_time": "2024-06-12T18:34:15.843713",
     "status": "completed"
    },
    "tags": []
   },
   "outputs": [
    {
     "name": "stdout",
     "output_type": "stream",
     "text": [
      "['অনেক', 'ভালো', 'গল্প', '।']\n",
      "{'input_ids': tensor([[   2, 1011, 1055, 1705,  205,    3]], device='cuda:0'), 'attention_mask': tensor([[1, 1, 1, 1, 1, 1]], device='cuda:0')}\n",
      "tensor([[ 7.6101, -2.0278, -3.2038, -2.7896]], device='cuda:0',\n",
      "       grad_fn=<AddmmBackward0>)\n",
      "tensor([[9.9988e-01, 6.5197e-05, 2.0116e-05, 3.0438e-05]], device='cuda:0',\n",
      "       grad_fn=<SoftmaxBackward0>)\n",
      "Predicted sentiment: love with probability: 0.9998842477798462\n"
     ]
    }
   ],
   "source": [
    "input_text = 'অনেক ভালো গল্প।'\n",
    "# input_text = \"মীর ছাড়া sunday suspense শুনতে ভালো লাগে  না\"\n",
    "# input_text = \"very bad story.\"\n",
    "print(tokenizer.tokenize(input_text))\n",
    "\n",
    "\n",
    "inputs = tokenizer(input_text, return_tensors=\"pt\").to(device) # Tokenize and convert to tensors\n",
    "inputs.pop(\"token_type_ids\", None)\n",
    "print(inputs)\n",
    "model = model.to(device)\n",
    "outputs = model(**inputs)  \n",
    "logits = outputs.logits \n",
    "print(logits)\n",
    "probabilities = torch.nn.functional.softmax(logits, dim=-1)\n",
    "print(probabilities)\n",
    "\n",
    "predicted_class_index = logits.argmax(-1).item()\n",
    "predicted_class = model.config.id2label[predicted_class_index]\n",
    "predicted_probability = probabilities[0][predicted_class_index].item()\n",
    "print(\"Predicted sentiment:\", predicted_class, \"with probability:\", predicted_probability)"
   ]
  },
  {
   "cell_type": "code",
   "execution_count": 57,
   "id": "5ac575e8",
   "metadata": {
    "execution": {
     "iopub.execute_input": "2024-06-12T18:34:16.447336Z",
     "iopub.status.busy": "2024-06-12T18:34:16.446516Z",
     "iopub.status.idle": "2024-06-12T18:34:16.454998Z",
     "shell.execute_reply": "2024-06-12T18:34:16.454002Z"
    },
    "papermill": {
     "duration": 0.053104,
     "end_time": "2024-06-12T18:34:16.457026",
     "exception": false,
     "start_time": "2024-06-12T18:34:16.403922",
     "status": "completed"
    },
    "tags": []
   },
   "outputs": [],
   "source": [
    "def predict(txt, model):\n",
    "    '''\n",
    "    Implements our awsome algorithm and gives final output\n",
    "    '''\n",
    "    inputs = tokenizer(txt, return_tensors=\"pt\").to(device)\n",
    "    model = model.to(device)\n",
    "    outputs = model(**inputs)\n",
    "    logits = outputs.logits\n",
    "    probabilities = torch.nn.functional.softmax(logits, dim=-1)\n",
    "    predicted_class_index = logits.argmax(-1).item()\n",
    "    predicted_class = model.config.id2label[predicted_class_index]\n",
    "    predicted_probability = probabilities[0][predicted_class_index].item()\n",
    "    return [predicted_class, predicted_probability]"
   ]
  },
  {
   "cell_type": "code",
   "execution_count": 58,
   "id": "63b8c4ab",
   "metadata": {
    "execution": {
     "iopub.execute_input": "2024-06-12T18:34:16.544832Z",
     "iopub.status.busy": "2024-06-12T18:34:16.544191Z",
     "iopub.status.idle": "2024-06-12T18:34:17.229845Z",
     "shell.execute_reply": "2024-06-12T18:34:17.228721Z"
    },
    "papermill": {
     "duration": 0.731998,
     "end_time": "2024-06-12T18:34:17.232078",
     "exception": false,
     "start_time": "2024-06-12T18:34:16.500080",
     "status": "completed"
    },
    "tags": []
   },
   "outputs": [
    {
     "name": "stdout",
     "output_type": "stream",
     "text": [
      "23167\n",
      "[{'label': 'joy', 'score': 0.585852324962616}]\n",
      "\n",
      "Bangla Bert ['love', 0.9988873600959778]\n",
      "\n"
     ]
    },
    {
     "data": {
      "text/plain": [
       "{'sequence': 'আ, সালাম, আলেকুম, মীর, সাহেব, আপনার নতুন, ঠেকের, নিত্য, শ্রোতা, আমি, খুব, ভালো, উদ্দোগ, একটা, অনুরোধ, করছি, একদম, প্রথম, দিকের,ভিত্তিতে,মে, গল্প,গূলো,পাঠ, করতেন,যেগুলো, আমরা, সবাই, ভুলে, গেছি, সেগুলো, আবার, নতুন, করে, শুরু, করুন, ভালো, থাকবেন,',\n",
       " 'labels': ['surprise', 'anger', 'sad', 'fear', 'love'],\n",
       " 'scores': [0.3211183547973633,\n",
       "  0.22786542773246765,\n",
       "  0.2226012498140335,\n",
       "  0.1660836637020111,\n",
       "  0.06233130395412445]}"
      ]
     },
     "execution_count": 58,
     "metadata": {},
     "output_type": "execute_result"
    }
   ],
   "source": [
    "ri = np.random.randint(0, len(df3))\n",
    "text = df3['ctext'][ri]\n",
    "# text = 'ও মাই ঘট, টাইগার'\n",
    "\n",
    "print(ri)\n",
    "print(classifier_en(text))\n",
    "\n",
    "print(f'\\nBangla Bert {predict(text, model)}\\n')\n",
    "\n",
    "candidate_labels = ['love', 'sad', 'fear', 'anger', 'surprise']\n",
    "# candidate_labels = ['আনন্দ', 'দুঃখ', 'অবাক হওয়া', 'ভয়', 'রাগ']\n",
    "# print(classifier(text, candidate_labels, multi_label=True)['labels'])\n",
    "classifier(text, candidate_labels, multi_label=False)"
   ]
  },
  {
   "cell_type": "code",
   "execution_count": 59,
   "id": "593b3d2f",
   "metadata": {
    "execution": {
     "iopub.execute_input": "2024-06-12T18:34:17.319866Z",
     "iopub.status.busy": "2024-06-12T18:34:17.319492Z",
     "iopub.status.idle": "2024-06-12T18:34:17.328533Z",
     "shell.execute_reply": "2024-06-12T18:34:17.327766Z"
    },
    "papermill": {
     "duration": 0.055097,
     "end_time": "2024-06-12T18:34:17.330422",
     "exception": false,
     "start_time": "2024-06-12T18:34:17.275325",
     "status": "completed"
    },
    "tags": []
   },
   "outputs": [],
   "source": [
    "def final(text, lang, modelx):\n",
    "    '''\n",
    "    Implements our awsome algorithm and gives final output\n",
    "    '''\n",
    "    \n",
    "#     print(x)\n",
    "    if lang == 'Bengali':\n",
    "        tokenized_text = tokenizer(text,\n",
    "                                    return_tensors=\"pt\").to(device)\n",
    "\n",
    "        with torch.no_grad():\n",
    "            modelx = modelx.to(device)\n",
    "            pred = modelx(**tokenized_text)\n",
    "            logits = pred.logits\n",
    "            probas = torch.nn.functional.softmax(logits, dim=1).to('cpu')\n",
    "            predicted_class = torch.argmax(probas, dim=1).item()\n",
    "    #         print(predicted_class)\n",
    "    #         x.append(probas.numpy().flatten())\n",
    "        return model.config.id2label[predicted_class]\n",
    "    \n",
    "    elif lang == 'English':\n",
    "        try:\n",
    "            return classifier_en(text)[0]['label']\n",
    "        except:\n",
    "            candidate_labels = ['love', 'sadness', 'fear', 'anger']\n",
    "            return classifier(text, candidate_labels, multi_label=True)['labels'][0]\n",
    "    else:\n",
    "        candidate_labels = ['love', 'sadness', 'fear', 'anger']\n",
    "        return classifier(text, candidate_labels, multi_label=True)['labels'][0]"
   ]
  },
  {
   "cell_type": "code",
   "execution_count": 60,
   "id": "03185fff",
   "metadata": {
    "execution": {
     "iopub.execute_input": "2024-06-12T18:34:17.418860Z",
     "iopub.status.busy": "2024-06-12T18:34:17.418376Z",
     "iopub.status.idle": "2024-06-12T18:34:17.424507Z",
     "shell.execute_reply": "2024-06-12T18:34:17.423638Z"
    },
    "papermill": {
     "duration": 0.053563,
     "end_time": "2024-06-12T18:34:17.426418",
     "exception": false,
     "start_time": "2024-06-12T18:34:17.372855",
     "status": "completed"
    },
    "tags": []
   },
   "outputs": [],
   "source": [
    "def finalv2(text,lang, modelx):\n",
    "    '''\n",
    "    Implements our awsome algorithm and gives final output\n",
    "    '''\n",
    "    \n",
    "#     print(x)\n",
    "    if lang == 'Bengali':\n",
    "        candidate_labels = ['ভালো', 'খারাপ' , 'নিরপেক্ষ']\n",
    "        return classifier(text, candidate_labels, multi_label=False)['labels'][0]\n",
    "    \n",
    "    else:\n",
    "        candidate_labels = ['good', 'bad', 'neutral']\n",
    "        return classifier(text, candidate_labels, multi_label=False)['labels'][0]"
   ]
  },
  {
   "cell_type": "code",
   "execution_count": 61,
   "id": "02c9227b",
   "metadata": {
    "execution": {
     "iopub.execute_input": "2024-06-12T18:34:17.514466Z",
     "iopub.status.busy": "2024-06-12T18:34:17.514107Z",
     "iopub.status.idle": "2024-06-12T18:34:17.520452Z",
     "shell.execute_reply": "2024-06-12T18:34:17.519422Z"
    },
    "papermill": {
     "duration": 0.053549,
     "end_time": "2024-06-12T18:34:17.523300",
     "exception": false,
     "start_time": "2024-06-12T18:34:17.469751",
     "status": "completed"
    },
    "tags": []
   },
   "outputs": [],
   "source": [
    "def finalv3(row):\n",
    "    '''\n",
    "    Implements our awsome algorithm and gives final output\n",
    "    '''\n",
    "    text = row['ctext']\n",
    "    lang = row['language']\n",
    "#     print(x)\n",
    "    if lang == 'Bengali':\n",
    "        candidate_labels = ['ভালো', 'খারাপ' , 'নিরপেক্ষ']\n",
    "        return classifier(text, candidate_labels, multi_label=False)['labels'][0]\n",
    "    \n",
    "    else:\n",
    "        candidate_labels = ['good', 'bad', 'neutral']\n",
    "        return classifier(text, candidate_labels, multi_label=False)['labels'][0]"
   ]
  },
  {
   "cell_type": "code",
   "execution_count": null,
   "id": "0c2dde7a",
   "metadata": {
    "papermill": {
     "duration": 0.044819,
     "end_time": "2024-06-12T18:34:17.621414",
     "exception": false,
     "start_time": "2024-06-12T18:34:17.576595",
     "status": "completed"
    },
    "tags": []
   },
   "outputs": [],
   "source": []
  },
  {
   "cell_type": "code",
   "execution_count": 62,
   "id": "bc8e10ca",
   "metadata": {
    "execution": {
     "iopub.execute_input": "2024-06-12T18:34:17.713656Z",
     "iopub.status.busy": "2024-06-12T18:34:17.712918Z",
     "iopub.status.idle": "2024-06-12T18:34:17.799413Z",
     "shell.execute_reply": "2024-06-12T18:34:17.798464Z"
    },
    "papermill": {
     "duration": 0.135188,
     "end_time": "2024-06-12T18:34:17.801555",
     "exception": false,
     "start_time": "2024-06-12T18:34:17.666367",
     "status": "completed"
    },
    "tags": []
   },
   "outputs": [
    {
     "name": "stdout",
     "output_type": "stream",
     "text": [
      "Ha English\n",
      "anger\n",
      "\n",
      "https://youtu.be/QkTpYRCVmUs English\n",
      "joy\n",
      "\n",
      "মীরদা আমার রোজের অফিস যাওয়ার পথের সঙ্গী তুমি । এগিয়ে যাও Bengali\n",
      "love\n",
      "\n",
      "তুমি পুরো স্ট্রেট ফরোয়ার্ড আর খুব ফাস্ট করে ফেলেছ গপ্পো টা। অনেক ফোল্ড বাদ দিয়ে দিয়েছো বিশেষ করে টবি কে আনার পার্ট টা তো বটেই। 3 টে পার্ট করতেই পরতে গপ্পো গুলো নিজের মত ছোট কোরোনা Bengali\n",
      "love\n",
      "\n",
      "Taranath Tantrik theke Bhoirob Tantrik, sob kota golpoi jibonta hoy utbe, jodi tar voice dayn apni.........Osadharon English\n",
      "anger\n",
      "\n"
     ]
    }
   ],
   "source": [
    "for i in range(5):    \n",
    "    ri = np.random.randint(0, len(df3))\n",
    "    input_text = df3['ctext'][ri]\n",
    "    lang = df3['language'][ri]\n",
    "    print(input_text, lang)\n",
    "\n",
    "    predicted_class = final(input_text, lang, model)\n",
    "    print(predicted_class)\n",
    "    print()"
   ]
  },
  {
   "cell_type": "code",
   "execution_count": 63,
   "id": "cf22d342",
   "metadata": {
    "execution": {
     "iopub.execute_input": "2024-06-12T18:34:17.887331Z",
     "iopub.status.busy": "2024-06-12T18:34:17.886954Z",
     "iopub.status.idle": "2024-06-12T18:34:17.896246Z",
     "shell.execute_reply": "2024-06-12T18:34:17.895386Z"
    },
    "papermill": {
     "duration": 0.054731,
     "end_time": "2024-06-12T18:34:17.899046",
     "exception": false,
     "start_time": "2024-06-12T18:34:17.844315",
     "status": "completed"
    },
    "tags": []
   },
   "outputs": [
    {
     "name": "stdout",
     "output_type": "stream",
     "text": [
      "['Sunday suspense er শ্রোতাদের মধ্যে কে কে \"The count of Monte Cristo\" শুনেছ ?']\n",
      "['Bengali']\n",
      "['মীর কে লক্ষ লক্ষ মানুষ শুনতে ভালোবাসে। তাই আমি মনে করি শ্রোতাদের কথা মাথায় রেখে Sunday suspense টা তার চালিয়ে যাওয়া উচিত ছিল। যেরকম দীপ এখনো করে। মীরকে ছারা ব্যোমকেশ, তারানাথ চরিত্র গুলো ভাবা যায়না। আপনাদের কি মতামত?']\n",
      "['Bengali']\n",
      "['আজ \"ব্রহ্মপিশাচ\", কাল সানডে সাসপেন্সে\" জলপিশাচ\"। জমে যাবে পুরো। কিন্তু যতই বলো, তারানাথের চরিত্রটি মীরের কন্ঠ ছাড়া মানায় না।']\n",
      "['Bengali']\n",
      "\n",
      "100\n"
     ]
    }
   ],
   "source": [
    "# say threshold is 20k\n",
    "threshold = 10_0\n",
    "\n",
    "test_textms = df1[:threshold]['ctext'].tolist()\n",
    "lang_ms = df1[:threshold]['language'].tolist()\n",
    "\n",
    "print(test_textms[:1])\n",
    "print(lang_ms[:1])\n",
    "\n",
    "test_textmc = df2[:threshold]['ctext'].tolist()\n",
    "lang_mc = df2[:threshold]['language'].tolist()\n",
    "\n",
    "print(test_textmc[:1])\n",
    "print(lang_mc[:1])\n",
    "\n",
    "\n",
    "test_textmt = df3[:threshold]['ctext'].tolist()\n",
    "lang_mt = df3[:threshold]['language'].tolist()\n",
    "\n",
    "print(test_textmt[:1])\n",
    "print(lang_mt[:1])\n",
    "\n",
    "\n",
    "print(f'\\n{len(test_textmc)}')"
   ]
  },
  {
   "cell_type": "code",
   "execution_count": 64,
   "id": "ae476ac6",
   "metadata": {
    "execution": {
     "iopub.execute_input": "2024-06-12T18:34:17.992117Z",
     "iopub.status.busy": "2024-06-12T18:34:17.991297Z",
     "iopub.status.idle": "2024-06-12T18:34:17.995601Z",
     "shell.execute_reply": "2024-06-12T18:34:17.994642Z"
    },
    "papermill": {
     "duration": 0.051412,
     "end_time": "2024-06-12T18:34:17.997496",
     "exception": false,
     "start_time": "2024-06-12T18:34:17.946084",
     "status": "completed"
    },
    "tags": []
   },
   "outputs": [],
   "source": [
    "# preds = []\n",
    "# for i in tqdm(range(len(test_textms))):\n",
    "#     x = final(test_textms[i], lang_ms[i], model)\n",
    "#     preds.append(x)"
   ]
  },
  {
   "cell_type": "code",
   "execution_count": 65,
   "id": "dda194e7",
   "metadata": {
    "execution": {
     "iopub.execute_input": "2024-06-12T18:34:18.086810Z",
     "iopub.status.busy": "2024-06-12T18:34:18.086019Z",
     "iopub.status.idle": "2024-06-12T18:34:18.091774Z",
     "shell.execute_reply": "2024-06-12T18:34:18.090943Z"
    },
    "papermill": {
     "duration": 0.051944,
     "end_time": "2024-06-12T18:34:18.093859",
     "exception": false,
     "start_time": "2024-06-12T18:34:18.041915",
     "status": "completed"
    },
    "tags": []
   },
   "outputs": [
    {
     "data": {
      "text/plain": [
       "'বাপরে বাপ । ভুতের সিনেমাতেও এত ভয় লাগেনা । সানডে সাসপেন্স টিম জিন্দাবাদ'"
      ]
     },
     "execution_count": 65,
     "metadata": {},
     "output_type": "execute_result"
    }
   ],
   "source": [
    "test_textms[42]"
   ]
  },
  {
   "cell_type": "code",
   "execution_count": 66,
   "id": "834e2c13",
   "metadata": {
    "execution": {
     "iopub.execute_input": "2024-06-12T18:34:18.181119Z",
     "iopub.status.busy": "2024-06-12T18:34:18.180815Z",
     "iopub.status.idle": "2024-06-12T18:34:18.201701Z",
     "shell.execute_reply": "2024-06-12T18:34:18.200838Z"
    },
    "papermill": {
     "duration": 0.066529,
     "end_time": "2024-06-12T18:34:18.203523",
     "exception": false,
     "start_time": "2024-06-12T18:34:18.136994",
     "status": "completed"
    },
    "tags": []
   },
   "outputs": [
    {
     "data": {
      "text/plain": [
       "'love'"
      ]
     },
     "execution_count": 66,
     "metadata": {},
     "output_type": "execute_result"
    }
   ],
   "source": [
    "final(test_textms[42], lang_ms[42], model)"
   ]
  },
  {
   "cell_type": "code",
   "execution_count": 67,
   "id": "6b4c933a",
   "metadata": {
    "execution": {
     "iopub.execute_input": "2024-06-12T18:34:18.290388Z",
     "iopub.status.busy": "2024-06-12T18:34:18.290017Z",
     "iopub.status.idle": "2024-06-12T18:34:19.850114Z",
     "shell.execute_reply": "2024-06-12T18:34:19.849141Z"
    },
    "papermill": {
     "duration": 1.606337,
     "end_time": "2024-06-12T18:34:19.852046",
     "exception": false,
     "start_time": "2024-06-12T18:34:18.245709",
     "status": "completed"
    },
    "tags": []
   },
   "outputs": [
    {
     "data": {
      "application/vnd.jupyter.widget-view+json": {
       "model_id": "19dcd5c3e67545aeb32f88f9f4783a76",
       "version_major": 2,
       "version_minor": 0
      },
      "text/plain": [
       "  0%|          | 0/100 [00:00<?, ?it/s]"
      ]
     },
     "metadata": {},
     "output_type": "display_data"
    }
   ],
   "source": [
    "from tqdm.notebook import tqdm\n",
    "\n",
    "# Using a list comprehension with tqdm for progress tracking in a Jupyter notebook\n",
    "preds1 = [final(test_textms[i], lang_ms[i], model) for i in tqdm(range(len(test_textms)))]"
   ]
  },
  {
   "cell_type": "code",
   "execution_count": 68,
   "id": "457da065",
   "metadata": {
    "execution": {
     "iopub.execute_input": "2024-06-12T18:34:19.939553Z",
     "iopub.status.busy": "2024-06-12T18:34:19.938774Z",
     "iopub.status.idle": "2024-06-12T18:34:19.942847Z",
     "shell.execute_reply": "2024-06-12T18:34:19.941999Z"
    },
    "papermill": {
     "duration": 0.04882,
     "end_time": "2024-06-12T18:34:19.944666",
     "exception": false,
     "start_time": "2024-06-12T18:34:19.895846",
     "status": "completed"
    },
    "tags": []
   },
   "outputs": [],
   "source": [
    "# classifier_f = pipeline(\"text-classification\",model='bhadresh-savani/bert-base-uncased-emotion',\n",
    "#                          return_all_scores=False, device=device, truncation=True)"
   ]
  },
  {
   "cell_type": "code",
   "execution_count": 69,
   "id": "3476a59a",
   "metadata": {
    "execution": {
     "iopub.execute_input": "2024-06-12T18:34:20.029346Z",
     "iopub.status.busy": "2024-06-12T18:34:20.028783Z",
     "iopub.status.idle": "2024-06-12T18:34:20.327366Z",
     "shell.execute_reply": "2024-06-12T18:34:20.326398Z"
    },
    "papermill": {
     "duration": 0.343131,
     "end_time": "2024-06-12T18:34:20.329421",
     "exception": false,
     "start_time": "2024-06-12T18:34:19.986290",
     "status": "completed"
    },
    "tags": []
   },
   "outputs": [
    {
     "name": "stdout",
     "output_type": "stream",
     "text": [
      "'বিভূতিভূষণ বন্দ্যোপাধ্যায়' রচিত 'আরণ্যক' উপন্যাস চলিত ভাষায় শুনতে চাই আমরা সবাই .! সামনেই সেপ্টেম্বর মাস মানে 'বিভূতিভূষণ বন্দ্যোপাধ্যায়' মাস !.একটাই অনুরোধ সামনের মাসে যদি বিভূতিভূষণ মাস হয় তবে খুব খুশি হবে mirchi fan রা । Bengali\n",
      "['anger', 'happy', 'sad']\n"
     ]
    }
   ],
   "source": [
    "x = 6\n",
    "print(test_textmc[x], lang_mc[x])\n",
    "print(classifier(test_textmc[x], ['happy', 'sad', 'anger'])['labels'])\n",
    "# classifier_f(test_textmc[x])"
   ]
  },
  {
   "cell_type": "code",
   "execution_count": 70,
   "id": "cc3c8017",
   "metadata": {
    "execution": {
     "iopub.execute_input": "2024-06-12T18:34:20.418006Z",
     "iopub.status.busy": "2024-06-12T18:34:20.417464Z",
     "iopub.status.idle": "2024-06-12T18:34:20.421444Z",
     "shell.execute_reply": "2024-06-12T18:34:20.420605Z"
    },
    "papermill": {
     "duration": 0.049049,
     "end_time": "2024-06-12T18:34:20.423240",
     "exception": false,
     "start_time": "2024-06-12T18:34:20.374191",
     "status": "completed"
    },
    "tags": []
   },
   "outputs": [],
   "source": [
    "# lang_mc[590:600]"
   ]
  },
  {
   "cell_type": "code",
   "execution_count": 71,
   "id": "479e1b5b",
   "metadata": {
    "execution": {
     "iopub.execute_input": "2024-06-12T18:34:20.508266Z",
     "iopub.status.busy": "2024-06-12T18:34:20.507744Z",
     "iopub.status.idle": "2024-06-12T18:34:22.074641Z",
     "shell.execute_reply": "2024-06-12T18:34:22.073673Z"
    },
    "papermill": {
     "duration": 1.611852,
     "end_time": "2024-06-12T18:34:22.077003",
     "exception": false,
     "start_time": "2024-06-12T18:34:20.465151",
     "status": "completed"
    },
    "tags": []
   },
   "outputs": [
    {
     "data": {
      "application/vnd.jupyter.widget-view+json": {
       "model_id": "e027de6b53204686893983c642be65ce",
       "version_major": 2,
       "version_minor": 0
      },
      "text/plain": [
       "  0%|          | 0/100 [00:00<?, ?it/s]"
      ]
     },
     "metadata": {},
     "output_type": "display_data"
    }
   ],
   "source": [
    "preds2 = [final(test_textmc[i], lang_mc[i], model) for i in tqdm(range(len(test_textmc)))]"
   ]
  },
  {
   "cell_type": "code",
   "execution_count": 72,
   "id": "71d2c227",
   "metadata": {
    "execution": {
     "iopub.execute_input": "2024-06-12T18:34:22.163321Z",
     "iopub.status.busy": "2024-06-12T18:34:22.162976Z",
     "iopub.status.idle": "2024-06-12T18:34:23.611802Z",
     "shell.execute_reply": "2024-06-12T18:34:23.610831Z"
    },
    "papermill": {
     "duration": 1.494982,
     "end_time": "2024-06-12T18:34:23.615045",
     "exception": false,
     "start_time": "2024-06-12T18:34:22.120063",
     "status": "completed"
    },
    "tags": []
   },
   "outputs": [
    {
     "data": {
      "application/vnd.jupyter.widget-view+json": {
       "model_id": "fb14751a579a4abcabf4d80d5d483283",
       "version_major": 2,
       "version_minor": 0
      },
      "text/plain": [
       "  0%|          | 0/100 [00:00<?, ?it/s]"
      ]
     },
     "metadata": {},
     "output_type": "display_data"
    },
    {
     "name": "stderr",
     "output_type": "stream",
     "text": [
      "/opt/conda/lib/python3.10/site-packages/transformers/pipelines/base.py:1157: UserWarning: You seem to be using the pipelines sequentially on GPU. In order to maximize efficiency please use a dataset\n",
      "  warnings.warn(\n"
     ]
    }
   ],
   "source": [
    "preds3 = [final(test_textmt[i], lang_mt[i], model) for i in tqdm(range(len(test_textmt)))]"
   ]
  },
  {
   "cell_type": "code",
   "execution_count": 73,
   "id": "d05b10f1",
   "metadata": {
    "execution": {
     "iopub.execute_input": "2024-06-12T18:34:23.705261Z",
     "iopub.status.busy": "2024-06-12T18:34:23.704925Z",
     "iopub.status.idle": "2024-06-12T18:34:23.719949Z",
     "shell.execute_reply": "2024-06-12T18:34:23.718958Z"
    },
    "papermill": {
     "duration": 0.063284,
     "end_time": "2024-06-12T18:34:23.722070",
     "exception": false,
     "start_time": "2024-06-12T18:34:23.658786",
     "status": "completed"
    },
    "tags": []
   },
   "outputs": [
    {
     "data": {
      "text/html": [
       "<div>\n",
       "<style scoped>\n",
       "    .dataframe tbody tr th:only-of-type {\n",
       "        vertical-align: middle;\n",
       "    }\n",
       "\n",
       "    .dataframe tbody tr th {\n",
       "        vertical-align: top;\n",
       "    }\n",
       "\n",
       "    .dataframe thead th {\n",
       "        text-align: right;\n",
       "    }\n",
       "</style>\n",
       "<table border=\"1\" class=\"dataframe\">\n",
       "  <thead>\n",
       "    <tr style=\"text-align: right;\">\n",
       "      <th></th>\n",
       "      <th>comment</th>\n",
       "      <th>lang</th>\n",
       "      <th>sentiment</th>\n",
       "    </tr>\n",
       "  </thead>\n",
       "  <tbody>\n",
       "    <tr>\n",
       "      <th>0</th>\n",
       "      <td>Sunday suspense er শ্রোতাদের মধ্যে কে কে \"The ...</td>\n",
       "      <td>Bengali</td>\n",
       "      <td>love</td>\n",
       "    </tr>\n",
       "    <tr>\n",
       "      <th>1</th>\n",
       "      <td>বেঁচে থাকতে হয়তো বিশ্ব সাহিত্যের যেসব গল্প কো...</td>\n",
       "      <td>Bengali</td>\n",
       "      <td>love</td>\n",
       "    </tr>\n",
       "    <tr>\n",
       "      <th>2</th>\n",
       "      <td>এ আমার পরম সৌভাগ্য যে একজন বাঙালি হয়ে জন্মেছি ...</td>\n",
       "      <td>Bengali</td>\n",
       "      <td>love</td>\n",
       "    </tr>\n",
       "    <tr>\n",
       "      <th>3</th>\n",
       "      <td>কে কে মনে করেন 'The count of Monte Christo' এই...</td>\n",
       "      <td>Bengali</td>\n",
       "      <td>love</td>\n",
       "    </tr>\n",
       "    <tr>\n",
       "      <th>4</th>\n",
       "      <td>একটা ছোট্ট request, Alexender Dumas series যখন...</td>\n",
       "      <td>Bengali</td>\n",
       "      <td>love</td>\n",
       "    </tr>\n",
       "    <tr>\n",
       "      <th>...</th>\n",
       "      <td>...</td>\n",
       "      <td>...</td>\n",
       "      <td>...</td>\n",
       "    </tr>\n",
       "    <tr>\n",
       "      <th>95</th>\n",
       "      <td>রবিবার পুরো জমে ক্ষীর,,, ছক্কার পর ছক্কা,,,,আগ...</td>\n",
       "      <td>Bengali</td>\n",
       "      <td>love</td>\n",
       "    </tr>\n",
       "    <tr>\n",
       "      <th>96</th>\n",
       "      <td>মির্চি বাংলা ক্ষমতা রাখে যেকোনো সময় যেকোনো সি...</td>\n",
       "      <td>Bengali</td>\n",
       "      <td>love</td>\n",
       "    </tr>\n",
       "    <tr>\n",
       "      <th>97</th>\n",
       "      <td>কে বলেছে আমার বন্ধু নেই, আমার ১২ বছরের বন্ধু ত...</td>\n",
       "      <td>Bengali</td>\n",
       "      <td>love</td>\n",
       "    </tr>\n",
       "    <tr>\n",
       "      <th>98</th>\n",
       "      <td>রক্তপিপাসু পিশাচ জানিনা কতদিন এই ৬ ঘন্টার গল্প...</td>\n",
       "      <td>Bengali</td>\n",
       "      <td>love</td>\n",
       "    </tr>\n",
       "    <tr>\n",
       "      <th>99</th>\n",
       "      <td>মিউজিক থিম টা পুরানোটাই ভালো ছিল, মিউজিক টা শু...</td>\n",
       "      <td>Bengali</td>\n",
       "      <td>love</td>\n",
       "    </tr>\n",
       "  </tbody>\n",
       "</table>\n",
       "<p>100 rows × 3 columns</p>\n",
       "</div>"
      ],
      "text/plain": [
       "                                              comment     lang sentiment\n",
       "0   Sunday suspense er শ্রোতাদের মধ্যে কে কে \"The ...  Bengali      love\n",
       "1   বেঁচে থাকতে হয়তো বিশ্ব সাহিত্যের যেসব গল্প কো...  Bengali      love\n",
       "2   এ আমার পরম সৌভাগ্য যে একজন বাঙালি হয়ে জন্মেছি ...  Bengali      love\n",
       "3   কে কে মনে করেন 'The count of Monte Christo' এই...  Bengali      love\n",
       "4   একটা ছোট্ট request, Alexender Dumas series যখন...  Bengali      love\n",
       "..                                                ...      ...       ...\n",
       "95  রবিবার পুরো জমে ক্ষীর,,, ছক্কার পর ছক্কা,,,,আগ...  Bengali      love\n",
       "96  মির্চি বাংলা ক্ষমতা রাখে যেকোনো সময় যেকোনো সি...  Bengali      love\n",
       "97  কে বলেছে আমার বন্ধু নেই, আমার ১২ বছরের বন্ধু ত...  Bengali      love\n",
       "98  রক্তপিপাসু পিশাচ জানিনা কতদিন এই ৬ ঘন্টার গল্প...  Bengali      love\n",
       "99  মিউজিক থিম টা পুরানোটাই ভালো ছিল, মিউজিক টা শু...  Bengali      love\n",
       "\n",
       "[100 rows x 3 columns]"
      ]
     },
     "execution_count": 73,
     "metadata": {},
     "output_type": "execute_result"
    }
   ],
   "source": [
    "result1 = pd.DataFrame({'comment':test_textms,'lang':lang_ms, 'sentiment':preds1})\n",
    "result2 = pd.DataFrame({'comment':test_textmc,'lang':lang_mc, 'sentiment':preds2})\n",
    "result3 = pd.DataFrame({'comment':test_textmt,'lang':lang_mt, 'sentiment':preds3})\n",
    "result1"
   ]
  },
  {
   "cell_type": "code",
   "execution_count": 74,
   "id": "58744273",
   "metadata": {
    "execution": {
     "iopub.execute_input": "2024-06-12T18:34:23.819504Z",
     "iopub.status.busy": "2024-06-12T18:34:23.818527Z",
     "iopub.status.idle": "2024-06-12T18:34:23.827005Z",
     "shell.execute_reply": "2024-06-12T18:34:23.826145Z"
    },
    "papermill": {
     "duration": 0.056291,
     "end_time": "2024-06-12T18:34:23.829196",
     "exception": false,
     "start_time": "2024-06-12T18:34:23.772905",
     "status": "completed"
    },
    "tags": []
   },
   "outputs": [
    {
     "data": {
      "text/plain": [
       "(lang\n",
       " Bengali     95\n",
       " English      3\n",
       " Banglish     2\n",
       " Name: count, dtype: int64,\n",
       " lang\n",
       " Bengali     98\n",
       " Banglish     2\n",
       " Name: count, dtype: int64)"
      ]
     },
     "execution_count": 74,
     "metadata": {},
     "output_type": "execute_result"
    }
   ],
   "source": [
    "result1.lang.value_counts(), result2.lang.value_counts()"
   ]
  },
  {
   "cell_type": "code",
   "execution_count": 75,
   "id": "7cae4fb4",
   "metadata": {
    "execution": {
     "iopub.execute_input": "2024-06-12T18:34:23.917915Z",
     "iopub.status.busy": "2024-06-12T18:34:23.917597Z",
     "iopub.status.idle": "2024-06-12T18:34:23.924482Z",
     "shell.execute_reply": "2024-06-12T18:34:23.923541Z"
    },
    "papermill": {
     "duration": 0.052846,
     "end_time": "2024-06-12T18:34:23.926469",
     "exception": false,
     "start_time": "2024-06-12T18:34:23.873623",
     "status": "completed"
    },
    "tags": []
   },
   "outputs": [
    {
     "name": "stdout",
     "output_type": "stream",
     "text": [
      "love Bengali লন্ডনে ফেলুদা টা আনা হোক, সমর্থন করলে লাইক ঠোক সবাই, please ! ইতি এক একনিষ্ঠ শ্রোতা।\n",
      "\n",
      "sad Bengali কমেন্ট টা ডিলিট করলাম। রিপ্লাই দেখে লাভ নেই!\n",
      "\n",
      "love Bengali রাত্রে Sunday suspense শুনতে শুনতে ঘুম পড়ে জাওয়া শ্রোতারা কই?? লাইক দিয়ে যান!!\n",
      "\n",
      "love Bengali এক সাধারণ বাঙালী জমিদার ছেলের সমুদ্রে পাড়ি দেওয়ার গল্প ...ভারত মহাসাগরের করাগারে রক্ষিত এক বিপুল ধন-সম্পদ রহস্য আবিষ্কারের গল্প ... বিভূতিভূষণ বন্দ্যোপাধ্যায় এর এক অসাধারণ সাহিত্যের কৃর্তি ...হীরে মানিক জ্বলে\n",
      "\n",
      "anger Banglish Ke ke 4-5 bochor dhore Sunday সাসপেন্স শুনছেন\n",
      "\n",
      "anger English How many students are here\n",
      "\n",
      "love Bengali \"গল্প পাঠে মীর\" ----- এই লাইনটা শুনলেই আমার মন আনন্দে ভরে যায়\n",
      "\n",
      "love Bengali মীর দা তুমি অনন্য, তোমার গলার আওয়াজে কখনো অনুপ্রাণিত হয়েছে, কখনো মন খুলে হেসেছি আবার কখনো বালিশ চোখের জলে ভিজিয়েছি। অপ্রিয় হল এটাই সত্য তোমাকে আর মনে হয় না কখনো mirchi 98.3 টে বলতে শুনতে পাবো my dear Watson.... আশা করি তোমার এই অনুপস্থিতি টিম মিরচি কখনোই আমাদের বুঝতে দিবে না\n",
      "\n",
      "love Bengali ব্যোমকেশের গল্পের ভক্ত এখানে কারা আছো ?\n",
      "\n",
      "love Bengali বাপরে বাপ । ভুতের সিনেমাতেও এত ভয় লাগেনা । সানডে সাসপেন্স টিম জিন্দাবাদ\n",
      "\n"
     ]
    }
   ],
   "source": [
    "x = 33\n",
    "for i, r in result1[x:x+10].iterrows():\n",
    "    print(r['sentiment'], r['lang'] ,r['comment'])\n",
    "    print()"
   ]
  },
  {
   "cell_type": "code",
   "execution_count": 76,
   "id": "aefc0f7c",
   "metadata": {
    "execution": {
     "iopub.execute_input": "2024-06-12T18:34:24.013826Z",
     "iopub.status.busy": "2024-06-12T18:34:24.013502Z",
     "iopub.status.idle": "2024-06-12T18:34:24.024424Z",
     "shell.execute_reply": "2024-06-12T18:34:24.023513Z"
    },
    "papermill": {
     "duration": 0.056446,
     "end_time": "2024-06-12T18:34:24.026300",
     "exception": false,
     "start_time": "2024-06-12T18:34:23.969854",
     "status": "completed"
    },
    "tags": []
   },
   "outputs": [
    {
     "name": "stdout",
     "output_type": "stream",
     "text": [
      "sentiment\n",
      "anger     2\n",
      "joy       1\n",
      "love     93\n",
      "sad       4\n",
      "Name: count, dtype: int64\n",
      "sentiment\n",
      "anger     1\n",
      "love     96\n",
      "sad       3\n",
      "Name: count, dtype: int64\n",
      "sentiment\n",
      "anger       1\n",
      "joy         2\n",
      "love       94\n",
      "sad         2\n",
      "sadness     1\n",
      "Name: count, dtype: int64\n"
     ]
    }
   ],
   "source": [
    "print(result1.sentiment.value_counts().sort_index(),end='\\n')\n",
    "print(result2.sentiment.value_counts().sort_index(),end='\\n')\n",
    "print(result3.sentiment.value_counts().sort_index())"
   ]
  },
  {
   "cell_type": "code",
   "execution_count": 77,
   "id": "9dda01c3",
   "metadata": {
    "execution": {
     "iopub.execute_input": "2024-06-12T18:34:24.114997Z",
     "iopub.status.busy": "2024-06-12T18:34:24.114493Z",
     "iopub.status.idle": "2024-06-12T18:34:24.121861Z",
     "shell.execute_reply": "2024-06-12T18:34:24.120990Z"
    },
    "papermill": {
     "duration": 0.053284,
     "end_time": "2024-06-12T18:34:24.123749",
     "exception": false,
     "start_time": "2024-06-12T18:34:24.070465",
     "status": "completed"
    },
    "tags": []
   },
   "outputs": [
    {
     "data": {
      "text/plain": [
       "sentiment\n",
       "anger     1\n",
       "love     96\n",
       "sad       3\n",
       "Name: count, dtype: int64"
      ]
     },
     "execution_count": 77,
     "metadata": {},
     "output_type": "execute_result"
    }
   ],
   "source": [
    "result2.sentiment.value_counts().sort_index()"
   ]
  },
  {
   "cell_type": "code",
   "execution_count": 78,
   "id": "215171f1",
   "metadata": {
    "execution": {
     "iopub.execute_input": "2024-06-12T18:34:24.211744Z",
     "iopub.status.busy": "2024-06-12T18:34:24.211430Z",
     "iopub.status.idle": "2024-06-12T18:34:24.220341Z",
     "shell.execute_reply": "2024-06-12T18:34:24.219498Z"
    },
    "papermill": {
     "duration": 0.054802,
     "end_time": "2024-06-12T18:34:24.222316",
     "exception": false,
     "start_time": "2024-06-12T18:34:24.167514",
     "status": "completed"
    },
    "tags": []
   },
   "outputs": [
    {
     "data": {
      "text/html": [
       "<div>\n",
       "<style scoped>\n",
       "    .dataframe tbody tr th:only-of-type {\n",
       "        vertical-align: middle;\n",
       "    }\n",
       "\n",
       "    .dataframe tbody tr th {\n",
       "        vertical-align: top;\n",
       "    }\n",
       "\n",
       "    .dataframe thead th {\n",
       "        text-align: right;\n",
       "    }\n",
       "</style>\n",
       "<table border=\"1\" class=\"dataframe\">\n",
       "  <thead>\n",
       "    <tr style=\"text-align: right;\">\n",
       "      <th></th>\n",
       "      <th>comment</th>\n",
       "      <th>lang</th>\n",
       "      <th>sentiment</th>\n",
       "    </tr>\n",
       "  </thead>\n",
       "  <tbody>\n",
       "    <tr>\n",
       "      <th>0</th>\n",
       "      <td>মীর কে লক্ষ লক্ষ মানুষ শুনতে ভালোবাসে। তাই আমি...</td>\n",
       "      <td>Bengali</td>\n",
       "      <td>love</td>\n",
       "    </tr>\n",
       "    <tr>\n",
       "      <th>1</th>\n",
       "      <td>আমার মতো মীর দা ও তারানাথ তান্ত্রিককে কে কে চায়</td>\n",
       "      <td>Bengali</td>\n",
       "      <td>love</td>\n",
       "    </tr>\n",
       "  </tbody>\n",
       "</table>\n",
       "</div>"
      ],
      "text/plain": [
       "                                             comment     lang sentiment\n",
       "0  মীর কে লক্ষ লক্ষ মানুষ শুনতে ভালোবাসে। তাই আমি...  Bengali      love\n",
       "1   আমার মতো মীর দা ও তারানাথ তান্ত্রিককে কে কে চায়  Bengali      love"
      ]
     },
     "execution_count": 78,
     "metadata": {},
     "output_type": "execute_result"
    }
   ],
   "source": [
    "result2.head(2)"
   ]
  },
  {
   "cell_type": "code",
   "execution_count": 79,
   "id": "ff27f8d2",
   "metadata": {
    "execution": {
     "iopub.execute_input": "2024-06-12T18:34:24.312336Z",
     "iopub.status.busy": "2024-06-12T18:34:24.311954Z",
     "iopub.status.idle": "2024-06-12T18:34:24.322956Z",
     "shell.execute_reply": "2024-06-12T18:34:24.322061Z"
    },
    "papermill": {
     "duration": 0.05861,
     "end_time": "2024-06-12T18:34:24.325059",
     "exception": false,
     "start_time": "2024-06-12T18:34:24.266449",
     "status": "completed"
    },
    "tags": []
   },
   "outputs": [
    {
     "data": {
      "text/plain": [
       "[[2, 1, 93, 4], [1, 96, 3], [1, 2, 94, 2, 1]]"
      ]
     },
     "execution_count": 79,
     "metadata": {},
     "output_type": "execute_result"
    }
   ],
   "source": [
    "spm = []\n",
    "spm.append(result1.sentiment.value_counts().sort_index().tolist())\n",
    "spm.append(result2.sentiment.value_counts().sort_index().tolist())\n",
    "spm.append(result3.sentiment.value_counts().sort_index().tolist())\n",
    "# spm = np.array(spm)\n",
    "spm"
   ]
  },
  {
   "cell_type": "code",
   "execution_count": 80,
   "id": "879300e2",
   "metadata": {
    "execution": {
     "iopub.execute_input": "2024-06-12T18:34:24.465356Z",
     "iopub.status.busy": "2024-06-12T18:34:24.464644Z",
     "iopub.status.idle": "2024-06-12T18:34:24.468636Z",
     "shell.execute_reply": "2024-06-12T18:34:24.467884Z"
    },
    "papermill": {
     "duration": 0.096244,
     "end_time": "2024-06-12T18:34:24.470673",
     "exception": false,
     "start_time": "2024-06-12T18:34:24.374429",
     "status": "completed"
    },
    "tags": []
   },
   "outputs": [],
   "source": [
    "# sums = np.sum(spm, axis=1)\n",
    "# # Normalize each inner array to percentages\n",
    "# spm2 = (spm.T / sums).T * 100\n",
    "# print(spm2)"
   ]
  },
  {
   "cell_type": "code",
   "execution_count": 81,
   "id": "6069d930",
   "metadata": {
    "execution": {
     "iopub.execute_input": "2024-06-12T18:34:24.559720Z",
     "iopub.status.busy": "2024-06-12T18:34:24.559071Z",
     "iopub.status.idle": "2024-06-12T18:34:24.564336Z",
     "shell.execute_reply": "2024-06-12T18:34:24.563478Z"
    },
    "papermill": {
     "duration": 0.051452,
     "end_time": "2024-06-12T18:34:24.566163",
     "exception": false,
     "start_time": "2024-06-12T18:34:24.514711",
     "status": "completed"
    },
    "tags": []
   },
   "outputs": [],
   "source": [
    "# import matplotlib.pyplot as plt\n",
    "# import numpy as np\n",
    "\n",
    "# # Define custom colors for each sentiment type\n",
    "# colors = ['#2E9BFF', '#987BE9', '#FF7C7C', '#58D68D', 'red', 'green', 'blue']\n",
    "\n",
    "# species = (\n",
    "#     \"Mir Soho\",  \n",
    "#     \"Mir Chara\", \n",
    "#     \"Mir Er Thek\",  \n",
    "# )\n",
    "# weight_counts = {\n",
    "#     \"Anger\": spm2.T[0],\n",
    "#     \"Fear\": spm2.T[1],\n",
    "#     'Joy':spm2.T[2],\n",
    "#     \"Love\": spm2.T[3],\n",
    "#     \"Sad\": spm2.T[4],\n",
    "#     \"Sadness\": spm2.T[5],\n",
    "#     \"Surprise\":spm2.T[6]\n",
    "# }\n",
    "\n",
    "# # Calculate the number of sentiment types\n",
    "# num_sentiments = len(weight_counts)\n",
    "\n",
    "# # Adjust width based on the number of sentiment types\n",
    "# width = 0.4\n",
    "\n",
    "# fig, ax = plt.subplots(figsize=(8, 6))\n",
    "\n",
    "# # Initialize bottom values with zeros for stacking\n",
    "# bottom = np.zeros(len(species))\n",
    "\n",
    "# # Stack the bars for each sentiment type with custom colors\n",
    "# for i, (sentiment, count) in enumerate(weight_counts.items()):\n",
    "#     plt.bar(species, count, width, label=sentiment, bottom=bottom, color=colors[i])\n",
    "#     bottom += count  # Update bottom for stacking\n",
    "\n",
    "# # Add labels and title\n",
    "# plt.xlabel(\"Species\")\n",
    "# plt.ylabel(\"Number of Occurrences\")\n",
    "# plt.title(\"Distribution of Sentiment\")\n",
    "\n",
    "# # Adjust legend location\n",
    "# plt.legend(loc=\"best\")\n",
    "\n",
    "# plt.xticks(rotation=45)\n",
    "# plt.tight_layout()\n",
    "# plt.show()\n"
   ]
  },
  {
   "cell_type": "markdown",
   "id": "b6d14b9e",
   "metadata": {
    "papermill": {
     "duration": 0.043204,
     "end_time": "2024-06-12T18:34:24.652634",
     "exception": false,
     "start_time": "2024-06-12T18:34:24.609430",
     "status": "completed"
    },
    "tags": []
   },
   "source": [
    "## Directly Apply on the DF"
   ]
  },
  {
   "cell_type": "code",
   "execution_count": 82,
   "id": "1b3e2a81",
   "metadata": {
    "execution": {
     "iopub.execute_input": "2024-06-12T18:34:24.743136Z",
     "iopub.status.busy": "2024-06-12T18:34:24.742467Z",
     "iopub.status.idle": "2024-06-12T18:34:24.751033Z",
     "shell.execute_reply": "2024-06-12T18:34:24.750195Z"
    },
    "papermill": {
     "duration": 0.055432,
     "end_time": "2024-06-12T18:34:24.752919",
     "exception": false,
     "start_time": "2024-06-12T18:34:24.697487",
     "status": "completed"
    },
    "tags": []
   },
   "outputs": [],
   "source": [
    "def finalv4(row, modelx):\n",
    "    '''\n",
    "    Implements our awsome algorithm and gives final output\n",
    "    '''\n",
    "    text = row['ctext']\n",
    "    lang = row['language']\n",
    "    \n",
    "#     print(x)\n",
    "    if lang == 'Bengali':\n",
    "        tokenized_text = tokenizer(text,\n",
    "                                    return_tensors=\"pt\",  truncation=True, max_length=512).to(device)\n",
    "\n",
    "        with torch.no_grad():\n",
    "            modelx = modelx.to(device)\n",
    "            pred = modelx(**tokenized_text)\n",
    "            logits = pred.logits\n",
    "            probas = torch.nn.functional.softmax(logits, dim=1).to('cpu')\n",
    "            predicted_class = torch.argmax(probas, dim=1).item()\n",
    "    #         print(predicted_class)\n",
    "    #         x.append(probas.numpy().flatten())\n",
    "        return model.config.id2label[predicted_class]\n",
    "    \n",
    "    elif lang == 'English':\n",
    "        try:\n",
    "            return classifier_en(text)[0]['label']\n",
    "        except:\n",
    "            candidate_labels = ['happy', 'sadness', 'fear', 'anger']\n",
    "            return classifier(text, candidate_labels, multi_label=True)['labels'][0]\n",
    "    else:\n",
    "        candidate_labels = ['happy', 'sadness', 'fear', 'anger']\n",
    "        return classifier(text, candidate_labels, multi_label=True)['labels'][0]"
   ]
  },
  {
   "cell_type": "code",
   "execution_count": 83,
   "id": "2e36efc3",
   "metadata": {
    "execution": {
     "iopub.execute_input": "2024-06-12T18:34:24.841546Z",
     "iopub.status.busy": "2024-06-12T18:34:24.841259Z",
     "iopub.status.idle": "2024-06-12T18:34:24.846273Z",
     "shell.execute_reply": "2024-06-12T18:34:24.845457Z"
    },
    "papermill": {
     "duration": 0.051085,
     "end_time": "2024-06-12T18:34:24.848094",
     "exception": false,
     "start_time": "2024-06-12T18:34:24.797009",
     "status": "completed"
    },
    "tags": []
   },
   "outputs": [],
   "source": [
    "def finalv5(row, modelx):\n",
    "    '''\n",
    "    Implements our awsome algorithm and gives final output\n",
    "    '''\n",
    "    text = row['ctext']\n",
    "#     lang = row['language']\n",
    "    \n",
    "#     print(x)\n",
    "#     if lang == 'English':\n",
    "#         try:\n",
    "#             return classifier_en(text)[0]['label']\n",
    "#         except:\n",
    "#             candidate_labels = ['happy', 'sadness', 'fear', 'anger']\n",
    "#             return classifier(text, candidate_labels, multi_label=True)['labels'][0]\n",
    "#     else:\n",
    "    candidate_labels = ['happy', 'sadness', 'fear', 'anger']\n",
    "    return classifier(text, candidate_labels, multi_label=False)['labels'][0]"
   ]
  },
  {
   "cell_type": "code",
   "execution_count": 84,
   "id": "e3c6c916",
   "metadata": {
    "execution": {
     "iopub.execute_input": "2024-06-12T18:34:24.936852Z",
     "iopub.status.busy": "2024-06-12T18:34:24.936117Z",
     "iopub.status.idle": "2024-06-12T18:34:25.157530Z",
     "shell.execute_reply": "2024-06-12T18:34:25.156573Z"
    },
    "papermill": {
     "duration": 0.267929,
     "end_time": "2024-06-12T18:34:25.159661",
     "exception": false,
     "start_time": "2024-06-12T18:34:24.891732",
     "status": "completed"
    },
    "tags": []
   },
   "outputs": [
    {
     "data": {
      "text/html": [
       "<div>\n",
       "<style scoped>\n",
       "    .dataframe tbody tr th:only-of-type {\n",
       "        vertical-align: middle;\n",
       "    }\n",
       "\n",
       "    .dataframe tbody tr th {\n",
       "        vertical-align: top;\n",
       "    }\n",
       "\n",
       "    .dataframe thead th {\n",
       "        text-align: right;\n",
       "    }\n",
       "</style>\n",
       "<table border=\"1\" class=\"dataframe\">\n",
       "  <thead>\n",
       "    <tr style=\"text-align: right;\">\n",
       "      <th></th>\n",
       "      <th>author</th>\n",
       "      <th>published_date</th>\n",
       "      <th>like_count</th>\n",
       "      <th>text</th>\n",
       "      <th>ctext</th>\n",
       "      <th>language</th>\n",
       "    </tr>\n",
       "  </thead>\n",
       "  <tbody>\n",
       "    <tr>\n",
       "      <th>38</th>\n",
       "      <td>@abhishekmondal1794</td>\n",
       "      <td>2021-06-12</td>\n",
       "      <td>2095</td>\n",
       "      <td>How many students are here 🤗🙏🙏❤️</td>\n",
       "      <td>How many students are here</td>\n",
       "      <td>English</td>\n",
       "    </tr>\n",
       "    <tr>\n",
       "      <th>62</th>\n",
       "      <td>@SouvikNandiFilms</td>\n",
       "      <td>2021-10-17</td>\n",
       "      <td>1588</td>\n",
       "      <td>*Old Intro* is back!!!!! ❤️❤️❤️🔥🔥🔥</td>\n",
       "      <td>Old Intro is back!!!!!</td>\n",
       "      <td>English</td>\n",
       "    </tr>\n",
       "    <tr>\n",
       "      <th>83</th>\n",
       "      <td>@saykar0393</td>\n",
       "      <td>2022-06-24</td>\n",
       "      <td>1441</td>\n",
       "      <td>BIRTHDAY OF SUNDAY SUSPENSE IS 28TH JUNE, 2009...</td>\n",
       "      <td>BIRTHDAY OF SUNDAY SUSPENSE IS 28TH JUNE, 2009...</td>\n",
       "      <td>English</td>\n",
       "    </tr>\n",
       "  </tbody>\n",
       "</table>\n",
       "</div>"
      ],
      "text/plain": [
       "                 author published_date  like_count  \\\n",
       "38  @abhishekmondal1794     2021-06-12        2095   \n",
       "62    @SouvikNandiFilms     2021-10-17        1588   \n",
       "83          @saykar0393     2022-06-24        1441   \n",
       "\n",
       "                                                 text  \\\n",
       "38                   How many students are here 🤗🙏🙏❤️   \n",
       "62                 *Old Intro* is back!!!!! ❤️❤️❤️🔥🔥🔥   \n",
       "83  BIRTHDAY OF SUNDAY SUSPENSE IS 28TH JUNE, 2009...   \n",
       "\n",
       "                                                ctext language  \n",
       "38                         How many students are here  English  \n",
       "62                             Old Intro is back!!!!!  English  \n",
       "83  BIRTHDAY OF SUNDAY SUSPENSE IS 28TH JUNE, 2009...  English  "
      ]
     },
     "execution_count": 84,
     "metadata": {},
     "output_type": "execute_result"
    }
   ],
   "source": [
    "c = 0\n",
    "k = 20000\n",
    "# demo1 = df1[df1['language'] == 'Bengali'][c:c+k].copy()\n",
    "# demo2 = df2[df2['language'] == 'Bengali'][c:c+k].copy()\n",
    "# demo3 = df3[df3['language'] == 'Bengali'][c:c+k].copy()\n",
    "\n",
    "demo1 = df1[df1['language'] == 'English'].copy()\n",
    "demo2 = df2[df2['language'] == 'English'].copy()\n",
    "demo3 = df3[df3['language'] == 'English'].copy()\n",
    "\n",
    "demo1.head(3)"
   ]
  },
  {
   "cell_type": "code",
   "execution_count": 85,
   "id": "52cc011d",
   "metadata": {
    "execution": {
     "iopub.execute_input": "2024-06-12T18:34:25.249712Z",
     "iopub.status.busy": "2024-06-12T18:34:25.249373Z",
     "iopub.status.idle": "2024-06-12T18:34:25.254124Z",
     "shell.execute_reply": "2024-06-12T18:34:25.253283Z"
    },
    "papermill": {
     "duration": 0.051558,
     "end_time": "2024-06-12T18:34:25.256072",
     "exception": false,
     "start_time": "2024-06-12T18:34:25.204514",
     "status": "completed"
    },
    "tags": []
   },
   "outputs": [
    {
     "name": "stdout",
     "output_type": "stream",
     "text": [
      "(158403, 6)\n",
      "(59780, 6) (23875, 6)\n"
     ]
    }
   ],
   "source": [
    "print(demo1.shape)\n",
    "print(demo2.shape, demo3.shape)"
   ]
  },
  {
   "cell_type": "code",
   "execution_count": 86,
   "id": "67c46d81",
   "metadata": {
    "execution": {
     "iopub.execute_input": "2024-06-12T18:34:25.344203Z",
     "iopub.status.busy": "2024-06-12T18:34:25.343905Z",
     "iopub.status.idle": "2024-06-12T18:34:25.355185Z",
     "shell.execute_reply": "2024-06-12T18:34:25.354341Z"
    },
    "papermill": {
     "duration": 0.057423,
     "end_time": "2024-06-12T18:34:25.357090",
     "exception": false,
     "start_time": "2024-06-12T18:34:25.299667",
     "status": "completed"
    },
    "tags": []
   },
   "outputs": [
    {
     "data": {
      "text/html": [
       "<div>\n",
       "<style scoped>\n",
       "    .dataframe tbody tr th:only-of-type {\n",
       "        vertical-align: middle;\n",
       "    }\n",
       "\n",
       "    .dataframe tbody tr th {\n",
       "        vertical-align: top;\n",
       "    }\n",
       "\n",
       "    .dataframe thead th {\n",
       "        text-align: right;\n",
       "    }\n",
       "</style>\n",
       "<table border=\"1\" class=\"dataframe\">\n",
       "  <thead>\n",
       "    <tr style=\"text-align: right;\">\n",
       "      <th></th>\n",
       "      <th>author</th>\n",
       "      <th>published_date</th>\n",
       "      <th>like_count</th>\n",
       "      <th>text</th>\n",
       "      <th>ctext</th>\n",
       "      <th>language</th>\n",
       "    </tr>\n",
       "  </thead>\n",
       "  <tbody>\n",
       "    <tr>\n",
       "      <th>445384</th>\n",
       "      <td>@srakshit1</td>\n",
       "      <td>2019-01-03</td>\n",
       "      <td>0</td>\n",
       "      <td>k k akhan theke direct na sune download kore r...</td>\n",
       "      <td>k k akhan theke direct na sune download kore r...</td>\n",
       "      <td>English</td>\n",
       "    </tr>\n",
       "    <tr>\n",
       "      <th>445385</th>\n",
       "      <td>@arifmondal5423</td>\n",
       "      <td>2023-02-07</td>\n",
       "      <td>0</td>\n",
       "      <td>Meee</td>\n",
       "      <td>Meee</td>\n",
       "      <td>English</td>\n",
       "    </tr>\n",
       "    <tr>\n",
       "      <th>445387</th>\n",
       "      <td>@jayjagannathacademy</td>\n",
       "      <td>2023-01-25</td>\n",
       "      <td>0</td>\n",
       "      <td>Mir dar sathe sathe \"Golpokathak Priyabrata\" k...</td>\n",
       "      <td>Mir dar sathe sathe \"Golpokathak Priyabrata\" k...</td>\n",
       "      <td>English</td>\n",
       "    </tr>\n",
       "    <tr>\n",
       "      <th>445389</th>\n",
       "      <td>@jayjagannathacademy</td>\n",
       "      <td>2023-01-25</td>\n",
       "      <td>0</td>\n",
       "      <td>Mir dar sathe sathe \"Golpokathak Priyabrata\" k...</td>\n",
       "      <td>Mir dar sathe sathe \"Golpokathak Priyabrata\" k...</td>\n",
       "      <td>English</td>\n",
       "    </tr>\n",
       "    <tr>\n",
       "      <th>445394</th>\n",
       "      <td>@kinghira171</td>\n",
       "      <td>2023-01-25</td>\n",
       "      <td>0</td>\n",
       "      <td>when these voices hear my headphone, just oh!!!!!</td>\n",
       "      <td>when these voices hear my headphone, just oh!!!!!</td>\n",
       "      <td>English</td>\n",
       "    </tr>\n",
       "  </tbody>\n",
       "</table>\n",
       "</div>"
      ],
      "text/plain": [
       "                      author published_date  like_count  \\\n",
       "445384            @srakshit1     2019-01-03           0   \n",
       "445385       @arifmondal5423     2023-02-07           0   \n",
       "445387  @jayjagannathacademy     2023-01-25           0   \n",
       "445389  @jayjagannathacademy     2023-01-25           0   \n",
       "445394          @kinghira171     2023-01-25           0   \n",
       "\n",
       "                                                     text  \\\n",
       "445384  k k akhan theke direct na sune download kore r...   \n",
       "445385                                               Meee   \n",
       "445387  Mir dar sathe sathe \"Golpokathak Priyabrata\" k...   \n",
       "445389  Mir dar sathe sathe \"Golpokathak Priyabrata\" k...   \n",
       "445394  when these voices hear my headphone, just oh!!!!!   \n",
       "\n",
       "                                                    ctext language  \n",
       "445384  k k akhan theke direct na sune download kore r...  English  \n",
       "445385                                               Meee  English  \n",
       "445387  Mir dar sathe sathe \"Golpokathak Priyabrata\" k...  English  \n",
       "445389  Mir dar sathe sathe \"Golpokathak Priyabrata\" k...  English  \n",
       "445394  when these voices hear my headphone, just oh!!!!!  English  "
      ]
     },
     "execution_count": 86,
     "metadata": {},
     "output_type": "execute_result"
    }
   ],
   "source": [
    "demo1.tail()"
   ]
  },
  {
   "cell_type": "code",
   "execution_count": 87,
   "id": "9b80ef2d",
   "metadata": {
    "execution": {
     "iopub.execute_input": "2024-06-12T18:34:25.448443Z",
     "iopub.status.busy": "2024-06-12T18:34:25.448087Z",
     "iopub.status.idle": "2024-06-12T18:34:25.452064Z",
     "shell.execute_reply": "2024-06-12T18:34:25.451184Z"
    },
    "papermill": {
     "duration": 0.05137,
     "end_time": "2024-06-12T18:34:25.453963",
     "exception": false,
     "start_time": "2024-06-12T18:34:25.402593",
     "status": "completed"
    },
    "tags": []
   },
   "outputs": [],
   "source": [
    "# final(demo3['ctext'], demo3['language'], model)"
   ]
  },
  {
   "cell_type": "code",
   "execution_count": 88,
   "id": "47096ed5",
   "metadata": {
    "execution": {
     "iopub.execute_input": "2024-06-12T18:34:25.543877Z",
     "iopub.status.busy": "2024-06-12T18:34:25.543533Z",
     "iopub.status.idle": "2024-06-12T18:34:25.590897Z",
     "shell.execute_reply": "2024-06-12T18:34:25.590085Z"
    },
    "papermill": {
     "duration": 0.094536,
     "end_time": "2024-06-12T18:34:25.592867",
     "exception": false,
     "start_time": "2024-06-12T18:34:25.498331",
     "status": "completed"
    },
    "tags": []
   },
   "outputs": [],
   "source": [
    "demo2 = demo2[demo2['text'].str.len() != 0]"
   ]
  },
  {
   "cell_type": "code",
   "execution_count": 89,
   "id": "53ac9496",
   "metadata": {
    "execution": {
     "iopub.execute_input": "2024-06-12T18:34:25.684069Z",
     "iopub.status.busy": "2024-06-12T18:34:25.683103Z",
     "iopub.status.idle": "2024-06-12T18:34:25.808097Z",
     "shell.execute_reply": "2024-06-12T18:34:25.807274Z"
    },
    "papermill": {
     "duration": 0.172538,
     "end_time": "2024-06-12T18:34:25.810397",
     "exception": false,
     "start_time": "2024-06-12T18:34:25.637859",
     "status": "completed"
    },
    "tags": []
   },
   "outputs": [],
   "source": [
    "demo1 = demo1[demo1['text'].str.len() != 0]"
   ]
  },
  {
   "cell_type": "code",
   "execution_count": 90,
   "id": "106acf3a",
   "metadata": {
    "execution": {
     "iopub.execute_input": "2024-06-12T18:34:25.901503Z",
     "iopub.status.busy": "2024-06-12T18:34:25.900821Z",
     "iopub.status.idle": "2024-06-12T18:34:25.925810Z",
     "shell.execute_reply": "2024-06-12T18:34:25.924881Z"
    },
    "papermill": {
     "duration": 0.071817,
     "end_time": "2024-06-12T18:34:25.927699",
     "exception": false,
     "start_time": "2024-06-12T18:34:25.855882",
     "status": "completed"
    },
    "tags": []
   },
   "outputs": [
    {
     "name": "stdout",
     "output_type": "stream",
     "text": [
      "(158403, 6)\n",
      "(59780, 6) (23875, 6)\n"
     ]
    }
   ],
   "source": [
    "demo3 = demo3[demo3['text'].str.len() != 0]\n",
    "print(demo1.shape)\n",
    "print(demo2.shape, demo3.shape)"
   ]
  },
  {
   "cell_type": "code",
   "execution_count": 91,
   "id": "d59ea840",
   "metadata": {
    "execution": {
     "iopub.execute_input": "2024-06-12T18:34:26.018144Z",
     "iopub.status.busy": "2024-06-12T18:34:26.017366Z",
     "iopub.status.idle": "2024-06-12T18:34:26.022253Z",
     "shell.execute_reply": "2024-06-12T18:34:26.021368Z"
    },
    "papermill": {
     "duration": 0.051813,
     "end_time": "2024-06-12T18:34:26.024106",
     "exception": false,
     "start_time": "2024-06-12T18:34:25.972293",
     "status": "completed"
    },
    "tags": []
   },
   "outputs": [],
   "source": [
    "demo3.reset_index(drop=True, inplace=True)\n",
    "demo1.reset_index(drop=True, inplace=True)\n",
    "demo2.reset_index(drop=True, inplace=True)"
   ]
  },
  {
   "cell_type": "code",
   "execution_count": null,
   "id": "7d09cb40",
   "metadata": {
    "papermill": {
     "duration": 0.044538,
     "end_time": "2024-06-12T18:34:26.112740",
     "exception": false,
     "start_time": "2024-06-12T18:34:26.068202",
     "status": "completed"
    },
    "tags": []
   },
   "outputs": [],
   "source": []
  },
  {
   "cell_type": "code",
   "execution_count": 92,
   "id": "08337939",
   "metadata": {
    "execution": {
     "iopub.execute_input": "2024-06-12T18:34:26.202849Z",
     "iopub.status.busy": "2024-06-12T18:34:26.202512Z",
     "iopub.status.idle": "2024-06-12T18:34:26.208573Z",
     "shell.execute_reply": "2024-06-12T18:34:26.207678Z"
    },
    "papermill": {
     "duration": 0.053382,
     "end_time": "2024-06-12T18:34:26.210594",
     "exception": false,
     "start_time": "2024-06-12T18:34:26.157212",
     "status": "completed"
    },
    "tags": []
   },
   "outputs": [
    {
     "data": {
      "text/plain": [
       "'Mir sir thanks you'"
      ]
     },
     "execution_count": 92,
     "metadata": {},
     "output_type": "execute_result"
    }
   ],
   "source": [
    "demo3['ctext'][1131]"
   ]
  },
  {
   "cell_type": "code",
   "execution_count": 93,
   "id": "daef43c2",
   "metadata": {
    "execution": {
     "iopub.execute_input": "2024-06-12T18:34:26.302586Z",
     "iopub.status.busy": "2024-06-12T18:34:26.302193Z",
     "iopub.status.idle": "2024-06-12T18:34:26.308674Z",
     "shell.execute_reply": "2024-06-12T18:34:26.307755Z"
    },
    "papermill": {
     "duration": 0.055463,
     "end_time": "2024-06-12T18:34:26.310771",
     "exception": false,
     "start_time": "2024-06-12T18:34:26.255308",
     "status": "completed"
    },
    "tags": []
   },
   "outputs": [
    {
     "data": {
      "text/plain": [
       "435"
      ]
     },
     "execution_count": 93,
     "metadata": {},
     "output_type": "execute_result"
    }
   ],
   "source": [
    "len(demo2['ctext'][269])"
   ]
  },
  {
   "cell_type": "code",
   "execution_count": 94,
   "id": "4a21a355",
   "metadata": {
    "execution": {
     "iopub.execute_input": "2024-06-12T18:34:26.407665Z",
     "iopub.status.busy": "2024-06-12T18:34:26.407306Z",
     "iopub.status.idle": "2024-06-12T18:38:57.025814Z",
     "shell.execute_reply": "2024-06-12T18:38:57.024769Z"
    },
    "papermill": {
     "duration": 270.669529,
     "end_time": "2024-06-12T18:38:57.027951",
     "exception": false,
     "start_time": "2024-06-12T18:34:26.358422",
     "status": "completed"
    },
    "tags": []
   },
   "outputs": [
    {
     "data": {
      "application/vnd.jupyter.widget-view+json": {
       "model_id": "7248e29bccef4f6e987017a850e5b196",
       "version_major": 2,
       "version_minor": 0
      },
      "text/plain": [
       "  0%|          | 0/23875 [00:00<?, ?it/s]"
      ]
     },
     "metadata": {},
     "output_type": "display_data"
    },
    {
     "name": "stderr",
     "output_type": "stream",
     "text": [
      "/opt/conda/lib/python3.10/site-packages/transformers/pipelines/base.py:1157: UserWarning: You seem to be using the pipelines sequentially on GPU. In order to maximize efficiency please use a dataset\n",
      "  warnings.warn(\n"
     ]
    }
   ],
   "source": [
    "tqdm.pandas()\n",
    "demo3['sentiment'] = demo3.progress_apply(finalv4, args=(model,), axis=1)"
   ]
  },
  {
   "cell_type": "code",
   "execution_count": 95,
   "id": "a790c492",
   "metadata": {
    "execution": {
     "iopub.execute_input": "2024-06-12T18:38:57.120404Z",
     "iopub.status.busy": "2024-06-12T18:38:57.120059Z",
     "iopub.status.idle": "2024-06-12T18:50:25.398340Z",
     "shell.execute_reply": "2024-06-12T18:50:25.397298Z"
    },
    "papermill": {
     "duration": 688.326874,
     "end_time": "2024-06-12T18:50:25.400414",
     "exception": false,
     "start_time": "2024-06-12T18:38:57.073540",
     "status": "completed"
    },
    "tags": []
   },
   "outputs": [
    {
     "data": {
      "application/vnd.jupyter.widget-view+json": {
       "model_id": "83e6bea0612b4bbd975ed53534ef11b1",
       "version_major": 2,
       "version_minor": 0
      },
      "text/plain": [
       "  0%|          | 0/59780 [00:00<?, ?it/s]"
      ]
     },
     "metadata": {},
     "output_type": "display_data"
    },
    {
     "name": "stderr",
     "output_type": "stream",
     "text": [
      "/opt/conda/lib/python3.10/site-packages/transformers/pipelines/base.py:1157: UserWarning: You seem to be using the pipelines sequentially on GPU. In order to maximize efficiency please use a dataset\n",
      "  warnings.warn(\n"
     ]
    }
   ],
   "source": [
    "demo2['sentiment'] = demo2.progress_apply(finalv4, args=(model,), axis=1)"
   ]
  },
  {
   "cell_type": "code",
   "execution_count": 96,
   "id": "aa2643f7",
   "metadata": {
    "execution": {
     "iopub.execute_input": "2024-06-12T18:50:25.492683Z",
     "iopub.status.busy": "2024-06-12T18:50:25.492352Z",
     "iopub.status.idle": "2024-06-12T19:20:12.988200Z",
     "shell.execute_reply": "2024-06-12T19:20:12.987101Z"
    },
    "papermill": {
     "duration": 1787.544603,
     "end_time": "2024-06-12T19:20:12.990763",
     "exception": false,
     "start_time": "2024-06-12T18:50:25.446160",
     "status": "completed"
    },
    "tags": []
   },
   "outputs": [
    {
     "data": {
      "application/vnd.jupyter.widget-view+json": {
       "model_id": "1a256bcdd8c44fe8b07823ab6920fefd",
       "version_major": 2,
       "version_minor": 0
      },
      "text/plain": [
       "  0%|          | 0/158403 [00:00<?, ?it/s]"
      ]
     },
     "metadata": {},
     "output_type": "display_data"
    },
    {
     "name": "stderr",
     "output_type": "stream",
     "text": [
      "/opt/conda/lib/python3.10/site-packages/transformers/pipelines/base.py:1157: UserWarning: You seem to be using the pipelines sequentially on GPU. In order to maximize efficiency please use a dataset\n",
      "  warnings.warn(\n"
     ]
    }
   ],
   "source": [
    "demo1['sentiment'] = demo1.progress_apply(finalv4, args=(model,), axis=1)"
   ]
  },
  {
   "cell_type": "code",
   "execution_count": 97,
   "id": "654fd126",
   "metadata": {
    "execution": {
     "iopub.execute_input": "2024-06-12T19:20:13.091332Z",
     "iopub.status.busy": "2024-06-12T19:20:13.090638Z",
     "iopub.status.idle": "2024-06-12T19:20:13.109815Z",
     "shell.execute_reply": "2024-06-12T19:20:13.108993Z"
    },
    "papermill": {
     "duration": 0.069403,
     "end_time": "2024-06-12T19:20:13.111796",
     "exception": false,
     "start_time": "2024-06-12T19:20:13.042393",
     "status": "completed"
    },
    "tags": []
   },
   "outputs": [
    {
     "data": {
      "text/html": [
       "<div>\n",
       "<style scoped>\n",
       "    .dataframe tbody tr th:only-of-type {\n",
       "        vertical-align: middle;\n",
       "    }\n",
       "\n",
       "    .dataframe tbody tr th {\n",
       "        vertical-align: top;\n",
       "    }\n",
       "\n",
       "    .dataframe thead th {\n",
       "        text-align: right;\n",
       "    }\n",
       "</style>\n",
       "<table border=\"1\" class=\"dataframe\">\n",
       "  <thead>\n",
       "    <tr style=\"text-align: right;\">\n",
       "      <th></th>\n",
       "      <th>author</th>\n",
       "      <th>published_date</th>\n",
       "      <th>like_count</th>\n",
       "      <th>text</th>\n",
       "      <th>ctext</th>\n",
       "      <th>language</th>\n",
       "      <th>sentiment</th>\n",
       "    </tr>\n",
       "  </thead>\n",
       "  <tbody>\n",
       "    <tr>\n",
       "      <th>1317</th>\n",
       "      <td>@writamchatterjee4676</td>\n",
       "      <td>2023-03-05</td>\n",
       "      <td>4</td>\n",
       "      <td>@@BSX2.0 deep jothesto valo koreche taranath ta</td>\n",
       "      <td>BSX2.0 deep jothesto valo koreche taranath ta</td>\n",
       "      <td>English</td>\n",
       "      <td>sadness</td>\n",
       "    </tr>\n",
       "    <tr>\n",
       "      <th>1322</th>\n",
       "      <td>@soumyadeepbhoumik1880</td>\n",
       "      <td>2023-10-09</td>\n",
       "      <td>4</td>\n",
       "      <td>*Mir Da don't you ever get sad after thinking ...</td>\n",
       "      <td>Mir Da don't you ever get sad after thinking a...</td>\n",
       "      <td>English</td>\n",
       "      <td>sadness</td>\n",
       "    </tr>\n",
       "    <tr>\n",
       "      <th>1325</th>\n",
       "      <td>@samrat3075</td>\n",
       "      <td>2023-05-07</td>\n",
       "      <td>4</td>\n",
       "      <td>I don't know how many people are crying while ...</td>\n",
       "      <td>I don't know how many people are crying while ...</td>\n",
       "      <td>English</td>\n",
       "      <td>sadness</td>\n",
       "    </tr>\n",
       "    <tr>\n",
       "      <th>1396</th>\n",
       "      <td>@vanamatrika..</td>\n",
       "      <td>2023-09-17</td>\n",
       "      <td>3</td>\n",
       "      <td>The great tragic hero, debdas... \\nJustificati...</td>\n",
       "      <td>The great tragic hero, debdas... Justification...</td>\n",
       "      <td>English</td>\n",
       "      <td>sadness</td>\n",
       "    </tr>\n",
       "    <tr>\n",
       "      <th>1450</th>\n",
       "      <td>@user-ml6lf9xb8i</td>\n",
       "      <td>2024-01-13</td>\n",
       "      <td>3</td>\n",
       "      <td>Agni missing still now. the grand 3 musketeers</td>\n",
       "      <td>Agni missing still now. the grand 3 musketeers</td>\n",
       "      <td>English</td>\n",
       "      <td>sadness</td>\n",
       "    </tr>\n",
       "    <tr>\n",
       "      <th>1517</th>\n",
       "      <td>@rohonsarkar8740</td>\n",
       "      <td>2023-10-01</td>\n",
       "      <td>3</td>\n",
       "      <td>Ei channel er ager Holmes golpo ta sunini, kem...</td>\n",
       "      <td>Ei channel er ager Holmes golpo ta sunini, kem...</td>\n",
       "      <td>English</td>\n",
       "      <td>sadness</td>\n",
       "    </tr>\n",
       "    <tr>\n",
       "      <th>1532</th>\n",
       "      <td>@Asadsoil1</td>\n",
       "      <td>2023-12-03</td>\n",
       "      <td>3</td>\n",
       "      <td>I’m crying from New York 😢😢</td>\n",
       "      <td>I m crying from New York</td>\n",
       "      <td>English</td>\n",
       "      <td>sadness</td>\n",
       "    </tr>\n",
       "    <tr>\n",
       "      <th>1633</th>\n",
       "      <td>@sibasishpaul5555</td>\n",
       "      <td>2023-10-28</td>\n",
       "      <td>3</td>\n",
       "      <td>Like Mir makes it killing as Taranath , katay ...</td>\n",
       "      <td>Like Mir makes it killing as Taranath , katay ...</td>\n",
       "      <td>English</td>\n",
       "      <td>sadness</td>\n",
       "    </tr>\n",
       "    <tr>\n",
       "      <th>1641</th>\n",
       "      <td>@biswajeetbb</td>\n",
       "      <td>2023-06-04</td>\n",
       "      <td>3</td>\n",
       "      <td>What a story Mir da !!!! I have tears in my ey...</td>\n",
       "      <td>What a story Mir da !!!! I have tears in my ey...</td>\n",
       "      <td>English</td>\n",
       "      <td>sadness</td>\n",
       "    </tr>\n",
       "    <tr>\n",
       "      <th>1683</th>\n",
       "      <td>@sumitcoomar4371</td>\n",
       "      <td>2023-08-19</td>\n",
       "      <td>3</td>\n",
       "      <td>Friday is incomplete without Prem Dot Com\\nSat...</td>\n",
       "      <td>Friday is incomplete without Prem Dot Com Satu...</td>\n",
       "      <td>English</td>\n",
       "      <td>sadness</td>\n",
       "    </tr>\n",
       "  </tbody>\n",
       "</table>\n",
       "</div>"
      ],
      "text/plain": [
       "                      author published_date  like_count  \\\n",
       "1317   @writamchatterjee4676     2023-03-05           4   \n",
       "1322  @soumyadeepbhoumik1880     2023-10-09           4   \n",
       "1325             @samrat3075     2023-05-07           4   \n",
       "1396          @vanamatrika..     2023-09-17           3   \n",
       "1450        @user-ml6lf9xb8i     2024-01-13           3   \n",
       "1517        @rohonsarkar8740     2023-10-01           3   \n",
       "1532              @Asadsoil1     2023-12-03           3   \n",
       "1633       @sibasishpaul5555     2023-10-28           3   \n",
       "1641            @biswajeetbb     2023-06-04           3   \n",
       "1683        @sumitcoomar4371     2023-08-19           3   \n",
       "\n",
       "                                                   text  \\\n",
       "1317    @@BSX2.0 deep jothesto valo koreche taranath ta   \n",
       "1322  *Mir Da don't you ever get sad after thinking ...   \n",
       "1325  I don't know how many people are crying while ...   \n",
       "1396  The great tragic hero, debdas... \\nJustificati...   \n",
       "1450     Agni missing still now. the grand 3 musketeers   \n",
       "1517  Ei channel er ager Holmes golpo ta sunini, kem...   \n",
       "1532                        I’m crying from New York 😢😢   \n",
       "1633  Like Mir makes it killing as Taranath , katay ...   \n",
       "1641  What a story Mir da !!!! I have tears in my ey...   \n",
       "1683  Friday is incomplete without Prem Dot Com\\nSat...   \n",
       "\n",
       "                                                  ctext language sentiment  \n",
       "1317      BSX2.0 deep jothesto valo koreche taranath ta  English   sadness  \n",
       "1322  Mir Da don't you ever get sad after thinking a...  English   sadness  \n",
       "1325  I don't know how many people are crying while ...  English   sadness  \n",
       "1396  The great tragic hero, debdas... Justification...  English   sadness  \n",
       "1450     Agni missing still now. the grand 3 musketeers  English   sadness  \n",
       "1517  Ei channel er ager Holmes golpo ta sunini, kem...  English   sadness  \n",
       "1532                           I m crying from New York  English   sadness  \n",
       "1633  Like Mir makes it killing as Taranath , katay ...  English   sadness  \n",
       "1641  What a story Mir da !!!! I have tears in my ey...  English   sadness  \n",
       "1683  Friday is incomplete without Prem Dot Com Satu...  English   sadness  "
      ]
     },
     "execution_count": 97,
     "metadata": {},
     "output_type": "execute_result"
    }
   ],
   "source": [
    "filt = demo3[demo3['sentiment']=='sadness']\n",
    "filt[40:40+10]"
   ]
  },
  {
   "cell_type": "code",
   "execution_count": 98,
   "id": "bbb8388e",
   "metadata": {
    "execution": {
     "iopub.execute_input": "2024-06-12T19:20:13.204306Z",
     "iopub.status.busy": "2024-06-12T19:20:13.203921Z",
     "iopub.status.idle": "2024-06-12T19:20:13.218804Z",
     "shell.execute_reply": "2024-06-12T19:20:13.217848Z"
    },
    "papermill": {
     "duration": 0.063542,
     "end_time": "2024-06-12T19:20:13.220816",
     "exception": false,
     "start_time": "2024-06-12T19:20:13.157274",
     "status": "completed"
    },
    "tags": []
   },
   "outputs": [
    {
     "data": {
      "text/plain": [
       "sentiment\n",
       "joy         26790\n",
       "anger       25790\n",
       "fear         3313\n",
       "sadness      2097\n",
       "love         1453\n",
       "surprise      337\n",
       "Name: count, dtype: int64"
      ]
     },
     "execution_count": 98,
     "metadata": {},
     "output_type": "execute_result"
    }
   ],
   "source": [
    "demo2.sentiment.value_counts()"
   ]
  },
  {
   "cell_type": "code",
   "execution_count": 99,
   "id": "88dbec0d",
   "metadata": {
    "execution": {
     "iopub.execute_input": "2024-06-12T19:20:13.313586Z",
     "iopub.status.busy": "2024-06-12T19:20:13.313279Z",
     "iopub.status.idle": "2024-06-12T19:20:13.317431Z",
     "shell.execute_reply": "2024-06-12T19:20:13.316675Z"
    },
    "papermill": {
     "duration": 0.052797,
     "end_time": "2024-06-12T19:20:13.319340",
     "exception": false,
     "start_time": "2024-06-12T19:20:13.266543",
     "status": "completed"
    },
    "tags": []
   },
   "outputs": [],
   "source": [
    "sentiment_mapping = {\n",
    "    'sadness': 'sad',\n",
    "    'happy': 'happy',\n",
    "    'joy': 'happy',\n",
    "    'love': 'happy'\n",
    "}"
   ]
  },
  {
   "cell_type": "code",
   "execution_count": 100,
   "id": "46f3e6ec",
   "metadata": {
    "execution": {
     "iopub.execute_input": "2024-06-12T19:20:13.411376Z",
     "iopub.status.busy": "2024-06-12T19:20:13.411073Z",
     "iopub.status.idle": "2024-06-12T19:20:13.499915Z",
     "shell.execute_reply": "2024-06-12T19:20:13.499190Z"
    },
    "papermill": {
     "duration": 0.137407,
     "end_time": "2024-06-12T19:20:13.502158",
     "exception": false,
     "start_time": "2024-06-12T19:20:13.364751",
     "status": "completed"
    },
    "tags": []
   },
   "outputs": [],
   "source": [
    "demo1['sentimentx'] = demo1['sentiment'].replace(sentiment_mapping)\n",
    "demo2['sentimentx'] = demo2['sentiment'].replace(sentiment_mapping)\n",
    "demo3['sentimentx'] = demo3['sentiment'].replace(sentiment_mapping)"
   ]
  },
  {
   "cell_type": "code",
   "execution_count": 101,
   "id": "8fb89a83",
   "metadata": {
    "execution": {
     "iopub.execute_input": "2024-06-12T19:20:13.596204Z",
     "iopub.status.busy": "2024-06-12T19:20:13.595886Z",
     "iopub.status.idle": "2024-06-12T19:20:13.606113Z",
     "shell.execute_reply": "2024-06-12T19:20:13.605242Z"
    },
    "papermill": {
     "duration": 0.059745,
     "end_time": "2024-06-12T19:20:13.608016",
     "exception": false,
     "start_time": "2024-06-12T19:20:13.548271",
     "status": "completed"
    },
    "tags": []
   },
   "outputs": [
    {
     "data": {
      "text/plain": [
       "sentimentx\n",
       "happy       11897\n",
       "anger       10068\n",
       "fear         1260\n",
       "sad           502\n",
       "surprise      148\n",
       "Name: count, dtype: int64"
      ]
     },
     "execution_count": 101,
     "metadata": {},
     "output_type": "execute_result"
    }
   ],
   "source": [
    "demo3.sentimentx.value_counts()"
   ]
  },
  {
   "cell_type": "code",
   "execution_count": 102,
   "id": "5a0c078c",
   "metadata": {
    "execution": {
     "iopub.execute_input": "2024-06-12T19:20:13.699912Z",
     "iopub.status.busy": "2024-06-12T19:20:13.699595Z",
     "iopub.status.idle": "2024-06-12T19:20:14.400282Z",
     "shell.execute_reply": "2024-06-12T19:20:14.399394Z"
    },
    "papermill": {
     "duration": 0.74907,
     "end_time": "2024-06-12T19:20:14.402425",
     "exception": false,
     "start_time": "2024-06-12T19:20:13.653355",
     "status": "completed"
    },
    "tags": []
   },
   "outputs": [
    {
     "data": {
      "image/png": "[encoded data removed]",
      "text/plain": [
       "<Figure size 1500x500 with 3 Axes>"
      ]
     },
     "metadata": {},
     "output_type": "display_data"
    }
   ],
   "source": [
    "# Define colors for the bar chart\n",
    "highest_value_color = (153/255, 255/255, 187/255)  # Light green color\n",
    "other_values_color = 'gray'\n",
    "\n",
    "\n",
    "def plot_sentiment_bar_chart(ax, df):\n",
    "    value_counts = df.sentimentx.value_counts()\n",
    "    colors = [highest_value_color if count == value_counts.max() else other_values_color for count in value_counts]\n",
    "    ax = value_counts.plot(kind='bar', color=colors, ax=ax)\n",
    "    ax.set_ylim(0, max_y+1000)\n",
    "\n",
    "    return ax\n",
    "\n",
    "# Determine the maximum y limit\n",
    "max_y = max(demo1['sentimentx'].value_counts().max(),\n",
    "            demo2['sentimentx'].value_counts().max(),\n",
    "            demo3['sentimentx'].value_counts().max())\n",
    "\n",
    "\n",
    "# Create subplots\n",
    "fig, axs = plt.subplots(1, 3, figsize=(15, 5))\n",
    "\n",
    "# Plot sentiment bar chart for each demo DataFrame\n",
    "plot_sentiment_bar_chart(axs[0], demo1)\n",
    "plot_sentiment_bar_chart(axs[1], demo2)\n",
    "plot_sentiment_bar_chart(axs[2], demo3)\n",
    "\n",
    "# Show the plot\n",
    "plt.tight_layout()\n",
    "plt.show()"
   ]
  },
  {
   "cell_type": "code",
   "execution_count": 103,
   "id": "c37085ad",
   "metadata": {
    "execution": {
     "iopub.execute_input": "2024-06-12T19:20:14.496991Z",
     "iopub.status.busy": "2024-06-12T19:20:14.496118Z",
     "iopub.status.idle": "2024-06-12T19:20:14.522963Z",
     "shell.execute_reply": "2024-06-12T19:20:14.522085Z"
    },
    "papermill": {
     "duration": 0.075571,
     "end_time": "2024-06-12T19:20:14.524787",
     "exception": false,
     "start_time": "2024-06-12T19:20:14.449216",
     "status": "completed"
    },
    "tags": []
   },
   "outputs": [
    {
     "data": {
      "text/plain": [
       "sentimentx\n",
       "anger       61042\n",
       "fear         9707\n",
       "happy       82660\n",
       "sad          3988\n",
       "surprise     1006\n",
       "Name: count, dtype: int64"
      ]
     },
     "execution_count": 103,
     "metadata": {},
     "output_type": "execute_result"
    }
   ],
   "source": [
    "demo1.sentimentx.value_counts().sort_index()"
   ]
  },
  {
   "cell_type": "code",
   "execution_count": 104,
   "id": "e00ae458",
   "metadata": {
    "execution": {
     "iopub.execute_input": "2024-06-12T19:20:14.621239Z",
     "iopub.status.busy": "2024-06-12T19:20:14.620908Z",
     "iopub.status.idle": "2024-06-12T19:20:14.658747Z",
     "shell.execute_reply": "2024-06-12T19:20:14.657891Z"
    },
    "papermill": {
     "duration": 0.08826,
     "end_time": "2024-06-12T19:20:14.660864",
     "exception": false,
     "start_time": "2024-06-12T19:20:14.572604",
     "status": "completed"
    },
    "tags": []
   },
   "outputs": [
    {
     "data": {
      "text/plain": [
       "array([[61042,  9707, 82660,  3988,  1006],\n",
       "       [25790,  3313, 28243,  2097,   337],\n",
       "       [10068,  1260, 11897,   502,   148]])"
      ]
     },
     "execution_count": 104,
     "metadata": {},
     "output_type": "execute_result"
    }
   ],
   "source": [
    "spm = []\n",
    "spm.append(demo1.sentimentx.value_counts().sort_index().tolist())\n",
    "spm.append(demo2.sentimentx.value_counts().sort_index().tolist())\n",
    "spm.append(demo3.sentimentx.value_counts().sort_index().tolist())\n",
    "spm = np.array(spm)\n",
    "spm"
   ]
  },
  {
   "cell_type": "code",
   "execution_count": 105,
   "id": "d8a367cc",
   "metadata": {
    "execution": {
     "iopub.execute_input": "2024-06-12T19:20:14.755932Z",
     "iopub.status.busy": "2024-06-12T19:20:14.755086Z",
     "iopub.status.idle": "2024-06-12T19:20:14.759471Z",
     "shell.execute_reply": "2024-06-12T19:20:14.758761Z"
    },
    "papermill": {
     "duration": 0.053253,
     "end_time": "2024-06-12T19:20:14.761270",
     "exception": false,
     "start_time": "2024-06-12T19:20:14.708017",
     "status": "completed"
    },
    "tags": []
   },
   "outputs": [],
   "source": [
    "sums = np.sum(spm, axis=1)\n",
    "# Normalize each inner array to percentages\n",
    "spm2 = (spm.T / sums).T * 100\n",
    "# print(spm2)"
   ]
  },
  {
   "cell_type": "code",
   "execution_count": 106,
   "id": "c53e7c6d",
   "metadata": {
    "execution": {
     "iopub.execute_input": "2024-06-12T19:20:14.855387Z",
     "iopub.status.busy": "2024-06-12T19:20:14.855052Z",
     "iopub.status.idle": "2024-06-12T19:20:15.097370Z",
     "shell.execute_reply": "2024-06-12T19:20:15.096449Z"
    },
    "papermill": {
     "duration": 0.292066,
     "end_time": "2024-06-12T19:20:15.099568",
     "exception": false,
     "start_time": "2024-06-12T19:20:14.807502",
     "status": "completed"
    },
    "tags": []
   },
   "outputs": [
    {
     "data": {
      "image/png": "[encoded data removed]",
      "text/plain": [
       "<Figure size 800x600 with 1 Axes>"
      ]
     },
     "metadata": {},
     "output_type": "display_data"
    }
   ],
   "source": [
    "# Define custom colors for each sentiment type\n",
    "colors = ['#2E9BFF', '#987BE9', '#FF7C7C', '#58D68D', 'red', 'green', 'blue']\n",
    "\n",
    "species = (\n",
    "    \"Mir Soho\",  \n",
    "    \"Mir Chara\", \n",
    "    \"Mir Er Thek\",  \n",
    ")\n",
    "weight_counts = {\n",
    "    \"Anger\": spm2.T[0],\n",
    "    \"Fear\": spm2.T[1],\n",
    "    'Happy':spm2.T[2],\n",
    "    \"Sad\": spm2.T[3],\n",
    "#     \"Surprise\":spm2.T[4]\n",
    "}\n",
    "\n",
    "# Calculate the number of sentiment types\n",
    "num_sentiments = len(weight_counts)\n",
    "\n",
    "# Adjust width based on the number of sentiment types\n",
    "width = 0.4\n",
    "\n",
    "fig, ax = plt.subplots(figsize=(8, 6))\n",
    "\n",
    "# Initialize bottom values with zeros for stacking\n",
    "bottom = np.zeros(len(species))\n",
    "\n",
    "# Stack the bars for each sentiment type with custom colors\n",
    "for i, (sentiment, count) in enumerate(weight_counts.items()):\n",
    "    plt.bar(species, count, width, label=sentiment, bottom=bottom, color=colors[i])\n",
    "    bottom += count  # Update bottom for stacking\n",
    "\n",
    "# Add labels and title\n",
    "plt.xlabel(\"Species\")\n",
    "plt.ylabel(\"Number of Occurrences\")\n",
    "plt.title(\"Distribution of Emotion\")\n",
    "\n",
    "# Adjust legend location\n",
    "plt.legend(loc=\"center\")\n",
    "\n",
    "plt.xticks(rotation=0)\n",
    "plt.tight_layout()\n",
    "plt.show()\n"
   ]
  },
  {
   "cell_type": "code",
   "execution_count": null,
   "id": "51f2f064",
   "metadata": {
    "papermill": {
     "duration": 0.047113,
     "end_time": "2024-06-12T19:20:15.194247",
     "exception": false,
     "start_time": "2024-06-12T19:20:15.147134",
     "status": "completed"
    },
    "tags": []
   },
   "outputs": [],
   "source": []
  },
  {
   "cell_type": "code",
   "execution_count": null,
   "id": "5eeda42d",
   "metadata": {
    "papermill": {
     "duration": 0.046793,
     "end_time": "2024-06-12T19:20:15.288470",
     "exception": false,
     "start_time": "2024-06-12T19:20:15.241677",
     "status": "completed"
    },
    "tags": []
   },
   "outputs": [],
   "source": []
  },
  {
   "cell_type": "markdown",
   "id": "6661cf6a",
   "metadata": {
    "papermill": {
     "duration": 0.046309,
     "end_time": "2024-06-12T19:20:15.381705",
     "exception": false,
     "start_time": "2024-06-12T19:20:15.335396",
     "status": "completed"
    },
    "tags": []
   },
   "source": [
    "## Ack\n",
    "https://colab.research.google.com/drive/15h32YuSQ5YwVji8OynC9BvMaWGpsWyD2?usp=sharing#scrollTo=XGj0RdguKrDb\n",
    "https://github.com/sagorbrur/bnlp/blob/main/docs/README.md#bengali-corpus-class"
   ]
  }
 ],
 "metadata": {
  "kaggle": {
   "accelerator": "nvidiaTeslaT4",
   "dataSources": [
    {
     "datasetId": 4819765,
     "sourceId": 8229402,
     "sourceType": "datasetVersion"
    },
    {
     "datasetId": 4713783,
     "sourceId": 8665204,
     "sourceType": "datasetVersion"
    },
    {
     "datasetId": 5014895,
     "sourceId": 8667285,
     "sourceType": "datasetVersion"
    }
   ],
   "dockerImageVersionId": 30673,
   "isGpuEnabled": true,
   "isInternetEnabled": true,
   "language": "python",
   "sourceType": "notebook"
  },
  "kernelspec": {
   "display_name": "Python 3",
   "language": "python",
   "name": "python3"
  },
  "language_info": {
   "codemirror_mode": {
    "name": "ipython",
    "version": 3
   },
   "file_extension": ".py",
   "mimetype": "text/x-python",
   "name": "python",
   "nbconvert_exporter": "python",
   "pygments_lexer": "ipython3",
   "version": "3.10.13"
  },
  "papermill": {
   "default_parameters": {},
   "duration": 2829.354469,
   "end_time": "2024-06-12T19:20:18.824584",
   "environment_variables": {},
   "exception": null,
   "input_path": "__notebook__.ipynb",
   "output_path": "__notebook__.ipynb",
   "parameters": {},
   "start_time": "2024-06-12T18:33:09.470115",
   "version": "2.5.0"
  },
  "widgets": {
   "application/vnd.jupyter.widget-state+json": {
    "state": {
     "0158fa6055424c14b1bac5bb5b16f551": {
      "model_module": "@jupyter-widgets/base",
      "model_module_version": "1.2.0",
      "model_name": "LayoutModel",
      "state": {
       "_model_module": "@jupyter-widgets/base",
       "_model_module_version": "1.2.0",
       "_model_name": "LayoutModel",
       "_view_count": null,
       "_view_module": "@jupyter-widgets/base",
       "_view_module_version": "1.2.0",
       "_view_name": "LayoutView",
       "align_content": null,
       "align_items": null,
       "align_self": null,
       "border": null,
       "bottom": null,
       "display": null,
       "flex": null,
       "flex_flow": null,
       "grid_area": null,
       "grid_auto_columns": null,
       "grid_auto_flow": null,
       "grid_auto_rows": null,
       "grid_column": null,
       "grid_gap": null,
       "grid_row": null,
       "grid_template_areas": null,
       "grid_template_columns": null,
       "grid_template_rows": null,
       "height": null,
       "justify_content": null,
       "justify_items": null,
       "left": null,
       "margin": null,
       "max_height": null,
       "max_width": null,
       "min_height": null,
       "min_width": null,
       "object_fit": null,
       "object_position": null,
       "order": null,
       "overflow": null,
       "overflow_x": null,
       "overflow_y": null,
       "padding": null,
       "right": null,
       "top": null,
       "visibility": null,
       "width": null
      }
     },
     "024c5fd60339494097d29aa063143302": {
      "model_module": "@jupyter-widgets/base",
      "model_module_version": "1.2.0",
      "model_name": "LayoutModel",
      "state": {
       "_model_module": "@jupyter-widgets/base",
       "_model_module_version": "1.2.0",
       "_model_name": "LayoutModel",
       "_view_count": null,
       "_view_module": "@jupyter-widgets/base",
       "_view_module_version": "1.2.0",
       "_view_name": "LayoutView",
       "align_content": null,
       "align_items": null,
       "align_self": null,
       "border": null,
       "bottom": null,
       "display": null,
       "flex": null,
       "flex_flow": null,
       "grid_area": null,
       "grid_auto_columns": null,
       "grid_auto_flow": null,
       "grid_auto_rows": null,
       "grid_column": null,
       "grid_gap": null,
       "grid_row": null,
       "grid_template_areas": null,
       "grid_template_columns": null,
       "grid_template_rows": null,
       "height": null,
       "justify_content": null,
       "justify_items": null,
       "left": null,
       "margin": null,
       "max_height": null,
       "max_width": null,
       "min_height": null,
       "min_width": null,
       "object_fit": null,
       "object_position": null,
       "order": null,
       "overflow": null,
       "overflow_x": null,
       "overflow_y": null,
       "padding": null,
       "right": null,
       "top": null,
       "visibility": null,
       "width": null
      }
     },
     "030342d10f904091845ab37bdc9a6804": {
      "model_module": "@jupyter-widgets/controls",
      "model_module_version": "1.5.0",
      "model_name": "FloatProgressModel",
      "state": {
       "_dom_classes": [],
       "_model_module": "@jupyter-widgets/controls",
       "_model_module_version": "1.5.0",
       "_model_name": "FloatProgressModel",
       "_view_count": null,
       "_view_module": "@jupyter-widgets/controls",
       "_view_module_version": "1.5.0",
       "_view_name": "ProgressView",
       "bar_style": "success",
       "description": "",
       "description_tooltip": null,
       "layout": "IPY_MODEL_c5b4c970afa74b59b59315c3f9cada10",
       "max": 59780.0,
       "min": 0.0,
       "orientation": "horizontal",
       "style": "IPY_MODEL_3968da603b284ced915b8b58cd50bfc9",
       "value": 59780.0
      }
     },
     "034cdf294d8b4b93acdd002ee2fa0a83": {
      "model_module": "@jupyter-widgets/base",
      "model_module_version": "1.2.0",
      "model_name": "LayoutModel",
      "state": {
       "_model_module": "@jupyter-widgets/base",
       "_model_module_version": "1.2.0",
       "_model_name": "LayoutModel",
       "_view_count": null,
       "_view_module": "@jupyter-widgets/base",
       "_view_module_version": "1.2.0",
       "_view_name": "LayoutView",
       "align_content": null,
       "align_items": null,
       "align_self": null,
       "border": null,
       "bottom": null,
       "display": null,
       "flex": null,
       "flex_flow": null,
       "grid_area": null,
       "grid_auto_columns": null,
       "grid_auto_flow": null,
       "grid_auto_rows": null,
       "grid_column": null,
       "grid_gap": null,
       "grid_row": null,
       "grid_template_areas": null,
       "grid_template_columns": null,
       "grid_template_rows": null,
       "height": null,
       "justify_content": null,
       "justify_items": null,
       "left": null,
       "margin": null,
       "max_height": null,
       "max_width": null,
       "min_height": null,
       "min_width": null,
       "object_fit": null,
       "object_position": null,
       "order": null,
       "overflow": null,
       "overflow_x": null,
       "overflow_y": null,
       "padding": null,
       "right": null,
       "top": null,
       "visibility": null,
       "width": null
      }
     },
     "03834ab9a8e74ae0800c7f4fdcc6ef41": {
      "model_module": "@jupyter-widgets/base",
      "model_module_version": "1.2.0",
      "model_name": "LayoutModel",
      "state": {
       "_model_module": "@jupyter-widgets/base",
       "_model_module_version": "1.2.0",
       "_model_name": "LayoutModel",
       "_view_count": null,
       "_view_module": "@jupyter-widgets/base",
       "_view_module_version": "1.2.0",
       "_view_name": "LayoutView",
       "align_content": null,
       "align_items": null,
       "align_self": null,
       "border": null,
       "bottom": null,
       "display": null,
       "flex": null,
       "flex_flow": null,
       "grid_area": null,
       "grid_auto_columns": null,
       "grid_auto_flow": null,
       "grid_auto_rows": null,
       "grid_column": null,
       "grid_gap": null,
       "grid_row": null,
       "grid_template_areas": null,
       "grid_template_columns": null,
       "grid_template_rows": null,
       "height": null,
       "justify_content": null,
       "justify_items": null,
       "left": null,
       "margin": null,
       "max_height": null,
       "max_width": null,
       "min_height": null,
       "min_width": null,
       "object_fit": null,
       "object_position": null,
       "order": null,
       "overflow": null,
       "overflow_x": null,
       "overflow_y": null,
       "padding": null,
       "right": null,
       "top": null,
       "visibility": null,
       "width": null
      }
     },
     "039a0f25a23946bc94c67fb597eae147": {
      "model_module": "@jupyter-widgets/controls",
      "model_module_version": "1.5.0",
      "model_name": "HTMLModel",
      "state": {
       "_dom_classes": [],
       "_model_module": "@jupyter-widgets/controls",
       "_model_module_version": "1.5.0",
       "_model_name": "HTMLModel",
       "_view_count": null,
       "_view_module": "@jupyter-widgets/controls",
       "_view_module_version": "1.5.0",
       "_view_name": "HTMLView",
       "description": "",
       "description_tooltip": null,
       "layout": "IPY_MODEL_a6b59a10f60b4752a03a62eab89b879d",
       "placeholder": "​",
       "style": "IPY_MODEL_f9f992b11b15412b82cd58e5ad4e6a6b",
       "value": " 23875/23875 [04:30&lt;00:00, 84.23it/s]"
      }
     },
     "06095c19bc7a4be6836156a88e57079c": {
      "model_module": "@jupyter-widgets/base",
      "model_module_version": "1.2.0",
      "model_name": "LayoutModel",
      "state": {
       "_model_module": "@jupyter-widgets/base",
       "_model_module_version": "1.2.0",
       "_model_name": "LayoutModel",
       "_view_count": null,
       "_view_module": "@jupyter-widgets/base",
       "_view_module_version": "1.2.0",
       "_view_name": "LayoutView",
       "align_content": null,
       "align_items": null,
       "align_self": null,
       "border": null,
       "bottom": null,
       "display": null,
       "flex": null,
       "flex_flow": null,
       "grid_area": null,
       "grid_auto_columns": null,
       "grid_auto_flow": null,
       "grid_auto_rows": null,
       "grid_column": null,
       "grid_gap": null,
       "grid_row": null,
       "grid_template_areas": null,
       "grid_template_columns": null,
       "grid_template_rows": null,
       "height": null,
       "justify_content": null,
       "justify_items": null,
       "left": null,
       "margin": null,
       "max_height": null,
       "max_width": null,
       "min_height": null,
       "min_width": null,
       "object_fit": null,
       "object_position": null,
       "order": null,
       "overflow": null,
       "overflow_x": null,
       "overflow_y": null,
       "padding": null,
       "right": null,
       "top": null,
       "visibility": null,
       "width": null
      }
     },
     "06bcccbbaa03411ea9ae6bb114415a6f": {
      "model_module": "@jupyter-widgets/controls",
      "model_module_version": "1.5.0",
      "model_name": "DescriptionStyleModel",
      "state": {
       "_model_module": "@jupyter-widgets/controls",
       "_model_module_version": "1.5.0",
       "_model_name": "DescriptionStyleModel",
       "_view_count": null,
       "_view_module": "@jupyter-widgets/base",
       "_view_module_version": "1.2.0",
       "_view_name": "StyleView",
       "description_width": ""
      }
     },
     "077ded97bfc749639cca9ccebd932f12": {
      "model_module": "@jupyter-widgets/controls",
      "model_module_version": "1.5.0",
      "model_name": "FloatProgressModel",
      "state": {
       "_dom_classes": [],
       "_model_module": "@jupyter-widgets/controls",
       "_model_module_version": "1.5.0",
       "_model_name": "FloatProgressModel",
       "_view_count": null,
       "_view_module": "@jupyter-widgets/controls",
       "_view_module_version": "1.5.0",
       "_view_name": "ProgressView",
       "bar_style": "success",
       "description": "",
       "description_tooltip": null,
       "layout": "IPY_MODEL_41fe007f05c744c397cb77782a8d2c94",
       "max": 231508.0,
       "min": 0.0,
       "orientation": "horizontal",
       "style": "IPY_MODEL_445eae2c54714743bf5b3af5113be56d",
       "value": 231508.0
      }
     },
     "0b37beaba2bf4685a74be1eb7eced896": {
      "model_module": "@jupyter-widgets/controls",
      "model_module_version": "1.5.0",
      "model_name": "HTMLModel",
      "state": {
       "_dom_classes": [],
       "_model_module": "@jupyter-widgets/controls",
       "_model_module_version": "1.5.0",
       "_model_name": "HTMLModel",
       "_view_count": null,
       "_view_module": "@jupyter-widgets/controls",
       "_view_module_version": "1.5.0",
       "_view_name": "HTMLView",
       "description": "",
       "description_tooltip": null,
       "layout": "IPY_MODEL_0158fa6055424c14b1bac5bb5b16f551",
       "placeholder": "​",
       "style": "IPY_MODEL_0feb36ae458443f4aed0163feceb1748",
       "value": " 26.0/26.0 [00:00&lt;00:00, 2.12kB/s]"
      }
     },
     "0ced4fe06ae94b449e4cf9e2fc948458": {
      "model_module": "@jupyter-widgets/controls",
      "model_module_version": "1.5.0",
      "model_name": "HBoxModel",
      "state": {
       "_dom_classes": [],
       "_model_module": "@jupyter-widgets/controls",
       "_model_module_version": "1.5.0",
       "_model_name": "HBoxModel",
       "_view_count": null,
       "_view_module": "@jupyter-widgets/controls",
       "_view_module_version": "1.5.0",
       "_view_name": "HBoxView",
       "box_style": "",
       "children": [
        "IPY_MODEL_5be8109177aa4859868625c41331a873",
        "IPY_MODEL_d2dc1d440428421983e0796f7f3caed5",
        "IPY_MODEL_3413be7bf032431e89eb2a73ffa3c5e4"
       ],
       "layout": "IPY_MODEL_e53c95270acd407685c555459879daed"
      }
     },
     "0ebb85c175b54f0bae5a9e4a1c6fc9d7": {
      "model_module": "@jupyter-widgets/base",
      "model_module_version": "1.2.0",
      "model_name": "LayoutModel",
      "state": {
       "_model_module": "@jupyter-widgets/base",
       "_model_module_version": "1.2.0",
       "_model_name": "LayoutModel",
       "_view_count": null,
       "_view_module": "@jupyter-widgets/base",
       "_view_module_version": "1.2.0",
       "_view_name": "LayoutView",
       "align_content": null,
       "align_items": null,
       "align_self": null,
       "border": null,
       "bottom": null,
       "display": null,
       "flex": null,
       "flex_flow": null,
       "grid_area": null,
       "grid_auto_columns": null,
       "grid_auto_flow": null,
       "grid_auto_rows": null,
       "grid_column": null,
       "grid_gap": null,
       "grid_row": null,
       "grid_template_areas": null,
       "grid_template_columns": null,
       "grid_template_rows": null,
       "height": null,
       "justify_content": null,
       "justify_items": null,
       "left": null,
       "margin": null,
       "max_height": null,
       "max_width": null,
       "min_height": null,
       "min_width": null,
       "object_fit": null,
       "object_position": null,
       "order": null,
       "overflow": null,
       "overflow_x": null,
       "overflow_y": null,
       "padding": null,
       "right": null,
       "top": null,
       "visibility": null,
       "width": null
      }
     },
     "0ec28f7bd9424278902c166cd9ea698d": {
      "model_module": "@jupyter-widgets/controls",
      "model_module_version": "1.5.0",
      "model_name": "HTMLModel",
      "state": {
       "_dom_classes": [],
       "_model_module": "@jupyter-widgets/controls",
       "_model_module_version": "1.5.0",
       "_model_name": "HTMLModel",
       "_view_count": null,
       "_view_module": "@jupyter-widgets/controls",
       "_view_module_version": "1.5.0",
       "_view_name": "HTMLView",
       "description": "",
       "description_tooltip": null,
       "layout": "IPY_MODEL_f5a9cfaa22c5443d8ae9e7128f53517d",
       "placeholder": "​",
       "style": "IPY_MODEL_e2e9af33c6b04dbaaee717f939c86006",
       "value": "special_tokens_map.json: 100%"
      }
     },
     "0f1b5f600d4e479e9939c419c595c433": {
      "model_module": "@jupyter-widgets/base",
      "model_module_version": "1.2.0",
      "model_name": "LayoutModel",
      "state": {
       "_model_module": "@jupyter-widgets/base",
       "_model_module_version": "1.2.0",
       "_model_name": "LayoutModel",
       "_view_count": null,
       "_view_module": "@jupyter-widgets/base",
       "_view_module_version": "1.2.0",
       "_view_name": "LayoutView",
       "align_content": null,
       "align_items": null,
       "align_self": null,
       "border": null,
       "bottom": null,
       "display": null,
       "flex": null,
       "flex_flow": null,
       "grid_area": null,
       "grid_auto_columns": null,
       "grid_auto_flow": null,
       "grid_auto_rows": null,
       "grid_column": null,
       "grid_gap": null,
       "grid_row": null,
       "grid_template_areas": null,
       "grid_template_columns": null,
       "grid_template_rows": null,
       "height": null,
       "justify_content": null,
       "justify_items": null,
       "left": null,
       "margin": null,
       "max_height": null,
       "max_width": null,
       "min_height": null,
       "min_width": null,
       "object_fit": null,
       "object_position": null,
       "order": null,
       "overflow": null,
       "overflow_x": null,
       "overflow_y": null,
       "padding": null,
       "right": null,
       "top": null,
       "visibility": null,
       "width": null
      }
     },
     "0feb36ae458443f4aed0163feceb1748": {
      "model_module": "@jupyter-widgets/controls",
      "model_module_version": "1.5.0",
      "model_name": "DescriptionStyleModel",
      "state": {
       "_model_module": "@jupyter-widgets/controls",
       "_model_module_version": "1.5.0",
       "_model_name": "DescriptionStyleModel",
       "_view_count": null,
       "_view_module": "@jupyter-widgets/base",
       "_view_module_version": "1.2.0",
       "_view_name": "StyleView",
       "description_width": ""
      }
     },
     "101a35f22e904519a2df6bc6ecc0eb5f": {
      "model_module": "@jupyter-widgets/base",
      "model_module_version": "1.2.0",
      "model_name": "LayoutModel",
      "state": {
       "_model_module": "@jupyter-widgets/base",
       "_model_module_version": "1.2.0",
       "_model_name": "LayoutModel",
       "_view_count": null,
       "_view_module": "@jupyter-widgets/base",
       "_view_module_version": "1.2.0",
       "_view_name": "LayoutView",
       "align_content": null,
       "align_items": null,
       "align_self": null,
       "border": null,
       "bottom": null,
       "display": null,
       "flex": null,
       "flex_flow": null,
       "grid_area": null,
       "grid_auto_columns": null,
       "grid_auto_flow": null,
       "grid_auto_rows": null,
       "grid_column": null,
       "grid_gap": null,
       "grid_row": null,
       "grid_template_areas": null,
       "grid_template_columns": null,
       "grid_template_rows": null,
       "height": null,
       "justify_content": null,
       "justify_items": null,
       "left": null,
       "margin": null,
       "max_height": null,
       "max_width": null,
       "min_height": null,
       "min_width": null,
       "object_fit": null,
       "object_position": null,
       "order": null,
       "overflow": null,
       "overflow_x": null,
       "overflow_y": null,
       "padding": null,
       "right": null,
       "top": null,
       "visibility": null,
       "width": null
      }
     },
     "108e825a6bdf4df79c3df4bb3c4c229b": {
      "model_module": "@jupyter-widgets/controls",
      "model_module_version": "1.5.0",
      "model_name": "ProgressStyleModel",
      "state": {
       "_model_module": "@jupyter-widgets/controls",
       "_model_module_version": "1.5.0",
       "_model_name": "ProgressStyleModel",
       "_view_count": null,
       "_view_module": "@jupyter-widgets/base",
       "_view_module_version": "1.2.0",
       "_view_name": "StyleView",
       "bar_color": null,
       "description_width": ""
      }
     },
     "192890542aeb4aa1a995add2aac2ad77": {
      "model_module": "@jupyter-widgets/base",
      "model_module_version": "1.2.0",
      "model_name": "LayoutModel",
      "state": {
       "_model_module": "@jupyter-widgets/base",
       "_model_module_version": "1.2.0",
       "_model_name": "LayoutModel",
       "_view_count": null,
       "_view_module": "@jupyter-widgets/base",
       "_view_module_version": "1.2.0",
       "_view_name": "LayoutView",
       "align_content": null,
       "align_items": null,
       "align_self": null,
       "border": null,
       "bottom": null,
       "display": null,
       "flex": null,
       "flex_flow": null,
       "grid_area": null,
       "grid_auto_columns": null,
       "grid_auto_flow": null,
       "grid_auto_rows": null,
       "grid_column": null,
       "grid_gap": null,
       "grid_row": null,
       "grid_template_areas": null,
       "grid_template_columns": null,
       "grid_template_rows": null,
       "height": null,
       "justify_content": null,
       "justify_items": null,
       "left": null,
       "margin": null,
       "max_height": null,
       "max_width": null,
       "min_height": null,
       "min_width": null,
       "object_fit": null,
       "object_position": null,
       "order": null,
       "overflow": null,
       "overflow_x": null,
       "overflow_y": null,
       "padding": null,
       "right": null,
       "top": null,
       "visibility": null,
       "width": null
      }
     },
     "19dcd5c3e67545aeb32f88f9f4783a76": {
      "model_module": "@jupyter-widgets/controls",
      "model_module_version": "1.5.0",
      "model_name": "HBoxModel",
      "state": {
       "_dom_classes": [],
       "_model_module": "@jupyter-widgets/controls",
       "_model_module_version": "1.5.0",
       "_model_name": "HBoxModel",
       "_view_count": null,
       "_view_module": "@jupyter-widgets/controls",
       "_view_module_version": "1.5.0",
       "_view_name": "HBoxView",
       "box_style": "",
       "children": [
        "IPY_MODEL_d0174b40d10540c1a505fae4a8ffe4bd",
        "IPY_MODEL_d1a5c6391c7d4b0a92e4560fbdac54fb",
        "IPY_MODEL_19f6550f3f0e447db5c9d73802ae1d9f"
       ],
       "layout": "IPY_MODEL_fdfd59ed67d24547acfd7a6330697d55"
      }
     },
     "19f6550f3f0e447db5c9d73802ae1d9f": {
      "model_module": "@jupyter-widgets/controls",
      "model_module_version": "1.5.0",
      "model_name": "HTMLModel",
      "state": {
       "_dom_classes": [],
       "_model_module": "@jupyter-widgets/controls",
       "_model_module_version": "1.5.0",
       "_model_name": "HTMLModel",
       "_view_count": null,
       "_view_module": "@jupyter-widgets/controls",
       "_view_module_version": "1.5.0",
       "_view_name": "HTMLView",
       "description": "",
       "description_tooltip": null,
       "layout": "IPY_MODEL_4dff6f04b4c646bfab86d09bda683a16",
       "placeholder": "​",
       "style": "IPY_MODEL_605432d2b3dd4a6d852c1b6b02c627b1",
       "value": " 100/100 [00:01&lt;00:00, 67.08it/s]"
      }
     },
     "1a256bcdd8c44fe8b07823ab6920fefd": {
      "model_module": "@jupyter-widgets/controls",
      "model_module_version": "1.5.0",
      "model_name": "HBoxModel",
      "state": {
       "_dom_classes": [],
       "_model_module": "@jupyter-widgets/controls",
       "_model_module_version": "1.5.0",
       "_model_name": "HBoxModel",
       "_view_count": null,
       "_view_module": "@jupyter-widgets/controls",
       "_view_module_version": "1.5.0",
       "_view_name": "HBoxView",
       "box_style": "",
       "children": [
        "IPY_MODEL_bf153308c5324b0a924760dadabde89b",
        "IPY_MODEL_c2c481dc3b9d4f0fa924b2342a118ff8",
        "IPY_MODEL_577cc1ef67bc4187b2281681acd0c318"
       ],
       "layout": "IPY_MODEL_22bdf9d9ba0f4c82b8c61c1185b517fe"
      }
     },
     "1add3904b09e48728b34b0609b350765": {
      "model_module": "@jupyter-widgets/base",
      "model_module_version": "1.2.0",
      "model_name": "LayoutModel",
      "state": {
       "_model_module": "@jupyter-widgets/base",
       "_model_module_version": "1.2.0",
       "_model_name": "LayoutModel",
       "_view_count": null,
       "_view_module": "@jupyter-widgets/base",
       "_view_module_version": "1.2.0",
       "_view_name": "LayoutView",
       "align_content": null,
       "align_items": null,
       "align_self": null,
       "border": null,
       "bottom": null,
       "display": null,
       "flex": null,
       "flex_flow": null,
       "grid_area": null,
       "grid_auto_columns": null,
       "grid_auto_flow": null,
       "grid_auto_rows": null,
       "grid_column": null,
       "grid_gap": null,
       "grid_row": null,
       "grid_template_areas": null,
       "grid_template_columns": null,
       "grid_template_rows": null,
       "height": null,
       "justify_content": null,
       "justify_items": null,
       "left": null,
       "margin": null,
       "max_height": null,
       "max_width": null,
       "min_height": null,
       "min_width": null,
       "object_fit": null,
       "object_position": null,
       "order": null,
       "overflow": null,
       "overflow_x": null,
       "overflow_y": null,
       "padding": null,
       "right": null,
       "top": null,
       "visibility": null,
       "width": null
      }
     },
     "1b3dbc0c58a3409dab2259ddfa8c5dda": {
      "model_module": "@jupyter-widgets/base",
      "model_module_version": "1.2.0",
      "model_name": "LayoutModel",
      "state": {
       "_model_module": "@jupyter-widgets/base",
       "_model_module_version": "1.2.0",
       "_model_name": "LayoutModel",
       "_view_count": null,
       "_view_module": "@jupyter-widgets/base",
       "_view_module_version": "1.2.0",
       "_view_name": "LayoutView",
       "align_content": null,
       "align_items": null,
       "align_self": null,
       "border": null,
       "bottom": null,
       "display": null,
       "flex": null,
       "flex_flow": null,
       "grid_area": null,
       "grid_auto_columns": null,
       "grid_auto_flow": null,
       "grid_auto_rows": null,
       "grid_column": null,
       "grid_gap": null,
       "grid_row": null,
       "grid_template_areas": null,
       "grid_template_columns": null,
       "grid_template_rows": null,
       "height": null,
       "justify_content": null,
       "justify_items": null,
       "left": null,
       "margin": null,
       "max_height": null,
       "max_width": null,
       "min_height": null,
       "min_width": null,
       "object_fit": null,
       "object_position": null,
       "order": null,
       "overflow": null,
       "overflow_x": null,
       "overflow_y": null,
       "padding": null,
       "right": null,
       "top": null,
       "visibility": null,
       "width": null
      }
     },
     "1bf9f6ac9f0548f4871dec4e88c27ff8": {
      "model_module": "@jupyter-widgets/controls",
      "model_module_version": "1.5.0",
      "model_name": "ProgressStyleModel",
      "state": {
       "_model_module": "@jupyter-widgets/controls",
       "_model_module_version": "1.5.0",
       "_model_name": "ProgressStyleModel",
       "_view_count": null,
       "_view_module": "@jupyter-widgets/base",
       "_view_module_version": "1.2.0",
       "_view_name": "StyleView",
       "bar_color": null,
       "description_width": ""
      }
     },
     "1c0aed3cccd64a71ba37271e0dff2e53": {
      "model_module": "@jupyter-widgets/controls",
      "model_module_version": "1.5.0",
      "model_name": "DescriptionStyleModel",
      "state": {
       "_model_module": "@jupyter-widgets/controls",
       "_model_module_version": "1.5.0",
       "_model_name": "DescriptionStyleModel",
       "_view_count": null,
       "_view_module": "@jupyter-widgets/base",
       "_view_module_version": "1.2.0",
       "_view_name": "StyleView",
       "description_width": ""
      }
     },
     "1d21e22229b84937a3433f1f6437f0db": {
      "model_module": "@jupyter-widgets/controls",
      "model_module_version": "1.5.0",
      "model_name": "DescriptionStyleModel",
      "state": {
       "_model_module": "@jupyter-widgets/controls",
       "_model_module_version": "1.5.0",
       "_model_name": "DescriptionStyleModel",
       "_view_count": null,
       "_view_module": "@jupyter-widgets/base",
       "_view_module_version": "1.2.0",
       "_view_name": "StyleView",
       "description_width": ""
      }
     },
     "2098cfb7f90a41fc9326484f276ffaec": {
      "model_module": "@jupyter-widgets/base",
      "model_module_version": "1.2.0",
      "model_name": "LayoutModel",
      "state": {
       "_model_module": "@jupyter-widgets/base",
       "_model_module_version": "1.2.0",
       "_model_name": "LayoutModel",
       "_view_count": null,
       "_view_module": "@jupyter-widgets/base",
       "_view_module_version": "1.2.0",
       "_view_name": "LayoutView",
       "align_content": null,
       "align_items": null,
       "align_self": null,
       "border": null,
       "bottom": null,
       "display": null,
       "flex": null,
       "flex_flow": null,
       "grid_area": null,
       "grid_auto_columns": null,
       "grid_auto_flow": null,
       "grid_auto_rows": null,
       "grid_column": null,
       "grid_gap": null,
       "grid_row": null,
       "grid_template_areas": null,
       "grid_template_columns": null,
       "grid_template_rows": null,
       "height": null,
       "justify_content": null,
       "justify_items": null,
       "left": null,
       "margin": null,
       "max_height": null,
       "max_width": null,
       "min_height": null,
       "min_width": null,
       "object_fit": null,
       "object_position": null,
       "order": null,
       "overflow": null,
       "overflow_x": null,
       "overflow_y": null,
       "padding": null,
       "right": null,
       "top": null,
       "visibility": null,
       "width": null
      }
     },
     "20b55226769f43d0ad7619766eb05f3e": {
      "model_module": "@jupyter-widgets/base",
      "model_module_version": "1.2.0",
      "model_name": "LayoutModel",
      "state": {
       "_model_module": "@jupyter-widgets/base",
       "_model_module_version": "1.2.0",
       "_model_name": "LayoutModel",
       "_view_count": null,
       "_view_module": "@jupyter-widgets/base",
       "_view_module_version": "1.2.0",
       "_view_name": "LayoutView",
       "align_content": null,
       "align_items": null,
       "align_self": null,
       "border": null,
       "bottom": null,
       "display": null,
       "flex": null,
       "flex_flow": null,
       "grid_area": null,
       "grid_auto_columns": null,
       "grid_auto_flow": null,
       "grid_auto_rows": null,
       "grid_column": null,
       "grid_gap": null,
       "grid_row": null,
       "grid_template_areas": null,
       "grid_template_columns": null,
       "grid_template_rows": null,
       "height": null,
       "justify_content": null,
       "justify_items": null,
       "left": null,
       "margin": null,
       "max_height": null,
       "max_width": null,
       "min_height": null,
       "min_width": null,
       "object_fit": null,
       "object_position": null,
       "order": null,
       "overflow": null,
       "overflow_x": null,
       "overflow_y": null,
       "padding": null,
       "right": null,
       "top": null,
       "visibility": null,
       "width": null
      }
     },
     "21b567364527448dbec81e0d14e2dea7": {
      "model_module": "@jupyter-widgets/controls",
      "model_module_version": "1.5.0",
      "model_name": "HTMLModel",
      "state": {
       "_dom_classes": [],
       "_model_module": "@jupyter-widgets/controls",
       "_model_module_version": "1.5.0",
       "_model_name": "HTMLModel",
       "_view_count": null,
       "_view_module": "@jupyter-widgets/controls",
       "_view_module_version": "1.5.0",
       "_view_name": "HTMLView",
       "description": "",
       "description_tooltip": null,
       "layout": "IPY_MODEL_d69c5431a2f748ec970fc15833d7ece3",
       "placeholder": "​",
       "style": "IPY_MODEL_84bab63c0e254fcc87d9572587379167",
       "value": "config.json: 100%"
      }
     },
     "21b8cd789c80456f90f6d6bb3f0601dd": {
      "model_module": "@jupyter-widgets/controls",
      "model_module_version": "1.5.0",
      "model_name": "DescriptionStyleModel",
      "state": {
       "_model_module": "@jupyter-widgets/controls",
       "_model_module_version": "1.5.0",
       "_model_name": "DescriptionStyleModel",
       "_view_count": null,
       "_view_module": "@jupyter-widgets/base",
       "_view_module_version": "1.2.0",
       "_view_name": "StyleView",
       "description_width": ""
      }
     },
     "229bfa5d4d11435abbeea854fe17d083": {
      "model_module": "@jupyter-widgets/base",
      "model_module_version": "1.2.0",
      "model_name": "LayoutModel",
      "state": {
       "_model_module": "@jupyter-widgets/base",
       "_model_module_version": "1.2.0",
       "_model_name": "LayoutModel",
       "_view_count": null,
       "_view_module": "@jupyter-widgets/base",
       "_view_module_version": "1.2.0",
       "_view_name": "LayoutView",
       "align_content": null,
       "align_items": null,
       "align_self": null,
       "border": null,
       "bottom": null,
       "display": null,
       "flex": null,
       "flex_flow": null,
       "grid_area": null,
       "grid_auto_columns": null,
       "grid_auto_flow": null,
       "grid_auto_rows": null,
       "grid_column": null,
       "grid_gap": null,
       "grid_row": null,
       "grid_template_areas": null,
       "grid_template_columns": null,
       "grid_template_rows": null,
       "height": null,
       "justify_content": null,
       "justify_items": null,
       "left": null,
       "margin": null,
       "max_height": null,
       "max_width": null,
       "min_height": null,
       "min_width": null,
       "object_fit": null,
       "object_position": null,
       "order": null,
       "overflow": null,
       "overflow_x": null,
       "overflow_y": null,
       "padding": null,
       "right": null,
       "top": null,
       "visibility": null,
       "width": null
      }
     },
     "22bdf9d9ba0f4c82b8c61c1185b517fe": {
      "model_module": "@jupyter-widgets/base",
      "model_module_version": "1.2.0",
      "model_name": "LayoutModel",
      "state": {
       "_model_module": "@jupyter-widgets/base",
       "_model_module_version": "1.2.0",
       "_model_name": "LayoutModel",
       "_view_count": null,
       "_view_module": "@jupyter-widgets/base",
       "_view_module_version": "1.2.0",
       "_view_name": "LayoutView",
       "align_content": null,
       "align_items": null,
       "align_self": null,
       "border": null,
       "bottom": null,
       "display": null,
       "flex": null,
       "flex_flow": null,
       "grid_area": null,
       "grid_auto_columns": null,
       "grid_auto_flow": null,
       "grid_auto_rows": null,
       "grid_column": null,
       "grid_gap": null,
       "grid_row": null,
       "grid_template_areas": null,
       "grid_template_columns": null,
       "grid_template_rows": null,
       "height": null,
       "justify_content": null,
       "justify_items": null,
       "left": null,
       "margin": null,
       "max_height": null,
       "max_width": null,
       "min_height": null,
       "min_width": null,
       "object_fit": null,
       "object_position": null,
       "order": null,
       "overflow": null,
       "overflow_x": null,
       "overflow_y": null,
       "padding": null,
       "right": null,
       "top": null,
       "visibility": null,
       "width": null
      }
     },
     "22f59a1a672444d5a2eaddc1e0b16827": {
      "model_module": "@jupyter-widgets/base",
      "model_module_version": "1.2.0",
      "model_name": "LayoutModel",
      "state": {
       "_model_module": "@jupyter-widgets/base",
       "_model_module_version": "1.2.0",
       "_model_name": "LayoutModel",
       "_view_count": null,
       "_view_module": "@jupyter-widgets/base",
       "_view_module_version": "1.2.0",
       "_view_name": "LayoutView",
       "align_content": null,
       "align_items": null,
       "align_self": null,
       "border": null,
       "bottom": null,
       "display": null,
       "flex": null,
       "flex_flow": null,
       "grid_area": null,
       "grid_auto_columns": null,
       "grid_auto_flow": null,
       "grid_auto_rows": null,
       "grid_column": null,
       "grid_gap": null,
       "grid_row": null,
       "grid_template_areas": null,
       "grid_template_columns": null,
       "grid_template_rows": null,
       "height": null,
       "justify_content": null,
       "justify_items": null,
       "left": null,
       "margin": null,
       "max_height": null,
       "max_width": null,
       "min_height": null,
       "min_width": null,
       "object_fit": null,
       "object_position": null,
       "order": null,
       "overflow": null,
       "overflow_x": null,
       "overflow_y": null,
       "padding": null,
       "right": null,
       "top": null,
       "visibility": null,
       "width": null
      }
     },
     "2350e2b4b1084f83a7f24d7eb1f8bf09": {
      "model_module": "@jupyter-widgets/base",
      "model_module_version": "1.2.0",
      "model_name": "LayoutModel",
      "state": {
       "_model_module": "@jupyter-widgets/base",
       "_model_module_version": "1.2.0",
       "_model_name": "LayoutModel",
       "_view_count": null,
       "_view_module": "@jupyter-widgets/base",
       "_view_module_version": "1.2.0",
       "_view_name": "LayoutView",
       "align_content": null,
       "align_items": null,
       "align_self": null,
       "border": null,
       "bottom": null,
       "display": null,
       "flex": null,
       "flex_flow": null,
       "grid_area": null,
       "grid_auto_columns": null,
       "grid_auto_flow": null,
       "grid_auto_rows": null,
       "grid_column": null,
       "grid_gap": null,
       "grid_row": null,
       "grid_template_areas": null,
       "grid_template_columns": null,
       "grid_template_rows": null,
       "height": null,
       "justify_content": null,
       "justify_items": null,
       "left": null,
       "margin": null,
       "max_height": null,
       "max_width": null,
       "min_height": null,
       "min_width": null,
       "object_fit": null,
       "object_position": null,
       "order": null,
       "overflow": null,
       "overflow_x": null,
       "overflow_y": null,
       "padding": null,
       "right": null,
       "top": null,
       "visibility": null,
       "width": null
      }
     },
     "269a72d481714375853e1fecadb71082": {
      "model_module": "@jupyter-widgets/controls",
      "model_module_version": "1.5.0",
      "model_name": "HTMLModel",
      "state": {
       "_dom_classes": [],
       "_model_module": "@jupyter-widgets/controls",
       "_model_module_version": "1.5.0",
       "_model_name": "HTMLModel",
       "_view_count": null,
       "_view_module": "@jupyter-widgets/controls",
       "_view_module_version": "1.5.0",
       "_view_name": "HTMLView",
       "description": "",
       "description_tooltip": null,
       "layout": "IPY_MODEL_7279c14bd49546689258c38aa730d939",
       "placeholder": "​",
       "style": "IPY_MODEL_c7608b4ac15d4233a4fdcd56aa849d37",
       "value": " 119/119 [00:00&lt;00:00, 11.2kB/s]"
      }
     },
     "27d1fe1bbe184ba0b1aa6f192aae614f": {
      "model_module": "@jupyter-widgets/base",
      "model_module_version": "1.2.0",
      "model_name": "LayoutModel",
      "state": {
       "_model_module": "@jupyter-widgets/base",
       "_model_module_version": "1.2.0",
       "_model_name": "LayoutModel",
       "_view_count": null,
       "_view_module": "@jupyter-widgets/base",
       "_view_module_version": "1.2.0",
       "_view_name": "LayoutView",
       "align_content": null,
       "align_items": null,
       "align_self": null,
       "border": null,
       "bottom": null,
       "display": null,
       "flex": null,
       "flex_flow": null,
       "grid_area": null,
       "grid_auto_columns": null,
       "grid_auto_flow": null,
       "grid_auto_rows": null,
       "grid_column": null,
       "grid_gap": null,
       "grid_row": null,
       "grid_template_areas": null,
       "grid_template_columns": null,
       "grid_template_rows": null,
       "height": null,
       "justify_content": null,
       "justify_items": null,
       "left": null,
       "margin": null,
       "max_height": null,
       "max_width": null,
       "min_height": null,
       "min_width": null,
       "object_fit": null,
       "object_position": null,
       "order": null,
       "overflow": null,
       "overflow_x": null,
       "overflow_y": null,
       "padding": null,
       "right": null,
       "top": null,
       "visibility": null,
       "width": null
      }
     },
     "297f97fc0b7c4f6b8e04fa7ad8ba5d14": {
      "model_module": "@jupyter-widgets/controls",
      "model_module_version": "1.5.0",
      "model_name": "DescriptionStyleModel",
      "state": {
       "_model_module": "@jupyter-widgets/controls",
       "_model_module_version": "1.5.0",
       "_model_name": "DescriptionStyleModel",
       "_view_count": null,
       "_view_module": "@jupyter-widgets/base",
       "_view_module_version": "1.2.0",
       "_view_name": "StyleView",
       "description_width": ""
      }
     },
     "2b45feae3ef94fa4afbfba7c0d908570": {
      "model_module": "@jupyter-widgets/controls",
      "model_module_version": "1.5.0",
      "model_name": "HTMLModel",
      "state": {
       "_dom_classes": [],
       "_model_module": "@jupyter-widgets/controls",
       "_model_module_version": "1.5.0",
       "_model_name": "HTMLModel",
       "_view_count": null,
       "_view_module": "@jupyter-widgets/controls",
       "_view_module_version": "1.5.0",
       "_view_name": "HTMLView",
       "description": "",
       "description_tooltip": null,
       "layout": "IPY_MODEL_f8759a0877eb4f80afe5148042a9d7ff",
       "placeholder": "​",
       "style": "IPY_MODEL_3ace2ec4fcf948469f979414461ba973",
       "value": " 1.36M/1.36M [00:00&lt;00:00, 4.21MB/s]"
      }
     },
     "2e0eeb6a43514ac698940aaa4a23ccf9": {
      "model_module": "@jupyter-widgets/controls",
      "model_module_version": "1.5.0",
      "model_name": "HTMLModel",
      "state": {
       "_dom_classes": [],
       "_model_module": "@jupyter-widgets/controls",
       "_model_module_version": "1.5.0",
       "_model_name": "HTMLModel",
       "_view_count": null,
       "_view_module": "@jupyter-widgets/controls",
       "_view_module_version": "1.5.0",
       "_view_name": "HTMLView",
       "description": "",
       "description_tooltip": null,
       "layout": "IPY_MODEL_8639cb5ec664433ea192611045efd6e0",
       "placeholder": "​",
       "style": "IPY_MODEL_74eeaf2d7d5c49138f10016dfb34e921",
       "value": "vocab.json: 100%"
      }
     },
     "2e533a234047400bab90a313aef056ac": {
      "model_module": "@jupyter-widgets/controls",
      "model_module_version": "1.5.0",
      "model_name": "HTMLModel",
      "state": {
       "_dom_classes": [],
       "_model_module": "@jupyter-widgets/controls",
       "_model_module_version": "1.5.0",
       "_model_name": "HTMLModel",
       "_view_count": null,
       "_view_module": "@jupyter-widgets/controls",
       "_view_module_version": "1.5.0",
       "_view_name": "HTMLView",
       "description": "",
       "description_tooltip": null,
       "layout": "IPY_MODEL_5c0438f7e6f34d48b4c1857da590ca0b",
       "placeholder": "​",
       "style": "IPY_MODEL_ea313225e5214c49856af9de78e1ae2f",
       "value": " 285/285 [00:00&lt;00:00, 23.3kB/s]"
      }
     },
     "2f0b2f10d4394226b19a7b92df12cb28": {
      "model_module": "@jupyter-widgets/base",
      "model_module_version": "1.2.0",
      "model_name": "LayoutModel",
      "state": {
       "_model_module": "@jupyter-widgets/base",
       "_model_module_version": "1.2.0",
       "_model_name": "LayoutModel",
       "_view_count": null,
       "_view_module": "@jupyter-widgets/base",
       "_view_module_version": "1.2.0",
       "_view_name": "LayoutView",
       "align_content": null,
       "align_items": null,
       "align_self": null,
       "border": null,
       "bottom": null,
       "display": null,
       "flex": null,
       "flex_flow": null,
       "grid_area": null,
       "grid_auto_columns": null,
       "grid_auto_flow": null,
       "grid_auto_rows": null,
       "grid_column": null,
       "grid_gap": null,
       "grid_row": null,
       "grid_template_areas": null,
       "grid_template_columns": null,
       "grid_template_rows": null,
       "height": null,
       "justify_content": null,
       "justify_items": null,
       "left": null,
       "margin": null,
       "max_height": null,
       "max_width": null,
       "min_height": null,
       "min_width": null,
       "object_fit": null,
       "object_position": null,
       "order": null,
       "overflow": null,
       "overflow_x": null,
       "overflow_y": null,
       "padding": null,
       "right": null,
       "top": null,
       "visibility": null,
       "width": null
      }
     },
     "30fbf75581364729aaf540d5dea47528": {
      "model_module": "@jupyter-widgets/controls",
      "model_module_version": "1.5.0",
      "model_name": "ProgressStyleModel",
      "state": {
       "_model_module": "@jupyter-widgets/controls",
       "_model_module_version": "1.5.0",
       "_model_name": "ProgressStyleModel",
       "_view_count": null,
       "_view_module": "@jupyter-widgets/base",
       "_view_module_version": "1.2.0",
       "_view_name": "StyleView",
       "bar_color": null,
       "description_width": ""
      }
     },
     "322139b945a5494d864a82381010406b": {
      "model_module": "@jupyter-widgets/controls",
      "model_module_version": "1.5.0",
      "model_name": "HTMLModel",
      "state": {
       "_dom_classes": [],
       "_model_module": "@jupyter-widgets/controls",
       "_model_module_version": "1.5.0",
       "_model_name": "HTMLModel",
       "_view_count": null,
       "_view_module": "@jupyter-widgets/controls",
       "_view_module_version": "1.5.0",
       "_view_name": "HTMLView",
       "description": "",
       "description_tooltip": null,
       "layout": "IPY_MODEL_86aecbd8128b4dda9671db6cea94c7b0",
       "placeholder": "​",
       "style": "IPY_MODEL_e61f566f2779465392ab4deb85898ea3",
       "value": " 112/112 [00:00&lt;00:00, 9.32kB/s]"
      }
     },
     "32e03b1035844c05b3bab4c0c3ac3e7a": {
      "model_module": "@jupyter-widgets/controls",
      "model_module_version": "1.5.0",
      "model_name": "HTMLModel",
      "state": {
       "_dom_classes": [],
       "_model_module": "@jupyter-widgets/controls",
       "_model_module_version": "1.5.0",
       "_model_name": "HTMLModel",
       "_view_count": null,
       "_view_module": "@jupyter-widgets/controls",
       "_view_module_version": "1.5.0",
       "_view_name": "HTMLView",
       "description": "",
       "description_tooltip": null,
       "layout": "IPY_MODEL_d4154a4bbab742bd9f5ed977e2fb474d",
       "placeholder": "​",
       "style": "IPY_MODEL_9edcb5391d264b78b42daf8de6fcd586",
       "value": "100%"
      }
     },
     "33220dc1056a44fcbbd069d85ba2b3c0": {
      "model_module": "@jupyter-widgets/base",
      "model_module_version": "1.2.0",
      "model_name": "LayoutModel",
      "state": {
       "_model_module": "@jupyter-widgets/base",
       "_model_module_version": "1.2.0",
       "_model_name": "LayoutModel",
       "_view_count": null,
       "_view_module": "@jupyter-widgets/base",
       "_view_module_version": "1.2.0",
       "_view_name": "LayoutView",
       "align_content": null,
       "align_items": null,
       "align_self": null,
       "border": null,
       "bottom": null,
       "display": null,
       "flex": null,
       "flex_flow": null,
       "grid_area": null,
       "grid_auto_columns": null,
       "grid_auto_flow": null,
       "grid_auto_rows": null,
       "grid_column": null,
       "grid_gap": null,
       "grid_row": null,
       "grid_template_areas": null,
       "grid_template_columns": null,
       "grid_template_rows": null,
       "height": null,
       "justify_content": null,
       "justify_items": null,
       "left": null,
       "margin": null,
       "max_height": null,
       "max_width": null,
       "min_height": null,
       "min_width": null,
       "object_fit": null,
       "object_position": null,
       "order": null,
       "overflow": null,
       "overflow_x": null,
       "overflow_y": null,
       "padding": null,
       "right": null,
       "top": null,
       "visibility": null,
       "width": null
      }
     },
     "33ffda6d0fa641d1922505b5ebe95aea": {
      "model_module": "@jupyter-widgets/base",
      "model_module_version": "1.2.0",
      "model_name": "LayoutModel",
      "state": {
       "_model_module": "@jupyter-widgets/base",
       "_model_module_version": "1.2.0",
       "_model_name": "LayoutModel",
       "_view_count": null,
       "_view_module": "@jupyter-widgets/base",
       "_view_module_version": "1.2.0",
       "_view_name": "LayoutView",
       "align_content": null,
       "align_items": null,
       "align_self": null,
       "border": null,
       "bottom": null,
       "display": null,
       "flex": null,
       "flex_flow": null,
       "grid_area": null,
       "grid_auto_columns": null,
       "grid_auto_flow": null,
       "grid_auto_rows": null,
       "grid_column": null,
       "grid_gap": null,
       "grid_row": null,
       "grid_template_areas": null,
       "grid_template_columns": null,
       "grid_template_rows": null,
       "height": null,
       "justify_content": null,
       "justify_items": null,
       "left": null,
       "margin": null,
       "max_height": null,
       "max_width": null,
       "min_height": null,
       "min_width": null,
       "object_fit": null,
       "object_position": null,
       "order": null,
       "overflow": null,
       "overflow_x": null,
       "overflow_y": null,
       "padding": null,
       "right": null,
       "top": null,
       "visibility": null,
       "width": null
      }
     },
     "3404c2b110ac40fbbe4c3e855c164f47": {
      "model_module": "@jupyter-widgets/controls",
      "model_module_version": "1.5.0",
      "model_name": "HTMLModel",
      "state": {
       "_dom_classes": [],
       "_model_module": "@jupyter-widgets/controls",
       "_model_module_version": "1.5.0",
       "_model_name": "HTMLModel",
       "_view_count": null,
       "_view_module": "@jupyter-widgets/controls",
       "_view_module_version": "1.5.0",
       "_view_name": "HTMLView",
       "description": "",
       "description_tooltip": null,
       "layout": "IPY_MODEL_33220dc1056a44fcbbd069d85ba2b3c0",
       "placeholder": "​",
       "style": "IPY_MODEL_d93e1260ec1e4c77b5af0c0539ccf56f",
       "value": "100%"
      }
     },
     "3413be7bf032431e89eb2a73ffa3c5e4": {
      "model_module": "@jupyter-widgets/controls",
      "model_module_version": "1.5.0",
      "model_name": "HTMLModel",
      "state": {
       "_dom_classes": [],
       "_model_module": "@jupyter-widgets/controls",
       "_model_module_version": "1.5.0",
       "_model_name": "HTMLModel",
       "_view_count": null,
       "_view_module": "@jupyter-widgets/controls",
       "_view_module_version": "1.5.0",
       "_view_name": "HTMLView",
       "description": "",
       "description_tooltip": null,
       "layout": "IPY_MODEL_b9df1874912d43ef9c627481d4da5fe3",
       "placeholder": "​",
       "style": "IPY_MODEL_c08412f332f04191a9b3509e897a24b1",
       "value": " 1.63G/1.63G [00:05&lt;00:00, 404MB/s]"
      }
     },
     "34201461e322460faaffc66896bb618e": {
      "model_module": "@jupyter-widgets/controls",
      "model_module_version": "1.5.0",
      "model_name": "DescriptionStyleModel",
      "state": {
       "_model_module": "@jupyter-widgets/controls",
       "_model_module_version": "1.5.0",
       "_model_name": "DescriptionStyleModel",
       "_view_count": null,
       "_view_module": "@jupyter-widgets/base",
       "_view_module_version": "1.2.0",
       "_view_name": "StyleView",
       "description_width": ""
      }
     },
     "3420fc1b0a7e428fb0a4ead03174c47b": {
      "model_module": "@jupyter-widgets/controls",
      "model_module_version": "1.5.0",
      "model_name": "HTMLModel",
      "state": {
       "_dom_classes": [],
       "_model_module": "@jupyter-widgets/controls",
       "_model_module_version": "1.5.0",
       "_model_name": "HTMLModel",
       "_view_count": null,
       "_view_module": "@jupyter-widgets/controls",
       "_view_module_version": "1.5.0",
       "_view_name": "HTMLView",
       "description": "",
       "description_tooltip": null,
       "layout": "IPY_MODEL_470c7361241f4e83854103adf2e8cbb9",
       "placeholder": "​",
       "style": "IPY_MODEL_55a7c4c7b4624ff6a9abf19d34a8c0f9",
       "value": "config.json: 100%"
      }
     },
     "347bfbfce2c9417db15ae4a484ecf068": {
      "model_module": "@jupyter-widgets/base",
      "model_module_version": "1.2.0",
      "model_name": "LayoutModel",
      "state": {
       "_model_module": "@jupyter-widgets/base",
       "_model_module_version": "1.2.0",
       "_model_name": "LayoutModel",
       "_view_count": null,
       "_view_module": "@jupyter-widgets/base",
       "_view_module_version": "1.2.0",
       "_view_name": "LayoutView",
       "align_content": null,
       "align_items": null,
       "align_self": null,
       "border": null,
       "bottom": null,
       "display": null,
       "flex": null,
       "flex_flow": null,
       "grid_area": null,
       "grid_auto_columns": null,
       "grid_auto_flow": null,
       "grid_auto_rows": null,
       "grid_column": null,
       "grid_gap": null,
       "grid_row": null,
       "grid_template_areas": null,
       "grid_template_columns": null,
       "grid_template_rows": null,
       "height": null,
       "justify_content": null,
       "justify_items": null,
       "left": null,
       "margin": null,
       "max_height": null,
       "max_width": null,
       "min_height": null,
       "min_width": null,
       "object_fit": null,
       "object_position": null,
       "order": null,
       "overflow": null,
       "overflow_x": null,
       "overflow_y": null,
       "padding": null,
       "right": null,
       "top": null,
       "visibility": null,
       "width": null
      }
     },
     "347cf271073146bba733817898f5f012": {
      "model_module": "@jupyter-widgets/base",
      "model_module_version": "1.2.0",
      "model_name": "LayoutModel",
      "state": {
       "_model_module": "@jupyter-widgets/base",
       "_model_module_version": "1.2.0",
       "_model_name": "LayoutModel",
       "_view_count": null,
       "_view_module": "@jupyter-widgets/base",
       "_view_module_version": "1.2.0",
       "_view_name": "LayoutView",
       "align_content": null,
       "align_items": null,
       "align_self": null,
       "border": null,
       "bottom": null,
       "display": null,
       "flex": null,
       "flex_flow": null,
       "grid_area": null,
       "grid_auto_columns": null,
       "grid_auto_flow": null,
       "grid_auto_rows": null,
       "grid_column": null,
       "grid_gap": null,
       "grid_row": null,
       "grid_template_areas": null,
       "grid_template_columns": null,
       "grid_template_rows": null,
       "height": null,
       "justify_content": null,
       "justify_items": null,
       "left": null,
       "margin": null,
       "max_height": null,
       "max_width": null,
       "min_height": null,
       "min_width": null,
       "object_fit": null,
       "object_position": null,
       "order": null,
       "overflow": null,
       "overflow_x": null,
       "overflow_y": null,
       "padding": null,
       "right": null,
       "top": null,
       "visibility": null,
       "width": null
      }
     },
     "3499542dc5144bb1a161149cfd1f4cde": {
      "model_module": "@jupyter-widgets/controls",
      "model_module_version": "1.5.0",
      "model_name": "FloatProgressModel",
      "state": {
       "_dom_classes": [],
       "_model_module": "@jupyter-widgets/controls",
       "_model_module_version": "1.5.0",
       "_model_name": "FloatProgressModel",
       "_view_count": null,
       "_view_module": "@jupyter-widgets/controls",
       "_view_module_version": "1.5.0",
       "_view_name": "ProgressView",
       "bar_style": "success",
       "description": "",
       "description_tooltip": null,
       "layout": "IPY_MODEL_522bdc9c677d4ecd9d22abcf7415a4e8",
       "max": 586.0,
       "min": 0.0,
       "orientation": "horizontal",
       "style": "IPY_MODEL_1bf9f6ac9f0548f4871dec4e88c27ff8",
       "value": 586.0
      }
     },
     "35d0617a8c8c410a8bd163ad59c9f64f": {
      "model_module": "@jupyter-widgets/controls",
      "model_module_version": "1.5.0",
      "model_name": "HBoxModel",
      "state": {
       "_dom_classes": [],
       "_model_module": "@jupyter-widgets/controls",
       "_model_module_version": "1.5.0",
       "_model_name": "HBoxModel",
       "_view_count": null,
       "_view_module": "@jupyter-widgets/controls",
       "_view_module_version": "1.5.0",
       "_view_name": "HBoxView",
       "box_style": "",
       "children": [
        "IPY_MODEL_fe8654d993844dee897a1c4d3252a4a2",
        "IPY_MODEL_077ded97bfc749639cca9ccebd932f12",
        "IPY_MODEL_ed277729747d4e10868f277bb47a2397"
       ],
       "layout": "IPY_MODEL_7ad1345323b943d19ae911e357deae5c"
      }
     },
     "36a9d6195f28420b8e8d6eb0101fd977": {
      "model_module": "@jupyter-widgets/base",
      "model_module_version": "1.2.0",
      "model_name": "LayoutModel",
      "state": {
       "_model_module": "@jupyter-widgets/base",
       "_model_module_version": "1.2.0",
       "_model_name": "LayoutModel",
       "_view_count": null,
       "_view_module": "@jupyter-widgets/base",
       "_view_module_version": "1.2.0",
       "_view_name": "LayoutView",
       "align_content": null,
       "align_items": null,
       "align_self": null,
       "border": null,
       "bottom": null,
       "display": null,
       "flex": null,
       "flex_flow": null,
       "grid_area": null,
       "grid_auto_columns": null,
       "grid_auto_flow": null,
       "grid_auto_rows": null,
       "grid_column": null,
       "grid_gap": null,
       "grid_row": null,
       "grid_template_areas": null,
       "grid_template_columns": null,
       "grid_template_rows": null,
       "height": null,
       "justify_content": null,
       "justify_items": null,
       "left": null,
       "margin": null,
       "max_height": null,
       "max_width": null,
       "min_height": null,
       "min_width": null,
       "object_fit": null,
       "object_position": null,
       "order": null,
       "overflow": null,
       "overflow_x": null,
       "overflow_y": null,
       "padding": null,
       "right": null,
       "top": null,
       "visibility": null,
       "width": null
      }
     },
     "37e536b53ea345cfa297a4a1bb15ff78": {
      "model_module": "@jupyter-widgets/controls",
      "model_module_version": "1.5.0",
      "model_name": "FloatProgressModel",
      "state": {
       "_dom_classes": [],
       "_model_module": "@jupyter-widgets/controls",
       "_model_module_version": "1.5.0",
       "_model_name": "FloatProgressModel",
       "_view_count": null,
       "_view_module": "@jupyter-widgets/controls",
       "_view_module_version": "1.5.0",
       "_view_name": "ProgressView",
       "bar_style": "success",
       "description": "",
       "description_tooltip": null,
       "layout": "IPY_MODEL_1add3904b09e48728b34b0609b350765",
       "max": 112.0,
       "min": 0.0,
       "orientation": "horizontal",
       "style": "IPY_MODEL_a4c2dec7d9be43439ab6a384535ee099",
       "value": 112.0
      }
     },
     "3968da603b284ced915b8b58cd50bfc9": {
      "model_module": "@jupyter-widgets/controls",
      "model_module_version": "1.5.0",
      "model_name": "ProgressStyleModel",
      "state": {
       "_model_module": "@jupyter-widgets/controls",
       "_model_module_version": "1.5.0",
       "_model_name": "ProgressStyleModel",
       "_view_count": null,
       "_view_module": "@jupyter-widgets/base",
       "_view_module_version": "1.2.0",
       "_view_name": "StyleView",
       "bar_color": null,
       "description_width": ""
      }
     },
     "3ace2ec4fcf948469f979414461ba973": {
      "model_module": "@jupyter-widgets/controls",
      "model_module_version": "1.5.0",
      "model_name": "DescriptionStyleModel",
      "state": {
       "_model_module": "@jupyter-widgets/controls",
       "_model_module_version": "1.5.0",
       "_model_name": "DescriptionStyleModel",
       "_view_count": null,
       "_view_module": "@jupyter-widgets/base",
       "_view_module_version": "1.2.0",
       "_view_name": "StyleView",
       "description_width": ""
      }
     },
     "3c16e154bcb041d48b213cd8a478181f": {
      "model_module": "@jupyter-widgets/controls",
      "model_module_version": "1.5.0",
      "model_name": "ProgressStyleModel",
      "state": {
       "_model_module": "@jupyter-widgets/controls",
       "_model_module_version": "1.5.0",
       "_model_name": "ProgressStyleModel",
       "_view_count": null,
       "_view_module": "@jupyter-widgets/base",
       "_view_module_version": "1.2.0",
       "_view_name": "StyleView",
       "bar_color": null,
       "description_width": ""
      }
     },
     "3f65537879e04e0daec2a360719a8be0": {
      "model_module": "@jupyter-widgets/controls",
      "model_module_version": "1.5.0",
      "model_name": "HTMLModel",
      "state": {
       "_dom_classes": [],
       "_model_module": "@jupyter-widgets/controls",
       "_model_module_version": "1.5.0",
       "_model_name": "HTMLModel",
       "_view_count": null,
       "_view_module": "@jupyter-widgets/controls",
       "_view_module_version": "1.5.0",
       "_view_name": "HTMLView",
       "description": "",
       "description_tooltip": null,
       "layout": "IPY_MODEL_36a9d6195f28420b8e8d6eb0101fd977",
       "placeholder": "​",
       "style": "IPY_MODEL_8be865dda8bc4f60a74f2b797b4511e1",
       "value": " 100/100 [00:01&lt;00:00, 72.64it/s]"
      }
     },
     "3f9cdaa9da8c4a9f9246fcab9df83832": {
      "model_module": "@jupyter-widgets/controls",
      "model_module_version": "1.5.0",
      "model_name": "HTMLModel",
      "state": {
       "_dom_classes": [],
       "_model_module": "@jupyter-widgets/controls",
       "_model_module_version": "1.5.0",
       "_model_name": "HTMLModel",
       "_view_count": null,
       "_view_module": "@jupyter-widgets/controls",
       "_view_module_version": "1.5.0",
       "_view_name": "HTMLView",
       "description": "",
       "description_tooltip": null,
       "layout": "IPY_MODEL_986c6298343543c1bb321f362f9f4206",
       "placeholder": "​",
       "style": "IPY_MODEL_c2f693bb63774dc18250b3e8f23c52d0",
       "value": "vocab.txt: 100%"
      }
     },
     "415d40aee28546c0bad69a9ca23f8918": {
      "model_module": "@jupyter-widgets/base",
      "model_module_version": "1.2.0",
      "model_name": "LayoutModel",
      "state": {
       "_model_module": "@jupyter-widgets/base",
       "_model_module_version": "1.2.0",
       "_model_name": "LayoutModel",
       "_view_count": null,
       "_view_module": "@jupyter-widgets/base",
       "_view_module_version": "1.2.0",
       "_view_name": "LayoutView",
       "align_content": null,
       "align_items": null,
       "align_self": null,
       "border": null,
       "bottom": null,
       "display": null,
       "flex": null,
       "flex_flow": null,
       "grid_area": null,
       "grid_auto_columns": null,
       "grid_auto_flow": null,
       "grid_auto_rows": null,
       "grid_column": null,
       "grid_gap": null,
       "grid_row": null,
       "grid_template_areas": null,
       "grid_template_columns": null,
       "grid_template_rows": null,
       "height": null,
       "justify_content": null,
       "justify_items": null,
       "left": null,
       "margin": null,
       "max_height": null,
       "max_width": null,
       "min_height": null,
       "min_width": null,
       "object_fit": null,
       "object_position": null,
       "order": null,
       "overflow": null,
       "overflow_x": null,
       "overflow_y": null,
       "padding": null,
       "right": null,
       "top": null,
       "visibility": null,
       "width": null
      }
     },
     "41fe007f05c744c397cb77782a8d2c94": {
      "model_module": "@jupyter-widgets/base",
      "model_module_version": "1.2.0",
      "model_name": "LayoutModel",
      "state": {
       "_model_module": "@jupyter-widgets/base",
       "_model_module_version": "1.2.0",
       "_model_name": "LayoutModel",
       "_view_count": null,
       "_view_module": "@jupyter-widgets/base",
       "_view_module_version": "1.2.0",
       "_view_name": "LayoutView",
       "align_content": null,
       "align_items": null,
       "align_self": null,
       "border": null,
       "bottom": null,
       "display": null,
       "flex": null,
       "flex_flow": null,
       "grid_area": null,
       "grid_auto_columns": null,
       "grid_auto_flow": null,
       "grid_auto_rows": null,
       "grid_column": null,
       "grid_gap": null,
       "grid_row": null,
       "grid_template_areas": null,
       "grid_template_columns": null,
       "grid_template_rows": null,
       "height": null,
       "justify_content": null,
       "justify_items": null,
       "left": null,
       "margin": null,
       "max_height": null,
       "max_width": null,
       "min_height": null,
       "min_width": null,
       "object_fit": null,
       "object_position": null,
       "order": null,
       "overflow": null,
       "overflow_x": null,
       "overflow_y": null,
       "padding": null,
       "right": null,
       "top": null,
       "visibility": null,
       "width": null
      }
     },
     "424bd48021964a73997af3ba07b17a30": {
      "model_module": "@jupyter-widgets/controls",
      "model_module_version": "1.5.0",
      "model_name": "HTMLModel",
      "state": {
       "_dom_classes": [],
       "_model_module": "@jupyter-widgets/controls",
       "_model_module_version": "1.5.0",
       "_model_name": "HTMLModel",
       "_view_count": null,
       "_view_module": "@jupyter-widgets/controls",
       "_view_module_version": "1.5.0",
       "_view_name": "HTMLView",
       "description": "",
       "description_tooltip": null,
       "layout": "IPY_MODEL_ce09d7f4a9f24033980dad0e58a0ca4e",
       "placeholder": "​",
       "style": "IPY_MODEL_5feb66770432419bb50242328334be6e",
       "value": " 586/586 [00:00&lt;00:00, 53.3kB/s]"
      }
     },
     "42809c7f6cce4946a7b33591c16856d8": {
      "model_module": "@jupyter-widgets/controls",
      "model_module_version": "1.5.0",
      "model_name": "DescriptionStyleModel",
      "state": {
       "_model_module": "@jupyter-widgets/controls",
       "_model_module_version": "1.5.0",
       "_model_name": "DescriptionStyleModel",
       "_view_count": null,
       "_view_module": "@jupyter-widgets/base",
       "_view_module_version": "1.2.0",
       "_view_name": "StyleView",
       "description_width": ""
      }
     },
     "4389403386be46008d612f29a0a706a1": {
      "model_module": "@jupyter-widgets/controls",
      "model_module_version": "1.5.0",
      "model_name": "HBoxModel",
      "state": {
       "_dom_classes": [],
       "_model_module": "@jupyter-widgets/controls",
       "_model_module_version": "1.5.0",
       "_model_name": "HBoxModel",
       "_view_count": null,
       "_view_module": "@jupyter-widgets/controls",
       "_view_module_version": "1.5.0",
       "_view_name": "HBoxView",
       "box_style": "",
       "children": [
        "IPY_MODEL_3420fc1b0a7e428fb0a4ead03174c47b",
        "IPY_MODEL_af5c2e1777224919b98440c71fcc6ad3",
        "IPY_MODEL_bc6a1206a32544b6abbaf5fc17a7aea0"
       ],
       "layout": "IPY_MODEL_a8cbeab50ac340d98d1cf8ca474b2513"
      }
     },
     "445eae2c54714743bf5b3af5113be56d": {
      "model_module": "@jupyter-widgets/controls",
      "model_module_version": "1.5.0",
      "model_name": "ProgressStyleModel",
      "state": {
       "_model_module": "@jupyter-widgets/controls",
       "_model_module_version": "1.5.0",
       "_model_name": "ProgressStyleModel",
       "_view_count": null,
       "_view_module": "@jupyter-widgets/base",
       "_view_module_version": "1.2.0",
       "_view_name": "StyleView",
       "bar_color": null,
       "description_width": ""
      }
     },
     "44963c4cad1240b2b8fdd1fe9a89bf95": {
      "model_module": "@jupyter-widgets/controls",
      "model_module_version": "1.5.0",
      "model_name": "FloatProgressModel",
      "state": {
       "_dom_classes": [],
       "_model_module": "@jupyter-widgets/controls",
       "_model_module_version": "1.5.0",
       "_model_name": "FloatProgressModel",
       "_view_count": null,
       "_view_module": "@jupyter-widgets/controls",
       "_view_module_version": "1.5.0",
       "_view_name": "ProgressView",
       "bar_style": "success",
       "description": "",
       "description_tooltip": null,
       "layout": "IPY_MODEL_347bfbfce2c9417db15ae4a484ecf068",
       "max": 100.0,
       "min": 0.0,
       "orientation": "horizontal",
       "style": "IPY_MODEL_b6c73af21d354d62808f4c393f1b735b",
       "value": 100.0
      }
     },
     "44c413e62e7b4077a8e5d549bdf9bad2": {
      "model_module": "@jupyter-widgets/base",
      "model_module_version": "1.2.0",
      "model_name": "LayoutModel",
      "state": {
       "_model_module": "@jupyter-widgets/base",
       "_model_module_version": "1.2.0",
       "_model_name": "LayoutModel",
       "_view_count": null,
       "_view_module": "@jupyter-widgets/base",
       "_view_module_version": "1.2.0",
       "_view_name": "LayoutView",
       "align_content": null,
       "align_items": null,
       "align_self": null,
       "border": null,
       "bottom": null,
       "display": null,
       "flex": null,
       "flex_flow": null,
       "grid_area": null,
       "grid_auto_columns": null,
       "grid_auto_flow": null,
       "grid_auto_rows": null,
       "grid_column": null,
       "grid_gap": null,
       "grid_row": null,
       "grid_template_areas": null,
       "grid_template_columns": null,
       "grid_template_rows": null,
       "height": null,
       "justify_content": null,
       "justify_items": null,
       "left": null,
       "margin": null,
       "max_height": null,
       "max_width": null,
       "min_height": null,
       "min_width": null,
       "object_fit": null,
       "object_position": null,
       "order": null,
       "overflow": null,
       "overflow_x": null,
       "overflow_y": null,
       "padding": null,
       "right": null,
       "top": null,
       "visibility": null,
       "width": null
      }
     },
     "4558e96850664557b3b9c08b695605b7": {
      "model_module": "@jupyter-widgets/controls",
      "model_module_version": "1.5.0",
      "model_name": "ProgressStyleModel",
      "state": {
       "_model_module": "@jupyter-widgets/controls",
       "_model_module_version": "1.5.0",
       "_model_name": "ProgressStyleModel",
       "_view_count": null,
       "_view_module": "@jupyter-widgets/base",
       "_view_module_version": "1.2.0",
       "_view_name": "StyleView",
       "bar_color": null,
       "description_width": ""
      }
     },
     "463ca6a05a1f4f329e08441df574ee04": {
      "model_module": "@jupyter-widgets/controls",
      "model_module_version": "1.5.0",
      "model_name": "ProgressStyleModel",
      "state": {
       "_model_module": "@jupyter-widgets/controls",
       "_model_module_version": "1.5.0",
       "_model_name": "ProgressStyleModel",
       "_view_count": null,
       "_view_module": "@jupyter-widgets/base",
       "_view_module_version": "1.2.0",
       "_view_name": "StyleView",
       "bar_color": null,
       "description_width": ""
      }
     },
     "463da19ae4eb480bbfa6eedd171c2358": {
      "model_module": "@jupyter-widgets/controls",
      "model_module_version": "1.5.0",
      "model_name": "FloatProgressModel",
      "state": {
       "_dom_classes": [],
       "_model_module": "@jupyter-widgets/controls",
       "_model_module_version": "1.5.0",
       "_model_name": "FloatProgressModel",
       "_view_count": null,
       "_view_module": "@jupyter-widgets/controls",
       "_view_module_version": "1.5.0",
       "_view_name": "ProgressView",
       "bar_style": "success",
       "description": "",
       "description_tooltip": null,
       "layout": "IPY_MODEL_c86e17eff07144fca54c5abfb839d65d",
       "max": 100.0,
       "min": 0.0,
       "orientation": "horizontal",
       "style": "IPY_MODEL_108e825a6bdf4df79c3df4bb3c4c229b",
       "value": 100.0
      }
     },
     "470c7361241f4e83854103adf2e8cbb9": {
      "model_module": "@jupyter-widgets/base",
      "model_module_version": "1.2.0",
      "model_name": "LayoutModel",
      "state": {
       "_model_module": "@jupyter-widgets/base",
       "_model_module_version": "1.2.0",
       "_model_name": "LayoutModel",
       "_view_count": null,
       "_view_module": "@jupyter-widgets/base",
       "_view_module_version": "1.2.0",
       "_view_name": "LayoutView",
       "align_content": null,
       "align_items": null,
       "align_self": null,
       "border": null,
       "bottom": null,
       "display": null,
       "flex": null,
       "flex_flow": null,
       "grid_area": null,
       "grid_auto_columns": null,
       "grid_auto_flow": null,
       "grid_auto_rows": null,
       "grid_column": null,
       "grid_gap": null,
       "grid_row": null,
       "grid_template_areas": null,
       "grid_template_columns": null,
       "grid_template_rows": null,
       "height": null,
       "justify_content": null,
       "justify_items": null,
       "left": null,
       "margin": null,
       "max_height": null,
       "max_width": null,
       "min_height": null,
       "min_width": null,
       "object_fit": null,
       "object_position": null,
       "order": null,
       "overflow": null,
       "overflow_x": null,
       "overflow_y": null,
       "padding": null,
       "right": null,
       "top": null,
       "visibility": null,
       "width": null
      }
     },
     "4914bdab5d694f6bb1f878ed9d41f0e1": {
      "model_module": "@jupyter-widgets/controls",
      "model_module_version": "1.5.0",
      "model_name": "FloatProgressModel",
      "state": {
       "_dom_classes": [],
       "_model_module": "@jupyter-widgets/controls",
       "_model_module_version": "1.5.0",
       "_model_name": "FloatProgressModel",
       "_view_count": null,
       "_view_module": "@jupyter-widgets/controls",
       "_view_module_version": "1.5.0",
       "_view_name": "ProgressView",
       "bar_style": "success",
       "description": "",
       "description_tooltip": null,
       "layout": "IPY_MODEL_44c413e62e7b4077a8e5d549bdf9bad2",
       "max": 119.0,
       "min": 0.0,
       "orientation": "horizontal",
       "style": "IPY_MODEL_d0bb3c79291b4905a0de90a2e3eb69c3",
       "value": 119.0
      }
     },
     "4d252e805ded4d21a4adaafd18850978": {
      "model_module": "@jupyter-widgets/controls",
      "model_module_version": "1.5.0",
      "model_name": "HBoxModel",
      "state": {
       "_dom_classes": [],
       "_model_module": "@jupyter-widgets/controls",
       "_model_module_version": "1.5.0",
       "_model_name": "HBoxModel",
       "_view_count": null,
       "_view_module": "@jupyter-widgets/controls",
       "_view_module_version": "1.5.0",
       "_view_name": "HBoxView",
       "box_style": "",
       "children": [
        "IPY_MODEL_ef6c8e149dcf47a19fdb7fad68afee54",
        "IPY_MODEL_c286aaaa3516463ea2939da13ea106cf",
        "IPY_MODEL_8a3db39abbbf48879b3ec8a1eff0ec92"
       ],
       "layout": "IPY_MODEL_ee53ea78b7e14fa6b37e5cf894af95d7"
      }
     },
     "4dff6f04b4c646bfab86d09bda683a16": {
      "model_module": "@jupyter-widgets/base",
      "model_module_version": "1.2.0",
      "model_name": "LayoutModel",
      "state": {
       "_model_module": "@jupyter-widgets/base",
       "_model_module_version": "1.2.0",
       "_model_name": "LayoutModel",
       "_view_count": null,
       "_view_module": "@jupyter-widgets/base",
       "_view_module_version": "1.2.0",
       "_view_name": "LayoutView",
       "align_content": null,
       "align_items": null,
       "align_self": null,
       "border": null,
       "bottom": null,
       "display": null,
       "flex": null,
       "flex_flow": null,
       "grid_area": null,
       "grid_auto_columns": null,
       "grid_auto_flow": null,
       "grid_auto_rows": null,
       "grid_column": null,
       "grid_gap": null,
       "grid_row": null,
       "grid_template_areas": null,
       "grid_template_columns": null,
       "grid_template_rows": null,
       "height": null,
       "justify_content": null,
       "justify_items": null,
       "left": null,
       "margin": null,
       "max_height": null,
       "max_width": null,
       "min_height": null,
       "min_width": null,
       "object_fit": null,
       "object_position": null,
       "order": null,
       "overflow": null,
       "overflow_x": null,
       "overflow_y": null,
       "padding": null,
       "right": null,
       "top": null,
       "visibility": null,
       "width": null
      }
     },
     "522bdc9c677d4ecd9d22abcf7415a4e8": {
      "model_module": "@jupyter-widgets/base",
      "model_module_version": "1.2.0",
      "model_name": "LayoutModel",
      "state": {
       "_model_module": "@jupyter-widgets/base",
       "_model_module_version": "1.2.0",
       "_model_name": "LayoutModel",
       "_view_count": null,
       "_view_module": "@jupyter-widgets/base",
       "_view_module_version": "1.2.0",
       "_view_name": "LayoutView",
       "align_content": null,
       "align_items": null,
       "align_self": null,
       "border": null,
       "bottom": null,
       "display": null,
       "flex": null,
       "flex_flow": null,
       "grid_area": null,
       "grid_auto_columns": null,
       "grid_auto_flow": null,
       "grid_auto_rows": null,
       "grid_column": null,
       "grid_gap": null,
       "grid_row": null,
       "grid_template_areas": null,
       "grid_template_columns": null,
       "grid_template_rows": null,
       "height": null,
       "justify_content": null,
       "justify_items": null,
       "left": null,
       "margin": null,
       "max_height": null,
       "max_width": null,
       "min_height": null,
       "min_width": null,
       "object_fit": null,
       "object_position": null,
       "order": null,
       "overflow": null,
       "overflow_x": null,
       "overflow_y": null,
       "padding": null,
       "right": null,
       "top": null,
       "visibility": null,
       "width": null
      }
     },
     "5397a9f749674e51a81e478bc9555424": {
      "model_module": "@jupyter-widgets/base",
      "model_module_version": "1.2.0",
      "model_name": "LayoutModel",
      "state": {
       "_model_module": "@jupyter-widgets/base",
       "_model_module_version": "1.2.0",
       "_model_name": "LayoutModel",
       "_view_count": null,
       "_view_module": "@jupyter-widgets/base",
       "_view_module_version": "1.2.0",
       "_view_name": "LayoutView",
       "align_content": null,
       "align_items": null,
       "align_self": null,
       "border": null,
       "bottom": null,
       "display": null,
       "flex": null,
       "flex_flow": null,
       "grid_area": null,
       "grid_auto_columns": null,
       "grid_auto_flow": null,
       "grid_auto_rows": null,
       "grid_column": null,
       "grid_gap": null,
       "grid_row": null,
       "grid_template_areas": null,
       "grid_template_columns": null,
       "grid_template_rows": null,
       "height": null,
       "justify_content": null,
       "justify_items": null,
       "left": null,
       "margin": null,
       "max_height": null,
       "max_width": null,
       "min_height": null,
       "min_width": null,
       "object_fit": null,
       "object_position": null,
       "order": null,
       "overflow": null,
       "overflow_x": null,
       "overflow_y": null,
       "padding": null,
       "right": null,
       "top": null,
       "visibility": null,
       "width": null
      }
     },
     "553fbbdd26934a31905588a40f8470c8": {
      "model_module": "@jupyter-widgets/controls",
      "model_module_version": "1.5.0",
      "model_name": "FloatProgressModel",
      "state": {
       "_dom_classes": [],
       "_model_module": "@jupyter-widgets/controls",
       "_model_module_version": "1.5.0",
       "_model_name": "FloatProgressModel",
       "_view_count": null,
       "_view_module": "@jupyter-widgets/controls",
       "_view_module_version": "1.5.0",
       "_view_name": "ProgressView",
       "bar_style": "success",
       "description": "",
       "description_tooltip": null,
       "layout": "IPY_MODEL_06095c19bc7a4be6836156a88e57079c",
       "max": 1355863.0,
       "min": 0.0,
       "orientation": "horizontal",
       "style": "IPY_MODEL_8091e536bb944ffe8a2928153ecd451b",
       "value": 1355863.0
      }
     },
     "554a1994786749ec92221e218a0c2304": {
      "model_module": "@jupyter-widgets/base",
      "model_module_version": "1.2.0",
      "model_name": "LayoutModel",
      "state": {
       "_model_module": "@jupyter-widgets/base",
       "_model_module_version": "1.2.0",
       "_model_name": "LayoutModel",
       "_view_count": null,
       "_view_module": "@jupyter-widgets/base",
       "_view_module_version": "1.2.0",
       "_view_name": "LayoutView",
       "align_content": null,
       "align_items": null,
       "align_self": null,
       "border": null,
       "bottom": null,
       "display": null,
       "flex": null,
       "flex_flow": null,
       "grid_area": null,
       "grid_auto_columns": null,
       "grid_auto_flow": null,
       "grid_auto_rows": null,
       "grid_column": null,
       "grid_gap": null,
       "grid_row": null,
       "grid_template_areas": null,
       "grid_template_columns": null,
       "grid_template_rows": null,
       "height": null,
       "justify_content": null,
       "justify_items": null,
       "left": null,
       "margin": null,
       "max_height": null,
       "max_width": null,
       "min_height": null,
       "min_width": null,
       "object_fit": null,
       "object_position": null,
       "order": null,
       "overflow": null,
       "overflow_x": null,
       "overflow_y": null,
       "padding": null,
       "right": null,
       "top": null,
       "visibility": null,
       "width": null
      }
     },
     "557d648782e148bd8f9dfbadbba1899e": {
      "model_module": "@jupyter-widgets/controls",
      "model_module_version": "1.5.0",
      "model_name": "HTMLModel",
      "state": {
       "_dom_classes": [],
       "_model_module": "@jupyter-widgets/controls",
       "_model_module_version": "1.5.0",
       "_model_name": "HTMLModel",
       "_view_count": null,
       "_view_module": "@jupyter-widgets/controls",
       "_view_module_version": "1.5.0",
       "_view_name": "HTMLView",
       "description": "",
       "description_tooltip": null,
       "layout": "IPY_MODEL_5397a9f749674e51a81e478bc9555424",
       "placeholder": "​",
       "style": "IPY_MODEL_1c0aed3cccd64a71ba37271e0dff2e53",
       "value": " 438M/438M [00:01&lt;00:00, 210MB/s]"
      }
     },
     "55a7c4c7b4624ff6a9abf19d34a8c0f9": {
      "model_module": "@jupyter-widgets/controls",
      "model_module_version": "1.5.0",
      "model_name": "DescriptionStyleModel",
      "state": {
       "_model_module": "@jupyter-widgets/controls",
       "_model_module_version": "1.5.0",
       "_model_name": "DescriptionStyleModel",
       "_view_count": null,
       "_view_module": "@jupyter-widgets/base",
       "_view_module_version": "1.2.0",
       "_view_name": "StyleView",
       "description_width": ""
      }
     },
     "577cc1ef67bc4187b2281681acd0c318": {
      "model_module": "@jupyter-widgets/controls",
      "model_module_version": "1.5.0",
      "model_name": "HTMLModel",
      "state": {
       "_dom_classes": [],
       "_model_module": "@jupyter-widgets/controls",
       "_model_module_version": "1.5.0",
       "_model_name": "HTMLModel",
       "_view_count": null,
       "_view_module": "@jupyter-widgets/controls",
       "_view_module_version": "1.5.0",
       "_view_name": "HTMLView",
       "description": "",
       "description_tooltip": null,
       "layout": "IPY_MODEL_f3d80b651e2345d79ed6f47d819845c9",
       "placeholder": "​",
       "style": "IPY_MODEL_c08ce5277b7e43718dea090806e918a9",
       "value": " 158403/158403 [29:47&lt;00:00, 89.91it/s]"
      }
     },
     "587fb82da3c3462a99b28304b72b4b2e": {
      "model_module": "@jupyter-widgets/base",
      "model_module_version": "1.2.0",
      "model_name": "LayoutModel",
      "state": {
       "_model_module": "@jupyter-widgets/base",
       "_model_module_version": "1.2.0",
       "_model_name": "LayoutModel",
       "_view_count": null,
       "_view_module": "@jupyter-widgets/base",
       "_view_module_version": "1.2.0",
       "_view_name": "LayoutView",
       "align_content": null,
       "align_items": null,
       "align_self": null,
       "border": null,
       "bottom": null,
       "display": null,
       "flex": null,
       "flex_flow": null,
       "grid_area": null,
       "grid_auto_columns": null,
       "grid_auto_flow": null,
       "grid_auto_rows": null,
       "grid_column": null,
       "grid_gap": null,
       "grid_row": null,
       "grid_template_areas": null,
       "grid_template_columns": null,
       "grid_template_rows": null,
       "height": null,
       "justify_content": null,
       "justify_items": null,
       "left": null,
       "margin": null,
       "max_height": null,
       "max_width": null,
       "min_height": null,
       "min_width": null,
       "object_fit": null,
       "object_position": null,
       "order": null,
       "overflow": null,
       "overflow_x": null,
       "overflow_y": null,
       "padding": null,
       "right": null,
       "top": null,
       "visibility": null,
       "width": null
      }
     },
     "5be8109177aa4859868625c41331a873": {
      "model_module": "@jupyter-widgets/controls",
      "model_module_version": "1.5.0",
      "model_name": "HTMLModel",
      "state": {
       "_dom_classes": [],
       "_model_module": "@jupyter-widgets/controls",
       "_model_module_version": "1.5.0",
       "_model_name": "HTMLModel",
       "_view_count": null,
       "_view_module": "@jupyter-widgets/controls",
       "_view_module_version": "1.5.0",
       "_view_name": "HTMLView",
       "description": "",
       "description_tooltip": null,
       "layout": "IPY_MODEL_9ec7961acdb345aa9b49660bdbbf4b2a",
       "placeholder": "​",
       "style": "IPY_MODEL_c3a304167c6147c59a97a465de1f0cf7",
       "value": "model.safetensors: 100%"
      }
     },
     "5c0438f7e6f34d48b4c1857da590ca0b": {
      "model_module": "@jupyter-widgets/base",
      "model_module_version": "1.2.0",
      "model_name": "LayoutModel",
      "state": {
       "_model_module": "@jupyter-widgets/base",
       "_model_module_version": "1.2.0",
       "_model_name": "LayoutModel",
       "_view_count": null,
       "_view_module": "@jupyter-widgets/base",
       "_view_module_version": "1.2.0",
       "_view_name": "LayoutView",
       "align_content": null,
       "align_items": null,
       "align_self": null,
       "border": null,
       "bottom": null,
       "display": null,
       "flex": null,
       "flex_flow": null,
       "grid_area": null,
       "grid_auto_columns": null,
       "grid_auto_flow": null,
       "grid_auto_rows": null,
       "grid_column": null,
       "grid_gap": null,
       "grid_row": null,
       "grid_template_areas": null,
       "grid_template_columns": null,
       "grid_template_rows": null,
       "height": null,
       "justify_content": null,
       "justify_items": null,
       "left": null,
       "margin": null,
       "max_height": null,
       "max_width": null,
       "min_height": null,
       "min_width": null,
       "object_fit": null,
       "object_position": null,
       "order": null,
       "overflow": null,
       "overflow_x": null,
       "overflow_y": null,
       "padding": null,
       "right": null,
       "top": null,
       "visibility": null,
       "width": null
      }
     },
     "5d05f284e0ce440ca996af0bb796efc2": {
      "model_module": "@jupyter-widgets/controls",
      "model_module_version": "1.5.0",
      "model_name": "HBoxModel",
      "state": {
       "_dom_classes": [],
       "_model_module": "@jupyter-widgets/controls",
       "_model_module_version": "1.5.0",
       "_model_name": "HBoxModel",
       "_view_count": null,
       "_view_module": "@jupyter-widgets/controls",
       "_view_module_version": "1.5.0",
       "_view_name": "HBoxView",
       "box_style": "",
       "children": [
        "IPY_MODEL_0ec28f7bd9424278902c166cd9ea698d",
        "IPY_MODEL_ad8da0b935494da6a151bd85570741bf",
        "IPY_MODEL_322139b945a5494d864a82381010406b"
       ],
       "layout": "IPY_MODEL_2098cfb7f90a41fc9326484f276ffaec"
      }
     },
     "5e55c99e1ad34b69afab3ae66ff97a24": {
      "model_module": "@jupyter-widgets/controls",
      "model_module_version": "1.5.0",
      "model_name": "HBoxModel",
      "state": {
       "_dom_classes": [],
       "_model_module": "@jupyter-widgets/controls",
       "_model_module_version": "1.5.0",
       "_model_name": "HBoxModel",
       "_view_count": null,
       "_view_module": "@jupyter-widgets/controls",
       "_view_module_version": "1.5.0",
       "_view_name": "HBoxView",
       "box_style": "",
       "children": [
        "IPY_MODEL_2e0eeb6a43514ac698940aaa4a23ccf9",
        "IPY_MODEL_82cc843a4941495fa155ec409e420d96",
        "IPY_MODEL_8eae6c21ec7a4100bc70080f2392151b"
       ],
       "layout": "IPY_MODEL_554a1994786749ec92221e218a0c2304"
      }
     },
     "5e6f3206b5ed4a0aa5616893eb59f2ee": {
      "model_module": "@jupyter-widgets/controls",
      "model_module_version": "1.5.0",
      "model_name": "HBoxModel",
      "state": {
       "_dom_classes": [],
       "_model_module": "@jupyter-widgets/controls",
       "_model_module_version": "1.5.0",
       "_model_name": "HBoxModel",
       "_view_count": null,
       "_view_module": "@jupyter-widgets/controls",
       "_view_module_version": "1.5.0",
       "_view_name": "HBoxView",
       "box_style": "",
       "children": [
        "IPY_MODEL_796df3fbe4b94876b9fc68f57ce8015b",
        "IPY_MODEL_37e536b53ea345cfa297a4a1bb15ff78",
        "IPY_MODEL_73cffd28a05b49dca1ead6fd0211c5da"
       ],
       "layout": "IPY_MODEL_20b55226769f43d0ad7619766eb05f3e"
      }
     },
     "5f4fbe004f2d4bfb8de80cae4cb82b3c": {
      "model_module": "@jupyter-widgets/controls",
      "model_module_version": "1.5.0",
      "model_name": "ProgressStyleModel",
      "state": {
       "_model_module": "@jupyter-widgets/controls",
       "_model_module_version": "1.5.0",
       "_model_name": "ProgressStyleModel",
       "_view_count": null,
       "_view_module": "@jupyter-widgets/base",
       "_view_module_version": "1.2.0",
       "_view_name": "StyleView",
       "bar_color": null,
       "description_width": ""
      }
     },
     "5fb6871f4ecd4eb98ce128265f95d07f": {
      "model_module": "@jupyter-widgets/controls",
      "model_module_version": "1.5.0",
      "model_name": "HTMLModel",
      "state": {
       "_dom_classes": [],
       "_model_module": "@jupyter-widgets/controls",
       "_model_module_version": "1.5.0",
       "_model_name": "HTMLModel",
       "_view_count": null,
       "_view_module": "@jupyter-widgets/controls",
       "_view_module_version": "1.5.0",
       "_view_name": "HTMLView",
       "description": "",
       "description_tooltip": null,
       "layout": "IPY_MODEL_27d1fe1bbe184ba0b1aa6f192aae614f",
       "placeholder": "​",
       "style": "IPY_MODEL_06bcccbbaa03411ea9ae6bb114415a6f",
       "value": "tokenizer.json: 100%"
      }
     },
     "5feb66770432419bb50242328334be6e": {
      "model_module": "@jupyter-widgets/controls",
      "model_module_version": "1.5.0",
      "model_name": "DescriptionStyleModel",
      "state": {
       "_model_module": "@jupyter-widgets/controls",
       "_model_module_version": "1.5.0",
       "_model_name": "DescriptionStyleModel",
       "_view_count": null,
       "_view_module": "@jupyter-widgets/base",
       "_view_module_version": "1.2.0",
       "_view_name": "StyleView",
       "description_width": ""
      }
     },
     "605432d2b3dd4a6d852c1b6b02c627b1": {
      "model_module": "@jupyter-widgets/controls",
      "model_module_version": "1.5.0",
      "model_name": "DescriptionStyleModel",
      "state": {
       "_model_module": "@jupyter-widgets/controls",
       "_model_module_version": "1.5.0",
       "_model_name": "DescriptionStyleModel",
       "_view_count": null,
       "_view_module": "@jupyter-widgets/base",
       "_view_module_version": "1.2.0",
       "_view_name": "StyleView",
       "description_width": ""
      }
     },
     "6167f381fa4d4f74b1bf74794fce6322": {
      "model_module": "@jupyter-widgets/base",
      "model_module_version": "1.2.0",
      "model_name": "LayoutModel",
      "state": {
       "_model_module": "@jupyter-widgets/base",
       "_model_module_version": "1.2.0",
       "_model_name": "LayoutModel",
       "_view_count": null,
       "_view_module": "@jupyter-widgets/base",
       "_view_module_version": "1.2.0",
       "_view_name": "LayoutView",
       "align_content": null,
       "align_items": null,
       "align_self": null,
       "border": null,
       "bottom": null,
       "display": null,
       "flex": null,
       "flex_flow": null,
       "grid_area": null,
       "grid_auto_columns": null,
       "grid_auto_flow": null,
       "grid_auto_rows": null,
       "grid_column": null,
       "grid_gap": null,
       "grid_row": null,
       "grid_template_areas": null,
       "grid_template_columns": null,
       "grid_template_rows": null,
       "height": null,
       "justify_content": null,
       "justify_items": null,
       "left": null,
       "margin": null,
       "max_height": null,
       "max_width": null,
       "min_height": null,
       "min_width": null,
       "object_fit": null,
       "object_position": null,
       "order": null,
       "overflow": null,
       "overflow_x": null,
       "overflow_y": null,
       "padding": null,
       "right": null,
       "top": null,
       "visibility": null,
       "width": null
      }
     },
     "6568d6ee609b4ebb89f237ec834872bf": {
      "model_module": "@jupyter-widgets/controls",
      "model_module_version": "1.5.0",
      "model_name": "DescriptionStyleModel",
      "state": {
       "_model_module": "@jupyter-widgets/controls",
       "_model_module_version": "1.5.0",
       "_model_name": "DescriptionStyleModel",
       "_view_count": null,
       "_view_module": "@jupyter-widgets/base",
       "_view_module_version": "1.2.0",
       "_view_name": "StyleView",
       "description_width": ""
      }
     },
     "6661f4fb71b945dcae42ddcf56568267": {
      "model_module": "@jupyter-widgets/controls",
      "model_module_version": "1.5.0",
      "model_name": "DescriptionStyleModel",
      "state": {
       "_model_module": "@jupyter-widgets/controls",
       "_model_module_version": "1.5.0",
       "_model_name": "DescriptionStyleModel",
       "_view_count": null,
       "_view_module": "@jupyter-widgets/base",
       "_view_module_version": "1.2.0",
       "_view_name": "StyleView",
       "description_width": ""
      }
     },
     "671d5d7a7d32470084235aab6261b580": {
      "model_module": "@jupyter-widgets/controls",
      "model_module_version": "1.5.0",
      "model_name": "HTMLModel",
      "state": {
       "_dom_classes": [],
       "_model_module": "@jupyter-widgets/controls",
       "_model_module_version": "1.5.0",
       "_model_name": "HTMLModel",
       "_view_count": null,
       "_view_module": "@jupyter-widgets/controls",
       "_view_module_version": "1.5.0",
       "_view_name": "HTMLView",
       "description": "",
       "description_tooltip": null,
       "layout": "IPY_MODEL_da9497e04cc54896b104e246b973d266",
       "placeholder": "​",
       "style": "IPY_MODEL_e496dd281cab4fd69e0d268c41bcc24d",
       "value": "config.json: 100%"
      }
     },
     "67328baa3ece4987acf05f61784a44ac": {
      "model_module": "@jupyter-widgets/base",
      "model_module_version": "1.2.0",
      "model_name": "LayoutModel",
      "state": {
       "_model_module": "@jupyter-widgets/base",
       "_model_module_version": "1.2.0",
       "_model_name": "LayoutModel",
       "_view_count": null,
       "_view_module": "@jupyter-widgets/base",
       "_view_module_version": "1.2.0",
       "_view_name": "LayoutView",
       "align_content": null,
       "align_items": null,
       "align_self": null,
       "border": null,
       "bottom": null,
       "display": null,
       "flex": null,
       "flex_flow": null,
       "grid_area": null,
       "grid_auto_columns": null,
       "grid_auto_flow": null,
       "grid_auto_rows": null,
       "grid_column": null,
       "grid_gap": null,
       "grid_row": null,
       "grid_template_areas": null,
       "grid_template_columns": null,
       "grid_template_rows": null,
       "height": null,
       "justify_content": null,
       "justify_items": null,
       "left": null,
       "margin": null,
       "max_height": null,
       "max_width": null,
       "min_height": null,
       "min_width": null,
       "object_fit": null,
       "object_position": null,
       "order": null,
       "overflow": null,
       "overflow_x": null,
       "overflow_y": null,
       "padding": null,
       "right": null,
       "top": null,
       "visibility": null,
       "width": null
      }
     },
     "6b95c4599fe3450abe24b627ab9599a3": {
      "model_module": "@jupyter-widgets/base",
      "model_module_version": "1.2.0",
      "model_name": "LayoutModel",
      "state": {
       "_model_module": "@jupyter-widgets/base",
       "_model_module_version": "1.2.0",
       "_model_name": "LayoutModel",
       "_view_count": null,
       "_view_module": "@jupyter-widgets/base",
       "_view_module_version": "1.2.0",
       "_view_name": "LayoutView",
       "align_content": null,
       "align_items": null,
       "align_self": null,
       "border": null,
       "bottom": null,
       "display": null,
       "flex": null,
       "flex_flow": null,
       "grid_area": null,
       "grid_auto_columns": null,
       "grid_auto_flow": null,
       "grid_auto_rows": null,
       "grid_column": null,
       "grid_gap": null,
       "grid_row": null,
       "grid_template_areas": null,
       "grid_template_columns": null,
       "grid_template_rows": null,
       "height": null,
       "justify_content": null,
       "justify_items": null,
       "left": null,
       "margin": null,
       "max_height": null,
       "max_width": null,
       "min_height": null,
       "min_width": null,
       "object_fit": null,
       "object_position": null,
       "order": null,
       "overflow": null,
       "overflow_x": null,
       "overflow_y": null,
       "padding": null,
       "right": null,
       "top": null,
       "visibility": null,
       "width": null
      }
     },
     "71a45145aeb04d9f8e27aa52f855f69c": {
      "model_module": "@jupyter-widgets/controls",
      "model_module_version": "1.5.0",
      "model_name": "FloatProgressModel",
      "state": {
       "_dom_classes": [],
       "_model_module": "@jupyter-widgets/controls",
       "_model_module_version": "1.5.0",
       "_model_name": "FloatProgressModel",
       "_view_count": null,
       "_view_module": "@jupyter-widgets/controls",
       "_view_module_version": "1.5.0",
       "_view_name": "ProgressView",
       "bar_style": "success",
       "description": "",
       "description_tooltip": null,
       "layout": "IPY_MODEL_850e7ed5d55749a4a555d8df99b5fb71",
       "max": 437975140.0,
       "min": 0.0,
       "orientation": "horizontal",
       "style": "IPY_MODEL_e81b9e5cee06404882fb26d417367af6",
       "value": 437975140.0
      }
     },
     "71e3bf1a3e29455d9e7e01c65ad5a131": {
      "model_module": "@jupyter-widgets/controls",
      "model_module_version": "1.5.0",
      "model_name": "DescriptionStyleModel",
      "state": {
       "_model_module": "@jupyter-widgets/controls",
       "_model_module_version": "1.5.0",
       "_model_name": "DescriptionStyleModel",
       "_view_count": null,
       "_view_module": "@jupyter-widgets/base",
       "_view_module_version": "1.2.0",
       "_view_name": "StyleView",
       "description_width": ""
      }
     },
     "7248e29bccef4f6e987017a850e5b196": {
      "model_module": "@jupyter-widgets/controls",
      "model_module_version": "1.5.0",
      "model_name": "HBoxModel",
      "state": {
       "_dom_classes": [],
       "_model_module": "@jupyter-widgets/controls",
       "_model_module_version": "1.5.0",
       "_model_name": "HBoxModel",
       "_view_count": null,
       "_view_module": "@jupyter-widgets/controls",
       "_view_module_version": "1.5.0",
       "_view_name": "HBoxView",
       "box_style": "",
       "children": [
        "IPY_MODEL_3404c2b110ac40fbbe4c3e855c164f47",
        "IPY_MODEL_a5221b846f024fbc9836ce0468d6b9db",
        "IPY_MODEL_039a0f25a23946bc94c67fb597eae147"
       ],
       "layout": "IPY_MODEL_c328b7a104a746deabb3a08078815898"
      }
     },
     "7279c14bd49546689258c38aa730d939": {
      "model_module": "@jupyter-widgets/base",
      "model_module_version": "1.2.0",
      "model_name": "LayoutModel",
      "state": {
       "_model_module": "@jupyter-widgets/base",
       "_model_module_version": "1.2.0",
       "_model_name": "LayoutModel",
       "_view_count": null,
       "_view_module": "@jupyter-widgets/base",
       "_view_module_version": "1.2.0",
       "_view_name": "LayoutView",
       "align_content": null,
       "align_items": null,
       "align_self": null,
       "border": null,
       "bottom": null,
       "display": null,
       "flex": null,
       "flex_flow": null,
       "grid_area": null,
       "grid_auto_columns": null,
       "grid_auto_flow": null,
       "grid_auto_rows": null,
       "grid_column": null,
       "grid_gap": null,
       "grid_row": null,
       "grid_template_areas": null,
       "grid_template_columns": null,
       "grid_template_rows": null,
       "height": null,
       "justify_content": null,
       "justify_items": null,
       "left": null,
       "margin": null,
       "max_height": null,
       "max_width": null,
       "min_height": null,
       "min_width": null,
       "object_fit": null,
       "object_position": null,
       "order": null,
       "overflow": null,
       "overflow_x": null,
       "overflow_y": null,
       "padding": null,
       "right": null,
       "top": null,
       "visibility": null,
       "width": null
      }
     },
     "73256e73a0ed475c8f4db1aabb12726b": {
      "model_module": "@jupyter-widgets/controls",
      "model_module_version": "1.5.0",
      "model_name": "ProgressStyleModel",
      "state": {
       "_model_module": "@jupyter-widgets/controls",
       "_model_module_version": "1.5.0",
       "_model_name": "ProgressStyleModel",
       "_view_count": null,
       "_view_module": "@jupyter-widgets/base",
       "_view_module_version": "1.2.0",
       "_view_name": "StyleView",
       "bar_color": null,
       "description_width": ""
      }
     },
     "73cffd28a05b49dca1ead6fd0211c5da": {
      "model_module": "@jupyter-widgets/controls",
      "model_module_version": "1.5.0",
      "model_name": "HTMLModel",
      "state": {
       "_dom_classes": [],
       "_model_module": "@jupyter-widgets/controls",
       "_model_module_version": "1.5.0",
       "_model_name": "HTMLModel",
       "_view_count": null,
       "_view_module": "@jupyter-widgets/controls",
       "_view_module_version": "1.5.0",
       "_view_name": "HTMLView",
       "description": "",
       "description_tooltip": null,
       "layout": "IPY_MODEL_c014be7446c6488d9cd80e2bf4b6511b",
       "placeholder": "​",
       "style": "IPY_MODEL_81544fb1be11427da814b026ed8ce0db",
       "value": " 112/112 [00:00&lt;00:00, 9.51kB/s]"
      }
     },
     "74eeaf2d7d5c49138f10016dfb34e921": {
      "model_module": "@jupyter-widgets/controls",
      "model_module_version": "1.5.0",
      "model_name": "DescriptionStyleModel",
      "state": {
       "_model_module": "@jupyter-widgets/controls",
       "_model_module_version": "1.5.0",
       "_model_name": "DescriptionStyleModel",
       "_view_count": null,
       "_view_module": "@jupyter-widgets/base",
       "_view_module_version": "1.2.0",
       "_view_name": "StyleView",
       "description_width": ""
      }
     },
     "7536ec061f874247888ad1ce42b01b1e": {
      "model_module": "@jupyter-widgets/base",
      "model_module_version": "1.2.0",
      "model_name": "LayoutModel",
      "state": {
       "_model_module": "@jupyter-widgets/base",
       "_model_module_version": "1.2.0",
       "_model_name": "LayoutModel",
       "_view_count": null,
       "_view_module": "@jupyter-widgets/base",
       "_view_module_version": "1.2.0",
       "_view_name": "LayoutView",
       "align_content": null,
       "align_items": null,
       "align_self": null,
       "border": null,
       "bottom": null,
       "display": null,
       "flex": null,
       "flex_flow": null,
       "grid_area": null,
       "grid_auto_columns": null,
       "grid_auto_flow": null,
       "grid_auto_rows": null,
       "grid_column": null,
       "grid_gap": null,
       "grid_row": null,
       "grid_template_areas": null,
       "grid_template_columns": null,
       "grid_template_rows": null,
       "height": null,
       "justify_content": null,
       "justify_items": null,
       "left": null,
       "margin": null,
       "max_height": null,
       "max_width": null,
       "min_height": null,
       "min_width": null,
       "object_fit": null,
       "object_position": null,
       "order": null,
       "overflow": null,
       "overflow_x": null,
       "overflow_y": null,
       "padding": null,
       "right": null,
       "top": null,
       "visibility": null,
       "width": null
      }
     },
     "7838d2f696a74130bcf8a0cda97ea7e1": {
      "model_module": "@jupyter-widgets/controls",
      "model_module_version": "1.5.0",
      "model_name": "HTMLModel",
      "state": {
       "_dom_classes": [],
       "_model_module": "@jupyter-widgets/controls",
       "_model_module_version": "1.5.0",
       "_model_name": "HTMLModel",
       "_view_count": null,
       "_view_module": "@jupyter-widgets/controls",
       "_view_module_version": "1.5.0",
       "_view_name": "HTMLView",
       "description": "",
       "description_tooltip": null,
       "layout": "IPY_MODEL_a22b889c21064d05b416bd35dec5b344",
       "placeholder": "​",
       "style": "IPY_MODEL_1d21e22229b84937a3433f1f6437f0db",
       "value": " 100/100 [00:01&lt;00:00, 68.84it/s]"
      }
     },
     "788a17e579ff4360a191ec846eb529fd": {
      "model_module": "@jupyter-widgets/base",
      "model_module_version": "1.2.0",
      "model_name": "LayoutModel",
      "state": {
       "_model_module": "@jupyter-widgets/base",
       "_model_module_version": "1.2.0",
       "_model_name": "LayoutModel",
       "_view_count": null,
       "_view_module": "@jupyter-widgets/base",
       "_view_module_version": "1.2.0",
       "_view_name": "LayoutView",
       "align_content": null,
       "align_items": null,
       "align_self": null,
       "border": null,
       "bottom": null,
       "display": null,
       "flex": null,
       "flex_flow": null,
       "grid_area": null,
       "grid_auto_columns": null,
       "grid_auto_flow": null,
       "grid_auto_rows": null,
       "grid_column": null,
       "grid_gap": null,
       "grid_row": null,
       "grid_template_areas": null,
       "grid_template_columns": null,
       "grid_template_rows": null,
       "height": null,
       "justify_content": null,
       "justify_items": null,
       "left": null,
       "margin": null,
       "max_height": null,
       "max_width": null,
       "min_height": null,
       "min_width": null,
       "object_fit": null,
       "object_position": null,
       "order": null,
       "overflow": null,
       "overflow_x": null,
       "overflow_y": null,
       "padding": null,
       "right": null,
       "top": null,
       "visibility": null,
       "width": null
      }
     },
     "79129d79f9cf4fa2b719c503f8879ab4": {
      "model_module": "@jupyter-widgets/controls",
      "model_module_version": "1.5.0",
      "model_name": "HBoxModel",
      "state": {
       "_dom_classes": [],
       "_model_module": "@jupyter-widgets/controls",
       "_model_module_version": "1.5.0",
       "_model_name": "HBoxModel",
       "_view_count": null,
       "_view_module": "@jupyter-widgets/controls",
       "_view_module_version": "1.5.0",
       "_view_name": "HBoxView",
       "box_style": "",
       "children": [
        "IPY_MODEL_3f9cdaa9da8c4a9f9246fcab9df83832",
        "IPY_MODEL_f0221b930abd43bfb3e3068dc7130d57",
        "IPY_MODEL_b8235b2469244f71956fe8182a5d4e9a"
       ],
       "layout": "IPY_MODEL_f0e0bea4370842eea105fcded5b21cc7"
      }
     },
     "796df3fbe4b94876b9fc68f57ce8015b": {
      "model_module": "@jupyter-widgets/controls",
      "model_module_version": "1.5.0",
      "model_name": "HTMLModel",
      "state": {
       "_dom_classes": [],
       "_model_module": "@jupyter-widgets/controls",
       "_model_module_version": "1.5.0",
       "_model_name": "HTMLModel",
       "_view_count": null,
       "_view_module": "@jupyter-widgets/controls",
       "_view_module_version": "1.5.0",
       "_view_name": "HTMLView",
       "description": "",
       "description_tooltip": null,
       "layout": "IPY_MODEL_eaa8617eb12d4ae09791ed31e11af095",
       "placeholder": "​",
       "style": "IPY_MODEL_894ce93df54b4f529d151a648344676a",
       "value": "special_tokens_map.json: 100%"
      }
     },
     "7ad1345323b943d19ae911e357deae5c": {
      "model_module": "@jupyter-widgets/base",
      "model_module_version": "1.2.0",
      "model_name": "LayoutModel",
      "state": {
       "_model_module": "@jupyter-widgets/base",
       "_model_module_version": "1.2.0",
       "_model_name": "LayoutModel",
       "_view_count": null,
       "_view_module": "@jupyter-widgets/base",
       "_view_module_version": "1.2.0",
       "_view_name": "LayoutView",
       "align_content": null,
       "align_items": null,
       "align_self": null,
       "border": null,
       "bottom": null,
       "display": null,
       "flex": null,
       "flex_flow": null,
       "grid_area": null,
       "grid_auto_columns": null,
       "grid_auto_flow": null,
       "grid_auto_rows": null,
       "grid_column": null,
       "grid_gap": null,
       "grid_row": null,
       "grid_template_areas": null,
       "grid_template_columns": null,
       "grid_template_rows": null,
       "height": null,
       "justify_content": null,
       "justify_items": null,
       "left": null,
       "margin": null,
       "max_height": null,
       "max_width": null,
       "min_height": null,
       "min_width": null,
       "object_fit": null,
       "object_position": null,
       "order": null,
       "overflow": null,
       "overflow_x": null,
       "overflow_y": null,
       "padding": null,
       "right": null,
       "top": null,
       "visibility": null,
       "width": null
      }
     },
     "7c02e415516749c887a8666f32eefda9": {
      "model_module": "@jupyter-widgets/controls",
      "model_module_version": "1.5.0",
      "model_name": "HBoxModel",
      "state": {
       "_dom_classes": [],
       "_model_module": "@jupyter-widgets/controls",
       "_model_module_version": "1.5.0",
       "_model_name": "HBoxModel",
       "_view_count": null,
       "_view_module": "@jupyter-widgets/controls",
       "_view_module_version": "1.5.0",
       "_view_name": "HBoxView",
       "box_style": "",
       "children": [
        "IPY_MODEL_a3cc516d30f640089c33c2841350a85d",
        "IPY_MODEL_4914bdab5d694f6bb1f878ed9d41f0e1",
        "IPY_MODEL_269a72d481714375853e1fecadb71082"
       ],
       "layout": "IPY_MODEL_df345bb69e43407cb4364ff3141478b3"
      }
     },
     "7e80d82a52a344beb82c993b9f18ba5c": {
      "model_module": "@jupyter-widgets/base",
      "model_module_version": "1.2.0",
      "model_name": "LayoutModel",
      "state": {
       "_model_module": "@jupyter-widgets/base",
       "_model_module_version": "1.2.0",
       "_model_name": "LayoutModel",
       "_view_count": null,
       "_view_module": "@jupyter-widgets/base",
       "_view_module_version": "1.2.0",
       "_view_name": "LayoutView",
       "align_content": null,
       "align_items": null,
       "align_self": null,
       "border": null,
       "bottom": null,
       "display": null,
       "flex": null,
       "flex_flow": null,
       "grid_area": null,
       "grid_auto_columns": null,
       "grid_auto_flow": null,
       "grid_auto_rows": null,
       "grid_column": null,
       "grid_gap": null,
       "grid_row": null,
       "grid_template_areas": null,
       "grid_template_columns": null,
       "grid_template_rows": null,
       "height": null,
       "justify_content": null,
       "justify_items": null,
       "left": null,
       "margin": null,
       "max_height": null,
       "max_width": null,
       "min_height": null,
       "min_width": null,
       "object_fit": null,
       "object_position": null,
       "order": null,
       "overflow": null,
       "overflow_x": null,
       "overflow_y": null,
       "padding": null,
       "right": null,
       "top": null,
       "visibility": null,
       "width": null
      }
     },
     "7f2c85acf10b4112842a108f2c835d22": {
      "model_module": "@jupyter-widgets/base",
      "model_module_version": "1.2.0",
      "model_name": "LayoutModel",
      "state": {
       "_model_module": "@jupyter-widgets/base",
       "_model_module_version": "1.2.0",
       "_model_name": "LayoutModel",
       "_view_count": null,
       "_view_module": "@jupyter-widgets/base",
       "_view_module_version": "1.2.0",
       "_view_name": "LayoutView",
       "align_content": null,
       "align_items": null,
       "align_self": null,
       "border": null,
       "bottom": null,
       "display": null,
       "flex": null,
       "flex_flow": null,
       "grid_area": null,
       "grid_auto_columns": null,
       "grid_auto_flow": null,
       "grid_auto_rows": null,
       "grid_column": null,
       "grid_gap": null,
       "grid_row": null,
       "grid_template_areas": null,
       "grid_template_columns": null,
       "grid_template_rows": null,
       "height": null,
       "justify_content": null,
       "justify_items": null,
       "left": null,
       "margin": null,
       "max_height": null,
       "max_width": null,
       "min_height": null,
       "min_width": null,
       "object_fit": null,
       "object_position": null,
       "order": null,
       "overflow": null,
       "overflow_x": null,
       "overflow_y": null,
       "padding": null,
       "right": null,
       "top": null,
       "visibility": null,
       "width": null
      }
     },
     "8091e536bb944ffe8a2928153ecd451b": {
      "model_module": "@jupyter-widgets/controls",
      "model_module_version": "1.5.0",
      "model_name": "ProgressStyleModel",
      "state": {
       "_model_module": "@jupyter-widgets/controls",
       "_model_module_version": "1.5.0",
       "_model_name": "ProgressStyleModel",
       "_view_count": null,
       "_view_module": "@jupyter-widgets/base",
       "_view_module_version": "1.2.0",
       "_view_name": "StyleView",
       "bar_color": null,
       "description_width": ""
      }
     },
     "80b8a439c0784e33a585d157291b78d3": {
      "model_module": "@jupyter-widgets/controls",
      "model_module_version": "1.5.0",
      "model_name": "HTMLModel",
      "state": {
       "_dom_classes": [],
       "_model_module": "@jupyter-widgets/controls",
       "_model_module_version": "1.5.0",
       "_model_name": "HTMLModel",
       "_view_count": null,
       "_view_module": "@jupyter-widgets/controls",
       "_view_module_version": "1.5.0",
       "_view_name": "HTMLView",
       "description": "",
       "description_tooltip": null,
       "layout": "IPY_MODEL_e66930cff3a54bc8817f315fc4a71c07",
       "placeholder": "​",
       "style": "IPY_MODEL_84b65b24a6be437385759da19bde0932",
       "value": "tokenizer_config.json: 100%"
      }
     },
     "81544fb1be11427da814b026ed8ce0db": {
      "model_module": "@jupyter-widgets/controls",
      "model_module_version": "1.5.0",
      "model_name": "DescriptionStyleModel",
      "state": {
       "_model_module": "@jupyter-widgets/controls",
       "_model_module_version": "1.5.0",
       "_model_name": "DescriptionStyleModel",
       "_view_count": null,
       "_view_module": "@jupyter-widgets/base",
       "_view_module_version": "1.2.0",
       "_view_name": "StyleView",
       "description_width": ""
      }
     },
     "82cc843a4941495fa155ec409e420d96": {
      "model_module": "@jupyter-widgets/controls",
      "model_module_version": "1.5.0",
      "model_name": "FloatProgressModel",
      "state": {
       "_dom_classes": [],
       "_model_module": "@jupyter-widgets/controls",
       "_model_module_version": "1.5.0",
       "_model_name": "FloatProgressModel",
       "_view_count": null,
       "_view_module": "@jupyter-widgets/controls",
       "_view_module_version": "1.5.0",
       "_view_name": "ProgressView",
       "bar_style": "success",
       "description": "",
       "description_tooltip": null,
       "layout": "IPY_MODEL_e7f1c5b78cf443a396eb8b6e4ed05ed7",
       "max": 898822.0,
       "min": 0.0,
       "orientation": "horizontal",
       "style": "IPY_MODEL_a3739b94dcca48a9bb92089aad21b944",
       "value": 898822.0
      }
     },
     "83e6bea0612b4bbd975ed53534ef11b1": {
      "model_module": "@jupyter-widgets/controls",
      "model_module_version": "1.5.0",
      "model_name": "HBoxModel",
      "state": {
       "_dom_classes": [],
       "_model_module": "@jupyter-widgets/controls",
       "_model_module_version": "1.5.0",
       "_model_name": "HBoxModel",
       "_view_count": null,
       "_view_module": "@jupyter-widgets/controls",
       "_view_module_version": "1.5.0",
       "_view_name": "HBoxView",
       "box_style": "",
       "children": [
        "IPY_MODEL_c771b27bff904f848508462d621cd147",
        "IPY_MODEL_030342d10f904091845ab37bdc9a6804",
        "IPY_MODEL_b9e8db18fbda419eb5c3f46ad771ac40"
       ],
       "layout": "IPY_MODEL_93bff59c5afe477a85916bf67d687310"
      }
     },
     "844ab89bd1de4606aefa807cb249962a": {
      "model_module": "@jupyter-widgets/controls",
      "model_module_version": "1.5.0",
      "model_name": "DescriptionStyleModel",
      "state": {
       "_model_module": "@jupyter-widgets/controls",
       "_model_module_version": "1.5.0",
       "_model_name": "DescriptionStyleModel",
       "_view_count": null,
       "_view_module": "@jupyter-widgets/base",
       "_view_module_version": "1.2.0",
       "_view_name": "StyleView",
       "description_width": ""
      }
     },
     "84b65b24a6be437385759da19bde0932": {
      "model_module": "@jupyter-widgets/controls",
      "model_module_version": "1.5.0",
      "model_name": "DescriptionStyleModel",
      "state": {
       "_model_module": "@jupyter-widgets/controls",
       "_model_module_version": "1.5.0",
       "_model_name": "DescriptionStyleModel",
       "_view_count": null,
       "_view_module": "@jupyter-widgets/base",
       "_view_module_version": "1.2.0",
       "_view_name": "StyleView",
       "description_width": ""
      }
     },
     "84bab63c0e254fcc87d9572587379167": {
      "model_module": "@jupyter-widgets/controls",
      "model_module_version": "1.5.0",
      "model_name": "DescriptionStyleModel",
      "state": {
       "_model_module": "@jupyter-widgets/controls",
       "_model_module_version": "1.5.0",
       "_model_name": "DescriptionStyleModel",
       "_view_count": null,
       "_view_module": "@jupyter-widgets/base",
       "_view_module_version": "1.2.0",
       "_view_name": "StyleView",
       "description_width": ""
      }
     },
     "850e7ed5d55749a4a555d8df99b5fb71": {
      "model_module": "@jupyter-widgets/base",
      "model_module_version": "1.2.0",
      "model_name": "LayoutModel",
      "state": {
       "_model_module": "@jupyter-widgets/base",
       "_model_module_version": "1.2.0",
       "_model_name": "LayoutModel",
       "_view_count": null,
       "_view_module": "@jupyter-widgets/base",
       "_view_module_version": "1.2.0",
       "_view_name": "LayoutView",
       "align_content": null,
       "align_items": null,
       "align_self": null,
       "border": null,
       "bottom": null,
       "display": null,
       "flex": null,
       "flex_flow": null,
       "grid_area": null,
       "grid_auto_columns": null,
       "grid_auto_flow": null,
       "grid_auto_rows": null,
       "grid_column": null,
       "grid_gap": null,
       "grid_row": null,
       "grid_template_areas": null,
       "grid_template_columns": null,
       "grid_template_rows": null,
       "height": null,
       "justify_content": null,
       "justify_items": null,
       "left": null,
       "margin": null,
       "max_height": null,
       "max_width": null,
       "min_height": null,
       "min_width": null,
       "object_fit": null,
       "object_position": null,
       "order": null,
       "overflow": null,
       "overflow_x": null,
       "overflow_y": null,
       "padding": null,
       "right": null,
       "top": null,
       "visibility": null,
       "width": null
      }
     },
     "85f74c69ddbe410fb6614386dd38c8c3": {
      "model_module": "@jupyter-widgets/controls",
      "model_module_version": "1.5.0",
      "model_name": "FloatProgressModel",
      "state": {
       "_dom_classes": [],
       "_model_module": "@jupyter-widgets/controls",
       "_model_module_version": "1.5.0",
       "_model_name": "FloatProgressModel",
       "_view_count": null,
       "_view_module": "@jupyter-widgets/controls",
       "_view_module_version": "1.5.0",
       "_view_name": "ProgressView",
       "bar_style": "success",
       "description": "",
       "description_tooltip": null,
       "layout": "IPY_MODEL_d64a72e2e32b428cb34ead37d7213023",
       "max": 285.0,
       "min": 0.0,
       "orientation": "horizontal",
       "style": "IPY_MODEL_30fbf75581364729aaf540d5dea47528",
       "value": 285.0
      }
     },
     "861f8e94b6194747acbaa96844f0e5a2": {
      "model_module": "@jupyter-widgets/controls",
      "model_module_version": "1.5.0",
      "model_name": "DescriptionStyleModel",
      "state": {
       "_model_module": "@jupyter-widgets/controls",
       "_model_module_version": "1.5.0",
       "_model_name": "DescriptionStyleModel",
       "_view_count": null,
       "_view_module": "@jupyter-widgets/base",
       "_view_module_version": "1.2.0",
       "_view_name": "StyleView",
       "description_width": ""
      }
     },
     "8639cb5ec664433ea192611045efd6e0": {
      "model_module": "@jupyter-widgets/base",
      "model_module_version": "1.2.0",
      "model_name": "LayoutModel",
      "state": {
       "_model_module": "@jupyter-widgets/base",
       "_model_module_version": "1.2.0",
       "_model_name": "LayoutModel",
       "_view_count": null,
       "_view_module": "@jupyter-widgets/base",
       "_view_module_version": "1.2.0",
       "_view_name": "LayoutView",
       "align_content": null,
       "align_items": null,
       "align_self": null,
       "border": null,
       "bottom": null,
       "display": null,
       "flex": null,
       "flex_flow": null,
       "grid_area": null,
       "grid_auto_columns": null,
       "grid_auto_flow": null,
       "grid_auto_rows": null,
       "grid_column": null,
       "grid_gap": null,
       "grid_row": null,
       "grid_template_areas": null,
       "grid_template_columns": null,
       "grid_template_rows": null,
       "height": null,
       "justify_content": null,
       "justify_items": null,
       "left": null,
       "margin": null,
       "max_height": null,
       "max_width": null,
       "min_height": null,
       "min_width": null,
       "object_fit": null,
       "object_position": null,
       "order": null,
       "overflow": null,
       "overflow_x": null,
       "overflow_y": null,
       "padding": null,
       "right": null,
       "top": null,
       "visibility": null,
       "width": null
      }
     },
     "86aecbd8128b4dda9671db6cea94c7b0": {
      "model_module": "@jupyter-widgets/base",
      "model_module_version": "1.2.0",
      "model_name": "LayoutModel",
      "state": {
       "_model_module": "@jupyter-widgets/base",
       "_model_module_version": "1.2.0",
       "_model_name": "LayoutModel",
       "_view_count": null,
       "_view_module": "@jupyter-widgets/base",
       "_view_module_version": "1.2.0",
       "_view_name": "LayoutView",
       "align_content": null,
       "align_items": null,
       "align_self": null,
       "border": null,
       "bottom": null,
       "display": null,
       "flex": null,
       "flex_flow": null,
       "grid_area": null,
       "grid_auto_columns": null,
       "grid_auto_flow": null,
       "grid_auto_rows": null,
       "grid_column": null,
       "grid_gap": null,
       "grid_row": null,
       "grid_template_areas": null,
       "grid_template_columns": null,
       "grid_template_rows": null,
       "height": null,
       "justify_content": null,
       "justify_items": null,
       "left": null,
       "margin": null,
       "max_height": null,
       "max_width": null,
       "min_height": null,
       "min_width": null,
       "object_fit": null,
       "object_position": null,
       "order": null,
       "overflow": null,
       "overflow_x": null,
       "overflow_y": null,
       "padding": null,
       "right": null,
       "top": null,
       "visibility": null,
       "width": null
      }
     },
     "88151db398aa42a7a458a5b7939f4829": {
      "model_module": "@jupyter-widgets/controls",
      "model_module_version": "1.5.0",
      "model_name": "DescriptionStyleModel",
      "state": {
       "_model_module": "@jupyter-widgets/controls",
       "_model_module_version": "1.5.0",
       "_model_name": "DescriptionStyleModel",
       "_view_count": null,
       "_view_module": "@jupyter-widgets/base",
       "_view_module_version": "1.2.0",
       "_view_name": "StyleView",
       "description_width": ""
      }
     },
     "8845cb38965c42e6bc87a527541ee91b": {
      "model_module": "@jupyter-widgets/base",
      "model_module_version": "1.2.0",
      "model_name": "LayoutModel",
      "state": {
       "_model_module": "@jupyter-widgets/base",
       "_model_module_version": "1.2.0",
       "_model_name": "LayoutModel",
       "_view_count": null,
       "_view_module": "@jupyter-widgets/base",
       "_view_module_version": "1.2.0",
       "_view_name": "LayoutView",
       "align_content": null,
       "align_items": null,
       "align_self": null,
       "border": null,
       "bottom": null,
       "display": null,
       "flex": null,
       "flex_flow": null,
       "grid_area": null,
       "grid_auto_columns": null,
       "grid_auto_flow": null,
       "grid_auto_rows": null,
       "grid_column": null,
       "grid_gap": null,
       "grid_row": null,
       "grid_template_areas": null,
       "grid_template_columns": null,
       "grid_template_rows": null,
       "height": null,
       "justify_content": null,
       "justify_items": null,
       "left": null,
       "margin": null,
       "max_height": null,
       "max_width": null,
       "min_height": null,
       "min_width": null,
       "object_fit": null,
       "object_position": null,
       "order": null,
       "overflow": null,
       "overflow_x": null,
       "overflow_y": null,
       "padding": null,
       "right": null,
       "top": null,
       "visibility": null,
       "width": null
      }
     },
     "88912f5623f14177a2888d57a08b6101": {
      "model_module": "@jupyter-widgets/controls",
      "model_module_version": "1.5.0",
      "model_name": "HTMLModel",
      "state": {
       "_dom_classes": [],
       "_model_module": "@jupyter-widgets/controls",
       "_model_module_version": "1.5.0",
       "_model_name": "HTMLModel",
       "_view_count": null,
       "_view_module": "@jupyter-widgets/controls",
       "_view_module_version": "1.5.0",
       "_view_name": "HTMLView",
       "description": "",
       "description_tooltip": null,
       "layout": "IPY_MODEL_971ec758dccd4c33a8d9e54947a4149b",
       "placeholder": "​",
       "style": "IPY_MODEL_844ab89bd1de4606aefa807cb249962a",
       "value": "tokenizer_config.json: 100%"
      }
     },
     "894ce93df54b4f529d151a648344676a": {
      "model_module": "@jupyter-widgets/controls",
      "model_module_version": "1.5.0",
      "model_name": "DescriptionStyleModel",
      "state": {
       "_model_module": "@jupyter-widgets/controls",
       "_model_module_version": "1.5.0",
       "_model_name": "DescriptionStyleModel",
       "_view_count": null,
       "_view_module": "@jupyter-widgets/base",
       "_view_module_version": "1.2.0",
       "_view_name": "StyleView",
       "description_width": ""
      }
     },
     "8a3db39abbbf48879b3ec8a1eff0ec92": {
      "model_module": "@jupyter-widgets/controls",
      "model_module_version": "1.5.0",
      "model_name": "HTMLModel",
      "state": {
       "_dom_classes": [],
       "_model_module": "@jupyter-widgets/controls",
       "_model_module_version": "1.5.0",
       "_model_name": "HTMLModel",
       "_view_count": null,
       "_view_module": "@jupyter-widgets/controls",
       "_view_module_version": "1.5.0",
       "_view_name": "HTMLView",
       "description": "",
       "description_tooltip": null,
       "layout": "IPY_MODEL_e7b10b140d8c47cc938ce6484c570930",
       "placeholder": "​",
       "style": "IPY_MODEL_6661f4fb71b945dcae42ddcf56568267",
       "value": " 466k/466k [00:00&lt;00:00, 1.91MB/s]"
      }
     },
     "8bdb91abcb6c4599bd75afc4ea029e07": {
      "model_module": "@jupyter-widgets/controls",
      "model_module_version": "1.5.0",
      "model_name": "HBoxModel",
      "state": {
       "_dom_classes": [],
       "_model_module": "@jupyter-widgets/controls",
       "_model_module_version": "1.5.0",
       "_model_name": "HBoxModel",
       "_view_count": null,
       "_view_module": "@jupyter-widgets/controls",
       "_view_module_version": "1.5.0",
       "_view_name": "HBoxView",
       "box_style": "",
       "children": [
        "IPY_MODEL_9797af2864044e2ea5b27d5a50b57e4f",
        "IPY_MODEL_71a45145aeb04d9f8e27aa52f855f69c",
        "IPY_MODEL_557d648782e148bd8f9dfbadbba1899e"
       ],
       "layout": "IPY_MODEL_971ec8c996324f1b9d58b0479f69716e"
      }
     },
     "8be865dda8bc4f60a74f2b797b4511e1": {
      "model_module": "@jupyter-widgets/controls",
      "model_module_version": "1.5.0",
      "model_name": "DescriptionStyleModel",
      "state": {
       "_model_module": "@jupyter-widgets/controls",
       "_model_module_version": "1.5.0",
       "_model_name": "DescriptionStyleModel",
       "_view_count": null,
       "_view_module": "@jupyter-widgets/base",
       "_view_module_version": "1.2.0",
       "_view_name": "StyleView",
       "description_width": ""
      }
     },
     "8d5582ec52c64906b317aab7ad8e3574": {
      "model_module": "@jupyter-widgets/base",
      "model_module_version": "1.2.0",
      "model_name": "LayoutModel",
      "state": {
       "_model_module": "@jupyter-widgets/base",
       "_model_module_version": "1.2.0",
       "_model_name": "LayoutModel",
       "_view_count": null,
       "_view_module": "@jupyter-widgets/base",
       "_view_module_version": "1.2.0",
       "_view_name": "LayoutView",
       "align_content": null,
       "align_items": null,
       "align_self": null,
       "border": null,
       "bottom": null,
       "display": null,
       "flex": null,
       "flex_flow": null,
       "grid_area": null,
       "grid_auto_columns": null,
       "grid_auto_flow": null,
       "grid_auto_rows": null,
       "grid_column": null,
       "grid_gap": null,
       "grid_row": null,
       "grid_template_areas": null,
       "grid_template_columns": null,
       "grid_template_rows": null,
       "height": null,
       "justify_content": null,
       "justify_items": null,
       "left": null,
       "margin": null,
       "max_height": null,
       "max_width": null,
       "min_height": null,
       "min_width": null,
       "object_fit": null,
       "object_position": null,
       "order": null,
       "overflow": null,
       "overflow_x": null,
       "overflow_y": null,
       "padding": null,
       "right": null,
       "top": null,
       "visibility": null,
       "width": null
      }
     },
     "8eae6c21ec7a4100bc70080f2392151b": {
      "model_module": "@jupyter-widgets/controls",
      "model_module_version": "1.5.0",
      "model_name": "HTMLModel",
      "state": {
       "_dom_classes": [],
       "_model_module": "@jupyter-widgets/controls",
       "_model_module_version": "1.5.0",
       "_model_name": "HTMLModel",
       "_view_count": null,
       "_view_module": "@jupyter-widgets/controls",
       "_view_module_version": "1.5.0",
       "_view_name": "HTMLView",
       "description": "",
       "description_tooltip": null,
       "layout": "IPY_MODEL_d45f40c91bc3492bb1f7abfe74db7aa7",
       "placeholder": "​",
       "style": "IPY_MODEL_b58a6263d2ca4c019cb0287d15e91cbb",
       "value": " 899k/899k [00:00&lt;00:00, 2.74MB/s]"
      }
     },
     "8fa051f7c4524f9891cd162101eb4b06": {
      "model_module": "@jupyter-widgets/controls",
      "model_module_version": "1.5.0",
      "model_name": "HBoxModel",
      "state": {
       "_dom_classes": [],
       "_model_module": "@jupyter-widgets/controls",
       "_model_module_version": "1.5.0",
       "_model_name": "HBoxModel",
       "_view_count": null,
       "_view_module": "@jupyter-widgets/controls",
       "_view_module_version": "1.5.0",
       "_view_name": "HBoxView",
       "box_style": "",
       "children": [
        "IPY_MODEL_bd824dfaff2c40389a8bd932eec5ca6f",
        "IPY_MODEL_cc455eb04e5448ff8dd558ca6a8572da",
        "IPY_MODEL_9731c3bda80542d0bec5c5a7e41b1c81"
       ],
       "layout": "IPY_MODEL_587fb82da3c3462a99b28304b72b4b2e"
      }
     },
     "93bff59c5afe477a85916bf67d687310": {
      "model_module": "@jupyter-widgets/base",
      "model_module_version": "1.2.0",
      "model_name": "LayoutModel",
      "state": {
       "_model_module": "@jupyter-widgets/base",
       "_model_module_version": "1.2.0",
       "_model_name": "LayoutModel",
       "_view_count": null,
       "_view_module": "@jupyter-widgets/base",
       "_view_module_version": "1.2.0",
       "_view_name": "LayoutView",
       "align_content": null,
       "align_items": null,
       "align_self": null,
       "border": null,
       "bottom": null,
       "display": null,
       "flex": null,
       "flex_flow": null,
       "grid_area": null,
       "grid_auto_columns": null,
       "grid_auto_flow": null,
       "grid_auto_rows": null,
       "grid_column": null,
       "grid_gap": null,
       "grid_row": null,
       "grid_template_areas": null,
       "grid_template_columns": null,
       "grid_template_rows": null,
       "height": null,
       "justify_content": null,
       "justify_items": null,
       "left": null,
       "margin": null,
       "max_height": null,
       "max_width": null,
       "min_height": null,
       "min_width": null,
       "object_fit": null,
       "object_position": null,
       "order": null,
       "overflow": null,
       "overflow_x": null,
       "overflow_y": null,
       "padding": null,
       "right": null,
       "top": null,
       "visibility": null,
       "width": null
      }
     },
     "9517ee02b93e40b8bcadfa64fd61587c": {
      "model_module": "@jupyter-widgets/controls",
      "model_module_version": "1.5.0",
      "model_name": "DescriptionStyleModel",
      "state": {
       "_model_module": "@jupyter-widgets/controls",
       "_model_module_version": "1.5.0",
       "_model_name": "DescriptionStyleModel",
       "_view_count": null,
       "_view_module": "@jupyter-widgets/base",
       "_view_module_version": "1.2.0",
       "_view_name": "StyleView",
       "description_width": ""
      }
     },
     "971ec758dccd4c33a8d9e54947a4149b": {
      "model_module": "@jupyter-widgets/base",
      "model_module_version": "1.2.0",
      "model_name": "LayoutModel",
      "state": {
       "_model_module": "@jupyter-widgets/base",
       "_model_module_version": "1.2.0",
       "_model_name": "LayoutModel",
       "_view_count": null,
       "_view_module": "@jupyter-widgets/base",
       "_view_module_version": "1.2.0",
       "_view_name": "LayoutView",
       "align_content": null,
       "align_items": null,
       "align_self": null,
       "border": null,
       "bottom": null,
       "display": null,
       "flex": null,
       "flex_flow": null,
       "grid_area": null,
       "grid_auto_columns": null,
       "grid_auto_flow": null,
       "grid_auto_rows": null,
       "grid_column": null,
       "grid_gap": null,
       "grid_row": null,
       "grid_template_areas": null,
       "grid_template_columns": null,
       "grid_template_rows": null,
       "height": null,
       "justify_content": null,
       "justify_items": null,
       "left": null,
       "margin": null,
       "max_height": null,
       "max_width": null,
       "min_height": null,
       "min_width": null,
       "object_fit": null,
       "object_position": null,
       "order": null,
       "overflow": null,
       "overflow_x": null,
       "overflow_y": null,
       "padding": null,
       "right": null,
       "top": null,
       "visibility": null,
       "width": null
      }
     },
     "971ec8c996324f1b9d58b0479f69716e": {
      "model_module": "@jupyter-widgets/base",
      "model_module_version": "1.2.0",
      "model_name": "LayoutModel",
      "state": {
       "_model_module": "@jupyter-widgets/base",
       "_model_module_version": "1.2.0",
       "_model_name": "LayoutModel",
       "_view_count": null,
       "_view_module": "@jupyter-widgets/base",
       "_view_module_version": "1.2.0",
       "_view_name": "LayoutView",
       "align_content": null,
       "align_items": null,
       "align_self": null,
       "border": null,
       "bottom": null,
       "display": null,
       "flex": null,
       "flex_flow": null,
       "grid_area": null,
       "grid_auto_columns": null,
       "grid_auto_flow": null,
       "grid_auto_rows": null,
       "grid_column": null,
       "grid_gap": null,
       "grid_row": null,
       "grid_template_areas": null,
       "grid_template_columns": null,
       "grid_template_rows": null,
       "height": null,
       "justify_content": null,
       "justify_items": null,
       "left": null,
       "margin": null,
       "max_height": null,
       "max_width": null,
       "min_height": null,
       "min_width": null,
       "object_fit": null,
       "object_position": null,
       "order": null,
       "overflow": null,
       "overflow_x": null,
       "overflow_y": null,
       "padding": null,
       "right": null,
       "top": null,
       "visibility": null,
       "width": null
      }
     },
     "9731c3bda80542d0bec5c5a7e41b1c81": {
      "model_module": "@jupyter-widgets/controls",
      "model_module_version": "1.5.0",
      "model_name": "HTMLModel",
      "state": {
       "_dom_classes": [],
       "_model_module": "@jupyter-widgets/controls",
       "_model_module_version": "1.5.0",
       "_model_name": "HTMLModel",
       "_view_count": null,
       "_view_module": "@jupyter-widgets/controls",
       "_view_module_version": "1.5.0",
       "_view_name": "HTMLView",
       "description": "",
       "description_tooltip": null,
       "layout": "IPY_MODEL_7e80d82a52a344beb82c993b9f18ba5c",
       "placeholder": "​",
       "style": "IPY_MODEL_42809c7f6cce4946a7b33591c16856d8",
       "value": " 456k/456k [00:00&lt;00:00, 1.84MB/s]"
      }
     },
     "9797af2864044e2ea5b27d5a50b57e4f": {
      "model_module": "@jupyter-widgets/controls",
      "model_module_version": "1.5.0",
      "model_name": "HTMLModel",
      "state": {
       "_dom_classes": [],
       "_model_module": "@jupyter-widgets/controls",
       "_model_module_version": "1.5.0",
       "_model_name": "HTMLModel",
       "_view_count": null,
       "_view_module": "@jupyter-widgets/controls",
       "_view_module_version": "1.5.0",
       "_view_name": "HTMLView",
       "description": "",
       "description_tooltip": null,
       "layout": "IPY_MODEL_415d40aee28546c0bad69a9ca23f8918",
       "placeholder": "​",
       "style": "IPY_MODEL_34201461e322460faaffc66896bb618e",
       "value": "model.safetensors: 100%"
      }
     },
     "986c6298343543c1bb321f362f9f4206": {
      "model_module": "@jupyter-widgets/base",
      "model_module_version": "1.2.0",
      "model_name": "LayoutModel",
      "state": {
       "_model_module": "@jupyter-widgets/base",
       "_model_module_version": "1.2.0",
       "_model_name": "LayoutModel",
       "_view_count": null,
       "_view_module": "@jupyter-widgets/base",
       "_view_module_version": "1.2.0",
       "_view_name": "LayoutView",
       "align_content": null,
       "align_items": null,
       "align_self": null,
       "border": null,
       "bottom": null,
       "display": null,
       "flex": null,
       "flex_flow": null,
       "grid_area": null,
       "grid_auto_columns": null,
       "grid_auto_flow": null,
       "grid_auto_rows": null,
       "grid_column": null,
       "grid_gap": null,
       "grid_row": null,
       "grid_template_areas": null,
       "grid_template_columns": null,
       "grid_template_rows": null,
       "height": null,
       "justify_content": null,
       "justify_items": null,
       "left": null,
       "margin": null,
       "max_height": null,
       "max_width": null,
       "min_height": null,
       "min_width": null,
       "object_fit": null,
       "object_position": null,
       "order": null,
       "overflow": null,
       "overflow_x": null,
       "overflow_y": null,
       "padding": null,
       "right": null,
       "top": null,
       "visibility": null,
       "width": null
      }
     },
     "9a7592db3852440db049e2e5664a5cf2": {
      "model_module": "@jupyter-widgets/base",
      "model_module_version": "1.2.0",
      "model_name": "LayoutModel",
      "state": {
       "_model_module": "@jupyter-widgets/base",
       "_model_module_version": "1.2.0",
       "_model_name": "LayoutModel",
       "_view_count": null,
       "_view_module": "@jupyter-widgets/base",
       "_view_module_version": "1.2.0",
       "_view_name": "LayoutView",
       "align_content": null,
       "align_items": null,
       "align_self": null,
       "border": null,
       "bottom": null,
       "display": null,
       "flex": null,
       "flex_flow": null,
       "grid_area": null,
       "grid_auto_columns": null,
       "grid_auto_flow": null,
       "grid_auto_rows": null,
       "grid_column": null,
       "grid_gap": null,
       "grid_row": null,
       "grid_template_areas": null,
       "grid_template_columns": null,
       "grid_template_rows": null,
       "height": null,
       "justify_content": null,
       "justify_items": null,
       "left": null,
       "margin": null,
       "max_height": null,
       "max_width": null,
       "min_height": null,
       "min_width": null,
       "object_fit": null,
       "object_position": null,
       "order": null,
       "overflow": null,
       "overflow_x": null,
       "overflow_y": null,
       "padding": null,
       "right": null,
       "top": null,
       "visibility": null,
       "width": null
      }
     },
     "9ec7961acdb345aa9b49660bdbbf4b2a": {
      "model_module": "@jupyter-widgets/base",
      "model_module_version": "1.2.0",
      "model_name": "LayoutModel",
      "state": {
       "_model_module": "@jupyter-widgets/base",
       "_model_module_version": "1.2.0",
       "_model_name": "LayoutModel",
       "_view_count": null,
       "_view_module": "@jupyter-widgets/base",
       "_view_module_version": "1.2.0",
       "_view_name": "LayoutView",
       "align_content": null,
       "align_items": null,
       "align_self": null,
       "border": null,
       "bottom": null,
       "display": null,
       "flex": null,
       "flex_flow": null,
       "grid_area": null,
       "grid_auto_columns": null,
       "grid_auto_flow": null,
       "grid_auto_rows": null,
       "grid_column": null,
       "grid_gap": null,
       "grid_row": null,
       "grid_template_areas": null,
       "grid_template_columns": null,
       "grid_template_rows": null,
       "height": null,
       "justify_content": null,
       "justify_items": null,
       "left": null,
       "margin": null,
       "max_height": null,
       "max_width": null,
       "min_height": null,
       "min_width": null,
       "object_fit": null,
       "object_position": null,
       "order": null,
       "overflow": null,
       "overflow_x": null,
       "overflow_y": null,
       "padding": null,
       "right": null,
       "top": null,
       "visibility": null,
       "width": null
      }
     },
     "9edcb5391d264b78b42daf8de6fcd586": {
      "model_module": "@jupyter-widgets/controls",
      "model_module_version": "1.5.0",
      "model_name": "DescriptionStyleModel",
      "state": {
       "_model_module": "@jupyter-widgets/controls",
       "_model_module_version": "1.5.0",
       "_model_name": "DescriptionStyleModel",
       "_view_count": null,
       "_view_module": "@jupyter-widgets/base",
       "_view_module_version": "1.2.0",
       "_view_name": "StyleView",
       "description_width": ""
      }
     },
     "9f44d73cf8804e6dbd2096fc348737f3": {
      "model_module": "@jupyter-widgets/base",
      "model_module_version": "1.2.0",
      "model_name": "LayoutModel",
      "state": {
       "_model_module": "@jupyter-widgets/base",
       "_model_module_version": "1.2.0",
       "_model_name": "LayoutModel",
       "_view_count": null,
       "_view_module": "@jupyter-widgets/base",
       "_view_module_version": "1.2.0",
       "_view_name": "LayoutView",
       "align_content": null,
       "align_items": null,
       "align_self": null,
       "border": null,
       "bottom": null,
       "display": null,
       "flex": null,
       "flex_flow": null,
       "grid_area": null,
       "grid_auto_columns": null,
       "grid_auto_flow": null,
       "grid_auto_rows": null,
       "grid_column": null,
       "grid_gap": null,
       "grid_row": null,
       "grid_template_areas": null,
       "grid_template_columns": null,
       "grid_template_rows": null,
       "height": null,
       "justify_content": null,
       "justify_items": null,
       "left": null,
       "margin": null,
       "max_height": null,
       "max_width": null,
       "min_height": null,
       "min_width": null,
       "object_fit": null,
       "object_position": null,
       "order": null,
       "overflow": null,
       "overflow_x": null,
       "overflow_y": null,
       "padding": null,
       "right": null,
       "top": null,
       "visibility": null,
       "width": null
      }
     },
     "9f6dc7d483ed46f487c126118ca11c15": {
      "model_module": "@jupyter-widgets/controls",
      "model_module_version": "1.5.0",
      "model_name": "ProgressStyleModel",
      "state": {
       "_model_module": "@jupyter-widgets/controls",
       "_model_module_version": "1.5.0",
       "_model_name": "ProgressStyleModel",
       "_view_count": null,
       "_view_module": "@jupyter-widgets/base",
       "_view_module_version": "1.2.0",
       "_view_name": "StyleView",
       "bar_color": null,
       "description_width": ""
      }
     },
     "a0cc1cd5d6d74738a4db593d31d25ec0": {
      "model_module": "@jupyter-widgets/controls",
      "model_module_version": "1.5.0",
      "model_name": "DescriptionStyleModel",
      "state": {
       "_model_module": "@jupyter-widgets/controls",
       "_model_module_version": "1.5.0",
       "_model_name": "DescriptionStyleModel",
       "_view_count": null,
       "_view_module": "@jupyter-widgets/base",
       "_view_module_version": "1.2.0",
       "_view_name": "StyleView",
       "description_width": ""
      }
     },
     "a15e818c49364b8aaa9ce1391066bf5f": {
      "model_module": "@jupyter-widgets/controls",
      "model_module_version": "1.5.0",
      "model_name": "DescriptionStyleModel",
      "state": {
       "_model_module": "@jupyter-widgets/controls",
       "_model_module_version": "1.5.0",
       "_model_name": "DescriptionStyleModel",
       "_view_count": null,
       "_view_module": "@jupyter-widgets/base",
       "_view_module_version": "1.2.0",
       "_view_name": "StyleView",
       "description_width": ""
      }
     },
     "a22b889c21064d05b416bd35dec5b344": {
      "model_module": "@jupyter-widgets/base",
      "model_module_version": "1.2.0",
      "model_name": "LayoutModel",
      "state": {
       "_model_module": "@jupyter-widgets/base",
       "_model_module_version": "1.2.0",
       "_model_name": "LayoutModel",
       "_view_count": null,
       "_view_module": "@jupyter-widgets/base",
       "_view_module_version": "1.2.0",
       "_view_name": "LayoutView",
       "align_content": null,
       "align_items": null,
       "align_self": null,
       "border": null,
       "bottom": null,
       "display": null,
       "flex": null,
       "flex_flow": null,
       "grid_area": null,
       "grid_auto_columns": null,
       "grid_auto_flow": null,
       "grid_auto_rows": null,
       "grid_column": null,
       "grid_gap": null,
       "grid_row": null,
       "grid_template_areas": null,
       "grid_template_columns": null,
       "grid_template_rows": null,
       "height": null,
       "justify_content": null,
       "justify_items": null,
       "left": null,
       "margin": null,
       "max_height": null,
       "max_width": null,
       "min_height": null,
       "min_width": null,
       "object_fit": null,
       "object_position": null,
       "order": null,
       "overflow": null,
       "overflow_x": null,
       "overflow_y": null,
       "padding": null,
       "right": null,
       "top": null,
       "visibility": null,
       "width": null
      }
     },
     "a32d858f8e0a4ca7ab3e07c864f26178": {
      "model_module": "@jupyter-widgets/base",
      "model_module_version": "1.2.0",
      "model_name": "LayoutModel",
      "state": {
       "_model_module": "@jupyter-widgets/base",
       "_model_module_version": "1.2.0",
       "_model_name": "LayoutModel",
       "_view_count": null,
       "_view_module": "@jupyter-widgets/base",
       "_view_module_version": "1.2.0",
       "_view_name": "LayoutView",
       "align_content": null,
       "align_items": null,
       "align_self": null,
       "border": null,
       "bottom": null,
       "display": null,
       "flex": null,
       "flex_flow": null,
       "grid_area": null,
       "grid_auto_columns": null,
       "grid_auto_flow": null,
       "grid_auto_rows": null,
       "grid_column": null,
       "grid_gap": null,
       "grid_row": null,
       "grid_template_areas": null,
       "grid_template_columns": null,
       "grid_template_rows": null,
       "height": null,
       "justify_content": null,
       "justify_items": null,
       "left": null,
       "margin": null,
       "max_height": null,
       "max_width": null,
       "min_height": null,
       "min_width": null,
       "object_fit": null,
       "object_position": null,
       "order": null,
       "overflow": null,
       "overflow_x": null,
       "overflow_y": null,
       "padding": null,
       "right": null,
       "top": null,
       "visibility": null,
       "width": null
      }
     },
     "a3739b94dcca48a9bb92089aad21b944": {
      "model_module": "@jupyter-widgets/controls",
      "model_module_version": "1.5.0",
      "model_name": "ProgressStyleModel",
      "state": {
       "_model_module": "@jupyter-widgets/controls",
       "_model_module_version": "1.5.0",
       "_model_name": "ProgressStyleModel",
       "_view_count": null,
       "_view_module": "@jupyter-widgets/base",
       "_view_module_version": "1.2.0",
       "_view_name": "StyleView",
       "bar_color": null,
       "description_width": ""
      }
     },
     "a3cc516d30f640089c33c2841350a85d": {
      "model_module": "@jupyter-widgets/controls",
      "model_module_version": "1.5.0",
      "model_name": "HTMLModel",
      "state": {
       "_dom_classes": [],
       "_model_module": "@jupyter-widgets/controls",
       "_model_module_version": "1.5.0",
       "_model_name": "HTMLModel",
       "_view_count": null,
       "_view_module": "@jupyter-widgets/controls",
       "_view_module_version": "1.5.0",
       "_view_name": "HTMLView",
       "description": "",
       "description_tooltip": null,
       "layout": "IPY_MODEL_0ebb85c175b54f0bae5a9e4a1c6fc9d7",
       "placeholder": "​",
       "style": "IPY_MODEL_def215fe4db247c4b0fb9faa7e831e73",
       "value": "tokenizer_config.json: 100%"
      }
     },
     "a4c2dec7d9be43439ab6a384535ee099": {
      "model_module": "@jupyter-widgets/controls",
      "model_module_version": "1.5.0",
      "model_name": "ProgressStyleModel",
      "state": {
       "_model_module": "@jupyter-widgets/controls",
       "_model_module_version": "1.5.0",
       "_model_name": "ProgressStyleModel",
       "_view_count": null,
       "_view_module": "@jupyter-widgets/base",
       "_view_module_version": "1.2.0",
       "_view_name": "StyleView",
       "bar_color": null,
       "description_width": ""
      }
     },
     "a5221b846f024fbc9836ce0468d6b9db": {
      "model_module": "@jupyter-widgets/controls",
      "model_module_version": "1.5.0",
      "model_name": "FloatProgressModel",
      "state": {
       "_dom_classes": [],
       "_model_module": "@jupyter-widgets/controls",
       "_model_module_version": "1.5.0",
       "_model_name": "FloatProgressModel",
       "_view_count": null,
       "_view_module": "@jupyter-widgets/controls",
       "_view_module_version": "1.5.0",
       "_view_name": "ProgressView",
       "bar_style": "success",
       "description": "",
       "description_tooltip": null,
       "layout": "IPY_MODEL_ed403458b885419f9e959f3ebcc1cddc",
       "max": 23875.0,
       "min": 0.0,
       "orientation": "horizontal",
       "style": "IPY_MODEL_463ca6a05a1f4f329e08441df574ee04",
       "value": 23875.0
      }
     },
     "a6b59a10f60b4752a03a62eab89b879d": {
      "model_module": "@jupyter-widgets/base",
      "model_module_version": "1.2.0",
      "model_name": "LayoutModel",
      "state": {
       "_model_module": "@jupyter-widgets/base",
       "_model_module_version": "1.2.0",
       "_model_name": "LayoutModel",
       "_view_count": null,
       "_view_module": "@jupyter-widgets/base",
       "_view_module_version": "1.2.0",
       "_view_name": "LayoutView",
       "align_content": null,
       "align_items": null,
       "align_self": null,
       "border": null,
       "bottom": null,
       "display": null,
       "flex": null,
       "flex_flow": null,
       "grid_area": null,
       "grid_auto_columns": null,
       "grid_auto_flow": null,
       "grid_auto_rows": null,
       "grid_column": null,
       "grid_gap": null,
       "grid_row": null,
       "grid_template_areas": null,
       "grid_template_columns": null,
       "grid_template_rows": null,
       "height": null,
       "justify_content": null,
       "justify_items": null,
       "left": null,
       "margin": null,
       "max_height": null,
       "max_width": null,
       "min_height": null,
       "min_width": null,
       "object_fit": null,
       "object_position": null,
       "order": null,
       "overflow": null,
       "overflow_x": null,
       "overflow_y": null,
       "padding": null,
       "right": null,
       "top": null,
       "visibility": null,
       "width": null
      }
     },
     "a6c2e65c6b9f4a8b94b63907bcd8b0b4": {
      "model_module": "@jupyter-widgets/controls",
      "model_module_version": "1.5.0",
      "model_name": "ProgressStyleModel",
      "state": {
       "_model_module": "@jupyter-widgets/controls",
       "_model_module_version": "1.5.0",
       "_model_name": "ProgressStyleModel",
       "_view_count": null,
       "_view_module": "@jupyter-widgets/base",
       "_view_module_version": "1.2.0",
       "_view_name": "StyleView",
       "bar_color": null,
       "description_width": ""
      }
     },
     "a8cbeab50ac340d98d1cf8ca474b2513": {
      "model_module": "@jupyter-widgets/base",
      "model_module_version": "1.2.0",
      "model_name": "LayoutModel",
      "state": {
       "_model_module": "@jupyter-widgets/base",
       "_model_module_version": "1.2.0",
       "_model_name": "LayoutModel",
       "_view_count": null,
       "_view_module": "@jupyter-widgets/base",
       "_view_module_version": "1.2.0",
       "_view_name": "LayoutView",
       "align_content": null,
       "align_items": null,
       "align_self": null,
       "border": null,
       "bottom": null,
       "display": null,
       "flex": null,
       "flex_flow": null,
       "grid_area": null,
       "grid_auto_columns": null,
       "grid_auto_flow": null,
       "grid_auto_rows": null,
       "grid_column": null,
       "grid_gap": null,
       "grid_row": null,
       "grid_template_areas": null,
       "grid_template_columns": null,
       "grid_template_rows": null,
       "height": null,
       "justify_content": null,
       "justify_items": null,
       "left": null,
       "margin": null,
       "max_height": null,
       "max_width": null,
       "min_height": null,
       "min_width": null,
       "object_fit": null,
       "object_position": null,
       "order": null,
       "overflow": null,
       "overflow_x": null,
       "overflow_y": null,
       "padding": null,
       "right": null,
       "top": null,
       "visibility": null,
       "width": null
      }
     },
     "a9f8cbafc64f429eb84c04ee16f9fd7c": {
      "model_module": "@jupyter-widgets/base",
      "model_module_version": "1.2.0",
      "model_name": "LayoutModel",
      "state": {
       "_model_module": "@jupyter-widgets/base",
       "_model_module_version": "1.2.0",
       "_model_name": "LayoutModel",
       "_view_count": null,
       "_view_module": "@jupyter-widgets/base",
       "_view_module_version": "1.2.0",
       "_view_name": "LayoutView",
       "align_content": null,
       "align_items": null,
       "align_self": null,
       "border": null,
       "bottom": null,
       "display": null,
       "flex": null,
       "flex_flow": null,
       "grid_area": null,
       "grid_auto_columns": null,
       "grid_auto_flow": null,
       "grid_auto_rows": null,
       "grid_column": null,
       "grid_gap": null,
       "grid_row": null,
       "grid_template_areas": null,
       "grid_template_columns": null,
       "grid_template_rows": null,
       "height": null,
       "justify_content": null,
       "justify_items": null,
       "left": null,
       "margin": null,
       "max_height": null,
       "max_width": null,
       "min_height": null,
       "min_width": null,
       "object_fit": null,
       "object_position": null,
       "order": null,
       "overflow": null,
       "overflow_x": null,
       "overflow_y": null,
       "padding": null,
       "right": null,
       "top": null,
       "visibility": null,
       "width": null
      }
     },
     "ad8da0b935494da6a151bd85570741bf": {
      "model_module": "@jupyter-widgets/controls",
      "model_module_version": "1.5.0",
      "model_name": "FloatProgressModel",
      "state": {
       "_dom_classes": [],
       "_model_module": "@jupyter-widgets/controls",
       "_model_module_version": "1.5.0",
       "_model_name": "FloatProgressModel",
       "_view_count": null,
       "_view_module": "@jupyter-widgets/controls",
       "_view_module_version": "1.5.0",
       "_view_name": "ProgressView",
       "bar_style": "success",
       "description": "",
       "description_tooltip": null,
       "layout": "IPY_MODEL_03834ab9a8e74ae0800c7f4fdcc6ef41",
       "max": 112.0,
       "min": 0.0,
       "orientation": "horizontal",
       "style": "IPY_MODEL_fd7dcb6bf0c445bc8f6f900e17f83d9e",
       "value": 112.0
      }
     },
     "ae94e30319304002b43ccfdf449cbd91": {
      "model_module": "@jupyter-widgets/controls",
      "model_module_version": "1.5.0",
      "model_name": "DescriptionStyleModel",
      "state": {
       "_model_module": "@jupyter-widgets/controls",
       "_model_module_version": "1.5.0",
       "_model_name": "DescriptionStyleModel",
       "_view_count": null,
       "_view_module": "@jupyter-widgets/base",
       "_view_module_version": "1.2.0",
       "_view_name": "StyleView",
       "description_width": ""
      }
     },
     "af5c2e1777224919b98440c71fcc6ad3": {
      "model_module": "@jupyter-widgets/controls",
      "model_module_version": "1.5.0",
      "model_name": "FloatProgressModel",
      "state": {
       "_dom_classes": [],
       "_model_module": "@jupyter-widgets/controls",
       "_model_module_version": "1.5.0",
       "_model_name": "FloatProgressModel",
       "_view_count": null,
       "_view_module": "@jupyter-widgets/controls",
       "_view_module_version": "1.5.0",
       "_view_name": "ProgressView",
       "bar_style": "success",
       "description": "",
       "description_tooltip": null,
       "layout": "IPY_MODEL_229bfa5d4d11435abbeea854fe17d083",
       "max": 1154.0,
       "min": 0.0,
       "orientation": "horizontal",
       "style": "IPY_MODEL_f7f9bf7fce78499d8f5f766b006e6c01",
       "value": 1154.0
      }
     },
     "b45fc17f3b994a608e157bdc41c21bed": {
      "model_module": "@jupyter-widgets/controls",
      "model_module_version": "1.5.0",
      "model_name": "FloatProgressModel",
      "state": {
       "_dom_classes": [],
       "_model_module": "@jupyter-widgets/controls",
       "_model_module_version": "1.5.0",
       "_model_name": "FloatProgressModel",
       "_view_count": null,
       "_view_module": "@jupyter-widgets/controls",
       "_view_module_version": "1.5.0",
       "_view_name": "ProgressView",
       "bar_style": "success",
       "description": "",
       "description_tooltip": null,
       "layout": "IPY_MODEL_101a35f22e904519a2df6bc6ecc0eb5f",
       "max": 26.0,
       "min": 0.0,
       "orientation": "horizontal",
       "style": "IPY_MODEL_d42bb76417fe42189e53516d4b92e10d",
       "value": 26.0
      }
     },
     "b4cc93f003c74d0db263ca3d212a5681": {
      "model_module": "@jupyter-widgets/controls",
      "model_module_version": "1.5.0",
      "model_name": "ProgressStyleModel",
      "state": {
       "_model_module": "@jupyter-widgets/controls",
       "_model_module_version": "1.5.0",
       "_model_name": "ProgressStyleModel",
       "_view_count": null,
       "_view_module": "@jupyter-widgets/base",
       "_view_module_version": "1.2.0",
       "_view_name": "StyleView",
       "bar_color": null,
       "description_width": ""
      }
     },
     "b58a6263d2ca4c019cb0287d15e91cbb": {
      "model_module": "@jupyter-widgets/controls",
      "model_module_version": "1.5.0",
      "model_name": "DescriptionStyleModel",
      "state": {
       "_model_module": "@jupyter-widgets/controls",
       "_model_module_version": "1.5.0",
       "_model_name": "DescriptionStyleModel",
       "_view_count": null,
       "_view_module": "@jupyter-widgets/base",
       "_view_module_version": "1.2.0",
       "_view_name": "StyleView",
       "description_width": ""
      }
     },
     "b6c73af21d354d62808f4c393f1b735b": {
      "model_module": "@jupyter-widgets/controls",
      "model_module_version": "1.5.0",
      "model_name": "ProgressStyleModel",
      "state": {
       "_model_module": "@jupyter-widgets/controls",
       "_model_module_version": "1.5.0",
       "_model_name": "ProgressStyleModel",
       "_view_count": null,
       "_view_module": "@jupyter-widgets/base",
       "_view_module_version": "1.2.0",
       "_view_name": "StyleView",
       "bar_color": null,
       "description_width": ""
      }
     },
     "b6f8c523bd614f0492a9525843f54fe5": {
      "model_module": "@jupyter-widgets/base",
      "model_module_version": "1.2.0",
      "model_name": "LayoutModel",
      "state": {
       "_model_module": "@jupyter-widgets/base",
       "_model_module_version": "1.2.0",
       "_model_name": "LayoutModel",
       "_view_count": null,
       "_view_module": "@jupyter-widgets/base",
       "_view_module_version": "1.2.0",
       "_view_name": "LayoutView",
       "align_content": null,
       "align_items": null,
       "align_self": null,
       "border": null,
       "bottom": null,
       "display": null,
       "flex": null,
       "flex_flow": null,
       "grid_area": null,
       "grid_auto_columns": null,
       "grid_auto_flow": null,
       "grid_auto_rows": null,
       "grid_column": null,
       "grid_gap": null,
       "grid_row": null,
       "grid_template_areas": null,
       "grid_template_columns": null,
       "grid_template_rows": null,
       "height": null,
       "justify_content": null,
       "justify_items": null,
       "left": null,
       "margin": null,
       "max_height": null,
       "max_width": null,
       "min_height": null,
       "min_width": null,
       "object_fit": null,
       "object_position": null,
       "order": null,
       "overflow": null,
       "overflow_x": null,
       "overflow_y": null,
       "padding": null,
       "right": null,
       "top": null,
       "visibility": null,
       "width": null
      }
     },
     "b8235b2469244f71956fe8182a5d4e9a": {
      "model_module": "@jupyter-widgets/controls",
      "model_module_version": "1.5.0",
      "model_name": "HTMLModel",
      "state": {
       "_dom_classes": [],
       "_model_module": "@jupyter-widgets/controls",
       "_model_module_version": "1.5.0",
       "_model_name": "HTMLModel",
       "_view_count": null,
       "_view_module": "@jupyter-widgets/controls",
       "_view_module_version": "1.5.0",
       "_view_name": "HTMLView",
       "description": "",
       "description_tooltip": null,
       "layout": "IPY_MODEL_192890542aeb4aa1a995add2aac2ad77",
       "placeholder": "​",
       "style": "IPY_MODEL_861f8e94b6194747acbaa96844f0e5a2",
       "value": " 528k/528k [00:00&lt;00:00, 6.30MB/s]"
      }
     },
     "b9df1874912d43ef9c627481d4da5fe3": {
      "model_module": "@jupyter-widgets/base",
      "model_module_version": "1.2.0",
      "model_name": "LayoutModel",
      "state": {
       "_model_module": "@jupyter-widgets/base",
       "_model_module_version": "1.2.0",
       "_model_name": "LayoutModel",
       "_view_count": null,
       "_view_module": "@jupyter-widgets/base",
       "_view_module_version": "1.2.0",
       "_view_name": "LayoutView",
       "align_content": null,
       "align_items": null,
       "align_self": null,
       "border": null,
       "bottom": null,
       "display": null,
       "flex": null,
       "flex_flow": null,
       "grid_area": null,
       "grid_auto_columns": null,
       "grid_auto_flow": null,
       "grid_auto_rows": null,
       "grid_column": null,
       "grid_gap": null,
       "grid_row": null,
       "grid_template_areas": null,
       "grid_template_columns": null,
       "grid_template_rows": null,
       "height": null,
       "justify_content": null,
       "justify_items": null,
       "left": null,
       "margin": null,
       "max_height": null,
       "max_width": null,
       "min_height": null,
       "min_width": null,
       "object_fit": null,
       "object_position": null,
       "order": null,
       "overflow": null,
       "overflow_x": null,
       "overflow_y": null,
       "padding": null,
       "right": null,
       "top": null,
       "visibility": null,
       "width": null
      }
     },
     "b9e8db18fbda419eb5c3f46ad771ac40": {
      "model_module": "@jupyter-widgets/controls",
      "model_module_version": "1.5.0",
      "model_name": "HTMLModel",
      "state": {
       "_dom_classes": [],
       "_model_module": "@jupyter-widgets/controls",
       "_model_module_version": "1.5.0",
       "_model_name": "HTMLModel",
       "_view_count": null,
       "_view_module": "@jupyter-widgets/controls",
       "_view_module_version": "1.5.0",
       "_view_name": "HTMLView",
       "description": "",
       "description_tooltip": null,
       "layout": "IPY_MODEL_d93517d818cd4e14acc15558310019bf",
       "placeholder": "​",
       "style": "IPY_MODEL_71e3bf1a3e29455d9e7e01c65ad5a131",
       "value": " 59780/59780 [11:28&lt;00:00, 82.74it/s]"
      }
     },
     "bc6a1206a32544b6abbaf5fc17a7aea0": {
      "model_module": "@jupyter-widgets/controls",
      "model_module_version": "1.5.0",
      "model_name": "HTMLModel",
      "state": {
       "_dom_classes": [],
       "_model_module": "@jupyter-widgets/controls",
       "_model_module_version": "1.5.0",
       "_model_name": "HTMLModel",
       "_view_count": null,
       "_view_module": "@jupyter-widgets/controls",
       "_view_module_version": "1.5.0",
       "_view_name": "HTMLView",
       "description": "",
       "description_tooltip": null,
       "layout": "IPY_MODEL_b6f8c523bd614f0492a9525843f54fe5",
       "placeholder": "​",
       "style": "IPY_MODEL_f564653a07334c7aad0b9f0559d92cdc",
       "value": " 1.15k/1.15k [00:00&lt;00:00, 99.4kB/s]"
      }
     },
     "bd824dfaff2c40389a8bd932eec5ca6f": {
      "model_module": "@jupyter-widgets/controls",
      "model_module_version": "1.5.0",
      "model_name": "HTMLModel",
      "state": {
       "_dom_classes": [],
       "_model_module": "@jupyter-widgets/controls",
       "_model_module_version": "1.5.0",
       "_model_name": "HTMLModel",
       "_view_count": null,
       "_view_module": "@jupyter-widgets/controls",
       "_view_module_version": "1.5.0",
       "_view_name": "HTMLView",
       "description": "",
       "description_tooltip": null,
       "layout": "IPY_MODEL_67328baa3ece4987acf05f61784a44ac",
       "placeholder": "​",
       "style": "IPY_MODEL_6568d6ee609b4ebb89f237ec834872bf",
       "value": "merges.txt: 100%"
      }
     },
     "bf153308c5324b0a924760dadabde89b": {
      "model_module": "@jupyter-widgets/controls",
      "model_module_version": "1.5.0",
      "model_name": "HTMLModel",
      "state": {
       "_dom_classes": [],
       "_model_module": "@jupyter-widgets/controls",
       "_model_module_version": "1.5.0",
       "_model_name": "HTMLModel",
       "_view_count": null,
       "_view_module": "@jupyter-widgets/controls",
       "_view_module_version": "1.5.0",
       "_view_name": "HTMLView",
       "description": "",
       "description_tooltip": null,
       "layout": "IPY_MODEL_a32d858f8e0a4ca7ab3e07c864f26178",
       "placeholder": "​",
       "style": "IPY_MODEL_88151db398aa42a7a458a5b7939f4829",
       "value": "100%"
      }
     },
     "c014be7446c6488d9cd80e2bf4b6511b": {
      "model_module": "@jupyter-widgets/base",
      "model_module_version": "1.2.0",
      "model_name": "LayoutModel",
      "state": {
       "_model_module": "@jupyter-widgets/base",
       "_model_module_version": "1.2.0",
       "_model_name": "LayoutModel",
       "_view_count": null,
       "_view_module": "@jupyter-widgets/base",
       "_view_module_version": "1.2.0",
       "_view_name": "LayoutView",
       "align_content": null,
       "align_items": null,
       "align_self": null,
       "border": null,
       "bottom": null,
       "display": null,
       "flex": null,
       "flex_flow": null,
       "grid_area": null,
       "grid_auto_columns": null,
       "grid_auto_flow": null,
       "grid_auto_rows": null,
       "grid_column": null,
       "grid_gap": null,
       "grid_row": null,
       "grid_template_areas": null,
       "grid_template_columns": null,
       "grid_template_rows": null,
       "height": null,
       "justify_content": null,
       "justify_items": null,
       "left": null,
       "margin": null,
       "max_height": null,
       "max_width": null,
       "min_height": null,
       "min_width": null,
       "object_fit": null,
       "object_position": null,
       "order": null,
       "overflow": null,
       "overflow_x": null,
       "overflow_y": null,
       "padding": null,
       "right": null,
       "top": null,
       "visibility": null,
       "width": null
      }
     },
     "c08412f332f04191a9b3509e897a24b1": {
      "model_module": "@jupyter-widgets/controls",
      "model_module_version": "1.5.0",
      "model_name": "DescriptionStyleModel",
      "state": {
       "_model_module": "@jupyter-widgets/controls",
       "_model_module_version": "1.5.0",
       "_model_name": "DescriptionStyleModel",
       "_view_count": null,
       "_view_module": "@jupyter-widgets/base",
       "_view_module_version": "1.2.0",
       "_view_name": "StyleView",
       "description_width": ""
      }
     },
     "c08ce5277b7e43718dea090806e918a9": {
      "model_module": "@jupyter-widgets/controls",
      "model_module_version": "1.5.0",
      "model_name": "DescriptionStyleModel",
      "state": {
       "_model_module": "@jupyter-widgets/controls",
       "_model_module_version": "1.5.0",
       "_model_name": "DescriptionStyleModel",
       "_view_count": null,
       "_view_module": "@jupyter-widgets/base",
       "_view_module_version": "1.2.0",
       "_view_name": "StyleView",
       "description_width": ""
      }
     },
     "c286aaaa3516463ea2939da13ea106cf": {
      "model_module": "@jupyter-widgets/controls",
      "model_module_version": "1.5.0",
      "model_name": "FloatProgressModel",
      "state": {
       "_dom_classes": [],
       "_model_module": "@jupyter-widgets/controls",
       "_model_module_version": "1.5.0",
       "_model_name": "FloatProgressModel",
       "_view_count": null,
       "_view_module": "@jupyter-widgets/controls",
       "_view_module_version": "1.5.0",
       "_view_name": "ProgressView",
       "bar_style": "success",
       "description": "",
       "description_tooltip": null,
       "layout": "IPY_MODEL_347cf271073146bba733817898f5f012",
       "max": 466248.0,
       "min": 0.0,
       "orientation": "horizontal",
       "style": "IPY_MODEL_b4cc93f003c74d0db263ca3d212a5681",
       "value": 466248.0
      }
     },
     "c2c481dc3b9d4f0fa924b2342a118ff8": {
      "model_module": "@jupyter-widgets/controls",
      "model_module_version": "1.5.0",
      "model_name": "FloatProgressModel",
      "state": {
       "_dom_classes": [],
       "_model_module": "@jupyter-widgets/controls",
       "_model_module_version": "1.5.0",
       "_model_name": "FloatProgressModel",
       "_view_count": null,
       "_view_module": "@jupyter-widgets/controls",
       "_view_module_version": "1.5.0",
       "_view_name": "ProgressView",
       "bar_style": "success",
       "description": "",
       "description_tooltip": null,
       "layout": "IPY_MODEL_33ffda6d0fa641d1922505b5ebe95aea",
       "max": 158403.0,
       "min": 0.0,
       "orientation": "horizontal",
       "style": "IPY_MODEL_73256e73a0ed475c8f4db1aabb12726b",
       "value": 158403.0
      }
     },
     "c2f693bb63774dc18250b3e8f23c52d0": {
      "model_module": "@jupyter-widgets/controls",
      "model_module_version": "1.5.0",
      "model_name": "DescriptionStyleModel",
      "state": {
       "_model_module": "@jupyter-widgets/controls",
       "_model_module_version": "1.5.0",
       "_model_name": "DescriptionStyleModel",
       "_view_count": null,
       "_view_module": "@jupyter-widgets/base",
       "_view_module_version": "1.2.0",
       "_view_name": "StyleView",
       "description_width": ""
      }
     },
     "c328b7a104a746deabb3a08078815898": {
      "model_module": "@jupyter-widgets/base",
      "model_module_version": "1.2.0",
      "model_name": "LayoutModel",
      "state": {
       "_model_module": "@jupyter-widgets/base",
       "_model_module_version": "1.2.0",
       "_model_name": "LayoutModel",
       "_view_count": null,
       "_view_module": "@jupyter-widgets/base",
       "_view_module_version": "1.2.0",
       "_view_name": "LayoutView",
       "align_content": null,
       "align_items": null,
       "align_self": null,
       "border": null,
       "bottom": null,
       "display": null,
       "flex": null,
       "flex_flow": null,
       "grid_area": null,
       "grid_auto_columns": null,
       "grid_auto_flow": null,
       "grid_auto_rows": null,
       "grid_column": null,
       "grid_gap": null,
       "grid_row": null,
       "grid_template_areas": null,
       "grid_template_columns": null,
       "grid_template_rows": null,
       "height": null,
       "justify_content": null,
       "justify_items": null,
       "left": null,
       "margin": null,
       "max_height": null,
       "max_width": null,
       "min_height": null,
       "min_width": null,
       "object_fit": null,
       "object_position": null,
       "order": null,
       "overflow": null,
       "overflow_x": null,
       "overflow_y": null,
       "padding": null,
       "right": null,
       "top": null,
       "visibility": null,
       "width": null
      }
     },
     "c3a304167c6147c59a97a465de1f0cf7": {
      "model_module": "@jupyter-widgets/controls",
      "model_module_version": "1.5.0",
      "model_name": "DescriptionStyleModel",
      "state": {
       "_model_module": "@jupyter-widgets/controls",
       "_model_module_version": "1.5.0",
       "_model_name": "DescriptionStyleModel",
       "_view_count": null,
       "_view_module": "@jupyter-widgets/base",
       "_view_module_version": "1.2.0",
       "_view_name": "StyleView",
       "description_width": ""
      }
     },
     "c518f69140c0456e96e632217b3c464e": {
      "model_module": "@jupyter-widgets/base",
      "model_module_version": "1.2.0",
      "model_name": "LayoutModel",
      "state": {
       "_model_module": "@jupyter-widgets/base",
       "_model_module_version": "1.2.0",
       "_model_name": "LayoutModel",
       "_view_count": null,
       "_view_module": "@jupyter-widgets/base",
       "_view_module_version": "1.2.0",
       "_view_name": "LayoutView",
       "align_content": null,
       "align_items": null,
       "align_self": null,
       "border": null,
       "bottom": null,
       "display": null,
       "flex": null,
       "flex_flow": null,
       "grid_area": null,
       "grid_auto_columns": null,
       "grid_auto_flow": null,
       "grid_auto_rows": null,
       "grid_column": null,
       "grid_gap": null,
       "grid_row": null,
       "grid_template_areas": null,
       "grid_template_columns": null,
       "grid_template_rows": null,
       "height": null,
       "justify_content": null,
       "justify_items": null,
       "left": null,
       "margin": null,
       "max_height": null,
       "max_width": null,
       "min_height": null,
       "min_width": null,
       "object_fit": null,
       "object_position": null,
       "order": null,
       "overflow": null,
       "overflow_x": null,
       "overflow_y": null,
       "padding": null,
       "right": null,
       "top": null,
       "visibility": null,
       "width": null
      }
     },
     "c5b4c970afa74b59b59315c3f9cada10": {
      "model_module": "@jupyter-widgets/base",
      "model_module_version": "1.2.0",
      "model_name": "LayoutModel",
      "state": {
       "_model_module": "@jupyter-widgets/base",
       "_model_module_version": "1.2.0",
       "_model_name": "LayoutModel",
       "_view_count": null,
       "_view_module": "@jupyter-widgets/base",
       "_view_module_version": "1.2.0",
       "_view_name": "LayoutView",
       "align_content": null,
       "align_items": null,
       "align_self": null,
       "border": null,
       "bottom": null,
       "display": null,
       "flex": null,
       "flex_flow": null,
       "grid_area": null,
       "grid_auto_columns": null,
       "grid_auto_flow": null,
       "grid_auto_rows": null,
       "grid_column": null,
       "grid_gap": null,
       "grid_row": null,
       "grid_template_areas": null,
       "grid_template_columns": null,
       "grid_template_rows": null,
       "height": null,
       "justify_content": null,
       "justify_items": null,
       "left": null,
       "margin": null,
       "max_height": null,
       "max_width": null,
       "min_height": null,
       "min_width": null,
       "object_fit": null,
       "object_position": null,
       "order": null,
       "overflow": null,
       "overflow_x": null,
       "overflow_y": null,
       "padding": null,
       "right": null,
       "top": null,
       "visibility": null,
       "width": null
      }
     },
     "c660236eecf34fc9aa770e34cabcb7e4": {
      "model_module": "@jupyter-widgets/controls",
      "model_module_version": "1.5.0",
      "model_name": "HBoxModel",
      "state": {
       "_dom_classes": [],
       "_model_module": "@jupyter-widgets/controls",
       "_model_module_version": "1.5.0",
       "_model_name": "HBoxModel",
       "_view_count": null,
       "_view_module": "@jupyter-widgets/controls",
       "_view_module_version": "1.5.0",
       "_view_name": "HBoxView",
       "box_style": "",
       "children": [
        "IPY_MODEL_88912f5623f14177a2888d57a08b6101",
        "IPY_MODEL_85f74c69ddbe410fb6614386dd38c8c3",
        "IPY_MODEL_2e533a234047400bab90a313aef056ac"
       ],
       "layout": "IPY_MODEL_788a17e579ff4360a191ec846eb529fd"
      }
     },
     "c7608b4ac15d4233a4fdcd56aa849d37": {
      "model_module": "@jupyter-widgets/controls",
      "model_module_version": "1.5.0",
      "model_name": "DescriptionStyleModel",
      "state": {
       "_model_module": "@jupyter-widgets/controls",
       "_model_module_version": "1.5.0",
       "_model_name": "DescriptionStyleModel",
       "_view_count": null,
       "_view_module": "@jupyter-widgets/base",
       "_view_module_version": "1.2.0",
       "_view_name": "StyleView",
       "description_width": ""
      }
     },
     "c771b27bff904f848508462d621cd147": {
      "model_module": "@jupyter-widgets/controls",
      "model_module_version": "1.5.0",
      "model_name": "HTMLModel",
      "state": {
       "_dom_classes": [],
       "_model_module": "@jupyter-widgets/controls",
       "_model_module_version": "1.5.0",
       "_model_name": "HTMLModel",
       "_view_count": null,
       "_view_module": "@jupyter-widgets/controls",
       "_view_module_version": "1.5.0",
       "_view_name": "HTMLView",
       "description": "",
       "description_tooltip": null,
       "layout": "IPY_MODEL_a9f8cbafc64f429eb84c04ee16f9fd7c",
       "placeholder": "​",
       "style": "IPY_MODEL_21b8cd789c80456f90f6d6bb3f0601dd",
       "value": "100%"
      }
     },
     "c86e17eff07144fca54c5abfb839d65d": {
      "model_module": "@jupyter-widgets/base",
      "model_module_version": "1.2.0",
      "model_name": "LayoutModel",
      "state": {
       "_model_module": "@jupyter-widgets/base",
       "_model_module_version": "1.2.0",
       "_model_name": "LayoutModel",
       "_view_count": null,
       "_view_module": "@jupyter-widgets/base",
       "_view_module_version": "1.2.0",
       "_view_name": "LayoutView",
       "align_content": null,
       "align_items": null,
       "align_self": null,
       "border": null,
       "bottom": null,
       "display": null,
       "flex": null,
       "flex_flow": null,
       "grid_area": null,
       "grid_auto_columns": null,
       "grid_auto_flow": null,
       "grid_auto_rows": null,
       "grid_column": null,
       "grid_gap": null,
       "grid_row": null,
       "grid_template_areas": null,
       "grid_template_columns": null,
       "grid_template_rows": null,
       "height": null,
       "justify_content": null,
       "justify_items": null,
       "left": null,
       "margin": null,
       "max_height": null,
       "max_width": null,
       "min_height": null,
       "min_width": null,
       "object_fit": null,
       "object_position": null,
       "order": null,
       "overflow": null,
       "overflow_x": null,
       "overflow_y": null,
       "padding": null,
       "right": null,
       "top": null,
       "visibility": null,
       "width": null
      }
     },
     "cc455eb04e5448ff8dd558ca6a8572da": {
      "model_module": "@jupyter-widgets/controls",
      "model_module_version": "1.5.0",
      "model_name": "FloatProgressModel",
      "state": {
       "_dom_classes": [],
       "_model_module": "@jupyter-widgets/controls",
       "_model_module_version": "1.5.0",
       "_model_name": "FloatProgressModel",
       "_view_count": null,
       "_view_module": "@jupyter-widgets/controls",
       "_view_module_version": "1.5.0",
       "_view_name": "ProgressView",
       "bar_style": "success",
       "description": "",
       "description_tooltip": null,
       "layout": "IPY_MODEL_6b95c4599fe3450abe24b627ab9599a3",
       "max": 456318.0,
       "min": 0.0,
       "orientation": "horizontal",
       "style": "IPY_MODEL_4558e96850664557b3b9c08b695605b7",
       "value": 456318.0
      }
     },
     "ce09d7f4a9f24033980dad0e58a0ca4e": {
      "model_module": "@jupyter-widgets/base",
      "model_module_version": "1.2.0",
      "model_name": "LayoutModel",
      "state": {
       "_model_module": "@jupyter-widgets/base",
       "_model_module_version": "1.2.0",
       "_model_name": "LayoutModel",
       "_view_count": null,
       "_view_module": "@jupyter-widgets/base",
       "_view_module_version": "1.2.0",
       "_view_name": "LayoutView",
       "align_content": null,
       "align_items": null,
       "align_self": null,
       "border": null,
       "bottom": null,
       "display": null,
       "flex": null,
       "flex_flow": null,
       "grid_area": null,
       "grid_auto_columns": null,
       "grid_auto_flow": null,
       "grid_auto_rows": null,
       "grid_column": null,
       "grid_gap": null,
       "grid_row": null,
       "grid_template_areas": null,
       "grid_template_columns": null,
       "grid_template_rows": null,
       "height": null,
       "justify_content": null,
       "justify_items": null,
       "left": null,
       "margin": null,
       "max_height": null,
       "max_width": null,
       "min_height": null,
       "min_width": null,
       "object_fit": null,
       "object_position": null,
       "order": null,
       "overflow": null,
       "overflow_x": null,
       "overflow_y": null,
       "padding": null,
       "right": null,
       "top": null,
       "visibility": null,
       "width": null
      }
     },
     "cf0412337793411e8f8308b610784840": {
      "model_module": "@jupyter-widgets/controls",
      "model_module_version": "1.5.0",
      "model_name": "HBoxModel",
      "state": {
       "_dom_classes": [],
       "_model_module": "@jupyter-widgets/controls",
       "_model_module_version": "1.5.0",
       "_model_name": "HBoxModel",
       "_view_count": null,
       "_view_module": "@jupyter-widgets/controls",
       "_view_module_version": "1.5.0",
       "_view_name": "HBoxView",
       "box_style": "",
       "children": [
        "IPY_MODEL_671d5d7a7d32470084235aab6261b580",
        "IPY_MODEL_3499542dc5144bb1a161149cfd1f4cde",
        "IPY_MODEL_424bd48021964a73997af3ba07b17a30"
       ],
       "layout": "IPY_MODEL_2350e2b4b1084f83a7f24d7eb1f8bf09"
      }
     },
     "d0174b40d10540c1a505fae4a8ffe4bd": {
      "model_module": "@jupyter-widgets/controls",
      "model_module_version": "1.5.0",
      "model_name": "HTMLModel",
      "state": {
       "_dom_classes": [],
       "_model_module": "@jupyter-widgets/controls",
       "_model_module_version": "1.5.0",
       "_model_name": "HTMLModel",
       "_view_count": null,
       "_view_module": "@jupyter-widgets/controls",
       "_view_module_version": "1.5.0",
       "_view_name": "HTMLView",
       "description": "",
       "description_tooltip": null,
       "layout": "IPY_MODEL_034cdf294d8b4b93acdd002ee2fa0a83",
       "placeholder": "​",
       "style": "IPY_MODEL_a15e818c49364b8aaa9ce1391066bf5f",
       "value": "100%"
      }
     },
     "d0bb3c79291b4905a0de90a2e3eb69c3": {
      "model_module": "@jupyter-widgets/controls",
      "model_module_version": "1.5.0",
      "model_name": "ProgressStyleModel",
      "state": {
       "_model_module": "@jupyter-widgets/controls",
       "_model_module_version": "1.5.0",
       "_model_name": "ProgressStyleModel",
       "_view_count": null,
       "_view_module": "@jupyter-widgets/base",
       "_view_module_version": "1.2.0",
       "_view_name": "StyleView",
       "bar_color": null,
       "description_width": ""
      }
     },
     "d1a5c6391c7d4b0a92e4560fbdac54fb": {
      "model_module": "@jupyter-widgets/controls",
      "model_module_version": "1.5.0",
      "model_name": "FloatProgressModel",
      "state": {
       "_dom_classes": [],
       "_model_module": "@jupyter-widgets/controls",
       "_model_module_version": "1.5.0",
       "_model_name": "FloatProgressModel",
       "_view_count": null,
       "_view_module": "@jupyter-widgets/controls",
       "_view_module_version": "1.5.0",
       "_view_name": "ProgressView",
       "bar_style": "success",
       "description": "",
       "description_tooltip": null,
       "layout": "IPY_MODEL_e156b9043dab4184970dffec5a5c4f1e",
       "max": 100.0,
       "min": 0.0,
       "orientation": "horizontal",
       "style": "IPY_MODEL_a6c2e65c6b9f4a8b94b63907bcd8b0b4",
       "value": 100.0
      }
     },
     "d23fd94b5ad84de89f48b8097bb2dcfc": {
      "model_module": "@jupyter-widgets/controls",
      "model_module_version": "1.5.0",
      "model_name": "HTMLModel",
      "state": {
       "_dom_classes": [],
       "_model_module": "@jupyter-widgets/controls",
       "_model_module_version": "1.5.0",
       "_model_name": "HTMLModel",
       "_view_count": null,
       "_view_module": "@jupyter-widgets/controls",
       "_view_module_version": "1.5.0",
       "_view_name": "HTMLView",
       "description": "",
       "description_tooltip": null,
       "layout": "IPY_MODEL_22f59a1a672444d5a2eaddc1e0b16827",
       "placeholder": "​",
       "style": "IPY_MODEL_297f97fc0b7c4f6b8e04fa7ad8ba5d14",
       "value": "100%"
      }
     },
     "d2dc1d440428421983e0796f7f3caed5": {
      "model_module": "@jupyter-widgets/controls",
      "model_module_version": "1.5.0",
      "model_name": "FloatProgressModel",
      "state": {
       "_dom_classes": [],
       "_model_module": "@jupyter-widgets/controls",
       "_model_module_version": "1.5.0",
       "_model_name": "FloatProgressModel",
       "_view_count": null,
       "_view_module": "@jupyter-widgets/controls",
       "_view_module_version": "1.5.0",
       "_view_name": "ProgressView",
       "bar_style": "success",
       "description": "",
       "description_tooltip": null,
       "layout": "IPY_MODEL_1b3dbc0c58a3409dab2259ddfa8c5dda",
       "max": 1629437147.0,
       "min": 0.0,
       "orientation": "horizontal",
       "style": "IPY_MODEL_9f6dc7d483ed46f487c126118ca11c15",
       "value": 1629437147.0
      }
     },
     "d376b9c7b4ed4de6a798b01ce0661240": {
      "model_module": "@jupyter-widgets/controls",
      "model_module_version": "1.5.0",
      "model_name": "HBoxModel",
      "state": {
       "_dom_classes": [],
       "_model_module": "@jupyter-widgets/controls",
       "_model_module_version": "1.5.0",
       "_model_name": "HBoxModel",
       "_view_count": null,
       "_view_module": "@jupyter-widgets/controls",
       "_view_module_version": "1.5.0",
       "_view_name": "HBoxView",
       "box_style": "",
       "children": [
        "IPY_MODEL_80b8a439c0784e33a585d157291b78d3",
        "IPY_MODEL_b45fc17f3b994a608e157bdc41c21bed",
        "IPY_MODEL_0b37beaba2bf4685a74be1eb7eced896"
       ],
       "layout": "IPY_MODEL_8d5582ec52c64906b317aab7ad8e3574"
      }
     },
     "d4154a4bbab742bd9f5ed977e2fb474d": {
      "model_module": "@jupyter-widgets/base",
      "model_module_version": "1.2.0",
      "model_name": "LayoutModel",
      "state": {
       "_model_module": "@jupyter-widgets/base",
       "_model_module_version": "1.2.0",
       "_model_name": "LayoutModel",
       "_view_count": null,
       "_view_module": "@jupyter-widgets/base",
       "_view_module_version": "1.2.0",
       "_view_name": "LayoutView",
       "align_content": null,
       "align_items": null,
       "align_self": null,
       "border": null,
       "bottom": null,
       "display": null,
       "flex": null,
       "flex_flow": null,
       "grid_area": null,
       "grid_auto_columns": null,
       "grid_auto_flow": null,
       "grid_auto_rows": null,
       "grid_column": null,
       "grid_gap": null,
       "grid_row": null,
       "grid_template_areas": null,
       "grid_template_columns": null,
       "grid_template_rows": null,
       "height": null,
       "justify_content": null,
       "justify_items": null,
       "left": null,
       "margin": null,
       "max_height": null,
       "max_width": null,
       "min_height": null,
       "min_width": null,
       "object_fit": null,
       "object_position": null,
       "order": null,
       "overflow": null,
       "overflow_x": null,
       "overflow_y": null,
       "padding": null,
       "right": null,
       "top": null,
       "visibility": null,
       "width": null
      }
     },
     "d42bb76417fe42189e53516d4b92e10d": {
      "model_module": "@jupyter-widgets/controls",
      "model_module_version": "1.5.0",
      "model_name": "ProgressStyleModel",
      "state": {
       "_model_module": "@jupyter-widgets/controls",
       "_model_module_version": "1.5.0",
       "_model_name": "ProgressStyleModel",
       "_view_count": null,
       "_view_module": "@jupyter-widgets/base",
       "_view_module_version": "1.2.0",
       "_view_name": "StyleView",
       "bar_color": null,
       "description_width": ""
      }
     },
     "d45f40c91bc3492bb1f7abfe74db7aa7": {
      "model_module": "@jupyter-widgets/base",
      "model_module_version": "1.2.0",
      "model_name": "LayoutModel",
      "state": {
       "_model_module": "@jupyter-widgets/base",
       "_model_module_version": "1.2.0",
       "_model_name": "LayoutModel",
       "_view_count": null,
       "_view_module": "@jupyter-widgets/base",
       "_view_module_version": "1.2.0",
       "_view_name": "LayoutView",
       "align_content": null,
       "align_items": null,
       "align_self": null,
       "border": null,
       "bottom": null,
       "display": null,
       "flex": null,
       "flex_flow": null,
       "grid_area": null,
       "grid_auto_columns": null,
       "grid_auto_flow": null,
       "grid_auto_rows": null,
       "grid_column": null,
       "grid_gap": null,
       "grid_row": null,
       "grid_template_areas": null,
       "grid_template_columns": null,
       "grid_template_rows": null,
       "height": null,
       "justify_content": null,
       "justify_items": null,
       "left": null,
       "margin": null,
       "max_height": null,
       "max_width": null,
       "min_height": null,
       "min_width": null,
       "object_fit": null,
       "object_position": null,
       "order": null,
       "overflow": null,
       "overflow_x": null,
       "overflow_y": null,
       "padding": null,
       "right": null,
       "top": null,
       "visibility": null,
       "width": null
      }
     },
     "d64a72e2e32b428cb34ead37d7213023": {
      "model_module": "@jupyter-widgets/base",
      "model_module_version": "1.2.0",
      "model_name": "LayoutModel",
      "state": {
       "_model_module": "@jupyter-widgets/base",
       "_model_module_version": "1.2.0",
       "_model_name": "LayoutModel",
       "_view_count": null,
       "_view_module": "@jupyter-widgets/base",
       "_view_module_version": "1.2.0",
       "_view_name": "LayoutView",
       "align_content": null,
       "align_items": null,
       "align_self": null,
       "border": null,
       "bottom": null,
       "display": null,
       "flex": null,
       "flex_flow": null,
       "grid_area": null,
       "grid_auto_columns": null,
       "grid_auto_flow": null,
       "grid_auto_rows": null,
       "grid_column": null,
       "grid_gap": null,
       "grid_row": null,
       "grid_template_areas": null,
       "grid_template_columns": null,
       "grid_template_rows": null,
       "height": null,
       "justify_content": null,
       "justify_items": null,
       "left": null,
       "margin": null,
       "max_height": null,
       "max_width": null,
       "min_height": null,
       "min_width": null,
       "object_fit": null,
       "object_position": null,
       "order": null,
       "overflow": null,
       "overflow_x": null,
       "overflow_y": null,
       "padding": null,
       "right": null,
       "top": null,
       "visibility": null,
       "width": null
      }
     },
     "d69c5431a2f748ec970fc15833d7ece3": {
      "model_module": "@jupyter-widgets/base",
      "model_module_version": "1.2.0",
      "model_name": "LayoutModel",
      "state": {
       "_model_module": "@jupyter-widgets/base",
       "_model_module_version": "1.2.0",
       "_model_name": "LayoutModel",
       "_view_count": null,
       "_view_module": "@jupyter-widgets/base",
       "_view_module_version": "1.2.0",
       "_view_name": "LayoutView",
       "align_content": null,
       "align_items": null,
       "align_self": null,
       "border": null,
       "bottom": null,
       "display": null,
       "flex": null,
       "flex_flow": null,
       "grid_area": null,
       "grid_auto_columns": null,
       "grid_auto_flow": null,
       "grid_auto_rows": null,
       "grid_column": null,
       "grid_gap": null,
       "grid_row": null,
       "grid_template_areas": null,
       "grid_template_columns": null,
       "grid_template_rows": null,
       "height": null,
       "justify_content": null,
       "justify_items": null,
       "left": null,
       "margin": null,
       "max_height": null,
       "max_width": null,
       "min_height": null,
       "min_width": null,
       "object_fit": null,
       "object_position": null,
       "order": null,
       "overflow": null,
       "overflow_x": null,
       "overflow_y": null,
       "padding": null,
       "right": null,
       "top": null,
       "visibility": null,
       "width": null
      }
     },
     "d93517d818cd4e14acc15558310019bf": {
      "model_module": "@jupyter-widgets/base",
      "model_module_version": "1.2.0",
      "model_name": "LayoutModel",
      "state": {
       "_model_module": "@jupyter-widgets/base",
       "_model_module_version": "1.2.0",
       "_model_name": "LayoutModel",
       "_view_count": null,
       "_view_module": "@jupyter-widgets/base",
       "_view_module_version": "1.2.0",
       "_view_name": "LayoutView",
       "align_content": null,
       "align_items": null,
       "align_self": null,
       "border": null,
       "bottom": null,
       "display": null,
       "flex": null,
       "flex_flow": null,
       "grid_area": null,
       "grid_auto_columns": null,
       "grid_auto_flow": null,
       "grid_auto_rows": null,
       "grid_column": null,
       "grid_gap": null,
       "grid_row": null,
       "grid_template_areas": null,
       "grid_template_columns": null,
       "grid_template_rows": null,
       "height": null,
       "justify_content": null,
       "justify_items": null,
       "left": null,
       "margin": null,
       "max_height": null,
       "max_width": null,
       "min_height": null,
       "min_width": null,
       "object_fit": null,
       "object_position": null,
       "order": null,
       "overflow": null,
       "overflow_x": null,
       "overflow_y": null,
       "padding": null,
       "right": null,
       "top": null,
       "visibility": null,
       "width": null
      }
     },
     "d93e1260ec1e4c77b5af0c0539ccf56f": {
      "model_module": "@jupyter-widgets/controls",
      "model_module_version": "1.5.0",
      "model_name": "DescriptionStyleModel",
      "state": {
       "_model_module": "@jupyter-widgets/controls",
       "_model_module_version": "1.5.0",
       "_model_name": "DescriptionStyleModel",
       "_view_count": null,
       "_view_module": "@jupyter-widgets/base",
       "_view_module_version": "1.2.0",
       "_view_name": "StyleView",
       "description_width": ""
      }
     },
     "d9ceaf39024b438fadd2240d44702594": {
      "model_module": "@jupyter-widgets/controls",
      "model_module_version": "1.5.0",
      "model_name": "HBoxModel",
      "state": {
       "_dom_classes": [],
       "_model_module": "@jupyter-widgets/controls",
       "_model_module_version": "1.5.0",
       "_model_name": "HBoxModel",
       "_view_count": null,
       "_view_module": "@jupyter-widgets/controls",
       "_view_module_version": "1.5.0",
       "_view_name": "HBoxView",
       "box_style": "",
       "children": [
        "IPY_MODEL_21b567364527448dbec81e0d14e2dea7",
        "IPY_MODEL_ecccac96d72b48b3aa9067ed4993f0cc",
        "IPY_MODEL_dced58ba799841d9afa2644d1e12cd36"
       ],
       "layout": "IPY_MODEL_024c5fd60339494097d29aa063143302"
      }
     },
     "da9497e04cc54896b104e246b973d266": {
      "model_module": "@jupyter-widgets/base",
      "model_module_version": "1.2.0",
      "model_name": "LayoutModel",
      "state": {
       "_model_module": "@jupyter-widgets/base",
       "_model_module_version": "1.2.0",
       "_model_name": "LayoutModel",
       "_view_count": null,
       "_view_module": "@jupyter-widgets/base",
       "_view_module_version": "1.2.0",
       "_view_name": "LayoutView",
       "align_content": null,
       "align_items": null,
       "align_self": null,
       "border": null,
       "bottom": null,
       "display": null,
       "flex": null,
       "flex_flow": null,
       "grid_area": null,
       "grid_auto_columns": null,
       "grid_auto_flow": null,
       "grid_auto_rows": null,
       "grid_column": null,
       "grid_gap": null,
       "grid_row": null,
       "grid_template_areas": null,
       "grid_template_columns": null,
       "grid_template_rows": null,
       "height": null,
       "justify_content": null,
       "justify_items": null,
       "left": null,
       "margin": null,
       "max_height": null,
       "max_width": null,
       "min_height": null,
       "min_width": null,
       "object_fit": null,
       "object_position": null,
       "order": null,
       "overflow": null,
       "overflow_x": null,
       "overflow_y": null,
       "padding": null,
       "right": null,
       "top": null,
       "visibility": null,
       "width": null
      }
     },
     "dced58ba799841d9afa2644d1e12cd36": {
      "model_module": "@jupyter-widgets/controls",
      "model_module_version": "1.5.0",
      "model_name": "HTMLModel",
      "state": {
       "_dom_classes": [],
       "_model_module": "@jupyter-widgets/controls",
       "_model_module_version": "1.5.0",
       "_model_name": "HTMLModel",
       "_view_count": null,
       "_view_module": "@jupyter-widgets/controls",
       "_view_module_version": "1.5.0",
       "_view_name": "HTMLView",
       "description": "",
       "description_tooltip": null,
       "layout": "IPY_MODEL_7536ec061f874247888ad1ce42b01b1e",
       "placeholder": "​",
       "style": "IPY_MODEL_ea7680be2055490eae61bd7f2aa9b65d",
       "value": " 935/935 [00:00&lt;00:00, 81.8kB/s]"
      }
     },
     "def215fe4db247c4b0fb9faa7e831e73": {
      "model_module": "@jupyter-widgets/controls",
      "model_module_version": "1.5.0",
      "model_name": "DescriptionStyleModel",
      "state": {
       "_model_module": "@jupyter-widgets/controls",
       "_model_module_version": "1.5.0",
       "_model_name": "DescriptionStyleModel",
       "_view_count": null,
       "_view_module": "@jupyter-widgets/base",
       "_view_module_version": "1.2.0",
       "_view_name": "StyleView",
       "description_width": ""
      }
     },
     "df345bb69e43407cb4364ff3141478b3": {
      "model_module": "@jupyter-widgets/base",
      "model_module_version": "1.2.0",
      "model_name": "LayoutModel",
      "state": {
       "_model_module": "@jupyter-widgets/base",
       "_model_module_version": "1.2.0",
       "_model_name": "LayoutModel",
       "_view_count": null,
       "_view_module": "@jupyter-widgets/base",
       "_view_module_version": "1.2.0",
       "_view_name": "LayoutView",
       "align_content": null,
       "align_items": null,
       "align_self": null,
       "border": null,
       "bottom": null,
       "display": null,
       "flex": null,
       "flex_flow": null,
       "grid_area": null,
       "grid_auto_columns": null,
       "grid_auto_flow": null,
       "grid_auto_rows": null,
       "grid_column": null,
       "grid_gap": null,
       "grid_row": null,
       "grid_template_areas": null,
       "grid_template_columns": null,
       "grid_template_rows": null,
       "height": null,
       "justify_content": null,
       "justify_items": null,
       "left": null,
       "margin": null,
       "max_height": null,
       "max_width": null,
       "min_height": null,
       "min_width": null,
       "object_fit": null,
       "object_position": null,
       "order": null,
       "overflow": null,
       "overflow_x": null,
       "overflow_y": null,
       "padding": null,
       "right": null,
       "top": null,
       "visibility": null,
       "width": null
      }
     },
     "e027de6b53204686893983c642be65ce": {
      "model_module": "@jupyter-widgets/controls",
      "model_module_version": "1.5.0",
      "model_name": "HBoxModel",
      "state": {
       "_dom_classes": [],
       "_model_module": "@jupyter-widgets/controls",
       "_model_module_version": "1.5.0",
       "_model_name": "HBoxModel",
       "_view_count": null,
       "_view_module": "@jupyter-widgets/controls",
       "_view_module_version": "1.5.0",
       "_view_name": "HBoxView",
       "box_style": "",
       "children": [
        "IPY_MODEL_32e03b1035844c05b3bab4c0c3ac3e7a",
        "IPY_MODEL_44963c4cad1240b2b8fdd1fe9a89bf95",
        "IPY_MODEL_3f65537879e04e0daec2a360719a8be0"
       ],
       "layout": "IPY_MODEL_2f0b2f10d4394226b19a7b92df12cb28"
      }
     },
     "e156b9043dab4184970dffec5a5c4f1e": {
      "model_module": "@jupyter-widgets/base",
      "model_module_version": "1.2.0",
      "model_name": "LayoutModel",
      "state": {
       "_model_module": "@jupyter-widgets/base",
       "_model_module_version": "1.2.0",
       "_model_name": "LayoutModel",
       "_view_count": null,
       "_view_module": "@jupyter-widgets/base",
       "_view_module_version": "1.2.0",
       "_view_name": "LayoutView",
       "align_content": null,
       "align_items": null,
       "align_self": null,
       "border": null,
       "bottom": null,
       "display": null,
       "flex": null,
       "flex_flow": null,
       "grid_area": null,
       "grid_auto_columns": null,
       "grid_auto_flow": null,
       "grid_auto_rows": null,
       "grid_column": null,
       "grid_gap": null,
       "grid_row": null,
       "grid_template_areas": null,
       "grid_template_columns": null,
       "grid_template_rows": null,
       "height": null,
       "justify_content": null,
       "justify_items": null,
       "left": null,
       "margin": null,
       "max_height": null,
       "max_width": null,
       "min_height": null,
       "min_width": null,
       "object_fit": null,
       "object_position": null,
       "order": null,
       "overflow": null,
       "overflow_x": null,
       "overflow_y": null,
       "padding": null,
       "right": null,
       "top": null,
       "visibility": null,
       "width": null
      }
     },
     "e2e9af33c6b04dbaaee717f939c86006": {
      "model_module": "@jupyter-widgets/controls",
      "model_module_version": "1.5.0",
      "model_name": "DescriptionStyleModel",
      "state": {
       "_model_module": "@jupyter-widgets/controls",
       "_model_module_version": "1.5.0",
       "_model_name": "DescriptionStyleModel",
       "_view_count": null,
       "_view_module": "@jupyter-widgets/base",
       "_view_module_version": "1.2.0",
       "_view_name": "StyleView",
       "description_width": ""
      }
     },
     "e496dd281cab4fd69e0d268c41bcc24d": {
      "model_module": "@jupyter-widgets/controls",
      "model_module_version": "1.5.0",
      "model_name": "DescriptionStyleModel",
      "state": {
       "_model_module": "@jupyter-widgets/controls",
       "_model_module_version": "1.5.0",
       "_model_name": "DescriptionStyleModel",
       "_view_count": null,
       "_view_module": "@jupyter-widgets/base",
       "_view_module_version": "1.2.0",
       "_view_name": "StyleView",
       "description_width": ""
      }
     },
     "e53c95270acd407685c555459879daed": {
      "model_module": "@jupyter-widgets/base",
      "model_module_version": "1.2.0",
      "model_name": "LayoutModel",
      "state": {
       "_model_module": "@jupyter-widgets/base",
       "_model_module_version": "1.2.0",
       "_model_name": "LayoutModel",
       "_view_count": null,
       "_view_module": "@jupyter-widgets/base",
       "_view_module_version": "1.2.0",
       "_view_name": "LayoutView",
       "align_content": null,
       "align_items": null,
       "align_self": null,
       "border": null,
       "bottom": null,
       "display": null,
       "flex": null,
       "flex_flow": null,
       "grid_area": null,
       "grid_auto_columns": null,
       "grid_auto_flow": null,
       "grid_auto_rows": null,
       "grid_column": null,
       "grid_gap": null,
       "grid_row": null,
       "grid_template_areas": null,
       "grid_template_columns": null,
       "grid_template_rows": null,
       "height": null,
       "justify_content": null,
       "justify_items": null,
       "left": null,
       "margin": null,
       "max_height": null,
       "max_width": null,
       "min_height": null,
       "min_width": null,
       "object_fit": null,
       "object_position": null,
       "order": null,
       "overflow": null,
       "overflow_x": null,
       "overflow_y": null,
       "padding": null,
       "right": null,
       "top": null,
       "visibility": null,
       "width": null
      }
     },
     "e61f566f2779465392ab4deb85898ea3": {
      "model_module": "@jupyter-widgets/controls",
      "model_module_version": "1.5.0",
      "model_name": "DescriptionStyleModel",
      "state": {
       "_model_module": "@jupyter-widgets/controls",
       "_model_module_version": "1.5.0",
       "_model_name": "DescriptionStyleModel",
       "_view_count": null,
       "_view_module": "@jupyter-widgets/base",
       "_view_module_version": "1.2.0",
       "_view_name": "StyleView",
       "description_width": ""
      }
     },
     "e66930cff3a54bc8817f315fc4a71c07": {
      "model_module": "@jupyter-widgets/base",
      "model_module_version": "1.2.0",
      "model_name": "LayoutModel",
      "state": {
       "_model_module": "@jupyter-widgets/base",
       "_model_module_version": "1.2.0",
       "_model_name": "LayoutModel",
       "_view_count": null,
       "_view_module": "@jupyter-widgets/base",
       "_view_module_version": "1.2.0",
       "_view_name": "LayoutView",
       "align_content": null,
       "align_items": null,
       "align_self": null,
       "border": null,
       "bottom": null,
       "display": null,
       "flex": null,
       "flex_flow": null,
       "grid_area": null,
       "grid_auto_columns": null,
       "grid_auto_flow": null,
       "grid_auto_rows": null,
       "grid_column": null,
       "grid_gap": null,
       "grid_row": null,
       "grid_template_areas": null,
       "grid_template_columns": null,
       "grid_template_rows": null,
       "height": null,
       "justify_content": null,
       "justify_items": null,
       "left": null,
       "margin": null,
       "max_height": null,
       "max_width": null,
       "min_height": null,
       "min_width": null,
       "object_fit": null,
       "object_position": null,
       "order": null,
       "overflow": null,
       "overflow_x": null,
       "overflow_y": null,
       "padding": null,
       "right": null,
       "top": null,
       "visibility": null,
       "width": null
      }
     },
     "e7b10b140d8c47cc938ce6484c570930": {
      "model_module": "@jupyter-widgets/base",
      "model_module_version": "1.2.0",
      "model_name": "LayoutModel",
      "state": {
       "_model_module": "@jupyter-widgets/base",
       "_model_module_version": "1.2.0",
       "_model_name": "LayoutModel",
       "_view_count": null,
       "_view_module": "@jupyter-widgets/base",
       "_view_module_version": "1.2.0",
       "_view_name": "LayoutView",
       "align_content": null,
       "align_items": null,
       "align_self": null,
       "border": null,
       "bottom": null,
       "display": null,
       "flex": null,
       "flex_flow": null,
       "grid_area": null,
       "grid_auto_columns": null,
       "grid_auto_flow": null,
       "grid_auto_rows": null,
       "grid_column": null,
       "grid_gap": null,
       "grid_row": null,
       "grid_template_areas": null,
       "grid_template_columns": null,
       "grid_template_rows": null,
       "height": null,
       "justify_content": null,
       "justify_items": null,
       "left": null,
       "margin": null,
       "max_height": null,
       "max_width": null,
       "min_height": null,
       "min_width": null,
       "object_fit": null,
       "object_position": null,
       "order": null,
       "overflow": null,
       "overflow_x": null,
       "overflow_y": null,
       "padding": null,
       "right": null,
       "top": null,
       "visibility": null,
       "width": null
      }
     },
     "e7f1c5b78cf443a396eb8b6e4ed05ed7": {
      "model_module": "@jupyter-widgets/base",
      "model_module_version": "1.2.0",
      "model_name": "LayoutModel",
      "state": {
       "_model_module": "@jupyter-widgets/base",
       "_model_module_version": "1.2.0",
       "_model_name": "LayoutModel",
       "_view_count": null,
       "_view_module": "@jupyter-widgets/base",
       "_view_module_version": "1.2.0",
       "_view_name": "LayoutView",
       "align_content": null,
       "align_items": null,
       "align_self": null,
       "border": null,
       "bottom": null,
       "display": null,
       "flex": null,
       "flex_flow": null,
       "grid_area": null,
       "grid_auto_columns": null,
       "grid_auto_flow": null,
       "grid_auto_rows": null,
       "grid_column": null,
       "grid_gap": null,
       "grid_row": null,
       "grid_template_areas": null,
       "grid_template_columns": null,
       "grid_template_rows": null,
       "height": null,
       "justify_content": null,
       "justify_items": null,
       "left": null,
       "margin": null,
       "max_height": null,
       "max_width": null,
       "min_height": null,
       "min_width": null,
       "object_fit": null,
       "object_position": null,
       "order": null,
       "overflow": null,
       "overflow_x": null,
       "overflow_y": null,
       "padding": null,
       "right": null,
       "top": null,
       "visibility": null,
       "width": null
      }
     },
     "e81b9e5cee06404882fb26d417367af6": {
      "model_module": "@jupyter-widgets/controls",
      "model_module_version": "1.5.0",
      "model_name": "ProgressStyleModel",
      "state": {
       "_model_module": "@jupyter-widgets/controls",
       "_model_module_version": "1.5.0",
       "_model_name": "ProgressStyleModel",
       "_view_count": null,
       "_view_module": "@jupyter-widgets/base",
       "_view_module_version": "1.2.0",
       "_view_name": "StyleView",
       "bar_color": null,
       "description_width": ""
      }
     },
     "ea313225e5214c49856af9de78e1ae2f": {
      "model_module": "@jupyter-widgets/controls",
      "model_module_version": "1.5.0",
      "model_name": "DescriptionStyleModel",
      "state": {
       "_model_module": "@jupyter-widgets/controls",
       "_model_module_version": "1.5.0",
       "_model_name": "DescriptionStyleModel",
       "_view_count": null,
       "_view_module": "@jupyter-widgets/base",
       "_view_module_version": "1.2.0",
       "_view_name": "StyleView",
       "description_width": ""
      }
     },
     "ea7680be2055490eae61bd7f2aa9b65d": {
      "model_module": "@jupyter-widgets/controls",
      "model_module_version": "1.5.0",
      "model_name": "DescriptionStyleModel",
      "state": {
       "_model_module": "@jupyter-widgets/controls",
       "_model_module_version": "1.5.0",
       "_model_name": "DescriptionStyleModel",
       "_view_count": null,
       "_view_module": "@jupyter-widgets/base",
       "_view_module_version": "1.2.0",
       "_view_name": "StyleView",
       "description_width": ""
      }
     },
     "eaa8617eb12d4ae09791ed31e11af095": {
      "model_module": "@jupyter-widgets/base",
      "model_module_version": "1.2.0",
      "model_name": "LayoutModel",
      "state": {
       "_model_module": "@jupyter-widgets/base",
       "_model_module_version": "1.2.0",
       "_model_name": "LayoutModel",
       "_view_count": null,
       "_view_module": "@jupyter-widgets/base",
       "_view_module_version": "1.2.0",
       "_view_name": "LayoutView",
       "align_content": null,
       "align_items": null,
       "align_self": null,
       "border": null,
       "bottom": null,
       "display": null,
       "flex": null,
       "flex_flow": null,
       "grid_area": null,
       "grid_auto_columns": null,
       "grid_auto_flow": null,
       "grid_auto_rows": null,
       "grid_column": null,
       "grid_gap": null,
       "grid_row": null,
       "grid_template_areas": null,
       "grid_template_columns": null,
       "grid_template_rows": null,
       "height": null,
       "justify_content": null,
       "justify_items": null,
       "left": null,
       "margin": null,
       "max_height": null,
       "max_width": null,
       "min_height": null,
       "min_width": null,
       "object_fit": null,
       "object_position": null,
       "order": null,
       "overflow": null,
       "overflow_x": null,
       "overflow_y": null,
       "padding": null,
       "right": null,
       "top": null,
       "visibility": null,
       "width": null
      }
     },
     "ecccac96d72b48b3aa9067ed4993f0cc": {
      "model_module": "@jupyter-widgets/controls",
      "model_module_version": "1.5.0",
      "model_name": "FloatProgressModel",
      "state": {
       "_dom_classes": [],
       "_model_module": "@jupyter-widgets/controls",
       "_model_module_version": "1.5.0",
       "_model_name": "FloatProgressModel",
       "_view_count": null,
       "_view_module": "@jupyter-widgets/controls",
       "_view_module_version": "1.5.0",
       "_view_name": "ProgressView",
       "bar_style": "success",
       "description": "",
       "description_tooltip": null,
       "layout": "IPY_MODEL_6167f381fa4d4f74b1bf74794fce6322",
       "max": 935.0,
       "min": 0.0,
       "orientation": "horizontal",
       "style": "IPY_MODEL_3c16e154bcb041d48b213cd8a478181f",
       "value": 935.0
      }
     },
     "ed277729747d4e10868f277bb47a2397": {
      "model_module": "@jupyter-widgets/controls",
      "model_module_version": "1.5.0",
      "model_name": "HTMLModel",
      "state": {
       "_dom_classes": [],
       "_model_module": "@jupyter-widgets/controls",
       "_model_module_version": "1.5.0",
       "_model_name": "HTMLModel",
       "_view_count": null,
       "_view_module": "@jupyter-widgets/controls",
       "_view_module_version": "1.5.0",
       "_view_name": "HTMLView",
       "description": "",
       "description_tooltip": null,
       "layout": "IPY_MODEL_9f44d73cf8804e6dbd2096fc348737f3",
       "placeholder": "​",
       "style": "IPY_MODEL_ae94e30319304002b43ccfdf449cbd91",
       "value": " 232k/232k [00:00&lt;00:00, 948kB/s]"
      }
     },
     "ed403458b885419f9e959f3ebcc1cddc": {
      "model_module": "@jupyter-widgets/base",
      "model_module_version": "1.2.0",
      "model_name": "LayoutModel",
      "state": {
       "_model_module": "@jupyter-widgets/base",
       "_model_module_version": "1.2.0",
       "_model_name": "LayoutModel",
       "_view_count": null,
       "_view_module": "@jupyter-widgets/base",
       "_view_module_version": "1.2.0",
       "_view_name": "LayoutView",
       "align_content": null,
       "align_items": null,
       "align_self": null,
       "border": null,
       "bottom": null,
       "display": null,
       "flex": null,
       "flex_flow": null,
       "grid_area": null,
       "grid_auto_columns": null,
       "grid_auto_flow": null,
       "grid_auto_rows": null,
       "grid_column": null,
       "grid_gap": null,
       "grid_row": null,
       "grid_template_areas": null,
       "grid_template_columns": null,
       "grid_template_rows": null,
       "height": null,
       "justify_content": null,
       "justify_items": null,
       "left": null,
       "margin": null,
       "max_height": null,
       "max_width": null,
       "min_height": null,
       "min_width": null,
       "object_fit": null,
       "object_position": null,
       "order": null,
       "overflow": null,
       "overflow_x": null,
       "overflow_y": null,
       "padding": null,
       "right": null,
       "top": null,
       "visibility": null,
       "width": null
      }
     },
     "ee53ea78b7e14fa6b37e5cf894af95d7": {
      "model_module": "@jupyter-widgets/base",
      "model_module_version": "1.2.0",
      "model_name": "LayoutModel",
      "state": {
       "_model_module": "@jupyter-widgets/base",
       "_model_module_version": "1.2.0",
       "_model_name": "LayoutModel",
       "_view_count": null,
       "_view_module": "@jupyter-widgets/base",
       "_view_module_version": "1.2.0",
       "_view_name": "LayoutView",
       "align_content": null,
       "align_items": null,
       "align_self": null,
       "border": null,
       "bottom": null,
       "display": null,
       "flex": null,
       "flex_flow": null,
       "grid_area": null,
       "grid_auto_columns": null,
       "grid_auto_flow": null,
       "grid_auto_rows": null,
       "grid_column": null,
       "grid_gap": null,
       "grid_row": null,
       "grid_template_areas": null,
       "grid_template_columns": null,
       "grid_template_rows": null,
       "height": null,
       "justify_content": null,
       "justify_items": null,
       "left": null,
       "margin": null,
       "max_height": null,
       "max_width": null,
       "min_height": null,
       "min_width": null,
       "object_fit": null,
       "object_position": null,
       "order": null,
       "overflow": null,
       "overflow_x": null,
       "overflow_y": null,
       "padding": null,
       "right": null,
       "top": null,
       "visibility": null,
       "width": null
      }
     },
     "ef6c8e149dcf47a19fdb7fad68afee54": {
      "model_module": "@jupyter-widgets/controls",
      "model_module_version": "1.5.0",
      "model_name": "HTMLModel",
      "state": {
       "_dom_classes": [],
       "_model_module": "@jupyter-widgets/controls",
       "_model_module_version": "1.5.0",
       "_model_name": "HTMLModel",
       "_view_count": null,
       "_view_module": "@jupyter-widgets/controls",
       "_view_module_version": "1.5.0",
       "_view_name": "HTMLView",
       "description": "",
       "description_tooltip": null,
       "layout": "IPY_MODEL_c518f69140c0456e96e632217b3c464e",
       "placeholder": "​",
       "style": "IPY_MODEL_9517ee02b93e40b8bcadfa64fd61587c",
       "value": "tokenizer.json: 100%"
      }
     },
     "f0221b930abd43bfb3e3068dc7130d57": {
      "model_module": "@jupyter-widgets/controls",
      "model_module_version": "1.5.0",
      "model_name": "FloatProgressModel",
      "state": {
       "_dom_classes": [],
       "_model_module": "@jupyter-widgets/controls",
       "_model_module_version": "1.5.0",
       "_model_name": "FloatProgressModel",
       "_view_count": null,
       "_view_module": "@jupyter-widgets/controls",
       "_view_module_version": "1.5.0",
       "_view_name": "ProgressView",
       "bar_style": "success",
       "description": "",
       "description_tooltip": null,
       "layout": "IPY_MODEL_8845cb38965c42e6bc87a527541ee91b",
       "max": 528316.0,
       "min": 0.0,
       "orientation": "horizontal",
       "style": "IPY_MODEL_5f4fbe004f2d4bfb8de80cae4cb82b3c",
       "value": 528316.0
      }
     },
     "f0e0bea4370842eea105fcded5b21cc7": {
      "model_module": "@jupyter-widgets/base",
      "model_module_version": "1.2.0",
      "model_name": "LayoutModel",
      "state": {
       "_model_module": "@jupyter-widgets/base",
       "_model_module_version": "1.2.0",
       "_model_name": "LayoutModel",
       "_view_count": null,
       "_view_module": "@jupyter-widgets/base",
       "_view_module_version": "1.2.0",
       "_view_name": "LayoutView",
       "align_content": null,
       "align_items": null,
       "align_self": null,
       "border": null,
       "bottom": null,
       "display": null,
       "flex": null,
       "flex_flow": null,
       "grid_area": null,
       "grid_auto_columns": null,
       "grid_auto_flow": null,
       "grid_auto_rows": null,
       "grid_column": null,
       "grid_gap": null,
       "grid_row": null,
       "grid_template_areas": null,
       "grid_template_columns": null,
       "grid_template_rows": null,
       "height": null,
       "justify_content": null,
       "justify_items": null,
       "left": null,
       "margin": null,
       "max_height": null,
       "max_width": null,
       "min_height": null,
       "min_width": null,
       "object_fit": null,
       "object_position": null,
       "order": null,
       "overflow": null,
       "overflow_x": null,
       "overflow_y": null,
       "padding": null,
       "right": null,
       "top": null,
       "visibility": null,
       "width": null
      }
     },
     "f3d80b651e2345d79ed6f47d819845c9": {
      "model_module": "@jupyter-widgets/base",
      "model_module_version": "1.2.0",
      "model_name": "LayoutModel",
      "state": {
       "_model_module": "@jupyter-widgets/base",
       "_model_module_version": "1.2.0",
       "_model_name": "LayoutModel",
       "_view_count": null,
       "_view_module": "@jupyter-widgets/base",
       "_view_module_version": "1.2.0",
       "_view_name": "LayoutView",
       "align_content": null,
       "align_items": null,
       "align_self": null,
       "border": null,
       "bottom": null,
       "display": null,
       "flex": null,
       "flex_flow": null,
       "grid_area": null,
       "grid_auto_columns": null,
       "grid_auto_flow": null,
       "grid_auto_rows": null,
       "grid_column": null,
       "grid_gap": null,
       "grid_row": null,
       "grid_template_areas": null,
       "grid_template_columns": null,
       "grid_template_rows": null,
       "height": null,
       "justify_content": null,
       "justify_items": null,
       "left": null,
       "margin": null,
       "max_height": null,
       "max_width": null,
       "min_height": null,
       "min_width": null,
       "object_fit": null,
       "object_position": null,
       "order": null,
       "overflow": null,
       "overflow_x": null,
       "overflow_y": null,
       "padding": null,
       "right": null,
       "top": null,
       "visibility": null,
       "width": null
      }
     },
     "f564653a07334c7aad0b9f0559d92cdc": {
      "model_module": "@jupyter-widgets/controls",
      "model_module_version": "1.5.0",
      "model_name": "DescriptionStyleModel",
      "state": {
       "_model_module": "@jupyter-widgets/controls",
       "_model_module_version": "1.5.0",
       "_model_name": "DescriptionStyleModel",
       "_view_count": null,
       "_view_module": "@jupyter-widgets/base",
       "_view_module_version": "1.2.0",
       "_view_name": "StyleView",
       "description_width": ""
      }
     },
     "f5a9cfaa22c5443d8ae9e7128f53517d": {
      "model_module": "@jupyter-widgets/base",
      "model_module_version": "1.2.0",
      "model_name": "LayoutModel",
      "state": {
       "_model_module": "@jupyter-widgets/base",
       "_model_module_version": "1.2.0",
       "_model_name": "LayoutModel",
       "_view_count": null,
       "_view_module": "@jupyter-widgets/base",
       "_view_module_version": "1.2.0",
       "_view_name": "LayoutView",
       "align_content": null,
       "align_items": null,
       "align_self": null,
       "border": null,
       "bottom": null,
       "display": null,
       "flex": null,
       "flex_flow": null,
       "grid_area": null,
       "grid_auto_columns": null,
       "grid_auto_flow": null,
       "grid_auto_rows": null,
       "grid_column": null,
       "grid_gap": null,
       "grid_row": null,
       "grid_template_areas": null,
       "grid_template_columns": null,
       "grid_template_rows": null,
       "height": null,
       "justify_content": null,
       "justify_items": null,
       "left": null,
       "margin": null,
       "max_height": null,
       "max_width": null,
       "min_height": null,
       "min_width": null,
       "object_fit": null,
       "object_position": null,
       "order": null,
       "overflow": null,
       "overflow_x": null,
       "overflow_y": null,
       "padding": null,
       "right": null,
       "top": null,
       "visibility": null,
       "width": null
      }
     },
     "f7f9bf7fce78499d8f5f766b006e6c01": {
      "model_module": "@jupyter-widgets/controls",
      "model_module_version": "1.5.0",
      "model_name": "ProgressStyleModel",
      "state": {
       "_model_module": "@jupyter-widgets/controls",
       "_model_module_version": "1.5.0",
       "_model_name": "ProgressStyleModel",
       "_view_count": null,
       "_view_module": "@jupyter-widgets/base",
       "_view_module_version": "1.2.0",
       "_view_name": "StyleView",
       "bar_color": null,
       "description_width": ""
      }
     },
     "f8759a0877eb4f80afe5148042a9d7ff": {
      "model_module": "@jupyter-widgets/base",
      "model_module_version": "1.2.0",
      "model_name": "LayoutModel",
      "state": {
       "_model_module": "@jupyter-widgets/base",
       "_model_module_version": "1.2.0",
       "_model_name": "LayoutModel",
       "_view_count": null,
       "_view_module": "@jupyter-widgets/base",
       "_view_module_version": "1.2.0",
       "_view_name": "LayoutView",
       "align_content": null,
       "align_items": null,
       "align_self": null,
       "border": null,
       "bottom": null,
       "display": null,
       "flex": null,
       "flex_flow": null,
       "grid_area": null,
       "grid_auto_columns": null,
       "grid_auto_flow": null,
       "grid_auto_rows": null,
       "grid_column": null,
       "grid_gap": null,
       "grid_row": null,
       "grid_template_areas": null,
       "grid_template_columns": null,
       "grid_template_rows": null,
       "height": null,
       "justify_content": null,
       "justify_items": null,
       "left": null,
       "margin": null,
       "max_height": null,
       "max_width": null,
       "min_height": null,
       "min_width": null,
       "object_fit": null,
       "object_position": null,
       "order": null,
       "overflow": null,
       "overflow_x": null,
       "overflow_y": null,
       "padding": null,
       "right": null,
       "top": null,
       "visibility": null,
       "width": null
      }
     },
     "f9f992b11b15412b82cd58e5ad4e6a6b": {
      "model_module": "@jupyter-widgets/controls",
      "model_module_version": "1.5.0",
      "model_name": "DescriptionStyleModel",
      "state": {
       "_model_module": "@jupyter-widgets/controls",
       "_model_module_version": "1.5.0",
       "_model_name": "DescriptionStyleModel",
       "_view_count": null,
       "_view_module": "@jupyter-widgets/base",
       "_view_module_version": "1.2.0",
       "_view_name": "StyleView",
       "description_width": ""
      }
     },
     "fb14751a579a4abcabf4d80d5d483283": {
      "model_module": "@jupyter-widgets/controls",
      "model_module_version": "1.5.0",
      "model_name": "HBoxModel",
      "state": {
       "_dom_classes": [],
       "_model_module": "@jupyter-widgets/controls",
       "_model_module_version": "1.5.0",
       "_model_name": "HBoxModel",
       "_view_count": null,
       "_view_module": "@jupyter-widgets/controls",
       "_view_module_version": "1.5.0",
       "_view_name": "HBoxView",
       "box_style": "",
       "children": [
        "IPY_MODEL_d23fd94b5ad84de89f48b8097bb2dcfc",
        "IPY_MODEL_463da19ae4eb480bbfa6eedd171c2358",
        "IPY_MODEL_7838d2f696a74130bcf8a0cda97ea7e1"
       ],
       "layout": "IPY_MODEL_9a7592db3852440db049e2e5664a5cf2"
      }
     },
     "fd7dcb6bf0c445bc8f6f900e17f83d9e": {
      "model_module": "@jupyter-widgets/controls",
      "model_module_version": "1.5.0",
      "model_name": "ProgressStyleModel",
      "state": {
       "_model_module": "@jupyter-widgets/controls",
       "_model_module_version": "1.5.0",
       "_model_name": "ProgressStyleModel",
       "_view_count": null,
       "_view_module": "@jupyter-widgets/base",
       "_view_module_version": "1.2.0",
       "_view_name": "StyleView",
       "bar_color": null,
       "description_width": ""
      }
     },
     "fdfd59ed67d24547acfd7a6330697d55": {
      "model_module": "@jupyter-widgets/base",
      "model_module_version": "1.2.0",
      "model_name": "LayoutModel",
      "state": {
       "_model_module": "@jupyter-widgets/base",
       "_model_module_version": "1.2.0",
       "_model_name": "LayoutModel",
       "_view_count": null,
       "_view_module": "@jupyter-widgets/base",
       "_view_module_version": "1.2.0",
       "_view_name": "LayoutView",
       "align_content": null,
       "align_items": null,
       "align_self": null,
       "border": null,
       "bottom": null,
       "display": null,
       "flex": null,
       "flex_flow": null,
       "grid_area": null,
       "grid_auto_columns": null,
       "grid_auto_flow": null,
       "grid_auto_rows": null,
       "grid_column": null,
       "grid_gap": null,
       "grid_row": null,
       "grid_template_areas": null,
       "grid_template_columns": null,
       "grid_template_rows": null,
       "height": null,
       "justify_content": null,
       "justify_items": null,
       "left": null,
       "margin": null,
       "max_height": null,
       "max_width": null,
       "min_height": null,
       "min_width": null,
       "object_fit": null,
       "object_position": null,
       "order": null,
       "overflow": null,
       "overflow_x": null,
       "overflow_y": null,
       "padding": null,
       "right": null,
       "top": null,
       "visibility": null,
       "width": null
      }
     },
     "fe8654d993844dee897a1c4d3252a4a2": {
      "model_module": "@jupyter-widgets/controls",
      "model_module_version": "1.5.0",
      "model_name": "HTMLModel",
      "state": {
       "_dom_classes": [],
       "_model_module": "@jupyter-widgets/controls",
       "_model_module_version": "1.5.0",
       "_model_name": "HTMLModel",
       "_view_count": null,
       "_view_module": "@jupyter-widgets/controls",
       "_view_module_version": "1.5.0",
       "_view_name": "HTMLView",
       "description": "",
       "description_tooltip": null,
       "layout": "IPY_MODEL_7f2c85acf10b4112842a108f2c835d22",
       "placeholder": "​",
       "style": "IPY_MODEL_a0cc1cd5d6d74738a4db593d31d25ec0",
       "value": "vocab.txt: 100%"
      }
     },
     "fff49c14338c4f51adec1d3bc0089a95": {
      "model_module": "@jupyter-widgets/controls",
      "model_module_version": "1.5.0",
      "model_name": "HBoxModel",
      "state": {
       "_dom_classes": [],
       "_model_module": "@jupyter-widgets/controls",
       "_model_module_version": "1.5.0",
       "_model_name": "HBoxModel",
       "_view_count": null,
       "_view_module": "@jupyter-widgets/controls",
       "_view_module_version": "1.5.0",
       "_view_name": "HBoxView",
       "box_style": "",
       "children": [
        "IPY_MODEL_5fb6871f4ecd4eb98ce128265f95d07f",
        "IPY_MODEL_553fbbdd26934a31905588a40f8470c8",
        "IPY_MODEL_2b45feae3ef94fa4afbfba7c0d908570"
       ],
       "layout": "IPY_MODEL_0f1b5f600d4e479e9939c419c595c433"
      }
     }
    },
    "version_major": 2,
    "version_minor": 0
   }
  }
 },
 "nbformat": 4,
 "nbformat_minor": 5
}
