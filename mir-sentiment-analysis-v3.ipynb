{
 "cells": [
  {
   "cell_type": "code",
   "execution_count": 1,
   "id": "cfe3ab74",
   "metadata": {
    "_cell_guid": "b1076dfc-b9ad-4769-8c92-a6c4dae69d19",
    "_uuid": "8f2839f25d086af736a60e9eeb907d3b93b6e0e5",
    "execution": {
     "iopub.execute_input": "2024-06-12T15:50:19.494899Z",
     "iopub.status.busy": "2024-06-12T15:50:19.494572Z",
     "iopub.status.idle": "2024-06-12T15:50:23.059243Z",
     "shell.execute_reply": "2024-06-12T15:50:23.058421Z"
    },
    "papermill": {
     "duration": 3.598818,
     "end_time": "2024-06-12T15:50:23.061725",
     "exception": false,
     "start_time": "2024-06-12T15:50:19.462907",
     "status": "completed"
    },
    "tags": []
   },
   "outputs": [],
   "source": [
    "# Regular EDA(exploratory data analysis) and plotting libraries\n",
    "import numpy as np\n",
    "import pandas as pd\n",
    "import matplotlib.pyplot as plt\n",
    "\n",
    "from sklearn.model_selection import train_test_split\n",
    "%matplotlib inline\n",
    "\n",
    "from tqdm import tqdm\n",
    "import string\n",
    "import statistics\n",
    "import re\n",
    "import joblib\n",
    "import random\n",
    "import statistics\n",
    "from collections import Counter\n",
    "from scipy import stats\n",
    "import os\n",
    "\n",
    "# import seaborn as sns\n",
    "from mpl_toolkits.mplot3d import Axes3D\n",
    "from sklearn.metrics.pairwise import cosine_similarity\n",
    "import zipfile\n",
    "from wordcloud import WordCloud\n",
    "from matplotlib.lines import Line2D"
   ]
  },
  {
   "cell_type": "code",
   "execution_count": 2,
   "id": "534e2093",
   "metadata": {
    "execution": {
     "iopub.execute_input": "2024-06-12T15:50:23.122767Z",
     "iopub.status.busy": "2024-06-12T15:50:23.122321Z",
     "iopub.status.idle": "2024-06-12T15:50:23.183494Z",
     "shell.execute_reply": "2024-06-12T15:50:23.182522Z"
    },
    "papermill": {
     "duration": 0.094141,
     "end_time": "2024-06-12T15:50:23.186112",
     "exception": false,
     "start_time": "2024-06-12T15:50:23.091971",
     "status": "completed"
    },
    "tags": []
   },
   "outputs": [
    {
     "name": "stdout",
     "output_type": "stream",
     "text": [
      "category\n",
      "mir soho     304\n",
      "mir chara    168\n",
      "mirerthek     62\n",
      "Name: count, dtype: int64\n",
      "62 304 168\n"
     ]
    }
   ],
   "source": [
    "# Import the Data\n",
    "mir_link_id = pd.read_csv('/kaggle/input/media-study/mir_afsar_ali_yt_links - Sheet1.csv')\n",
    "\n",
    "\n",
    "def extract_video_id(url):\n",
    "    # Regular expression pattern to match YouTube video IDs\n",
    "    pattern = r'(?:youtube\\.com\\/(?:[^\\/\\n\\s]+\\/\\S+\\/|(?:v|e(?:mbed)?)\\/|\\S*?[?&]v=)|youtu\\.be\\/)([a-zA-Z0-9_-]{11})'\n",
    "\n",
    "    # Search for the video ID in the URL\n",
    "    match = re.search(pattern, url)\n",
    "\n",
    "    if match:\n",
    "        return match.group(1)  # Return the matched video ID\n",
    "    else:\n",
    "        return None  # Return None if no match found\n",
    "\n",
    "# Example URLs\n",
    "urls = mir_link_id['yt_link']\n",
    "\n",
    "video_ids = [extract_video_id(url) for url in urls]\n",
    "mir_link_id['video_id'] = video_ids\n",
    "\n",
    "print(mir_link_id.category.value_counts())\n",
    "\n",
    "\n",
    "mirer_thek_vids = mir_link_id[mir_link_id['category'] == 'mirerthek']['video_id'].tolist()\n",
    "mir_soho_vids = mir_link_id[mir_link_id['category'] == 'mir soho']['video_id'].tolist()\n",
    "mir_chara_vids = mir_link_id[mir_link_id['category'] == 'mir chara']['video_id'].tolist()\n",
    "\n",
    "print(f'{len(mirer_thek_vids)} {len(mir_soho_vids)} {len(mir_chara_vids)}')"
   ]
  },
  {
   "cell_type": "code",
   "execution_count": 3,
   "id": "9e71ac1e",
   "metadata": {
    "execution": {
     "iopub.execute_input": "2024-06-12T15:50:23.247914Z",
     "iopub.status.busy": "2024-06-12T15:50:23.247579Z",
     "iopub.status.idle": "2024-06-12T15:50:23.252132Z",
     "shell.execute_reply": "2024-06-12T15:50:23.251214Z"
    },
    "papermill": {
     "duration": 0.03603,
     "end_time": "2024-06-12T15:50:23.254484",
     "exception": false,
     "start_time": "2024-06-12T15:50:23.218454",
     "status": "completed"
    },
    "tags": []
   },
   "outputs": [
    {
     "name": "stdout",
     "output_type": "stream",
     "text": [
      "202\n"
     ]
    }
   ],
   "source": [
    "print(len(set(mir_soho_vids)))"
   ]
  },
  {
   "cell_type": "code",
   "execution_count": 4,
   "id": "74aac0f9",
   "metadata": {
    "execution": {
     "iopub.execute_input": "2024-06-12T15:50:23.314728Z",
     "iopub.status.busy": "2024-06-12T15:50:23.314414Z",
     "iopub.status.idle": "2024-06-12T15:50:23.364544Z",
     "shell.execute_reply": "2024-06-12T15:50:23.363565Z"
    },
    "papermill": {
     "duration": 0.083966,
     "end_time": "2024-06-12T15:50:23.366789",
     "exception": false,
     "start_time": "2024-06-12T15:50:23.282823",
     "status": "completed"
    },
    "tags": []
   },
   "outputs": [
    {
     "name": "stdout",
     "output_type": "stream",
     "text": [
      "(246, 9) (180, 9) (70, 9)\n"
     ]
    }
   ],
   "source": [
    "dfc = pd.read_csv('/kaggle/input/media-study2-0/final_video_info/mir_chara_vif.csv')\n",
    "dfs = pd.read_csv('/kaggle/input/media-study2-0/final_video_info/mir_soho_vif.csv')\n",
    "dft = pd.read_csv('/kaggle/input/media-study2-0/final_video_info/mirer_thek_vif.csv')\n",
    "\n",
    "print(f'{dfc.shape} {dfs.shape} {dft.shape}')"
   ]
  },
  {
   "cell_type": "markdown",
   "id": "2a40d167",
   "metadata": {
    "papermill": {
     "duration": 0.028497,
     "end_time": "2024-06-12T15:50:23.424385",
     "exception": false,
     "start_time": "2024-06-12T15:50:23.395888",
     "status": "completed"
    },
    "tags": []
   },
   "source": [
    "## Mir Chara Sunday Suspense"
   ]
  },
  {
   "cell_type": "code",
   "execution_count": 5,
   "id": "edf3a1ad",
   "metadata": {
    "execution": {
     "iopub.execute_input": "2024-06-12T15:50:23.483943Z",
     "iopub.status.busy": "2024-06-12T15:50:23.483611Z",
     "iopub.status.idle": "2024-06-12T15:50:29.597174Z",
     "shell.execute_reply": "2024-06-12T15:50:29.596079Z"
    },
    "papermill": {
     "duration": 6.145697,
     "end_time": "2024-06-12T15:50:29.599157",
     "exception": false,
     "start_time": "2024-06-12T15:50:23.453460",
     "status": "completed"
    },
    "tags": []
   },
   "outputs": [
    {
     "name": "stdout",
     "output_type": "stream",
     "text": [
      "Length of Mir Chara Comments is (201633, 6)\n",
      "Length of Mir Chara live chat is (343125, 4)\n",
      "Total Videos Scraped 245\n"
     ]
    },
    {
     "data": {
      "text/html": [
       "<div>\n",
       "<style scoped>\n",
       "    .dataframe tbody tr th:only-of-type {\n",
       "        vertical-align: middle;\n",
       "    }\n",
       "\n",
       "    .dataframe tbody tr th {\n",
       "        vertical-align: top;\n",
       "    }\n",
       "\n",
       "    .dataframe thead th {\n",
       "        text-align: right;\n",
       "    }\n",
       "</style>\n",
       "<table border=\"1\" class=\"dataframe\">\n",
       "  <thead>\n",
       "    <tr style=\"text-align: right;\">\n",
       "      <th></th>\n",
       "      <th>author</th>\n",
       "      <th>published_date</th>\n",
       "      <th>published_time</th>\n",
       "      <th>like_count</th>\n",
       "      <th>text</th>\n",
       "      <th>video_id</th>\n",
       "    </tr>\n",
       "  </thead>\n",
       "  <tbody>\n",
       "    <tr>\n",
       "      <th>0</th>\n",
       "      <td>@skmdimran852</td>\n",
       "      <td>2024-05-21</td>\n",
       "      <td>03:45:59Z</td>\n",
       "      <td>0</td>\n",
       "      <td>❤❤❤</td>\n",
       "      <td>SgqeN_FUprg</td>\n",
       "    </tr>\n",
       "    <tr>\n",
       "      <th>1</th>\n",
       "      <td>@tanvirhaquekhan6061</td>\n",
       "      <td>2024-05-20</td>\n",
       "      <td>14:25:10Z</td>\n",
       "      <td>0</td>\n",
       "      <td>সত্যজিত রায়ের মতো এমন দূরদর্শী মানুষ হাজার বছর...</td>\n",
       "      <td>SgqeN_FUprg</td>\n",
       "    </tr>\n",
       "    <tr>\n",
       "      <th>2</th>\n",
       "      <td>@MohammadArman-ob1id</td>\n",
       "      <td>2024-05-20</td>\n",
       "      <td>12:12:24Z</td>\n",
       "      <td>0</td>\n",
       "      <td>Mitryur porer abostha toh bollen na keno ami j...</td>\n",
       "      <td>SgqeN_FUprg</td>\n",
       "    </tr>\n",
       "  </tbody>\n",
       "</table>\n",
       "</div>"
      ],
      "text/plain": [
       "                 author published_date published_time  like_count  \\\n",
       "0         @skmdimran852     2024-05-21      03:45:59Z           0   \n",
       "1  @tanvirhaquekhan6061     2024-05-20      14:25:10Z           0   \n",
       "2  @MohammadArman-ob1id     2024-05-20      12:12:24Z           0   \n",
       "\n",
       "                                                text     video_id  \n",
       "0                                                ❤❤❤  SgqeN_FUprg  \n",
       "1  সত্যজিত রায়ের মতো এমন দূরদর্শী মানুষ হাজার বছর...  SgqeN_FUprg  \n",
       "2  Mitryur porer abostha toh bollen na keno ami j...  SgqeN_FUprg  "
      ]
     },
     "execution_count": 5,
     "metadata": {},
     "output_type": "execute_result"
    }
   ],
   "source": [
    "mc_com = pd.read_parquet('/kaggle/input/media-study2-0/final_comment_data/mir_chara_comment.parquet')\n",
    "mc_chat = pd.read_csv('/kaggle/input/media-study2-0/all_live_chat/mir_chara_live_chat.csv')\n",
    "\n",
    "ms_com = pd.read_parquet('/kaggle/input/media-study2-0/final_comment_data/mir_soho_comment.parquet')\n",
    "ms_chat = pd.read_csv('/kaggle/input/media-study2-0/all_live_chat/mir_shoho_live_chat.csv')\n",
    "\n",
    "mt_com = pd.read_csv('/kaggle/input/media-study2-0/final_comment_data/mirer_thek_comment.csv')\n",
    "mt_chat = pd.read_csv('/kaggle/input/media-study2-0/all_live_chat/mirer_thek_live_chat.csv')\n",
    "\n",
    "print(f'Length of Mir Chara Comments is {mc_com.shape}')\n",
    "print(f'Length of Mir Chara live chat is {mc_chat.shape}')\n",
    "\n",
    "print('Total Videos Scraped', mc_com['video_id'].nunique())\n",
    "\n",
    "mc_com.head(3)"
   ]
  },
  {
   "cell_type": "code",
   "execution_count": 6,
   "id": "2093adc2",
   "metadata": {
    "execution": {
     "iopub.execute_input": "2024-06-12T15:50:29.657814Z",
     "iopub.status.busy": "2024-06-12T15:50:29.657522Z",
     "iopub.status.idle": "2024-06-12T15:50:29.667439Z",
     "shell.execute_reply": "2024-06-12T15:50:29.666470Z"
    },
    "papermill": {
     "duration": 0.041122,
     "end_time": "2024-06-12T15:50:29.669614",
     "exception": false,
     "start_time": "2024-06-12T15:50:29.628492",
     "status": "completed"
    },
    "tags": []
   },
   "outputs": [
    {
     "data": {
      "text/html": [
       "<div>\n",
       "<style scoped>\n",
       "    .dataframe tbody tr th:only-of-type {\n",
       "        vertical-align: middle;\n",
       "    }\n",
       "\n",
       "    .dataframe tbody tr th {\n",
       "        vertical-align: top;\n",
       "    }\n",
       "\n",
       "    .dataframe thead th {\n",
       "        text-align: right;\n",
       "    }\n",
       "</style>\n",
       "<table border=\"1\" class=\"dataframe\">\n",
       "  <thead>\n",
       "    <tr style=\"text-align: right;\">\n",
       "      <th></th>\n",
       "      <th>datetime</th>\n",
       "      <th>author</th>\n",
       "      <th>message</th>\n",
       "      <th>vid_id</th>\n",
       "    </tr>\n",
       "  </thead>\n",
       "  <tbody>\n",
       "    <tr>\n",
       "      <th>0</th>\n",
       "      <td>2024-05-05 07:28:34</td>\n",
       "      <td>Paglamo Sudupaglamo</td>\n",
       "      <td>joy east bengal :red_square::yellow_square::re...</td>\n",
       "      <td>SgqeN_FUprg</td>\n",
       "    </tr>\n",
       "    <tr>\n",
       "      <th>1</th>\n",
       "      <td>2024-05-05 07:28:34</td>\n",
       "      <td>Soumen banarjee🙂</td>\n",
       "      <td>hi</td>\n",
       "      <td>SgqeN_FUprg</td>\n",
       "    </tr>\n",
       "    <tr>\n",
       "      <th>2</th>\n",
       "      <td>2024-05-05 07:28:37</td>\n",
       "      <td>Paglamo Sudupaglamo</td>\n",
       "      <td>joy east bengal :red_square::yellow_square::re...</td>\n",
       "      <td>SgqeN_FUprg</td>\n",
       "    </tr>\n",
       "  </tbody>\n",
       "</table>\n",
       "</div>"
      ],
      "text/plain": [
       "              datetime               author  \\\n",
       "0  2024-05-05 07:28:34  Paglamo Sudupaglamo   \n",
       "1  2024-05-05 07:28:34     Soumen banarjee🙂   \n",
       "2  2024-05-05 07:28:37  Paglamo Sudupaglamo   \n",
       "\n",
       "                                             message       vid_id  \n",
       "0  joy east bengal :red_square::yellow_square::re...  SgqeN_FUprg  \n",
       "1                                                 hi  SgqeN_FUprg  \n",
       "2  joy east bengal :red_square::yellow_square::re...  SgqeN_FUprg  "
      ]
     },
     "execution_count": 6,
     "metadata": {},
     "output_type": "execute_result"
    }
   ],
   "source": [
    "mc_chat.head(3)"
   ]
  },
  {
   "cell_type": "code",
   "execution_count": 7,
   "id": "30adc667",
   "metadata": {
    "execution": {
     "iopub.execute_input": "2024-06-12T15:50:29.732179Z",
     "iopub.status.busy": "2024-06-12T15:50:29.731834Z",
     "iopub.status.idle": "2024-06-12T15:50:29.797111Z",
     "shell.execute_reply": "2024-06-12T15:50:29.796047Z"
    },
    "papermill": {
     "duration": 0.098205,
     "end_time": "2024-06-12T15:50:29.799636",
     "exception": false,
     "start_time": "2024-06-12T15:50:29.701431",
     "status": "completed"
    },
    "tags": []
   },
   "outputs": [
    {
     "data": {
      "text/html": [
       "<div>\n",
       "<style scoped>\n",
       "    .dataframe tbody tr th:only-of-type {\n",
       "        vertical-align: middle;\n",
       "    }\n",
       "\n",
       "    .dataframe tbody tr th {\n",
       "        vertical-align: top;\n",
       "    }\n",
       "\n",
       "    .dataframe thead th {\n",
       "        text-align: right;\n",
       "    }\n",
       "</style>\n",
       "<table border=\"1\" class=\"dataframe\">\n",
       "  <thead>\n",
       "    <tr style=\"text-align: right;\">\n",
       "      <th></th>\n",
       "      <th>author</th>\n",
       "      <th>published_date</th>\n",
       "      <th>like_count</th>\n",
       "      <th>text</th>\n",
       "    </tr>\n",
       "  </thead>\n",
       "  <tbody>\n",
       "    <tr>\n",
       "      <th>0</th>\n",
       "      <td>@skmdimran852</td>\n",
       "      <td>2024-05-21</td>\n",
       "      <td>0</td>\n",
       "      <td>❤❤❤</td>\n",
       "    </tr>\n",
       "    <tr>\n",
       "      <th>1</th>\n",
       "      <td>@tanvirhaquekhan6061</td>\n",
       "      <td>2024-05-20</td>\n",
       "      <td>0</td>\n",
       "      <td>সত্যজিত রায়ের মতো এমন দূরদর্শী মানুষ হাজার বছর...</td>\n",
       "    </tr>\n",
       "    <tr>\n",
       "      <th>2</th>\n",
       "      <td>@MohammadArman-ob1id</td>\n",
       "      <td>2024-05-20</td>\n",
       "      <td>0</td>\n",
       "      <td>Mitryur porer abostha toh bollen na keno ami j...</td>\n",
       "    </tr>\n",
       "  </tbody>\n",
       "</table>\n",
       "</div>"
      ],
      "text/plain": [
       "                 author published_date  like_count  \\\n",
       "0         @skmdimran852     2024-05-21           0   \n",
       "1  @tanvirhaquekhan6061     2024-05-20           0   \n",
       "2  @MohammadArman-ob1id     2024-05-20           0   \n",
       "\n",
       "                                                text  \n",
       "0                                                ❤❤❤  \n",
       "1  সত্যজিত রায়ের মতো এমন দূরদর্শী মানুষ হাজার বছর...  \n",
       "2  Mitryur porer abostha toh bollen na keno ami j...  "
      ]
     },
     "execution_count": 7,
     "metadata": {},
     "output_type": "execute_result"
    }
   ],
   "source": [
    "mc_com.drop(columns = ['published_time', 'video_id'], inplace=True)\n",
    "ms_com.drop(columns = ['published_time', 'video_id'], inplace=True)\n",
    "mt_com.drop(columns = ['published_time', 'video_id'], inplace=True)\n",
    "\n",
    "mc_com.head(3)"
   ]
  },
  {
   "cell_type": "code",
   "execution_count": 8,
   "id": "db94bb6a",
   "metadata": {
    "execution": {
     "iopub.execute_input": "2024-06-12T15:50:29.866194Z",
     "iopub.status.busy": "2024-06-12T15:50:29.865834Z",
     "iopub.status.idle": "2024-06-12T15:50:29.919111Z",
     "shell.execute_reply": "2024-06-12T15:50:29.917996Z"
    },
    "papermill": {
     "duration": 0.08842,
     "end_time": "2024-06-12T15:50:29.921794",
     "exception": false,
     "start_time": "2024-06-12T15:50:29.833374",
     "status": "completed"
    },
    "tags": []
   },
   "outputs": [],
   "source": [
    "# Assuming df is your DataFrame\n",
    "mc_com['text'] = mc_com['text'].astype(str)\n",
    "ms_com['text'] = ms_com['text'].astype(str)\n",
    "mt_com['text'] = mt_com['text'].astype(str)\n",
    "mc_chat['message'] = mc_chat['message'].astype(str)"
   ]
  },
  {
   "cell_type": "code",
   "execution_count": 9,
   "id": "8cf3b3ce",
   "metadata": {
    "execution": {
     "iopub.execute_input": "2024-06-12T15:50:30.023018Z",
     "iopub.status.busy": "2024-06-12T15:50:30.022100Z",
     "iopub.status.idle": "2024-06-12T15:50:30.161131Z",
     "shell.execute_reply": "2024-06-12T15:50:30.160112Z"
    },
    "papermill": {
     "duration": 0.172967,
     "end_time": "2024-06-12T15:50:30.163768",
     "exception": false,
     "start_time": "2024-06-12T15:50:29.990801",
     "status": "completed"
    },
    "tags": []
   },
   "outputs": [],
   "source": [
    "import langid\n",
    "\n",
    "def detect_language(text):\n",
    "    x = langid.classify(text)[0]\n",
    "    if  x == 'bn':\n",
    "        return 'bangla'\n",
    "    elif x == 'en':\n",
    "        return 'english'\n",
    "    else:\n",
    "        return 'banglish'\n"
   ]
  },
  {
   "cell_type": "code",
   "execution_count": 10,
   "id": "d6e281a7",
   "metadata": {
    "execution": {
     "iopub.execute_input": "2024-06-12T15:50:30.225508Z",
     "iopub.status.busy": "2024-06-12T15:50:30.225189Z",
     "iopub.status.idle": "2024-06-12T15:50:32.553567Z",
     "shell.execute_reply": "2024-06-12T15:50:32.552175Z"
    },
    "papermill": {
     "duration": 2.3668,
     "end_time": "2024-06-12T15:50:32.560313",
     "exception": false,
     "start_time": "2024-06-12T15:50:30.193513",
     "status": "completed"
    },
    "tags": []
   },
   "outputs": [
    {
     "name": "stdout",
     "output_type": "stream",
     "text": [
      "Thanks Mr.mir\n"
     ]
    },
    {
     "data": {
      "text/plain": [
       "'english'"
      ]
     },
     "execution_count": 10,
     "metadata": {},
     "output_type": "execute_result"
    }
   ],
   "source": [
    "print(mt_com['text'][0])\n",
    "detect_language(mt_com['text'][0])"
   ]
  },
  {
   "cell_type": "code",
   "execution_count": 11,
   "id": "4b02b7dc",
   "metadata": {
    "execution": {
     "iopub.execute_input": "2024-06-12T15:50:32.687331Z",
     "iopub.status.busy": "2024-06-12T15:50:32.686959Z",
     "iopub.status.idle": "2024-06-12T15:50:39.865242Z",
     "shell.execute_reply": "2024-06-12T15:50:39.864304Z"
    },
    "papermill": {
     "duration": 7.243208,
     "end_time": "2024-06-12T15:50:39.867518",
     "exception": false,
     "start_time": "2024-06-12T15:50:32.624310",
     "status": "completed"
    },
    "tags": []
   },
   "outputs": [
    {
     "name": "stderr",
     "output_type": "stream",
     "text": [
      "100%|██████████| 445398/445398 [00:04<00:00, 108692.58it/s]\n",
      "100%|██████████| 201633/201633 [00:02<00:00, 99101.59it/s]\n",
      "100%|██████████| 99687/99687 [00:01<00:00, 98771.49it/s] \n"
     ]
    }
   ],
   "source": [
    "import langid\n",
    "def clean_emoji(text):\n",
    "    cleaned_text = re.sub('[^a-zA-z0-9\\u0980-\\u09FF,./!?$%&\"\\'\\\\-_;:।]',\" \",text)\n",
    "    return cleaned_text\n",
    "\n",
    "tqdm.pandas()\n",
    "ms_com['ctext'] = ms_com.text.progress_apply(clean_emoji)\n",
    "mc_com['ctext'] = mc_com.text.progress_apply(clean_emoji)\n",
    "mt_com['ctext'] = mt_com.text.progress_apply(clean_emoji)"
   ]
  },
  {
   "cell_type": "code",
   "execution_count": 12,
   "id": "5afca4e1",
   "metadata": {
    "execution": {
     "iopub.execute_input": "2024-06-12T15:50:39.943182Z",
     "iopub.status.busy": "2024-06-12T15:50:39.942748Z",
     "iopub.status.idle": "2024-06-12T15:50:39.962368Z",
     "shell.execute_reply": "2024-06-12T15:50:39.961201Z"
    },
    "papermill": {
     "duration": 0.060873,
     "end_time": "2024-06-12T15:50:39.964996",
     "exception": false,
     "start_time": "2024-06-12T15:50:39.904123",
     "status": "completed"
    },
    "tags": []
   },
   "outputs": [
    {
     "data": {
      "text/html": [
       "<div>\n",
       "<style scoped>\n",
       "    .dataframe tbody tr th:only-of-type {\n",
       "        vertical-align: middle;\n",
       "    }\n",
       "\n",
       "    .dataframe tbody tr th {\n",
       "        vertical-align: top;\n",
       "    }\n",
       "\n",
       "    .dataframe thead th {\n",
       "        text-align: right;\n",
       "    }\n",
       "</style>\n",
       "<table border=\"1\" class=\"dataframe\">\n",
       "  <thead>\n",
       "    <tr style=\"text-align: right;\">\n",
       "      <th></th>\n",
       "      <th>author</th>\n",
       "      <th>published_date</th>\n",
       "      <th>like_count</th>\n",
       "      <th>text</th>\n",
       "      <th>public</th>\n",
       "      <th>ctext</th>\n",
       "      <th>language</th>\n",
       "    </tr>\n",
       "  </thead>\n",
       "  <tbody>\n",
       "    <tr>\n",
       "      <th>0</th>\n",
       "      <td>@anwarulkabir6319</td>\n",
       "      <td>2024-05-16</td>\n",
       "      <td>0</td>\n",
       "      <td>Thanks Mr.mir</td>\n",
       "      <td>True</td>\n",
       "      <td>Thanks Mr.mir</td>\n",
       "      <td></td>\n",
       "    </tr>\n",
       "    <tr>\n",
       "      <th>1</th>\n",
       "      <td>@JayitaKundu-fy3hp</td>\n",
       "      <td>2024-05-11</td>\n",
       "      <td>0</td>\n",
       "      <td>বিভূতিভূষণ বন্দ্যোপাধ্যায় এর আদৰ্শ হিন্দু হোটে...</td>\n",
       "      <td>True</td>\n",
       "      <td>বিভূতিভূষণ বন্দ্যোপাধ্যায় এর আদৰ্শ হিন্দু হোটে...</td>\n",
       "      <td></td>\n",
       "    </tr>\n",
       "    <tr>\n",
       "      <th>2</th>\n",
       "      <td>@subi4098</td>\n",
       "      <td>2024-05-04</td>\n",
       "      <td>0</td>\n",
       "      <td>.vison boro fan tomar ami..mirchi te tomar gol...</td>\n",
       "      <td>True</td>\n",
       "      <td>.vison boro fan tomar ami..mirchi te tomar gol...</td>\n",
       "      <td></td>\n",
       "    </tr>\n",
       "    <tr>\n",
       "      <th>3</th>\n",
       "      <td>@samhotibanerjee95</td>\n",
       "      <td>2024-05-03</td>\n",
       "      <td>0</td>\n",
       "      <td>এতো স্ট্রোরি টেলার আছে yt channel এ কিন্তু মীর...</td>\n",
       "      <td>True</td>\n",
       "      <td>এতো স্ট্রোরি টেলার আছে yt channel এ কিন্তু মীর...</td>\n",
       "      <td></td>\n",
       "    </tr>\n",
       "    <tr>\n",
       "      <th>4</th>\n",
       "      <td>@malabikasengupta9803</td>\n",
       "      <td>2024-04-29</td>\n",
       "      <td>0</td>\n",
       "      <td>Khub bhalo laglo Mir.\\nMone hochilo golper mod...</td>\n",
       "      <td>True</td>\n",
       "      <td>Khub bhalo laglo Mir. Mone hochilo golper modh...</td>\n",
       "      <td></td>\n",
       "    </tr>\n",
       "  </tbody>\n",
       "</table>\n",
       "</div>"
      ],
      "text/plain": [
       "                  author published_date  like_count  \\\n",
       "0      @anwarulkabir6319     2024-05-16           0   \n",
       "1     @JayitaKundu-fy3hp     2024-05-11           0   \n",
       "2              @subi4098     2024-05-04           0   \n",
       "3     @samhotibanerjee95     2024-05-03           0   \n",
       "4  @malabikasengupta9803     2024-04-29           0   \n",
       "\n",
       "                                                text  public  \\\n",
       "0                                      Thanks Mr.mir    True   \n",
       "1  বিভূতিভূষণ বন্দ্যোপাধ্যায় এর আদৰ্শ হিন্দু হোটে...    True   \n",
       "2  .vison boro fan tomar ami..mirchi te tomar gol...    True   \n",
       "3  এতো স্ট্রোরি টেলার আছে yt channel এ কিন্তু মীর...    True   \n",
       "4  Khub bhalo laglo Mir.\\nMone hochilo golper mod...    True   \n",
       "\n",
       "                                               ctext language  \n",
       "0                                      Thanks Mr.mir           \n",
       "1  বিভূতিভূষণ বন্দ্যোপাধ্যায় এর আদৰ্শ হিন্দু হোটে...           \n",
       "2  .vison boro fan tomar ami..mirchi te tomar gol...           \n",
       "3  এতো স্ট্রোরি টেলার আছে yt channel এ কিন্তু মীর...           \n",
       "4  Khub bhalo laglo Mir. Mone hochilo golper modh...           "
      ]
     },
     "execution_count": 12,
     "metadata": {},
     "output_type": "execute_result"
    }
   ],
   "source": [
    "def detect_whitespace(text):\n",
    "    return re.match(r'^\\s*$', text) is not None\n",
    "\n",
    "ms_com['language'] = ''\n",
    "mc_com['language'] = ''\n",
    "mt_com['language'] = ''\n",
    "\n",
    "\n",
    "mt_com.head()"
   ]
  },
  {
   "cell_type": "code",
   "execution_count": 13,
   "id": "9dd10a5e",
   "metadata": {
    "execution": {
     "iopub.execute_input": "2024-06-12T15:50:40.043948Z",
     "iopub.status.busy": "2024-06-12T15:50:40.043617Z",
     "iopub.status.idle": "2024-06-12T15:50:40.161193Z",
     "shell.execute_reply": "2024-06-12T15:50:40.160314Z"
    },
    "papermill": {
     "duration": 0.158056,
     "end_time": "2024-06-12T15:50:40.163332",
     "exception": false,
     "start_time": "2024-06-12T15:50:40.005276",
     "status": "completed"
    },
    "tags": []
   },
   "outputs": [
    {
     "data": {
      "text/plain": [
       "author            0\n",
       "published_date    0\n",
       "like_count        0\n",
       "text              0\n",
       "ctext             0\n",
       "language          0\n",
       "dtype: int64"
      ]
     },
     "execution_count": 13,
     "metadata": {},
     "output_type": "execute_result"
    }
   ],
   "source": [
    "mc_com.isna().sum()"
   ]
  },
  {
   "cell_type": "markdown",
   "id": "a7b61e1b",
   "metadata": {
    "papermill": {
     "duration": 0.036439,
     "end_time": "2024-06-12T15:50:40.236155",
     "exception": false,
     "start_time": "2024-06-12T15:50:40.199716",
     "status": "completed"
    },
    "tags": []
   },
   "source": [
    "### Adding Language in Mirer thek"
   ]
  },
  {
   "cell_type": "code",
   "execution_count": 14,
   "id": "8b504f4c",
   "metadata": {
    "execution": {
     "iopub.execute_input": "2024-06-12T15:50:40.315135Z",
     "iopub.status.busy": "2024-06-12T15:50:40.314731Z",
     "iopub.status.idle": "2024-06-12T15:50:40.319671Z",
     "shell.execute_reply": "2024-06-12T15:50:40.318700Z"
    },
    "papermill": {
     "duration": 0.047303,
     "end_time": "2024-06-12T15:50:40.321740",
     "exception": false,
     "start_time": "2024-06-12T15:50:40.274437",
     "status": "completed"
    },
    "tags": []
   },
   "outputs": [],
   "source": [
    "# for ind in tqdm(mt_com.index):\n",
    "#     if detect_whitespace(mt_com['ctext'][ind]) == False:\n",
    "#         try:\n",
    "#             lang=langid.classify(mt_com['ctext'][ind])\n",
    "#         except:\n",
    "#             lang[0]='no'\n",
    "#         if lang[0] == \"en\":\n",
    "#             mt_com.loc[ind,'language'] = \"English\"\n",
    "#         elif lang[0] == \"bn\":\n",
    "#             mt_com.loc[ind,'language'] = \"Bengali\"\n",
    "#         elif lang[0] == \"no\":\n",
    "#             mt_com.loc[ind,'language'] = \"Unidentified\"\n",
    "#         else:\n",
    "#             mt_com.loc[ind,'language'] = \"Banglish\"\n",
    "#     elif detect_whitespace(mt_com['ctext'][ind]) == True:\n",
    "#         mt_com.loc[ind,'language'] = \"Emoji\""
   ]
  },
  {
   "cell_type": "code",
   "execution_count": 15,
   "id": "37f4f9da",
   "metadata": {
    "execution": {
     "iopub.execute_input": "2024-06-12T15:50:40.397527Z",
     "iopub.status.busy": "2024-06-12T15:50:40.397224Z",
     "iopub.status.idle": "2024-06-12T15:50:40.409970Z",
     "shell.execute_reply": "2024-06-12T15:50:40.409062Z"
    },
    "papermill": {
     "duration": 0.052725,
     "end_time": "2024-06-12T15:50:40.411991",
     "exception": false,
     "start_time": "2024-06-12T15:50:40.359266",
     "status": "completed"
    },
    "tags": []
   },
   "outputs": [
    {
     "data": {
      "text/html": [
       "<div>\n",
       "<style scoped>\n",
       "    .dataframe tbody tr th:only-of-type {\n",
       "        vertical-align: middle;\n",
       "    }\n",
       "\n",
       "    .dataframe tbody tr th {\n",
       "        vertical-align: top;\n",
       "    }\n",
       "\n",
       "    .dataframe thead th {\n",
       "        text-align: right;\n",
       "    }\n",
       "</style>\n",
       "<table border=\"1\" class=\"dataframe\">\n",
       "  <thead>\n",
       "    <tr style=\"text-align: right;\">\n",
       "      <th></th>\n",
       "      <th>author</th>\n",
       "      <th>published_date</th>\n",
       "      <th>like_count</th>\n",
       "      <th>text</th>\n",
       "      <th>public</th>\n",
       "      <th>ctext</th>\n",
       "      <th>language</th>\n",
       "    </tr>\n",
       "  </thead>\n",
       "  <tbody>\n",
       "    <tr>\n",
       "      <th>0</th>\n",
       "      <td>@anwarulkabir6319</td>\n",
       "      <td>2024-05-16</td>\n",
       "      <td>0</td>\n",
       "      <td>Thanks Mr.mir</td>\n",
       "      <td>True</td>\n",
       "      <td>Thanks Mr.mir</td>\n",
       "      <td></td>\n",
       "    </tr>\n",
       "    <tr>\n",
       "      <th>1</th>\n",
       "      <td>@JayitaKundu-fy3hp</td>\n",
       "      <td>2024-05-11</td>\n",
       "      <td>0</td>\n",
       "      <td>বিভূতিভূষণ বন্দ্যোপাধ্যায় এর আদৰ্শ হিন্দু হোটে...</td>\n",
       "      <td>True</td>\n",
       "      <td>বিভূতিভূষণ বন্দ্যোপাধ্যায় এর আদৰ্শ হিন্দু হোটে...</td>\n",
       "      <td></td>\n",
       "    </tr>\n",
       "    <tr>\n",
       "      <th>2</th>\n",
       "      <td>@subi4098</td>\n",
       "      <td>2024-05-04</td>\n",
       "      <td>0</td>\n",
       "      <td>.vison boro fan tomar ami..mirchi te tomar gol...</td>\n",
       "      <td>True</td>\n",
       "      <td>.vison boro fan tomar ami..mirchi te tomar gol...</td>\n",
       "      <td></td>\n",
       "    </tr>\n",
       "  </tbody>\n",
       "</table>\n",
       "</div>"
      ],
      "text/plain": [
       "               author published_date  like_count  \\\n",
       "0   @anwarulkabir6319     2024-05-16           0   \n",
       "1  @JayitaKundu-fy3hp     2024-05-11           0   \n",
       "2           @subi4098     2024-05-04           0   \n",
       "\n",
       "                                                text  public  \\\n",
       "0                                      Thanks Mr.mir    True   \n",
       "1  বিভূতিভূষণ বন্দ্যোপাধ্যায় এর আদৰ্শ হিন্দু হোটে...    True   \n",
       "2  .vison boro fan tomar ami..mirchi te tomar gol...    True   \n",
       "\n",
       "                                               ctext language  \n",
       "0                                      Thanks Mr.mir           \n",
       "1  বিভূতিভূষণ বন্দ্যোপাধ্যায় এর আদৰ্শ হিন্দু হোটে...           \n",
       "2  .vison boro fan tomar ami..mirchi te tomar gol...           "
      ]
     },
     "execution_count": 15,
     "metadata": {},
     "output_type": "execute_result"
    }
   ],
   "source": [
    "mt_com.head(3)"
   ]
  },
  {
   "cell_type": "code",
   "execution_count": 16,
   "id": "54874e43",
   "metadata": {
    "execution": {
     "iopub.execute_input": "2024-06-12T15:50:40.489210Z",
     "iopub.status.busy": "2024-06-12T15:50:40.488902Z",
     "iopub.status.idle": "2024-06-12T15:50:40.492837Z",
     "shell.execute_reply": "2024-06-12T15:50:40.491884Z"
    },
    "papermill": {
     "duration": 0.045278,
     "end_time": "2024-06-12T15:50:40.494942",
     "exception": false,
     "start_time": "2024-06-12T15:50:40.449664",
     "status": "completed"
    },
    "tags": []
   },
   "outputs": [],
   "source": [
    "# mt_com.language.value_counts()"
   ]
  },
  {
   "cell_type": "code",
   "execution_count": 17,
   "id": "0c7ca7ea",
   "metadata": {
    "execution": {
     "iopub.execute_input": "2024-06-12T15:50:40.571551Z",
     "iopub.status.busy": "2024-06-12T15:50:40.571249Z",
     "iopub.status.idle": "2024-06-12T15:50:40.575452Z",
     "shell.execute_reply": "2024-06-12T15:50:40.574391Z"
    },
    "papermill": {
     "duration": 0.045078,
     "end_time": "2024-06-12T15:50:40.577560",
     "exception": false,
     "start_time": "2024-06-12T15:50:40.532482",
     "status": "completed"
    },
    "tags": []
   },
   "outputs": [],
   "source": [
    "# filt = mt_com[mt_com['language']=='Emoji']\n",
    "# filt"
   ]
  },
  {
   "cell_type": "code",
   "execution_count": 18,
   "id": "8e38b2cb",
   "metadata": {
    "execution": {
     "iopub.execute_input": "2024-06-12T15:50:40.654738Z",
     "iopub.status.busy": "2024-06-12T15:50:40.654413Z",
     "iopub.status.idle": "2024-06-12T15:50:40.658578Z",
     "shell.execute_reply": "2024-06-12T15:50:40.657737Z"
    },
    "papermill": {
     "duration": 0.044029,
     "end_time": "2024-06-12T15:50:40.660546",
     "exception": false,
     "start_time": "2024-06-12T15:50:40.616517",
     "status": "completed"
    },
    "tags": []
   },
   "outputs": [],
   "source": [
    "# filt.isna().sum()"
   ]
  },
  {
   "cell_type": "code",
   "execution_count": 19,
   "id": "9ae2e5dc",
   "metadata": {
    "execution": {
     "iopub.execute_input": "2024-06-12T15:50:40.735906Z",
     "iopub.status.busy": "2024-06-12T15:50:40.735589Z",
     "iopub.status.idle": "2024-06-12T15:50:40.739445Z",
     "shell.execute_reply": "2024-06-12T15:50:40.738546Z"
    },
    "papermill": {
     "duration": 0.043483,
     "end_time": "2024-06-12T15:50:40.741507",
     "exception": false,
     "start_time": "2024-06-12T15:50:40.698024",
     "status": "completed"
    },
    "tags": []
   },
   "outputs": [],
   "source": [
    "# mt_com.dropna(inplace=True)\n",
    "# mt_com.isna().sum()"
   ]
  },
  {
   "cell_type": "code",
   "execution_count": 20,
   "id": "a7b97f5c",
   "metadata": {
    "execution": {
     "iopub.execute_input": "2024-06-12T15:50:40.816234Z",
     "iopub.status.busy": "2024-06-12T15:50:40.815926Z",
     "iopub.status.idle": "2024-06-12T15:50:40.819730Z",
     "shell.execute_reply": "2024-06-12T15:50:40.818905Z"
    },
    "papermill": {
     "duration": 0.043521,
     "end_time": "2024-06-12T15:50:40.821675",
     "exception": false,
     "start_time": "2024-06-12T15:50:40.778154",
     "status": "completed"
    },
    "tags": []
   },
   "outputs": [],
   "source": [
    "# mt_com.to_parquet('/kaggle/working/mirer_thek_comment.parquet', index=False)"
   ]
  },
  {
   "cell_type": "markdown",
   "id": "b4589405",
   "metadata": {
    "papermill": {
     "duration": 0.037329,
     "end_time": "2024-06-12T15:50:40.896541",
     "exception": false,
     "start_time": "2024-06-12T15:50:40.859212",
     "status": "completed"
    },
    "tags": []
   },
   "source": [
    "### Adding Language in Mir chara"
   ]
  },
  {
   "cell_type": "code",
   "execution_count": 21,
   "id": "f165520a",
   "metadata": {
    "execution": {
     "iopub.execute_input": "2024-06-12T15:50:40.971011Z",
     "iopub.status.busy": "2024-06-12T15:50:40.970632Z",
     "iopub.status.idle": "2024-06-12T15:50:40.975321Z",
     "shell.execute_reply": "2024-06-12T15:50:40.974411Z"
    },
    "papermill": {
     "duration": 0.043987,
     "end_time": "2024-06-12T15:50:40.977437",
     "exception": false,
     "start_time": "2024-06-12T15:50:40.933450",
     "status": "completed"
    },
    "tags": []
   },
   "outputs": [],
   "source": [
    "# for ind in tqdm(mc_com.index):\n",
    "#     if detect_whitespace(mc_com['ctext'][ind]) == False:\n",
    "#         try:\n",
    "#             lang=langid.classify(mc_com['ctext'][ind])\n",
    "#         except:\n",
    "#             lang[0]='no'\n",
    "#         if lang[0] == \"en\":\n",
    "#             mc_com.loc[ind,'language'] = \"English\"\n",
    "#         elif lang[0] == \"bn\":\n",
    "#             mc_com.loc[ind,'language'] = \"Bengali\"\n",
    "#         elif lang[0] == \"no\":\n",
    "#             mc_com.loc[ind,'language'] = \"Unidentified\"\n",
    "#         else:\n",
    "#             mc_com.loc[ind,'language'] = \"Banglish\"\n",
    "#     elif detect_whitespace(mc_com['ctext'][ind]) == True:\n",
    "#         mc_com.loc[ind,'language'] = \"Emoji\""
   ]
  },
  {
   "cell_type": "code",
   "execution_count": 22,
   "id": "b3c9f0e9",
   "metadata": {
    "execution": {
     "iopub.execute_input": "2024-06-12T15:50:41.050648Z",
     "iopub.status.busy": "2024-06-12T15:50:41.050369Z",
     "iopub.status.idle": "2024-06-12T15:50:41.061720Z",
     "shell.execute_reply": "2024-06-12T15:50:41.060904Z"
    },
    "papermill": {
     "duration": 0.049587,
     "end_time": "2024-06-12T15:50:41.063772",
     "exception": false,
     "start_time": "2024-06-12T15:50:41.014185",
     "status": "completed"
    },
    "tags": []
   },
   "outputs": [
    {
     "data": {
      "text/html": [
       "<div>\n",
       "<style scoped>\n",
       "    .dataframe tbody tr th:only-of-type {\n",
       "        vertical-align: middle;\n",
       "    }\n",
       "\n",
       "    .dataframe tbody tr th {\n",
       "        vertical-align: top;\n",
       "    }\n",
       "\n",
       "    .dataframe thead th {\n",
       "        text-align: right;\n",
       "    }\n",
       "</style>\n",
       "<table border=\"1\" class=\"dataframe\">\n",
       "  <thead>\n",
       "    <tr style=\"text-align: right;\">\n",
       "      <th></th>\n",
       "      <th>author</th>\n",
       "      <th>published_date</th>\n",
       "      <th>like_count</th>\n",
       "      <th>text</th>\n",
       "      <th>ctext</th>\n",
       "      <th>language</th>\n",
       "    </tr>\n",
       "  </thead>\n",
       "  <tbody>\n",
       "    <tr>\n",
       "      <th>0</th>\n",
       "      <td>@skmdimran852</td>\n",
       "      <td>2024-05-21</td>\n",
       "      <td>0</td>\n",
       "      <td>❤❤❤</td>\n",
       "      <td></td>\n",
       "      <td></td>\n",
       "    </tr>\n",
       "    <tr>\n",
       "      <th>1</th>\n",
       "      <td>@tanvirhaquekhan6061</td>\n",
       "      <td>2024-05-20</td>\n",
       "      <td>0</td>\n",
       "      <td>সত্যজিত রায়ের মতো এমন দূরদর্শী মানুষ হাজার বছর...</td>\n",
       "      <td>সত্যজিত রায়ের মতো এমন দূরদর্শী মানুষ হাজার বছর...</td>\n",
       "      <td></td>\n",
       "    </tr>\n",
       "    <tr>\n",
       "      <th>2</th>\n",
       "      <td>@MohammadArman-ob1id</td>\n",
       "      <td>2024-05-20</td>\n",
       "      <td>0</td>\n",
       "      <td>Mitryur porer abostha toh bollen na keno ami j...</td>\n",
       "      <td>Mitryur porer abostha toh bollen na keno ami j...</td>\n",
       "      <td></td>\n",
       "    </tr>\n",
       "  </tbody>\n",
       "</table>\n",
       "</div>"
      ],
      "text/plain": [
       "                 author published_date  like_count  \\\n",
       "0         @skmdimran852     2024-05-21           0   \n",
       "1  @tanvirhaquekhan6061     2024-05-20           0   \n",
       "2  @MohammadArman-ob1id     2024-05-20           0   \n",
       "\n",
       "                                                text  \\\n",
       "0                                                ❤❤❤   \n",
       "1  সত্যজিত রায়ের মতো এমন দূরদর্শী মানুষ হাজার বছর...   \n",
       "2  Mitryur porer abostha toh bollen na keno ami j...   \n",
       "\n",
       "                                               ctext language  \n",
       "0                                                              \n",
       "1  সত্যজিত রায়ের মতো এমন দূরদর্শী মানুষ হাজার বছর...           \n",
       "2  Mitryur porer abostha toh bollen na keno ami j...           "
      ]
     },
     "execution_count": 22,
     "metadata": {},
     "output_type": "execute_result"
    }
   ],
   "source": [
    "mc_com.head(3)"
   ]
  },
  {
   "cell_type": "code",
   "execution_count": 23,
   "id": "cfc80183",
   "metadata": {
    "execution": {
     "iopub.execute_input": "2024-06-12T15:50:41.140212Z",
     "iopub.status.busy": "2024-06-12T15:50:41.139832Z",
     "iopub.status.idle": "2024-06-12T15:50:41.144019Z",
     "shell.execute_reply": "2024-06-12T15:50:41.143080Z"
    },
    "papermill": {
     "duration": 0.04534,
     "end_time": "2024-06-12T15:50:41.145991",
     "exception": false,
     "start_time": "2024-06-12T15:50:41.100651",
     "status": "completed"
    },
    "tags": []
   },
   "outputs": [],
   "source": [
    "# mc_com.language.value_counts()"
   ]
  },
  {
   "cell_type": "code",
   "execution_count": 24,
   "id": "12dde0b4",
   "metadata": {
    "execution": {
     "iopub.execute_input": "2024-06-12T15:50:41.221909Z",
     "iopub.status.busy": "2024-06-12T15:50:41.221590Z",
     "iopub.status.idle": "2024-06-12T15:50:41.225668Z",
     "shell.execute_reply": "2024-06-12T15:50:41.224687Z"
    },
    "papermill": {
     "duration": 0.044538,
     "end_time": "2024-06-12T15:50:41.227666",
     "exception": false,
     "start_time": "2024-06-12T15:50:41.183128",
     "status": "completed"
    },
    "tags": []
   },
   "outputs": [],
   "source": [
    "# mt_com.dropna(inplace=True)\n",
    "# mc_com.isna().sum()"
   ]
  },
  {
   "cell_type": "code",
   "execution_count": 25,
   "id": "d5d8ddab",
   "metadata": {
    "execution": {
     "iopub.execute_input": "2024-06-12T15:50:41.306067Z",
     "iopub.status.busy": "2024-06-12T15:50:41.305241Z",
     "iopub.status.idle": "2024-06-12T15:50:41.310435Z",
     "shell.execute_reply": "2024-06-12T15:50:41.309697Z"
    },
    "papermill": {
     "duration": 0.046858,
     "end_time": "2024-06-12T15:50:41.312382",
     "exception": false,
     "start_time": "2024-06-12T15:50:41.265524",
     "status": "completed"
    },
    "tags": []
   },
   "outputs": [],
   "source": [
    "# mc_com.to_parquet('/kaggle/working/mir_chara_comment.parquet', index=False)"
   ]
  },
  {
   "cell_type": "markdown",
   "id": "308ea4fb",
   "metadata": {
    "papermill": {
     "duration": 0.036403,
     "end_time": "2024-06-12T15:50:41.385809",
     "exception": false,
     "start_time": "2024-06-12T15:50:41.349406",
     "status": "completed"
    },
    "tags": []
   },
   "source": [
    "### Adding Language in Mir Shoho"
   ]
  },
  {
   "cell_type": "code",
   "execution_count": 26,
   "id": "f197606a",
   "metadata": {
    "execution": {
     "iopub.execute_input": "2024-06-12T15:50:41.462086Z",
     "iopub.status.busy": "2024-06-12T15:50:41.461722Z",
     "iopub.status.idle": "2024-06-12T15:50:41.466686Z",
     "shell.execute_reply": "2024-06-12T15:50:41.465702Z"
    },
    "papermill": {
     "duration": 0.045942,
     "end_time": "2024-06-12T15:50:41.468729",
     "exception": false,
     "start_time": "2024-06-12T15:50:41.422787",
     "status": "completed"
    },
    "tags": []
   },
   "outputs": [],
   "source": [
    "# for ind in tqdm(ms_com.index):\n",
    "#     if detect_whitespace(ms_com['ctext'][ind]) == False:\n",
    "#         try:\n",
    "#             lang=langid.classify(ms_com['ctext'][ind])\n",
    "#         except:\n",
    "#             lang[0]='no'\n",
    "#         if lang[0] == \"en\":\n",
    "#             ms_com.loc[ind,'language'] = \"English\"\n",
    "#         elif lang[0] == \"bn\":\n",
    "#             ms_com.loc[ind,'language'] = \"Bengali\"\n",
    "#         elif lang[0] == \"no\":\n",
    "#             ms_com.loc[ind,'language'] = \"Unidentified\"\n",
    "#         else:\n",
    "#             ms_com.loc[ind,'language'] = \"Banglish\"\n",
    "#     elif detect_whitespace(ms_com['ctext'][ind]) == True:\n",
    "#         ms_com.loc[ind,'language'] = \"Emoji\""
   ]
  },
  {
   "cell_type": "code",
   "execution_count": 27,
   "id": "8b8e1296",
   "metadata": {
    "execution": {
     "iopub.execute_input": "2024-06-12T15:50:41.545642Z",
     "iopub.status.busy": "2024-06-12T15:50:41.544799Z",
     "iopub.status.idle": "2024-06-12T15:50:41.549019Z",
     "shell.execute_reply": "2024-06-12T15:50:41.548066Z"
    },
    "papermill": {
     "duration": 0.044576,
     "end_time": "2024-06-12T15:50:41.551260",
     "exception": false,
     "start_time": "2024-06-12T15:50:41.506684",
     "status": "completed"
    },
    "tags": []
   },
   "outputs": [],
   "source": [
    "# ms_com.head(3)"
   ]
  },
  {
   "cell_type": "code",
   "execution_count": 28,
   "id": "d0d838f0",
   "metadata": {
    "execution": {
     "iopub.execute_input": "2024-06-12T15:50:41.629046Z",
     "iopub.status.busy": "2024-06-12T15:50:41.628674Z",
     "iopub.status.idle": "2024-06-12T15:50:41.632902Z",
     "shell.execute_reply": "2024-06-12T15:50:41.631919Z"
    },
    "papermill": {
     "duration": 0.046492,
     "end_time": "2024-06-12T15:50:41.634958",
     "exception": false,
     "start_time": "2024-06-12T15:50:41.588466",
     "status": "completed"
    },
    "tags": []
   },
   "outputs": [],
   "source": [
    "# ms_com.isna().sum()"
   ]
  },
  {
   "cell_type": "code",
   "execution_count": 29,
   "id": "0a3319d3",
   "metadata": {
    "execution": {
     "iopub.execute_input": "2024-06-12T15:50:41.711007Z",
     "iopub.status.busy": "2024-06-12T15:50:41.710419Z",
     "iopub.status.idle": "2024-06-12T15:50:41.714579Z",
     "shell.execute_reply": "2024-06-12T15:50:41.713646Z"
    },
    "papermill": {
     "duration": 0.044097,
     "end_time": "2024-06-12T15:50:41.716685",
     "exception": false,
     "start_time": "2024-06-12T15:50:41.672588",
     "status": "completed"
    },
    "tags": []
   },
   "outputs": [],
   "source": [
    "# ms_com.language.value_counts()"
   ]
  },
  {
   "cell_type": "code",
   "execution_count": 30,
   "id": "8c56ac9e",
   "metadata": {
    "execution": {
     "iopub.execute_input": "2024-06-12T15:50:41.794526Z",
     "iopub.status.busy": "2024-06-12T15:50:41.793725Z",
     "iopub.status.idle": "2024-06-12T15:50:41.797898Z",
     "shell.execute_reply": "2024-06-12T15:50:41.797054Z"
    },
    "papermill": {
     "duration": 0.0454,
     "end_time": "2024-06-12T15:50:41.799943",
     "exception": false,
     "start_time": "2024-06-12T15:50:41.754543",
     "status": "completed"
    },
    "tags": []
   },
   "outputs": [],
   "source": [
    "# ms_com.to_parquet('/kaggle/working/mir_shoho_comment.parquet', index=False)"
   ]
  },
  {
   "cell_type": "code",
   "execution_count": 31,
   "id": "b1fccc63",
   "metadata": {
    "execution": {
     "iopub.execute_input": "2024-06-12T15:50:41.875608Z",
     "iopub.status.busy": "2024-06-12T15:50:41.875306Z",
     "iopub.status.idle": "2024-06-12T15:50:41.880317Z",
     "shell.execute_reply": "2024-06-12T15:50:41.879499Z"
    },
    "papermill": {
     "duration": 0.04477,
     "end_time": "2024-06-12T15:50:41.882270",
     "exception": false,
     "start_time": "2024-06-12T15:50:41.837500",
     "status": "completed"
    },
    "tags": []
   },
   "outputs": [],
   "source": [
    "# df = pd.read_parquet('/kaggle/working/mir_shoho_comment.parquet')\n",
    "# df.shape"
   ]
  },
  {
   "cell_type": "markdown",
   "id": "727a9a8a",
   "metadata": {
    "papermill": {
     "duration": 0.037117,
     "end_time": "2024-06-12T15:50:41.956711",
     "exception": false,
     "start_time": "2024-06-12T15:50:41.919594",
     "status": "completed"
    },
    "tags": []
   },
   "source": [
    "## Start From Here\n",
    "## Reload them all"
   ]
  },
  {
   "cell_type": "code",
   "execution_count": 32,
   "id": "31d6814a",
   "metadata": {
    "execution": {
     "iopub.execute_input": "2024-06-12T15:50:42.030674Z",
     "iopub.status.busy": "2024-06-12T15:50:42.030384Z",
     "iopub.status.idle": "2024-06-12T15:50:42.034383Z",
     "shell.execute_reply": "2024-06-12T15:50:42.033462Z"
    },
    "papermill": {
     "duration": 0.043328,
     "end_time": "2024-06-12T15:50:42.036314",
     "exception": false,
     "start_time": "2024-06-12T15:50:41.992986",
     "status": "completed"
    },
    "tags": []
   },
   "outputs": [],
   "source": [
    "# df1 = pd.read_parquet('/kaggle/working/mir_shoho_comment.parquet')\n",
    "# df2 = pd.read_parquet('/kaggle/working/mir_chara_comment.parquet')\n",
    "# df3 = pd.read_parquet('/kaggle/working/mirer_thek_comment.parquet')"
   ]
  },
  {
   "cell_type": "code",
   "execution_count": 33,
   "id": "bb26b516",
   "metadata": {
    "execution": {
     "iopub.execute_input": "2024-06-12T15:50:42.109327Z",
     "iopub.status.busy": "2024-06-12T15:50:42.109054Z",
     "iopub.status.idle": "2024-06-12T15:50:44.665398Z",
     "shell.execute_reply": "2024-06-12T15:50:44.664534Z"
    },
    "papermill": {
     "duration": 2.596364,
     "end_time": "2024-06-12T15:50:44.667641",
     "exception": false,
     "start_time": "2024-06-12T15:50:42.071277",
     "status": "completed"
    },
    "tags": []
   },
   "outputs": [],
   "source": [
    "df1 = pd.read_parquet('/kaggle/input/media-study2-0/language/mir_shoho_comment.parquet')\n",
    "df2 = pd.read_parquet('/kaggle/input/media-study2-0/language/mir_chara_comment.parquet')\n",
    "df3 = pd.read_parquet('/kaggle/input/media-study2-0/language/mirer_thek_comment.parquet')"
   ]
  },
  {
   "cell_type": "code",
   "execution_count": 34,
   "id": "62d2a0f1",
   "metadata": {
    "execution": {
     "iopub.execute_input": "2024-06-12T15:50:44.744631Z",
     "iopub.status.busy": "2024-06-12T15:50:44.744287Z",
     "iopub.status.idle": "2024-06-12T15:50:44.749092Z",
     "shell.execute_reply": "2024-06-12T15:50:44.748246Z"
    },
    "papermill": {
     "duration": 0.044978,
     "end_time": "2024-06-12T15:50:44.751047",
     "exception": false,
     "start_time": "2024-06-12T15:50:44.706069",
     "status": "completed"
    },
    "tags": []
   },
   "outputs": [
    {
     "name": "stdout",
     "output_type": "stream",
     "text": [
      "(445398, 6) (201633, 6) (99686, 7)\n"
     ]
    }
   ],
   "source": [
    "print(df1.shape, df2.shape, df3.shape)"
   ]
  },
  {
   "cell_type": "code",
   "execution_count": 35,
   "id": "41c19008",
   "metadata": {
    "execution": {
     "iopub.execute_input": "2024-06-12T15:50:44.826334Z",
     "iopub.status.busy": "2024-06-12T15:50:44.826061Z",
     "iopub.status.idle": "2024-06-12T15:50:44.829806Z",
     "shell.execute_reply": "2024-06-12T15:50:44.828972Z"
    },
    "papermill": {
     "duration": 0.043494,
     "end_time": "2024-06-12T15:50:44.831745",
     "exception": false,
     "start_time": "2024-06-12T15:50:44.788251",
     "status": "completed"
    },
    "tags": []
   },
   "outputs": [],
   "source": [
    "# print(df1.shape, df2.shape, df3.shape)"
   ]
  },
  {
   "cell_type": "code",
   "execution_count": 36,
   "id": "5d7177b3",
   "metadata": {
    "execution": {
     "iopub.execute_input": "2024-06-12T15:50:44.908964Z",
     "iopub.status.busy": "2024-06-12T15:50:44.908472Z",
     "iopub.status.idle": "2024-06-12T15:50:44.921718Z",
     "shell.execute_reply": "2024-06-12T15:50:44.920742Z"
    },
    "papermill": {
     "duration": 0.053101,
     "end_time": "2024-06-12T15:50:44.923916",
     "exception": false,
     "start_time": "2024-06-12T15:50:44.870815",
     "status": "completed"
    },
    "tags": []
   },
   "outputs": [
    {
     "data": {
      "text/html": [
       "<div>\n",
       "<style scoped>\n",
       "    .dataframe tbody tr th:only-of-type {\n",
       "        vertical-align: middle;\n",
       "    }\n",
       "\n",
       "    .dataframe tbody tr th {\n",
       "        vertical-align: top;\n",
       "    }\n",
       "\n",
       "    .dataframe thead th {\n",
       "        text-align: right;\n",
       "    }\n",
       "</style>\n",
       "<table border=\"1\" class=\"dataframe\">\n",
       "  <thead>\n",
       "    <tr style=\"text-align: right;\">\n",
       "      <th></th>\n",
       "      <th>author</th>\n",
       "      <th>published_date</th>\n",
       "      <th>like_count</th>\n",
       "      <th>text</th>\n",
       "      <th>ctext</th>\n",
       "      <th>language</th>\n",
       "    </tr>\n",
       "  </thead>\n",
       "  <tbody>\n",
       "    <tr>\n",
       "      <th>0</th>\n",
       "      <td>@Storysuspensecomedy123</td>\n",
       "      <td>2023-01-25</td>\n",
       "      <td>1</td>\n",
       "      <td>Mirda তুমি আমাকে তৈরি করে নাও। আমার জীবন ও ভবি...</td>\n",
       "      <td>Mirda তুমি আমাকে তৈরি করে নাও। আমার জীবন ও ভবি...</td>\n",
       "      <td>Bengali</td>\n",
       "    </tr>\n",
       "    <tr>\n",
       "      <th>1</th>\n",
       "      <td>@kumkumdas9131</td>\n",
       "      <td>2023-01-25</td>\n",
       "      <td>0</td>\n",
       "      <td>তারানাথ তান্ত্রিকের অপেক্ষায় থাকলাম মীর দা</td>\n",
       "      <td>তারানাথ তান্ত্রিকের অপেক্ষায় থাকলাম মীর দা</td>\n",
       "      <td>Bengali</td>\n",
       "    </tr>\n",
       "    <tr>\n",
       "      <th>2</th>\n",
       "      <td>@golamrabbani8765</td>\n",
       "      <td>2023-01-25</td>\n",
       "      <td>0</td>\n",
       "      <td>আপনার কন্ঠে শার্লক হোমস আবারও শুনতে চাই❤️❤️❤️</td>\n",
       "      <td>আপনার কন্ঠে শার্লক হোমস আবারও শুনতে চাই</td>\n",
       "      <td>Bengali</td>\n",
       "    </tr>\n",
       "  </tbody>\n",
       "</table>\n",
       "</div>"
      ],
      "text/plain": [
       "                    author published_date  like_count  \\\n",
       "0  @Storysuspensecomedy123     2023-01-25           1   \n",
       "1           @kumkumdas9131     2023-01-25           0   \n",
       "2        @golamrabbani8765     2023-01-25           0   \n",
       "\n",
       "                                                text  \\\n",
       "0  Mirda তুমি আমাকে তৈরি করে নাও। আমার জীবন ও ভবি...   \n",
       "1        তারানাথ তান্ত্রিকের অপেক্ষায় থাকলাম মীর দা   \n",
       "2      আপনার কন্ঠে শার্লক হোমস আবারও শুনতে চাই❤️❤️❤️   \n",
       "\n",
       "                                               ctext language  \n",
       "0  Mirda তুমি আমাকে তৈরি করে নাও। আমার জীবন ও ভবি...  Bengali  \n",
       "1        তারানাথ তান্ত্রিকের অপেক্ষায় থাকলাম মীর দা  Bengali  \n",
       "2      আপনার কন্ঠে শার্লক হোমস আবারও শুনতে চাই        Bengali  "
      ]
     },
     "execution_count": 36,
     "metadata": {},
     "output_type": "execute_result"
    }
   ],
   "source": [
    "df1.head(3)"
   ]
  },
  {
   "cell_type": "code",
   "execution_count": 37,
   "id": "47f67810",
   "metadata": {
    "execution": {
     "iopub.execute_input": "2024-06-12T15:50:45.000159Z",
     "iopub.status.busy": "2024-06-12T15:50:44.999589Z",
     "iopub.status.idle": "2024-06-12T15:50:45.089746Z",
     "shell.execute_reply": "2024-06-12T15:50:45.088888Z"
    },
    "papermill": {
     "duration": 0.129707,
     "end_time": "2024-06-12T15:50:45.091800",
     "exception": false,
     "start_time": "2024-06-12T15:50:44.962093",
     "status": "completed"
    },
    "tags": []
   },
   "outputs": [
    {
     "data": {
      "text/html": [
       "<div>\n",
       "<style scoped>\n",
       "    .dataframe tbody tr th:only-of-type {\n",
       "        vertical-align: middle;\n",
       "    }\n",
       "\n",
       "    .dataframe tbody tr th {\n",
       "        vertical-align: top;\n",
       "    }\n",
       "\n",
       "    .dataframe thead th {\n",
       "        text-align: right;\n",
       "    }\n",
       "</style>\n",
       "<table border=\"1\" class=\"dataframe\">\n",
       "  <thead>\n",
       "    <tr style=\"text-align: right;\">\n",
       "      <th></th>\n",
       "      <th>author</th>\n",
       "      <th>published_date</th>\n",
       "      <th>like_count</th>\n",
       "      <th>text</th>\n",
       "      <th>ctext</th>\n",
       "      <th>language</th>\n",
       "    </tr>\n",
       "  </thead>\n",
       "  <tbody>\n",
       "    <tr>\n",
       "      <th>9</th>\n",
       "      <td>@rajarshikoner3528</td>\n",
       "      <td>2023-01-25</td>\n",
       "      <td>0</td>\n",
       "      <td>❤❤❤❤</td>\n",
       "      <td></td>\n",
       "      <td>Emoji</td>\n",
       "    </tr>\n",
       "    <tr>\n",
       "      <th>34</th>\n",
       "      <td>@joymondal1013</td>\n",
       "      <td>2023-01-25</td>\n",
       "      <td>0</td>\n",
       "      <td>❤️❤️❤️❤️</td>\n",
       "      <td></td>\n",
       "      <td>Emoji</td>\n",
       "    </tr>\n",
       "    <tr>\n",
       "      <th>42</th>\n",
       "      <td>@souvikmodak7194</td>\n",
       "      <td>2023-01-25</td>\n",
       "      <td>0</td>\n",
       "      <td>❤️🌻</td>\n",
       "      <td></td>\n",
       "      <td>Emoji</td>\n",
       "    </tr>\n",
       "  </tbody>\n",
       "</table>\n",
       "</div>"
      ],
      "text/plain": [
       "                author published_date  like_count      text     ctext language\n",
       "9   @rajarshikoner3528     2023-01-25           0      ❤❤❤❤              Emoji\n",
       "34      @joymondal1013     2023-01-25           0  ❤️❤️❤️❤️              Emoji\n",
       "42    @souvikmodak7194     2023-01-25           0       ❤️🌻              Emoji"
      ]
     },
     "execution_count": 37,
     "metadata": {},
     "output_type": "execute_result"
    }
   ],
   "source": [
    "filt = df1[df1['language'] == 'Emoji']\n",
    "filt.head(3)"
   ]
  },
  {
   "cell_type": "code",
   "execution_count": 38,
   "id": "08aaecb2",
   "metadata": {
    "execution": {
     "iopub.execute_input": "2024-06-12T15:50:45.171422Z",
     "iopub.status.busy": "2024-06-12T15:50:45.170700Z",
     "iopub.status.idle": "2024-06-12T15:50:45.263396Z",
     "shell.execute_reply": "2024-06-12T15:50:45.262539Z"
    },
    "papermill": {
     "duration": 0.135127,
     "end_time": "2024-06-12T15:50:45.265545",
     "exception": false,
     "start_time": "2024-06-12T15:50:45.130418",
     "status": "completed"
    },
    "tags": []
   },
   "outputs": [],
   "source": [
    "df1.loc[df1['language'] == 'Emoji', 'ctext'] = df1['text']"
   ]
  },
  {
   "cell_type": "code",
   "execution_count": 39,
   "id": "d0a3b08e",
   "metadata": {
    "execution": {
     "iopub.execute_input": "2024-06-12T15:50:45.344686Z",
     "iopub.status.busy": "2024-06-12T15:50:45.344300Z",
     "iopub.status.idle": "2024-06-12T15:50:45.436527Z",
     "shell.execute_reply": "2024-06-12T15:50:45.435429Z"
    },
    "papermill": {
     "duration": 0.134069,
     "end_time": "2024-06-12T15:50:45.438938",
     "exception": false,
     "start_time": "2024-06-12T15:50:45.304869",
     "status": "completed"
    },
    "tags": []
   },
   "outputs": [
    {
     "data": {
      "text/html": [
       "<div>\n",
       "<style scoped>\n",
       "    .dataframe tbody tr th:only-of-type {\n",
       "        vertical-align: middle;\n",
       "    }\n",
       "\n",
       "    .dataframe tbody tr th {\n",
       "        vertical-align: top;\n",
       "    }\n",
       "\n",
       "    .dataframe thead th {\n",
       "        text-align: right;\n",
       "    }\n",
       "</style>\n",
       "<table border=\"1\" class=\"dataframe\">\n",
       "  <thead>\n",
       "    <tr style=\"text-align: right;\">\n",
       "      <th></th>\n",
       "      <th>author</th>\n",
       "      <th>published_date</th>\n",
       "      <th>like_count</th>\n",
       "      <th>text</th>\n",
       "      <th>ctext</th>\n",
       "      <th>language</th>\n",
       "    </tr>\n",
       "  </thead>\n",
       "  <tbody>\n",
       "    <tr>\n",
       "      <th>9</th>\n",
       "      <td>@rajarshikoner3528</td>\n",
       "      <td>2023-01-25</td>\n",
       "      <td>0</td>\n",
       "      <td>❤❤❤❤</td>\n",
       "      <td>❤❤❤❤</td>\n",
       "      <td>Emoji</td>\n",
       "    </tr>\n",
       "    <tr>\n",
       "      <th>34</th>\n",
       "      <td>@joymondal1013</td>\n",
       "      <td>2023-01-25</td>\n",
       "      <td>0</td>\n",
       "      <td>❤️❤️❤️❤️</td>\n",
       "      <td>❤️❤️❤️❤️</td>\n",
       "      <td>Emoji</td>\n",
       "    </tr>\n",
       "    <tr>\n",
       "      <th>42</th>\n",
       "      <td>@souvikmodak7194</td>\n",
       "      <td>2023-01-25</td>\n",
       "      <td>0</td>\n",
       "      <td>❤️🌻</td>\n",
       "      <td>❤️🌻</td>\n",
       "      <td>Emoji</td>\n",
       "    </tr>\n",
       "  </tbody>\n",
       "</table>\n",
       "</div>"
      ],
      "text/plain": [
       "                author published_date  like_count      text     ctext language\n",
       "9   @rajarshikoner3528     2023-01-25           0      ❤❤❤❤      ❤❤❤❤    Emoji\n",
       "34      @joymondal1013     2023-01-25           0  ❤️❤️❤️❤️  ❤️❤️❤️❤️    Emoji\n",
       "42    @souvikmodak7194     2023-01-25           0       ❤️🌻       ❤️🌻    Emoji"
      ]
     },
     "execution_count": 39,
     "metadata": {},
     "output_type": "execute_result"
    }
   ],
   "source": [
    "filt = df1[df1['language'] == 'Emoji']\n",
    "filt.head(3)"
   ]
  },
  {
   "cell_type": "code",
   "execution_count": 40,
   "id": "46bbc899",
   "metadata": {
    "execution": {
     "iopub.execute_input": "2024-06-12T15:50:45.520531Z",
     "iopub.status.busy": "2024-06-12T15:50:45.520184Z",
     "iopub.status.idle": "2024-06-12T15:50:45.532447Z",
     "shell.execute_reply": "2024-06-12T15:50:45.531613Z"
    },
    "papermill": {
     "duration": 0.054284,
     "end_time": "2024-06-12T15:50:45.534500",
     "exception": false,
     "start_time": "2024-06-12T15:50:45.480216",
     "status": "completed"
    },
    "tags": []
   },
   "outputs": [
    {
     "data": {
      "text/html": [
       "<div>\n",
       "<style scoped>\n",
       "    .dataframe tbody tr th:only-of-type {\n",
       "        vertical-align: middle;\n",
       "    }\n",
       "\n",
       "    .dataframe tbody tr th {\n",
       "        vertical-align: top;\n",
       "    }\n",
       "\n",
       "    .dataframe thead th {\n",
       "        text-align: right;\n",
       "    }\n",
       "</style>\n",
       "<table border=\"1\" class=\"dataframe\">\n",
       "  <thead>\n",
       "    <tr style=\"text-align: right;\">\n",
       "      <th></th>\n",
       "      <th>author</th>\n",
       "      <th>published_date</th>\n",
       "      <th>like_count</th>\n",
       "      <th>text</th>\n",
       "      <th>ctext</th>\n",
       "      <th>language</th>\n",
       "    </tr>\n",
       "  </thead>\n",
       "  <tbody>\n",
       "    <tr>\n",
       "      <th>0</th>\n",
       "      <td>@Storysuspensecomedy123</td>\n",
       "      <td>2023-01-25</td>\n",
       "      <td>1</td>\n",
       "      <td>Mirda তুমি আমাকে তৈরি করে নাও। আমার জীবন ও ভবি...</td>\n",
       "      <td>Mirda তুমি আমাকে তৈরি করে নাও। আমার জীবন ও ভবি...</td>\n",
       "      <td>Bengali</td>\n",
       "    </tr>\n",
       "    <tr>\n",
       "      <th>1</th>\n",
       "      <td>@kumkumdas9131</td>\n",
       "      <td>2023-01-25</td>\n",
       "      <td>0</td>\n",
       "      <td>তারানাথ তান্ত্রিকের অপেক্ষায় থাকলাম মীর দা</td>\n",
       "      <td>তারানাথ তান্ত্রিকের অপেক্ষায় থাকলাম মীর দা</td>\n",
       "      <td>Bengali</td>\n",
       "    </tr>\n",
       "    <tr>\n",
       "      <th>2</th>\n",
       "      <td>@golamrabbani8765</td>\n",
       "      <td>2023-01-25</td>\n",
       "      <td>0</td>\n",
       "      <td>আপনার কন্ঠে শার্লক হোমস আবারও শুনতে চাই❤️❤️❤️</td>\n",
       "      <td>আপনার কন্ঠে শার্লক হোমস আবারও শুনতে চাই</td>\n",
       "      <td>Bengali</td>\n",
       "    </tr>\n",
       "  </tbody>\n",
       "</table>\n",
       "</div>"
      ],
      "text/plain": [
       "                    author published_date  like_count  \\\n",
       "0  @Storysuspensecomedy123     2023-01-25           1   \n",
       "1           @kumkumdas9131     2023-01-25           0   \n",
       "2        @golamrabbani8765     2023-01-25           0   \n",
       "\n",
       "                                                text  \\\n",
       "0  Mirda তুমি আমাকে তৈরি করে নাও। আমার জীবন ও ভবি...   \n",
       "1        তারানাথ তান্ত্রিকের অপেক্ষায় থাকলাম মীর দা   \n",
       "2      আপনার কন্ঠে শার্লক হোমস আবারও শুনতে চাই❤️❤️❤️   \n",
       "\n",
       "                                               ctext language  \n",
       "0  Mirda তুমি আমাকে তৈরি করে নাও। আমার জীবন ও ভবি...  Bengali  \n",
       "1        তারানাথ তান্ত্রিকের অপেক্ষায় থাকলাম মীর দা  Bengali  \n",
       "2      আপনার কন্ঠে শার্লক হোমস আবারও শুনতে চাই        Bengali  "
      ]
     },
     "execution_count": 40,
     "metadata": {},
     "output_type": "execute_result"
    }
   ],
   "source": [
    "df1.head(3)"
   ]
  },
  {
   "cell_type": "code",
   "execution_count": 41,
   "id": "457ea872",
   "metadata": {
    "execution": {
     "iopub.execute_input": "2024-06-12T15:50:45.616808Z",
     "iopub.status.busy": "2024-06-12T15:50:45.616473Z",
     "iopub.status.idle": "2024-06-12T15:50:45.678554Z",
     "shell.execute_reply": "2024-06-12T15:50:45.677742Z"
    },
    "papermill": {
     "duration": 0.106957,
     "end_time": "2024-06-12T15:50:45.680596",
     "exception": false,
     "start_time": "2024-06-12T15:50:45.573639",
     "status": "completed"
    },
    "tags": []
   },
   "outputs": [],
   "source": [
    "df2.loc[df2['language'] == 'Emoji', 'ctext'] = df2['text']\n",
    "df3.loc[df3['language'] == 'Emoji', 'ctext'] = df3['text']"
   ]
  },
  {
   "cell_type": "code",
   "execution_count": 42,
   "id": "c0ddd987",
   "metadata": {
    "execution": {
     "iopub.execute_input": "2024-06-12T15:50:45.756673Z",
     "iopub.status.busy": "2024-06-12T15:50:45.756381Z",
     "iopub.status.idle": "2024-06-12T15:50:45.772264Z",
     "shell.execute_reply": "2024-06-12T15:50:45.771360Z"
    },
    "papermill": {
     "duration": 0.055823,
     "end_time": "2024-06-12T15:50:45.774417",
     "exception": false,
     "start_time": "2024-06-12T15:50:45.718594",
     "status": "completed"
    },
    "tags": []
   },
   "outputs": [
    {
     "data": {
      "text/plain": [
       "'Thanks Mr.mir'"
      ]
     },
     "execution_count": 42,
     "metadata": {},
     "output_type": "execute_result"
    }
   ],
   "source": [
    "df3.drop(['public'], inplace=True, axis=1)\n",
    "df3['text'][0]"
   ]
  },
  {
   "cell_type": "code",
   "execution_count": 43,
   "id": "006716a7",
   "metadata": {
    "execution": {
     "iopub.execute_input": "2024-06-12T15:50:45.851258Z",
     "iopub.status.busy": "2024-06-12T15:50:45.850934Z",
     "iopub.status.idle": "2024-06-12T15:50:45.891069Z",
     "shell.execute_reply": "2024-06-12T15:50:45.890094Z"
    },
    "papermill": {
     "duration": 0.081853,
     "end_time": "2024-06-12T15:50:45.893198",
     "exception": false,
     "start_time": "2024-06-12T15:50:45.811345",
     "status": "completed"
    },
    "tags": []
   },
   "outputs": [
    {
     "data": {
      "text/html": [
       "<div>\n",
       "<style scoped>\n",
       "    .dataframe tbody tr th:only-of-type {\n",
       "        vertical-align: middle;\n",
       "    }\n",
       "\n",
       "    .dataframe tbody tr th {\n",
       "        vertical-align: top;\n",
       "    }\n",
       "\n",
       "    .dataframe thead th {\n",
       "        text-align: right;\n",
       "    }\n",
       "</style>\n",
       "<table border=\"1\" class=\"dataframe\">\n",
       "  <thead>\n",
       "    <tr style=\"text-align: right;\">\n",
       "      <th></th>\n",
       "      <th>author</th>\n",
       "      <th>published_date</th>\n",
       "      <th>like_count</th>\n",
       "      <th>text</th>\n",
       "      <th>ctext</th>\n",
       "      <th>language</th>\n",
       "    </tr>\n",
       "  </thead>\n",
       "  <tbody>\n",
       "    <tr>\n",
       "      <th>0</th>\n",
       "      <td>@SubashishChakraborty</td>\n",
       "      <td>2023-03-04</td>\n",
       "      <td>4209</td>\n",
       "      <td>আজ \"ব্রহ্মপিশাচ\", কাল সানডে সাসপেন্সে\" জলপিশাচ...</td>\n",
       "      <td>আজ \"ব্রহ্মপিশাচ\", কাল সানডে সাসপেন্সে\" জলপিশাচ...</td>\n",
       "      <td>Bengali</td>\n",
       "    </tr>\n",
       "    <tr>\n",
       "      <th>1</th>\n",
       "      <td>@sakilahamed5070</td>\n",
       "      <td>2023-09-16</td>\n",
       "      <td>2828</td>\n",
       "      <td>সোমক দা❤ কে গপ্পো মীরের ঠেকে নিয়মিত শুনতে চায...</td>\n",
       "      <td>সোমক দা  কে গপ্পো মীরের ঠেকে নিয়মিত শুনতে চায...</td>\n",
       "      <td>Bengali</td>\n",
       "    </tr>\n",
       "    <tr>\n",
       "      <th>2</th>\n",
       "      <td>@gouravkayal4650</td>\n",
       "      <td>2023-08-26</td>\n",
       "      <td>2588</td>\n",
       "      <td>দাদার গলায় তারানাথ তান্ত্রিক চরিত্রটি শুনতে ক...</td>\n",
       "      <td>দাদার গলায় তারানাথ তান্ত্রিক চরিত্রটি শুনতে ক...</td>\n",
       "      <td>Bengali</td>\n",
       "    </tr>\n",
       "    <tr>\n",
       "      <th>3</th>\n",
       "      <td>@arunavakarmakar8147</td>\n",
       "      <td>2023-02-12</td>\n",
       "      <td>2453</td>\n",
       "      <td>কে কে চায় যে আবার মীরদার কন্ঠে তারানাথ তান্ত্র...</td>\n",
       "      <td>কে কে চায় যে আবার মীরদার কন্ঠে তারানাথ তান্ত্র...</td>\n",
       "      <td>Bengali</td>\n",
       "    </tr>\n",
       "    <tr>\n",
       "      <th>4</th>\n",
       "      <td>@gouravkayal4650</td>\n",
       "      <td>2023-08-12</td>\n",
       "      <td>1842</td>\n",
       "      <td>দাদার কণ্ঠে কে কে বিভূতিবাবুর লেখা 'আরণ্যক' উপ...</td>\n",
       "      <td>দাদার কণ্ঠে কে কে বিভূতিবাবুর লেখা 'আরণ্যক' উপ...</td>\n",
       "      <td>Bengali</td>\n",
       "    </tr>\n",
       "  </tbody>\n",
       "</table>\n",
       "</div>"
      ],
      "text/plain": [
       "                  author published_date  like_count  \\\n",
       "0  @SubashishChakraborty     2023-03-04        4209   \n",
       "1       @sakilahamed5070     2023-09-16        2828   \n",
       "2       @gouravkayal4650     2023-08-26        2588   \n",
       "3   @arunavakarmakar8147     2023-02-12        2453   \n",
       "4       @gouravkayal4650     2023-08-12        1842   \n",
       "\n",
       "                                                text  \\\n",
       "0  আজ \"ব্রহ্মপিশাচ\", কাল সানডে সাসপেন্সে\" জলপিশাচ...   \n",
       "1  সোমক দা❤ কে গপ্পো মীরের ঠেকে নিয়মিত শুনতে চায...   \n",
       "2  দাদার গলায় তারানাথ তান্ত্রিক চরিত্রটি শুনতে ক...   \n",
       "3  কে কে চায় যে আবার মীরদার কন্ঠে তারানাথ তান্ত্র...   \n",
       "4  দাদার কণ্ঠে কে কে বিভূতিবাবুর লেখা 'আরণ্যক' উপ...   \n",
       "\n",
       "                                               ctext language  \n",
       "0  আজ \"ব্রহ্মপিশাচ\", কাল সানডে সাসপেন্সে\" জলপিশাচ...  Bengali  \n",
       "1  সোমক দা  কে গপ্পো মীরের ঠেকে নিয়মিত শুনতে চায...  Bengali  \n",
       "2  দাদার গলায় তারানাথ তান্ত্রিক চরিত্রটি শুনতে ক...  Bengali  \n",
       "3  কে কে চায় যে আবার মীরদার কন্ঠে তারানাথ তান্ত্র...  Bengali  \n",
       "4  দাদার কণ্ঠে কে কে বিভূতিবাবুর লেখা 'আরণ্যক' উপ...  Bengali  "
      ]
     },
     "execution_count": 43,
     "metadata": {},
     "output_type": "execute_result"
    }
   ],
   "source": [
    "df3 = df3.sort_values(by='like_count', ascending=False).reset_index(drop=True)\n",
    "df3.head(5)"
   ]
  },
  {
   "cell_type": "code",
   "execution_count": 44,
   "id": "ef223bc8",
   "metadata": {
    "execution": {
     "iopub.execute_input": "2024-06-12T15:50:45.972703Z",
     "iopub.status.busy": "2024-06-12T15:50:45.972269Z",
     "iopub.status.idle": "2024-06-12T15:50:46.044754Z",
     "shell.execute_reply": "2024-06-12T15:50:46.043765Z"
    },
    "papermill": {
     "duration": 0.115758,
     "end_time": "2024-06-12T15:50:46.047137",
     "exception": false,
     "start_time": "2024-06-12T15:50:45.931379",
     "status": "completed"
    },
    "tags": []
   },
   "outputs": [
    {
     "data": {
      "text/html": [
       "<div>\n",
       "<style scoped>\n",
       "    .dataframe tbody tr th:only-of-type {\n",
       "        vertical-align: middle;\n",
       "    }\n",
       "\n",
       "    .dataframe tbody tr th {\n",
       "        vertical-align: top;\n",
       "    }\n",
       "\n",
       "    .dataframe thead th {\n",
       "        text-align: right;\n",
       "    }\n",
       "</style>\n",
       "<table border=\"1\" class=\"dataframe\">\n",
       "  <thead>\n",
       "    <tr style=\"text-align: right;\">\n",
       "      <th></th>\n",
       "      <th>author</th>\n",
       "      <th>published_date</th>\n",
       "      <th>like_count</th>\n",
       "      <th>text</th>\n",
       "      <th>ctext</th>\n",
       "      <th>language</th>\n",
       "    </tr>\n",
       "  </thead>\n",
       "  <tbody>\n",
       "    <tr>\n",
       "      <th>0</th>\n",
       "      <td>@koushikdas7808</td>\n",
       "      <td>2022-07-31</td>\n",
       "      <td>6850</td>\n",
       "      <td>মীর কে লক্ষ লক্ষ মানুষ শুনতে ভালোবাসে। তাই আমি...</td>\n",
       "      <td>মীর কে লক্ষ লক্ষ মানুষ শুনতে ভালোবাসে। তাই আমি...</td>\n",
       "      <td>Bengali</td>\n",
       "    </tr>\n",
       "    <tr>\n",
       "      <th>1</th>\n",
       "      <td>@adityapaul2361</td>\n",
       "      <td>2022-11-20</td>\n",
       "      <td>5144</td>\n",
       "      <td>আমার মতো মীর দা ও তারানাথ তান্ত্রিককে কে কে চা...</td>\n",
       "      <td>আমার মতো মীর দা ও তারানাথ তান্ত্রিককে কে কে চা...</td>\n",
       "      <td>Bengali</td>\n",
       "    </tr>\n",
       "    <tr>\n",
       "      <th>2</th>\n",
       "      <td>@Jeetbose15</td>\n",
       "      <td>2022-10-08</td>\n",
       "      <td>4880</td>\n",
       "      <td>এক পুরনো শ্রোতা এবং Sunday Suspense এর শুভাকাঙ...</td>\n",
       "      <td>এক পুরনো শ্রোতা এবং Sunday Suspense এর শুভাকাঙ...</td>\n",
       "      <td>Bengali</td>\n",
       "    </tr>\n",
       "    <tr>\n",
       "      <th>3</th>\n",
       "      <td>@SarthakJasu</td>\n",
       "      <td>2023-03-05</td>\n",
       "      <td>4130</td>\n",
       "      <td>Mir Da সেরা ছিল but Deep দা তুমি যে এইভাবে আমা...</td>\n",
       "      <td>Mir Da সেরা ছিল but Deep দা তুমি যে এইভাবে আমা...</td>\n",
       "      <td>Bengali</td>\n",
       "    </tr>\n",
       "    <tr>\n",
       "      <th>4</th>\n",
       "      <td>@surajitbarman8525</td>\n",
       "      <td>2023-01-07</td>\n",
       "      <td>3562</td>\n",
       "      <td>কয়েকদিন পর থেকে সেমিস্টার এর পরীক্ষা শুরু হবে...</td>\n",
       "      <td>কয়েকদিন পর থেকে সেমিস্টার এর পরীক্ষা শুরু হবে...</td>\n",
       "      <td>Bengali</td>\n",
       "    </tr>\n",
       "  </tbody>\n",
       "</table>\n",
       "</div>"
      ],
      "text/plain": [
       "               author published_date  like_count  \\\n",
       "0     @koushikdas7808     2022-07-31        6850   \n",
       "1     @adityapaul2361     2022-11-20        5144   \n",
       "2         @Jeetbose15     2022-10-08        4880   \n",
       "3        @SarthakJasu     2023-03-05        4130   \n",
       "4  @surajitbarman8525     2023-01-07        3562   \n",
       "\n",
       "                                                text  \\\n",
       "0  মীর কে লক্ষ লক্ষ মানুষ শুনতে ভালোবাসে। তাই আমি...   \n",
       "1  আমার মতো মীর দা ও তারানাথ তান্ত্রিককে কে কে চা...   \n",
       "2  এক পুরনো শ্রোতা এবং Sunday Suspense এর শুভাকাঙ...   \n",
       "3  Mir Da সেরা ছিল but Deep দা তুমি যে এইভাবে আমা...   \n",
       "4  কয়েকদিন পর থেকে সেমিস্টার এর পরীক্ষা শুরু হবে...   \n",
       "\n",
       "                                               ctext language  \n",
       "0  মীর কে লক্ষ লক্ষ মানুষ শুনতে ভালোবাসে। তাই আমি...  Bengali  \n",
       "1  আমার মতো মীর দা ও তারানাথ তান্ত্রিককে কে কে চা...  Bengali  \n",
       "2  এক পুরনো শ্রোতা এবং Sunday Suspense এর শুভাকাঙ...  Bengali  \n",
       "3  Mir Da সেরা ছিল but Deep দা তুমি যে এইভাবে আমা...  Bengali  \n",
       "4  কয়েকদিন পর থেকে সেমিস্টার এর পরীক্ষা শুরু হবে...  Bengali  "
      ]
     },
     "execution_count": 44,
     "metadata": {},
     "output_type": "execute_result"
    }
   ],
   "source": [
    "df2 = df2.sort_values(by='like_count', ascending=False).reset_index(drop=True)\n",
    "df2.head(5)"
   ]
  },
  {
   "cell_type": "code",
   "execution_count": 45,
   "id": "5deb1d4a",
   "metadata": {
    "execution": {
     "iopub.execute_input": "2024-06-12T15:50:46.129990Z",
     "iopub.status.busy": "2024-06-12T15:50:46.128980Z",
     "iopub.status.idle": "2024-06-12T15:50:46.279553Z",
     "shell.execute_reply": "2024-06-12T15:50:46.278598Z"
    },
    "papermill": {
     "duration": 0.193004,
     "end_time": "2024-06-12T15:50:46.281842",
     "exception": false,
     "start_time": "2024-06-12T15:50:46.088838",
     "status": "completed"
    },
    "tags": []
   },
   "outputs": [
    {
     "data": {
      "text/html": [
       "<div>\n",
       "<style scoped>\n",
       "    .dataframe tbody tr th:only-of-type {\n",
       "        vertical-align: middle;\n",
       "    }\n",
       "\n",
       "    .dataframe tbody tr th {\n",
       "        vertical-align: top;\n",
       "    }\n",
       "\n",
       "    .dataframe thead th {\n",
       "        text-align: right;\n",
       "    }\n",
       "</style>\n",
       "<table border=\"1\" class=\"dataframe\">\n",
       "  <thead>\n",
       "    <tr style=\"text-align: right;\">\n",
       "      <th></th>\n",
       "      <th>author</th>\n",
       "      <th>published_date</th>\n",
       "      <th>like_count</th>\n",
       "      <th>text</th>\n",
       "      <th>ctext</th>\n",
       "      <th>language</th>\n",
       "    </tr>\n",
       "  </thead>\n",
       "  <tbody>\n",
       "    <tr>\n",
       "      <th>0</th>\n",
       "      <td>@wolfhowling220</td>\n",
       "      <td>2021-12-19</td>\n",
       "      <td>5373</td>\n",
       "      <td>Sunday suspense er শ্রোতাদের মধ্যে কে কে \"The ...</td>\n",
       "      <td>Sunday suspense er শ্রোতাদের মধ্যে কে কে \"The ...</td>\n",
       "      <td>Bengali</td>\n",
       "    </tr>\n",
       "    <tr>\n",
       "      <th>1</th>\n",
       "      <td>@ksarkar1338</td>\n",
       "      <td>2021-12-03</td>\n",
       "      <td>4929</td>\n",
       "      <td>বেঁচে থাকতে হয়তো বিশ্ব সাহিত্যের যেসব গল্প কো...</td>\n",
       "      <td>বেঁচে থাকতে হয়তো বিশ্ব সাহিত্যের যেসব গল্প কো...</td>\n",
       "      <td>Bengali</td>\n",
       "    </tr>\n",
       "    <tr>\n",
       "      <th>2</th>\n",
       "      <td>@dcsalim4384</td>\n",
       "      <td>2021-12-12</td>\n",
       "      <td>4830</td>\n",
       "      <td>এ আমার পরম সৌভাগ্য যে একজন বাঙালি হয়ে জন্মেছি ...</td>\n",
       "      <td>এ আমার পরম সৌভাগ্য যে একজন বাঙালি হয়ে জন্মেছি ...</td>\n",
       "      <td>Bengali</td>\n",
       "    </tr>\n",
       "    <tr>\n",
       "      <th>3</th>\n",
       "      <td>@AmioPariGuru</td>\n",
       "      <td>2022-01-22</td>\n",
       "      <td>4551</td>\n",
       "      <td>কে কে মনে করেন 'The count of Monte Christo' এই...</td>\n",
       "      <td>কে কে মনে করেন 'The count of Monte Christo' এই...</td>\n",
       "      <td>Bengali</td>\n",
       "    </tr>\n",
       "    <tr>\n",
       "      <th>4</th>\n",
       "      <td>@rishiupadhyay3956</td>\n",
       "      <td>2022-05-22</td>\n",
       "      <td>3953</td>\n",
       "      <td>একটা ছোট্ট request, Alexender Dumas series যখন...</td>\n",
       "      <td>একটা ছোট্ট request, Alexender Dumas series যখন...</td>\n",
       "      <td>Bengali</td>\n",
       "    </tr>\n",
       "  </tbody>\n",
       "</table>\n",
       "</div>"
      ],
      "text/plain": [
       "               author published_date  like_count  \\\n",
       "0     @wolfhowling220     2021-12-19        5373   \n",
       "1        @ksarkar1338     2021-12-03        4929   \n",
       "2        @dcsalim4384     2021-12-12        4830   \n",
       "3       @AmioPariGuru     2022-01-22        4551   \n",
       "4  @rishiupadhyay3956     2022-05-22        3953   \n",
       "\n",
       "                                                text  \\\n",
       "0  Sunday suspense er শ্রোতাদের মধ্যে কে কে \"The ...   \n",
       "1  বেঁচে থাকতে হয়তো বিশ্ব সাহিত্যের যেসব গল্প কো...   \n",
       "2  এ আমার পরম সৌভাগ্য যে একজন বাঙালি হয়ে জন্মেছি ...   \n",
       "3  কে কে মনে করেন 'The count of Monte Christo' এই...   \n",
       "4  একটা ছোট্ট request, Alexender Dumas series যখন...   \n",
       "\n",
       "                                               ctext language  \n",
       "0  Sunday suspense er শ্রোতাদের মধ্যে কে কে \"The ...  Bengali  \n",
       "1  বেঁচে থাকতে হয়তো বিশ্ব সাহিত্যের যেসব গল্প কো...  Bengali  \n",
       "2  এ আমার পরম সৌভাগ্য যে একজন বাঙালি হয়ে জন্মেছি ...  Bengali  \n",
       "3  কে কে মনে করেন 'The count of Monte Christo' এই...  Bengali  \n",
       "4  একটা ছোট্ট request, Alexender Dumas series যখন...  Bengali  "
      ]
     },
     "execution_count": 45,
     "metadata": {},
     "output_type": "execute_result"
    }
   ],
   "source": [
    "df1 = df1.sort_values(by='like_count', ascending=False).reset_index(drop=True)\n",
    "df1.head(5)"
   ]
  },
  {
   "cell_type": "code",
   "execution_count": 46,
   "id": "da2be19a",
   "metadata": {
    "execution": {
     "iopub.execute_input": "2024-06-12T15:50:46.365479Z",
     "iopub.status.busy": "2024-06-12T15:50:46.364531Z",
     "iopub.status.idle": "2024-06-12T15:50:47.812799Z",
     "shell.execute_reply": "2024-06-12T15:50:47.811980Z"
    },
    "papermill": {
     "duration": 1.490733,
     "end_time": "2024-06-12T15:50:47.815227",
     "exception": false,
     "start_time": "2024-06-12T15:50:46.324494",
     "status": "completed"
    },
    "tags": []
   },
   "outputs": [],
   "source": [
    "def remove_extra_spaces(text):\n",
    "    # Split the text by whitespace and then join it back with a single space\n",
    "    cleaned_text = ' '.join(text.split())\n",
    "    return cleaned_text\n",
    "\n",
    "df1['ctext'] = df1['ctext'].apply(remove_extra_spaces)\n",
    "df2['ctext'] = df2['ctext'].apply(remove_extra_spaces)\n",
    "df3['ctext'] = df3['ctext'].apply(remove_extra_spaces)"
   ]
  },
  {
   "cell_type": "code",
   "execution_count": 47,
   "id": "77cbf941",
   "metadata": {
    "execution": {
     "iopub.execute_input": "2024-06-12T15:50:47.897955Z",
     "iopub.status.busy": "2024-06-12T15:50:47.897072Z",
     "iopub.status.idle": "2024-06-12T15:50:47.906406Z",
     "shell.execute_reply": "2024-06-12T15:50:47.905433Z"
    },
    "papermill": {
     "duration": 0.053075,
     "end_time": "2024-06-12T15:50:47.909233",
     "exception": false,
     "start_time": "2024-06-12T15:50:47.856158",
     "status": "completed"
    },
    "tags": []
   },
   "outputs": [
    {
     "name": "stdout",
     "output_type": "stream",
     "text": [
      "['Sunday suspense er শ্রোতাদের মধ্যে কে কে \"The count of Monte Cristo\" শুনেছ ?']\n",
      "['Bengali']\n",
      "['মীর কে লক্ষ লক্ষ মানুষ শুনতে ভালোবাসে। তাই আমি মনে করি শ্রোতাদের কথা মাথায় রেখে Sunday suspense টা তার চালিয়ে যাওয়া উচিত ছিল। যেরকম দীপ এখনো করে। মীরকে ছারা ব্যোমকেশ, তারানাথ চরিত্র গুলো ভাবা যায়না। আপনাদের কি মতামত?']\n",
      "['Bengali']\n",
      "['আজ \"ব্রহ্মপিশাচ\", কাল সানডে সাসপেন্সে\" জলপিশাচ\"। জমে যাবে পুরো। কিন্তু যতই বলো, তারানাথের চরিত্রটি মীরের কন্ঠ ছাড়া মানায় না।']\n",
      "['Bengali']\n",
      "\n",
      "1000\n"
     ]
    }
   ],
   "source": [
    "# say threshold is 20k\n",
    "threshold = 10_00\n",
    "\n",
    "test_textms = df1[:threshold]['ctext'].tolist()\n",
    "lang_ms = df1[:threshold]['language'].tolist()\n",
    "\n",
    "print(test_textms[:1])\n",
    "print(lang_ms[:1])\n",
    "\n",
    "test_textmc = df2[:threshold]['ctext'].tolist()\n",
    "lang_mc = df2[:threshold]['language'].tolist()\n",
    "\n",
    "print(test_textmc[:1])\n",
    "print(lang_mc[:1])\n",
    "\n",
    "\n",
    "test_textmt = df3[:threshold]['ctext'].tolist()\n",
    "lang_mt = df3[:threshold]['language'].tolist()\n",
    "\n",
    "print(test_textmt[:1])\n",
    "print(lang_mt[:1])\n",
    "\n",
    "\n",
    "print(f'\\n{len(test_textmc)}')"
   ]
  },
  {
   "cell_type": "code",
   "execution_count": null,
   "id": "514b1dfb",
   "metadata": {
    "papermill": {
     "duration": 0.037896,
     "end_time": "2024-06-12T15:50:47.986133",
     "exception": false,
     "start_time": "2024-06-12T15:50:47.948237",
     "status": "completed"
    },
    "tags": []
   },
   "outputs": [],
   "source": []
  },
  {
   "cell_type": "code",
   "execution_count": 48,
   "id": "69c48cf8",
   "metadata": {
    "execution": {
     "iopub.execute_input": "2024-06-12T15:50:48.063619Z",
     "iopub.status.busy": "2024-06-12T15:50:48.063277Z",
     "iopub.status.idle": "2024-06-12T15:50:48.067232Z",
     "shell.execute_reply": "2024-06-12T15:50:48.066390Z"
    },
    "papermill": {
     "duration": 0.045089,
     "end_time": "2024-06-12T15:50:48.069072",
     "exception": false,
     "start_time": "2024-06-12T15:50:48.023983",
     "status": "completed"
    },
    "tags": []
   },
   "outputs": [],
   "source": [
    "# pip install git+https://github.com/csebuetnlp/normalizer"
   ]
  },
  {
   "cell_type": "code",
   "execution_count": 49,
   "id": "f7f8b92b",
   "metadata": {
    "execution": {
     "iopub.execute_input": "2024-06-12T15:50:48.147313Z",
     "iopub.status.busy": "2024-06-12T15:50:48.146613Z",
     "iopub.status.idle": "2024-06-12T15:50:55.272577Z",
     "shell.execute_reply": "2024-06-12T15:50:55.271563Z"
    },
    "papermill": {
     "duration": 7.167219,
     "end_time": "2024-06-12T15:50:55.274826",
     "exception": false,
     "start_time": "2024-06-12T15:50:48.107607",
     "status": "completed"
    },
    "tags": []
   },
   "outputs": [
    {
     "name": "stdout",
     "output_type": "stream",
     "text": [
      "cuda:0\n"
     ]
    },
    {
     "data": {
      "text/plain": [
       "device(type='cuda', index=0)"
      ]
     },
     "execution_count": 49,
     "metadata": {},
     "output_type": "execute_result"
    }
   ],
   "source": [
    "import torch\n",
    "device = torch.device(\"cuda:0\" if torch.cuda.is_available() else \"cpu\")\n",
    "print(device)\n",
    "device"
   ]
  },
  {
   "cell_type": "code",
   "execution_count": 50,
   "id": "30ca2689",
   "metadata": {
    "execution": {
     "iopub.execute_input": "2024-06-12T15:50:55.357256Z",
     "iopub.status.busy": "2024-06-12T15:50:55.356636Z",
     "iopub.status.idle": "2024-06-12T15:51:24.931995Z",
     "shell.execute_reply": "2024-06-12T15:51:24.930912Z"
    },
    "papermill": {
     "duration": 29.61892,
     "end_time": "2024-06-12T15:51:24.934347",
     "exception": false,
     "start_time": "2024-06-12T15:50:55.315427",
     "status": "completed"
    },
    "tags": []
   },
   "outputs": [
    {
     "name": "stderr",
     "output_type": "stream",
     "text": [
      "2024-06-12 15:51:02.419892: E external/local_xla/xla/stream_executor/cuda/cuda_dnn.cc:9261] Unable to register cuDNN factory: Attempting to register factory for plugin cuDNN when one has already been registered\n",
      "2024-06-12 15:51:02.420018: E external/local_xla/xla/stream_executor/cuda/cuda_fft.cc:607] Unable to register cuFFT factory: Attempting to register factory for plugin cuFFT when one has already been registered\n",
      "2024-06-12 15:51:02.680598: E external/local_xla/xla/stream_executor/cuda/cuda_blas.cc:1515] Unable to register cuBLAS factory: Attempting to register factory for plugin cuBLAS when one has already been registered\n"
     ]
    },
    {
     "data": {
      "application/vnd.jupyter.widget-view+json": {
       "model_id": "6006e63d61be44f8b2eae78dccd88238",
       "version_major": 2,
       "version_minor": 0
      },
      "text/plain": [
       "config.json:   0%|          | 0.00/935 [00:00<?, ?B/s]"
      ]
     },
     "metadata": {},
     "output_type": "display_data"
    },
    {
     "data": {
      "application/vnd.jupyter.widget-view+json": {
       "model_id": "8a3c4241dbc4416bbbdba2311eb7ee91",
       "version_major": 2,
       "version_minor": 0
      },
      "text/plain": [
       "model.safetensors:   0%|          | 0.00/438M [00:00<?, ?B/s]"
      ]
     },
     "metadata": {},
     "output_type": "display_data"
    },
    {
     "data": {
      "application/vnd.jupyter.widget-view+json": {
       "model_id": "efaae3bd037d4147a36dabba1a4f36f1",
       "version_major": 2,
       "version_minor": 0
      },
      "text/plain": [
       "tokenizer_config.json:   0%|          | 0.00/285 [00:00<?, ?B/s]"
      ]
     },
     "metadata": {},
     "output_type": "display_data"
    },
    {
     "data": {
      "application/vnd.jupyter.widget-view+json": {
       "model_id": "2fbdd21075324801bdf1cd00a09ba57f",
       "version_major": 2,
       "version_minor": 0
      },
      "text/plain": [
       "vocab.txt:   0%|          | 0.00/232k [00:00<?, ?B/s]"
      ]
     },
     "metadata": {},
     "output_type": "display_data"
    },
    {
     "data": {
      "application/vnd.jupyter.widget-view+json": {
       "model_id": "b4dbd86e22c744efb55b6f96842fd0b3",
       "version_major": 2,
       "version_minor": 0
      },
      "text/plain": [
       "tokenizer.json:   0%|          | 0.00/466k [00:00<?, ?B/s]"
      ]
     },
     "metadata": {},
     "output_type": "display_data"
    },
    {
     "data": {
      "application/vnd.jupyter.widget-view+json": {
       "model_id": "e6443e71914044a2b88482c4b70a82b8",
       "version_major": 2,
       "version_minor": 0
      },
      "text/plain": [
       "special_tokens_map.json:   0%|          | 0.00/112 [00:00<?, ?B/s]"
      ]
     },
     "metadata": {},
     "output_type": "display_data"
    },
    {
     "name": "stderr",
     "output_type": "stream",
     "text": [
      "/opt/conda/lib/python3.10/site-packages/transformers/pipelines/text_classification.py:104: UserWarning: `return_all_scores` is now deprecated,  if want a similar functionality use `top_k=None` instead of `return_all_scores=True` or `top_k=1` instead of `return_all_scores=False`.\n",
      "  warnings.warn(\n"
     ]
    }
   ],
   "source": [
    "from transformers import pipeline\n",
    "classifier_en = pipeline(\"text-classification\",model='bhadresh-savani/bert-base-uncased-emotion',\n",
    "                         return_all_scores=False, truncation=True, device=device)"
   ]
  },
  {
   "cell_type": "code",
   "execution_count": 51,
   "id": "8a77f9f8",
   "metadata": {
    "execution": {
     "iopub.execute_input": "2024-06-12T15:51:25.018864Z",
     "iopub.status.busy": "2024-06-12T15:51:25.017707Z",
     "iopub.status.idle": "2024-06-12T15:51:37.282748Z",
     "shell.execute_reply": "2024-06-12T15:51:37.281667Z"
    },
    "papermill": {
     "duration": 12.309283,
     "end_time": "2024-06-12T15:51:37.285263",
     "exception": false,
     "start_time": "2024-06-12T15:51:24.975980",
     "status": "completed"
    },
    "tags": []
   },
   "outputs": [
    {
     "data": {
      "application/vnd.jupyter.widget-view+json": {
       "model_id": "e65b1c8a8b5948be8f3ccf4b276614fa",
       "version_major": 2,
       "version_minor": 0
      },
      "text/plain": [
       "config.json:   0%|          | 0.00/1.15k [00:00<?, ?B/s]"
      ]
     },
     "metadata": {},
     "output_type": "display_data"
    },
    {
     "data": {
      "application/vnd.jupyter.widget-view+json": {
       "model_id": "f6b51cbd59f44847a5a377094322513f",
       "version_major": 2,
       "version_minor": 0
      },
      "text/plain": [
       "model.safetensors:   0%|          | 0.00/1.63G [00:00<?, ?B/s]"
      ]
     },
     "metadata": {},
     "output_type": "display_data"
    },
    {
     "data": {
      "application/vnd.jupyter.widget-view+json": {
       "model_id": "907d6b7786d540e595782371a4c09c2f",
       "version_major": 2,
       "version_minor": 0
      },
      "text/plain": [
       "tokenizer_config.json:   0%|          | 0.00/26.0 [00:00<?, ?B/s]"
      ]
     },
     "metadata": {},
     "output_type": "display_data"
    },
    {
     "data": {
      "application/vnd.jupyter.widget-view+json": {
       "model_id": "9d733198e6674ad988b49a697bf0288a",
       "version_major": 2,
       "version_minor": 0
      },
      "text/plain": [
       "vocab.json:   0%|          | 0.00/899k [00:00<?, ?B/s]"
      ]
     },
     "metadata": {},
     "output_type": "display_data"
    },
    {
     "data": {
      "application/vnd.jupyter.widget-view+json": {
       "model_id": "92515dc4bd044f4098b5e94df155b3eb",
       "version_major": 2,
       "version_minor": 0
      },
      "text/plain": [
       "merges.txt:   0%|          | 0.00/456k [00:00<?, ?B/s]"
      ]
     },
     "metadata": {},
     "output_type": "display_data"
    },
    {
     "data": {
      "application/vnd.jupyter.widget-view+json": {
       "model_id": "8e872710db764cc6a72fbd86bddf9cfb",
       "version_major": 2,
       "version_minor": 0
      },
      "text/plain": [
       "tokenizer.json:   0%|          | 0.00/1.36M [00:00<?, ?B/s]"
      ]
     },
     "metadata": {},
     "output_type": "display_data"
    }
   ],
   "source": [
    "from transformers import pipeline\n",
    "classifier = pipeline(\"zero-shot-classification\",\n",
    "                      model=\"facebook/bart-large-mnli\", device=device)"
   ]
  },
  {
   "cell_type": "code",
   "execution_count": 52,
   "id": "6833de15",
   "metadata": {
    "execution": {
     "iopub.execute_input": "2024-06-12T15:51:37.375396Z",
     "iopub.status.busy": "2024-06-12T15:51:37.374544Z",
     "iopub.status.idle": "2024-06-12T15:51:39.126474Z",
     "shell.execute_reply": "2024-06-12T15:51:39.125439Z"
    },
    "papermill": {
     "duration": 1.798942,
     "end_time": "2024-06-12T15:51:39.128852",
     "exception": false,
     "start_time": "2024-06-12T15:51:37.329910",
     "status": "completed"
    },
    "tags": []
   },
   "outputs": [
    {
     "data": {
      "text/plain": [
       "{'sequence': 'I love using transformers. The best part is wide range of support and its easy to use',\n",
       " 'labels': ['good', 'neutral', 'bad'],\n",
       " 'scores': [0.9879899621009827, 0.009024858474731445, 0.002985224826261401]}"
      ]
     },
     "execution_count": 52,
     "metadata": {},
     "output_type": "execute_result"
    }
   ],
   "source": [
    "prediction = classifier(\"I love using transformers. The best part is wide range of support and its easy to use\", ['good', 'bad', 'neutral'])\n",
    "prediction"
   ]
  },
  {
   "cell_type": "code",
   "execution_count": null,
   "id": "bb48b131",
   "metadata": {
    "papermill": {
     "duration": 0.044234,
     "end_time": "2024-06-12T15:51:39.221615",
     "exception": false,
     "start_time": "2024-06-12T15:51:39.177381",
     "status": "completed"
    },
    "tags": []
   },
   "outputs": [],
   "source": []
  },
  {
   "cell_type": "code",
   "execution_count": 53,
   "id": "1555b5ec",
   "metadata": {
    "execution": {
     "iopub.execute_input": "2024-06-12T15:51:39.310429Z",
     "iopub.status.busy": "2024-06-12T15:51:39.310053Z",
     "iopub.status.idle": "2024-06-12T15:51:44.056223Z",
     "shell.execute_reply": "2024-06-12T15:51:44.055160Z"
    },
    "papermill": {
     "duration": 4.793328,
     "end_time": "2024-06-12T15:51:44.058916",
     "exception": false,
     "start_time": "2024-06-12T15:51:39.265588",
     "status": "completed"
    },
    "tags": []
   },
   "outputs": [
    {
     "data": {
      "application/vnd.jupyter.widget-view+json": {
       "model_id": "67cb8369bd944f17ba5237f389ff1466",
       "version_major": 2,
       "version_minor": 0
      },
      "text/plain": [
       "tokenizer_config.json:   0%|          | 0.00/119 [00:00<?, ?B/s]"
      ]
     },
     "metadata": {},
     "output_type": "display_data"
    },
    {
     "data": {
      "application/vnd.jupyter.widget-view+json": {
       "model_id": "54e96be40324403a92d75b4980c23e98",
       "version_major": 2,
       "version_minor": 0
      },
      "text/plain": [
       "config.json:   0%|          | 0.00/586 [00:00<?, ?B/s]"
      ]
     },
     "metadata": {},
     "output_type": "display_data"
    },
    {
     "data": {
      "application/vnd.jupyter.widget-view+json": {
       "model_id": "64fa6aed991b47c289b0cf5c9495cdf0",
       "version_major": 2,
       "version_minor": 0
      },
      "text/plain": [
       "vocab.txt:   0%|          | 0.00/528k [00:00<?, ?B/s]"
      ]
     },
     "metadata": {},
     "output_type": "display_data"
    },
    {
     "data": {
      "application/vnd.jupyter.widget-view+json": {
       "model_id": "a26cf08f161846c3906f036e784179a7",
       "version_major": 2,
       "version_minor": 0
      },
      "text/plain": [
       "special_tokens_map.json:   0%|          | 0.00/112 [00:00<?, ?B/s]"
      ]
     },
     "metadata": {},
     "output_type": "display_data"
    },
    {
     "name": "stdout",
     "output_type": "stream",
     "text": [
      "ElectraConfig {\n",
      "  \"_name_or_path\": \"/kaggle/input/trained-models/emo_model_dis\",\n",
      "  \"architectures\": [\n",
      "    \"ElectraForSequenceClassification\"\n",
      "  ],\n",
      "  \"attention_probs_dropout_prob\": 0.1,\n",
      "  \"classifier_dropout\": null,\n",
      "  \"embedding_size\": 768,\n",
      "  \"hidden_act\": \"gelu\",\n",
      "  \"hidden_dropout_prob\": 0.1,\n",
      "  \"hidden_size\": 768,\n",
      "  \"id2label\": {\n",
      "    \"0\": \"LABEL_0\",\n",
      "    \"1\": \"LABEL_1\",\n",
      "    \"2\": \"LABEL_2\",\n",
      "    \"3\": \"LABEL_3\"\n",
      "  },\n",
      "  \"initializer_range\": 0.02,\n",
      "  \"intermediate_size\": 3072,\n",
      "  \"label2id\": {\n",
      "    \"LABEL_0\": 0,\n",
      "    \"LABEL_1\": 1,\n",
      "    \"LABEL_2\": 2,\n",
      "    \"LABEL_3\": 3\n",
      "  },\n",
      "  \"layer_norm_eps\": 1e-12,\n",
      "  \"max_position_embeddings\": 512,\n",
      "  \"model_type\": \"electra\",\n",
      "  \"num_attention_heads\": 12,\n",
      "  \"num_hidden_layers\": 12,\n",
      "  \"pad_token_id\": 0,\n",
      "  \"position_embedding_type\": \"absolute\",\n",
      "  \"problem_type\": \"single_label_classification\",\n",
      "  \"summary_activation\": \"gelu\",\n",
      "  \"summary_last_dropout\": 0.1,\n",
      "  \"summary_type\": \"first\",\n",
      "  \"summary_use_proj\": true,\n",
      "  \"torch_dtype\": \"float32\",\n",
      "  \"transformers_version\": \"4.38.2\",\n",
      "  \"type_vocab_size\": 2,\n",
      "  \"use_cache\": true,\n",
      "  \"vocab_size\": 32000\n",
      "}\n",
      "\n"
     ]
    }
   ],
   "source": [
    "from transformers import AutoModelForSequenceClassification, AutoTokenizer\n",
    "from transformers import AutoModelForPreTraining, AutoTokenizer\n",
    "# from normalizer import normalize \n",
    "\n",
    "\n",
    "# MODEL BANGLA\n",
    "# check_point = \"csebuetnlp/banglishbert\"\n",
    "modelcp = '/kaggle/input/trained-models/emo_model_dis'\n",
    "checkpoint = \"csebuetnlp/banglabert\"\n",
    "tokenizer = AutoTokenizer.from_pretrained(checkpoint)\n",
    "model = AutoModelForSequenceClassification.from_pretrained(modelcp)\n",
    "\n",
    "print(model.config)"
   ]
  },
  {
   "cell_type": "code",
   "execution_count": 54,
   "id": "c1faed62",
   "metadata": {
    "execution": {
     "iopub.execute_input": "2024-06-12T15:51:44.145674Z",
     "iopub.status.busy": "2024-06-12T15:51:44.144911Z",
     "iopub.status.idle": "2024-06-12T15:51:44.150307Z",
     "shell.execute_reply": "2024-06-12T15:51:44.149373Z"
    },
    "papermill": {
     "duration": 0.049834,
     "end_time": "2024-06-12T15:51:44.152377",
     "exception": false,
     "start_time": "2024-06-12T15:51:44.102543",
     "status": "completed"
    },
    "tags": []
   },
   "outputs": [],
   "source": [
    "new_label_mapping = {\n",
    "     0: \"love\",\n",
    "     1: \"sad\",\n",
    "     2: \"anger\",\n",
    "     3: \"fear\"\n",
    "}\n",
    "model.config.id2label = new_label_mapping\n",
    "model.config.label2id = {v: int(k) for k, v in new_label_mapping.items()}"
   ]
  },
  {
   "cell_type": "code",
   "execution_count": 55,
   "id": "75cfae40",
   "metadata": {
    "execution": {
     "iopub.execute_input": "2024-06-12T15:51:44.238530Z",
     "iopub.status.busy": "2024-06-12T15:51:44.238192Z",
     "iopub.status.idle": "2024-06-12T15:51:44.243837Z",
     "shell.execute_reply": "2024-06-12T15:51:44.242820Z"
    },
    "papermill": {
     "duration": 0.051755,
     "end_time": "2024-06-12T15:51:44.246003",
     "exception": false,
     "start_time": "2024-06-12T15:51:44.194248",
     "status": "completed"
    },
    "tags": []
   },
   "outputs": [
    {
     "name": "stdout",
     "output_type": "stream",
     "text": [
      "['অনেক', 'ভালো', 'গল্প', '।']\n"
     ]
    }
   ],
   "source": [
    "input_text = 'অনেক ভালো গল্প।'\n",
    "# input_text = 'খুব বাজে গল্প। অনেক খারাপ লাগছে শুনতে।'\n",
    "# input_text = \"very bad story.\"\n",
    "print(tokenizer.tokenize(input_text))"
   ]
  },
  {
   "cell_type": "code",
   "execution_count": 56,
   "id": "103b15ad",
   "metadata": {
    "execution": {
     "iopub.execute_input": "2024-06-12T15:51:44.333352Z",
     "iopub.status.busy": "2024-06-12T15:51:44.332741Z",
     "iopub.status.idle": "2024-06-12T15:51:44.850679Z",
     "shell.execute_reply": "2024-06-12T15:51:44.849618Z"
    },
    "papermill": {
     "duration": 0.56444,
     "end_time": "2024-06-12T15:51:44.852903",
     "exception": false,
     "start_time": "2024-06-12T15:51:44.288463",
     "status": "completed"
    },
    "tags": []
   },
   "outputs": [
    {
     "name": "stdout",
     "output_type": "stream",
     "text": [
      "['অনেক', 'ভালো', 'গল্প', '।']\n",
      "{'input_ids': tensor([[   2, 1011, 1055, 1705,  205,    3]], device='cuda:0'), 'attention_mask': tensor([[1, 1, 1, 1, 1, 1]], device='cuda:0')}\n",
      "tensor([[ 7.6101, -2.0278, -3.2038, -2.7896]], device='cuda:0',\n",
      "       grad_fn=<AddmmBackward0>)\n",
      "tensor([[9.9988e-01, 6.5197e-05, 2.0116e-05, 3.0438e-05]], device='cuda:0',\n",
      "       grad_fn=<SoftmaxBackward0>)\n",
      "Predicted sentiment: love with probability: 0.9998842477798462\n"
     ]
    }
   ],
   "source": [
    "input_text = 'অনেক ভালো গল্প।'\n",
    "# input_text = \"মীর ছাড়া sunday suspense শুনতে ভালো লাগে  না\"\n",
    "# input_text = \"very bad story.\"\n",
    "print(tokenizer.tokenize(input_text))\n",
    "\n",
    "\n",
    "inputs = tokenizer(input_text, return_tensors=\"pt\").to(device) # Tokenize and convert to tensors\n",
    "inputs.pop(\"token_type_ids\", None)\n",
    "print(inputs)\n",
    "model = model.to(device)\n",
    "outputs = model(**inputs)  \n",
    "logits = outputs.logits \n",
    "print(logits)\n",
    "probabilities = torch.nn.functional.softmax(logits, dim=-1)\n",
    "print(probabilities)\n",
    "\n",
    "predicted_class_index = logits.argmax(-1).item()\n",
    "predicted_class = model.config.id2label[predicted_class_index]\n",
    "predicted_probability = probabilities[0][predicted_class_index].item()\n",
    "print(\"Predicted sentiment:\", predicted_class, \"with probability:\", predicted_probability)"
   ]
  },
  {
   "cell_type": "code",
   "execution_count": 57,
   "id": "f5a2a274",
   "metadata": {
    "execution": {
     "iopub.execute_input": "2024-06-12T15:51:44.940619Z",
     "iopub.status.busy": "2024-06-12T15:51:44.939968Z",
     "iopub.status.idle": "2024-06-12T15:51:44.946678Z",
     "shell.execute_reply": "2024-06-12T15:51:44.945761Z"
    },
    "papermill": {
     "duration": 0.052691,
     "end_time": "2024-06-12T15:51:44.948722",
     "exception": false,
     "start_time": "2024-06-12T15:51:44.896031",
     "status": "completed"
    },
    "tags": []
   },
   "outputs": [],
   "source": [
    "def predict(txt, model):\n",
    "    '''\n",
    "    Implements our awsome algorithm and gives final output\n",
    "    '''\n",
    "    inputs = tokenizer(txt, return_tensors=\"pt\").to(device)\n",
    "    model = model.to(device)\n",
    "    outputs = model(**inputs)\n",
    "    logits = outputs.logits\n",
    "    probabilities = torch.nn.functional.softmax(logits, dim=-1)\n",
    "    predicted_class_index = logits.argmax(-1).item()\n",
    "    predicted_class = model.config.id2label[predicted_class_index]\n",
    "    predicted_probability = probabilities[0][predicted_class_index].item()\n",
    "    return [predicted_class, predicted_probability]"
   ]
  },
  {
   "cell_type": "code",
   "execution_count": 58,
   "id": "d9c7d232",
   "metadata": {
    "execution": {
     "iopub.execute_input": "2024-06-12T15:51:45.033650Z",
     "iopub.status.busy": "2024-06-12T15:51:45.033033Z",
     "iopub.status.idle": "2024-06-12T15:51:45.322361Z",
     "shell.execute_reply": "2024-06-12T15:51:45.321346Z"
    },
    "papermill": {
     "duration": 0.333664,
     "end_time": "2024-06-12T15:51:45.324227",
     "exception": false,
     "start_time": "2024-06-12T15:51:44.990563",
     "status": "completed"
    },
    "tags": []
   },
   "outputs": [
    {
     "name": "stdout",
     "output_type": "stream",
     "text": [
      "63254\n",
      "[{'label': 'joy', 'score': 0.7061318755149841}]\n",
      "\n",
      "Bangla Bert ['anger', 0.44883376359939575]\n",
      "\n"
     ]
    },
    {
     "data": {
      "text/plain": [
       "{'sequence': 'journal_of_a_time_traveller আপনি নিজের বাবার সাথে এই ভাবে কথা বলেন??',\n",
       " 'labels': ['surprise', 'sad', 'fear', 'anger', 'love'],\n",
       " 'scores': [0.5279436111450195,\n",
       "  0.18683597445487976,\n",
       "  0.12718665599822998,\n",
       "  0.12037218362092972,\n",
       "  0.037661634385585785]}"
      ]
     },
     "execution_count": 58,
     "metadata": {},
     "output_type": "execute_result"
    }
   ],
   "source": [
    "ri = np.random.randint(0, len(df3))\n",
    "text = df3['ctext'][ri]\n",
    "# text = 'ও মাই ঘট, টাইগার'\n",
    "\n",
    "print(ri)\n",
    "print(classifier_en(text))\n",
    "\n",
    "print(f'\\nBangla Bert {predict(text, model)}\\n')\n",
    "\n",
    "candidate_labels = ['love', 'sad', 'fear', 'anger', 'surprise']\n",
    "# candidate_labels = ['আনন্দ', 'দুঃখ', 'অবাক হওয়া', 'ভয়', 'রাগ']\n",
    "# print(classifier(text, candidate_labels, multi_label=True)['labels'])\n",
    "classifier(text, candidate_labels, multi_label=False)"
   ]
  },
  {
   "cell_type": "code",
   "execution_count": 59,
   "id": "6b9281d8",
   "metadata": {
    "execution": {
     "iopub.execute_input": "2024-06-12T15:51:45.414212Z",
     "iopub.status.busy": "2024-06-12T15:51:45.413857Z",
     "iopub.status.idle": "2024-06-12T15:51:45.422744Z",
     "shell.execute_reply": "2024-06-12T15:51:45.421997Z"
    },
    "papermill": {
     "duration": 0.055335,
     "end_time": "2024-06-12T15:51:45.424636",
     "exception": false,
     "start_time": "2024-06-12T15:51:45.369301",
     "status": "completed"
    },
    "tags": []
   },
   "outputs": [],
   "source": [
    "def final(text, lang, modelx):\n",
    "    '''\n",
    "    Implements our awsome algorithm and gives final output\n",
    "    '''\n",
    "    \n",
    "#     print(x)\n",
    "    if lang == 'Bengali':\n",
    "        tokenized_text = tokenizer(text,\n",
    "                                    return_tensors=\"pt\").to(device)\n",
    "\n",
    "        with torch.no_grad():\n",
    "            modelx = modelx.to(device)\n",
    "            pred = modelx(**tokenized_text)\n",
    "            logits = pred.logits\n",
    "            probas = torch.nn.functional.softmax(logits, dim=1).to('cpu')\n",
    "            predicted_class = torch.argmax(probas, dim=1).item()\n",
    "    #         print(predicted_class)\n",
    "    #         x.append(probas.numpy().flatten())\n",
    "        return model.config.id2label[predicted_class]\n",
    "    \n",
    "    elif lang == 'English':\n",
    "        try:\n",
    "            return classifier_en(text)[0]['label']\n",
    "        except:\n",
    "            candidate_labels = ['love', 'sadness', 'fear', 'anger']\n",
    "            return classifier(text, candidate_labels, multi_label=True)['labels'][0]\n",
    "    else:\n",
    "        candidate_labels = ['love', 'sadness', 'fear', 'anger']\n",
    "        return classifier(text, candidate_labels, multi_label=True)['labels'][0]"
   ]
  },
  {
   "cell_type": "code",
   "execution_count": 60,
   "id": "992cdd59",
   "metadata": {
    "execution": {
     "iopub.execute_input": "2024-06-12T15:51:45.516625Z",
     "iopub.status.busy": "2024-06-12T15:51:45.516304Z",
     "iopub.status.idle": "2024-06-12T15:51:45.522484Z",
     "shell.execute_reply": "2024-06-12T15:51:45.521615Z"
    },
    "papermill": {
     "duration": 0.054863,
     "end_time": "2024-06-12T15:51:45.524497",
     "exception": false,
     "start_time": "2024-06-12T15:51:45.469634",
     "status": "completed"
    },
    "tags": []
   },
   "outputs": [],
   "source": [
    "def finalv2(text,lang, modelx):\n",
    "    '''\n",
    "    Implements our awsome algorithm and gives final output\n",
    "    '''\n",
    "    \n",
    "#     print(x)\n",
    "    if lang == 'Bengali':\n",
    "        candidate_labels = ['ভালো', 'খারাপ' , 'নিরপেক্ষ']\n",
    "        return classifier(text, candidate_labels, multi_label=False)['labels'][0]\n",
    "    \n",
    "    else:\n",
    "        candidate_labels = ['good', 'bad', 'neutral']\n",
    "        return classifier(text, candidate_labels, multi_label=False)['labels'][0]"
   ]
  },
  {
   "cell_type": "code",
   "execution_count": 61,
   "id": "b215119a",
   "metadata": {
    "execution": {
     "iopub.execute_input": "2024-06-12T15:51:45.611925Z",
     "iopub.status.busy": "2024-06-12T15:51:45.611608Z",
     "iopub.status.idle": "2024-06-12T15:51:45.617658Z",
     "shell.execute_reply": "2024-06-12T15:51:45.616701Z"
    },
    "papermill": {
     "duration": 0.050887,
     "end_time": "2024-06-12T15:51:45.619662",
     "exception": false,
     "start_time": "2024-06-12T15:51:45.568775",
     "status": "completed"
    },
    "tags": []
   },
   "outputs": [],
   "source": [
    "def finalv3(row):\n",
    "    '''\n",
    "    Implements our awsome algorithm and gives final output\n",
    "    '''\n",
    "    text = row['ctext']\n",
    "    lang = row['language']\n",
    "#     print(x)\n",
    "    if lang == 'Bengali':\n",
    "        candidate_labels = ['ভালো', 'খারাপ' , 'নিরপেক্ষ']\n",
    "        return classifier(text, candidate_labels, multi_label=False)['labels'][0]\n",
    "    \n",
    "    else:\n",
    "        candidate_labels = ['good', 'bad', 'neutral']\n",
    "        return classifier(text, candidate_labels, multi_label=False)['labels'][0]"
   ]
  },
  {
   "cell_type": "code",
   "execution_count": null,
   "id": "6b69f05a",
   "metadata": {
    "papermill": {
     "duration": 0.042322,
     "end_time": "2024-06-12T15:51:45.703458",
     "exception": false,
     "start_time": "2024-06-12T15:51:45.661136",
     "status": "completed"
    },
    "tags": []
   },
   "outputs": [],
   "source": []
  },
  {
   "cell_type": "code",
   "execution_count": 62,
   "id": "08f552d8",
   "metadata": {
    "execution": {
     "iopub.execute_input": "2024-06-12T15:51:45.793385Z",
     "iopub.status.busy": "2024-06-12T15:51:45.792716Z",
     "iopub.status.idle": "2024-06-12T15:51:45.952338Z",
     "shell.execute_reply": "2024-06-12T15:51:45.951276Z"
    },
    "papermill": {
     "duration": 0.208393,
     "end_time": "2024-06-12T15:51:45.954572",
     "exception": false,
     "start_time": "2024-06-12T15:51:45.746179",
     "status": "completed"
    },
    "tags": []
   },
   "outputs": [
    {
     "name": "stdout",
     "output_type": "stream",
     "text": [
      "অর্জুন, কাকাবাবু হয়ে যাক। Bengali\n",
      "love\n",
      "\n",
      "Dada hindu adorsho hotel kabe sunbo ? Banglish\n",
      "love\n",
      "\n",
      "Darun English\n",
      "fear\n",
      "\n",
      "Ami English\n",
      "anger\n",
      "\n",
      "একটা কথাই বলব... অনবদ্য.. Bengali\n",
      "love\n",
      "\n"
     ]
    }
   ],
   "source": [
    "for i in range(5):    \n",
    "    ri = np.random.randint(0, len(df3))\n",
    "    input_text = df3['ctext'][ri]\n",
    "    lang = df3['language'][ri]\n",
    "    print(input_text, lang)\n",
    "\n",
    "    predicted_class = final(input_text, lang, model)\n",
    "    print(predicted_class)\n",
    "    print()"
   ]
  },
  {
   "cell_type": "code",
   "execution_count": 63,
   "id": "20896f96",
   "metadata": {
    "execution": {
     "iopub.execute_input": "2024-06-12T15:51:46.041501Z",
     "iopub.status.busy": "2024-06-12T15:51:46.041143Z",
     "iopub.status.idle": "2024-06-12T15:51:46.050639Z",
     "shell.execute_reply": "2024-06-12T15:51:46.049722Z"
    },
    "papermill": {
     "duration": 0.054622,
     "end_time": "2024-06-12T15:51:46.052830",
     "exception": false,
     "start_time": "2024-06-12T15:51:45.998208",
     "status": "completed"
    },
    "tags": []
   },
   "outputs": [
    {
     "name": "stdout",
     "output_type": "stream",
     "text": [
      "['Sunday suspense er শ্রোতাদের মধ্যে কে কে \"The count of Monte Cristo\" শুনেছ ?']\n",
      "['Bengali']\n",
      "['মীর কে লক্ষ লক্ষ মানুষ শুনতে ভালোবাসে। তাই আমি মনে করি শ্রোতাদের কথা মাথায় রেখে Sunday suspense টা তার চালিয়ে যাওয়া উচিত ছিল। যেরকম দীপ এখনো করে। মীরকে ছারা ব্যোমকেশ, তারানাথ চরিত্র গুলো ভাবা যায়না। আপনাদের কি মতামত?']\n",
      "['Bengali']\n",
      "['আজ \"ব্রহ্মপিশাচ\", কাল সানডে সাসপেন্সে\" জলপিশাচ\"। জমে যাবে পুরো। কিন্তু যতই বলো, তারানাথের চরিত্রটি মীরের কন্ঠ ছাড়া মানায় না।']\n",
      "['Bengali']\n",
      "\n",
      "100\n"
     ]
    }
   ],
   "source": [
    "# say threshold is 20k\n",
    "threshold = 10_0\n",
    "\n",
    "test_textms = df1[:threshold]['ctext'].tolist()\n",
    "lang_ms = df1[:threshold]['language'].tolist()\n",
    "\n",
    "print(test_textms[:1])\n",
    "print(lang_ms[:1])\n",
    "\n",
    "test_textmc = df2[:threshold]['ctext'].tolist()\n",
    "lang_mc = df2[:threshold]['language'].tolist()\n",
    "\n",
    "print(test_textmc[:1])\n",
    "print(lang_mc[:1])\n",
    "\n",
    "\n",
    "test_textmt = df3[:threshold]['ctext'].tolist()\n",
    "lang_mt = df3[:threshold]['language'].tolist()\n",
    "\n",
    "print(test_textmt[:1])\n",
    "print(lang_mt[:1])\n",
    "\n",
    "\n",
    "print(f'\\n{len(test_textmc)}')"
   ]
  },
  {
   "cell_type": "code",
   "execution_count": 64,
   "id": "7a2416f8",
   "metadata": {
    "execution": {
     "iopub.execute_input": "2024-06-12T15:51:46.142728Z",
     "iopub.status.busy": "2024-06-12T15:51:46.142424Z",
     "iopub.status.idle": "2024-06-12T15:51:46.146491Z",
     "shell.execute_reply": "2024-06-12T15:51:46.145610Z"
    },
    "papermill": {
     "duration": 0.0523,
     "end_time": "2024-06-12T15:51:46.148837",
     "exception": false,
     "start_time": "2024-06-12T15:51:46.096537",
     "status": "completed"
    },
    "tags": []
   },
   "outputs": [],
   "source": [
    "# preds = []\n",
    "# for i in tqdm(range(len(test_textms))):\n",
    "#     x = final(test_textms[i], lang_ms[i], model)\n",
    "#     preds.append(x)"
   ]
  },
  {
   "cell_type": "code",
   "execution_count": 65,
   "id": "1d86605a",
   "metadata": {
    "execution": {
     "iopub.execute_input": "2024-06-12T15:51:46.236004Z",
     "iopub.status.busy": "2024-06-12T15:51:46.235646Z",
     "iopub.status.idle": "2024-06-12T15:51:46.241637Z",
     "shell.execute_reply": "2024-06-12T15:51:46.240765Z"
    },
    "papermill": {
     "duration": 0.050775,
     "end_time": "2024-06-12T15:51:46.243655",
     "exception": false,
     "start_time": "2024-06-12T15:51:46.192880",
     "status": "completed"
    },
    "tags": []
   },
   "outputs": [
    {
     "data": {
      "text/plain": [
       "'বাপরে বাপ । ভুতের সিনেমাতেও এত ভয় লাগেনা । সানডে সাসপেন্স টিম জিন্দাবাদ'"
      ]
     },
     "execution_count": 65,
     "metadata": {},
     "output_type": "execute_result"
    }
   ],
   "source": [
    "test_textms[42]"
   ]
  },
  {
   "cell_type": "code",
   "execution_count": 66,
   "id": "a6e72d17",
   "metadata": {
    "execution": {
     "iopub.execute_input": "2024-06-12T15:51:46.331390Z",
     "iopub.status.busy": "2024-06-12T15:51:46.331110Z",
     "iopub.status.idle": "2024-06-12T15:51:46.353051Z",
     "shell.execute_reply": "2024-06-12T15:51:46.352018Z"
    },
    "papermill": {
     "duration": 0.068578,
     "end_time": "2024-06-12T15:51:46.355242",
     "exception": false,
     "start_time": "2024-06-12T15:51:46.286664",
     "status": "completed"
    },
    "tags": []
   },
   "outputs": [
    {
     "data": {
      "text/plain": [
       "'love'"
      ]
     },
     "execution_count": 66,
     "metadata": {},
     "output_type": "execute_result"
    }
   ],
   "source": [
    "final(test_textms[42], lang_ms[42], model)"
   ]
  },
  {
   "cell_type": "code",
   "execution_count": 67,
   "id": "3f9108fa",
   "metadata": {
    "execution": {
     "iopub.execute_input": "2024-06-12T15:51:46.445666Z",
     "iopub.status.busy": "2024-06-12T15:51:46.445128Z",
     "iopub.status.idle": "2024-06-12T15:51:48.095405Z",
     "shell.execute_reply": "2024-06-12T15:51:48.094412Z"
    },
    "papermill": {
     "duration": 1.698302,
     "end_time": "2024-06-12T15:51:48.097876",
     "exception": false,
     "start_time": "2024-06-12T15:51:46.399574",
     "status": "completed"
    },
    "tags": []
   },
   "outputs": [
    {
     "data": {
      "application/vnd.jupyter.widget-view+json": {
       "model_id": "7d18cabbf2e34777a4af1fdc8c5d1b18",
       "version_major": 2,
       "version_minor": 0
      },
      "text/plain": [
       "  0%|          | 0/100 [00:00<?, ?it/s]"
      ]
     },
     "metadata": {},
     "output_type": "display_data"
    }
   ],
   "source": [
    "from tqdm.notebook import tqdm\n",
    "\n",
    "# Using a list comprehension with tqdm for progress tracking in a Jupyter notebook\n",
    "preds1 = [final(test_textms[i], lang_ms[i], model) for i in tqdm(range(len(test_textms)))]"
   ]
  },
  {
   "cell_type": "code",
   "execution_count": 68,
   "id": "852ec75b",
   "metadata": {
    "execution": {
     "iopub.execute_input": "2024-06-12T15:51:48.187503Z",
     "iopub.status.busy": "2024-06-12T15:51:48.186728Z",
     "iopub.status.idle": "2024-06-12T15:51:48.190780Z",
     "shell.execute_reply": "2024-06-12T15:51:48.189892Z"
    },
    "papermill": {
     "duration": 0.050708,
     "end_time": "2024-06-12T15:51:48.192779",
     "exception": false,
     "start_time": "2024-06-12T15:51:48.142071",
     "status": "completed"
    },
    "tags": []
   },
   "outputs": [],
   "source": [
    "# classifier_f = pipeline(\"text-classification\",model='bhadresh-savani/bert-base-uncased-emotion',\n",
    "#                          return_all_scores=False, device=device, truncation=True)"
   ]
  },
  {
   "cell_type": "code",
   "execution_count": 69,
   "id": "d84cbe56",
   "metadata": {
    "execution": {
     "iopub.execute_input": "2024-06-12T15:51:48.280948Z",
     "iopub.status.busy": "2024-06-12T15:51:48.280587Z",
     "iopub.status.idle": "2024-06-12T15:51:48.576708Z",
     "shell.execute_reply": "2024-06-12T15:51:48.575700Z"
    },
    "papermill": {
     "duration": 0.343054,
     "end_time": "2024-06-12T15:51:48.578985",
     "exception": false,
     "start_time": "2024-06-12T15:51:48.235931",
     "status": "completed"
    },
    "tags": []
   },
   "outputs": [
    {
     "name": "stdout",
     "output_type": "stream",
     "text": [
      "'বিভূতিভূষণ বন্দ্যোপাধ্যায়' রচিত 'আরণ্যক' উপন্যাস চলিত ভাষায় শুনতে চাই আমরা সবাই .! সামনেই সেপ্টেম্বর মাস মানে 'বিভূতিভূষণ বন্দ্যোপাধ্যায়' মাস !.একটাই অনুরোধ সামনের মাসে যদি বিভূতিভূষণ মাস হয় তবে খুব খুশি হবে mirchi fan রা । Bengali\n",
      "['anger', 'happy', 'sad']\n"
     ]
    }
   ],
   "source": [
    "x = 6\n",
    "print(test_textmc[x], lang_mc[x])\n",
    "print(classifier(test_textmc[x], ['happy', 'sad', 'anger'])['labels'])\n",
    "# classifier_f(test_textmc[x])"
   ]
  },
  {
   "cell_type": "code",
   "execution_count": 70,
   "id": "1a832885",
   "metadata": {
    "execution": {
     "iopub.execute_input": "2024-06-12T15:51:48.688731Z",
     "iopub.status.busy": "2024-06-12T15:51:48.688338Z",
     "iopub.status.idle": "2024-06-12T15:51:48.692493Z",
     "shell.execute_reply": "2024-06-12T15:51:48.691560Z"
    },
    "papermill": {
     "duration": 0.058543,
     "end_time": "2024-06-12T15:51:48.694409",
     "exception": false,
     "start_time": "2024-06-12T15:51:48.635866",
     "status": "completed"
    },
    "tags": []
   },
   "outputs": [],
   "source": [
    "# lang_mc[590:600]"
   ]
  },
  {
   "cell_type": "code",
   "execution_count": 71,
   "id": "3235c8b2",
   "metadata": {
    "execution": {
     "iopub.execute_input": "2024-06-12T15:51:48.788125Z",
     "iopub.status.busy": "2024-06-12T15:51:48.787403Z",
     "iopub.status.idle": "2024-06-12T15:51:50.473633Z",
     "shell.execute_reply": "2024-06-12T15:51:50.472640Z"
    },
    "papermill": {
     "duration": 1.735264,
     "end_time": "2024-06-12T15:51:50.475778",
     "exception": false,
     "start_time": "2024-06-12T15:51:48.740514",
     "status": "completed"
    },
    "tags": []
   },
   "outputs": [
    {
     "data": {
      "application/vnd.jupyter.widget-view+json": {
       "model_id": "24b9a1cbbbe2406b8f41c2c584bcee0b",
       "version_major": 2,
       "version_minor": 0
      },
      "text/plain": [
       "  0%|          | 0/100 [00:00<?, ?it/s]"
      ]
     },
     "metadata": {},
     "output_type": "display_data"
    }
   ],
   "source": [
    "preds2 = [final(test_textmc[i], lang_mc[i], model) for i in tqdm(range(len(test_textmc)))]"
   ]
  },
  {
   "cell_type": "code",
   "execution_count": 72,
   "id": "b2fbceac",
   "metadata": {
    "execution": {
     "iopub.execute_input": "2024-06-12T15:51:50.570619Z",
     "iopub.status.busy": "2024-06-12T15:51:50.569737Z",
     "iopub.status.idle": "2024-06-12T15:51:52.195502Z",
     "shell.execute_reply": "2024-06-12T15:51:52.194320Z"
    },
    "papermill": {
     "duration": 1.678157,
     "end_time": "2024-06-12T15:51:52.199120",
     "exception": false,
     "start_time": "2024-06-12T15:51:50.520963",
     "status": "completed"
    },
    "tags": []
   },
   "outputs": [
    {
     "data": {
      "application/vnd.jupyter.widget-view+json": {
       "model_id": "0f03295ed84d4e7d8f9b056f4ac7857b",
       "version_major": 2,
       "version_minor": 0
      },
      "text/plain": [
       "  0%|          | 0/100 [00:00<?, ?it/s]"
      ]
     },
     "metadata": {},
     "output_type": "display_data"
    },
    {
     "name": "stderr",
     "output_type": "stream",
     "text": [
      "/opt/conda/lib/python3.10/site-packages/transformers/pipelines/base.py:1157: UserWarning: You seem to be using the pipelines sequentially on GPU. In order to maximize efficiency please use a dataset\n",
      "  warnings.warn(\n"
     ]
    }
   ],
   "source": [
    "preds3 = [final(test_textmt[i], lang_mt[i], model) for i in tqdm(range(len(test_textmt)))]"
   ]
  },
  {
   "cell_type": "code",
   "execution_count": 73,
   "id": "d4ee80e4",
   "metadata": {
    "execution": {
     "iopub.execute_input": "2024-06-12T15:51:52.300863Z",
     "iopub.status.busy": "2024-06-12T15:51:52.300483Z",
     "iopub.status.idle": "2024-06-12T15:51:52.316517Z",
     "shell.execute_reply": "2024-06-12T15:51:52.315253Z"
    },
    "papermill": {
     "duration": 0.069278,
     "end_time": "2024-06-12T15:51:52.318890",
     "exception": false,
     "start_time": "2024-06-12T15:51:52.249612",
     "status": "completed"
    },
    "tags": []
   },
   "outputs": [
    {
     "data": {
      "text/html": [
       "<div>\n",
       "<style scoped>\n",
       "    .dataframe tbody tr th:only-of-type {\n",
       "        vertical-align: middle;\n",
       "    }\n",
       "\n",
       "    .dataframe tbody tr th {\n",
       "        vertical-align: top;\n",
       "    }\n",
       "\n",
       "    .dataframe thead th {\n",
       "        text-align: right;\n",
       "    }\n",
       "</style>\n",
       "<table border=\"1\" class=\"dataframe\">\n",
       "  <thead>\n",
       "    <tr style=\"text-align: right;\">\n",
       "      <th></th>\n",
       "      <th>comment</th>\n",
       "      <th>lang</th>\n",
       "      <th>sentiment</th>\n",
       "    </tr>\n",
       "  </thead>\n",
       "  <tbody>\n",
       "    <tr>\n",
       "      <th>0</th>\n",
       "      <td>Sunday suspense er শ্রোতাদের মধ্যে কে কে \"The ...</td>\n",
       "      <td>Bengali</td>\n",
       "      <td>love</td>\n",
       "    </tr>\n",
       "    <tr>\n",
       "      <th>1</th>\n",
       "      <td>বেঁচে থাকতে হয়তো বিশ্ব সাহিত্যের যেসব গল্প কো...</td>\n",
       "      <td>Bengali</td>\n",
       "      <td>love</td>\n",
       "    </tr>\n",
       "    <tr>\n",
       "      <th>2</th>\n",
       "      <td>এ আমার পরম সৌভাগ্য যে একজন বাঙালি হয়ে জন্মেছি ...</td>\n",
       "      <td>Bengali</td>\n",
       "      <td>love</td>\n",
       "    </tr>\n",
       "    <tr>\n",
       "      <th>3</th>\n",
       "      <td>কে কে মনে করেন 'The count of Monte Christo' এই...</td>\n",
       "      <td>Bengali</td>\n",
       "      <td>love</td>\n",
       "    </tr>\n",
       "    <tr>\n",
       "      <th>4</th>\n",
       "      <td>একটা ছোট্ট request, Alexender Dumas series যখন...</td>\n",
       "      <td>Bengali</td>\n",
       "      <td>love</td>\n",
       "    </tr>\n",
       "    <tr>\n",
       "      <th>...</th>\n",
       "      <td>...</td>\n",
       "      <td>...</td>\n",
       "      <td>...</td>\n",
       "    </tr>\n",
       "    <tr>\n",
       "      <th>95</th>\n",
       "      <td>রবিবার পুরো জমে ক্ষীর,,, ছক্কার পর ছক্কা,,,,আগ...</td>\n",
       "      <td>Bengali</td>\n",
       "      <td>love</td>\n",
       "    </tr>\n",
       "    <tr>\n",
       "      <th>96</th>\n",
       "      <td>মির্চি বাংলা ক্ষমতা রাখে যেকোনো সময় যেকোনো সি...</td>\n",
       "      <td>Bengali</td>\n",
       "      <td>love</td>\n",
       "    </tr>\n",
       "    <tr>\n",
       "      <th>97</th>\n",
       "      <td>কে বলেছে আমার বন্ধু নেই, আমার ১২ বছরের বন্ধু ত...</td>\n",
       "      <td>Bengali</td>\n",
       "      <td>love</td>\n",
       "    </tr>\n",
       "    <tr>\n",
       "      <th>98</th>\n",
       "      <td>রক্তপিপাসু পিশাচ জানিনা কতদিন এই ৬ ঘন্টার গল্প...</td>\n",
       "      <td>Bengali</td>\n",
       "      <td>love</td>\n",
       "    </tr>\n",
       "    <tr>\n",
       "      <th>99</th>\n",
       "      <td>মিউজিক থিম টা পুরানোটাই ভালো ছিল, মিউজিক টা শু...</td>\n",
       "      <td>Bengali</td>\n",
       "      <td>love</td>\n",
       "    </tr>\n",
       "  </tbody>\n",
       "</table>\n",
       "<p>100 rows × 3 columns</p>\n",
       "</div>"
      ],
      "text/plain": [
       "                                              comment     lang sentiment\n",
       "0   Sunday suspense er শ্রোতাদের মধ্যে কে কে \"The ...  Bengali      love\n",
       "1   বেঁচে থাকতে হয়তো বিশ্ব সাহিত্যের যেসব গল্প কো...  Bengali      love\n",
       "2   এ আমার পরম সৌভাগ্য যে একজন বাঙালি হয়ে জন্মেছি ...  Bengali      love\n",
       "3   কে কে মনে করেন 'The count of Monte Christo' এই...  Bengali      love\n",
       "4   একটা ছোট্ট request, Alexender Dumas series যখন...  Bengali      love\n",
       "..                                                ...      ...       ...\n",
       "95  রবিবার পুরো জমে ক্ষীর,,, ছক্কার পর ছক্কা,,,,আগ...  Bengali      love\n",
       "96  মির্চি বাংলা ক্ষমতা রাখে যেকোনো সময় যেকোনো সি...  Bengali      love\n",
       "97  কে বলেছে আমার বন্ধু নেই, আমার ১২ বছরের বন্ধু ত...  Bengali      love\n",
       "98  রক্তপিপাসু পিশাচ জানিনা কতদিন এই ৬ ঘন্টার গল্প...  Bengali      love\n",
       "99  মিউজিক থিম টা পুরানোটাই ভালো ছিল, মিউজিক টা শু...  Bengali      love\n",
       "\n",
       "[100 rows x 3 columns]"
      ]
     },
     "execution_count": 73,
     "metadata": {},
     "output_type": "execute_result"
    }
   ],
   "source": [
    "result1 = pd.DataFrame({'comment':test_textms,'lang':lang_ms, 'sentiment':preds1})\n",
    "result2 = pd.DataFrame({'comment':test_textmc,'lang':lang_mc, 'sentiment':preds2})\n",
    "result3 = pd.DataFrame({'comment':test_textmt,'lang':lang_mt, 'sentiment':preds3})\n",
    "result1"
   ]
  },
  {
   "cell_type": "code",
   "execution_count": 74,
   "id": "71d08c1d",
   "metadata": {
    "execution": {
     "iopub.execute_input": "2024-06-12T15:51:52.413581Z",
     "iopub.status.busy": "2024-06-12T15:51:52.413205Z",
     "iopub.status.idle": "2024-06-12T15:51:52.422624Z",
     "shell.execute_reply": "2024-06-12T15:51:52.421668Z"
    },
    "papermill": {
     "duration": 0.058517,
     "end_time": "2024-06-12T15:51:52.424984",
     "exception": false,
     "start_time": "2024-06-12T15:51:52.366467",
     "status": "completed"
    },
    "tags": []
   },
   "outputs": [
    {
     "data": {
      "text/plain": [
       "(lang\n",
       " Bengali     95\n",
       " English      3\n",
       " Banglish     2\n",
       " Name: count, dtype: int64,\n",
       " lang\n",
       " Bengali     98\n",
       " Banglish     2\n",
       " Name: count, dtype: int64)"
      ]
     },
     "execution_count": 74,
     "metadata": {},
     "output_type": "execute_result"
    }
   ],
   "source": [
    "result1.lang.value_counts(), result2.lang.value_counts()"
   ]
  },
  {
   "cell_type": "code",
   "execution_count": 75,
   "id": "169fb721",
   "metadata": {
    "execution": {
     "iopub.execute_input": "2024-06-12T15:51:52.518606Z",
     "iopub.status.busy": "2024-06-12T15:51:52.518226Z",
     "iopub.status.idle": "2024-06-12T15:51:52.525454Z",
     "shell.execute_reply": "2024-06-12T15:51:52.524496Z"
    },
    "papermill": {
     "duration": 0.055241,
     "end_time": "2024-06-12T15:51:52.527789",
     "exception": false,
     "start_time": "2024-06-12T15:51:52.472548",
     "status": "completed"
    },
    "tags": []
   },
   "outputs": [
    {
     "name": "stdout",
     "output_type": "stream",
     "text": [
      "love Bengali লন্ডনে ফেলুদা টা আনা হোক, সমর্থন করলে লাইক ঠোক সবাই, please ! ইতি এক একনিষ্ঠ শ্রোতা।\n",
      "\n",
      "sad Bengali কমেন্ট টা ডিলিট করলাম। রিপ্লাই দেখে লাভ নেই!\n",
      "\n",
      "love Bengali রাত্রে Sunday suspense শুনতে শুনতে ঘুম পড়ে জাওয়া শ্রোতারা কই?? লাইক দিয়ে যান!!\n",
      "\n",
      "love Bengali এক সাধারণ বাঙালী জমিদার ছেলের সমুদ্রে পাড়ি দেওয়ার গল্প ...ভারত মহাসাগরের করাগারে রক্ষিত এক বিপুল ধন-সম্পদ রহস্য আবিষ্কারের গল্প ... বিভূতিভূষণ বন্দ্যোপাধ্যায় এর এক অসাধারণ সাহিত্যের কৃর্তি ...হীরে মানিক জ্বলে\n",
      "\n",
      "anger Banglish Ke ke 4-5 bochor dhore Sunday সাসপেন্স শুনছেন\n",
      "\n",
      "anger English How many students are here\n",
      "\n",
      "love Bengali \"গল্প পাঠে মীর\" ----- এই লাইনটা শুনলেই আমার মন আনন্দে ভরে যায়\n",
      "\n",
      "love Bengali মীর দা তুমি অনন্য, তোমার গলার আওয়াজে কখনো অনুপ্রাণিত হয়েছে, কখনো মন খুলে হেসেছি আবার কখনো বালিশ চোখের জলে ভিজিয়েছি। অপ্রিয় হল এটাই সত্য তোমাকে আর মনে হয় না কখনো mirchi 98.3 টে বলতে শুনতে পাবো my dear Watson.... আশা করি তোমার এই অনুপস্থিতি টিম মিরচি কখনোই আমাদের বুঝতে দিবে না\n",
      "\n",
      "love Bengali ব্যোমকেশের গল্পের ভক্ত এখানে কারা আছো ?\n",
      "\n",
      "love Bengali বাপরে বাপ । ভুতের সিনেমাতেও এত ভয় লাগেনা । সানডে সাসপেন্স টিম জিন্দাবাদ\n",
      "\n"
     ]
    }
   ],
   "source": [
    "x = 33\n",
    "for i, r in result1[x:x+10].iterrows():\n",
    "    print(r['sentiment'], r['lang'] ,r['comment'])\n",
    "    print()"
   ]
  },
  {
   "cell_type": "code",
   "execution_count": 76,
   "id": "8a042921",
   "metadata": {
    "execution": {
     "iopub.execute_input": "2024-06-12T15:51:52.618819Z",
     "iopub.status.busy": "2024-06-12T15:51:52.618498Z",
     "iopub.status.idle": "2024-06-12T15:51:52.630857Z",
     "shell.execute_reply": "2024-06-12T15:51:52.629791Z"
    },
    "papermill": {
     "duration": 0.05969,
     "end_time": "2024-06-12T15:51:52.632831",
     "exception": false,
     "start_time": "2024-06-12T15:51:52.573141",
     "status": "completed"
    },
    "tags": []
   },
   "outputs": [
    {
     "name": "stdout",
     "output_type": "stream",
     "text": [
      "sentiment\n",
      "anger     2\n",
      "joy       1\n",
      "love     93\n",
      "sad       4\n",
      "Name: count, dtype: int64\n",
      "sentiment\n",
      "anger     1\n",
      "love     96\n",
      "sad       3\n",
      "Name: count, dtype: int64\n",
      "sentiment\n",
      "anger       1\n",
      "joy         2\n",
      "love       94\n",
      "sad         2\n",
      "sadness     1\n",
      "Name: count, dtype: int64\n"
     ]
    }
   ],
   "source": [
    "print(result1.sentiment.value_counts().sort_index(),end='\\n')\n",
    "print(result2.sentiment.value_counts().sort_index(),end='\\n')\n",
    "print(result3.sentiment.value_counts().sort_index())"
   ]
  },
  {
   "cell_type": "code",
   "execution_count": 77,
   "id": "6912d4e6",
   "metadata": {
    "execution": {
     "iopub.execute_input": "2024-06-12T15:51:52.721588Z",
     "iopub.status.busy": "2024-06-12T15:51:52.721329Z",
     "iopub.status.idle": "2024-06-12T15:51:52.729265Z",
     "shell.execute_reply": "2024-06-12T15:51:52.728146Z"
    },
    "papermill": {
     "duration": 0.054732,
     "end_time": "2024-06-12T15:51:52.731154",
     "exception": false,
     "start_time": "2024-06-12T15:51:52.676422",
     "status": "completed"
    },
    "tags": []
   },
   "outputs": [
    {
     "data": {
      "text/plain": [
       "sentiment\n",
       "anger     1\n",
       "love     96\n",
       "sad       3\n",
       "Name: count, dtype: int64"
      ]
     },
     "execution_count": 77,
     "metadata": {},
     "output_type": "execute_result"
    }
   ],
   "source": [
    "result2.sentiment.value_counts().sort_index()"
   ]
  },
  {
   "cell_type": "code",
   "execution_count": 78,
   "id": "13026347",
   "metadata": {
    "execution": {
     "iopub.execute_input": "2024-06-12T15:51:52.822813Z",
     "iopub.status.busy": "2024-06-12T15:51:52.822529Z",
     "iopub.status.idle": "2024-06-12T15:51:52.832251Z",
     "shell.execute_reply": "2024-06-12T15:51:52.831229Z"
    },
    "papermill": {
     "duration": 0.058118,
     "end_time": "2024-06-12T15:51:52.834227",
     "exception": false,
     "start_time": "2024-06-12T15:51:52.776109",
     "status": "completed"
    },
    "tags": []
   },
   "outputs": [
    {
     "data": {
      "text/html": [
       "<div>\n",
       "<style scoped>\n",
       "    .dataframe tbody tr th:only-of-type {\n",
       "        vertical-align: middle;\n",
       "    }\n",
       "\n",
       "    .dataframe tbody tr th {\n",
       "        vertical-align: top;\n",
       "    }\n",
       "\n",
       "    .dataframe thead th {\n",
       "        text-align: right;\n",
       "    }\n",
       "</style>\n",
       "<table border=\"1\" class=\"dataframe\">\n",
       "  <thead>\n",
       "    <tr style=\"text-align: right;\">\n",
       "      <th></th>\n",
       "      <th>comment</th>\n",
       "      <th>lang</th>\n",
       "      <th>sentiment</th>\n",
       "    </tr>\n",
       "  </thead>\n",
       "  <tbody>\n",
       "    <tr>\n",
       "      <th>0</th>\n",
       "      <td>মীর কে লক্ষ লক্ষ মানুষ শুনতে ভালোবাসে। তাই আমি...</td>\n",
       "      <td>Bengali</td>\n",
       "      <td>love</td>\n",
       "    </tr>\n",
       "    <tr>\n",
       "      <th>1</th>\n",
       "      <td>আমার মতো মীর দা ও তারানাথ তান্ত্রিককে কে কে চায়</td>\n",
       "      <td>Bengali</td>\n",
       "      <td>love</td>\n",
       "    </tr>\n",
       "  </tbody>\n",
       "</table>\n",
       "</div>"
      ],
      "text/plain": [
       "                                             comment     lang sentiment\n",
       "0  মীর কে লক্ষ লক্ষ মানুষ শুনতে ভালোবাসে। তাই আমি...  Bengali      love\n",
       "1   আমার মতো মীর দা ও তারানাথ তান্ত্রিককে কে কে চায়  Bengali      love"
      ]
     },
     "execution_count": 78,
     "metadata": {},
     "output_type": "execute_result"
    }
   ],
   "source": [
    "result2.head(2)"
   ]
  },
  {
   "cell_type": "code",
   "execution_count": 79,
   "id": "6781e1b9",
   "metadata": {
    "execution": {
     "iopub.execute_input": "2024-06-12T15:51:52.925683Z",
     "iopub.status.busy": "2024-06-12T15:51:52.925034Z",
     "iopub.status.idle": "2024-06-12T15:51:52.936070Z",
     "shell.execute_reply": "2024-06-12T15:51:52.934996Z"
    },
    "papermill": {
     "duration": 0.058101,
     "end_time": "2024-06-12T15:51:52.938131",
     "exception": false,
     "start_time": "2024-06-12T15:51:52.880030",
     "status": "completed"
    },
    "tags": []
   },
   "outputs": [
    {
     "data": {
      "text/plain": [
       "[[2, 1, 93, 4], [1, 96, 3], [1, 2, 94, 2, 1]]"
      ]
     },
     "execution_count": 79,
     "metadata": {},
     "output_type": "execute_result"
    }
   ],
   "source": [
    "spm = []\n",
    "spm.append(result1.sentiment.value_counts().sort_index().tolist())\n",
    "spm.append(result2.sentiment.value_counts().sort_index().tolist())\n",
    "spm.append(result3.sentiment.value_counts().sort_index().tolist())\n",
    "# spm = np.array(spm)\n",
    "spm"
   ]
  },
  {
   "cell_type": "code",
   "execution_count": 80,
   "id": "d654fadc",
   "metadata": {
    "execution": {
     "iopub.execute_input": "2024-06-12T15:51:53.035318Z",
     "iopub.status.busy": "2024-06-12T15:51:53.034867Z",
     "iopub.status.idle": "2024-06-12T15:51:53.039532Z",
     "shell.execute_reply": "2024-06-12T15:51:53.038499Z"
    },
    "papermill": {
     "duration": 0.055025,
     "end_time": "2024-06-12T15:51:53.041474",
     "exception": false,
     "start_time": "2024-06-12T15:51:52.986449",
     "status": "completed"
    },
    "tags": []
   },
   "outputs": [],
   "source": [
    "# sums = np.sum(spm, axis=1)\n",
    "# # Normalize each inner array to percentages\n",
    "# spm2 = (spm.T / sums).T * 100\n",
    "# print(spm2)"
   ]
  },
  {
   "cell_type": "code",
   "execution_count": 81,
   "id": "d098acb2",
   "metadata": {
    "execution": {
     "iopub.execute_input": "2024-06-12T15:51:53.137989Z",
     "iopub.status.busy": "2024-06-12T15:51:53.137036Z",
     "iopub.status.idle": "2024-06-12T15:51:53.142811Z",
     "shell.execute_reply": "2024-06-12T15:51:53.141905Z"
    },
    "papermill": {
     "duration": 0.056134,
     "end_time": "2024-06-12T15:51:53.144748",
     "exception": false,
     "start_time": "2024-06-12T15:51:53.088614",
     "status": "completed"
    },
    "tags": []
   },
   "outputs": [],
   "source": [
    "# import matplotlib.pyplot as plt\n",
    "# import numpy as np\n",
    "\n",
    "# # Define custom colors for each sentiment type\n",
    "# colors = ['#2E9BFF', '#987BE9', '#FF7C7C', '#58D68D', 'red', 'green', 'blue']\n",
    "\n",
    "# species = (\n",
    "#     \"Mir Soho\",  \n",
    "#     \"Mir Chara\", \n",
    "#     \"Mir Er Thek\",  \n",
    "# )\n",
    "# weight_counts = {\n",
    "#     \"Anger\": spm2.T[0],\n",
    "#     \"Fear\": spm2.T[1],\n",
    "#     'Joy':spm2.T[2],\n",
    "#     \"Love\": spm2.T[3],\n",
    "#     \"Sad\": spm2.T[4],\n",
    "#     \"Sadness\": spm2.T[5],\n",
    "#     \"Surprise\":spm2.T[6]\n",
    "# }\n",
    "\n",
    "# # Calculate the number of sentiment types\n",
    "# num_sentiments = len(weight_counts)\n",
    "\n",
    "# # Adjust width based on the number of sentiment types\n",
    "# width = 0.4\n",
    "\n",
    "# fig, ax = plt.subplots(figsize=(8, 6))\n",
    "\n",
    "# # Initialize bottom values with zeros for stacking\n",
    "# bottom = np.zeros(len(species))\n",
    "\n",
    "# # Stack the bars for each sentiment type with custom colors\n",
    "# for i, (sentiment, count) in enumerate(weight_counts.items()):\n",
    "#     plt.bar(species, count, width, label=sentiment, bottom=bottom, color=colors[i])\n",
    "#     bottom += count  # Update bottom for stacking\n",
    "\n",
    "# # Add labels and title\n",
    "# plt.xlabel(\"Species\")\n",
    "# plt.ylabel(\"Number of Occurrences\")\n",
    "# plt.title(\"Distribution of Sentiment\")\n",
    "\n",
    "# # Adjust legend location\n",
    "# plt.legend(loc=\"best\")\n",
    "\n",
    "# plt.xticks(rotation=45)\n",
    "# plt.tight_layout()\n",
    "# plt.show()\n"
   ]
  },
  {
   "cell_type": "markdown",
   "id": "51062bfc",
   "metadata": {
    "papermill": {
     "duration": 0.046598,
     "end_time": "2024-06-12T15:51:53.237377",
     "exception": false,
     "start_time": "2024-06-12T15:51:53.190779",
     "status": "completed"
    },
    "tags": []
   },
   "source": [
    "## Directly Apply on the DF"
   ]
  },
  {
   "cell_type": "code",
   "execution_count": 82,
   "id": "6561b2db",
   "metadata": {
    "execution": {
     "iopub.execute_input": "2024-06-12T15:51:53.332330Z",
     "iopub.status.busy": "2024-06-12T15:51:53.331939Z",
     "iopub.status.idle": "2024-06-12T15:51:53.342063Z",
     "shell.execute_reply": "2024-06-12T15:51:53.340931Z"
    },
    "papermill": {
     "duration": 0.061145,
     "end_time": "2024-06-12T15:51:53.344250",
     "exception": false,
     "start_time": "2024-06-12T15:51:53.283105",
     "status": "completed"
    },
    "tags": []
   },
   "outputs": [],
   "source": [
    "def finalv4(row, modelx):\n",
    "    '''\n",
    "    Implements our awsome algorithm and gives final output\n",
    "    '''\n",
    "    text = row['ctext']\n",
    "    lang = row['language']\n",
    "    \n",
    "#     print(x)\n",
    "    if lang == 'Bengali':\n",
    "        tokenized_text = tokenizer(text,\n",
    "                                    return_tensors=\"pt\",  truncation=True, max_length=512).to(device)\n",
    "\n",
    "        with torch.no_grad():\n",
    "            modelx = modelx.to(device)\n",
    "            pred = modelx(**tokenized_text)\n",
    "            logits = pred.logits\n",
    "            probas = torch.nn.functional.softmax(logits, dim=1).to('cpu')\n",
    "            predicted_class = torch.argmax(probas, dim=1).item()\n",
    "    #         print(predicted_class)\n",
    "    #         x.append(probas.numpy().flatten())\n",
    "        return model.config.id2label[predicted_class]\n",
    "    \n",
    "    elif lang == 'English':\n",
    "        try:\n",
    "            return classifier_en(text)[0]['label']\n",
    "        except:\n",
    "            candidate_labels = ['happy', 'sadness', 'fear', 'anger']\n",
    "            return classifier(text, candidate_labels, multi_label=True)['labels'][0]\n",
    "    else:\n",
    "        candidate_labels = ['happy', 'sadness', 'fear', 'anger']\n",
    "        return classifier(text, candidate_labels, multi_label=True)['labels'][0]"
   ]
  },
  {
   "cell_type": "code",
   "execution_count": 83,
   "id": "9f4622e8",
   "metadata": {
    "execution": {
     "iopub.execute_input": "2024-06-12T15:51:53.439418Z",
     "iopub.status.busy": "2024-06-12T15:51:53.438711Z",
     "iopub.status.idle": "2024-06-12T15:51:53.684143Z",
     "shell.execute_reply": "2024-06-12T15:51:53.683086Z"
    },
    "papermill": {
     "duration": 0.295249,
     "end_time": "2024-06-12T15:51:53.686620",
     "exception": false,
     "start_time": "2024-06-12T15:51:53.391371",
     "status": "completed"
    },
    "tags": []
   },
   "outputs": [
    {
     "data": {
      "text/html": [
       "<div>\n",
       "<style scoped>\n",
       "    .dataframe tbody tr th:only-of-type {\n",
       "        vertical-align: middle;\n",
       "    }\n",
       "\n",
       "    .dataframe tbody tr th {\n",
       "        vertical-align: top;\n",
       "    }\n",
       "\n",
       "    .dataframe thead th {\n",
       "        text-align: right;\n",
       "    }\n",
       "</style>\n",
       "<table border=\"1\" class=\"dataframe\">\n",
       "  <thead>\n",
       "    <tr style=\"text-align: right;\">\n",
       "      <th></th>\n",
       "      <th>author</th>\n",
       "      <th>published_date</th>\n",
       "      <th>like_count</th>\n",
       "      <th>text</th>\n",
       "      <th>ctext</th>\n",
       "      <th>language</th>\n",
       "    </tr>\n",
       "  </thead>\n",
       "  <tbody>\n",
       "    <tr>\n",
       "      <th>0</th>\n",
       "      <td>@wolfhowling220</td>\n",
       "      <td>2021-12-19</td>\n",
       "      <td>5373</td>\n",
       "      <td>Sunday suspense er শ্রোতাদের মধ্যে কে কে \"The ...</td>\n",
       "      <td>Sunday suspense er শ্রোতাদের মধ্যে কে কে \"The ...</td>\n",
       "      <td>Bengali</td>\n",
       "    </tr>\n",
       "    <tr>\n",
       "      <th>1</th>\n",
       "      <td>@ksarkar1338</td>\n",
       "      <td>2021-12-03</td>\n",
       "      <td>4929</td>\n",
       "      <td>বেঁচে থাকতে হয়তো বিশ্ব সাহিত্যের যেসব গল্প কো...</td>\n",
       "      <td>বেঁচে থাকতে হয়তো বিশ্ব সাহিত্যের যেসব গল্প কো...</td>\n",
       "      <td>Bengali</td>\n",
       "    </tr>\n",
       "    <tr>\n",
       "      <th>2</th>\n",
       "      <td>@dcsalim4384</td>\n",
       "      <td>2021-12-12</td>\n",
       "      <td>4830</td>\n",
       "      <td>এ আমার পরম সৌভাগ্য যে একজন বাঙালি হয়ে জন্মেছি ...</td>\n",
       "      <td>এ আমার পরম সৌভাগ্য যে একজন বাঙালি হয়ে জন্মেছি ...</td>\n",
       "      <td>Bengali</td>\n",
       "    </tr>\n",
       "  </tbody>\n",
       "</table>\n",
       "</div>"
      ],
      "text/plain": [
       "            author published_date  like_count  \\\n",
       "0  @wolfhowling220     2021-12-19        5373   \n",
       "1     @ksarkar1338     2021-12-03        4929   \n",
       "2     @dcsalim4384     2021-12-12        4830   \n",
       "\n",
       "                                                text  \\\n",
       "0  Sunday suspense er শ্রোতাদের মধ্যে কে কে \"The ...   \n",
       "1  বেঁচে থাকতে হয়তো বিশ্ব সাহিত্যের যেসব গল্প কো...   \n",
       "2  এ আমার পরম সৌভাগ্য যে একজন বাঙালি হয়ে জন্মেছি ...   \n",
       "\n",
       "                                               ctext language  \n",
       "0  Sunday suspense er শ্রোতাদের মধ্যে কে কে \"The ...  Bengali  \n",
       "1  বেঁচে থাকতে হয়তো বিশ্ব সাহিত্যের যেসব গল্প কো...  Bengali  \n",
       "2  এ আমার পরম সৌভাগ্য যে একজন বাঙালি হয়ে জন্মেছি ...  Bengali  "
      ]
     },
     "execution_count": 83,
     "metadata": {},
     "output_type": "execute_result"
    }
   ],
   "source": [
    "kc = 30000\n",
    "k = 2000\n",
    "# demo1 = df1[df1['language'] == 'Bengali'][c:c+k].copy()\n",
    "# demo2 = df2[df2['language'] == 'Bengali'][c:c+k].copy()\n",
    "# demo3 = df3[df3['language'] == 'Bengali'][c:c+k].copy()\n",
    "\n",
    "demo1 = df1[df1['language'] == 'Bengali'].copy()\n",
    "demo2 = df2[df2['language'] == 'Bengali'].copy()\n",
    "demo3 = df3[df3['language'] == 'Bengali'].copy()\n",
    "\n",
    "demo1.head(3)"
   ]
  },
  {
   "cell_type": "code",
   "execution_count": 84,
   "id": "d97f6091",
   "metadata": {
    "execution": {
     "iopub.execute_input": "2024-06-12T15:51:53.789618Z",
     "iopub.status.busy": "2024-06-12T15:51:53.789269Z",
     "iopub.status.idle": "2024-06-12T15:51:53.794656Z",
     "shell.execute_reply": "2024-06-12T15:51:53.793642Z"
    },
    "papermill": {
     "duration": 0.059652,
     "end_time": "2024-06-12T15:51:53.797074",
     "exception": false,
     "start_time": "2024-06-12T15:51:53.737422",
     "status": "completed"
    },
    "tags": []
   },
   "outputs": [
    {
     "name": "stdout",
     "output_type": "stream",
     "text": [
      "(125971, 6)\n",
      "(65227, 6) (41638, 6)\n"
     ]
    }
   ],
   "source": [
    "print(demo1.shape)\n",
    "print(demo2.shape, demo3.shape)"
   ]
  },
  {
   "cell_type": "code",
   "execution_count": 85,
   "id": "e8bb2f64",
   "metadata": {
    "execution": {
     "iopub.execute_input": "2024-06-12T15:51:53.897307Z",
     "iopub.status.busy": "2024-06-12T15:51:53.896990Z",
     "iopub.status.idle": "2024-06-12T15:51:53.901243Z",
     "shell.execute_reply": "2024-06-12T15:51:53.900339Z"
    },
    "papermill": {
     "duration": 0.055772,
     "end_time": "2024-06-12T15:51:53.903130",
     "exception": false,
     "start_time": "2024-06-12T15:51:53.847358",
     "status": "completed"
    },
    "tags": []
   },
   "outputs": [],
   "source": [
    "# final(demo3['ctext'], demo3['language'], model)"
   ]
  },
  {
   "cell_type": "code",
   "execution_count": 86,
   "id": "52d48534",
   "metadata": {
    "execution": {
     "iopub.execute_input": "2024-06-12T15:51:53.996296Z",
     "iopub.status.busy": "2024-06-12T15:51:53.995947Z",
     "iopub.status.idle": "2024-06-12T15:51:54.001012Z",
     "shell.execute_reply": "2024-06-12T15:51:54.000062Z"
    },
    "papermill": {
     "duration": 0.053592,
     "end_time": "2024-06-12T15:51:54.002925",
     "exception": false,
     "start_time": "2024-06-12T15:51:53.949333",
     "status": "completed"
    },
    "tags": []
   },
   "outputs": [],
   "source": [
    "demo3.reset_index(drop=True, inplace=True)\n",
    "demo1.reset_index(drop=True, inplace=True)\n",
    "demo2.reset_index(drop=True, inplace=True)"
   ]
  },
  {
   "cell_type": "code",
   "execution_count": null,
   "id": "08dd4144",
   "metadata": {
    "papermill": {
     "duration": 0.050841,
     "end_time": "2024-06-12T15:51:54.099556",
     "exception": false,
     "start_time": "2024-06-12T15:51:54.048715",
     "status": "completed"
    },
    "tags": []
   },
   "outputs": [],
   "source": []
  },
  {
   "cell_type": "code",
   "execution_count": 87,
   "id": "91299999",
   "metadata": {
    "execution": {
     "iopub.execute_input": "2024-06-12T15:51:54.203301Z",
     "iopub.status.busy": "2024-06-12T15:51:54.202591Z",
     "iopub.status.idle": "2024-06-12T15:51:54.209309Z",
     "shell.execute_reply": "2024-06-12T15:51:54.208263Z"
    },
    "papermill": {
     "duration": 0.061228,
     "end_time": "2024-06-12T15:51:54.211517",
     "exception": false,
     "start_time": "2024-06-12T15:51:54.150289",
     "status": "completed"
    },
    "tags": []
   },
   "outputs": [
    {
     "data": {
      "text/plain": [
       "'আমার মনে হয় যারা মীর দাকে চেনে সবাই মীর দাকে ভালোবাসে'"
      ]
     },
     "execution_count": 87,
     "metadata": {},
     "output_type": "execute_result"
    }
   ],
   "source": [
    "demo3['ctext'][1131]"
   ]
  },
  {
   "cell_type": "code",
   "execution_count": null,
   "id": "47f1754d",
   "metadata": {
    "papermill": {
     "duration": 0.048674,
     "end_time": "2024-06-12T15:51:54.308989",
     "exception": false,
     "start_time": "2024-06-12T15:51:54.260315",
     "status": "completed"
    },
    "tags": []
   },
   "outputs": [],
   "source": []
  },
  {
   "cell_type": "code",
   "execution_count": 88,
   "id": "b2b09793",
   "metadata": {
    "execution": {
     "iopub.execute_input": "2024-06-12T15:51:54.410891Z",
     "iopub.status.busy": "2024-06-12T15:51:54.410503Z",
     "iopub.status.idle": "2024-06-12T16:02:03.293640Z",
     "shell.execute_reply": "2024-06-12T16:02:03.292623Z"
    },
    "papermill": {
     "duration": 608.936204,
     "end_time": "2024-06-12T16:02:03.296015",
     "exception": false,
     "start_time": "2024-06-12T15:51:54.359811",
     "status": "completed"
    },
    "tags": []
   },
   "outputs": [
    {
     "data": {
      "application/vnd.jupyter.widget-view+json": {
       "model_id": "a807fae7d7874e9db8cf670afd372c68",
       "version_major": 2,
       "version_minor": 0
      },
      "text/plain": [
       "  0%|          | 0/41638 [00:00<?, ?it/s]"
      ]
     },
     "metadata": {},
     "output_type": "display_data"
    }
   ],
   "source": [
    "tqdm.pandas()\n",
    "demo3['sentiment'] = demo3.progress_apply(finalv4, args=(model,), axis=1)"
   ]
  },
  {
   "cell_type": "code",
   "execution_count": 89,
   "id": "a97ea732",
   "metadata": {
    "execution": {
     "iopub.execute_input": "2024-06-12T16:02:03.392981Z",
     "iopub.status.busy": "2024-06-12T16:02:03.392617Z",
     "iopub.status.idle": "2024-06-12T16:18:00.656405Z",
     "shell.execute_reply": "2024-06-12T16:18:00.655207Z"
    },
    "papermill": {
     "duration": 957.316026,
     "end_time": "2024-06-12T16:18:00.659105",
     "exception": false,
     "start_time": "2024-06-12T16:02:03.343079",
     "status": "completed"
    },
    "tags": []
   },
   "outputs": [
    {
     "data": {
      "application/vnd.jupyter.widget-view+json": {
       "model_id": "7bff3aced000420aae860890b868cd16",
       "version_major": 2,
       "version_minor": 0
      },
      "text/plain": [
       "  0%|          | 0/65227 [00:00<?, ?it/s]"
      ]
     },
     "metadata": {},
     "output_type": "display_data"
    }
   ],
   "source": [
    "demo2['sentiment'] = demo2.progress_apply(finalv4, args=(model,), axis=1)"
   ]
  },
  {
   "cell_type": "code",
   "execution_count": 90,
   "id": "264678f6",
   "metadata": {
    "execution": {
     "iopub.execute_input": "2024-06-12T16:18:00.763593Z",
     "iopub.status.busy": "2024-06-12T16:18:00.763218Z",
     "iopub.status.idle": "2024-06-12T16:48:46.265446Z",
     "shell.execute_reply": "2024-06-12T16:48:46.264467Z"
    },
    "papermill": {
     "duration": 1845.554316,
     "end_time": "2024-06-12T16:48:46.267769",
     "exception": false,
     "start_time": "2024-06-12T16:18:00.713453",
     "status": "completed"
    },
    "tags": []
   },
   "outputs": [
    {
     "data": {
      "application/vnd.jupyter.widget-view+json": {
       "model_id": "831b1e3548064a39ac2a9b15ac8f33b7",
       "version_major": 2,
       "version_minor": 0
      },
      "text/plain": [
       "  0%|          | 0/125971 [00:00<?, ?it/s]"
      ]
     },
     "metadata": {},
     "output_type": "display_data"
    }
   ],
   "source": [
    "demo1['sentiment'] = demo1.progress_apply(finalv4, args=(model,), axis=1)"
   ]
  },
  {
   "cell_type": "code",
   "execution_count": null,
   "id": "06188690",
   "metadata": {
    "papermill": {
     "duration": 0.045562,
     "end_time": "2024-06-12T16:48:46.363668",
     "exception": false,
     "start_time": "2024-06-12T16:48:46.318106",
     "status": "completed"
    },
    "tags": []
   },
   "outputs": [],
   "source": []
  },
  {
   "cell_type": "code",
   "execution_count": 91,
   "id": "a16509c7",
   "metadata": {
    "execution": {
     "iopub.execute_input": "2024-06-12T16:48:46.458173Z",
     "iopub.status.busy": "2024-06-12T16:48:46.457764Z",
     "iopub.status.idle": "2024-06-12T16:48:46.473973Z",
     "shell.execute_reply": "2024-06-12T16:48:46.473109Z"
    },
    "papermill": {
     "duration": 0.066841,
     "end_time": "2024-06-12T16:48:46.476181",
     "exception": false,
     "start_time": "2024-06-12T16:48:46.409340",
     "status": "completed"
    },
    "tags": []
   },
   "outputs": [
    {
     "data": {
      "text/plain": [
       "sentiment\n",
       "love     50879\n",
       "sad      10117\n",
       "anger     3951\n",
       "fear       280\n",
       "Name: count, dtype: int64"
      ]
     },
     "execution_count": 91,
     "metadata": {},
     "output_type": "execute_result"
    }
   ],
   "source": [
    "demo2.sentiment.value_counts()"
   ]
  },
  {
   "cell_type": "code",
   "execution_count": 92,
   "id": "e1fffba5",
   "metadata": {
    "execution": {
     "iopub.execute_input": "2024-06-12T16:48:46.572514Z",
     "iopub.status.busy": "2024-06-12T16:48:46.572210Z",
     "iopub.status.idle": "2024-06-12T16:48:46.576683Z",
     "shell.execute_reply": "2024-06-12T16:48:46.575724Z"
    },
    "papermill": {
     "duration": 0.053259,
     "end_time": "2024-06-12T16:48:46.578577",
     "exception": false,
     "start_time": "2024-06-12T16:48:46.525318",
     "status": "completed"
    },
    "tags": []
   },
   "outputs": [],
   "source": [
    "sentiment_mapping = {\n",
    "    'sadness': 'sad',\n",
    "    'happy': 'happy',\n",
    "    'joy': 'happy',\n",
    "    'love': 'happy'\n",
    "}"
   ]
  },
  {
   "cell_type": "code",
   "execution_count": 93,
   "id": "61f5b711",
   "metadata": {
    "execution": {
     "iopub.execute_input": "2024-06-12T16:48:46.674280Z",
     "iopub.status.busy": "2024-06-12T16:48:46.673934Z",
     "iopub.status.idle": "2024-06-12T16:48:46.762178Z",
     "shell.execute_reply": "2024-06-12T16:48:46.761334Z"
    },
    "papermill": {
     "duration": 0.140832,
     "end_time": "2024-06-12T16:48:46.764311",
     "exception": false,
     "start_time": "2024-06-12T16:48:46.623479",
     "status": "completed"
    },
    "tags": []
   },
   "outputs": [],
   "source": [
    "demo1['sentimentx'] = demo1['sentiment'].replace(sentiment_mapping)\n",
    "demo2['sentimentx'] = demo2['sentiment'].replace(sentiment_mapping)\n",
    "demo3['sentimentx'] = demo3['sentiment'].replace(sentiment_mapping)"
   ]
  },
  {
   "cell_type": "code",
   "execution_count": 94,
   "id": "78cdbf43",
   "metadata": {
    "execution": {
     "iopub.execute_input": "2024-06-12T16:48:46.863163Z",
     "iopub.status.busy": "2024-06-12T16:48:46.862797Z",
     "iopub.status.idle": "2024-06-12T16:48:46.876441Z",
     "shell.execute_reply": "2024-06-12T16:48:46.875390Z"
    },
    "papermill": {
     "duration": 0.065359,
     "end_time": "2024-06-12T16:48:46.878826",
     "exception": false,
     "start_time": "2024-06-12T16:48:46.813467",
     "status": "completed"
    },
    "tags": []
   },
   "outputs": [
    {
     "data": {
      "text/plain": [
       "sentimentx\n",
       "happy    37650\n",
       "sad       3083\n",
       "anger      835\n",
       "fear        70\n",
       "Name: count, dtype: int64"
      ]
     },
     "execution_count": 94,
     "metadata": {},
     "output_type": "execute_result"
    }
   ],
   "source": [
    "demo3.sentimentx.value_counts()"
   ]
  },
  {
   "cell_type": "code",
   "execution_count": 95,
   "id": "5de896b4",
   "metadata": {
    "execution": {
     "iopub.execute_input": "2024-06-12T16:48:46.978283Z",
     "iopub.status.busy": "2024-06-12T16:48:46.977942Z",
     "iopub.status.idle": "2024-06-12T16:48:47.751418Z",
     "shell.execute_reply": "2024-06-12T16:48:47.750491Z"
    },
    "papermill": {
     "duration": 0.823693,
     "end_time": "2024-06-12T16:48:47.753499",
     "exception": false,
     "start_time": "2024-06-12T16:48:46.929806",
     "status": "completed"
    },
    "tags": []
   },
   "outputs": [
    {
     "data": {
      "image/png": "[encoded data removed]",
      "text/plain": [
       "<Figure size 1500x500 with 3 Axes>"
      ]
     },
     "metadata": {},
     "output_type": "display_data"
    }
   ],
   "source": [
    "# Define colors for the bar chart\n",
    "highest_value_color = (153/255, 255/255, 187/255)  # Light green color\n",
    "other_values_color = 'gray'\n",
    "\n",
    "\n",
    "def plot_sentiment_bar_chart(ax, df):\n",
    "    value_counts = df.sentimentx.value_counts()\n",
    "    colors = [highest_value_color if count == value_counts.max() else other_values_color for count in value_counts]\n",
    "    ax = value_counts.plot(kind='bar', color=colors, ax=ax)\n",
    "    ax.set_ylim(0, max_y+500)\n",
    "\n",
    "    return ax\n",
    "\n",
    "# Determine the maximum y limit\n",
    "max_y = max(demo1['sentiment'].value_counts().max(),\n",
    "            demo2['sentiment'].value_counts().max(),\n",
    "            demo3['sentiment'].value_counts().max())\n",
    "\n",
    "\n",
    "# Create subplots\n",
    "fig, axs = plt.subplots(1, 3, figsize=(15, 5))\n",
    "\n",
    "# Plot sentiment bar chart for each demo DataFrame\n",
    "plot_sentiment_bar_chart(axs[0], demo1)\n",
    "plot_sentiment_bar_chart(axs[1], demo2)\n",
    "plot_sentiment_bar_chart(axs[2], demo3)\n",
    "\n",
    "# Show the plot\n",
    "plt.tight_layout()\n",
    "plt.show()"
   ]
  },
  {
   "cell_type": "code",
   "execution_count": 96,
   "id": "57dcbba5",
   "metadata": {
    "execution": {
     "iopub.execute_input": "2024-06-12T16:48:47.848588Z",
     "iopub.status.busy": "2024-06-12T16:48:47.848206Z",
     "iopub.status.idle": "2024-06-12T16:48:47.872032Z",
     "shell.execute_reply": "2024-06-12T16:48:47.871119Z"
    },
    "papermill": {
     "duration": 0.073963,
     "end_time": "2024-06-12T16:48:47.874136",
     "exception": false,
     "start_time": "2024-06-12T16:48:47.800173",
     "status": "completed"
    },
    "tags": []
   },
   "outputs": [
    {
     "data": {
      "text/plain": [
       "sentimentx\n",
       "anger      6925\n",
       "fear        460\n",
       "happy    104644\n",
       "sad       13942\n",
       "Name: count, dtype: int64"
      ]
     },
     "execution_count": 96,
     "metadata": {},
     "output_type": "execute_result"
    }
   ],
   "source": [
    "demo1.sentimentx.value_counts().sort_index()"
   ]
  },
  {
   "cell_type": "code",
   "execution_count": 97,
   "id": "5ff63d89",
   "metadata": {
    "execution": {
     "iopub.execute_input": "2024-06-12T16:48:47.970606Z",
     "iopub.status.busy": "2024-06-12T16:48:47.970275Z",
     "iopub.status.idle": "2024-06-12T16:48:48.010624Z",
     "shell.execute_reply": "2024-06-12T16:48:48.009712Z"
    },
    "papermill": {
     "duration": 0.137368,
     "end_time": "2024-06-12T16:48:48.060376",
     "exception": false,
     "start_time": "2024-06-12T16:48:47.923008",
     "status": "completed"
    },
    "tags": []
   },
   "outputs": [
    {
     "data": {
      "text/plain": [
       "array([[  6925,    460, 104644,  13942],\n",
       "       [  3951,    280,  50879,  10117],\n",
       "       [   835,     70,  37650,   3083]])"
      ]
     },
     "execution_count": 97,
     "metadata": {},
     "output_type": "execute_result"
    }
   ],
   "source": [
    "spm = []\n",
    "spm.append(demo1.sentimentx.value_counts().sort_index().tolist())\n",
    "spm.append(demo2.sentimentx.value_counts().sort_index().tolist())\n",
    "spm.append(demo3.sentimentx.value_counts().sort_index().tolist())\n",
    "spm = np.array(spm)\n",
    "spm"
   ]
  },
  {
   "cell_type": "code",
   "execution_count": 98,
   "id": "5e7e9b09",
   "metadata": {
    "execution": {
     "iopub.execute_input": "2024-06-12T16:48:48.158085Z",
     "iopub.status.busy": "2024-06-12T16:48:48.157377Z",
     "iopub.status.idle": "2024-06-12T16:48:48.162244Z",
     "shell.execute_reply": "2024-06-12T16:48:48.161294Z"
    },
    "papermill": {
     "duration": 0.055969,
     "end_time": "2024-06-12T16:48:48.164271",
     "exception": false,
     "start_time": "2024-06-12T16:48:48.108302",
     "status": "completed"
    },
    "tags": []
   },
   "outputs": [],
   "source": [
    "sums = np.sum(spm, axis=1)\n",
    "# Normalize each inner array to percentages\n",
    "spm2 = (spm.T / sums).T * 100\n",
    "# print(spm2)"
   ]
  },
  {
   "cell_type": "code",
   "execution_count": 99,
   "id": "2bb0d91a",
   "metadata": {
    "execution": {
     "iopub.execute_input": "2024-06-12T16:48:48.259272Z",
     "iopub.status.busy": "2024-06-12T16:48:48.258984Z",
     "iopub.status.idle": "2024-06-12T16:48:48.634159Z",
     "shell.execute_reply": "2024-06-12T16:48:48.632901Z"
    },
    "papermill": {
     "duration": 0.426347,
     "end_time": "2024-06-12T16:48:48.637428",
     "exception": false,
     "start_time": "2024-06-12T16:48:48.211081",
     "status": "completed"
    },
    "tags": []
   },
   "outputs": [
    {
     "data": {
      "image/png": "[encoded data removed]",
      "text/plain": [
       "<Figure size 800x600 with 1 Axes>"
      ]
     },
     "metadata": {},
     "output_type": "display_data"
    }
   ],
   "source": [
    "# Define custom colors for each sentiment type\n",
    "colors = ['#2E9BFF', '#987BE9', '#FF7C7C', '#58D68D', 'red', 'green', 'blue']\n",
    "\n",
    "species = (\n",
    "    \"Mir Soho\",  \n",
    "    \"Mir Chara\", \n",
    "    \"Mir Er Thek\",  \n",
    ")\n",
    "weight_counts = {\n",
    "    \"Anger\": spm2.T[0],\n",
    "    \"Fear\": spm2.T[1],\n",
    "    'Happy':spm2.T[2],\n",
    "    \"Sad\": spm2.T[3],\n",
    "#     \"Surprise\":spm2.T[4]\n",
    "}\n",
    "\n",
    "# Calculate the number of sentiment types\n",
    "num_sentiments = len(weight_counts)\n",
    "\n",
    "# Adjust width based on the number of sentiment types\n",
    "width = 0.4\n",
    "\n",
    "fig, ax = plt.subplots(figsize=(8, 6))\n",
    "\n",
    "# Initialize bottom values with zeros for stacking\n",
    "bottom = np.zeros(len(species))\n",
    "\n",
    "# Stack the bars for each sentiment type with custom colors\n",
    "for i, (sentiment, count) in enumerate(weight_counts.items()):\n",
    "    plt.bar(species, count, width, label=sentiment, bottom=bottom, color=colors[i])\n",
    "    bottom += count  # Update bottom for stacking\n",
    "\n",
    "# Add labels and title\n",
    "plt.xlabel(\"Species\")\n",
    "plt.ylabel(\"Number of Occurrences\")\n",
    "plt.title(\"Distribution of Emotion\")\n",
    "\n",
    "# Adjust legend location\n",
    "plt.legend(loc=\"center\")\n",
    "\n",
    "plt.xticks(rotation=0)\n",
    "plt.tight_layout()\n",
    "plt.show()\n"
   ]
  },
  {
   "cell_type": "code",
   "execution_count": null,
   "id": "5d1e03b3",
   "metadata": {
    "papermill": {
     "duration": 0.047398,
     "end_time": "2024-06-12T16:48:48.739887",
     "exception": false,
     "start_time": "2024-06-12T16:48:48.692489",
     "status": "completed"
    },
    "tags": []
   },
   "outputs": [],
   "source": []
  },
  {
   "cell_type": "code",
   "execution_count": null,
   "id": "8ac413fe",
   "metadata": {
    "papermill": {
     "duration": 0.049339,
     "end_time": "2024-06-12T16:48:48.837640",
     "exception": false,
     "start_time": "2024-06-12T16:48:48.788301",
     "status": "completed"
    },
    "tags": []
   },
   "outputs": [],
   "source": []
  },
  {
   "cell_type": "markdown",
   "id": "42a04509",
   "metadata": {
    "papermill": {
     "duration": 0.046293,
     "end_time": "2024-06-12T16:48:48.932176",
     "exception": false,
     "start_time": "2024-06-12T16:48:48.885883",
     "status": "completed"
    },
    "tags": []
   },
   "source": [
    "## Ack\n",
    "https://colab.research.google.com/drive/15h32YuSQ5YwVji8OynC9BvMaWGpsWyD2?usp=sharing#scrollTo=XGj0RdguKrDb\n",
    "https://github.com/sagorbrur/bnlp/blob/main/docs/README.md#bengali-corpus-class"
   ]
  }
 ],
 "metadata": {
  "kaggle": {
   "accelerator": "nvidiaTeslaT4",
   "dataSources": [
    {
     "datasetId": 4819765,
     "sourceId": 8229402,
     "sourceType": "datasetVersion"
    },
    {
     "datasetId": 4713783,
     "sourceId": 8665204,
     "sourceType": "datasetVersion"
    },
    {
     "datasetId": 5014895,
     "sourceId": 8667285,
     "sourceType": "datasetVersion"
    }
   ],
   "dockerImageVersionId": 30673,
   "isGpuEnabled": true,
   "isInternetEnabled": true,
   "language": "python",
   "sourceType": "notebook"
  },
  "kernelspec": {
   "display_name": "Python 3",
   "language": "python",
   "name": "python3"
  },
  "language_info": {
   "codemirror_mode": {
    "name": "ipython",
    "version": 3
   },
   "file_extension": ".py",
   "mimetype": "text/x-python",
   "name": "python",
   "nbconvert_exporter": "python",
   "pygments_lexer": "ipython3",
   "version": "3.10.13"
  },
  "papermill": {
   "default_parameters": {},
   "duration": 3516.37004,
   "end_time": "2024-06-12T16:48:51.858042",
   "environment_variables": {},
   "exception": null,
   "input_path": "__notebook__.ipynb",
   "output_path": "__notebook__.ipynb",
   "parameters": {},
   "start_time": "2024-06-12T15:50:15.488002",
   "version": "2.5.0"
  },
  "widgets": {
   "application/vnd.jupyter.widget-state+json": {
    "state": {
     "005b059ab6674c82b625303bdfafd8e9": {
      "model_module": "@jupyter-widgets/base",
      "model_module_version": "1.2.0",
      "model_name": "LayoutModel",
      "state": {
       "_model_module": "@jupyter-widgets/base",
       "_model_module_version": "1.2.0",
       "_model_name": "LayoutModel",
       "_view_count": null,
       "_view_module": "@jupyter-widgets/base",
       "_view_module_version": "1.2.0",
       "_view_name": "LayoutView",
       "align_content": null,
       "align_items": null,
       "align_self": null,
       "border": null,
       "bottom": null,
       "display": null,
       "flex": null,
       "flex_flow": null,
       "grid_area": null,
       "grid_auto_columns": null,
       "grid_auto_flow": null,
       "grid_auto_rows": null,
       "grid_column": null,
       "grid_gap": null,
       "grid_row": null,
       "grid_template_areas": null,
       "grid_template_columns": null,
       "grid_template_rows": null,
       "height": null,
       "justify_content": null,
       "justify_items": null,
       "left": null,
       "margin": null,
       "max_height": null,
       "max_width": null,
       "min_height": null,
       "min_width": null,
       "object_fit": null,
       "object_position": null,
       "order": null,
       "overflow": null,
       "overflow_x": null,
       "overflow_y": null,
       "padding": null,
       "right": null,
       "top": null,
       "visibility": null,
       "width": null
      }
     },
     "0079dbe19a6a4e649eada206e7e832d6": {
      "model_module": "@jupyter-widgets/controls",
      "model_module_version": "1.5.0",
      "model_name": "HTMLModel",
      "state": {
       "_dom_classes": [],
       "_model_module": "@jupyter-widgets/controls",
       "_model_module_version": "1.5.0",
       "_model_name": "HTMLModel",
       "_view_count": null,
       "_view_module": "@jupyter-widgets/controls",
       "_view_module_version": "1.5.0",
       "_view_name": "HTMLView",
       "description": "",
       "description_tooltip": null,
       "layout": "IPY_MODEL_af44314eca4b42769e5dd5d52e23bf60",
       "placeholder": "​",
       "style": "IPY_MODEL_d622eb08e0754b3b852c5d7e7dccd858",
       "value": " 1.36M/1.36M [00:00&lt;00:00, 12.8MB/s]"
      }
     },
     "0175a34c2a494a3da44765ab64008081": {
      "model_module": "@jupyter-widgets/base",
      "model_module_version": "1.2.0",
      "model_name": "LayoutModel",
      "state": {
       "_model_module": "@jupyter-widgets/base",
       "_model_module_version": "1.2.0",
       "_model_name": "LayoutModel",
       "_view_count": null,
       "_view_module": "@jupyter-widgets/base",
       "_view_module_version": "1.2.0",
       "_view_name": "LayoutView",
       "align_content": null,
       "align_items": null,
       "align_self": null,
       "border": null,
       "bottom": null,
       "display": null,
       "flex": null,
       "flex_flow": null,
       "grid_area": null,
       "grid_auto_columns": null,
       "grid_auto_flow": null,
       "grid_auto_rows": null,
       "grid_column": null,
       "grid_gap": null,
       "grid_row": null,
       "grid_template_areas": null,
       "grid_template_columns": null,
       "grid_template_rows": null,
       "height": null,
       "justify_content": null,
       "justify_items": null,
       "left": null,
       "margin": null,
       "max_height": null,
       "max_width": null,
       "min_height": null,
       "min_width": null,
       "object_fit": null,
       "object_position": null,
       "order": null,
       "overflow": null,
       "overflow_x": null,
       "overflow_y": null,
       "padding": null,
       "right": null,
       "top": null,
       "visibility": null,
       "width": null
      }
     },
     "01cd240831b94a8ba91b1c4216229efa": {
      "model_module": "@jupyter-widgets/controls",
      "model_module_version": "1.5.0",
      "model_name": "HTMLModel",
      "state": {
       "_dom_classes": [],
       "_model_module": "@jupyter-widgets/controls",
       "_model_module_version": "1.5.0",
       "_model_name": "HTMLModel",
       "_view_count": null,
       "_view_module": "@jupyter-widgets/controls",
       "_view_module_version": "1.5.0",
       "_view_name": "HTMLView",
       "description": "",
       "description_tooltip": null,
       "layout": "IPY_MODEL_16958377145343d5b2c18c3e10d6f3e3",
       "placeholder": "​",
       "style": "IPY_MODEL_9dff8588721040ea930732d3aeaad760",
       "value": " 100/100 [00:01&lt;00:00, 67.25it/s]"
      }
     },
     "026e83cb06f14cd6869d92c9da96b172": {
      "model_module": "@jupyter-widgets/base",
      "model_module_version": "1.2.0",
      "model_name": "LayoutModel",
      "state": {
       "_model_module": "@jupyter-widgets/base",
       "_model_module_version": "1.2.0",
       "_model_name": "LayoutModel",
       "_view_count": null,
       "_view_module": "@jupyter-widgets/base",
       "_view_module_version": "1.2.0",
       "_view_name": "LayoutView",
       "align_content": null,
       "align_items": null,
       "align_self": null,
       "border": null,
       "bottom": null,
       "display": null,
       "flex": null,
       "flex_flow": null,
       "grid_area": null,
       "grid_auto_columns": null,
       "grid_auto_flow": null,
       "grid_auto_rows": null,
       "grid_column": null,
       "grid_gap": null,
       "grid_row": null,
       "grid_template_areas": null,
       "grid_template_columns": null,
       "grid_template_rows": null,
       "height": null,
       "justify_content": null,
       "justify_items": null,
       "left": null,
       "margin": null,
       "max_height": null,
       "max_width": null,
       "min_height": null,
       "min_width": null,
       "object_fit": null,
       "object_position": null,
       "order": null,
       "overflow": null,
       "overflow_x": null,
       "overflow_y": null,
       "padding": null,
       "right": null,
       "top": null,
       "visibility": null,
       "width": null
      }
     },
     "028b2612a9fe4ababe74461b8ea9c886": {
      "model_module": "@jupyter-widgets/controls",
      "model_module_version": "1.5.0",
      "model_name": "HTMLModel",
      "state": {
       "_dom_classes": [],
       "_model_module": "@jupyter-widgets/controls",
       "_model_module_version": "1.5.0",
       "_model_name": "HTMLModel",
       "_view_count": null,
       "_view_module": "@jupyter-widgets/controls",
       "_view_module_version": "1.5.0",
       "_view_name": "HTMLView",
       "description": "",
       "description_tooltip": null,
       "layout": "IPY_MODEL_8399c932d4fe4670a8dda01dfde20c44",
       "placeholder": "​",
       "style": "IPY_MODEL_2e3dbba5de804107b9d328445360ec54",
       "value": " 586/586 [00:00&lt;00:00, 44.2kB/s]"
      }
     },
     "02d6a4c11179437a898b9b23363967b7": {
      "model_module": "@jupyter-widgets/base",
      "model_module_version": "1.2.0",
      "model_name": "LayoutModel",
      "state": {
       "_model_module": "@jupyter-widgets/base",
       "_model_module_version": "1.2.0",
       "_model_name": "LayoutModel",
       "_view_count": null,
       "_view_module": "@jupyter-widgets/base",
       "_view_module_version": "1.2.0",
       "_view_name": "LayoutView",
       "align_content": null,
       "align_items": null,
       "align_self": null,
       "border": null,
       "bottom": null,
       "display": null,
       "flex": null,
       "flex_flow": null,
       "grid_area": null,
       "grid_auto_columns": null,
       "grid_auto_flow": null,
       "grid_auto_rows": null,
       "grid_column": null,
       "grid_gap": null,
       "grid_row": null,
       "grid_template_areas": null,
       "grid_template_columns": null,
       "grid_template_rows": null,
       "height": null,
       "justify_content": null,
       "justify_items": null,
       "left": null,
       "margin": null,
       "max_height": null,
       "max_width": null,
       "min_height": null,
       "min_width": null,
       "object_fit": null,
       "object_position": null,
       "order": null,
       "overflow": null,
       "overflow_x": null,
       "overflow_y": null,
       "padding": null,
       "right": null,
       "top": null,
       "visibility": null,
       "width": null
      }
     },
     "04d8c61db36f4fbeac29a324bd336863": {
      "model_module": "@jupyter-widgets/controls",
      "model_module_version": "1.5.0",
      "model_name": "DescriptionStyleModel",
      "state": {
       "_model_module": "@jupyter-widgets/controls",
       "_model_module_version": "1.5.0",
       "_model_name": "DescriptionStyleModel",
       "_view_count": null,
       "_view_module": "@jupyter-widgets/base",
       "_view_module_version": "1.2.0",
       "_view_name": "StyleView",
       "description_width": ""
      }
     },
     "06c1885c6c66456596a32ebaf245b32f": {
      "model_module": "@jupyter-widgets/controls",
      "model_module_version": "1.5.0",
      "model_name": "DescriptionStyleModel",
      "state": {
       "_model_module": "@jupyter-widgets/controls",
       "_model_module_version": "1.5.0",
       "_model_name": "DescriptionStyleModel",
       "_view_count": null,
       "_view_module": "@jupyter-widgets/base",
       "_view_module_version": "1.2.0",
       "_view_name": "StyleView",
       "description_width": ""
      }
     },
     "07d6f1240bf94e28baef5eb3cab02e20": {
      "model_module": "@jupyter-widgets/base",
      "model_module_version": "1.2.0",
      "model_name": "LayoutModel",
      "state": {
       "_model_module": "@jupyter-widgets/base",
       "_model_module_version": "1.2.0",
       "_model_name": "LayoutModel",
       "_view_count": null,
       "_view_module": "@jupyter-widgets/base",
       "_view_module_version": "1.2.0",
       "_view_name": "LayoutView",
       "align_content": null,
       "align_items": null,
       "align_self": null,
       "border": null,
       "bottom": null,
       "display": null,
       "flex": null,
       "flex_flow": null,
       "grid_area": null,
       "grid_auto_columns": null,
       "grid_auto_flow": null,
       "grid_auto_rows": null,
       "grid_column": null,
       "grid_gap": null,
       "grid_row": null,
       "grid_template_areas": null,
       "grid_template_columns": null,
       "grid_template_rows": null,
       "height": null,
       "justify_content": null,
       "justify_items": null,
       "left": null,
       "margin": null,
       "max_height": null,
       "max_width": null,
       "min_height": null,
       "min_width": null,
       "object_fit": null,
       "object_position": null,
       "order": null,
       "overflow": null,
       "overflow_x": null,
       "overflow_y": null,
       "padding": null,
       "right": null,
       "top": null,
       "visibility": null,
       "width": null
      }
     },
     "08e4a0f584ab441ebde8e62f4e69772e": {
      "model_module": "@jupyter-widgets/controls",
      "model_module_version": "1.5.0",
      "model_name": "FloatProgressModel",
      "state": {
       "_dom_classes": [],
       "_model_module": "@jupyter-widgets/controls",
       "_model_module_version": "1.5.0",
       "_model_name": "FloatProgressModel",
       "_view_count": null,
       "_view_module": "@jupyter-widgets/controls",
       "_view_module_version": "1.5.0",
       "_view_name": "ProgressView",
       "bar_style": "success",
       "description": "",
       "description_tooltip": null,
       "layout": "IPY_MODEL_9f63fd53130349869fc1824401040bbb",
       "max": 231508.0,
       "min": 0.0,
       "orientation": "horizontal",
       "style": "IPY_MODEL_95d048ce681245c4a257f9d7b8a01b31",
       "value": 231508.0
      }
     },
     "0cede622eb0e4527b1319c4c737182c4": {
      "model_module": "@jupyter-widgets/base",
      "model_module_version": "1.2.0",
      "model_name": "LayoutModel",
      "state": {
       "_model_module": "@jupyter-widgets/base",
       "_model_module_version": "1.2.0",
       "_model_name": "LayoutModel",
       "_view_count": null,
       "_view_module": "@jupyter-widgets/base",
       "_view_module_version": "1.2.0",
       "_view_name": "LayoutView",
       "align_content": null,
       "align_items": null,
       "align_self": null,
       "border": null,
       "bottom": null,
       "display": null,
       "flex": null,
       "flex_flow": null,
       "grid_area": null,
       "grid_auto_columns": null,
       "grid_auto_flow": null,
       "grid_auto_rows": null,
       "grid_column": null,
       "grid_gap": null,
       "grid_row": null,
       "grid_template_areas": null,
       "grid_template_columns": null,
       "grid_template_rows": null,
       "height": null,
       "justify_content": null,
       "justify_items": null,
       "left": null,
       "margin": null,
       "max_height": null,
       "max_width": null,
       "min_height": null,
       "min_width": null,
       "object_fit": null,
       "object_position": null,
       "order": null,
       "overflow": null,
       "overflow_x": null,
       "overflow_y": null,
       "padding": null,
       "right": null,
       "top": null,
       "visibility": null,
       "width": null
      }
     },
     "0d89ddd132e1479da09f84dc5378af03": {
      "model_module": "@jupyter-widgets/base",
      "model_module_version": "1.2.0",
      "model_name": "LayoutModel",
      "state": {
       "_model_module": "@jupyter-widgets/base",
       "_model_module_version": "1.2.0",
       "_model_name": "LayoutModel",
       "_view_count": null,
       "_view_module": "@jupyter-widgets/base",
       "_view_module_version": "1.2.0",
       "_view_name": "LayoutView",
       "align_content": null,
       "align_items": null,
       "align_self": null,
       "border": null,
       "bottom": null,
       "display": null,
       "flex": null,
       "flex_flow": null,
       "grid_area": null,
       "grid_auto_columns": null,
       "grid_auto_flow": null,
       "grid_auto_rows": null,
       "grid_column": null,
       "grid_gap": null,
       "grid_row": null,
       "grid_template_areas": null,
       "grid_template_columns": null,
       "grid_template_rows": null,
       "height": null,
       "justify_content": null,
       "justify_items": null,
       "left": null,
       "margin": null,
       "max_height": null,
       "max_width": null,
       "min_height": null,
       "min_width": null,
       "object_fit": null,
       "object_position": null,
       "order": null,
       "overflow": null,
       "overflow_x": null,
       "overflow_y": null,
       "padding": null,
       "right": null,
       "top": null,
       "visibility": null,
       "width": null
      }
     },
     "0f03295ed84d4e7d8f9b056f4ac7857b": {
      "model_module": "@jupyter-widgets/controls",
      "model_module_version": "1.5.0",
      "model_name": "HBoxModel",
      "state": {
       "_dom_classes": [],
       "_model_module": "@jupyter-widgets/controls",
       "_model_module_version": "1.5.0",
       "_model_name": "HBoxModel",
       "_view_count": null,
       "_view_module": "@jupyter-widgets/controls",
       "_view_module_version": "1.5.0",
       "_view_name": "HBoxView",
       "box_style": "",
       "children": [
        "IPY_MODEL_a3f2a956969343aca74986044a6e72ca",
        "IPY_MODEL_dadaefefae8142539e59d7dcd657979e",
        "IPY_MODEL_e803effce32c4438bb5b5309a76b9021"
       ],
       "layout": "IPY_MODEL_b7aaa07e9cde48c695d3821d49e963ea"
      }
     },
     "123a5b79a48d4d38905aec157993f429": {
      "model_module": "@jupyter-widgets/controls",
      "model_module_version": "1.5.0",
      "model_name": "FloatProgressModel",
      "state": {
       "_dom_classes": [],
       "_model_module": "@jupyter-widgets/controls",
       "_model_module_version": "1.5.0",
       "_model_name": "FloatProgressModel",
       "_view_count": null,
       "_view_module": "@jupyter-widgets/controls",
       "_view_module_version": "1.5.0",
       "_view_name": "ProgressView",
       "bar_style": "success",
       "description": "",
       "description_tooltip": null,
       "layout": "IPY_MODEL_db59767f98c449bfa190f2b9e50f514b",
       "max": 898822.0,
       "min": 0.0,
       "orientation": "horizontal",
       "style": "IPY_MODEL_407c0ef98fe14cfa86eb0a6ccfb9bec6",
       "value": 898822.0
      }
     },
     "12b935bd06c34528a19ae979601d79d1": {
      "model_module": "@jupyter-widgets/base",
      "model_module_version": "1.2.0",
      "model_name": "LayoutModel",
      "state": {
       "_model_module": "@jupyter-widgets/base",
       "_model_module_version": "1.2.0",
       "_model_name": "LayoutModel",
       "_view_count": null,
       "_view_module": "@jupyter-widgets/base",
       "_view_module_version": "1.2.0",
       "_view_name": "LayoutView",
       "align_content": null,
       "align_items": null,
       "align_self": null,
       "border": null,
       "bottom": null,
       "display": null,
       "flex": null,
       "flex_flow": null,
       "grid_area": null,
       "grid_auto_columns": null,
       "grid_auto_flow": null,
       "grid_auto_rows": null,
       "grid_column": null,
       "grid_gap": null,
       "grid_row": null,
       "grid_template_areas": null,
       "grid_template_columns": null,
       "grid_template_rows": null,
       "height": null,
       "justify_content": null,
       "justify_items": null,
       "left": null,
       "margin": null,
       "max_height": null,
       "max_width": null,
       "min_height": null,
       "min_width": null,
       "object_fit": null,
       "object_position": null,
       "order": null,
       "overflow": null,
       "overflow_x": null,
       "overflow_y": null,
       "padding": null,
       "right": null,
       "top": null,
       "visibility": null,
       "width": null
      }
     },
     "1326c44d04c74a8aaac40f4b73576ff3": {
      "model_module": "@jupyter-widgets/controls",
      "model_module_version": "1.5.0",
      "model_name": "ProgressStyleModel",
      "state": {
       "_model_module": "@jupyter-widgets/controls",
       "_model_module_version": "1.5.0",
       "_model_name": "ProgressStyleModel",
       "_view_count": null,
       "_view_module": "@jupyter-widgets/base",
       "_view_module_version": "1.2.0",
       "_view_name": "StyleView",
       "bar_color": null,
       "description_width": ""
      }
     },
     "1432b1b86d9d494882140ffab9b8de22": {
      "model_module": "@jupyter-widgets/controls",
      "model_module_version": "1.5.0",
      "model_name": "HTMLModel",
      "state": {
       "_dom_classes": [],
       "_model_module": "@jupyter-widgets/controls",
       "_model_module_version": "1.5.0",
       "_model_name": "HTMLModel",
       "_view_count": null,
       "_view_module": "@jupyter-widgets/controls",
       "_view_module_version": "1.5.0",
       "_view_name": "HTMLView",
       "description": "",
       "description_tooltip": null,
       "layout": "IPY_MODEL_d5e05367e572483587ec5e65699525d4",
       "placeholder": "​",
       "style": "IPY_MODEL_3122d926bc1e4ed1888e2425a79989d4",
       "value": " 1.63G/1.63G [00:08&lt;00:00, 184MB/s]"
      }
     },
     "15e86cca6d1d40f7bb61eb3008a6ec7f": {
      "model_module": "@jupyter-widgets/base",
      "model_module_version": "1.2.0",
      "model_name": "LayoutModel",
      "state": {
       "_model_module": "@jupyter-widgets/base",
       "_model_module_version": "1.2.0",
       "_model_name": "LayoutModel",
       "_view_count": null,
       "_view_module": "@jupyter-widgets/base",
       "_view_module_version": "1.2.0",
       "_view_name": "LayoutView",
       "align_content": null,
       "align_items": null,
       "align_self": null,
       "border": null,
       "bottom": null,
       "display": null,
       "flex": null,
       "flex_flow": null,
       "grid_area": null,
       "grid_auto_columns": null,
       "grid_auto_flow": null,
       "grid_auto_rows": null,
       "grid_column": null,
       "grid_gap": null,
       "grid_row": null,
       "grid_template_areas": null,
       "grid_template_columns": null,
       "grid_template_rows": null,
       "height": null,
       "justify_content": null,
       "justify_items": null,
       "left": null,
       "margin": null,
       "max_height": null,
       "max_width": null,
       "min_height": null,
       "min_width": null,
       "object_fit": null,
       "object_position": null,
       "order": null,
       "overflow": null,
       "overflow_x": null,
       "overflow_y": null,
       "padding": null,
       "right": null,
       "top": null,
       "visibility": null,
       "width": null
      }
     },
     "16958377145343d5b2c18c3e10d6f3e3": {
      "model_module": "@jupyter-widgets/base",
      "model_module_version": "1.2.0",
      "model_name": "LayoutModel",
      "state": {
       "_model_module": "@jupyter-widgets/base",
       "_model_module_version": "1.2.0",
       "_model_name": "LayoutModel",
       "_view_count": null,
       "_view_module": "@jupyter-widgets/base",
       "_view_module_version": "1.2.0",
       "_view_name": "LayoutView",
       "align_content": null,
       "align_items": null,
       "align_self": null,
       "border": null,
       "bottom": null,
       "display": null,
       "flex": null,
       "flex_flow": null,
       "grid_area": null,
       "grid_auto_columns": null,
       "grid_auto_flow": null,
       "grid_auto_rows": null,
       "grid_column": null,
       "grid_gap": null,
       "grid_row": null,
       "grid_template_areas": null,
       "grid_template_columns": null,
       "grid_template_rows": null,
       "height": null,
       "justify_content": null,
       "justify_items": null,
       "left": null,
       "margin": null,
       "max_height": null,
       "max_width": null,
       "min_height": null,
       "min_width": null,
       "object_fit": null,
       "object_position": null,
       "order": null,
       "overflow": null,
       "overflow_x": null,
       "overflow_y": null,
       "padding": null,
       "right": null,
       "top": null,
       "visibility": null,
       "width": null
      }
     },
     "16d8d0e3e74241e48a875042770e71bf": {
      "model_module": "@jupyter-widgets/controls",
      "model_module_version": "1.5.0",
      "model_name": "HTMLModel",
      "state": {
       "_dom_classes": [],
       "_model_module": "@jupyter-widgets/controls",
       "_model_module_version": "1.5.0",
       "_model_name": "HTMLModel",
       "_view_count": null,
       "_view_module": "@jupyter-widgets/controls",
       "_view_module_version": "1.5.0",
       "_view_name": "HTMLView",
       "description": "",
       "description_tooltip": null,
       "layout": "IPY_MODEL_21083f436eb14a97a007e461ff652f87",
       "placeholder": "​",
       "style": "IPY_MODEL_06c1885c6c66456596a32ebaf245b32f",
       "value": " 125971/125971 [30:45&lt;00:00, 69.98it/s]"
      }
     },
     "1785044b95ff4500886afed6f2778e5b": {
      "model_module": "@jupyter-widgets/controls",
      "model_module_version": "1.5.0",
      "model_name": "HTMLModel",
      "state": {
       "_dom_classes": [],
       "_model_module": "@jupyter-widgets/controls",
       "_model_module_version": "1.5.0",
       "_model_name": "HTMLModel",
       "_view_count": null,
       "_view_module": "@jupyter-widgets/controls",
       "_view_module_version": "1.5.0",
       "_view_name": "HTMLView",
       "description": "",
       "description_tooltip": null,
       "layout": "IPY_MODEL_5f1d8bb486a345aebe17296ed0053837",
       "placeholder": "​",
       "style": "IPY_MODEL_83d0e6a9ed234b1fa96f196ece6eea74",
       "value": " 528k/528k [00:00&lt;00:00, 25.1MB/s]"
      }
     },
     "1a136eb640cf4e6894e1d976d4e1e11a": {
      "model_module": "@jupyter-widgets/controls",
      "model_module_version": "1.5.0",
      "model_name": "FloatProgressModel",
      "state": {
       "_dom_classes": [],
       "_model_module": "@jupyter-widgets/controls",
       "_model_module_version": "1.5.0",
       "_model_name": "FloatProgressModel",
       "_view_count": null,
       "_view_module": "@jupyter-widgets/controls",
       "_view_module_version": "1.5.0",
       "_view_name": "ProgressView",
       "bar_style": "success",
       "description": "",
       "description_tooltip": null,
       "layout": "IPY_MODEL_c937aa25d5524391a8cde58ab421851c",
       "max": 466248.0,
       "min": 0.0,
       "orientation": "horizontal",
       "style": "IPY_MODEL_1326c44d04c74a8aaac40f4b73576ff3",
       "value": 466248.0
      }
     },
     "1b7feb26c77643f7abd1ef0e5bec8dc5": {
      "model_module": "@jupyter-widgets/controls",
      "model_module_version": "1.5.0",
      "model_name": "ProgressStyleModel",
      "state": {
       "_model_module": "@jupyter-widgets/controls",
       "_model_module_version": "1.5.0",
       "_model_name": "ProgressStyleModel",
       "_view_count": null,
       "_view_module": "@jupyter-widgets/base",
       "_view_module_version": "1.2.0",
       "_view_name": "StyleView",
       "bar_color": null,
       "description_width": ""
      }
     },
     "1bd57db769424b809d92e1238217e08d": {
      "model_module": "@jupyter-widgets/controls",
      "model_module_version": "1.5.0",
      "model_name": "ProgressStyleModel",
      "state": {
       "_model_module": "@jupyter-widgets/controls",
       "_model_module_version": "1.5.0",
       "_model_name": "ProgressStyleModel",
       "_view_count": null,
       "_view_module": "@jupyter-widgets/base",
       "_view_module_version": "1.2.0",
       "_view_name": "StyleView",
       "bar_color": null,
       "description_width": ""
      }
     },
     "1c659ccae76047f9ba6f2c0386621f54": {
      "model_module": "@jupyter-widgets/controls",
      "model_module_version": "1.5.0",
      "model_name": "ProgressStyleModel",
      "state": {
       "_model_module": "@jupyter-widgets/controls",
       "_model_module_version": "1.5.0",
       "_model_name": "ProgressStyleModel",
       "_view_count": null,
       "_view_module": "@jupyter-widgets/base",
       "_view_module_version": "1.2.0",
       "_view_name": "StyleView",
       "bar_color": null,
       "description_width": ""
      }
     },
     "1d262b60b20e43df922842426c2778be": {
      "model_module": "@jupyter-widgets/controls",
      "model_module_version": "1.5.0",
      "model_name": "DescriptionStyleModel",
      "state": {
       "_model_module": "@jupyter-widgets/controls",
       "_model_module_version": "1.5.0",
       "_model_name": "DescriptionStyleModel",
       "_view_count": null,
       "_view_module": "@jupyter-widgets/base",
       "_view_module_version": "1.2.0",
       "_view_name": "StyleView",
       "description_width": ""
      }
     },
     "1e5109efedd942b8ab3921914e143cbf": {
      "model_module": "@jupyter-widgets/base",
      "model_module_version": "1.2.0",
      "model_name": "LayoutModel",
      "state": {
       "_model_module": "@jupyter-widgets/base",
       "_model_module_version": "1.2.0",
       "_model_name": "LayoutModel",
       "_view_count": null,
       "_view_module": "@jupyter-widgets/base",
       "_view_module_version": "1.2.0",
       "_view_name": "LayoutView",
       "align_content": null,
       "align_items": null,
       "align_self": null,
       "border": null,
       "bottom": null,
       "display": null,
       "flex": null,
       "flex_flow": null,
       "grid_area": null,
       "grid_auto_columns": null,
       "grid_auto_flow": null,
       "grid_auto_rows": null,
       "grid_column": null,
       "grid_gap": null,
       "grid_row": null,
       "grid_template_areas": null,
       "grid_template_columns": null,
       "grid_template_rows": null,
       "height": null,
       "justify_content": null,
       "justify_items": null,
       "left": null,
       "margin": null,
       "max_height": null,
       "max_width": null,
       "min_height": null,
       "min_width": null,
       "object_fit": null,
       "object_position": null,
       "order": null,
       "overflow": null,
       "overflow_x": null,
       "overflow_y": null,
       "padding": null,
       "right": null,
       "top": null,
       "visibility": null,
       "width": null
      }
     },
     "1f2d7edce7504ec0b359f1daf235944c": {
      "model_module": "@jupyter-widgets/controls",
      "model_module_version": "1.5.0",
      "model_name": "FloatProgressModel",
      "state": {
       "_dom_classes": [],
       "_model_module": "@jupyter-widgets/controls",
       "_model_module_version": "1.5.0",
       "_model_name": "FloatProgressModel",
       "_view_count": null,
       "_view_module": "@jupyter-widgets/controls",
       "_view_module_version": "1.5.0",
       "_view_name": "ProgressView",
       "bar_style": "success",
       "description": "",
       "description_tooltip": null,
       "layout": "IPY_MODEL_d565f825ff4f4a7f9ded7a10018da996",
       "max": 26.0,
       "min": 0.0,
       "orientation": "horizontal",
       "style": "IPY_MODEL_3012b51056b741bc91db9fc62cd48843",
       "value": 26.0
      }
     },
     "2058483426e34f5b8504fc7368a7af0a": {
      "model_module": "@jupyter-widgets/controls",
      "model_module_version": "1.5.0",
      "model_name": "HTMLModel",
      "state": {
       "_dom_classes": [],
       "_model_module": "@jupyter-widgets/controls",
       "_model_module_version": "1.5.0",
       "_model_name": "HTMLModel",
       "_view_count": null,
       "_view_module": "@jupyter-widgets/controls",
       "_view_module_version": "1.5.0",
       "_view_name": "HTMLView",
       "description": "",
       "description_tooltip": null,
       "layout": "IPY_MODEL_862aa1b53bae4bf4bcc73a614eca73f4",
       "placeholder": "​",
       "style": "IPY_MODEL_cbb8dcd9e3f242c0ad68aff1f7da9d2f",
       "value": " 112/112 [00:00&lt;00:00, 9.39kB/s]"
      }
     },
     "21083f436eb14a97a007e461ff652f87": {
      "model_module": "@jupyter-widgets/base",
      "model_module_version": "1.2.0",
      "model_name": "LayoutModel",
      "state": {
       "_model_module": "@jupyter-widgets/base",
       "_model_module_version": "1.2.0",
       "_model_name": "LayoutModel",
       "_view_count": null,
       "_view_module": "@jupyter-widgets/base",
       "_view_module_version": "1.2.0",
       "_view_name": "LayoutView",
       "align_content": null,
       "align_items": null,
       "align_self": null,
       "border": null,
       "bottom": null,
       "display": null,
       "flex": null,
       "flex_flow": null,
       "grid_area": null,
       "grid_auto_columns": null,
       "grid_auto_flow": null,
       "grid_auto_rows": null,
       "grid_column": null,
       "grid_gap": null,
       "grid_row": null,
       "grid_template_areas": null,
       "grid_template_columns": null,
       "grid_template_rows": null,
       "height": null,
       "justify_content": null,
       "justify_items": null,
       "left": null,
       "margin": null,
       "max_height": null,
       "max_width": null,
       "min_height": null,
       "min_width": null,
       "object_fit": null,
       "object_position": null,
       "order": null,
       "overflow": null,
       "overflow_x": null,
       "overflow_y": null,
       "padding": null,
       "right": null,
       "top": null,
       "visibility": null,
       "width": null
      }
     },
     "24b9a1cbbbe2406b8f41c2c584bcee0b": {
      "model_module": "@jupyter-widgets/controls",
      "model_module_version": "1.5.0",
      "model_name": "HBoxModel",
      "state": {
       "_dom_classes": [],
       "_model_module": "@jupyter-widgets/controls",
       "_model_module_version": "1.5.0",
       "_model_name": "HBoxModel",
       "_view_count": null,
       "_view_module": "@jupyter-widgets/controls",
       "_view_module_version": "1.5.0",
       "_view_name": "HBoxView",
       "box_style": "",
       "children": [
        "IPY_MODEL_3e49ff1e4dac4e29921e3a567bfbb3d4",
        "IPY_MODEL_6097aff4db134761ae03cb503976e51b",
        "IPY_MODEL_01cd240831b94a8ba91b1c4216229efa"
       ],
       "layout": "IPY_MODEL_9844645c46e2451bbc159fe3602aae6f"
      }
     },
     "25b6453916dc406b998724953f54fa36": {
      "model_module": "@jupyter-widgets/base",
      "model_module_version": "1.2.0",
      "model_name": "LayoutModel",
      "state": {
       "_model_module": "@jupyter-widgets/base",
       "_model_module_version": "1.2.0",
       "_model_name": "LayoutModel",
       "_view_count": null,
       "_view_module": "@jupyter-widgets/base",
       "_view_module_version": "1.2.0",
       "_view_name": "LayoutView",
       "align_content": null,
       "align_items": null,
       "align_self": null,
       "border": null,
       "bottom": null,
       "display": null,
       "flex": null,
       "flex_flow": null,
       "grid_area": null,
       "grid_auto_columns": null,
       "grid_auto_flow": null,
       "grid_auto_rows": null,
       "grid_column": null,
       "grid_gap": null,
       "grid_row": null,
       "grid_template_areas": null,
       "grid_template_columns": null,
       "grid_template_rows": null,
       "height": null,
       "justify_content": null,
       "justify_items": null,
       "left": null,
       "margin": null,
       "max_height": null,
       "max_width": null,
       "min_height": null,
       "min_width": null,
       "object_fit": null,
       "object_position": null,
       "order": null,
       "overflow": null,
       "overflow_x": null,
       "overflow_y": null,
       "padding": null,
       "right": null,
       "top": null,
       "visibility": null,
       "width": null
      }
     },
     "2711f9562147434595c046580760a080": {
      "model_module": "@jupyter-widgets/controls",
      "model_module_version": "1.5.0",
      "model_name": "DescriptionStyleModel",
      "state": {
       "_model_module": "@jupyter-widgets/controls",
       "_model_module_version": "1.5.0",
       "_model_name": "DescriptionStyleModel",
       "_view_count": null,
       "_view_module": "@jupyter-widgets/base",
       "_view_module_version": "1.2.0",
       "_view_name": "StyleView",
       "description_width": ""
      }
     },
     "285a41997d154e93a36ecfdbda11ab04": {
      "model_module": "@jupyter-widgets/base",
      "model_module_version": "1.2.0",
      "model_name": "LayoutModel",
      "state": {
       "_model_module": "@jupyter-widgets/base",
       "_model_module_version": "1.2.0",
       "_model_name": "LayoutModel",
       "_view_count": null,
       "_view_module": "@jupyter-widgets/base",
       "_view_module_version": "1.2.0",
       "_view_name": "LayoutView",
       "align_content": null,
       "align_items": null,
       "align_self": null,
       "border": null,
       "bottom": null,
       "display": null,
       "flex": null,
       "flex_flow": null,
       "grid_area": null,
       "grid_auto_columns": null,
       "grid_auto_flow": null,
       "grid_auto_rows": null,
       "grid_column": null,
       "grid_gap": null,
       "grid_row": null,
       "grid_template_areas": null,
       "grid_template_columns": null,
       "grid_template_rows": null,
       "height": null,
       "justify_content": null,
       "justify_items": null,
       "left": null,
       "margin": null,
       "max_height": null,
       "max_width": null,
       "min_height": null,
       "min_width": null,
       "object_fit": null,
       "object_position": null,
       "order": null,
       "overflow": null,
       "overflow_x": null,
       "overflow_y": null,
       "padding": null,
       "right": null,
       "top": null,
       "visibility": null,
       "width": null
      }
     },
     "28d60292501b4d9893997cc119c0356c": {
      "model_module": "@jupyter-widgets/base",
      "model_module_version": "1.2.0",
      "model_name": "LayoutModel",
      "state": {
       "_model_module": "@jupyter-widgets/base",
       "_model_module_version": "1.2.0",
       "_model_name": "LayoutModel",
       "_view_count": null,
       "_view_module": "@jupyter-widgets/base",
       "_view_module_version": "1.2.0",
       "_view_name": "LayoutView",
       "align_content": null,
       "align_items": null,
       "align_self": null,
       "border": null,
       "bottom": null,
       "display": null,
       "flex": null,
       "flex_flow": null,
       "grid_area": null,
       "grid_auto_columns": null,
       "grid_auto_flow": null,
       "grid_auto_rows": null,
       "grid_column": null,
       "grid_gap": null,
       "grid_row": null,
       "grid_template_areas": null,
       "grid_template_columns": null,
       "grid_template_rows": null,
       "height": null,
       "justify_content": null,
       "justify_items": null,
       "left": null,
       "margin": null,
       "max_height": null,
       "max_width": null,
       "min_height": null,
       "min_width": null,
       "object_fit": null,
       "object_position": null,
       "order": null,
       "overflow": null,
       "overflow_x": null,
       "overflow_y": null,
       "padding": null,
       "right": null,
       "top": null,
       "visibility": null,
       "width": null
      }
     },
     "29bd4730a1d448208866a9c44b21cb2f": {
      "model_module": "@jupyter-widgets/controls",
      "model_module_version": "1.5.0",
      "model_name": "DescriptionStyleModel",
      "state": {
       "_model_module": "@jupyter-widgets/controls",
       "_model_module_version": "1.5.0",
       "_model_name": "DescriptionStyleModel",
       "_view_count": null,
       "_view_module": "@jupyter-widgets/base",
       "_view_module_version": "1.2.0",
       "_view_name": "StyleView",
       "description_width": ""
      }
     },
     "2c5deff995e14bcca8474badc2501689": {
      "model_module": "@jupyter-widgets/base",
      "model_module_version": "1.2.0",
      "model_name": "LayoutModel",
      "state": {
       "_model_module": "@jupyter-widgets/base",
       "_model_module_version": "1.2.0",
       "_model_name": "LayoutModel",
       "_view_count": null,
       "_view_module": "@jupyter-widgets/base",
       "_view_module_version": "1.2.0",
       "_view_name": "LayoutView",
       "align_content": null,
       "align_items": null,
       "align_self": null,
       "border": null,
       "bottom": null,
       "display": null,
       "flex": null,
       "flex_flow": null,
       "grid_area": null,
       "grid_auto_columns": null,
       "grid_auto_flow": null,
       "grid_auto_rows": null,
       "grid_column": null,
       "grid_gap": null,
       "grid_row": null,
       "grid_template_areas": null,
       "grid_template_columns": null,
       "grid_template_rows": null,
       "height": null,
       "justify_content": null,
       "justify_items": null,
       "left": null,
       "margin": null,
       "max_height": null,
       "max_width": null,
       "min_height": null,
       "min_width": null,
       "object_fit": null,
       "object_position": null,
       "order": null,
       "overflow": null,
       "overflow_x": null,
       "overflow_y": null,
       "padding": null,
       "right": null,
       "top": null,
       "visibility": null,
       "width": null
      }
     },
     "2ce0ce70713a4602841b8c9f86752205": {
      "model_module": "@jupyter-widgets/controls",
      "model_module_version": "1.5.0",
      "model_name": "FloatProgressModel",
      "state": {
       "_dom_classes": [],
       "_model_module": "@jupyter-widgets/controls",
       "_model_module_version": "1.5.0",
       "_model_name": "FloatProgressModel",
       "_view_count": null,
       "_view_module": "@jupyter-widgets/controls",
       "_view_module_version": "1.5.0",
       "_view_name": "ProgressView",
       "bar_style": "success",
       "description": "",
       "description_tooltip": null,
       "layout": "IPY_MODEL_a66d088041ed478fa9adcf7b282ca74f",
       "max": 586.0,
       "min": 0.0,
       "orientation": "horizontal",
       "style": "IPY_MODEL_5a51c655d52d4409a766716e43ba6510",
       "value": 586.0
      }
     },
     "2e22e4db7f8f4213a07f1c9535662707": {
      "model_module": "@jupyter-widgets/controls",
      "model_module_version": "1.5.0",
      "model_name": "FloatProgressModel",
      "state": {
       "_dom_classes": [],
       "_model_module": "@jupyter-widgets/controls",
       "_model_module_version": "1.5.0",
       "_model_name": "FloatProgressModel",
       "_view_count": null,
       "_view_module": "@jupyter-widgets/controls",
       "_view_module_version": "1.5.0",
       "_view_name": "ProgressView",
       "bar_style": "success",
       "description": "",
       "description_tooltip": null,
       "layout": "IPY_MODEL_36e51dccab4f44e281338e1a2aa339be",
       "max": 285.0,
       "min": 0.0,
       "orientation": "horizontal",
       "style": "IPY_MODEL_4665859ac31b402ea95240d3361891e5",
       "value": 285.0
      }
     },
     "2e3dbba5de804107b9d328445360ec54": {
      "model_module": "@jupyter-widgets/controls",
      "model_module_version": "1.5.0",
      "model_name": "DescriptionStyleModel",
      "state": {
       "_model_module": "@jupyter-widgets/controls",
       "_model_module_version": "1.5.0",
       "_model_name": "DescriptionStyleModel",
       "_view_count": null,
       "_view_module": "@jupyter-widgets/base",
       "_view_module_version": "1.2.0",
       "_view_name": "StyleView",
       "description_width": ""
      }
     },
     "2fbdd21075324801bdf1cd00a09ba57f": {
      "model_module": "@jupyter-widgets/controls",
      "model_module_version": "1.5.0",
      "model_name": "HBoxModel",
      "state": {
       "_dom_classes": [],
       "_model_module": "@jupyter-widgets/controls",
       "_model_module_version": "1.5.0",
       "_model_name": "HBoxModel",
       "_view_count": null,
       "_view_module": "@jupyter-widgets/controls",
       "_view_module_version": "1.5.0",
       "_view_name": "HBoxView",
       "box_style": "",
       "children": [
        "IPY_MODEL_c460785ee04a4487839c93779c9d5af7",
        "IPY_MODEL_08e4a0f584ab441ebde8e62f4e69772e",
        "IPY_MODEL_ab3fa0404ddb4e30a56db5ede19449a3"
       ],
       "layout": "IPY_MODEL_8ae5c64f3eec4545985e4871f5068f2b"
      }
     },
     "3012b51056b741bc91db9fc62cd48843": {
      "model_module": "@jupyter-widgets/controls",
      "model_module_version": "1.5.0",
      "model_name": "ProgressStyleModel",
      "state": {
       "_model_module": "@jupyter-widgets/controls",
       "_model_module_version": "1.5.0",
       "_model_name": "ProgressStyleModel",
       "_view_count": null,
       "_view_module": "@jupyter-widgets/base",
       "_view_module_version": "1.2.0",
       "_view_name": "StyleView",
       "bar_color": null,
       "description_width": ""
      }
     },
     "3122d926bc1e4ed1888e2425a79989d4": {
      "model_module": "@jupyter-widgets/controls",
      "model_module_version": "1.5.0",
      "model_name": "DescriptionStyleModel",
      "state": {
       "_model_module": "@jupyter-widgets/controls",
       "_model_module_version": "1.5.0",
       "_model_name": "DescriptionStyleModel",
       "_view_count": null,
       "_view_module": "@jupyter-widgets/base",
       "_view_module_version": "1.2.0",
       "_view_name": "StyleView",
       "description_width": ""
      }
     },
     "32ec88cfc69a461a8310d8378b01b3c8": {
      "model_module": "@jupyter-widgets/base",
      "model_module_version": "1.2.0",
      "model_name": "LayoutModel",
      "state": {
       "_model_module": "@jupyter-widgets/base",
       "_model_module_version": "1.2.0",
       "_model_name": "LayoutModel",
       "_view_count": null,
       "_view_module": "@jupyter-widgets/base",
       "_view_module_version": "1.2.0",
       "_view_name": "LayoutView",
       "align_content": null,
       "align_items": null,
       "align_self": null,
       "border": null,
       "bottom": null,
       "display": null,
       "flex": null,
       "flex_flow": null,
       "grid_area": null,
       "grid_auto_columns": null,
       "grid_auto_flow": null,
       "grid_auto_rows": null,
       "grid_column": null,
       "grid_gap": null,
       "grid_row": null,
       "grid_template_areas": null,
       "grid_template_columns": null,
       "grid_template_rows": null,
       "height": null,
       "justify_content": null,
       "justify_items": null,
       "left": null,
       "margin": null,
       "max_height": null,
       "max_width": null,
       "min_height": null,
       "min_width": null,
       "object_fit": null,
       "object_position": null,
       "order": null,
       "overflow": null,
       "overflow_x": null,
       "overflow_y": null,
       "padding": null,
       "right": null,
       "top": null,
       "visibility": null,
       "width": null
      }
     },
     "335a897298b6432ba20664f187054e8d": {
      "model_module": "@jupyter-widgets/controls",
      "model_module_version": "1.5.0",
      "model_name": "FloatProgressModel",
      "state": {
       "_dom_classes": [],
       "_model_module": "@jupyter-widgets/controls",
       "_model_module_version": "1.5.0",
       "_model_name": "FloatProgressModel",
       "_view_count": null,
       "_view_module": "@jupyter-widgets/controls",
       "_view_module_version": "1.5.0",
       "_view_name": "ProgressView",
       "bar_style": "success",
       "description": "",
       "description_tooltip": null,
       "layout": "IPY_MODEL_3f9baac812854aadb286643b688db279",
       "max": 935.0,
       "min": 0.0,
       "orientation": "horizontal",
       "style": "IPY_MODEL_6b2632a872d24346ab8c3aace92d55e1",
       "value": 935.0
      }
     },
     "338d034250534ca5a4613186c42467a0": {
      "model_module": "@jupyter-widgets/controls",
      "model_module_version": "1.5.0",
      "model_name": "HTMLModel",
      "state": {
       "_dom_classes": [],
       "_model_module": "@jupyter-widgets/controls",
       "_model_module_version": "1.5.0",
       "_model_name": "HTMLModel",
       "_view_count": null,
       "_view_module": "@jupyter-widgets/controls",
       "_view_module_version": "1.5.0",
       "_view_name": "HTMLView",
       "description": "",
       "description_tooltip": null,
       "layout": "IPY_MODEL_73b91f0190aa4c7e99c72a55728a6bd7",
       "placeholder": "​",
       "style": "IPY_MODEL_2711f9562147434595c046580760a080",
       "value": "special_tokens_map.json: 100%"
      }
     },
     "34ce11e088cc4a7e8dc4ed7427de9c93": {
      "model_module": "@jupyter-widgets/controls",
      "model_module_version": "1.5.0",
      "model_name": "DescriptionStyleModel",
      "state": {
       "_model_module": "@jupyter-widgets/controls",
       "_model_module_version": "1.5.0",
       "_model_name": "DescriptionStyleModel",
       "_view_count": null,
       "_view_module": "@jupyter-widgets/base",
       "_view_module_version": "1.2.0",
       "_view_name": "StyleView",
       "description_width": ""
      }
     },
     "36be260c38fa4177baeaddafb82a1d62": {
      "model_module": "@jupyter-widgets/base",
      "model_module_version": "1.2.0",
      "model_name": "LayoutModel",
      "state": {
       "_model_module": "@jupyter-widgets/base",
       "_model_module_version": "1.2.0",
       "_model_name": "LayoutModel",
       "_view_count": null,
       "_view_module": "@jupyter-widgets/base",
       "_view_module_version": "1.2.0",
       "_view_name": "LayoutView",
       "align_content": null,
       "align_items": null,
       "align_self": null,
       "border": null,
       "bottom": null,
       "display": null,
       "flex": null,
       "flex_flow": null,
       "grid_area": null,
       "grid_auto_columns": null,
       "grid_auto_flow": null,
       "grid_auto_rows": null,
       "grid_column": null,
       "grid_gap": null,
       "grid_row": null,
       "grid_template_areas": null,
       "grid_template_columns": null,
       "grid_template_rows": null,
       "height": null,
       "justify_content": null,
       "justify_items": null,
       "left": null,
       "margin": null,
       "max_height": null,
       "max_width": null,
       "min_height": null,
       "min_width": null,
       "object_fit": null,
       "object_position": null,
       "order": null,
       "overflow": null,
       "overflow_x": null,
       "overflow_y": null,
       "padding": null,
       "right": null,
       "top": null,
       "visibility": null,
       "width": null
      }
     },
     "36e51dccab4f44e281338e1a2aa339be": {
      "model_module": "@jupyter-widgets/base",
      "model_module_version": "1.2.0",
      "model_name": "LayoutModel",
      "state": {
       "_model_module": "@jupyter-widgets/base",
       "_model_module_version": "1.2.0",
       "_model_name": "LayoutModel",
       "_view_count": null,
       "_view_module": "@jupyter-widgets/base",
       "_view_module_version": "1.2.0",
       "_view_name": "LayoutView",
       "align_content": null,
       "align_items": null,
       "align_self": null,
       "border": null,
       "bottom": null,
       "display": null,
       "flex": null,
       "flex_flow": null,
       "grid_area": null,
       "grid_auto_columns": null,
       "grid_auto_flow": null,
       "grid_auto_rows": null,
       "grid_column": null,
       "grid_gap": null,
       "grid_row": null,
       "grid_template_areas": null,
       "grid_template_columns": null,
       "grid_template_rows": null,
       "height": null,
       "justify_content": null,
       "justify_items": null,
       "left": null,
       "margin": null,
       "max_height": null,
       "max_width": null,
       "min_height": null,
       "min_width": null,
       "object_fit": null,
       "object_position": null,
       "order": null,
       "overflow": null,
       "overflow_x": null,
       "overflow_y": null,
       "padding": null,
       "right": null,
       "top": null,
       "visibility": null,
       "width": null
      }
     },
     "371460e773a74305b17e015eb1a19477": {
      "model_module": "@jupyter-widgets/controls",
      "model_module_version": "1.5.0",
      "model_name": "HTMLModel",
      "state": {
       "_dom_classes": [],
       "_model_module": "@jupyter-widgets/controls",
       "_model_module_version": "1.5.0",
       "_model_name": "HTMLModel",
       "_view_count": null,
       "_view_module": "@jupyter-widgets/controls",
       "_view_module_version": "1.5.0",
       "_view_name": "HTMLView",
       "description": "",
       "description_tooltip": null,
       "layout": "IPY_MODEL_005b059ab6674c82b625303bdfafd8e9",
       "placeholder": "​",
       "style": "IPY_MODEL_3b1be73bf03f4d09b1bde39216f3a5ac",
       "value": " 100/100 [00:01&lt;00:00, 64.18it/s]"
      }
     },
     "3719ad21557342a9be80b4ddf72b6670": {
      "model_module": "@jupyter-widgets/controls",
      "model_module_version": "1.5.0",
      "model_name": "ProgressStyleModel",
      "state": {
       "_model_module": "@jupyter-widgets/controls",
       "_model_module_version": "1.5.0",
       "_model_name": "ProgressStyleModel",
       "_view_count": null,
       "_view_module": "@jupyter-widgets/base",
       "_view_module_version": "1.2.0",
       "_view_name": "StyleView",
       "bar_color": null,
       "description_width": ""
      }
     },
     "3854b189dc9848a6b7086fe7c70ee288": {
      "model_module": "@jupyter-widgets/base",
      "model_module_version": "1.2.0",
      "model_name": "LayoutModel",
      "state": {
       "_model_module": "@jupyter-widgets/base",
       "_model_module_version": "1.2.0",
       "_model_name": "LayoutModel",
       "_view_count": null,
       "_view_module": "@jupyter-widgets/base",
       "_view_module_version": "1.2.0",
       "_view_name": "LayoutView",
       "align_content": null,
       "align_items": null,
       "align_self": null,
       "border": null,
       "bottom": null,
       "display": null,
       "flex": null,
       "flex_flow": null,
       "grid_area": null,
       "grid_auto_columns": null,
       "grid_auto_flow": null,
       "grid_auto_rows": null,
       "grid_column": null,
       "grid_gap": null,
       "grid_row": null,
       "grid_template_areas": null,
       "grid_template_columns": null,
       "grid_template_rows": null,
       "height": null,
       "justify_content": null,
       "justify_items": null,
       "left": null,
       "margin": null,
       "max_height": null,
       "max_width": null,
       "min_height": null,
       "min_width": null,
       "object_fit": null,
       "object_position": null,
       "order": null,
       "overflow": null,
       "overflow_x": null,
       "overflow_y": null,
       "padding": null,
       "right": null,
       "top": null,
       "visibility": null,
       "width": null
      }
     },
     "3922fd9cf6ca4c42810c46c047a442d2": {
      "model_module": "@jupyter-widgets/base",
      "model_module_version": "1.2.0",
      "model_name": "LayoutModel",
      "state": {
       "_model_module": "@jupyter-widgets/base",
       "_model_module_version": "1.2.0",
       "_model_name": "LayoutModel",
       "_view_count": null,
       "_view_module": "@jupyter-widgets/base",
       "_view_module_version": "1.2.0",
       "_view_name": "LayoutView",
       "align_content": null,
       "align_items": null,
       "align_self": null,
       "border": null,
       "bottom": null,
       "display": null,
       "flex": null,
       "flex_flow": null,
       "grid_area": null,
       "grid_auto_columns": null,
       "grid_auto_flow": null,
       "grid_auto_rows": null,
       "grid_column": null,
       "grid_gap": null,
       "grid_row": null,
       "grid_template_areas": null,
       "grid_template_columns": null,
       "grid_template_rows": null,
       "height": null,
       "justify_content": null,
       "justify_items": null,
       "left": null,
       "margin": null,
       "max_height": null,
       "max_width": null,
       "min_height": null,
       "min_width": null,
       "object_fit": null,
       "object_position": null,
       "order": null,
       "overflow": null,
       "overflow_x": null,
       "overflow_y": null,
       "padding": null,
       "right": null,
       "top": null,
       "visibility": null,
       "width": null
      }
     },
     "39aa104dea8441c88f59b6672f649fbf": {
      "model_module": "@jupyter-widgets/base",
      "model_module_version": "1.2.0",
      "model_name": "LayoutModel",
      "state": {
       "_model_module": "@jupyter-widgets/base",
       "_model_module_version": "1.2.0",
       "_model_name": "LayoutModel",
       "_view_count": null,
       "_view_module": "@jupyter-widgets/base",
       "_view_module_version": "1.2.0",
       "_view_name": "LayoutView",
       "align_content": null,
       "align_items": null,
       "align_self": null,
       "border": null,
       "bottom": null,
       "display": null,
       "flex": null,
       "flex_flow": null,
       "grid_area": null,
       "grid_auto_columns": null,
       "grid_auto_flow": null,
       "grid_auto_rows": null,
       "grid_column": null,
       "grid_gap": null,
       "grid_row": null,
       "grid_template_areas": null,
       "grid_template_columns": null,
       "grid_template_rows": null,
       "height": null,
       "justify_content": null,
       "justify_items": null,
       "left": null,
       "margin": null,
       "max_height": null,
       "max_width": null,
       "min_height": null,
       "min_width": null,
       "object_fit": null,
       "object_position": null,
       "order": null,
       "overflow": null,
       "overflow_x": null,
       "overflow_y": null,
       "padding": null,
       "right": null,
       "top": null,
       "visibility": null,
       "width": null
      }
     },
     "3ad3281175da48a7adb72428f9894d80": {
      "model_module": "@jupyter-widgets/controls",
      "model_module_version": "1.5.0",
      "model_name": "FloatProgressModel",
      "state": {
       "_dom_classes": [],
       "_model_module": "@jupyter-widgets/controls",
       "_model_module_version": "1.5.0",
       "_model_name": "FloatProgressModel",
       "_view_count": null,
       "_view_module": "@jupyter-widgets/controls",
       "_view_module_version": "1.5.0",
       "_view_name": "ProgressView",
       "bar_style": "success",
       "description": "",
       "description_tooltip": null,
       "layout": "IPY_MODEL_ea6ad900f8ed49a982e8eaa7692ce633",
       "max": 112.0,
       "min": 0.0,
       "orientation": "horizontal",
       "style": "IPY_MODEL_bbfe3c8000424974b151feee3e39cfb4",
       "value": 112.0
      }
     },
     "3b1be73bf03f4d09b1bde39216f3a5ac": {
      "model_module": "@jupyter-widgets/controls",
      "model_module_version": "1.5.0",
      "model_name": "DescriptionStyleModel",
      "state": {
       "_model_module": "@jupyter-widgets/controls",
       "_model_module_version": "1.5.0",
       "_model_name": "DescriptionStyleModel",
       "_view_count": null,
       "_view_module": "@jupyter-widgets/base",
       "_view_module_version": "1.2.0",
       "_view_name": "StyleView",
       "description_width": ""
      }
     },
     "3d5c8edcdfb447f5b9ceffa360e136d9": {
      "model_module": "@jupyter-widgets/controls",
      "model_module_version": "1.5.0",
      "model_name": "DescriptionStyleModel",
      "state": {
       "_model_module": "@jupyter-widgets/controls",
       "_model_module_version": "1.5.0",
       "_model_name": "DescriptionStyleModel",
       "_view_count": null,
       "_view_module": "@jupyter-widgets/base",
       "_view_module_version": "1.2.0",
       "_view_name": "StyleView",
       "description_width": ""
      }
     },
     "3d675b9d871149949a733627d3c15bd8": {
      "model_module": "@jupyter-widgets/controls",
      "model_module_version": "1.5.0",
      "model_name": "HTMLModel",
      "state": {
       "_dom_classes": [],
       "_model_module": "@jupyter-widgets/controls",
       "_model_module_version": "1.5.0",
       "_model_name": "HTMLModel",
       "_view_count": null,
       "_view_module": "@jupyter-widgets/controls",
       "_view_module_version": "1.5.0",
       "_view_name": "HTMLView",
       "description": "",
       "description_tooltip": null,
       "layout": "IPY_MODEL_0175a34c2a494a3da44765ab64008081",
       "placeholder": "​",
       "style": "IPY_MODEL_5c51cd49e65f4dd3b4dcde169ea10d30",
       "value": " 899k/899k [00:00&lt;00:00, 10.3MB/s]"
      }
     },
     "3e49ff1e4dac4e29921e3a567bfbb3d4": {
      "model_module": "@jupyter-widgets/controls",
      "model_module_version": "1.5.0",
      "model_name": "HTMLModel",
      "state": {
       "_dom_classes": [],
       "_model_module": "@jupyter-widgets/controls",
       "_model_module_version": "1.5.0",
       "_model_name": "HTMLModel",
       "_view_count": null,
       "_view_module": "@jupyter-widgets/controls",
       "_view_module_version": "1.5.0",
       "_view_name": "HTMLView",
       "description": "",
       "description_tooltip": null,
       "layout": "IPY_MODEL_89aa5299ee4f48ab8693bacb42e0e3ba",
       "placeholder": "​",
       "style": "IPY_MODEL_29bd4730a1d448208866a9c44b21cb2f",
       "value": "100%"
      }
     },
     "3f9baac812854aadb286643b688db279": {
      "model_module": "@jupyter-widgets/base",
      "model_module_version": "1.2.0",
      "model_name": "LayoutModel",
      "state": {
       "_model_module": "@jupyter-widgets/base",
       "_model_module_version": "1.2.0",
       "_model_name": "LayoutModel",
       "_view_count": null,
       "_view_module": "@jupyter-widgets/base",
       "_view_module_version": "1.2.0",
       "_view_name": "LayoutView",
       "align_content": null,
       "align_items": null,
       "align_self": null,
       "border": null,
       "bottom": null,
       "display": null,
       "flex": null,
       "flex_flow": null,
       "grid_area": null,
       "grid_auto_columns": null,
       "grid_auto_flow": null,
       "grid_auto_rows": null,
       "grid_column": null,
       "grid_gap": null,
       "grid_row": null,
       "grid_template_areas": null,
       "grid_template_columns": null,
       "grid_template_rows": null,
       "height": null,
       "justify_content": null,
       "justify_items": null,
       "left": null,
       "margin": null,
       "max_height": null,
       "max_width": null,
       "min_height": null,
       "min_width": null,
       "object_fit": null,
       "object_position": null,
       "order": null,
       "overflow": null,
       "overflow_x": null,
       "overflow_y": null,
       "padding": null,
       "right": null,
       "top": null,
       "visibility": null,
       "width": null
      }
     },
     "403efe63cf6542c2b211418016302bf0": {
      "model_module": "@jupyter-widgets/base",
      "model_module_version": "1.2.0",
      "model_name": "LayoutModel",
      "state": {
       "_model_module": "@jupyter-widgets/base",
       "_model_module_version": "1.2.0",
       "_model_name": "LayoutModel",
       "_view_count": null,
       "_view_module": "@jupyter-widgets/base",
       "_view_module_version": "1.2.0",
       "_view_name": "LayoutView",
       "align_content": null,
       "align_items": null,
       "align_self": null,
       "border": null,
       "bottom": null,
       "display": null,
       "flex": null,
       "flex_flow": null,
       "grid_area": null,
       "grid_auto_columns": null,
       "grid_auto_flow": null,
       "grid_auto_rows": null,
       "grid_column": null,
       "grid_gap": null,
       "grid_row": null,
       "grid_template_areas": null,
       "grid_template_columns": null,
       "grid_template_rows": null,
       "height": null,
       "justify_content": null,
       "justify_items": null,
       "left": null,
       "margin": null,
       "max_height": null,
       "max_width": null,
       "min_height": null,
       "min_width": null,
       "object_fit": null,
       "object_position": null,
       "order": null,
       "overflow": null,
       "overflow_x": null,
       "overflow_y": null,
       "padding": null,
       "right": null,
       "top": null,
       "visibility": null,
       "width": null
      }
     },
     "407c0ef98fe14cfa86eb0a6ccfb9bec6": {
      "model_module": "@jupyter-widgets/controls",
      "model_module_version": "1.5.0",
      "model_name": "ProgressStyleModel",
      "state": {
       "_model_module": "@jupyter-widgets/controls",
       "_model_module_version": "1.5.0",
       "_model_name": "ProgressStyleModel",
       "_view_count": null,
       "_view_module": "@jupyter-widgets/base",
       "_view_module_version": "1.2.0",
       "_view_name": "StyleView",
       "bar_color": null,
       "description_width": ""
      }
     },
     "41ba02a002954d8ea22c91a621ffb257": {
      "model_module": "@jupyter-widgets/controls",
      "model_module_version": "1.5.0",
      "model_name": "ProgressStyleModel",
      "state": {
       "_model_module": "@jupyter-widgets/controls",
       "_model_module_version": "1.5.0",
       "_model_name": "ProgressStyleModel",
       "_view_count": null,
       "_view_module": "@jupyter-widgets/base",
       "_view_module_version": "1.2.0",
       "_view_name": "StyleView",
       "bar_color": null,
       "description_width": ""
      }
     },
     "433fd64a8fac486788aa7358cb8c00a8": {
      "model_module": "@jupyter-widgets/controls",
      "model_module_version": "1.5.0",
      "model_name": "HTMLModel",
      "state": {
       "_dom_classes": [],
       "_model_module": "@jupyter-widgets/controls",
       "_model_module_version": "1.5.0",
       "_model_name": "HTMLModel",
       "_view_count": null,
       "_view_module": "@jupyter-widgets/controls",
       "_view_module_version": "1.5.0",
       "_view_name": "HTMLView",
       "description": "",
       "description_tooltip": null,
       "layout": "IPY_MODEL_3854b189dc9848a6b7086fe7c70ee288",
       "placeholder": "​",
       "style": "IPY_MODEL_be3f658e41ed4c33a7bb817db570a8bd",
       "value": "config.json: 100%"
      }
     },
     "441cd5c1168746cb96e1cfaceae6c395": {
      "model_module": "@jupyter-widgets/controls",
      "model_module_version": "1.5.0",
      "model_name": "DescriptionStyleModel",
      "state": {
       "_model_module": "@jupyter-widgets/controls",
       "_model_module_version": "1.5.0",
       "_model_name": "DescriptionStyleModel",
       "_view_count": null,
       "_view_module": "@jupyter-widgets/base",
       "_view_module_version": "1.2.0",
       "_view_name": "StyleView",
       "description_width": ""
      }
     },
     "4665859ac31b402ea95240d3361891e5": {
      "model_module": "@jupyter-widgets/controls",
      "model_module_version": "1.5.0",
      "model_name": "ProgressStyleModel",
      "state": {
       "_model_module": "@jupyter-widgets/controls",
       "_model_module_version": "1.5.0",
       "_model_name": "ProgressStyleModel",
       "_view_count": null,
       "_view_module": "@jupyter-widgets/base",
       "_view_module_version": "1.2.0",
       "_view_name": "StyleView",
       "bar_color": null,
       "description_width": ""
      }
     },
     "47d94ef44bca4d349ff7404caac1ea52": {
      "model_module": "@jupyter-widgets/controls",
      "model_module_version": "1.5.0",
      "model_name": "HTMLModel",
      "state": {
       "_dom_classes": [],
       "_model_module": "@jupyter-widgets/controls",
       "_model_module_version": "1.5.0",
       "_model_name": "HTMLModel",
       "_view_count": null,
       "_view_module": "@jupyter-widgets/controls",
       "_view_module_version": "1.5.0",
       "_view_name": "HTMLView",
       "description": "",
       "description_tooltip": null,
       "layout": "IPY_MODEL_cb743e6a79f5413b8eb330cf1201c254",
       "placeholder": "​",
       "style": "IPY_MODEL_8b424c3a032d4e068b2c3b00f5aa3a85",
       "value": " 456k/456k [00:00&lt;00:00, 30.9MB/s]"
      }
     },
     "4ad862902a60417dbf517ee20a8ba757": {
      "model_module": "@jupyter-widgets/controls",
      "model_module_version": "1.5.0",
      "model_name": "DescriptionStyleModel",
      "state": {
       "_model_module": "@jupyter-widgets/controls",
       "_model_module_version": "1.5.0",
       "_model_name": "DescriptionStyleModel",
       "_view_count": null,
       "_view_module": "@jupyter-widgets/base",
       "_view_module_version": "1.2.0",
       "_view_name": "StyleView",
       "description_width": ""
      }
     },
     "4b01346915444bc6b586426099480b4b": {
      "model_module": "@jupyter-widgets/base",
      "model_module_version": "1.2.0",
      "model_name": "LayoutModel",
      "state": {
       "_model_module": "@jupyter-widgets/base",
       "_model_module_version": "1.2.0",
       "_model_name": "LayoutModel",
       "_view_count": null,
       "_view_module": "@jupyter-widgets/base",
       "_view_module_version": "1.2.0",
       "_view_name": "LayoutView",
       "align_content": null,
       "align_items": null,
       "align_self": null,
       "border": null,
       "bottom": null,
       "display": null,
       "flex": null,
       "flex_flow": null,
       "grid_area": null,
       "grid_auto_columns": null,
       "grid_auto_flow": null,
       "grid_auto_rows": null,
       "grid_column": null,
       "grid_gap": null,
       "grid_row": null,
       "grid_template_areas": null,
       "grid_template_columns": null,
       "grid_template_rows": null,
       "height": null,
       "justify_content": null,
       "justify_items": null,
       "left": null,
       "margin": null,
       "max_height": null,
       "max_width": null,
       "min_height": null,
       "min_width": null,
       "object_fit": null,
       "object_position": null,
       "order": null,
       "overflow": null,
       "overflow_x": null,
       "overflow_y": null,
       "padding": null,
       "right": null,
       "top": null,
       "visibility": null,
       "width": null
      }
     },
     "4cb1a3d31d4442659ad39b8ae184cb29": {
      "model_module": "@jupyter-widgets/controls",
      "model_module_version": "1.5.0",
      "model_name": "HTMLModel",
      "state": {
       "_dom_classes": [],
       "_model_module": "@jupyter-widgets/controls",
       "_model_module_version": "1.5.0",
       "_model_name": "HTMLModel",
       "_view_count": null,
       "_view_module": "@jupyter-widgets/controls",
       "_view_module_version": "1.5.0",
       "_view_name": "HTMLView",
       "description": "",
       "description_tooltip": null,
       "layout": "IPY_MODEL_d6589b09352b4341bdd2a76e1d2dcfef",
       "placeholder": "​",
       "style": "IPY_MODEL_3d5c8edcdfb447f5b9ceffa360e136d9",
       "value": " 1.15k/1.15k [00:00&lt;00:00, 97.1kB/s]"
      }
     },
     "4d414d88aebf4e6a8d7da394184b7cfb": {
      "model_module": "@jupyter-widgets/controls",
      "model_module_version": "1.5.0",
      "model_name": "HTMLModel",
      "state": {
       "_dom_classes": [],
       "_model_module": "@jupyter-widgets/controls",
       "_model_module_version": "1.5.0",
       "_model_name": "HTMLModel",
       "_view_count": null,
       "_view_module": "@jupyter-widgets/controls",
       "_view_module_version": "1.5.0",
       "_view_name": "HTMLView",
       "description": "",
       "description_tooltip": null,
       "layout": "IPY_MODEL_fbbe6e89bdf54e7998d5c0dc06dad49f",
       "placeholder": "​",
       "style": "IPY_MODEL_98ee1892ee6b42f0a24ca732166f3509",
       "value": "vocab.json: 100%"
      }
     },
     "4e448882ac6c4d249d469ced24cd8efe": {
      "model_module": "@jupyter-widgets/controls",
      "model_module_version": "1.5.0",
      "model_name": "DescriptionStyleModel",
      "state": {
       "_model_module": "@jupyter-widgets/controls",
       "_model_module_version": "1.5.0",
       "_model_name": "DescriptionStyleModel",
       "_view_count": null,
       "_view_module": "@jupyter-widgets/base",
       "_view_module_version": "1.2.0",
       "_view_name": "StyleView",
       "description_width": ""
      }
     },
     "4ee7baf8ab32408dbe09208962c569c1": {
      "model_module": "@jupyter-widgets/base",
      "model_module_version": "1.2.0",
      "model_name": "LayoutModel",
      "state": {
       "_model_module": "@jupyter-widgets/base",
       "_model_module_version": "1.2.0",
       "_model_name": "LayoutModel",
       "_view_count": null,
       "_view_module": "@jupyter-widgets/base",
       "_view_module_version": "1.2.0",
       "_view_name": "LayoutView",
       "align_content": null,
       "align_items": null,
       "align_self": null,
       "border": null,
       "bottom": null,
       "display": null,
       "flex": null,
       "flex_flow": null,
       "grid_area": null,
       "grid_auto_columns": null,
       "grid_auto_flow": null,
       "grid_auto_rows": null,
       "grid_column": null,
       "grid_gap": null,
       "grid_row": null,
       "grid_template_areas": null,
       "grid_template_columns": null,
       "grid_template_rows": null,
       "height": null,
       "justify_content": null,
       "justify_items": null,
       "left": null,
       "margin": null,
       "max_height": null,
       "max_width": null,
       "min_height": null,
       "min_width": null,
       "object_fit": null,
       "object_position": null,
       "order": null,
       "overflow": null,
       "overflow_x": null,
       "overflow_y": null,
       "padding": null,
       "right": null,
       "top": null,
       "visibility": null,
       "width": null
      }
     },
     "524794f2b5d94fbe8b49a617541d15ee": {
      "model_module": "@jupyter-widgets/controls",
      "model_module_version": "1.5.0",
      "model_name": "HTMLModel",
      "state": {
       "_dom_classes": [],
       "_model_module": "@jupyter-widgets/controls",
       "_model_module_version": "1.5.0",
       "_model_name": "HTMLModel",
       "_view_count": null,
       "_view_module": "@jupyter-widgets/controls",
       "_view_module_version": "1.5.0",
       "_view_name": "HTMLView",
       "description": "",
       "description_tooltip": null,
       "layout": "IPY_MODEL_4b01346915444bc6b586426099480b4b",
       "placeholder": "​",
       "style": "IPY_MODEL_34ce11e088cc4a7e8dc4ed7427de9c93",
       "value": "merges.txt: 100%"
      }
     },
     "536a97e69ae943c699177492f37e6714": {
      "model_module": "@jupyter-widgets/controls",
      "model_module_version": "1.5.0",
      "model_name": "HTMLModel",
      "state": {
       "_dom_classes": [],
       "_model_module": "@jupyter-widgets/controls",
       "_model_module_version": "1.5.0",
       "_model_name": "HTMLModel",
       "_view_count": null,
       "_view_module": "@jupyter-widgets/controls",
       "_view_module_version": "1.5.0",
       "_view_name": "HTMLView",
       "description": "",
       "description_tooltip": null,
       "layout": "IPY_MODEL_e051003162d444f08cc7953e32be59af",
       "placeholder": "​",
       "style": "IPY_MODEL_7d5e4a5a0cb24cefa16ca35139c786f1",
       "value": " 26.0/26.0 [00:00&lt;00:00, 2.19kB/s]"
      }
     },
     "53f66748cc7f48d08a7257fd70f43c1c": {
      "model_module": "@jupyter-widgets/base",
      "model_module_version": "1.2.0",
      "model_name": "LayoutModel",
      "state": {
       "_model_module": "@jupyter-widgets/base",
       "_model_module_version": "1.2.0",
       "_model_name": "LayoutModel",
       "_view_count": null,
       "_view_module": "@jupyter-widgets/base",
       "_view_module_version": "1.2.0",
       "_view_name": "LayoutView",
       "align_content": null,
       "align_items": null,
       "align_self": null,
       "border": null,
       "bottom": null,
       "display": null,
       "flex": null,
       "flex_flow": null,
       "grid_area": null,
       "grid_auto_columns": null,
       "grid_auto_flow": null,
       "grid_auto_rows": null,
       "grid_column": null,
       "grid_gap": null,
       "grid_row": null,
       "grid_template_areas": null,
       "grid_template_columns": null,
       "grid_template_rows": null,
       "height": null,
       "justify_content": null,
       "justify_items": null,
       "left": null,
       "margin": null,
       "max_height": null,
       "max_width": null,
       "min_height": null,
       "min_width": null,
       "object_fit": null,
       "object_position": null,
       "order": null,
       "overflow": null,
       "overflow_x": null,
       "overflow_y": null,
       "padding": null,
       "right": null,
       "top": null,
       "visibility": null,
       "width": null
      }
     },
     "54e96be40324403a92d75b4980c23e98": {
      "model_module": "@jupyter-widgets/controls",
      "model_module_version": "1.5.0",
      "model_name": "HBoxModel",
      "state": {
       "_dom_classes": [],
       "_model_module": "@jupyter-widgets/controls",
       "_model_module_version": "1.5.0",
       "_model_name": "HBoxModel",
       "_view_count": null,
       "_view_module": "@jupyter-widgets/controls",
       "_view_module_version": "1.5.0",
       "_view_name": "HBoxView",
       "box_style": "",
       "children": [
        "IPY_MODEL_cbe54fb6c036446fb661b37db99067f1",
        "IPY_MODEL_2ce0ce70713a4602841b8c9f86752205",
        "IPY_MODEL_028b2612a9fe4ababe74461b8ea9c886"
       ],
       "layout": "IPY_MODEL_36be260c38fa4177baeaddafb82a1d62"
      }
     },
     "557ff6af719e4258ac45cb479d0cf342": {
      "model_module": "@jupyter-widgets/controls",
      "model_module_version": "1.5.0",
      "model_name": "DescriptionStyleModel",
      "state": {
       "_model_module": "@jupyter-widgets/controls",
       "_model_module_version": "1.5.0",
       "_model_name": "DescriptionStyleModel",
       "_view_count": null,
       "_view_module": "@jupyter-widgets/base",
       "_view_module_version": "1.2.0",
       "_view_name": "StyleView",
       "description_width": ""
      }
     },
     "558fd5f86620434ea311bde5b97c5bb5": {
      "model_module": "@jupyter-widgets/base",
      "model_module_version": "1.2.0",
      "model_name": "LayoutModel",
      "state": {
       "_model_module": "@jupyter-widgets/base",
       "_model_module_version": "1.2.0",
       "_model_name": "LayoutModel",
       "_view_count": null,
       "_view_module": "@jupyter-widgets/base",
       "_view_module_version": "1.2.0",
       "_view_name": "LayoutView",
       "align_content": null,
       "align_items": null,
       "align_self": null,
       "border": null,
       "bottom": null,
       "display": null,
       "flex": null,
       "flex_flow": null,
       "grid_area": null,
       "grid_auto_columns": null,
       "grid_auto_flow": null,
       "grid_auto_rows": null,
       "grid_column": null,
       "grid_gap": null,
       "grid_row": null,
       "grid_template_areas": null,
       "grid_template_columns": null,
       "grid_template_rows": null,
       "height": null,
       "justify_content": null,
       "justify_items": null,
       "left": null,
       "margin": null,
       "max_height": null,
       "max_width": null,
       "min_height": null,
       "min_width": null,
       "object_fit": null,
       "object_position": null,
       "order": null,
       "overflow": null,
       "overflow_x": null,
       "overflow_y": null,
       "padding": null,
       "right": null,
       "top": null,
       "visibility": null,
       "width": null
      }
     },
     "5597e3f40b454790a955fe2dabec0c40": {
      "model_module": "@jupyter-widgets/controls",
      "model_module_version": "1.5.0",
      "model_name": "DescriptionStyleModel",
      "state": {
       "_model_module": "@jupyter-widgets/controls",
       "_model_module_version": "1.5.0",
       "_model_name": "DescriptionStyleModel",
       "_view_count": null,
       "_view_module": "@jupyter-widgets/base",
       "_view_module_version": "1.2.0",
       "_view_name": "StyleView",
       "description_width": ""
      }
     },
     "585d5292b2fb4d1a93b6dc7853b31698": {
      "model_module": "@jupyter-widgets/base",
      "model_module_version": "1.2.0",
      "model_name": "LayoutModel",
      "state": {
       "_model_module": "@jupyter-widgets/base",
       "_model_module_version": "1.2.0",
       "_model_name": "LayoutModel",
       "_view_count": null,
       "_view_module": "@jupyter-widgets/base",
       "_view_module_version": "1.2.0",
       "_view_name": "LayoutView",
       "align_content": null,
       "align_items": null,
       "align_self": null,
       "border": null,
       "bottom": null,
       "display": null,
       "flex": null,
       "flex_flow": null,
       "grid_area": null,
       "grid_auto_columns": null,
       "grid_auto_flow": null,
       "grid_auto_rows": null,
       "grid_column": null,
       "grid_gap": null,
       "grid_row": null,
       "grid_template_areas": null,
       "grid_template_columns": null,
       "grid_template_rows": null,
       "height": null,
       "justify_content": null,
       "justify_items": null,
       "left": null,
       "margin": null,
       "max_height": null,
       "max_width": null,
       "min_height": null,
       "min_width": null,
       "object_fit": null,
       "object_position": null,
       "order": null,
       "overflow": null,
       "overflow_x": null,
       "overflow_y": null,
       "padding": null,
       "right": null,
       "top": null,
       "visibility": null,
       "width": null
      }
     },
     "59d81e6e2814406680530c4e0e95be0d": {
      "model_module": "@jupyter-widgets/controls",
      "model_module_version": "1.5.0",
      "model_name": "ProgressStyleModel",
      "state": {
       "_model_module": "@jupyter-widgets/controls",
       "_model_module_version": "1.5.0",
       "_model_name": "ProgressStyleModel",
       "_view_count": null,
       "_view_module": "@jupyter-widgets/base",
       "_view_module_version": "1.2.0",
       "_view_name": "StyleView",
       "bar_color": null,
       "description_width": ""
      }
     },
     "5a51c655d52d4409a766716e43ba6510": {
      "model_module": "@jupyter-widgets/controls",
      "model_module_version": "1.5.0",
      "model_name": "ProgressStyleModel",
      "state": {
       "_model_module": "@jupyter-widgets/controls",
       "_model_module_version": "1.5.0",
       "_model_name": "ProgressStyleModel",
       "_view_count": null,
       "_view_module": "@jupyter-widgets/base",
       "_view_module_version": "1.2.0",
       "_view_name": "StyleView",
       "bar_color": null,
       "description_width": ""
      }
     },
     "5b5cae81cb9f42eb847d40fc5e26195b": {
      "model_module": "@jupyter-widgets/controls",
      "model_module_version": "1.5.0",
      "model_name": "DescriptionStyleModel",
      "state": {
       "_model_module": "@jupyter-widgets/controls",
       "_model_module_version": "1.5.0",
       "_model_name": "DescriptionStyleModel",
       "_view_count": null,
       "_view_module": "@jupyter-widgets/base",
       "_view_module_version": "1.2.0",
       "_view_name": "StyleView",
       "description_width": ""
      }
     },
     "5c2c8188e5dc493aa7b091d9b8c16795": {
      "model_module": "@jupyter-widgets/controls",
      "model_module_version": "1.5.0",
      "model_name": "DescriptionStyleModel",
      "state": {
       "_model_module": "@jupyter-widgets/controls",
       "_model_module_version": "1.5.0",
       "_model_name": "DescriptionStyleModel",
       "_view_count": null,
       "_view_module": "@jupyter-widgets/base",
       "_view_module_version": "1.2.0",
       "_view_name": "StyleView",
       "description_width": ""
      }
     },
     "5c51cd49e65f4dd3b4dcde169ea10d30": {
      "model_module": "@jupyter-widgets/controls",
      "model_module_version": "1.5.0",
      "model_name": "DescriptionStyleModel",
      "state": {
       "_model_module": "@jupyter-widgets/controls",
       "_model_module_version": "1.5.0",
       "_model_name": "DescriptionStyleModel",
       "_view_count": null,
       "_view_module": "@jupyter-widgets/base",
       "_view_module_version": "1.2.0",
       "_view_name": "StyleView",
       "description_width": ""
      }
     },
     "5c9cf5a9eecd4c97a19c909de1ea7327": {
      "model_module": "@jupyter-widgets/base",
      "model_module_version": "1.2.0",
      "model_name": "LayoutModel",
      "state": {
       "_model_module": "@jupyter-widgets/base",
       "_model_module_version": "1.2.0",
       "_model_name": "LayoutModel",
       "_view_count": null,
       "_view_module": "@jupyter-widgets/base",
       "_view_module_version": "1.2.0",
       "_view_name": "LayoutView",
       "align_content": null,
       "align_items": null,
       "align_self": null,
       "border": null,
       "bottom": null,
       "display": null,
       "flex": null,
       "flex_flow": null,
       "grid_area": null,
       "grid_auto_columns": null,
       "grid_auto_flow": null,
       "grid_auto_rows": null,
       "grid_column": null,
       "grid_gap": null,
       "grid_row": null,
       "grid_template_areas": null,
       "grid_template_columns": null,
       "grid_template_rows": null,
       "height": null,
       "justify_content": null,
       "justify_items": null,
       "left": null,
       "margin": null,
       "max_height": null,
       "max_width": null,
       "min_height": null,
       "min_width": null,
       "object_fit": null,
       "object_position": null,
       "order": null,
       "overflow": null,
       "overflow_x": null,
       "overflow_y": null,
       "padding": null,
       "right": null,
       "top": null,
       "visibility": null,
       "width": null
      }
     },
     "5cb3582a5dcd4d9ab61f2fe846ef3c0e": {
      "model_module": "@jupyter-widgets/controls",
      "model_module_version": "1.5.0",
      "model_name": "DescriptionStyleModel",
      "state": {
       "_model_module": "@jupyter-widgets/controls",
       "_model_module_version": "1.5.0",
       "_model_name": "DescriptionStyleModel",
       "_view_count": null,
       "_view_module": "@jupyter-widgets/base",
       "_view_module_version": "1.2.0",
       "_view_name": "StyleView",
       "description_width": ""
      }
     },
     "5cdd8d8d8c884d3fb5d9bd3c9ef263f4": {
      "model_module": "@jupyter-widgets/controls",
      "model_module_version": "1.5.0",
      "model_name": "HTMLModel",
      "state": {
       "_dom_classes": [],
       "_model_module": "@jupyter-widgets/controls",
       "_model_module_version": "1.5.0",
       "_model_name": "HTMLModel",
       "_view_count": null,
       "_view_module": "@jupyter-widgets/controls",
       "_view_module_version": "1.5.0",
       "_view_name": "HTMLView",
       "description": "",
       "description_tooltip": null,
       "layout": "IPY_MODEL_39aa104dea8441c88f59b6672f649fbf",
       "placeholder": "​",
       "style": "IPY_MODEL_5597e3f40b454790a955fe2dabec0c40",
       "value": "vocab.txt: 100%"
      }
     },
     "5d4030ff844c41b480a0f688e0cd9d00": {
      "model_module": "@jupyter-widgets/controls",
      "model_module_version": "1.5.0",
      "model_name": "FloatProgressModel",
      "state": {
       "_dom_classes": [],
       "_model_module": "@jupyter-widgets/controls",
       "_model_module_version": "1.5.0",
       "_model_name": "FloatProgressModel",
       "_view_count": null,
       "_view_module": "@jupyter-widgets/controls",
       "_view_module_version": "1.5.0",
       "_view_name": "ProgressView",
       "bar_style": "success",
       "description": "",
       "description_tooltip": null,
       "layout": "IPY_MODEL_b485799b9d50425e9c51f76260cb5c00",
       "max": 528316.0,
       "min": 0.0,
       "orientation": "horizontal",
       "style": "IPY_MODEL_89509eee992c4e5d8ff1c9065cc1d5e7",
       "value": 528316.0
      }
     },
     "5f1d8bb486a345aebe17296ed0053837": {
      "model_module": "@jupyter-widgets/base",
      "model_module_version": "1.2.0",
      "model_name": "LayoutModel",
      "state": {
       "_model_module": "@jupyter-widgets/base",
       "_model_module_version": "1.2.0",
       "_model_name": "LayoutModel",
       "_view_count": null,
       "_view_module": "@jupyter-widgets/base",
       "_view_module_version": "1.2.0",
       "_view_name": "LayoutView",
       "align_content": null,
       "align_items": null,
       "align_self": null,
       "border": null,
       "bottom": null,
       "display": null,
       "flex": null,
       "flex_flow": null,
       "grid_area": null,
       "grid_auto_columns": null,
       "grid_auto_flow": null,
       "grid_auto_rows": null,
       "grid_column": null,
       "grid_gap": null,
       "grid_row": null,
       "grid_template_areas": null,
       "grid_template_columns": null,
       "grid_template_rows": null,
       "height": null,
       "justify_content": null,
       "justify_items": null,
       "left": null,
       "margin": null,
       "max_height": null,
       "max_width": null,
       "min_height": null,
       "min_width": null,
       "object_fit": null,
       "object_position": null,
       "order": null,
       "overflow": null,
       "overflow_x": null,
       "overflow_y": null,
       "padding": null,
       "right": null,
       "top": null,
       "visibility": null,
       "width": null
      }
     },
     "6006e63d61be44f8b2eae78dccd88238": {
      "model_module": "@jupyter-widgets/controls",
      "model_module_version": "1.5.0",
      "model_name": "HBoxModel",
      "state": {
       "_dom_classes": [],
       "_model_module": "@jupyter-widgets/controls",
       "_model_module_version": "1.5.0",
       "_model_name": "HBoxModel",
       "_view_count": null,
       "_view_module": "@jupyter-widgets/controls",
       "_view_module_version": "1.5.0",
       "_view_name": "HBoxView",
       "box_style": "",
       "children": [
        "IPY_MODEL_7fe0886553904515abc2bbf5d5e1c13e",
        "IPY_MODEL_335a897298b6432ba20664f187054e8d",
        "IPY_MODEL_9ae5c94f2d6a4ec9b8128f92e689e5e0"
       ],
       "layout": "IPY_MODEL_b59801432ccd4372a562d748847223cc"
      }
     },
     "6097aff4db134761ae03cb503976e51b": {
      "model_module": "@jupyter-widgets/controls",
      "model_module_version": "1.5.0",
      "model_name": "FloatProgressModel",
      "state": {
       "_dom_classes": [],
       "_model_module": "@jupyter-widgets/controls",
       "_model_module_version": "1.5.0",
       "_model_name": "FloatProgressModel",
       "_view_count": null,
       "_view_module": "@jupyter-widgets/controls",
       "_view_module_version": "1.5.0",
       "_view_name": "ProgressView",
       "bar_style": "success",
       "description": "",
       "description_tooltip": null,
       "layout": "IPY_MODEL_5c9cf5a9eecd4c97a19c909de1ea7327",
       "max": 100.0,
       "min": 0.0,
       "orientation": "horizontal",
       "style": "IPY_MODEL_e81589f866524511b6ded6595d04f5fa",
       "value": 100.0
      }
     },
     "60a65fead91440e18ba28912d0d19923": {
      "model_module": "@jupyter-widgets/controls",
      "model_module_version": "1.5.0",
      "model_name": "ProgressStyleModel",
      "state": {
       "_model_module": "@jupyter-widgets/controls",
       "_model_module_version": "1.5.0",
       "_model_name": "ProgressStyleModel",
       "_view_count": null,
       "_view_module": "@jupyter-widgets/base",
       "_view_module_version": "1.2.0",
       "_view_name": "StyleView",
       "bar_color": null,
       "description_width": ""
      }
     },
     "616b6d9e643648c3b552d423638c513b": {
      "model_module": "@jupyter-widgets/base",
      "model_module_version": "1.2.0",
      "model_name": "LayoutModel",
      "state": {
       "_model_module": "@jupyter-widgets/base",
       "_model_module_version": "1.2.0",
       "_model_name": "LayoutModel",
       "_view_count": null,
       "_view_module": "@jupyter-widgets/base",
       "_view_module_version": "1.2.0",
       "_view_name": "LayoutView",
       "align_content": null,
       "align_items": null,
       "align_self": null,
       "border": null,
       "bottom": null,
       "display": null,
       "flex": null,
       "flex_flow": null,
       "grid_area": null,
       "grid_auto_columns": null,
       "grid_auto_flow": null,
       "grid_auto_rows": null,
       "grid_column": null,
       "grid_gap": null,
       "grid_row": null,
       "grid_template_areas": null,
       "grid_template_columns": null,
       "grid_template_rows": null,
       "height": null,
       "justify_content": null,
       "justify_items": null,
       "left": null,
       "margin": null,
       "max_height": null,
       "max_width": null,
       "min_height": null,
       "min_width": null,
       "object_fit": null,
       "object_position": null,
       "order": null,
       "overflow": null,
       "overflow_x": null,
       "overflow_y": null,
       "padding": null,
       "right": null,
       "top": null,
       "visibility": null,
       "width": null
      }
     },
     "61956d4e8caf46c694075afd64b85e7a": {
      "model_module": "@jupyter-widgets/base",
      "model_module_version": "1.2.0",
      "model_name": "LayoutModel",
      "state": {
       "_model_module": "@jupyter-widgets/base",
       "_model_module_version": "1.2.0",
       "_model_name": "LayoutModel",
       "_view_count": null,
       "_view_module": "@jupyter-widgets/base",
       "_view_module_version": "1.2.0",
       "_view_name": "LayoutView",
       "align_content": null,
       "align_items": null,
       "align_self": null,
       "border": null,
       "bottom": null,
       "display": null,
       "flex": null,
       "flex_flow": null,
       "grid_area": null,
       "grid_auto_columns": null,
       "grid_auto_flow": null,
       "grid_auto_rows": null,
       "grid_column": null,
       "grid_gap": null,
       "grid_row": null,
       "grid_template_areas": null,
       "grid_template_columns": null,
       "grid_template_rows": null,
       "height": null,
       "justify_content": null,
       "justify_items": null,
       "left": null,
       "margin": null,
       "max_height": null,
       "max_width": null,
       "min_height": null,
       "min_width": null,
       "object_fit": null,
       "object_position": null,
       "order": null,
       "overflow": null,
       "overflow_x": null,
       "overflow_y": null,
       "padding": null,
       "right": null,
       "top": null,
       "visibility": null,
       "width": null
      }
     },
     "628c6fc5e41747989186720e028b07cd": {
      "model_module": "@jupyter-widgets/base",
      "model_module_version": "1.2.0",
      "model_name": "LayoutModel",
      "state": {
       "_model_module": "@jupyter-widgets/base",
       "_model_module_version": "1.2.0",
       "_model_name": "LayoutModel",
       "_view_count": null,
       "_view_module": "@jupyter-widgets/base",
       "_view_module_version": "1.2.0",
       "_view_name": "LayoutView",
       "align_content": null,
       "align_items": null,
       "align_self": null,
       "border": null,
       "bottom": null,
       "display": null,
       "flex": null,
       "flex_flow": null,
       "grid_area": null,
       "grid_auto_columns": null,
       "grid_auto_flow": null,
       "grid_auto_rows": null,
       "grid_column": null,
       "grid_gap": null,
       "grid_row": null,
       "grid_template_areas": null,
       "grid_template_columns": null,
       "grid_template_rows": null,
       "height": null,
       "justify_content": null,
       "justify_items": null,
       "left": null,
       "margin": null,
       "max_height": null,
       "max_width": null,
       "min_height": null,
       "min_width": null,
       "object_fit": null,
       "object_position": null,
       "order": null,
       "overflow": null,
       "overflow_x": null,
       "overflow_y": null,
       "padding": null,
       "right": null,
       "top": null,
       "visibility": null,
       "width": null
      }
     },
     "62b2f3af42c340cfb5cddf1d3e45490c": {
      "model_module": "@jupyter-widgets/controls",
      "model_module_version": "1.5.0",
      "model_name": "FloatProgressModel",
      "state": {
       "_dom_classes": [],
       "_model_module": "@jupyter-widgets/controls",
       "_model_module_version": "1.5.0",
       "_model_name": "FloatProgressModel",
       "_view_count": null,
       "_view_module": "@jupyter-widgets/controls",
       "_view_module_version": "1.5.0",
       "_view_name": "ProgressView",
       "bar_style": "success",
       "description": "",
       "description_tooltip": null,
       "layout": "IPY_MODEL_b4faa4ac115f4d11b2135c14dd0974f7",
       "max": 1154.0,
       "min": 0.0,
       "orientation": "horizontal",
       "style": "IPY_MODEL_6c49c4d15ed64303874c72664c9cc9f6",
       "value": 1154.0
      }
     },
     "64fa6aed991b47c289b0cf5c9495cdf0": {
      "model_module": "@jupyter-widgets/controls",
      "model_module_version": "1.5.0",
      "model_name": "HBoxModel",
      "state": {
       "_dom_classes": [],
       "_model_module": "@jupyter-widgets/controls",
       "_model_module_version": "1.5.0",
       "_model_name": "HBoxModel",
       "_view_count": null,
       "_view_module": "@jupyter-widgets/controls",
       "_view_module_version": "1.5.0",
       "_view_name": "HBoxView",
       "box_style": "",
       "children": [
        "IPY_MODEL_5cdd8d8d8c884d3fb5d9bd3c9ef263f4",
        "IPY_MODEL_5d4030ff844c41b480a0f688e0cd9d00",
        "IPY_MODEL_1785044b95ff4500886afed6f2778e5b"
       ],
       "layout": "IPY_MODEL_e63ce671e6d04015990ed9da9bf88ed5"
      }
     },
     "665d11a156184ad5a3c2cf298918872f": {
      "model_module": "@jupyter-widgets/base",
      "model_module_version": "1.2.0",
      "model_name": "LayoutModel",
      "state": {
       "_model_module": "@jupyter-widgets/base",
       "_model_module_version": "1.2.0",
       "_model_name": "LayoutModel",
       "_view_count": null,
       "_view_module": "@jupyter-widgets/base",
       "_view_module_version": "1.2.0",
       "_view_name": "LayoutView",
       "align_content": null,
       "align_items": null,
       "align_self": null,
       "border": null,
       "bottom": null,
       "display": null,
       "flex": null,
       "flex_flow": null,
       "grid_area": null,
       "grid_auto_columns": null,
       "grid_auto_flow": null,
       "grid_auto_rows": null,
       "grid_column": null,
       "grid_gap": null,
       "grid_row": null,
       "grid_template_areas": null,
       "grid_template_columns": null,
       "grid_template_rows": null,
       "height": null,
       "justify_content": null,
       "justify_items": null,
       "left": null,
       "margin": null,
       "max_height": null,
       "max_width": null,
       "min_height": null,
       "min_width": null,
       "object_fit": null,
       "object_position": null,
       "order": null,
       "overflow": null,
       "overflow_x": null,
       "overflow_y": null,
       "padding": null,
       "right": null,
       "top": null,
       "visibility": null,
       "width": null
      }
     },
     "67cb8369bd944f17ba5237f389ff1466": {
      "model_module": "@jupyter-widgets/controls",
      "model_module_version": "1.5.0",
      "model_name": "HBoxModel",
      "state": {
       "_dom_classes": [],
       "_model_module": "@jupyter-widgets/controls",
       "_model_module_version": "1.5.0",
       "_model_name": "HBoxModel",
       "_view_count": null,
       "_view_module": "@jupyter-widgets/controls",
       "_view_module_version": "1.5.0",
       "_view_name": "HBoxView",
       "box_style": "",
       "children": [
        "IPY_MODEL_acc3d9170ca341e59730bcc786db082f",
        "IPY_MODEL_9982304bfb5147db84d3d07131f44f7e",
        "IPY_MODEL_af4f8fa3da3e4b73968892b48e4acbc2"
       ],
       "layout": "IPY_MODEL_ee814e29f10f43179b4b4e9a672957a6"
      }
     },
     "6b2632a872d24346ab8c3aace92d55e1": {
      "model_module": "@jupyter-widgets/controls",
      "model_module_version": "1.5.0",
      "model_name": "ProgressStyleModel",
      "state": {
       "_model_module": "@jupyter-widgets/controls",
       "_model_module_version": "1.5.0",
       "_model_name": "ProgressStyleModel",
       "_view_count": null,
       "_view_module": "@jupyter-widgets/base",
       "_view_module_version": "1.2.0",
       "_view_name": "StyleView",
       "bar_color": null,
       "description_width": ""
      }
     },
     "6c49c4d15ed64303874c72664c9cc9f6": {
      "model_module": "@jupyter-widgets/controls",
      "model_module_version": "1.5.0",
      "model_name": "ProgressStyleModel",
      "state": {
       "_model_module": "@jupyter-widgets/controls",
       "_model_module_version": "1.5.0",
       "_model_name": "ProgressStyleModel",
       "_view_count": null,
       "_view_module": "@jupyter-widgets/base",
       "_view_module_version": "1.2.0",
       "_view_name": "StyleView",
       "bar_color": null,
       "description_width": ""
      }
     },
     "70aa88cbc0ef4144be9cc4a26b730567": {
      "model_module": "@jupyter-widgets/controls",
      "model_module_version": "1.5.0",
      "model_name": "DescriptionStyleModel",
      "state": {
       "_model_module": "@jupyter-widgets/controls",
       "_model_module_version": "1.5.0",
       "_model_name": "DescriptionStyleModel",
       "_view_count": null,
       "_view_module": "@jupyter-widgets/base",
       "_view_module_version": "1.2.0",
       "_view_name": "StyleView",
       "description_width": ""
      }
     },
     "73b91f0190aa4c7e99c72a55728a6bd7": {
      "model_module": "@jupyter-widgets/base",
      "model_module_version": "1.2.0",
      "model_name": "LayoutModel",
      "state": {
       "_model_module": "@jupyter-widgets/base",
       "_model_module_version": "1.2.0",
       "_model_name": "LayoutModel",
       "_view_count": null,
       "_view_module": "@jupyter-widgets/base",
       "_view_module_version": "1.2.0",
       "_view_name": "LayoutView",
       "align_content": null,
       "align_items": null,
       "align_self": null,
       "border": null,
       "bottom": null,
       "display": null,
       "flex": null,
       "flex_flow": null,
       "grid_area": null,
       "grid_auto_columns": null,
       "grid_auto_flow": null,
       "grid_auto_rows": null,
       "grid_column": null,
       "grid_gap": null,
       "grid_row": null,
       "grid_template_areas": null,
       "grid_template_columns": null,
       "grid_template_rows": null,
       "height": null,
       "justify_content": null,
       "justify_items": null,
       "left": null,
       "margin": null,
       "max_height": null,
       "max_width": null,
       "min_height": null,
       "min_width": null,
       "object_fit": null,
       "object_position": null,
       "order": null,
       "overflow": null,
       "overflow_x": null,
       "overflow_y": null,
       "padding": null,
       "right": null,
       "top": null,
       "visibility": null,
       "width": null
      }
     },
     "79221577bb8743bd9e6ebe5ef4f61bfc": {
      "model_module": "@jupyter-widgets/controls",
      "model_module_version": "1.5.0",
      "model_name": "FloatProgressModel",
      "state": {
       "_dom_classes": [],
       "_model_module": "@jupyter-widgets/controls",
       "_model_module_version": "1.5.0",
       "_model_name": "FloatProgressModel",
       "_view_count": null,
       "_view_module": "@jupyter-widgets/controls",
       "_view_module_version": "1.5.0",
       "_view_name": "ProgressView",
       "bar_style": "success",
       "description": "",
       "description_tooltip": null,
       "layout": "IPY_MODEL_2c5deff995e14bcca8474badc2501689",
       "max": 1355863.0,
       "min": 0.0,
       "orientation": "horizontal",
       "style": "IPY_MODEL_59d81e6e2814406680530c4e0e95be0d",
       "value": 1355863.0
      }
     },
     "7a66e83fbc89425384e6584947283eb3": {
      "model_module": "@jupyter-widgets/controls",
      "model_module_version": "1.5.0",
      "model_name": "HTMLModel",
      "state": {
       "_dom_classes": [],
       "_model_module": "@jupyter-widgets/controls",
       "_model_module_version": "1.5.0",
       "_model_name": "HTMLModel",
       "_view_count": null,
       "_view_module": "@jupyter-widgets/controls",
       "_view_module_version": "1.5.0",
       "_view_name": "HTMLView",
       "description": "",
       "description_tooltip": null,
       "layout": "IPY_MODEL_02d6a4c11179437a898b9b23363967b7",
       "placeholder": "​",
       "style": "IPY_MODEL_5b5cae81cb9f42eb847d40fc5e26195b",
       "value": "tokenizer.json: 100%"
      }
     },
     "7aa05faeef52466eaf3cf38f450f2453": {
      "model_module": "@jupyter-widgets/base",
      "model_module_version": "1.2.0",
      "model_name": "LayoutModel",
      "state": {
       "_model_module": "@jupyter-widgets/base",
       "_model_module_version": "1.2.0",
       "_model_name": "LayoutModel",
       "_view_count": null,
       "_view_module": "@jupyter-widgets/base",
       "_view_module_version": "1.2.0",
       "_view_name": "LayoutView",
       "align_content": null,
       "align_items": null,
       "align_self": null,
       "border": null,
       "bottom": null,
       "display": null,
       "flex": null,
       "flex_flow": null,
       "grid_area": null,
       "grid_auto_columns": null,
       "grid_auto_flow": null,
       "grid_auto_rows": null,
       "grid_column": null,
       "grid_gap": null,
       "grid_row": null,
       "grid_template_areas": null,
       "grid_template_columns": null,
       "grid_template_rows": null,
       "height": null,
       "justify_content": null,
       "justify_items": null,
       "left": null,
       "margin": null,
       "max_height": null,
       "max_width": null,
       "min_height": null,
       "min_width": null,
       "object_fit": null,
       "object_position": null,
       "order": null,
       "overflow": null,
       "overflow_x": null,
       "overflow_y": null,
       "padding": null,
       "right": null,
       "top": null,
       "visibility": null,
       "width": null
      }
     },
     "7bff3aced000420aae860890b868cd16": {
      "model_module": "@jupyter-widgets/controls",
      "model_module_version": "1.5.0",
      "model_name": "HBoxModel",
      "state": {
       "_dom_classes": [],
       "_model_module": "@jupyter-widgets/controls",
       "_model_module_version": "1.5.0",
       "_model_name": "HBoxModel",
       "_view_count": null,
       "_view_module": "@jupyter-widgets/controls",
       "_view_module_version": "1.5.0",
       "_view_name": "HBoxView",
       "box_style": "",
       "children": [
        "IPY_MODEL_d788c91119284532b2988a6ca0fb932c",
        "IPY_MODEL_f32e4697e2b145f6bd6e932b511e3735",
        "IPY_MODEL_9cea77837dad4c438bba4eb1aba7b58c"
       ],
       "layout": "IPY_MODEL_15e86cca6d1d40f7bb61eb3008a6ec7f"
      }
     },
     "7d18cabbf2e34777a4af1fdc8c5d1b18": {
      "model_module": "@jupyter-widgets/controls",
      "model_module_version": "1.5.0",
      "model_name": "HBoxModel",
      "state": {
       "_dom_classes": [],
       "_model_module": "@jupyter-widgets/controls",
       "_model_module_version": "1.5.0",
       "_model_name": "HBoxModel",
       "_view_count": null,
       "_view_module": "@jupyter-widgets/controls",
       "_view_module_version": "1.5.0",
       "_view_name": "HBoxView",
       "box_style": "",
       "children": [
        "IPY_MODEL_fd9e42a4421b4290aedff5374cbc6ae0",
        "IPY_MODEL_f3cbe2c0da5f4f0fbd66d336b3bcb479",
        "IPY_MODEL_371460e773a74305b17e015eb1a19477"
       ],
       "layout": "IPY_MODEL_558fd5f86620434ea311bde5b97c5bb5"
      }
     },
     "7d5e4a5a0cb24cefa16ca35139c786f1": {
      "model_module": "@jupyter-widgets/controls",
      "model_module_version": "1.5.0",
      "model_name": "DescriptionStyleModel",
      "state": {
       "_model_module": "@jupyter-widgets/controls",
       "_model_module_version": "1.5.0",
       "_model_name": "DescriptionStyleModel",
       "_view_count": null,
       "_view_module": "@jupyter-widgets/base",
       "_view_module_version": "1.2.0",
       "_view_name": "StyleView",
       "description_width": ""
      }
     },
     "7e09a4c610454a03aaf41b5049483caf": {
      "model_module": "@jupyter-widgets/base",
      "model_module_version": "1.2.0",
      "model_name": "LayoutModel",
      "state": {
       "_model_module": "@jupyter-widgets/base",
       "_model_module_version": "1.2.0",
       "_model_name": "LayoutModel",
       "_view_count": null,
       "_view_module": "@jupyter-widgets/base",
       "_view_module_version": "1.2.0",
       "_view_name": "LayoutView",
       "align_content": null,
       "align_items": null,
       "align_self": null,
       "border": null,
       "bottom": null,
       "display": null,
       "flex": null,
       "flex_flow": null,
       "grid_area": null,
       "grid_auto_columns": null,
       "grid_auto_flow": null,
       "grid_auto_rows": null,
       "grid_column": null,
       "grid_gap": null,
       "grid_row": null,
       "grid_template_areas": null,
       "grid_template_columns": null,
       "grid_template_rows": null,
       "height": null,
       "justify_content": null,
       "justify_items": null,
       "left": null,
       "margin": null,
       "max_height": null,
       "max_width": null,
       "min_height": null,
       "min_width": null,
       "object_fit": null,
       "object_position": null,
       "order": null,
       "overflow": null,
       "overflow_x": null,
       "overflow_y": null,
       "padding": null,
       "right": null,
       "top": null,
       "visibility": null,
       "width": null
      }
     },
     "7e7e91a96130404aa83080fac47d2b58": {
      "model_module": "@jupyter-widgets/controls",
      "model_module_version": "1.5.0",
      "model_name": "DescriptionStyleModel",
      "state": {
       "_model_module": "@jupyter-widgets/controls",
       "_model_module_version": "1.5.0",
       "_model_name": "DescriptionStyleModel",
       "_view_count": null,
       "_view_module": "@jupyter-widgets/base",
       "_view_module_version": "1.2.0",
       "_view_name": "StyleView",
       "description_width": ""
      }
     },
     "7fe0886553904515abc2bbf5d5e1c13e": {
      "model_module": "@jupyter-widgets/controls",
      "model_module_version": "1.5.0",
      "model_name": "HTMLModel",
      "state": {
       "_dom_classes": [],
       "_model_module": "@jupyter-widgets/controls",
       "_model_module_version": "1.5.0",
       "_model_name": "HTMLModel",
       "_view_count": null,
       "_view_module": "@jupyter-widgets/controls",
       "_view_module_version": "1.5.0",
       "_view_name": "HTMLView",
       "description": "",
       "description_tooltip": null,
       "layout": "IPY_MODEL_7e09a4c610454a03aaf41b5049483caf",
       "placeholder": "​",
       "style": "IPY_MODEL_70aa88cbc0ef4144be9cc4a26b730567",
       "value": "config.json: 100%"
      }
     },
     "831b1e3548064a39ac2a9b15ac8f33b7": {
      "model_module": "@jupyter-widgets/controls",
      "model_module_version": "1.5.0",
      "model_name": "HBoxModel",
      "state": {
       "_dom_classes": [],
       "_model_module": "@jupyter-widgets/controls",
       "_model_module_version": "1.5.0",
       "_model_name": "HBoxModel",
       "_view_count": null,
       "_view_module": "@jupyter-widgets/controls",
       "_view_module_version": "1.5.0",
       "_view_name": "HBoxView",
       "box_style": "",
       "children": [
        "IPY_MODEL_b2dc7216bb4e46f0983e5a1227d05444",
        "IPY_MODEL_aa36b8714f5943aea45fe8cf926b73a3",
        "IPY_MODEL_16d8d0e3e74241e48a875042770e71bf"
       ],
       "layout": "IPY_MODEL_bcd588f192c548e5bf918fdeaea8da5f"
      }
     },
     "836da142db3c460592f5eb168b0ad8fe": {
      "model_module": "@jupyter-widgets/base",
      "model_module_version": "1.2.0",
      "model_name": "LayoutModel",
      "state": {
       "_model_module": "@jupyter-widgets/base",
       "_model_module_version": "1.2.0",
       "_model_name": "LayoutModel",
       "_view_count": null,
       "_view_module": "@jupyter-widgets/base",
       "_view_module_version": "1.2.0",
       "_view_name": "LayoutView",
       "align_content": null,
       "align_items": null,
       "align_self": null,
       "border": null,
       "bottom": null,
       "display": null,
       "flex": null,
       "flex_flow": null,
       "grid_area": null,
       "grid_auto_columns": null,
       "grid_auto_flow": null,
       "grid_auto_rows": null,
       "grid_column": null,
       "grid_gap": null,
       "grid_row": null,
       "grid_template_areas": null,
       "grid_template_columns": null,
       "grid_template_rows": null,
       "height": null,
       "justify_content": null,
       "justify_items": null,
       "left": null,
       "margin": null,
       "max_height": null,
       "max_width": null,
       "min_height": null,
       "min_width": null,
       "object_fit": null,
       "object_position": null,
       "order": null,
       "overflow": null,
       "overflow_x": null,
       "overflow_y": null,
       "padding": null,
       "right": null,
       "top": null,
       "visibility": null,
       "width": null
      }
     },
     "8399c932d4fe4670a8dda01dfde20c44": {
      "model_module": "@jupyter-widgets/base",
      "model_module_version": "1.2.0",
      "model_name": "LayoutModel",
      "state": {
       "_model_module": "@jupyter-widgets/base",
       "_model_module_version": "1.2.0",
       "_model_name": "LayoutModel",
       "_view_count": null,
       "_view_module": "@jupyter-widgets/base",
       "_view_module_version": "1.2.0",
       "_view_name": "LayoutView",
       "align_content": null,
       "align_items": null,
       "align_self": null,
       "border": null,
       "bottom": null,
       "display": null,
       "flex": null,
       "flex_flow": null,
       "grid_area": null,
       "grid_auto_columns": null,
       "grid_auto_flow": null,
       "grid_auto_rows": null,
       "grid_column": null,
       "grid_gap": null,
       "grid_row": null,
       "grid_template_areas": null,
       "grid_template_columns": null,
       "grid_template_rows": null,
       "height": null,
       "justify_content": null,
       "justify_items": null,
       "left": null,
       "margin": null,
       "max_height": null,
       "max_width": null,
       "min_height": null,
       "min_width": null,
       "object_fit": null,
       "object_position": null,
       "order": null,
       "overflow": null,
       "overflow_x": null,
       "overflow_y": null,
       "padding": null,
       "right": null,
       "top": null,
       "visibility": null,
       "width": null
      }
     },
     "83d0e6a9ed234b1fa96f196ece6eea74": {
      "model_module": "@jupyter-widgets/controls",
      "model_module_version": "1.5.0",
      "model_name": "DescriptionStyleModel",
      "state": {
       "_model_module": "@jupyter-widgets/controls",
       "_model_module_version": "1.5.0",
       "_model_name": "DescriptionStyleModel",
       "_view_count": null,
       "_view_module": "@jupyter-widgets/base",
       "_view_module_version": "1.2.0",
       "_view_name": "StyleView",
       "description_width": ""
      }
     },
     "83e1ff892b954a6e8412e3511d2e1538": {
      "model_module": "@jupyter-widgets/controls",
      "model_module_version": "1.5.0",
      "model_name": "DescriptionStyleModel",
      "state": {
       "_model_module": "@jupyter-widgets/controls",
       "_model_module_version": "1.5.0",
       "_model_name": "DescriptionStyleModel",
       "_view_count": null,
       "_view_module": "@jupyter-widgets/base",
       "_view_module_version": "1.2.0",
       "_view_name": "StyleView",
       "description_width": ""
      }
     },
     "862aa1b53bae4bf4bcc73a614eca73f4": {
      "model_module": "@jupyter-widgets/base",
      "model_module_version": "1.2.0",
      "model_name": "LayoutModel",
      "state": {
       "_model_module": "@jupyter-widgets/base",
       "_model_module_version": "1.2.0",
       "_model_name": "LayoutModel",
       "_view_count": null,
       "_view_module": "@jupyter-widgets/base",
       "_view_module_version": "1.2.0",
       "_view_name": "LayoutView",
       "align_content": null,
       "align_items": null,
       "align_self": null,
       "border": null,
       "bottom": null,
       "display": null,
       "flex": null,
       "flex_flow": null,
       "grid_area": null,
       "grid_auto_columns": null,
       "grid_auto_flow": null,
       "grid_auto_rows": null,
       "grid_column": null,
       "grid_gap": null,
       "grid_row": null,
       "grid_template_areas": null,
       "grid_template_columns": null,
       "grid_template_rows": null,
       "height": null,
       "justify_content": null,
       "justify_items": null,
       "left": null,
       "margin": null,
       "max_height": null,
       "max_width": null,
       "min_height": null,
       "min_width": null,
       "object_fit": null,
       "object_position": null,
       "order": null,
       "overflow": null,
       "overflow_x": null,
       "overflow_y": null,
       "padding": null,
       "right": null,
       "top": null,
       "visibility": null,
       "width": null
      }
     },
     "89509eee992c4e5d8ff1c9065cc1d5e7": {
      "model_module": "@jupyter-widgets/controls",
      "model_module_version": "1.5.0",
      "model_name": "ProgressStyleModel",
      "state": {
       "_model_module": "@jupyter-widgets/controls",
       "_model_module_version": "1.5.0",
       "_model_name": "ProgressStyleModel",
       "_view_count": null,
       "_view_module": "@jupyter-widgets/base",
       "_view_module_version": "1.2.0",
       "_view_name": "StyleView",
       "bar_color": null,
       "description_width": ""
      }
     },
     "89aa5299ee4f48ab8693bacb42e0e3ba": {
      "model_module": "@jupyter-widgets/base",
      "model_module_version": "1.2.0",
      "model_name": "LayoutModel",
      "state": {
       "_model_module": "@jupyter-widgets/base",
       "_model_module_version": "1.2.0",
       "_model_name": "LayoutModel",
       "_view_count": null,
       "_view_module": "@jupyter-widgets/base",
       "_view_module_version": "1.2.0",
       "_view_name": "LayoutView",
       "align_content": null,
       "align_items": null,
       "align_self": null,
       "border": null,
       "bottom": null,
       "display": null,
       "flex": null,
       "flex_flow": null,
       "grid_area": null,
       "grid_auto_columns": null,
       "grid_auto_flow": null,
       "grid_auto_rows": null,
       "grid_column": null,
       "grid_gap": null,
       "grid_row": null,
       "grid_template_areas": null,
       "grid_template_columns": null,
       "grid_template_rows": null,
       "height": null,
       "justify_content": null,
       "justify_items": null,
       "left": null,
       "margin": null,
       "max_height": null,
       "max_width": null,
       "min_height": null,
       "min_width": null,
       "object_fit": null,
       "object_position": null,
       "order": null,
       "overflow": null,
       "overflow_x": null,
       "overflow_y": null,
       "padding": null,
       "right": null,
       "top": null,
       "visibility": null,
       "width": null
      }
     },
     "8a3c4241dbc4416bbbdba2311eb7ee91": {
      "model_module": "@jupyter-widgets/controls",
      "model_module_version": "1.5.0",
      "model_name": "HBoxModel",
      "state": {
       "_dom_classes": [],
       "_model_module": "@jupyter-widgets/controls",
       "_model_module_version": "1.5.0",
       "_model_name": "HBoxModel",
       "_view_count": null,
       "_view_module": "@jupyter-widgets/controls",
       "_view_module_version": "1.5.0",
       "_view_name": "HBoxView",
       "box_style": "",
       "children": [
        "IPY_MODEL_8b71a69cb16e4021a313ecd282d8a1db",
        "IPY_MODEL_db9e66e9783c4b4a8168d2c4d1db0e55",
        "IPY_MODEL_f05472ad25e24c34863ae49c37ddd2c3"
       ],
       "layout": "IPY_MODEL_bb21f18abedd47dea0ffbed549e7194b"
      }
     },
     "8ae5c64f3eec4545985e4871f5068f2b": {
      "model_module": "@jupyter-widgets/base",
      "model_module_version": "1.2.0",
      "model_name": "LayoutModel",
      "state": {
       "_model_module": "@jupyter-widgets/base",
       "_model_module_version": "1.2.0",
       "_model_name": "LayoutModel",
       "_view_count": null,
       "_view_module": "@jupyter-widgets/base",
       "_view_module_version": "1.2.0",
       "_view_name": "LayoutView",
       "align_content": null,
       "align_items": null,
       "align_self": null,
       "border": null,
       "bottom": null,
       "display": null,
       "flex": null,
       "flex_flow": null,
       "grid_area": null,
       "grid_auto_columns": null,
       "grid_auto_flow": null,
       "grid_auto_rows": null,
       "grid_column": null,
       "grid_gap": null,
       "grid_row": null,
       "grid_template_areas": null,
       "grid_template_columns": null,
       "grid_template_rows": null,
       "height": null,
       "justify_content": null,
       "justify_items": null,
       "left": null,
       "margin": null,
       "max_height": null,
       "max_width": null,
       "min_height": null,
       "min_width": null,
       "object_fit": null,
       "object_position": null,
       "order": null,
       "overflow": null,
       "overflow_x": null,
       "overflow_y": null,
       "padding": null,
       "right": null,
       "top": null,
       "visibility": null,
       "width": null
      }
     },
     "8b424c3a032d4e068b2c3b00f5aa3a85": {
      "model_module": "@jupyter-widgets/controls",
      "model_module_version": "1.5.0",
      "model_name": "DescriptionStyleModel",
      "state": {
       "_model_module": "@jupyter-widgets/controls",
       "_model_module_version": "1.5.0",
       "_model_name": "DescriptionStyleModel",
       "_view_count": null,
       "_view_module": "@jupyter-widgets/base",
       "_view_module_version": "1.2.0",
       "_view_name": "StyleView",
       "description_width": ""
      }
     },
     "8b71a69cb16e4021a313ecd282d8a1db": {
      "model_module": "@jupyter-widgets/controls",
      "model_module_version": "1.5.0",
      "model_name": "HTMLModel",
      "state": {
       "_dom_classes": [],
       "_model_module": "@jupyter-widgets/controls",
       "_model_module_version": "1.5.0",
       "_model_name": "HTMLModel",
       "_view_count": null,
       "_view_module": "@jupyter-widgets/controls",
       "_view_module_version": "1.5.0",
       "_view_name": "HTMLView",
       "description": "",
       "description_tooltip": null,
       "layout": "IPY_MODEL_d8be7420a3164e9298cd4602d825d6f8",
       "placeholder": "​",
       "style": "IPY_MODEL_5cb3582a5dcd4d9ab61f2fe846ef3c0e",
       "value": "model.safetensors: 100%"
      }
     },
     "8c2c72c9f2ad46c9913b0199cf30bf0a": {
      "model_module": "@jupyter-widgets/controls",
      "model_module_version": "1.5.0",
      "model_name": "DescriptionStyleModel",
      "state": {
       "_model_module": "@jupyter-widgets/controls",
       "_model_module_version": "1.5.0",
       "_model_name": "DescriptionStyleModel",
       "_view_count": null,
       "_view_module": "@jupyter-widgets/base",
       "_view_module_version": "1.2.0",
       "_view_name": "StyleView",
       "description_width": ""
      }
     },
     "8ceb6442935d465fb1d13f6a526bb371": {
      "model_module": "@jupyter-widgets/controls",
      "model_module_version": "1.5.0",
      "model_name": "DescriptionStyleModel",
      "state": {
       "_model_module": "@jupyter-widgets/controls",
       "_model_module_version": "1.5.0",
       "_model_name": "DescriptionStyleModel",
       "_view_count": null,
       "_view_module": "@jupyter-widgets/base",
       "_view_module_version": "1.2.0",
       "_view_name": "StyleView",
       "description_width": ""
      }
     },
     "8e872710db764cc6a72fbd86bddf9cfb": {
      "model_module": "@jupyter-widgets/controls",
      "model_module_version": "1.5.0",
      "model_name": "HBoxModel",
      "state": {
       "_dom_classes": [],
       "_model_module": "@jupyter-widgets/controls",
       "_model_module_version": "1.5.0",
       "_model_name": "HBoxModel",
       "_view_count": null,
       "_view_module": "@jupyter-widgets/controls",
       "_view_module_version": "1.5.0",
       "_view_name": "HBoxView",
       "box_style": "",
       "children": [
        "IPY_MODEL_cb4fe0aad983442980221b89c908d339",
        "IPY_MODEL_79221577bb8743bd9e6ebe5ef4f61bfc",
        "IPY_MODEL_0079dbe19a6a4e649eada206e7e832d6"
       ],
       "layout": "IPY_MODEL_285a41997d154e93a36ecfdbda11ab04"
      }
     },
     "8e9f3e32eb0848b4bb6ed28b600ee850": {
      "model_module": "@jupyter-widgets/controls",
      "model_module_version": "1.5.0",
      "model_name": "FloatProgressModel",
      "state": {
       "_dom_classes": [],
       "_model_module": "@jupyter-widgets/controls",
       "_model_module_version": "1.5.0",
       "_model_name": "FloatProgressModel",
       "_view_count": null,
       "_view_module": "@jupyter-widgets/controls",
       "_view_module_version": "1.5.0",
       "_view_name": "ProgressView",
       "bar_style": "success",
       "description": "",
       "description_tooltip": null,
       "layout": "IPY_MODEL_07d6f1240bf94e28baef5eb3cab02e20",
       "max": 112.0,
       "min": 0.0,
       "orientation": "horizontal",
       "style": "IPY_MODEL_41ba02a002954d8ea22c91a621ffb257",
       "value": 112.0
      }
     },
     "9024465635ee430c850cca024b057429": {
      "model_module": "@jupyter-widgets/base",
      "model_module_version": "1.2.0",
      "model_name": "LayoutModel",
      "state": {
       "_model_module": "@jupyter-widgets/base",
       "_model_module_version": "1.2.0",
       "_model_name": "LayoutModel",
       "_view_count": null,
       "_view_module": "@jupyter-widgets/base",
       "_view_module_version": "1.2.0",
       "_view_name": "LayoutView",
       "align_content": null,
       "align_items": null,
       "align_self": null,
       "border": null,
       "bottom": null,
       "display": null,
       "flex": null,
       "flex_flow": null,
       "grid_area": null,
       "grid_auto_columns": null,
       "grid_auto_flow": null,
       "grid_auto_rows": null,
       "grid_column": null,
       "grid_gap": null,
       "grid_row": null,
       "grid_template_areas": null,
       "grid_template_columns": null,
       "grid_template_rows": null,
       "height": null,
       "justify_content": null,
       "justify_items": null,
       "left": null,
       "margin": null,
       "max_height": null,
       "max_width": null,
       "min_height": null,
       "min_width": null,
       "object_fit": null,
       "object_position": null,
       "order": null,
       "overflow": null,
       "overflow_x": null,
       "overflow_y": null,
       "padding": null,
       "right": null,
       "top": null,
       "visibility": null,
       "width": null
      }
     },
     "907d6b7786d540e595782371a4c09c2f": {
      "model_module": "@jupyter-widgets/controls",
      "model_module_version": "1.5.0",
      "model_name": "HBoxModel",
      "state": {
       "_dom_classes": [],
       "_model_module": "@jupyter-widgets/controls",
       "_model_module_version": "1.5.0",
       "_model_name": "HBoxModel",
       "_view_count": null,
       "_view_module": "@jupyter-widgets/controls",
       "_view_module_version": "1.5.0",
       "_view_name": "HBoxView",
       "box_style": "",
       "children": [
        "IPY_MODEL_9683e04adf3e40a488f5cba9c47c3566",
        "IPY_MODEL_1f2d7edce7504ec0b359f1daf235944c",
        "IPY_MODEL_536a97e69ae943c699177492f37e6714"
       ],
       "layout": "IPY_MODEL_960d8e65a9484243baa14b4770df3b6b"
      }
     },
     "92515dc4bd044f4098b5e94df155b3eb": {
      "model_module": "@jupyter-widgets/controls",
      "model_module_version": "1.5.0",
      "model_name": "HBoxModel",
      "state": {
       "_dom_classes": [],
       "_model_module": "@jupyter-widgets/controls",
       "_model_module_version": "1.5.0",
       "_model_name": "HBoxModel",
       "_view_count": null,
       "_view_module": "@jupyter-widgets/controls",
       "_view_module_version": "1.5.0",
       "_view_name": "HBoxView",
       "box_style": "",
       "children": [
        "IPY_MODEL_524794f2b5d94fbe8b49a617541d15ee",
        "IPY_MODEL_b38b03c5ba7c4c779024ec510d22932f",
        "IPY_MODEL_47d94ef44bca4d349ff7404caac1ea52"
       ],
       "layout": "IPY_MODEL_f673191785814ff090690001af6cff66"
      }
     },
     "93b478afe0b544aa8138e3d571b6a14a": {
      "model_module": "@jupyter-widgets/controls",
      "model_module_version": "1.5.0",
      "model_name": "HTMLModel",
      "state": {
       "_dom_classes": [],
       "_model_module": "@jupyter-widgets/controls",
       "_model_module_version": "1.5.0",
       "_model_name": "HTMLModel",
       "_view_count": null,
       "_view_module": "@jupyter-widgets/controls",
       "_view_module_version": "1.5.0",
       "_view_name": "HTMLView",
       "description": "",
       "description_tooltip": null,
       "layout": "IPY_MODEL_97a6ac9861b74b4d9760d13cd4e1be06",
       "placeholder": "​",
       "style": "IPY_MODEL_4ad862902a60417dbf517ee20a8ba757",
       "value": "special_tokens_map.json: 100%"
      }
     },
     "95d048ce681245c4a257f9d7b8a01b31": {
      "model_module": "@jupyter-widgets/controls",
      "model_module_version": "1.5.0",
      "model_name": "ProgressStyleModel",
      "state": {
       "_model_module": "@jupyter-widgets/controls",
       "_model_module_version": "1.5.0",
       "_model_name": "ProgressStyleModel",
       "_view_count": null,
       "_view_module": "@jupyter-widgets/base",
       "_view_module_version": "1.2.0",
       "_view_name": "StyleView",
       "bar_color": null,
       "description_width": ""
      }
     },
     "960d8e65a9484243baa14b4770df3b6b": {
      "model_module": "@jupyter-widgets/base",
      "model_module_version": "1.2.0",
      "model_name": "LayoutModel",
      "state": {
       "_model_module": "@jupyter-widgets/base",
       "_model_module_version": "1.2.0",
       "_model_name": "LayoutModel",
       "_view_count": null,
       "_view_module": "@jupyter-widgets/base",
       "_view_module_version": "1.2.0",
       "_view_name": "LayoutView",
       "align_content": null,
       "align_items": null,
       "align_self": null,
       "border": null,
       "bottom": null,
       "display": null,
       "flex": null,
       "flex_flow": null,
       "grid_area": null,
       "grid_auto_columns": null,
       "grid_auto_flow": null,
       "grid_auto_rows": null,
       "grid_column": null,
       "grid_gap": null,
       "grid_row": null,
       "grid_template_areas": null,
       "grid_template_columns": null,
       "grid_template_rows": null,
       "height": null,
       "justify_content": null,
       "justify_items": null,
       "left": null,
       "margin": null,
       "max_height": null,
       "max_width": null,
       "min_height": null,
       "min_width": null,
       "object_fit": null,
       "object_position": null,
       "order": null,
       "overflow": null,
       "overflow_x": null,
       "overflow_y": null,
       "padding": null,
       "right": null,
       "top": null,
       "visibility": null,
       "width": null
      }
     },
     "9683e04adf3e40a488f5cba9c47c3566": {
      "model_module": "@jupyter-widgets/controls",
      "model_module_version": "1.5.0",
      "model_name": "HTMLModel",
      "state": {
       "_dom_classes": [],
       "_model_module": "@jupyter-widgets/controls",
       "_model_module_version": "1.5.0",
       "_model_name": "HTMLModel",
       "_view_count": null,
       "_view_module": "@jupyter-widgets/controls",
       "_view_module_version": "1.5.0",
       "_view_name": "HTMLView",
       "description": "",
       "description_tooltip": null,
       "layout": "IPY_MODEL_7aa05faeef52466eaf3cf38f450f2453",
       "placeholder": "​",
       "style": "IPY_MODEL_4e448882ac6c4d249d469ced24cd8efe",
       "value": "tokenizer_config.json: 100%"
      }
     },
     "97a6ac9861b74b4d9760d13cd4e1be06": {
      "model_module": "@jupyter-widgets/base",
      "model_module_version": "1.2.0",
      "model_name": "LayoutModel",
      "state": {
       "_model_module": "@jupyter-widgets/base",
       "_model_module_version": "1.2.0",
       "_model_name": "LayoutModel",
       "_view_count": null,
       "_view_module": "@jupyter-widgets/base",
       "_view_module_version": "1.2.0",
       "_view_name": "LayoutView",
       "align_content": null,
       "align_items": null,
       "align_self": null,
       "border": null,
       "bottom": null,
       "display": null,
       "flex": null,
       "flex_flow": null,
       "grid_area": null,
       "grid_auto_columns": null,
       "grid_auto_flow": null,
       "grid_auto_rows": null,
       "grid_column": null,
       "grid_gap": null,
       "grid_row": null,
       "grid_template_areas": null,
       "grid_template_columns": null,
       "grid_template_rows": null,
       "height": null,
       "justify_content": null,
       "justify_items": null,
       "left": null,
       "margin": null,
       "max_height": null,
       "max_width": null,
       "min_height": null,
       "min_width": null,
       "object_fit": null,
       "object_position": null,
       "order": null,
       "overflow": null,
       "overflow_x": null,
       "overflow_y": null,
       "padding": null,
       "right": null,
       "top": null,
       "visibility": null,
       "width": null
      }
     },
     "9844645c46e2451bbc159fe3602aae6f": {
      "model_module": "@jupyter-widgets/base",
      "model_module_version": "1.2.0",
      "model_name": "LayoutModel",
      "state": {
       "_model_module": "@jupyter-widgets/base",
       "_model_module_version": "1.2.0",
       "_model_name": "LayoutModel",
       "_view_count": null,
       "_view_module": "@jupyter-widgets/base",
       "_view_module_version": "1.2.0",
       "_view_name": "LayoutView",
       "align_content": null,
       "align_items": null,
       "align_self": null,
       "border": null,
       "bottom": null,
       "display": null,
       "flex": null,
       "flex_flow": null,
       "grid_area": null,
       "grid_auto_columns": null,
       "grid_auto_flow": null,
       "grid_auto_rows": null,
       "grid_column": null,
       "grid_gap": null,
       "grid_row": null,
       "grid_template_areas": null,
       "grid_template_columns": null,
       "grid_template_rows": null,
       "height": null,
       "justify_content": null,
       "justify_items": null,
       "left": null,
       "margin": null,
       "max_height": null,
       "max_width": null,
       "min_height": null,
       "min_width": null,
       "object_fit": null,
       "object_position": null,
       "order": null,
       "overflow": null,
       "overflow_x": null,
       "overflow_y": null,
       "padding": null,
       "right": null,
       "top": null,
       "visibility": null,
       "width": null
      }
     },
     "98ee1892ee6b42f0a24ca732166f3509": {
      "model_module": "@jupyter-widgets/controls",
      "model_module_version": "1.5.0",
      "model_name": "DescriptionStyleModel",
      "state": {
       "_model_module": "@jupyter-widgets/controls",
       "_model_module_version": "1.5.0",
       "_model_name": "DescriptionStyleModel",
       "_view_count": null,
       "_view_module": "@jupyter-widgets/base",
       "_view_module_version": "1.2.0",
       "_view_name": "StyleView",
       "description_width": ""
      }
     },
     "9982304bfb5147db84d3d07131f44f7e": {
      "model_module": "@jupyter-widgets/controls",
      "model_module_version": "1.5.0",
      "model_name": "FloatProgressModel",
      "state": {
       "_dom_classes": [],
       "_model_module": "@jupyter-widgets/controls",
       "_model_module_version": "1.5.0",
       "_model_name": "FloatProgressModel",
       "_view_count": null,
       "_view_module": "@jupyter-widgets/controls",
       "_view_module_version": "1.5.0",
       "_view_name": "ProgressView",
       "bar_style": "success",
       "description": "",
       "description_tooltip": null,
       "layout": "IPY_MODEL_4ee7baf8ab32408dbe09208962c569c1",
       "max": 119.0,
       "min": 0.0,
       "orientation": "horizontal",
       "style": "IPY_MODEL_fa914ded8f2c402697de1c6306403e3a",
       "value": 119.0
      }
     },
     "9ab4bcb5bac54f93ab94c5ebb05a8eb8": {
      "model_module": "@jupyter-widgets/controls",
      "model_module_version": "1.5.0",
      "model_name": "HTMLModel",
      "state": {
       "_dom_classes": [],
       "_model_module": "@jupyter-widgets/controls",
       "_model_module_version": "1.5.0",
       "_model_name": "HTMLModel",
       "_view_count": null,
       "_view_module": "@jupyter-widgets/controls",
       "_view_module_version": "1.5.0",
       "_view_name": "HTMLView",
       "description": "",
       "description_tooltip": null,
       "layout": "IPY_MODEL_836da142db3c460592f5eb168b0ad8fe",
       "placeholder": "​",
       "style": "IPY_MODEL_b4fa78455d1141f495ba3dba7105892a",
       "value": " 112/112 [00:00&lt;00:00, 10.0kB/s]"
      }
     },
     "9ae5c94f2d6a4ec9b8128f92e689e5e0": {
      "model_module": "@jupyter-widgets/controls",
      "model_module_version": "1.5.0",
      "model_name": "HTMLModel",
      "state": {
       "_dom_classes": [],
       "_model_module": "@jupyter-widgets/controls",
       "_model_module_version": "1.5.0",
       "_model_name": "HTMLModel",
       "_view_count": null,
       "_view_module": "@jupyter-widgets/controls",
       "_view_module_version": "1.5.0",
       "_view_name": "HTMLView",
       "description": "",
       "description_tooltip": null,
       "layout": "IPY_MODEL_e9588cbfdd8446f19d50caa5e7b7e3f5",
       "placeholder": "​",
       "style": "IPY_MODEL_ac2fca1b25054e76896627c49bf32e0b",
       "value": " 935/935 [00:00&lt;00:00, 72.9kB/s]"
      }
     },
     "9c1b16ba346348b0ae325619a54faedf": {
      "model_module": "@jupyter-widgets/base",
      "model_module_version": "1.2.0",
      "model_name": "LayoutModel",
      "state": {
       "_model_module": "@jupyter-widgets/base",
       "_model_module_version": "1.2.0",
       "_model_name": "LayoutModel",
       "_view_count": null,
       "_view_module": "@jupyter-widgets/base",
       "_view_module_version": "1.2.0",
       "_view_name": "LayoutView",
       "align_content": null,
       "align_items": null,
       "align_self": null,
       "border": null,
       "bottom": null,
       "display": null,
       "flex": null,
       "flex_flow": null,
       "grid_area": null,
       "grid_auto_columns": null,
       "grid_auto_flow": null,
       "grid_auto_rows": null,
       "grid_column": null,
       "grid_gap": null,
       "grid_row": null,
       "grid_template_areas": null,
       "grid_template_columns": null,
       "grid_template_rows": null,
       "height": null,
       "justify_content": null,
       "justify_items": null,
       "left": null,
       "margin": null,
       "max_height": null,
       "max_width": null,
       "min_height": null,
       "min_width": null,
       "object_fit": null,
       "object_position": null,
       "order": null,
       "overflow": null,
       "overflow_x": null,
       "overflow_y": null,
       "padding": null,
       "right": null,
       "top": null,
       "visibility": null,
       "width": null
      }
     },
     "9ce9049d33454f808bcbf074e78b72f2": {
      "model_module": "@jupyter-widgets/controls",
      "model_module_version": "1.5.0",
      "model_name": "DescriptionStyleModel",
      "state": {
       "_model_module": "@jupyter-widgets/controls",
       "_model_module_version": "1.5.0",
       "_model_name": "DescriptionStyleModel",
       "_view_count": null,
       "_view_module": "@jupyter-widgets/base",
       "_view_module_version": "1.2.0",
       "_view_name": "StyleView",
       "description_width": ""
      }
     },
     "9cea77837dad4c438bba4eb1aba7b58c": {
      "model_module": "@jupyter-widgets/controls",
      "model_module_version": "1.5.0",
      "model_name": "HTMLModel",
      "state": {
       "_dom_classes": [],
       "_model_module": "@jupyter-widgets/controls",
       "_model_module_version": "1.5.0",
       "_model_name": "HTMLModel",
       "_view_count": null,
       "_view_module": "@jupyter-widgets/controls",
       "_view_module_version": "1.5.0",
       "_view_name": "HTMLView",
       "description": "",
       "description_tooltip": null,
       "layout": "IPY_MODEL_0cede622eb0e4527b1319c4c737182c4",
       "placeholder": "​",
       "style": "IPY_MODEL_a78420ff71104509b833dab9c0042c26",
       "value": " 65227/65227 [15:57&lt;00:00, 69.15it/s]"
      }
     },
     "9d733198e6674ad988b49a697bf0288a": {
      "model_module": "@jupyter-widgets/controls",
      "model_module_version": "1.5.0",
      "model_name": "HBoxModel",
      "state": {
       "_dom_classes": [],
       "_model_module": "@jupyter-widgets/controls",
       "_model_module_version": "1.5.0",
       "_model_name": "HBoxModel",
       "_view_count": null,
       "_view_module": "@jupyter-widgets/controls",
       "_view_module_version": "1.5.0",
       "_view_name": "HBoxView",
       "box_style": "",
       "children": [
        "IPY_MODEL_4d414d88aebf4e6a8d7da394184b7cfb",
        "IPY_MODEL_123a5b79a48d4d38905aec157993f429",
        "IPY_MODEL_3d675b9d871149949a733627d3c15bd8"
       ],
       "layout": "IPY_MODEL_dc30a504923a4429880a4a61d3fa58f1"
      }
     },
     "9dff8588721040ea930732d3aeaad760": {
      "model_module": "@jupyter-widgets/controls",
      "model_module_version": "1.5.0",
      "model_name": "DescriptionStyleModel",
      "state": {
       "_model_module": "@jupyter-widgets/controls",
       "_model_module_version": "1.5.0",
       "_model_name": "DescriptionStyleModel",
       "_view_count": null,
       "_view_module": "@jupyter-widgets/base",
       "_view_module_version": "1.2.0",
       "_view_name": "StyleView",
       "description_width": ""
      }
     },
     "9f63fd53130349869fc1824401040bbb": {
      "model_module": "@jupyter-widgets/base",
      "model_module_version": "1.2.0",
      "model_name": "LayoutModel",
      "state": {
       "_model_module": "@jupyter-widgets/base",
       "_model_module_version": "1.2.0",
       "_model_name": "LayoutModel",
       "_view_count": null,
       "_view_module": "@jupyter-widgets/base",
       "_view_module_version": "1.2.0",
       "_view_name": "LayoutView",
       "align_content": null,
       "align_items": null,
       "align_self": null,
       "border": null,
       "bottom": null,
       "display": null,
       "flex": null,
       "flex_flow": null,
       "grid_area": null,
       "grid_auto_columns": null,
       "grid_auto_flow": null,
       "grid_auto_rows": null,
       "grid_column": null,
       "grid_gap": null,
       "grid_row": null,
       "grid_template_areas": null,
       "grid_template_columns": null,
       "grid_template_rows": null,
       "height": null,
       "justify_content": null,
       "justify_items": null,
       "left": null,
       "margin": null,
       "max_height": null,
       "max_width": null,
       "min_height": null,
       "min_width": null,
       "object_fit": null,
       "object_position": null,
       "order": null,
       "overflow": null,
       "overflow_x": null,
       "overflow_y": null,
       "padding": null,
       "right": null,
       "top": null,
       "visibility": null,
       "width": null
      }
     },
     "a06e34efa09e40c19a6bb1ba7316e803": {
      "model_module": "@jupyter-widgets/base",
      "model_module_version": "1.2.0",
      "model_name": "LayoutModel",
      "state": {
       "_model_module": "@jupyter-widgets/base",
       "_model_module_version": "1.2.0",
       "_model_name": "LayoutModel",
       "_view_count": null,
       "_view_module": "@jupyter-widgets/base",
       "_view_module_version": "1.2.0",
       "_view_name": "LayoutView",
       "align_content": null,
       "align_items": null,
       "align_self": null,
       "border": null,
       "bottom": null,
       "display": null,
       "flex": null,
       "flex_flow": null,
       "grid_area": null,
       "grid_auto_columns": null,
       "grid_auto_flow": null,
       "grid_auto_rows": null,
       "grid_column": null,
       "grid_gap": null,
       "grid_row": null,
       "grid_template_areas": null,
       "grid_template_columns": null,
       "grid_template_rows": null,
       "height": null,
       "justify_content": null,
       "justify_items": null,
       "left": null,
       "margin": null,
       "max_height": null,
       "max_width": null,
       "min_height": null,
       "min_width": null,
       "object_fit": null,
       "object_position": null,
       "order": null,
       "overflow": null,
       "overflow_x": null,
       "overflow_y": null,
       "padding": null,
       "right": null,
       "top": null,
       "visibility": null,
       "width": null
      }
     },
     "a26cf08f161846c3906f036e784179a7": {
      "model_module": "@jupyter-widgets/controls",
      "model_module_version": "1.5.0",
      "model_name": "HBoxModel",
      "state": {
       "_dom_classes": [],
       "_model_module": "@jupyter-widgets/controls",
       "_model_module_version": "1.5.0",
       "_model_name": "HBoxModel",
       "_view_count": null,
       "_view_module": "@jupyter-widgets/controls",
       "_view_module_version": "1.5.0",
       "_view_name": "HBoxView",
       "box_style": "",
       "children": [
        "IPY_MODEL_93b478afe0b544aa8138e3d571b6a14a",
        "IPY_MODEL_3ad3281175da48a7adb72428f9894d80",
        "IPY_MODEL_9ab4bcb5bac54f93ab94c5ebb05a8eb8"
       ],
       "layout": "IPY_MODEL_9c1b16ba346348b0ae325619a54faedf"
      }
     },
     "a2ad363e7a834d4094ed03394cc0b9f8": {
      "model_module": "@jupyter-widgets/controls",
      "model_module_version": "1.5.0",
      "model_name": "DescriptionStyleModel",
      "state": {
       "_model_module": "@jupyter-widgets/controls",
       "_model_module_version": "1.5.0",
       "_model_name": "DescriptionStyleModel",
       "_view_count": null,
       "_view_module": "@jupyter-widgets/base",
       "_view_module_version": "1.2.0",
       "_view_name": "StyleView",
       "description_width": ""
      }
     },
     "a2cd74340db24b93be33b1ce0442a771": {
      "model_module": "@jupyter-widgets/controls",
      "model_module_version": "1.5.0",
      "model_name": "DescriptionStyleModel",
      "state": {
       "_model_module": "@jupyter-widgets/controls",
       "_model_module_version": "1.5.0",
       "_model_name": "DescriptionStyleModel",
       "_view_count": null,
       "_view_module": "@jupyter-widgets/base",
       "_view_module_version": "1.2.0",
       "_view_name": "StyleView",
       "description_width": ""
      }
     },
     "a3f2a956969343aca74986044a6e72ca": {
      "model_module": "@jupyter-widgets/controls",
      "model_module_version": "1.5.0",
      "model_name": "HTMLModel",
      "state": {
       "_dom_classes": [],
       "_model_module": "@jupyter-widgets/controls",
       "_model_module_version": "1.5.0",
       "_model_name": "HTMLModel",
       "_view_count": null,
       "_view_module": "@jupyter-widgets/controls",
       "_view_module_version": "1.5.0",
       "_view_name": "HTMLView",
       "description": "",
       "description_tooltip": null,
       "layout": "IPY_MODEL_0d89ddd132e1479da09f84dc5378af03",
       "placeholder": "​",
       "style": "IPY_MODEL_557ff6af719e4258ac45cb479d0cf342",
       "value": "100%"
      }
     },
     "a608b387395c467393bb4c03bacceb4a": {
      "model_module": "@jupyter-widgets/base",
      "model_module_version": "1.2.0",
      "model_name": "LayoutModel",
      "state": {
       "_model_module": "@jupyter-widgets/base",
       "_model_module_version": "1.2.0",
       "_model_name": "LayoutModel",
       "_view_count": null,
       "_view_module": "@jupyter-widgets/base",
       "_view_module_version": "1.2.0",
       "_view_name": "LayoutView",
       "align_content": null,
       "align_items": null,
       "align_self": null,
       "border": null,
       "bottom": null,
       "display": null,
       "flex": null,
       "flex_flow": null,
       "grid_area": null,
       "grid_auto_columns": null,
       "grid_auto_flow": null,
       "grid_auto_rows": null,
       "grid_column": null,
       "grid_gap": null,
       "grid_row": null,
       "grid_template_areas": null,
       "grid_template_columns": null,
       "grid_template_rows": null,
       "height": null,
       "justify_content": null,
       "justify_items": null,
       "left": null,
       "margin": null,
       "max_height": null,
       "max_width": null,
       "min_height": null,
       "min_width": null,
       "object_fit": null,
       "object_position": null,
       "order": null,
       "overflow": null,
       "overflow_x": null,
       "overflow_y": null,
       "padding": null,
       "right": null,
       "top": null,
       "visibility": null,
       "width": null
      }
     },
     "a66d088041ed478fa9adcf7b282ca74f": {
      "model_module": "@jupyter-widgets/base",
      "model_module_version": "1.2.0",
      "model_name": "LayoutModel",
      "state": {
       "_model_module": "@jupyter-widgets/base",
       "_model_module_version": "1.2.0",
       "_model_name": "LayoutModel",
       "_view_count": null,
       "_view_module": "@jupyter-widgets/base",
       "_view_module_version": "1.2.0",
       "_view_name": "LayoutView",
       "align_content": null,
       "align_items": null,
       "align_self": null,
       "border": null,
       "bottom": null,
       "display": null,
       "flex": null,
       "flex_flow": null,
       "grid_area": null,
       "grid_auto_columns": null,
       "grid_auto_flow": null,
       "grid_auto_rows": null,
       "grid_column": null,
       "grid_gap": null,
       "grid_row": null,
       "grid_template_areas": null,
       "grid_template_columns": null,
       "grid_template_rows": null,
       "height": null,
       "justify_content": null,
       "justify_items": null,
       "left": null,
       "margin": null,
       "max_height": null,
       "max_width": null,
       "min_height": null,
       "min_width": null,
       "object_fit": null,
       "object_position": null,
       "order": null,
       "overflow": null,
       "overflow_x": null,
       "overflow_y": null,
       "padding": null,
       "right": null,
       "top": null,
       "visibility": null,
       "width": null
      }
     },
     "a78420ff71104509b833dab9c0042c26": {
      "model_module": "@jupyter-widgets/controls",
      "model_module_version": "1.5.0",
      "model_name": "DescriptionStyleModel",
      "state": {
       "_model_module": "@jupyter-widgets/controls",
       "_model_module_version": "1.5.0",
       "_model_name": "DescriptionStyleModel",
       "_view_count": null,
       "_view_module": "@jupyter-widgets/base",
       "_view_module_version": "1.2.0",
       "_view_name": "StyleView",
       "description_width": ""
      }
     },
     "a7cc00a9dcec4717b3676d24f93ded8a": {
      "model_module": "@jupyter-widgets/controls",
      "model_module_version": "1.5.0",
      "model_name": "ProgressStyleModel",
      "state": {
       "_model_module": "@jupyter-widgets/controls",
       "_model_module_version": "1.5.0",
       "_model_name": "ProgressStyleModel",
       "_view_count": null,
       "_view_module": "@jupyter-widgets/base",
       "_view_module_version": "1.2.0",
       "_view_name": "StyleView",
       "bar_color": null,
       "description_width": ""
      }
     },
     "a807fae7d7874e9db8cf670afd372c68": {
      "model_module": "@jupyter-widgets/controls",
      "model_module_version": "1.5.0",
      "model_name": "HBoxModel",
      "state": {
       "_dom_classes": [],
       "_model_module": "@jupyter-widgets/controls",
       "_model_module_version": "1.5.0",
       "_model_name": "HBoxModel",
       "_view_count": null,
       "_view_module": "@jupyter-widgets/controls",
       "_view_module_version": "1.5.0",
       "_view_name": "HBoxView",
       "box_style": "",
       "children": [
        "IPY_MODEL_ea3d422e585848c9bc0f189d963cdcae",
        "IPY_MODEL_be0f8b9af3264ac0bc7b9d630755df65",
        "IPY_MODEL_c8086568fff64159a4c76dbe401a9ff8"
       ],
       "layout": "IPY_MODEL_c6b2e764b67340798a5922f0b77c863b"
      }
     },
     "a8f44462ecd74432b6f20250955372f2": {
      "model_module": "@jupyter-widgets/controls",
      "model_module_version": "1.5.0",
      "model_name": "DescriptionStyleModel",
      "state": {
       "_model_module": "@jupyter-widgets/controls",
       "_model_module_version": "1.5.0",
       "_model_name": "DescriptionStyleModel",
       "_view_count": null,
       "_view_module": "@jupyter-widgets/base",
       "_view_module_version": "1.2.0",
       "_view_name": "StyleView",
       "description_width": ""
      }
     },
     "a98899459573430f87cf62904d4a92b7": {
      "model_module": "@jupyter-widgets/controls",
      "model_module_version": "1.5.0",
      "model_name": "HTMLModel",
      "state": {
       "_dom_classes": [],
       "_model_module": "@jupyter-widgets/controls",
       "_model_module_version": "1.5.0",
       "_model_name": "HTMLModel",
       "_view_count": null,
       "_view_module": "@jupyter-widgets/controls",
       "_view_module_version": "1.5.0",
       "_view_name": "HTMLView",
       "description": "",
       "description_tooltip": null,
       "layout": "IPY_MODEL_c0510c756eee40a0b03a017363917c1a",
       "placeholder": "​",
       "style": "IPY_MODEL_04d8c61db36f4fbeac29a324bd336863",
       "value": " 466k/466k [00:00&lt;00:00, 16.8MB/s]"
      }
     },
     "aa36b8714f5943aea45fe8cf926b73a3": {
      "model_module": "@jupyter-widgets/controls",
      "model_module_version": "1.5.0",
      "model_name": "FloatProgressModel",
      "state": {
       "_dom_classes": [],
       "_model_module": "@jupyter-widgets/controls",
       "_model_module_version": "1.5.0",
       "_model_name": "FloatProgressModel",
       "_view_count": null,
       "_view_module": "@jupyter-widgets/controls",
       "_view_module_version": "1.5.0",
       "_view_name": "ProgressView",
       "bar_style": "success",
       "description": "",
       "description_tooltip": null,
       "layout": "IPY_MODEL_25b6453916dc406b998724953f54fa36",
       "max": 125971.0,
       "min": 0.0,
       "orientation": "horizontal",
       "style": "IPY_MODEL_1c659ccae76047f9ba6f2c0386621f54",
       "value": 125971.0
      }
     },
     "ab3fa0404ddb4e30a56db5ede19449a3": {
      "model_module": "@jupyter-widgets/controls",
      "model_module_version": "1.5.0",
      "model_name": "HTMLModel",
      "state": {
       "_dom_classes": [],
       "_model_module": "@jupyter-widgets/controls",
       "_model_module_version": "1.5.0",
       "_model_name": "HTMLModel",
       "_view_count": null,
       "_view_module": "@jupyter-widgets/controls",
       "_view_module_version": "1.5.0",
       "_view_name": "HTMLView",
       "description": "",
       "description_tooltip": null,
       "layout": "IPY_MODEL_eb12b8c558d747c2bd7fc783bf02567c",
       "placeholder": "​",
       "style": "IPY_MODEL_7e7e91a96130404aa83080fac47d2b58",
       "value": " 232k/232k [00:00&lt;00:00, 4.10MB/s]"
      }
     },
     "ab914ad5a6dd4d01a1678c521d770778": {
      "model_module": "@jupyter-widgets/controls",
      "model_module_version": "1.5.0",
      "model_name": "DescriptionStyleModel",
      "state": {
       "_model_module": "@jupyter-widgets/controls",
       "_model_module_version": "1.5.0",
       "_model_name": "DescriptionStyleModel",
       "_view_count": null,
       "_view_module": "@jupyter-widgets/base",
       "_view_module_version": "1.2.0",
       "_view_name": "StyleView",
       "description_width": ""
      }
     },
     "ac2fca1b25054e76896627c49bf32e0b": {
      "model_module": "@jupyter-widgets/controls",
      "model_module_version": "1.5.0",
      "model_name": "DescriptionStyleModel",
      "state": {
       "_model_module": "@jupyter-widgets/controls",
       "_model_module_version": "1.5.0",
       "_model_name": "DescriptionStyleModel",
       "_view_count": null,
       "_view_module": "@jupyter-widgets/base",
       "_view_module_version": "1.2.0",
       "_view_name": "StyleView",
       "description_width": ""
      }
     },
     "acc3d9170ca341e59730bcc786db082f": {
      "model_module": "@jupyter-widgets/controls",
      "model_module_version": "1.5.0",
      "model_name": "HTMLModel",
      "state": {
       "_dom_classes": [],
       "_model_module": "@jupyter-widgets/controls",
       "_model_module_version": "1.5.0",
       "_model_name": "HTMLModel",
       "_view_count": null,
       "_view_module": "@jupyter-widgets/controls",
       "_view_module_version": "1.5.0",
       "_view_name": "HTMLView",
       "description": "",
       "description_tooltip": null,
       "layout": "IPY_MODEL_61956d4e8caf46c694075afd64b85e7a",
       "placeholder": "​",
       "style": "IPY_MODEL_1d262b60b20e43df922842426c2778be",
       "value": "tokenizer_config.json: 100%"
      }
     },
     "af44314eca4b42769e5dd5d52e23bf60": {
      "model_module": "@jupyter-widgets/base",
      "model_module_version": "1.2.0",
      "model_name": "LayoutModel",
      "state": {
       "_model_module": "@jupyter-widgets/base",
       "_model_module_version": "1.2.0",
       "_model_name": "LayoutModel",
       "_view_count": null,
       "_view_module": "@jupyter-widgets/base",
       "_view_module_version": "1.2.0",
       "_view_name": "LayoutView",
       "align_content": null,
       "align_items": null,
       "align_self": null,
       "border": null,
       "bottom": null,
       "display": null,
       "flex": null,
       "flex_flow": null,
       "grid_area": null,
       "grid_auto_columns": null,
       "grid_auto_flow": null,
       "grid_auto_rows": null,
       "grid_column": null,
       "grid_gap": null,
       "grid_row": null,
       "grid_template_areas": null,
       "grid_template_columns": null,
       "grid_template_rows": null,
       "height": null,
       "justify_content": null,
       "justify_items": null,
       "left": null,
       "margin": null,
       "max_height": null,
       "max_width": null,
       "min_height": null,
       "min_width": null,
       "object_fit": null,
       "object_position": null,
       "order": null,
       "overflow": null,
       "overflow_x": null,
       "overflow_y": null,
       "padding": null,
       "right": null,
       "top": null,
       "visibility": null,
       "width": null
      }
     },
     "af4f8fa3da3e4b73968892b48e4acbc2": {
      "model_module": "@jupyter-widgets/controls",
      "model_module_version": "1.5.0",
      "model_name": "HTMLModel",
      "state": {
       "_dom_classes": [],
       "_model_module": "@jupyter-widgets/controls",
       "_model_module_version": "1.5.0",
       "_model_name": "HTMLModel",
       "_view_count": null,
       "_view_module": "@jupyter-widgets/controls",
       "_view_module_version": "1.5.0",
       "_view_name": "HTMLView",
       "description": "",
       "description_tooltip": null,
       "layout": "IPY_MODEL_628c6fc5e41747989186720e028b07cd",
       "placeholder": "​",
       "style": "IPY_MODEL_a2ad363e7a834d4094ed03394cc0b9f8",
       "value": " 119/119 [00:00&lt;00:00, 8.30kB/s]"
      }
     },
     "b2dc7216bb4e46f0983e5a1227d05444": {
      "model_module": "@jupyter-widgets/controls",
      "model_module_version": "1.5.0",
      "model_name": "HTMLModel",
      "state": {
       "_dom_classes": [],
       "_model_module": "@jupyter-widgets/controls",
       "_model_module_version": "1.5.0",
       "_model_name": "HTMLModel",
       "_view_count": null,
       "_view_module": "@jupyter-widgets/controls",
       "_view_module_version": "1.5.0",
       "_view_name": "HTMLView",
       "description": "",
       "description_tooltip": null,
       "layout": "IPY_MODEL_d38cf58a31a04a3787cd7392b64a3814",
       "placeholder": "​",
       "style": "IPY_MODEL_83e1ff892b954a6e8412e3511d2e1538",
       "value": "100%"
      }
     },
     "b38b03c5ba7c4c779024ec510d22932f": {
      "model_module": "@jupyter-widgets/controls",
      "model_module_version": "1.5.0",
      "model_name": "FloatProgressModel",
      "state": {
       "_dom_classes": [],
       "_model_module": "@jupyter-widgets/controls",
       "_model_module_version": "1.5.0",
       "_model_name": "FloatProgressModel",
       "_view_count": null,
       "_view_module": "@jupyter-widgets/controls",
       "_view_module_version": "1.5.0",
       "_view_name": "ProgressView",
       "bar_style": "success",
       "description": "",
       "description_tooltip": null,
       "layout": "IPY_MODEL_a06e34efa09e40c19a6bb1ba7316e803",
       "max": 456318.0,
       "min": 0.0,
       "orientation": "horizontal",
       "style": "IPY_MODEL_a7cc00a9dcec4717b3676d24f93ded8a",
       "value": 456318.0
      }
     },
     "b485799b9d50425e9c51f76260cb5c00": {
      "model_module": "@jupyter-widgets/base",
      "model_module_version": "1.2.0",
      "model_name": "LayoutModel",
      "state": {
       "_model_module": "@jupyter-widgets/base",
       "_model_module_version": "1.2.0",
       "_model_name": "LayoutModel",
       "_view_count": null,
       "_view_module": "@jupyter-widgets/base",
       "_view_module_version": "1.2.0",
       "_view_name": "LayoutView",
       "align_content": null,
       "align_items": null,
       "align_self": null,
       "border": null,
       "bottom": null,
       "display": null,
       "flex": null,
       "flex_flow": null,
       "grid_area": null,
       "grid_auto_columns": null,
       "grid_auto_flow": null,
       "grid_auto_rows": null,
       "grid_column": null,
       "grid_gap": null,
       "grid_row": null,
       "grid_template_areas": null,
       "grid_template_columns": null,
       "grid_template_rows": null,
       "height": null,
       "justify_content": null,
       "justify_items": null,
       "left": null,
       "margin": null,
       "max_height": null,
       "max_width": null,
       "min_height": null,
       "min_width": null,
       "object_fit": null,
       "object_position": null,
       "order": null,
       "overflow": null,
       "overflow_x": null,
       "overflow_y": null,
       "padding": null,
       "right": null,
       "top": null,
       "visibility": null,
       "width": null
      }
     },
     "b4dbd86e22c744efb55b6f96842fd0b3": {
      "model_module": "@jupyter-widgets/controls",
      "model_module_version": "1.5.0",
      "model_name": "HBoxModel",
      "state": {
       "_dom_classes": [],
       "_model_module": "@jupyter-widgets/controls",
       "_model_module_version": "1.5.0",
       "_model_name": "HBoxModel",
       "_view_count": null,
       "_view_module": "@jupyter-widgets/controls",
       "_view_module_version": "1.5.0",
       "_view_name": "HBoxView",
       "box_style": "",
       "children": [
        "IPY_MODEL_7a66e83fbc89425384e6584947283eb3",
        "IPY_MODEL_1a136eb640cf4e6894e1d976d4e1e11a",
        "IPY_MODEL_a98899459573430f87cf62904d4a92b7"
       ],
       "layout": "IPY_MODEL_403efe63cf6542c2b211418016302bf0"
      }
     },
     "b4fa78455d1141f495ba3dba7105892a": {
      "model_module": "@jupyter-widgets/controls",
      "model_module_version": "1.5.0",
      "model_name": "DescriptionStyleModel",
      "state": {
       "_model_module": "@jupyter-widgets/controls",
       "_model_module_version": "1.5.0",
       "_model_name": "DescriptionStyleModel",
       "_view_count": null,
       "_view_module": "@jupyter-widgets/base",
       "_view_module_version": "1.2.0",
       "_view_name": "StyleView",
       "description_width": ""
      }
     },
     "b4faa4ac115f4d11b2135c14dd0974f7": {
      "model_module": "@jupyter-widgets/base",
      "model_module_version": "1.2.0",
      "model_name": "LayoutModel",
      "state": {
       "_model_module": "@jupyter-widgets/base",
       "_model_module_version": "1.2.0",
       "_model_name": "LayoutModel",
       "_view_count": null,
       "_view_module": "@jupyter-widgets/base",
       "_view_module_version": "1.2.0",
       "_view_name": "LayoutView",
       "align_content": null,
       "align_items": null,
       "align_self": null,
       "border": null,
       "bottom": null,
       "display": null,
       "flex": null,
       "flex_flow": null,
       "grid_area": null,
       "grid_auto_columns": null,
       "grid_auto_flow": null,
       "grid_auto_rows": null,
       "grid_column": null,
       "grid_gap": null,
       "grid_row": null,
       "grid_template_areas": null,
       "grid_template_columns": null,
       "grid_template_rows": null,
       "height": null,
       "justify_content": null,
       "justify_items": null,
       "left": null,
       "margin": null,
       "max_height": null,
       "max_width": null,
       "min_height": null,
       "min_width": null,
       "object_fit": null,
       "object_position": null,
       "order": null,
       "overflow": null,
       "overflow_x": null,
       "overflow_y": null,
       "padding": null,
       "right": null,
       "top": null,
       "visibility": null,
       "width": null
      }
     },
     "b59801432ccd4372a562d748847223cc": {
      "model_module": "@jupyter-widgets/base",
      "model_module_version": "1.2.0",
      "model_name": "LayoutModel",
      "state": {
       "_model_module": "@jupyter-widgets/base",
       "_model_module_version": "1.2.0",
       "_model_name": "LayoutModel",
       "_view_count": null,
       "_view_module": "@jupyter-widgets/base",
       "_view_module_version": "1.2.0",
       "_view_name": "LayoutView",
       "align_content": null,
       "align_items": null,
       "align_self": null,
       "border": null,
       "bottom": null,
       "display": null,
       "flex": null,
       "flex_flow": null,
       "grid_area": null,
       "grid_auto_columns": null,
       "grid_auto_flow": null,
       "grid_auto_rows": null,
       "grid_column": null,
       "grid_gap": null,
       "grid_row": null,
       "grid_template_areas": null,
       "grid_template_columns": null,
       "grid_template_rows": null,
       "height": null,
       "justify_content": null,
       "justify_items": null,
       "left": null,
       "margin": null,
       "max_height": null,
       "max_width": null,
       "min_height": null,
       "min_width": null,
       "object_fit": null,
       "object_position": null,
       "order": null,
       "overflow": null,
       "overflow_x": null,
       "overflow_y": null,
       "padding": null,
       "right": null,
       "top": null,
       "visibility": null,
       "width": null
      }
     },
     "b6f87dd844c544d2b75f68aedf69fc52": {
      "model_module": "@jupyter-widgets/base",
      "model_module_version": "1.2.0",
      "model_name": "LayoutModel",
      "state": {
       "_model_module": "@jupyter-widgets/base",
       "_model_module_version": "1.2.0",
       "_model_name": "LayoutModel",
       "_view_count": null,
       "_view_module": "@jupyter-widgets/base",
       "_view_module_version": "1.2.0",
       "_view_name": "LayoutView",
       "align_content": null,
       "align_items": null,
       "align_self": null,
       "border": null,
       "bottom": null,
       "display": null,
       "flex": null,
       "flex_flow": null,
       "grid_area": null,
       "grid_auto_columns": null,
       "grid_auto_flow": null,
       "grid_auto_rows": null,
       "grid_column": null,
       "grid_gap": null,
       "grid_row": null,
       "grid_template_areas": null,
       "grid_template_columns": null,
       "grid_template_rows": null,
       "height": null,
       "justify_content": null,
       "justify_items": null,
       "left": null,
       "margin": null,
       "max_height": null,
       "max_width": null,
       "min_height": null,
       "min_width": null,
       "object_fit": null,
       "object_position": null,
       "order": null,
       "overflow": null,
       "overflow_x": null,
       "overflow_y": null,
       "padding": null,
       "right": null,
       "top": null,
       "visibility": null,
       "width": null
      }
     },
     "b7aaa07e9cde48c695d3821d49e963ea": {
      "model_module": "@jupyter-widgets/base",
      "model_module_version": "1.2.0",
      "model_name": "LayoutModel",
      "state": {
       "_model_module": "@jupyter-widgets/base",
       "_model_module_version": "1.2.0",
       "_model_name": "LayoutModel",
       "_view_count": null,
       "_view_module": "@jupyter-widgets/base",
       "_view_module_version": "1.2.0",
       "_view_name": "LayoutView",
       "align_content": null,
       "align_items": null,
       "align_self": null,
       "border": null,
       "bottom": null,
       "display": null,
       "flex": null,
       "flex_flow": null,
       "grid_area": null,
       "grid_auto_columns": null,
       "grid_auto_flow": null,
       "grid_auto_rows": null,
       "grid_column": null,
       "grid_gap": null,
       "grid_row": null,
       "grid_template_areas": null,
       "grid_template_columns": null,
       "grid_template_rows": null,
       "height": null,
       "justify_content": null,
       "justify_items": null,
       "left": null,
       "margin": null,
       "max_height": null,
       "max_width": null,
       "min_height": null,
       "min_width": null,
       "object_fit": null,
       "object_position": null,
       "order": null,
       "overflow": null,
       "overflow_x": null,
       "overflow_y": null,
       "padding": null,
       "right": null,
       "top": null,
       "visibility": null,
       "width": null
      }
     },
     "b8daca6e5e6e493e99ca26f9549c7013": {
      "model_module": "@jupyter-widgets/controls",
      "model_module_version": "1.5.0",
      "model_name": "DescriptionStyleModel",
      "state": {
       "_model_module": "@jupyter-widgets/controls",
       "_model_module_version": "1.5.0",
       "_model_name": "DescriptionStyleModel",
       "_view_count": null,
       "_view_module": "@jupyter-widgets/base",
       "_view_module_version": "1.2.0",
       "_view_name": "StyleView",
       "description_width": ""
      }
     },
     "ba46cd89eb3e4d79a7129958a30c4fc1": {
      "model_module": "@jupyter-widgets/controls",
      "model_module_version": "1.5.0",
      "model_name": "FloatProgressModel",
      "state": {
       "_dom_classes": [],
       "_model_module": "@jupyter-widgets/controls",
       "_model_module_version": "1.5.0",
       "_model_name": "FloatProgressModel",
       "_view_count": null,
       "_view_module": "@jupyter-widgets/controls",
       "_view_module_version": "1.5.0",
       "_view_name": "ProgressView",
       "bar_style": "success",
       "description": "",
       "description_tooltip": null,
       "layout": "IPY_MODEL_fd5bf151cdad40e89471f9fe147a74f3",
       "max": 1629437147.0,
       "min": 0.0,
       "orientation": "horizontal",
       "style": "IPY_MODEL_1bd57db769424b809d92e1238217e08d",
       "value": 1629437147.0
      }
     },
     "bb21f18abedd47dea0ffbed549e7194b": {
      "model_module": "@jupyter-widgets/base",
      "model_module_version": "1.2.0",
      "model_name": "LayoutModel",
      "state": {
       "_model_module": "@jupyter-widgets/base",
       "_model_module_version": "1.2.0",
       "_model_name": "LayoutModel",
       "_view_count": null,
       "_view_module": "@jupyter-widgets/base",
       "_view_module_version": "1.2.0",
       "_view_name": "LayoutView",
       "align_content": null,
       "align_items": null,
       "align_self": null,
       "border": null,
       "bottom": null,
       "display": null,
       "flex": null,
       "flex_flow": null,
       "grid_area": null,
       "grid_auto_columns": null,
       "grid_auto_flow": null,
       "grid_auto_rows": null,
       "grid_column": null,
       "grid_gap": null,
       "grid_row": null,
       "grid_template_areas": null,
       "grid_template_columns": null,
       "grid_template_rows": null,
       "height": null,
       "justify_content": null,
       "justify_items": null,
       "left": null,
       "margin": null,
       "max_height": null,
       "max_width": null,
       "min_height": null,
       "min_width": null,
       "object_fit": null,
       "object_position": null,
       "order": null,
       "overflow": null,
       "overflow_x": null,
       "overflow_y": null,
       "padding": null,
       "right": null,
       "top": null,
       "visibility": null,
       "width": null
      }
     },
     "bbfe3c8000424974b151feee3e39cfb4": {
      "model_module": "@jupyter-widgets/controls",
      "model_module_version": "1.5.0",
      "model_name": "ProgressStyleModel",
      "state": {
       "_model_module": "@jupyter-widgets/controls",
       "_model_module_version": "1.5.0",
       "_model_name": "ProgressStyleModel",
       "_view_count": null,
       "_view_module": "@jupyter-widgets/base",
       "_view_module_version": "1.2.0",
       "_view_name": "StyleView",
       "bar_color": null,
       "description_width": ""
      }
     },
     "bcd588f192c548e5bf918fdeaea8da5f": {
      "model_module": "@jupyter-widgets/base",
      "model_module_version": "1.2.0",
      "model_name": "LayoutModel",
      "state": {
       "_model_module": "@jupyter-widgets/base",
       "_model_module_version": "1.2.0",
       "_model_name": "LayoutModel",
       "_view_count": null,
       "_view_module": "@jupyter-widgets/base",
       "_view_module_version": "1.2.0",
       "_view_name": "LayoutView",
       "align_content": null,
       "align_items": null,
       "align_self": null,
       "border": null,
       "bottom": null,
       "display": null,
       "flex": null,
       "flex_flow": null,
       "grid_area": null,
       "grid_auto_columns": null,
       "grid_auto_flow": null,
       "grid_auto_rows": null,
       "grid_column": null,
       "grid_gap": null,
       "grid_row": null,
       "grid_template_areas": null,
       "grid_template_columns": null,
       "grid_template_rows": null,
       "height": null,
       "justify_content": null,
       "justify_items": null,
       "left": null,
       "margin": null,
       "max_height": null,
       "max_width": null,
       "min_height": null,
       "min_width": null,
       "object_fit": null,
       "object_position": null,
       "order": null,
       "overflow": null,
       "overflow_x": null,
       "overflow_y": null,
       "padding": null,
       "right": null,
       "top": null,
       "visibility": null,
       "width": null
      }
     },
     "be0f8b9af3264ac0bc7b9d630755df65": {
      "model_module": "@jupyter-widgets/controls",
      "model_module_version": "1.5.0",
      "model_name": "FloatProgressModel",
      "state": {
       "_dom_classes": [],
       "_model_module": "@jupyter-widgets/controls",
       "_model_module_version": "1.5.0",
       "_model_name": "FloatProgressModel",
       "_view_count": null,
       "_view_module": "@jupyter-widgets/controls",
       "_view_module_version": "1.5.0",
       "_view_name": "ProgressView",
       "bar_style": "success",
       "description": "",
       "description_tooltip": null,
       "layout": "IPY_MODEL_1e5109efedd942b8ab3921914e143cbf",
       "max": 41638.0,
       "min": 0.0,
       "orientation": "horizontal",
       "style": "IPY_MODEL_efcb05cc230246c7a8c7ab48d9fa9aea",
       "value": 41638.0
      }
     },
     "be3f658e41ed4c33a7bb817db570a8bd": {
      "model_module": "@jupyter-widgets/controls",
      "model_module_version": "1.5.0",
      "model_name": "DescriptionStyleModel",
      "state": {
       "_model_module": "@jupyter-widgets/controls",
       "_model_module_version": "1.5.0",
       "_model_name": "DescriptionStyleModel",
       "_view_count": null,
       "_view_module": "@jupyter-widgets/base",
       "_view_module_version": "1.2.0",
       "_view_name": "StyleView",
       "description_width": ""
      }
     },
     "c0510c756eee40a0b03a017363917c1a": {
      "model_module": "@jupyter-widgets/base",
      "model_module_version": "1.2.0",
      "model_name": "LayoutModel",
      "state": {
       "_model_module": "@jupyter-widgets/base",
       "_model_module_version": "1.2.0",
       "_model_name": "LayoutModel",
       "_view_count": null,
       "_view_module": "@jupyter-widgets/base",
       "_view_module_version": "1.2.0",
       "_view_name": "LayoutView",
       "align_content": null,
       "align_items": null,
       "align_self": null,
       "border": null,
       "bottom": null,
       "display": null,
       "flex": null,
       "flex_flow": null,
       "grid_area": null,
       "grid_auto_columns": null,
       "grid_auto_flow": null,
       "grid_auto_rows": null,
       "grid_column": null,
       "grid_gap": null,
       "grid_row": null,
       "grid_template_areas": null,
       "grid_template_columns": null,
       "grid_template_rows": null,
       "height": null,
       "justify_content": null,
       "justify_items": null,
       "left": null,
       "margin": null,
       "max_height": null,
       "max_width": null,
       "min_height": null,
       "min_width": null,
       "object_fit": null,
       "object_position": null,
       "order": null,
       "overflow": null,
       "overflow_x": null,
       "overflow_y": null,
       "padding": null,
       "right": null,
       "top": null,
       "visibility": null,
       "width": null
      }
     },
     "c460785ee04a4487839c93779c9d5af7": {
      "model_module": "@jupyter-widgets/controls",
      "model_module_version": "1.5.0",
      "model_name": "HTMLModel",
      "state": {
       "_dom_classes": [],
       "_model_module": "@jupyter-widgets/controls",
       "_model_module_version": "1.5.0",
       "_model_name": "HTMLModel",
       "_view_count": null,
       "_view_module": "@jupyter-widgets/controls",
       "_view_module_version": "1.5.0",
       "_view_name": "HTMLView",
       "description": "",
       "description_tooltip": null,
       "layout": "IPY_MODEL_a608b387395c467393bb4c03bacceb4a",
       "placeholder": "​",
       "style": "IPY_MODEL_b8daca6e5e6e493e99ca26f9549c7013",
       "value": "vocab.txt: 100%"
      }
     },
     "c6b2e764b67340798a5922f0b77c863b": {
      "model_module": "@jupyter-widgets/base",
      "model_module_version": "1.2.0",
      "model_name": "LayoutModel",
      "state": {
       "_model_module": "@jupyter-widgets/base",
       "_model_module_version": "1.2.0",
       "_model_name": "LayoutModel",
       "_view_count": null,
       "_view_module": "@jupyter-widgets/base",
       "_view_module_version": "1.2.0",
       "_view_name": "LayoutView",
       "align_content": null,
       "align_items": null,
       "align_self": null,
       "border": null,
       "bottom": null,
       "display": null,
       "flex": null,
       "flex_flow": null,
       "grid_area": null,
       "grid_auto_columns": null,
       "grid_auto_flow": null,
       "grid_auto_rows": null,
       "grid_column": null,
       "grid_gap": null,
       "grid_row": null,
       "grid_template_areas": null,
       "grid_template_columns": null,
       "grid_template_rows": null,
       "height": null,
       "justify_content": null,
       "justify_items": null,
       "left": null,
       "margin": null,
       "max_height": null,
       "max_width": null,
       "min_height": null,
       "min_width": null,
       "object_fit": null,
       "object_position": null,
       "order": null,
       "overflow": null,
       "overflow_x": null,
       "overflow_y": null,
       "padding": null,
       "right": null,
       "top": null,
       "visibility": null,
       "width": null
      }
     },
     "c8086568fff64159a4c76dbe401a9ff8": {
      "model_module": "@jupyter-widgets/controls",
      "model_module_version": "1.5.0",
      "model_name": "HTMLModel",
      "state": {
       "_dom_classes": [],
       "_model_module": "@jupyter-widgets/controls",
       "_model_module_version": "1.5.0",
       "_model_name": "HTMLModel",
       "_view_count": null,
       "_view_module": "@jupyter-widgets/controls",
       "_view_module_version": "1.5.0",
       "_view_name": "HTMLView",
       "description": "",
       "description_tooltip": null,
       "layout": "IPY_MODEL_3922fd9cf6ca4c42810c46c047a442d2",
       "placeholder": "​",
       "style": "IPY_MODEL_f3388825ccf3431e802ac23102db0dbf",
       "value": " 41638/41638 [10:08&lt;00:00, 69.72it/s]"
      }
     },
     "c937aa25d5524391a8cde58ab421851c": {
      "model_module": "@jupyter-widgets/base",
      "model_module_version": "1.2.0",
      "model_name": "LayoutModel",
      "state": {
       "_model_module": "@jupyter-widgets/base",
       "_model_module_version": "1.2.0",
       "_model_name": "LayoutModel",
       "_view_count": null,
       "_view_module": "@jupyter-widgets/base",
       "_view_module_version": "1.2.0",
       "_view_name": "LayoutView",
       "align_content": null,
       "align_items": null,
       "align_self": null,
       "border": null,
       "bottom": null,
       "display": null,
       "flex": null,
       "flex_flow": null,
       "grid_area": null,
       "grid_auto_columns": null,
       "grid_auto_flow": null,
       "grid_auto_rows": null,
       "grid_column": null,
       "grid_gap": null,
       "grid_row": null,
       "grid_template_areas": null,
       "grid_template_columns": null,
       "grid_template_rows": null,
       "height": null,
       "justify_content": null,
       "justify_items": null,
       "left": null,
       "margin": null,
       "max_height": null,
       "max_width": null,
       "min_height": null,
       "min_width": null,
       "object_fit": null,
       "object_position": null,
       "order": null,
       "overflow": null,
       "overflow_x": null,
       "overflow_y": null,
       "padding": null,
       "right": null,
       "top": null,
       "visibility": null,
       "width": null
      }
     },
     "c94d2cfc14844474b26479f78b310977": {
      "model_module": "@jupyter-widgets/base",
      "model_module_version": "1.2.0",
      "model_name": "LayoutModel",
      "state": {
       "_model_module": "@jupyter-widgets/base",
       "_model_module_version": "1.2.0",
       "_model_name": "LayoutModel",
       "_view_count": null,
       "_view_module": "@jupyter-widgets/base",
       "_view_module_version": "1.2.0",
       "_view_name": "LayoutView",
       "align_content": null,
       "align_items": null,
       "align_self": null,
       "border": null,
       "bottom": null,
       "display": null,
       "flex": null,
       "flex_flow": null,
       "grid_area": null,
       "grid_auto_columns": null,
       "grid_auto_flow": null,
       "grid_auto_rows": null,
       "grid_column": null,
       "grid_gap": null,
       "grid_row": null,
       "grid_template_areas": null,
       "grid_template_columns": null,
       "grid_template_rows": null,
       "height": null,
       "justify_content": null,
       "justify_items": null,
       "left": null,
       "margin": null,
       "max_height": null,
       "max_width": null,
       "min_height": null,
       "min_width": null,
       "object_fit": null,
       "object_position": null,
       "order": null,
       "overflow": null,
       "overflow_x": null,
       "overflow_y": null,
       "padding": null,
       "right": null,
       "top": null,
       "visibility": null,
       "width": null
      }
     },
     "cb4fe0aad983442980221b89c908d339": {
      "model_module": "@jupyter-widgets/controls",
      "model_module_version": "1.5.0",
      "model_name": "HTMLModel",
      "state": {
       "_dom_classes": [],
       "_model_module": "@jupyter-widgets/controls",
       "_model_module_version": "1.5.0",
       "_model_name": "HTMLModel",
       "_view_count": null,
       "_view_module": "@jupyter-widgets/controls",
       "_view_module_version": "1.5.0",
       "_view_name": "HTMLView",
       "description": "",
       "description_tooltip": null,
       "layout": "IPY_MODEL_ecace49c545246d5877cfe6f257fd879",
       "placeholder": "​",
       "style": "IPY_MODEL_8ceb6442935d465fb1d13f6a526bb371",
       "value": "tokenizer.json: 100%"
      }
     },
     "cb743e6a79f5413b8eb330cf1201c254": {
      "model_module": "@jupyter-widgets/base",
      "model_module_version": "1.2.0",
      "model_name": "LayoutModel",
      "state": {
       "_model_module": "@jupyter-widgets/base",
       "_model_module_version": "1.2.0",
       "_model_name": "LayoutModel",
       "_view_count": null,
       "_view_module": "@jupyter-widgets/base",
       "_view_module_version": "1.2.0",
       "_view_name": "LayoutView",
       "align_content": null,
       "align_items": null,
       "align_self": null,
       "border": null,
       "bottom": null,
       "display": null,
       "flex": null,
       "flex_flow": null,
       "grid_area": null,
       "grid_auto_columns": null,
       "grid_auto_flow": null,
       "grid_auto_rows": null,
       "grid_column": null,
       "grid_gap": null,
       "grid_row": null,
       "grid_template_areas": null,
       "grid_template_columns": null,
       "grid_template_rows": null,
       "height": null,
       "justify_content": null,
       "justify_items": null,
       "left": null,
       "margin": null,
       "max_height": null,
       "max_width": null,
       "min_height": null,
       "min_width": null,
       "object_fit": null,
       "object_position": null,
       "order": null,
       "overflow": null,
       "overflow_x": null,
       "overflow_y": null,
       "padding": null,
       "right": null,
       "top": null,
       "visibility": null,
       "width": null
      }
     },
     "cbb8dcd9e3f242c0ad68aff1f7da9d2f": {
      "model_module": "@jupyter-widgets/controls",
      "model_module_version": "1.5.0",
      "model_name": "DescriptionStyleModel",
      "state": {
       "_model_module": "@jupyter-widgets/controls",
       "_model_module_version": "1.5.0",
       "_model_name": "DescriptionStyleModel",
       "_view_count": null,
       "_view_module": "@jupyter-widgets/base",
       "_view_module_version": "1.2.0",
       "_view_name": "StyleView",
       "description_width": ""
      }
     },
     "cbe54fb6c036446fb661b37db99067f1": {
      "model_module": "@jupyter-widgets/controls",
      "model_module_version": "1.5.0",
      "model_name": "HTMLModel",
      "state": {
       "_dom_classes": [],
       "_model_module": "@jupyter-widgets/controls",
       "_model_module_version": "1.5.0",
       "_model_name": "HTMLModel",
       "_view_count": null,
       "_view_module": "@jupyter-widgets/controls",
       "_view_module_version": "1.5.0",
       "_view_name": "HTMLView",
       "description": "",
       "description_tooltip": null,
       "layout": "IPY_MODEL_fa53cadf2b604d66ad9b70dba464dc03",
       "placeholder": "​",
       "style": "IPY_MODEL_ab914ad5a6dd4d01a1678c521d770778",
       "value": "config.json: 100%"
      }
     },
     "d38cf58a31a04a3787cd7392b64a3814": {
      "model_module": "@jupyter-widgets/base",
      "model_module_version": "1.2.0",
      "model_name": "LayoutModel",
      "state": {
       "_model_module": "@jupyter-widgets/base",
       "_model_module_version": "1.2.0",
       "_model_name": "LayoutModel",
       "_view_count": null,
       "_view_module": "@jupyter-widgets/base",
       "_view_module_version": "1.2.0",
       "_view_name": "LayoutView",
       "align_content": null,
       "align_items": null,
       "align_self": null,
       "border": null,
       "bottom": null,
       "display": null,
       "flex": null,
       "flex_flow": null,
       "grid_area": null,
       "grid_auto_columns": null,
       "grid_auto_flow": null,
       "grid_auto_rows": null,
       "grid_column": null,
       "grid_gap": null,
       "grid_row": null,
       "grid_template_areas": null,
       "grid_template_columns": null,
       "grid_template_rows": null,
       "height": null,
       "justify_content": null,
       "justify_items": null,
       "left": null,
       "margin": null,
       "max_height": null,
       "max_width": null,
       "min_height": null,
       "min_width": null,
       "object_fit": null,
       "object_position": null,
       "order": null,
       "overflow": null,
       "overflow_x": null,
       "overflow_y": null,
       "padding": null,
       "right": null,
       "top": null,
       "visibility": null,
       "width": null
      }
     },
     "d565f825ff4f4a7f9ded7a10018da996": {
      "model_module": "@jupyter-widgets/base",
      "model_module_version": "1.2.0",
      "model_name": "LayoutModel",
      "state": {
       "_model_module": "@jupyter-widgets/base",
       "_model_module_version": "1.2.0",
       "_model_name": "LayoutModel",
       "_view_count": null,
       "_view_module": "@jupyter-widgets/base",
       "_view_module_version": "1.2.0",
       "_view_name": "LayoutView",
       "align_content": null,
       "align_items": null,
       "align_self": null,
       "border": null,
       "bottom": null,
       "display": null,
       "flex": null,
       "flex_flow": null,
       "grid_area": null,
       "grid_auto_columns": null,
       "grid_auto_flow": null,
       "grid_auto_rows": null,
       "grid_column": null,
       "grid_gap": null,
       "grid_row": null,
       "grid_template_areas": null,
       "grid_template_columns": null,
       "grid_template_rows": null,
       "height": null,
       "justify_content": null,
       "justify_items": null,
       "left": null,
       "margin": null,
       "max_height": null,
       "max_width": null,
       "min_height": null,
       "min_width": null,
       "object_fit": null,
       "object_position": null,
       "order": null,
       "overflow": null,
       "overflow_x": null,
       "overflow_y": null,
       "padding": null,
       "right": null,
       "top": null,
       "visibility": null,
       "width": null
      }
     },
     "d5e05367e572483587ec5e65699525d4": {
      "model_module": "@jupyter-widgets/base",
      "model_module_version": "1.2.0",
      "model_name": "LayoutModel",
      "state": {
       "_model_module": "@jupyter-widgets/base",
       "_model_module_version": "1.2.0",
       "_model_name": "LayoutModel",
       "_view_count": null,
       "_view_module": "@jupyter-widgets/base",
       "_view_module_version": "1.2.0",
       "_view_name": "LayoutView",
       "align_content": null,
       "align_items": null,
       "align_self": null,
       "border": null,
       "bottom": null,
       "display": null,
       "flex": null,
       "flex_flow": null,
       "grid_area": null,
       "grid_auto_columns": null,
       "grid_auto_flow": null,
       "grid_auto_rows": null,
       "grid_column": null,
       "grid_gap": null,
       "grid_row": null,
       "grid_template_areas": null,
       "grid_template_columns": null,
       "grid_template_rows": null,
       "height": null,
       "justify_content": null,
       "justify_items": null,
       "left": null,
       "margin": null,
       "max_height": null,
       "max_width": null,
       "min_height": null,
       "min_width": null,
       "object_fit": null,
       "object_position": null,
       "order": null,
       "overflow": null,
       "overflow_x": null,
       "overflow_y": null,
       "padding": null,
       "right": null,
       "top": null,
       "visibility": null,
       "width": null
      }
     },
     "d622eb08e0754b3b852c5d7e7dccd858": {
      "model_module": "@jupyter-widgets/controls",
      "model_module_version": "1.5.0",
      "model_name": "DescriptionStyleModel",
      "state": {
       "_model_module": "@jupyter-widgets/controls",
       "_model_module_version": "1.5.0",
       "_model_name": "DescriptionStyleModel",
       "_view_count": null,
       "_view_module": "@jupyter-widgets/base",
       "_view_module_version": "1.2.0",
       "_view_name": "StyleView",
       "description_width": ""
      }
     },
     "d6589b09352b4341bdd2a76e1d2dcfef": {
      "model_module": "@jupyter-widgets/base",
      "model_module_version": "1.2.0",
      "model_name": "LayoutModel",
      "state": {
       "_model_module": "@jupyter-widgets/base",
       "_model_module_version": "1.2.0",
       "_model_name": "LayoutModel",
       "_view_count": null,
       "_view_module": "@jupyter-widgets/base",
       "_view_module_version": "1.2.0",
       "_view_name": "LayoutView",
       "align_content": null,
       "align_items": null,
       "align_self": null,
       "border": null,
       "bottom": null,
       "display": null,
       "flex": null,
       "flex_flow": null,
       "grid_area": null,
       "grid_auto_columns": null,
       "grid_auto_flow": null,
       "grid_auto_rows": null,
       "grid_column": null,
       "grid_gap": null,
       "grid_row": null,
       "grid_template_areas": null,
       "grid_template_columns": null,
       "grid_template_rows": null,
       "height": null,
       "justify_content": null,
       "justify_items": null,
       "left": null,
       "margin": null,
       "max_height": null,
       "max_width": null,
       "min_height": null,
       "min_width": null,
       "object_fit": null,
       "object_position": null,
       "order": null,
       "overflow": null,
       "overflow_x": null,
       "overflow_y": null,
       "padding": null,
       "right": null,
       "top": null,
       "visibility": null,
       "width": null
      }
     },
     "d788c91119284532b2988a6ca0fb932c": {
      "model_module": "@jupyter-widgets/controls",
      "model_module_version": "1.5.0",
      "model_name": "HTMLModel",
      "state": {
       "_dom_classes": [],
       "_model_module": "@jupyter-widgets/controls",
       "_model_module_version": "1.5.0",
       "_model_name": "HTMLModel",
       "_view_count": null,
       "_view_module": "@jupyter-widgets/controls",
       "_view_module_version": "1.5.0",
       "_view_name": "HTMLView",
       "description": "",
       "description_tooltip": null,
       "layout": "IPY_MODEL_c94d2cfc14844474b26479f78b310977",
       "placeholder": "​",
       "style": "IPY_MODEL_fc7fb19df05240db969b4f92bc5d14d9",
       "value": "100%"
      }
     },
     "d8be7420a3164e9298cd4602d825d6f8": {
      "model_module": "@jupyter-widgets/base",
      "model_module_version": "1.2.0",
      "model_name": "LayoutModel",
      "state": {
       "_model_module": "@jupyter-widgets/base",
       "_model_module_version": "1.2.0",
       "_model_name": "LayoutModel",
       "_view_count": null,
       "_view_module": "@jupyter-widgets/base",
       "_view_module_version": "1.2.0",
       "_view_name": "LayoutView",
       "align_content": null,
       "align_items": null,
       "align_self": null,
       "border": null,
       "bottom": null,
       "display": null,
       "flex": null,
       "flex_flow": null,
       "grid_area": null,
       "grid_auto_columns": null,
       "grid_auto_flow": null,
       "grid_auto_rows": null,
       "grid_column": null,
       "grid_gap": null,
       "grid_row": null,
       "grid_template_areas": null,
       "grid_template_columns": null,
       "grid_template_rows": null,
       "height": null,
       "justify_content": null,
       "justify_items": null,
       "left": null,
       "margin": null,
       "max_height": null,
       "max_width": null,
       "min_height": null,
       "min_width": null,
       "object_fit": null,
       "object_position": null,
       "order": null,
       "overflow": null,
       "overflow_x": null,
       "overflow_y": null,
       "padding": null,
       "right": null,
       "top": null,
       "visibility": null,
       "width": null
      }
     },
     "d90a710fe196406987cbeddf93e559ae": {
      "model_module": "@jupyter-widgets/base",
      "model_module_version": "1.2.0",
      "model_name": "LayoutModel",
      "state": {
       "_model_module": "@jupyter-widgets/base",
       "_model_module_version": "1.2.0",
       "_model_name": "LayoutModel",
       "_view_count": null,
       "_view_module": "@jupyter-widgets/base",
       "_view_module_version": "1.2.0",
       "_view_name": "LayoutView",
       "align_content": null,
       "align_items": null,
       "align_self": null,
       "border": null,
       "bottom": null,
       "display": null,
       "flex": null,
       "flex_flow": null,
       "grid_area": null,
       "grid_auto_columns": null,
       "grid_auto_flow": null,
       "grid_auto_rows": null,
       "grid_column": null,
       "grid_gap": null,
       "grid_row": null,
       "grid_template_areas": null,
       "grid_template_columns": null,
       "grid_template_rows": null,
       "height": null,
       "justify_content": null,
       "justify_items": null,
       "left": null,
       "margin": null,
       "max_height": null,
       "max_width": null,
       "min_height": null,
       "min_width": null,
       "object_fit": null,
       "object_position": null,
       "order": null,
       "overflow": null,
       "overflow_x": null,
       "overflow_y": null,
       "padding": null,
       "right": null,
       "top": null,
       "visibility": null,
       "width": null
      }
     },
     "da4d201dedf147608e7a8885b87e8491": {
      "model_module": "@jupyter-widgets/controls",
      "model_module_version": "1.5.0",
      "model_name": "ProgressStyleModel",
      "state": {
       "_model_module": "@jupyter-widgets/controls",
       "_model_module_version": "1.5.0",
       "_model_name": "ProgressStyleModel",
       "_view_count": null,
       "_view_module": "@jupyter-widgets/base",
       "_view_module_version": "1.2.0",
       "_view_name": "StyleView",
       "bar_color": null,
       "description_width": ""
      }
     },
     "dadaefefae8142539e59d7dcd657979e": {
      "model_module": "@jupyter-widgets/controls",
      "model_module_version": "1.5.0",
      "model_name": "FloatProgressModel",
      "state": {
       "_dom_classes": [],
       "_model_module": "@jupyter-widgets/controls",
       "_model_module_version": "1.5.0",
       "_model_name": "FloatProgressModel",
       "_view_count": null,
       "_view_module": "@jupyter-widgets/controls",
       "_view_module_version": "1.5.0",
       "_view_name": "ProgressView",
       "bar_style": "success",
       "description": "",
       "description_tooltip": null,
       "layout": "IPY_MODEL_f0f9fcd9db3e416eb28ba5016d9c131e",
       "max": 100.0,
       "min": 0.0,
       "orientation": "horizontal",
       "style": "IPY_MODEL_60a65fead91440e18ba28912d0d19923",
       "value": 100.0
      }
     },
     "db59767f98c449bfa190f2b9e50f514b": {
      "model_module": "@jupyter-widgets/base",
      "model_module_version": "1.2.0",
      "model_name": "LayoutModel",
      "state": {
       "_model_module": "@jupyter-widgets/base",
       "_model_module_version": "1.2.0",
       "_model_name": "LayoutModel",
       "_view_count": null,
       "_view_module": "@jupyter-widgets/base",
       "_view_module_version": "1.2.0",
       "_view_name": "LayoutView",
       "align_content": null,
       "align_items": null,
       "align_self": null,
       "border": null,
       "bottom": null,
       "display": null,
       "flex": null,
       "flex_flow": null,
       "grid_area": null,
       "grid_auto_columns": null,
       "grid_auto_flow": null,
       "grid_auto_rows": null,
       "grid_column": null,
       "grid_gap": null,
       "grid_row": null,
       "grid_template_areas": null,
       "grid_template_columns": null,
       "grid_template_rows": null,
       "height": null,
       "justify_content": null,
       "justify_items": null,
       "left": null,
       "margin": null,
       "max_height": null,
       "max_width": null,
       "min_height": null,
       "min_width": null,
       "object_fit": null,
       "object_position": null,
       "order": null,
       "overflow": null,
       "overflow_x": null,
       "overflow_y": null,
       "padding": null,
       "right": null,
       "top": null,
       "visibility": null,
       "width": null
      }
     },
     "db9e66e9783c4b4a8168d2c4d1db0e55": {
      "model_module": "@jupyter-widgets/controls",
      "model_module_version": "1.5.0",
      "model_name": "FloatProgressModel",
      "state": {
       "_dom_classes": [],
       "_model_module": "@jupyter-widgets/controls",
       "_model_module_version": "1.5.0",
       "_model_name": "FloatProgressModel",
       "_view_count": null,
       "_view_module": "@jupyter-widgets/controls",
       "_view_module_version": "1.5.0",
       "_view_name": "ProgressView",
       "bar_style": "success",
       "description": "",
       "description_tooltip": null,
       "layout": "IPY_MODEL_28d60292501b4d9893997cc119c0356c",
       "max": 437975140.0,
       "min": 0.0,
       "orientation": "horizontal",
       "style": "IPY_MODEL_3719ad21557342a9be80b4ddf72b6670",
       "value": 437975140.0
      }
     },
     "dc30a504923a4429880a4a61d3fa58f1": {
      "model_module": "@jupyter-widgets/base",
      "model_module_version": "1.2.0",
      "model_name": "LayoutModel",
      "state": {
       "_model_module": "@jupyter-widgets/base",
       "_model_module_version": "1.2.0",
       "_model_name": "LayoutModel",
       "_view_count": null,
       "_view_module": "@jupyter-widgets/base",
       "_view_module_version": "1.2.0",
       "_view_name": "LayoutView",
       "align_content": null,
       "align_items": null,
       "align_self": null,
       "border": null,
       "bottom": null,
       "display": null,
       "flex": null,
       "flex_flow": null,
       "grid_area": null,
       "grid_auto_columns": null,
       "grid_auto_flow": null,
       "grid_auto_rows": null,
       "grid_column": null,
       "grid_gap": null,
       "grid_row": null,
       "grid_template_areas": null,
       "grid_template_columns": null,
       "grid_template_rows": null,
       "height": null,
       "justify_content": null,
       "justify_items": null,
       "left": null,
       "margin": null,
       "max_height": null,
       "max_width": null,
       "min_height": null,
       "min_width": null,
       "object_fit": null,
       "object_position": null,
       "order": null,
       "overflow": null,
       "overflow_x": null,
       "overflow_y": null,
       "padding": null,
       "right": null,
       "top": null,
       "visibility": null,
       "width": null
      }
     },
     "e051003162d444f08cc7953e32be59af": {
      "model_module": "@jupyter-widgets/base",
      "model_module_version": "1.2.0",
      "model_name": "LayoutModel",
      "state": {
       "_model_module": "@jupyter-widgets/base",
       "_model_module_version": "1.2.0",
       "_model_name": "LayoutModel",
       "_view_count": null,
       "_view_module": "@jupyter-widgets/base",
       "_view_module_version": "1.2.0",
       "_view_name": "LayoutView",
       "align_content": null,
       "align_items": null,
       "align_self": null,
       "border": null,
       "bottom": null,
       "display": null,
       "flex": null,
       "flex_flow": null,
       "grid_area": null,
       "grid_auto_columns": null,
       "grid_auto_flow": null,
       "grid_auto_rows": null,
       "grid_column": null,
       "grid_gap": null,
       "grid_row": null,
       "grid_template_areas": null,
       "grid_template_columns": null,
       "grid_template_rows": null,
       "height": null,
       "justify_content": null,
       "justify_items": null,
       "left": null,
       "margin": null,
       "max_height": null,
       "max_width": null,
       "min_height": null,
       "min_width": null,
       "object_fit": null,
       "object_position": null,
       "order": null,
       "overflow": null,
       "overflow_x": null,
       "overflow_y": null,
       "padding": null,
       "right": null,
       "top": null,
       "visibility": null,
       "width": null
      }
     },
     "e63ce671e6d04015990ed9da9bf88ed5": {
      "model_module": "@jupyter-widgets/base",
      "model_module_version": "1.2.0",
      "model_name": "LayoutModel",
      "state": {
       "_model_module": "@jupyter-widgets/base",
       "_model_module_version": "1.2.0",
       "_model_name": "LayoutModel",
       "_view_count": null,
       "_view_module": "@jupyter-widgets/base",
       "_view_module_version": "1.2.0",
       "_view_name": "LayoutView",
       "align_content": null,
       "align_items": null,
       "align_self": null,
       "border": null,
       "bottom": null,
       "display": null,
       "flex": null,
       "flex_flow": null,
       "grid_area": null,
       "grid_auto_columns": null,
       "grid_auto_flow": null,
       "grid_auto_rows": null,
       "grid_column": null,
       "grid_gap": null,
       "grid_row": null,
       "grid_template_areas": null,
       "grid_template_columns": null,
       "grid_template_rows": null,
       "height": null,
       "justify_content": null,
       "justify_items": null,
       "left": null,
       "margin": null,
       "max_height": null,
       "max_width": null,
       "min_height": null,
       "min_width": null,
       "object_fit": null,
       "object_position": null,
       "order": null,
       "overflow": null,
       "overflow_x": null,
       "overflow_y": null,
       "padding": null,
       "right": null,
       "top": null,
       "visibility": null,
       "width": null
      }
     },
     "e6443e71914044a2b88482c4b70a82b8": {
      "model_module": "@jupyter-widgets/controls",
      "model_module_version": "1.5.0",
      "model_name": "HBoxModel",
      "state": {
       "_dom_classes": [],
       "_model_module": "@jupyter-widgets/controls",
       "_model_module_version": "1.5.0",
       "_model_name": "HBoxModel",
       "_view_count": null,
       "_view_module": "@jupyter-widgets/controls",
       "_view_module_version": "1.5.0",
       "_view_name": "HBoxView",
       "box_style": "",
       "children": [
        "IPY_MODEL_338d034250534ca5a4613186c42467a0",
        "IPY_MODEL_8e9f3e32eb0848b4bb6ed28b600ee850",
        "IPY_MODEL_2058483426e34f5b8504fc7368a7af0a"
       ],
       "layout": "IPY_MODEL_026e83cb06f14cd6869d92c9da96b172"
      }
     },
     "e65b1c8a8b5948be8f3ccf4b276614fa": {
      "model_module": "@jupyter-widgets/controls",
      "model_module_version": "1.5.0",
      "model_name": "HBoxModel",
      "state": {
       "_dom_classes": [],
       "_model_module": "@jupyter-widgets/controls",
       "_model_module_version": "1.5.0",
       "_model_name": "HBoxModel",
       "_view_count": null,
       "_view_module": "@jupyter-widgets/controls",
       "_view_module_version": "1.5.0",
       "_view_name": "HBoxView",
       "box_style": "",
       "children": [
        "IPY_MODEL_433fd64a8fac486788aa7358cb8c00a8",
        "IPY_MODEL_62b2f3af42c340cfb5cddf1d3e45490c",
        "IPY_MODEL_4cb1a3d31d4442659ad39b8ae184cb29"
       ],
       "layout": "IPY_MODEL_12b935bd06c34528a19ae979601d79d1"
      }
     },
     "e803effce32c4438bb5b5309a76b9021": {
      "model_module": "@jupyter-widgets/controls",
      "model_module_version": "1.5.0",
      "model_name": "HTMLModel",
      "state": {
       "_dom_classes": [],
       "_model_module": "@jupyter-widgets/controls",
       "_model_module_version": "1.5.0",
       "_model_name": "HTMLModel",
       "_view_count": null,
       "_view_module": "@jupyter-widgets/controls",
       "_view_module_version": "1.5.0",
       "_view_name": "HTMLView",
       "description": "",
       "description_tooltip": null,
       "layout": "IPY_MODEL_fb3c17e679244031975939bf76256ae1",
       "placeholder": "​",
       "style": "IPY_MODEL_fc97f3cc267f44e2b9d14e9765bb63ff",
       "value": " 100/100 [00:01&lt;00:00, 61.34it/s]"
      }
     },
     "e81589f866524511b6ded6595d04f5fa": {
      "model_module": "@jupyter-widgets/controls",
      "model_module_version": "1.5.0",
      "model_name": "ProgressStyleModel",
      "state": {
       "_model_module": "@jupyter-widgets/controls",
       "_model_module_version": "1.5.0",
       "_model_name": "ProgressStyleModel",
       "_view_count": null,
       "_view_module": "@jupyter-widgets/base",
       "_view_module_version": "1.2.0",
       "_view_name": "StyleView",
       "bar_color": null,
       "description_width": ""
      }
     },
     "e9588cbfdd8446f19d50caa5e7b7e3f5": {
      "model_module": "@jupyter-widgets/base",
      "model_module_version": "1.2.0",
      "model_name": "LayoutModel",
      "state": {
       "_model_module": "@jupyter-widgets/base",
       "_model_module_version": "1.2.0",
       "_model_name": "LayoutModel",
       "_view_count": null,
       "_view_module": "@jupyter-widgets/base",
       "_view_module_version": "1.2.0",
       "_view_name": "LayoutView",
       "align_content": null,
       "align_items": null,
       "align_self": null,
       "border": null,
       "bottom": null,
       "display": null,
       "flex": null,
       "flex_flow": null,
       "grid_area": null,
       "grid_auto_columns": null,
       "grid_auto_flow": null,
       "grid_auto_rows": null,
       "grid_column": null,
       "grid_gap": null,
       "grid_row": null,
       "grid_template_areas": null,
       "grid_template_columns": null,
       "grid_template_rows": null,
       "height": null,
       "justify_content": null,
       "justify_items": null,
       "left": null,
       "margin": null,
       "max_height": null,
       "max_width": null,
       "min_height": null,
       "min_width": null,
       "object_fit": null,
       "object_position": null,
       "order": null,
       "overflow": null,
       "overflow_x": null,
       "overflow_y": null,
       "padding": null,
       "right": null,
       "top": null,
       "visibility": null,
       "width": null
      }
     },
     "ea3d422e585848c9bc0f189d963cdcae": {
      "model_module": "@jupyter-widgets/controls",
      "model_module_version": "1.5.0",
      "model_name": "HTMLModel",
      "state": {
       "_dom_classes": [],
       "_model_module": "@jupyter-widgets/controls",
       "_model_module_version": "1.5.0",
       "_model_name": "HTMLModel",
       "_view_count": null,
       "_view_module": "@jupyter-widgets/controls",
       "_view_module_version": "1.5.0",
       "_view_name": "HTMLView",
       "description": "",
       "description_tooltip": null,
       "layout": "IPY_MODEL_b6f87dd844c544d2b75f68aedf69fc52",
       "placeholder": "​",
       "style": "IPY_MODEL_8c2c72c9f2ad46c9913b0199cf30bf0a",
       "value": "100%"
      }
     },
     "ea6ad900f8ed49a982e8eaa7692ce633": {
      "model_module": "@jupyter-widgets/base",
      "model_module_version": "1.2.0",
      "model_name": "LayoutModel",
      "state": {
       "_model_module": "@jupyter-widgets/base",
       "_model_module_version": "1.2.0",
       "_model_name": "LayoutModel",
       "_view_count": null,
       "_view_module": "@jupyter-widgets/base",
       "_view_module_version": "1.2.0",
       "_view_name": "LayoutView",
       "align_content": null,
       "align_items": null,
       "align_self": null,
       "border": null,
       "bottom": null,
       "display": null,
       "flex": null,
       "flex_flow": null,
       "grid_area": null,
       "grid_auto_columns": null,
       "grid_auto_flow": null,
       "grid_auto_rows": null,
       "grid_column": null,
       "grid_gap": null,
       "grid_row": null,
       "grid_template_areas": null,
       "grid_template_columns": null,
       "grid_template_rows": null,
       "height": null,
       "justify_content": null,
       "justify_items": null,
       "left": null,
       "margin": null,
       "max_height": null,
       "max_width": null,
       "min_height": null,
       "min_width": null,
       "object_fit": null,
       "object_position": null,
       "order": null,
       "overflow": null,
       "overflow_x": null,
       "overflow_y": null,
       "padding": null,
       "right": null,
       "top": null,
       "visibility": null,
       "width": null
      }
     },
     "eaf344d403e347ea84b503577886def6": {
      "model_module": "@jupyter-widgets/controls",
      "model_module_version": "1.5.0",
      "model_name": "HTMLModel",
      "state": {
       "_dom_classes": [],
       "_model_module": "@jupyter-widgets/controls",
       "_model_module_version": "1.5.0",
       "_model_name": "HTMLModel",
       "_view_count": null,
       "_view_module": "@jupyter-widgets/controls",
       "_view_module_version": "1.5.0",
       "_view_name": "HTMLView",
       "description": "",
       "description_tooltip": null,
       "layout": "IPY_MODEL_9024465635ee430c850cca024b057429",
       "placeholder": "​",
       "style": "IPY_MODEL_a2cd74340db24b93be33b1ce0442a771",
       "value": " 285/285 [00:00&lt;00:00, 23.9kB/s]"
      }
     },
     "eb12b8c558d747c2bd7fc783bf02567c": {
      "model_module": "@jupyter-widgets/base",
      "model_module_version": "1.2.0",
      "model_name": "LayoutModel",
      "state": {
       "_model_module": "@jupyter-widgets/base",
       "_model_module_version": "1.2.0",
       "_model_name": "LayoutModel",
       "_view_count": null,
       "_view_module": "@jupyter-widgets/base",
       "_view_module_version": "1.2.0",
       "_view_name": "LayoutView",
       "align_content": null,
       "align_items": null,
       "align_self": null,
       "border": null,
       "bottom": null,
       "display": null,
       "flex": null,
       "flex_flow": null,
       "grid_area": null,
       "grid_auto_columns": null,
       "grid_auto_flow": null,
       "grid_auto_rows": null,
       "grid_column": null,
       "grid_gap": null,
       "grid_row": null,
       "grid_template_areas": null,
       "grid_template_columns": null,
       "grid_template_rows": null,
       "height": null,
       "justify_content": null,
       "justify_items": null,
       "left": null,
       "margin": null,
       "max_height": null,
       "max_width": null,
       "min_height": null,
       "min_width": null,
       "object_fit": null,
       "object_position": null,
       "order": null,
       "overflow": null,
       "overflow_x": null,
       "overflow_y": null,
       "padding": null,
       "right": null,
       "top": null,
       "visibility": null,
       "width": null
      }
     },
     "ecaa07c8fc20408e9f8425d6faa7aba7": {
      "model_module": "@jupyter-widgets/base",
      "model_module_version": "1.2.0",
      "model_name": "LayoutModel",
      "state": {
       "_model_module": "@jupyter-widgets/base",
       "_model_module_version": "1.2.0",
       "_model_name": "LayoutModel",
       "_view_count": null,
       "_view_module": "@jupyter-widgets/base",
       "_view_module_version": "1.2.0",
       "_view_name": "LayoutView",
       "align_content": null,
       "align_items": null,
       "align_self": null,
       "border": null,
       "bottom": null,
       "display": null,
       "flex": null,
       "flex_flow": null,
       "grid_area": null,
       "grid_auto_columns": null,
       "grid_auto_flow": null,
       "grid_auto_rows": null,
       "grid_column": null,
       "grid_gap": null,
       "grid_row": null,
       "grid_template_areas": null,
       "grid_template_columns": null,
       "grid_template_rows": null,
       "height": null,
       "justify_content": null,
       "justify_items": null,
       "left": null,
       "margin": null,
       "max_height": null,
       "max_width": null,
       "min_height": null,
       "min_width": null,
       "object_fit": null,
       "object_position": null,
       "order": null,
       "overflow": null,
       "overflow_x": null,
       "overflow_y": null,
       "padding": null,
       "right": null,
       "top": null,
       "visibility": null,
       "width": null
      }
     },
     "ecace49c545246d5877cfe6f257fd879": {
      "model_module": "@jupyter-widgets/base",
      "model_module_version": "1.2.0",
      "model_name": "LayoutModel",
      "state": {
       "_model_module": "@jupyter-widgets/base",
       "_model_module_version": "1.2.0",
       "_model_name": "LayoutModel",
       "_view_count": null,
       "_view_module": "@jupyter-widgets/base",
       "_view_module_version": "1.2.0",
       "_view_name": "LayoutView",
       "align_content": null,
       "align_items": null,
       "align_self": null,
       "border": null,
       "bottom": null,
       "display": null,
       "flex": null,
       "flex_flow": null,
       "grid_area": null,
       "grid_auto_columns": null,
       "grid_auto_flow": null,
       "grid_auto_rows": null,
       "grid_column": null,
       "grid_gap": null,
       "grid_row": null,
       "grid_template_areas": null,
       "grid_template_columns": null,
       "grid_template_rows": null,
       "height": null,
       "justify_content": null,
       "justify_items": null,
       "left": null,
       "margin": null,
       "max_height": null,
       "max_width": null,
       "min_height": null,
       "min_width": null,
       "object_fit": null,
       "object_position": null,
       "order": null,
       "overflow": null,
       "overflow_x": null,
       "overflow_y": null,
       "padding": null,
       "right": null,
       "top": null,
       "visibility": null,
       "width": null
      }
     },
     "ee814e29f10f43179b4b4e9a672957a6": {
      "model_module": "@jupyter-widgets/base",
      "model_module_version": "1.2.0",
      "model_name": "LayoutModel",
      "state": {
       "_model_module": "@jupyter-widgets/base",
       "_model_module_version": "1.2.0",
       "_model_name": "LayoutModel",
       "_view_count": null,
       "_view_module": "@jupyter-widgets/base",
       "_view_module_version": "1.2.0",
       "_view_name": "LayoutView",
       "align_content": null,
       "align_items": null,
       "align_self": null,
       "border": null,
       "bottom": null,
       "display": null,
       "flex": null,
       "flex_flow": null,
       "grid_area": null,
       "grid_auto_columns": null,
       "grid_auto_flow": null,
       "grid_auto_rows": null,
       "grid_column": null,
       "grid_gap": null,
       "grid_row": null,
       "grid_template_areas": null,
       "grid_template_columns": null,
       "grid_template_rows": null,
       "height": null,
       "justify_content": null,
       "justify_items": null,
       "left": null,
       "margin": null,
       "max_height": null,
       "max_width": null,
       "min_height": null,
       "min_width": null,
       "object_fit": null,
       "object_position": null,
       "order": null,
       "overflow": null,
       "overflow_x": null,
       "overflow_y": null,
       "padding": null,
       "right": null,
       "top": null,
       "visibility": null,
       "width": null
      }
     },
     "ef64a5c83015495088d22cc536f093c4": {
      "model_module": "@jupyter-widgets/controls",
      "model_module_version": "1.5.0",
      "model_name": "HTMLModel",
      "state": {
       "_dom_classes": [],
       "_model_module": "@jupyter-widgets/controls",
       "_model_module_version": "1.5.0",
       "_model_name": "HTMLModel",
       "_view_count": null,
       "_view_module": "@jupyter-widgets/controls",
       "_view_module_version": "1.5.0",
       "_view_name": "HTMLView",
       "description": "",
       "description_tooltip": null,
       "layout": "IPY_MODEL_585d5292b2fb4d1a93b6dc7853b31698",
       "placeholder": "​",
       "style": "IPY_MODEL_a8f44462ecd74432b6f20250955372f2",
       "value": "tokenizer_config.json: 100%"
      }
     },
     "efaae3bd037d4147a36dabba1a4f36f1": {
      "model_module": "@jupyter-widgets/controls",
      "model_module_version": "1.5.0",
      "model_name": "HBoxModel",
      "state": {
       "_dom_classes": [],
       "_model_module": "@jupyter-widgets/controls",
       "_model_module_version": "1.5.0",
       "_model_name": "HBoxModel",
       "_view_count": null,
       "_view_module": "@jupyter-widgets/controls",
       "_view_module_version": "1.5.0",
       "_view_name": "HBoxView",
       "box_style": "",
       "children": [
        "IPY_MODEL_ef64a5c83015495088d22cc536f093c4",
        "IPY_MODEL_2e22e4db7f8f4213a07f1c9535662707",
        "IPY_MODEL_eaf344d403e347ea84b503577886def6"
       ],
       "layout": "IPY_MODEL_ecaa07c8fc20408e9f8425d6faa7aba7"
      }
     },
     "efcb05cc230246c7a8c7ab48d9fa9aea": {
      "model_module": "@jupyter-widgets/controls",
      "model_module_version": "1.5.0",
      "model_name": "ProgressStyleModel",
      "state": {
       "_model_module": "@jupyter-widgets/controls",
       "_model_module_version": "1.5.0",
       "_model_name": "ProgressStyleModel",
       "_view_count": null,
       "_view_module": "@jupyter-widgets/base",
       "_view_module_version": "1.2.0",
       "_view_name": "StyleView",
       "bar_color": null,
       "description_width": ""
      }
     },
     "f05472ad25e24c34863ae49c37ddd2c3": {
      "model_module": "@jupyter-widgets/controls",
      "model_module_version": "1.5.0",
      "model_name": "HTMLModel",
      "state": {
       "_dom_classes": [],
       "_model_module": "@jupyter-widgets/controls",
       "_model_module_version": "1.5.0",
       "_model_name": "HTMLModel",
       "_view_count": null,
       "_view_module": "@jupyter-widgets/controls",
       "_view_module_version": "1.5.0",
       "_view_name": "HTMLView",
       "description": "",
       "description_tooltip": null,
       "layout": "IPY_MODEL_d90a710fe196406987cbeddf93e559ae",
       "placeholder": "​",
       "style": "IPY_MODEL_5c2c8188e5dc493aa7b091d9b8c16795",
       "value": " 438M/438M [00:02&lt;00:00, 191MB/s]"
      }
     },
     "f0f9fcd9db3e416eb28ba5016d9c131e": {
      "model_module": "@jupyter-widgets/base",
      "model_module_version": "1.2.0",
      "model_name": "LayoutModel",
      "state": {
       "_model_module": "@jupyter-widgets/base",
       "_model_module_version": "1.2.0",
       "_model_name": "LayoutModel",
       "_view_count": null,
       "_view_module": "@jupyter-widgets/base",
       "_view_module_version": "1.2.0",
       "_view_name": "LayoutView",
       "align_content": null,
       "align_items": null,
       "align_self": null,
       "border": null,
       "bottom": null,
       "display": null,
       "flex": null,
       "flex_flow": null,
       "grid_area": null,
       "grid_auto_columns": null,
       "grid_auto_flow": null,
       "grid_auto_rows": null,
       "grid_column": null,
       "grid_gap": null,
       "grid_row": null,
       "grid_template_areas": null,
       "grid_template_columns": null,
       "grid_template_rows": null,
       "height": null,
       "justify_content": null,
       "justify_items": null,
       "left": null,
       "margin": null,
       "max_height": null,
       "max_width": null,
       "min_height": null,
       "min_width": null,
       "object_fit": null,
       "object_position": null,
       "order": null,
       "overflow": null,
       "overflow_x": null,
       "overflow_y": null,
       "padding": null,
       "right": null,
       "top": null,
       "visibility": null,
       "width": null
      }
     },
     "f32e4697e2b145f6bd6e932b511e3735": {
      "model_module": "@jupyter-widgets/controls",
      "model_module_version": "1.5.0",
      "model_name": "FloatProgressModel",
      "state": {
       "_dom_classes": [],
       "_model_module": "@jupyter-widgets/controls",
       "_model_module_version": "1.5.0",
       "_model_name": "FloatProgressModel",
       "_view_count": null,
       "_view_module": "@jupyter-widgets/controls",
       "_view_module_version": "1.5.0",
       "_view_name": "ProgressView",
       "bar_style": "success",
       "description": "",
       "description_tooltip": null,
       "layout": "IPY_MODEL_616b6d9e643648c3b552d423638c513b",
       "max": 65227.0,
       "min": 0.0,
       "orientation": "horizontal",
       "style": "IPY_MODEL_1b7feb26c77643f7abd1ef0e5bec8dc5",
       "value": 65227.0
      }
     },
     "f3388825ccf3431e802ac23102db0dbf": {
      "model_module": "@jupyter-widgets/controls",
      "model_module_version": "1.5.0",
      "model_name": "DescriptionStyleModel",
      "state": {
       "_model_module": "@jupyter-widgets/controls",
       "_model_module_version": "1.5.0",
       "_model_name": "DescriptionStyleModel",
       "_view_count": null,
       "_view_module": "@jupyter-widgets/base",
       "_view_module_version": "1.2.0",
       "_view_name": "StyleView",
       "description_width": ""
      }
     },
     "f3c606ccce784fa2bef5e6bd80ee88b0": {
      "model_module": "@jupyter-widgets/base",
      "model_module_version": "1.2.0",
      "model_name": "LayoutModel",
      "state": {
       "_model_module": "@jupyter-widgets/base",
       "_model_module_version": "1.2.0",
       "_model_name": "LayoutModel",
       "_view_count": null,
       "_view_module": "@jupyter-widgets/base",
       "_view_module_version": "1.2.0",
       "_view_name": "LayoutView",
       "align_content": null,
       "align_items": null,
       "align_self": null,
       "border": null,
       "bottom": null,
       "display": null,
       "flex": null,
       "flex_flow": null,
       "grid_area": null,
       "grid_auto_columns": null,
       "grid_auto_flow": null,
       "grid_auto_rows": null,
       "grid_column": null,
       "grid_gap": null,
       "grid_row": null,
       "grid_template_areas": null,
       "grid_template_columns": null,
       "grid_template_rows": null,
       "height": null,
       "justify_content": null,
       "justify_items": null,
       "left": null,
       "margin": null,
       "max_height": null,
       "max_width": null,
       "min_height": null,
       "min_width": null,
       "object_fit": null,
       "object_position": null,
       "order": null,
       "overflow": null,
       "overflow_x": null,
       "overflow_y": null,
       "padding": null,
       "right": null,
       "top": null,
       "visibility": null,
       "width": null
      }
     },
     "f3cbe2c0da5f4f0fbd66d336b3bcb479": {
      "model_module": "@jupyter-widgets/controls",
      "model_module_version": "1.5.0",
      "model_name": "FloatProgressModel",
      "state": {
       "_dom_classes": [],
       "_model_module": "@jupyter-widgets/controls",
       "_model_module_version": "1.5.0",
       "_model_name": "FloatProgressModel",
       "_view_count": null,
       "_view_module": "@jupyter-widgets/controls",
       "_view_module_version": "1.5.0",
       "_view_name": "ProgressView",
       "bar_style": "success",
       "description": "",
       "description_tooltip": null,
       "layout": "IPY_MODEL_f3c606ccce784fa2bef5e6bd80ee88b0",
       "max": 100.0,
       "min": 0.0,
       "orientation": "horizontal",
       "style": "IPY_MODEL_da4d201dedf147608e7a8885b87e8491",
       "value": 100.0
      }
     },
     "f673191785814ff090690001af6cff66": {
      "model_module": "@jupyter-widgets/base",
      "model_module_version": "1.2.0",
      "model_name": "LayoutModel",
      "state": {
       "_model_module": "@jupyter-widgets/base",
       "_model_module_version": "1.2.0",
       "_model_name": "LayoutModel",
       "_view_count": null,
       "_view_module": "@jupyter-widgets/base",
       "_view_module_version": "1.2.0",
       "_view_name": "LayoutView",
       "align_content": null,
       "align_items": null,
       "align_self": null,
       "border": null,
       "bottom": null,
       "display": null,
       "flex": null,
       "flex_flow": null,
       "grid_area": null,
       "grid_auto_columns": null,
       "grid_auto_flow": null,
       "grid_auto_rows": null,
       "grid_column": null,
       "grid_gap": null,
       "grid_row": null,
       "grid_template_areas": null,
       "grid_template_columns": null,
       "grid_template_rows": null,
       "height": null,
       "justify_content": null,
       "justify_items": null,
       "left": null,
       "margin": null,
       "max_height": null,
       "max_width": null,
       "min_height": null,
       "min_width": null,
       "object_fit": null,
       "object_position": null,
       "order": null,
       "overflow": null,
       "overflow_x": null,
       "overflow_y": null,
       "padding": null,
       "right": null,
       "top": null,
       "visibility": null,
       "width": null
      }
     },
     "f6b51cbd59f44847a5a377094322513f": {
      "model_module": "@jupyter-widgets/controls",
      "model_module_version": "1.5.0",
      "model_name": "HBoxModel",
      "state": {
       "_dom_classes": [],
       "_model_module": "@jupyter-widgets/controls",
       "_model_module_version": "1.5.0",
       "_model_name": "HBoxModel",
       "_view_count": null,
       "_view_module": "@jupyter-widgets/controls",
       "_view_module_version": "1.5.0",
       "_view_name": "HBoxView",
       "box_style": "",
       "children": [
        "IPY_MODEL_ffc5d209590f4c71b191a9a2331dda1d",
        "IPY_MODEL_ba46cd89eb3e4d79a7129958a30c4fc1",
        "IPY_MODEL_1432b1b86d9d494882140ffab9b8de22"
       ],
       "layout": "IPY_MODEL_665d11a156184ad5a3c2cf298918872f"
      }
     },
     "fa53cadf2b604d66ad9b70dba464dc03": {
      "model_module": "@jupyter-widgets/base",
      "model_module_version": "1.2.0",
      "model_name": "LayoutModel",
      "state": {
       "_model_module": "@jupyter-widgets/base",
       "_model_module_version": "1.2.0",
       "_model_name": "LayoutModel",
       "_view_count": null,
       "_view_module": "@jupyter-widgets/base",
       "_view_module_version": "1.2.0",
       "_view_name": "LayoutView",
       "align_content": null,
       "align_items": null,
       "align_self": null,
       "border": null,
       "bottom": null,
       "display": null,
       "flex": null,
       "flex_flow": null,
       "grid_area": null,
       "grid_auto_columns": null,
       "grid_auto_flow": null,
       "grid_auto_rows": null,
       "grid_column": null,
       "grid_gap": null,
       "grid_row": null,
       "grid_template_areas": null,
       "grid_template_columns": null,
       "grid_template_rows": null,
       "height": null,
       "justify_content": null,
       "justify_items": null,
       "left": null,
       "margin": null,
       "max_height": null,
       "max_width": null,
       "min_height": null,
       "min_width": null,
       "object_fit": null,
       "object_position": null,
       "order": null,
       "overflow": null,
       "overflow_x": null,
       "overflow_y": null,
       "padding": null,
       "right": null,
       "top": null,
       "visibility": null,
       "width": null
      }
     },
     "fa914ded8f2c402697de1c6306403e3a": {
      "model_module": "@jupyter-widgets/controls",
      "model_module_version": "1.5.0",
      "model_name": "ProgressStyleModel",
      "state": {
       "_model_module": "@jupyter-widgets/controls",
       "_model_module_version": "1.5.0",
       "_model_name": "ProgressStyleModel",
       "_view_count": null,
       "_view_module": "@jupyter-widgets/base",
       "_view_module_version": "1.2.0",
       "_view_name": "StyleView",
       "bar_color": null,
       "description_width": ""
      }
     },
     "fb3c17e679244031975939bf76256ae1": {
      "model_module": "@jupyter-widgets/base",
      "model_module_version": "1.2.0",
      "model_name": "LayoutModel",
      "state": {
       "_model_module": "@jupyter-widgets/base",
       "_model_module_version": "1.2.0",
       "_model_name": "LayoutModel",
       "_view_count": null,
       "_view_module": "@jupyter-widgets/base",
       "_view_module_version": "1.2.0",
       "_view_name": "LayoutView",
       "align_content": null,
       "align_items": null,
       "align_self": null,
       "border": null,
       "bottom": null,
       "display": null,
       "flex": null,
       "flex_flow": null,
       "grid_area": null,
       "grid_auto_columns": null,
       "grid_auto_flow": null,
       "grid_auto_rows": null,
       "grid_column": null,
       "grid_gap": null,
       "grid_row": null,
       "grid_template_areas": null,
       "grid_template_columns": null,
       "grid_template_rows": null,
       "height": null,
       "justify_content": null,
       "justify_items": null,
       "left": null,
       "margin": null,
       "max_height": null,
       "max_width": null,
       "min_height": null,
       "min_width": null,
       "object_fit": null,
       "object_position": null,
       "order": null,
       "overflow": null,
       "overflow_x": null,
       "overflow_y": null,
       "padding": null,
       "right": null,
       "top": null,
       "visibility": null,
       "width": null
      }
     },
     "fbbe6e89bdf54e7998d5c0dc06dad49f": {
      "model_module": "@jupyter-widgets/base",
      "model_module_version": "1.2.0",
      "model_name": "LayoutModel",
      "state": {
       "_model_module": "@jupyter-widgets/base",
       "_model_module_version": "1.2.0",
       "_model_name": "LayoutModel",
       "_view_count": null,
       "_view_module": "@jupyter-widgets/base",
       "_view_module_version": "1.2.0",
       "_view_name": "LayoutView",
       "align_content": null,
       "align_items": null,
       "align_self": null,
       "border": null,
       "bottom": null,
       "display": null,
       "flex": null,
       "flex_flow": null,
       "grid_area": null,
       "grid_auto_columns": null,
       "grid_auto_flow": null,
       "grid_auto_rows": null,
       "grid_column": null,
       "grid_gap": null,
       "grid_row": null,
       "grid_template_areas": null,
       "grid_template_columns": null,
       "grid_template_rows": null,
       "height": null,
       "justify_content": null,
       "justify_items": null,
       "left": null,
       "margin": null,
       "max_height": null,
       "max_width": null,
       "min_height": null,
       "min_width": null,
       "object_fit": null,
       "object_position": null,
       "order": null,
       "overflow": null,
       "overflow_x": null,
       "overflow_y": null,
       "padding": null,
       "right": null,
       "top": null,
       "visibility": null,
       "width": null
      }
     },
     "fc7fb19df05240db969b4f92bc5d14d9": {
      "model_module": "@jupyter-widgets/controls",
      "model_module_version": "1.5.0",
      "model_name": "DescriptionStyleModel",
      "state": {
       "_model_module": "@jupyter-widgets/controls",
       "_model_module_version": "1.5.0",
       "_model_name": "DescriptionStyleModel",
       "_view_count": null,
       "_view_module": "@jupyter-widgets/base",
       "_view_module_version": "1.2.0",
       "_view_name": "StyleView",
       "description_width": ""
      }
     },
     "fc97f3cc267f44e2b9d14e9765bb63ff": {
      "model_module": "@jupyter-widgets/controls",
      "model_module_version": "1.5.0",
      "model_name": "DescriptionStyleModel",
      "state": {
       "_model_module": "@jupyter-widgets/controls",
       "_model_module_version": "1.5.0",
       "_model_name": "DescriptionStyleModel",
       "_view_count": null,
       "_view_module": "@jupyter-widgets/base",
       "_view_module_version": "1.2.0",
       "_view_name": "StyleView",
       "description_width": ""
      }
     },
     "fd5bf151cdad40e89471f9fe147a74f3": {
      "model_module": "@jupyter-widgets/base",
      "model_module_version": "1.2.0",
      "model_name": "LayoutModel",
      "state": {
       "_model_module": "@jupyter-widgets/base",
       "_model_module_version": "1.2.0",
       "_model_name": "LayoutModel",
       "_view_count": null,
       "_view_module": "@jupyter-widgets/base",
       "_view_module_version": "1.2.0",
       "_view_name": "LayoutView",
       "align_content": null,
       "align_items": null,
       "align_self": null,
       "border": null,
       "bottom": null,
       "display": null,
       "flex": null,
       "flex_flow": null,
       "grid_area": null,
       "grid_auto_columns": null,
       "grid_auto_flow": null,
       "grid_auto_rows": null,
       "grid_column": null,
       "grid_gap": null,
       "grid_row": null,
       "grid_template_areas": null,
       "grid_template_columns": null,
       "grid_template_rows": null,
       "height": null,
       "justify_content": null,
       "justify_items": null,
       "left": null,
       "margin": null,
       "max_height": null,
       "max_width": null,
       "min_height": null,
       "min_width": null,
       "object_fit": null,
       "object_position": null,
       "order": null,
       "overflow": null,
       "overflow_x": null,
       "overflow_y": null,
       "padding": null,
       "right": null,
       "top": null,
       "visibility": null,
       "width": null
      }
     },
     "fd9e42a4421b4290aedff5374cbc6ae0": {
      "model_module": "@jupyter-widgets/controls",
      "model_module_version": "1.5.0",
      "model_name": "HTMLModel",
      "state": {
       "_dom_classes": [],
       "_model_module": "@jupyter-widgets/controls",
       "_model_module_version": "1.5.0",
       "_model_name": "HTMLModel",
       "_view_count": null,
       "_view_module": "@jupyter-widgets/controls",
       "_view_module_version": "1.5.0",
       "_view_name": "HTMLView",
       "description": "",
       "description_tooltip": null,
       "layout": "IPY_MODEL_53f66748cc7f48d08a7257fd70f43c1c",
       "placeholder": "​",
       "style": "IPY_MODEL_441cd5c1168746cb96e1cfaceae6c395",
       "value": "100%"
      }
     },
     "ffc5d209590f4c71b191a9a2331dda1d": {
      "model_module": "@jupyter-widgets/controls",
      "model_module_version": "1.5.0",
      "model_name": "HTMLModel",
      "state": {
       "_dom_classes": [],
       "_model_module": "@jupyter-widgets/controls",
       "_model_module_version": "1.5.0",
       "_model_name": "HTMLModel",
       "_view_count": null,
       "_view_module": "@jupyter-widgets/controls",
       "_view_module_version": "1.5.0",
       "_view_name": "HTMLView",
       "description": "",
       "description_tooltip": null,
       "layout": "IPY_MODEL_32ec88cfc69a461a8310d8378b01b3c8",
       "placeholder": "​",
       "style": "IPY_MODEL_9ce9049d33454f808bcbf074e78b72f2",
       "value": "model.safetensors: 100%"
      }
     }
    },
    "version_major": 2,
    "version_minor": 0
   }
  }
 },
 "nbformat": 4,
 "nbformat_minor": 5
}
